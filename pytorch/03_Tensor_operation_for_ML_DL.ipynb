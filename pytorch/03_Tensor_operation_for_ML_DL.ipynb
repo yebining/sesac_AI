{
  "nbformat": 4,
  "nbformat_minor": 0,
  "metadata": {
    "colab": {
      "provenance": []
    },
    "kernelspec": {
      "name": "python3",
      "display_name": "Python 3"
    },
    "language_info": {
      "name": "python"
    },
    "accelerator": "GPU",
    "gpuClass": "standard"
  },
  "cells": [
    {
      "cell_type": "code",
      "execution_count": null,
      "metadata": {
        "id": "71mFp9eG8y98"
      },
      "outputs": [],
      "source": [
        "import torch\n",
        "import torch.nn.functional as F"
      ]
    },
    {
      "cell_type": "code",
      "source": [
        "tensor = torch.FloatTensor([0.5, 0.7, 0.1])\n",
        "h_tensor = F.softmax(tensor, dim=0)\n",
        "h_tensor"
      ],
      "metadata": {
        "colab": {
          "base_uri": "https://localhost:8080/"
        },
        "id": "KV4csM7TKYgJ",
        "outputId": "35d45471-effd-48b6-f35a-23674470da85"
      },
      "execution_count": null,
      "outputs": [
        {
          "output_type": "execute_result",
          "data": {
            "text/plain": [
              "tensor([0.3458, 0.4224, 0.2318])"
            ]
          },
          "metadata": {},
          "execution_count": 2
        }
      ]
    },
    {
      "cell_type": "code",
      "source": [
        "y= torch.randint(5, (10,5))\n",
        "y_label = y.argmax(dim=1)\n",
        "y_label"
      ],
      "metadata": {
        "colab": {
          "base_uri": "https://localhost:8080/"
        },
        "id": "r_ZvXfdDKtPS",
        "outputId": "8df5b2e9-7614-439a-8ed5-7b7a7738d93a"
      },
      "execution_count": null,
      "outputs": [
        {
          "output_type": "execute_result",
          "data": {
            "text/plain": [
              "tensor([3, 0, 4, 1, 0, 3, 1, 2, 2, 0])"
            ]
          },
          "metadata": {},
          "execution_count": 8
        }
      ]
    },
    {
      "cell_type": "code",
      "source": [
        "torch.nn.functional.one_hot(y_label)\n",
        "F.one_hot(y_label)"
      ],
      "metadata": {
        "colab": {
          "base_uri": "https://localhost:8080/"
        },
        "id": "VGaQgYq3K3aB",
        "outputId": "ec43f991-05b3-4987-a0df-c008d3041b3e"
      },
      "execution_count": null,
      "outputs": [
        {
          "output_type": "execute_result",
          "data": {
            "text/plain": [
              "tensor([[0, 0, 0, 1, 0],\n",
              "        [1, 0, 0, 0, 0],\n",
              "        [0, 0, 0, 0, 1],\n",
              "        [0, 1, 0, 0, 0],\n",
              "        [1, 0, 0, 0, 0],\n",
              "        [0, 0, 0, 1, 0],\n",
              "        [0, 1, 0, 0, 0],\n",
              "        [0, 0, 1, 0, 0],\n",
              "        [0, 0, 1, 0, 0],\n",
              "        [1, 0, 0, 0, 0]])"
            ]
          },
          "metadata": {},
          "execution_count": 9
        }
      ]
    },
    {
      "cell_type": "markdown",
      "source": [
        "## cartesian_prod"
      ],
      "metadata": {
        "id": "2pz9r_iN82RE"
      }
    },
    {
      "cell_type": "code",
      "source": [
        "import itertools\n",
        "\n",
        "a=[1,2]\n",
        "b=[4,5]\n",
        "\n",
        "list(itertools.product(a,b))"
      ],
      "metadata": {
        "id": "oWOHvwuh82kV",
        "colab": {
          "base_uri": "https://localhost:8080/"
        },
        "outputId": "25f3b898-7720-49d4-dbb9-62d0e9f19e6c"
      },
      "execution_count": null,
      "outputs": [
        {
          "output_type": "execute_result",
          "data": {
            "text/plain": [
              "[(1, 4), (1, 5), (2, 4), (2, 5)]"
            ]
          },
          "metadata": {},
          "execution_count": 10
        }
      ]
    },
    {
      "cell_type": "code",
      "source": [
        "import torch\n",
        "tensor_a = torch.tensor(a)\n",
        "tensor_b = torch.tensor(b)\n",
        "torch.cartesian_prod(tensor_a, tensor_b)"
      ],
      "metadata": {
        "colab": {
          "base_uri": "https://localhost:8080/"
        },
        "id": "7poT1a4lLXsp",
        "outputId": "7f44a5d9-d737-4f3c-f943-9874e43f5351"
      },
      "execution_count": null,
      "outputs": [
        {
          "output_type": "execute_result",
          "data": {
            "text/plain": [
              "tensor([[1, 4],\n",
              "        [1, 5],\n",
              "        [2, 4],\n",
              "        [2, 5]])"
            ]
          },
          "metadata": {},
          "execution_count": 11
        }
      ]
    },
    {
      "cell_type": "markdown",
      "source": [
        "## Torch autograd\n",
        "$$\n",
        "y = w^2 \\\\ \n",
        "z = 10*y + 50 \\\\\n",
        "z = 10*w^2 + 50 \n",
        "$$"
      ],
      "metadata": {
        "id": "zHHuvrnq83Hs"
      }
    },
    {
      "cell_type": "code",
      "source": [
        "w=torch.tensor(2.0, requires_grad=True)\n",
        "y= w ** 2\n",
        "z= 10*y+50\n",
        "\n",
        "z.backward()\n",
        "w.grad"
      ],
      "metadata": {
        "id": "rMVyxH9t862E",
        "colab": {
          "base_uri": "https://localhost:8080/"
        },
        "outputId": "ee6f681f-fbf7-4be8-9fa7-b115f7ee0d87"
      },
      "execution_count": null,
      "outputs": [
        {
          "output_type": "execute_result",
          "data": {
            "text/plain": [
              "tensor(40.)"
            ]
          },
          "metadata": {},
          "execution_count": 12
        }
      ]
    },
    {
      "cell_type": "markdown",
      "source": [
        "$$ Q = 3a^3 - b^2  $$"
      ],
      "metadata": {
        "id": "-MkOZyBX87tv"
      }
    },
    {
      "cell_type": "code",
      "source": [
        "a=torch.tensor([2., 3.], requires_grad=True)\n",
        "b=torch.tensor([6., 4.], requires_grad=True)\n",
        "\n",
        "Q=3*a**3-b**2\n",
        "\n",
        "eternal_grad = torch.tensor([1., 1.])\n",
        "Q.backward(gradient=eternal_grad)\n",
        "a.grad"
      ],
      "metadata": {
        "id": "7n4tA9EP89fx",
        "colab": {
          "base_uri": "https://localhost:8080/"
        },
        "outputId": "b749a3eb-9ffd-4bda-e599-c995ea2b3212"
      },
      "execution_count": null,
      "outputs": [
        {
          "output_type": "execute_result",
          "data": {
            "text/plain": [
              "tensor([36., 81.])"
            ]
          },
          "metadata": {},
          "execution_count": 16
        }
      ]
    },
    {
      "cell_type": "code",
      "source": [
        "b.grad"
      ],
      "metadata": {
        "colab": {
          "base_uri": "https://localhost:8080/"
        },
        "id": "cKsmjSoDOCA6",
        "outputId": "63d004bb-a893-4f2e-92ed-d38e6813dac6"
      },
      "execution_count": null,
      "outputs": [
        {
          "output_type": "execute_result",
          "data": {
            "text/plain": [
              "tensor([-12.,  -8.])"
            ]
          },
          "metadata": {},
          "execution_count": 17
        }
      ]
    },
    {
      "cell_type": "markdown",
      "source": [
        "$$ \\frac{\\partial Q}{\\partial a} = 9a^2 $$  \n",
        "\n",
        "$$ \\frac{\\partial Q}{\\partial b} = -2b $$"
      ],
      "metadata": {
        "id": "_cdYQXM6898v"
      }
    },
    {
      "cell_type": "code",
      "source": [],
      "metadata": {
        "id": "HvNV3lKM8_53"
      },
      "execution_count": null,
      "outputs": []
    }
  ]
}