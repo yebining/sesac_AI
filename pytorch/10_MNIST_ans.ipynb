{
  "nbformat": 4,
  "nbformat_minor": 0,
  "metadata": {
    "colab": {
      "provenance": []
    },
    "kernelspec": {
      "name": "python3",
      "display_name": "Python 3"
    },
    "language_info": {
      "name": "python"
    },
    "accelerator": "GPU",
    "gpuClass": "standard"
  },
  "cells": [
    {
      "cell_type": "code",
      "execution_count": null,
      "metadata": {
        "id": "rDjZ2KtM5bCy",
        "colab": {
          "base_uri": "https://localhost:8080/"
        },
        "outputId": "fbbac771-e13c-4fcd-be25-4f9a6f8b6bcd"
      },
      "outputs": [
        {
          "output_type": "stream",
          "name": "stdout",
          "text": [
            "Mounted at /content/drive\n",
            "/content\n"
          ]
        }
      ],
      "source": [
        "your_path = \"/content/\"\n",
        "try:\n",
        "    from google.colab import drive\n",
        "    drive.mount('/content/drive')\n",
        "    import os\n",
        "    os.chdir(your_path)\n",
        "    print(os.getcwd())\n",
        "except ModuleNotFoundError:\n",
        "    print(\"you are not in google colab, pass this phase\")\n",
        "import numpy as np\n",
        "import matplotlib.pyplot as plt\n",
        "from torchvision import datasets, transforms\n",
        "from torch.utils.data import DataLoader"
      ]
    },
    {
      "cell_type": "markdown",
      "source": [
        "# Neural Network with MNIST \n",
        "\n",
        "## torchvision 패키지\n",
        "\n",
        "torchvision 은 컴퓨터 비전과 관련된 유틸들을 모아둔 패키지다. "
      ],
      "metadata": {
        "id": "nS-n35Jh5iUd"
      }
    },
    {
      "cell_type": "code",
      "source": [
        "# 데이터 경로\n",
        "data_path = \"./\"\n",
        "\n",
        "train_dataset = datasets.MNIST(\n",
        "    root=data_path,\n",
        "    train=True, \n",
        "    transform=transforms.ToTensor(),\n",
        "    download=True)\n",
        "\n",
        "train_loader = DataLoader(\n",
        "    dataset=train_dataset,\n",
        "    batch_size=64, \n",
        "    shuffle=True)\n",
        "\n",
        "test_dataset = datasets.MNIST(\n",
        "    root=data_path,\n",
        "    train=False, \n",
        "    transform=transforms.ToTensor(),\n",
        "    download=True)\n",
        "\n",
        "test_loader = DataLoader(\n",
        "    dataset=test_dataset,\n",
        "    batch_size=64, \n",
        "    shuffle=True)"
      ],
      "metadata": {
        "id": "PU1qm8He5inE",
        "colab": {
          "base_uri": "https://localhost:8080/"
        },
        "outputId": "6d7931cf-1f31-4c42-a617-175f2950d76c"
      },
      "execution_count": null,
      "outputs": [
        {
          "output_type": "stream",
          "name": "stdout",
          "text": [
            "Downloading http://yann.lecun.com/exdb/mnist/train-images-idx3-ubyte.gz\n",
            "Downloading http://yann.lecun.com/exdb/mnist/train-images-idx3-ubyte.gz to ./MNIST/raw/train-images-idx3-ubyte.gz\n"
          ]
        },
        {
          "output_type": "stream",
          "name": "stderr",
          "text": [
            "100%|██████████| 9912422/9912422 [00:00<00:00, 226954043.58it/s]"
          ]
        },
        {
          "output_type": "stream",
          "name": "stdout",
          "text": [
            "Extracting ./MNIST/raw/train-images-idx3-ubyte.gz to ./MNIST/raw\n"
          ]
        },
        {
          "output_type": "stream",
          "name": "stderr",
          "text": [
            "\n"
          ]
        },
        {
          "output_type": "stream",
          "name": "stdout",
          "text": [
            "\n",
            "Downloading http://yann.lecun.com/exdb/mnist/train-labels-idx1-ubyte.gz\n",
            "Downloading http://yann.lecun.com/exdb/mnist/train-labels-idx1-ubyte.gz to ./MNIST/raw/train-labels-idx1-ubyte.gz\n"
          ]
        },
        {
          "output_type": "stream",
          "name": "stderr",
          "text": [
            "100%|██████████| 28881/28881 [00:00<00:00, 105795365.79it/s]"
          ]
        },
        {
          "output_type": "stream",
          "name": "stdout",
          "text": [
            "Extracting ./MNIST/raw/train-labels-idx1-ubyte.gz to ./MNIST/raw\n",
            "\n",
            "Downloading http://yann.lecun.com/exdb/mnist/t10k-images-idx3-ubyte.gz\n",
            "Downloading http://yann.lecun.com/exdb/mnist/t10k-images-idx3-ubyte.gz to ./MNIST/raw/t10k-images-idx3-ubyte.gz\n"
          ]
        },
        {
          "output_type": "stream",
          "name": "stderr",
          "text": [
            "\n",
            "100%|██████████| 1648877/1648877 [00:00<00:00, 75696850.99it/s]\n"
          ]
        },
        {
          "output_type": "stream",
          "name": "stdout",
          "text": [
            "Extracting ./MNIST/raw/t10k-images-idx3-ubyte.gz to ./MNIST/raw\n",
            "\n",
            "Downloading http://yann.lecun.com/exdb/mnist/t10k-labels-idx1-ubyte.gz\n",
            "Downloading http://yann.lecun.com/exdb/mnist/t10k-labels-idx1-ubyte.gz to ./MNIST/raw/t10k-labels-idx1-ubyte.gz\n"
          ]
        },
        {
          "output_type": "stream",
          "name": "stderr",
          "text": [
            "100%|██████████| 4542/4542 [00:00<00:00, 6135436.00it/s]\n"
          ]
        },
        {
          "output_type": "stream",
          "name": "stdout",
          "text": [
            "Extracting ./MNIST/raw/t10k-labels-idx1-ubyte.gz to ./MNIST/raw\n",
            "\n"
          ]
        }
      ]
    },
    {
      "cell_type": "code",
      "source": [
        "fig, axes = plt.subplots(3, 4)\n",
        "img_tensors = train_dataset.data[:12]\n",
        "for ax, img in zip(axes.flatten(), img_tensors):\n",
        "    ax.imshow(img, cmap=\"gray\")\n",
        "    ax.axis(\"off\")"
      ],
      "metadata": {
        "id": "51kHTgaD5l8c",
        "colab": {
          "base_uri": "https://localhost:8080/",
          "height": 405
        },
        "outputId": "3e707f0f-cec6-429b-8d16-7837c3d8562f"
      },
      "execution_count": null,
      "outputs": [
        {
          "output_type": "display_data",
          "data": {
            "text/plain": [
              "<Figure size 640x480 with 12 Axes>"
            ],
            "image/png": "[encoded data removed]"
          },
          "metadata": {}
        }
      ]
    },
    {
      "cell_type": "markdown",
      "source": [
        "## MNIST 모델(Coding Part)"
      ],
      "metadata": {
        "id": "CpkFKbq35ncN"
      }
    },
    {
      "cell_type": "code",
      "source": [
        "import torch\n",
        "import torch.nn as nn\n",
        "import torch.optim as optim"
      ],
      "metadata": {
        "id": "BIMlKBld5ns8"
      },
      "execution_count": null,
      "outputs": []
    },
    {
      "cell_type": "markdown",
      "source": [
        "### **네트워크 설계**\n",
        "\n",
        "**1. 다음의 구조를 참고하여 Network 클래스를 완성하시오.**\n",
        "\n",
        "* Input Size = (B, 1, 28, 28)\n",
        "* Output Size = (B, 10)\n",
        "* Linear Layer 1(`nn.Linear`): Hidden size = 300  \n",
        "* Linear Layer 2(`nn.Linear`): Hidden size = 100 \n",
        "* Activation Function(`nn.ReLU`): ReLU\n",
        "* Loss Function(`nn.CrossEntropyLoss`): Cross Entropy Loss\n",
        "* Optimizer(`optim.Adam`): Adam"
      ],
      "metadata": {
        "id": "B-F6XC7w5qCu"
      }
    },
    {
      "cell_type": "code",
      "source": [
        "class Network(nn.Module):\n",
        "    def __init__(self):\n",
        "        super(Network, self).__init__()\n",
        "        # 층을 구성\n",
        "        self.layers = nn.Sequential(\n",
        "            nn.Linear(1*28*28, 300), # in_feature, out_feature\n",
        "            nn.ReLU(),\n",
        "            nn.Linear(300, 100),\n",
        "            nn.ReLU(),\n",
        "            nn.Linear(100, 10)\n",
        "        )\n",
        "\n",
        "    def forward(self, x):\n",
        "        # forward propagation 수행\n",
        "        # x의 차원을 (미니배치, 28*28)에 알맞게 수정한다.\n",
        "        x = x.view(x.size(0), -1)\n",
        "        \"\"\"write your code\"\"\"\n",
        "        logits = self.layers(x)\n",
        "        return logits"
      ],
      "metadata": {
        "id": "IZBbBKCu5qWr"
      },
      "execution_count": null,
      "outputs": []
    },
    {
      "cell_type": "markdown",
      "source": [
        "### **손실함수 및 옵티마이저**\n",
        "\n",
        "** 2. loss function과 optimizer를 선택하시오 **\n"
      ],
      "metadata": {
        "id": "VcPoJHhx5s9P"
      }
    },
    {
      "cell_type": "code",
      "source": [
        "device = \"cuda\" if torch.cuda.is_available() else \"cpu\"\n",
        "\n",
        "# 커스텀 모듈 호출\n",
        "model = Network().to(device)\n",
        "\n",
        "loss_function = nn.CrossEntropyLoss()\n",
        "optimizer = optim.Adam(model.parameters())"
      ],
      "metadata": {
        "id": "7rU2jpci5tXF"
      },
      "execution_count": null,
      "outputs": []
    },
    {
      "cell_type": "markdown",
      "source": [
        "## 모델 훈련\n",
        "\n",
        "훈련 데이터로 모델을 훈련시키고, 테스트 데이터로 최적의 모델을 결정한다."
      ],
      "metadata": {
        "id": "ZzXq4MTC5vu9"
      }
    },
    {
      "cell_type": "code",
      "source": [
        "n_train = len(train_dataset)\n",
        "n_test = len(test_dataset)\n",
        "n_step = 10\n",
        "print_step = 300\n",
        "best_accuracy = 0\n",
        "\n",
        "for step in range(n_step):\n",
        "    print(f\"[Step] {step+1}/{n_step}\\n [Training Step]\")\n",
        "    # Training\n",
        "    model.train()\n",
        "    for batch_idx, (data, target) in enumerate(train_loader):\n",
        "        # 입력과 타겟 텐서에 GPU 를 사용여부 전달\n",
        "        data, target = data.to(device), target.to(device)\n",
        "        # 경사 초기화\n",
        "        model.zero_grad()\n",
        "        # 순방향 전파\n",
        "        output = model(data)\n",
        "        # 손실값 계산\n",
        "        loss = loss_function(output, target)\n",
        "        # 역방향 전파\n",
        "        loss.backward()\n",
        "        # 매개변수 업데이트\n",
        "        optimizer.step()\n",
        "        # 중간 과정 print\n",
        "        if batch_idx % print_step == 0:\n",
        "            percentage = (batch_idx*64 / n_train) * 100\n",
        "            print(f\" - [{percentage:.2f}%] train loss: {loss:.4f}\")\n",
        "            \n",
        "    # Validation\n",
        "    model.eval()\n",
        "    test_loss = 0\n",
        "    correct = 0\n",
        "    # torch.no_grad 를 사용하면 requires_grad 를 꺼두게 된다.\n",
        "    with torch.no_grad():\n",
        "        for data, target in test_loader:\n",
        "            # 입력과 타겟 텐서에 GPU 를 사용여부 전달\n",
        "            data, target = data.to(device), target.to(device)\n",
        "            # 순방향전파\n",
        "            output = model(data)\n",
        "            # 손실값 계산\n",
        "            test_loss += loss_function(output, target).item()\n",
        "            # 예측 값에 해당하는 클래스 번호 반환\n",
        "            pred = output.softmax(1).argmax(dim=1, keepdim=True)\n",
        "            # 정확하게 예측한 개수를 기록한다\n",
        "            correct += pred.eq(target.view_as(pred)).sum().item()\n",
        "    test_accuracy = correct / n_test\n",
        "    print(f\" [Validation Step]\")\n",
        "    print(f\" - test loss: {test_loss:.4f} test accuracy: {test_accuracy*100:.2f} %\")\n",
        "    \n",
        "    # 제일 성능을 보인 좋은 모델 저장하기\n",
        "    if test_accuracy > best_accuracy:\n",
        "        best_accuracy = test_accuracy\n",
        "        torch.save(model.state_dict(), \"best_model-mnist.pt\")\n",
        "    "
      ],
      "metadata": {
        "id": "EP1dAC3I5wDk",
        "colab": {
          "base_uri": "https://localhost:8080/"
        },
        "outputId": "e3ddf6c5-b43a-4266-c1c2-0491e09dacd9"
      },
      "execution_count": null,
      "outputs": [
        {
          "output_type": "stream",
          "name": "stdout",
          "text": [
            "[Step] 1/10\n",
            " [Training Step]\n",
            " - [0.00%] train loss: 2.2865\n",
            " - [32.00%] train loss: 0.2100\n",
            " - [64.00%] train loss: 0.1381\n",
            " - [96.00%] train loss: 0.2158\n",
            " [Validation Step]\n",
            " - test loss: 20.3233 test accuracy: 96.11 %\n",
            "[Step] 2/10\n",
            " [Training Step]\n",
            " - [0.00%] train loss: 0.1001\n",
            " - [32.00%] train loss: 0.2166\n",
            " - [64.00%] train loss: 0.0948\n",
            " - [96.00%] train loss: 0.0372\n",
            " [Validation Step]\n",
            " - test loss: 15.0783 test accuracy: 97.04 %\n",
            "[Step] 3/10\n",
            " [Training Step]\n",
            " - [0.00%] train loss: 0.0242\n",
            " - [32.00%] train loss: 0.0936\n",
            " - [64.00%] train loss: 0.0467\n",
            " - [96.00%] train loss: 0.0172\n",
            " [Validation Step]\n",
            " - test loss: 12.5133 test accuracy: 97.36 %\n",
            "[Step] 4/10\n",
            " [Training Step]\n",
            " - [0.00%] train loss: 0.0440\n",
            " - [32.00%] train loss: 0.0593\n",
            " - [64.00%] train loss: 0.0492\n",
            " - [96.00%] train loss: 0.0190\n",
            " [Validation Step]\n",
            " - test loss: 11.3011 test accuracy: 97.66 %\n",
            "[Step] 5/10\n",
            " [Training Step]\n",
            " - [0.00%] train loss: 0.0249\n",
            " - [32.00%] train loss: 0.0286\n",
            " - [64.00%] train loss: 0.0254\n",
            " - [96.00%] train loss: 0.2301\n",
            " [Validation Step]\n",
            " - test loss: 11.8600 test accuracy: 97.60 %\n",
            "[Step] 6/10\n",
            " [Training Step]\n",
            " - [0.00%] train loss: 0.0369\n",
            " - [32.00%] train loss: 0.0131\n",
            " - [64.00%] train loss: 0.0029\n",
            " - [96.00%] train loss: 0.0020\n",
            " [Validation Step]\n",
            " - test loss: 9.8610 test accuracy: 97.95 %\n",
            "[Step] 7/10\n",
            " [Training Step]\n",
            " - [0.00%] train loss: 0.0053\n",
            " - [32.00%] train loss: 0.0269\n",
            " - [64.00%] train loss: 0.0499\n",
            " - [96.00%] train loss: 0.0334\n",
            " [Validation Step]\n",
            " - test loss: 10.6198 test accuracy: 98.19 %\n",
            "[Step] 8/10\n",
            " [Training Step]\n",
            " - [0.00%] train loss: 0.0006\n",
            " - [32.00%] train loss: 0.0062\n",
            " - [64.00%] train loss: 0.0018\n",
            " - [96.00%] train loss: 0.0392\n",
            " [Validation Step]\n",
            " - test loss: 12.9839 test accuracy: 97.75 %\n",
            "[Step] 9/10\n",
            " [Training Step]\n",
            " - [0.00%] train loss: 0.0328\n",
            " - [32.00%] train loss: 0.0845\n",
            " - [64.00%] train loss: 0.0396\n",
            " - [96.00%] train loss: 0.0117\n",
            " [Validation Step]\n",
            " - test loss: 12.1276 test accuracy: 98.11 %\n",
            "[Step] 10/10\n",
            " [Training Step]\n",
            " - [0.00%] train loss: 0.0008\n",
            " - [32.00%] train loss: 0.0033\n",
            " - [64.00%] train loss: 0.0017\n",
            " - [96.00%] train loss: 0.0681\n",
            " [Validation Step]\n",
            " - test loss: 13.0481 test accuracy: 97.71 %\n"
          ]
        }
      ]
    },
    {
      "cell_type": "markdown",
      "source": [
        "## 이미지를 그려보고 테스트 해보자!"
      ],
      "metadata": {
        "id": "xAzDQQU95zLG"
      }
    },
    {
      "cell_type": "code",
      "source": [
        "load_path = \"best_model-mnist.pt\"\n",
        "model = Network()\n",
        "model.load_state_dict(torch.load(load_path, map_location=\"cpu\"))\n",
        "\n",
        "def predict(model, x):\n",
        "    model.eval()\n",
        "    output = model(x)\n",
        "    pred = output.argmax(1)\n",
        "    print(f\"Predict Number is {pred.item()}\")"
      ],
      "metadata": {
        "id": "NdZJTCAr5zdb"
      },
      "execution_count": null,
      "outputs": []
    },
    {
      "cell_type": "code",
      "source": [
        "try:\n",
        "    from google.colab.output import eval_js\n",
        "    from IPython.display import HTML, Image\n",
        "    from base64 import b64decode\n",
        "except ModuleNotFoundError:\n",
        "    print(\"only support in google colabotory\")"
      ],
      "metadata": {
        "id": "uZ17Y2Ci512X"
      },
      "execution_count": null,
      "outputs": []
    },
    {
      "cell_type": "code",
      "source": [
        "canvas_html = \"\"\"\n",
        "<canvas width=%d height=%d></canvas>\n",
        "<button>Finish</button>\n",
        "<script>\n",
        "var canvas = document.querySelector('canvas')\n",
        "var ctx = canvas.getContext('2d')\n",
        "ctx.lineWidth = %d\n",
        "var button = document.querySelector('button')\n",
        "var mouse = {x: 0, y: 0}\n",
        "canvas.addEventListener('mousemove', function(e) {\n",
        "  mouse.x = e.pageX - this.offsetLeft\n",
        "  mouse.y = e.pageY - this.offsetTop\n",
        "})\n",
        "canvas.onmousedown = ()=>{\n",
        "  ctx.beginPath()\n",
        "  ctx.moveTo(mouse.x, mouse.y)\n",
        "  canvas.addEventListener('mousemove', onPaint)\n",
        "}\n",
        "canvas.onmouseup = ()=>{\n",
        "  canvas.removeEventListener('mousemove', onPaint)\n",
        "}\n",
        "var onPaint = ()=>{\n",
        "  ctx.lineTo(mouse.x, mouse.y)\n",
        "  ctx.stroke()\n",
        "}\n",
        "var data = new Promise(resolve=>{\n",
        "  button.onclick = ()=>{\n",
        "    resolve(canvas.toDataURL('image/png'))\n",
        "  }\n",
        "})\n",
        "</script>\n",
        "\"\"\"\n",
        "\n",
        "def draw(filename='drawing.png', w=480, h=480, line_width=25):\n",
        "    display(HTML(canvas_html % (w, h, line_width)))\n",
        "    data = eval_js(\"data\")\n",
        "    binary = b64decode(data.split(',')[1])\n",
        "    with open(filename, 'wb') as f:\n",
        "        f.write(binary)\n",
        "\n",
        "    from PIL import Image\n",
        "    import numpy as np\n",
        "    img = Image.open(filename)\n",
        "    img.thumbnail((28, 28), Image.ANTIALIAS)\n",
        "    x = np.array(img)[:, :, -1]\n",
        "    img = Image.fromarray(x)\n",
        "    img.save(filename)\n",
        "    print(f\"'{filename}' image saved!\")\n",
        "    \n",
        "def load_image(filename=\"drawing.png\"):\n",
        "    from PIL import Image\n",
        "    import numpy as np\n",
        "    import matplotlib.pyplot as plt\n",
        "    img = Image.open(filename)\n",
        "    x = np.array(img) / 255.0\n",
        "    plt.imshow(x)\n",
        "    plt.show()\n",
        "    return x[np.newaxis, np.newaxis, :, :]"
      ],
      "metadata": {
        "id": "7xBMIYnq53Ym"
      },
      "execution_count": null,
      "outputs": []
    },
    {
      "cell_type": "code",
      "source": [
        "draw()"
      ],
      "metadata": {
        "id": "xzbMrrw954sF",
        "colab": {
          "base_uri": "https://localhost:8080/",
          "height": 521
        },
        "outputId": "2d546f0b-b55f-48a3-a3a2-6f8cee97fc62"
      },
      "execution_count": null,
      "outputs": [
        {
          "output_type": "display_data",
          "data": {
            "text/plain": [
              "<IPython.core.display.HTML object>"
            ],
            "text/html": [
              "\n",
              "<canvas width=480 height=480></canvas>\n",
              "<button>Finish</button>\n",
              "<script>\n",
              "var canvas = document.querySelector('canvas')\n",
              "var ctx = canvas.getContext('2d')\n",
              "ctx.lineWidth = 25\n",
              "var button = document.querySelector('button')\n",
              "var mouse = {x: 0, y: 0}\n",
              "canvas.addEventListener('mousemove', function(e) {\n",
              "  mouse.x = e.pageX - this.offsetLeft\n",
              "  mouse.y = e.pageY - this.offsetTop\n",
              "})\n",
              "canvas.onmousedown = ()=>{\n",
              "  ctx.beginPath()\n",
              "  ctx.moveTo(mouse.x, mouse.y)\n",
              "  canvas.addEventListener('mousemove', onPaint)\n",
              "}\n",
              "canvas.onmouseup = ()=>{\n",
              "  canvas.removeEventListener('mousemove', onPaint)\n",
              "}\n",
              "var onPaint = ()=>{\n",
              "  ctx.lineTo(mouse.x, mouse.y)\n",
              "  ctx.stroke()\n",
              "}\n",
              "var data = new Promise(resolve=>{\n",
              "  button.onclick = ()=>{\n",
              "    resolve(canvas.toDataURL('image/png'))\n",
              "  }\n",
              "})\n",
              "</script>\n"
            ]
          },
          "metadata": {}
        },
        {
          "output_type": "stream",
          "name": "stdout",
          "text": [
            "'drawing.png' image saved!\n"
          ]
        }
      ]
    },
    {
      "cell_type": "code",
      "source": [
        "x = load_image()\n",
        "x = torch.FloatTensor(x)\n",
        "predict(model, x)"
      ],
      "metadata": {
        "id": "vVPqz-ye55t1",
        "colab": {
          "base_uri": "https://localhost:8080/",
          "height": 448
        },
        "outputId": "150478a7-a68b-4252-f575-231aa0282e5f"
      },
      "execution_count": null,
      "outputs": [
        {
          "output_type": "display_data",
          "data": {
            "text/plain": [
              "<Figure size 640x480 with 1 Axes>"
            ],
            "image/png": "[encoded data removed]"
          },
          "metadata": {}
        },
        {
          "output_type": "stream",
          "name": "stdout",
          "text": [
            "Predict Number is 7\n"
          ]
        }
      ]
    },
    {
      "cell_type": "code",
      "source": [],
      "metadata": {
        "id": "oh280Ol-d8Nu"
      },
      "execution_count": null,
      "outputs": []
    }
  ]
}