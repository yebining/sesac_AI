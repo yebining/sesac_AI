{
  "nbformat": 4,
  "nbformat_minor": 0,
  "metadata": {
    "colab": {
      "provenance": []
    },
    "kernelspec": {
      "name": "python3",
      "display_name": "Python 3"
    },
    "language_info": {
      "name": "python"
    },
    "accelerator": "GPU",
    "gpuClass": "standard"
  },
  "cells": [
    {
      "cell_type": "markdown",
      "source": [
        "# Tensor operation"
      ],
      "metadata": {
        "id": "H_2mrBApXzQa"
      }
    },
    {
      "cell_type": "code",
      "source": [
        "import torch\n",
        "import numpy as np"
      ],
      "metadata": {
        "id": "XNF_QaSxYLGu"
      },
      "execution_count": null,
      "outputs": []
    },
    {
      "cell_type": "markdown",
      "source": [
        "## 텐서의 타입(type)\n",
        "`.type()` 명령어로 텐서의 타입을 조회할 수 있다.\n",
        "https://pytorch.org/docs/stable/tensors.html\n",
        "\n"
      ],
      "metadata": {
        "id": "UVC574RYX2TL"
      }
    },
    {
      "cell_type": "code",
      "execution_count": null,
      "metadata": {
        "id": "cUvxInneXg86",
        "colab": {
          "base_uri": "https://localhost:8080/"
        },
        "outputId": "68f7ecb2-93d9-4d61-f723-b45d74fa89ae"
      },
      "outputs": [
        {
          "output_type": "stream",
          "name": "stdout",
          "text": [
            "tensor type: torch.FloatTensor\n",
            "tensor([[1., 2., 3.],\n",
            "        [4., 5., 6.]])\n",
            "\n",
            "tensor type: torch.LongTensor\n",
            "tensor([[1, 2, 3],\n",
            "        [4, 5, 6]])\n",
            "\n",
            "tensor type: torch.ByteTensor\n",
            "tensor([1, 0, 1, 1], dtype=torch.uint8)\n",
            "\n",
            "tensor type: torch.BoolTensor\n",
            "tensor([ True, False,  True,  True])\n",
            "\n"
          ]
        }
      ],
      "source": [
        "# 실수형 텐서\n",
        "a = torch.FloatTensor(np.array([[1, 2, 3], \n",
        "                                [4, 5, 6]]))\n",
        "\n",
        "# 정수형 텐서\n",
        "b = torch.LongTensor(np.array([[1, 2, 3], \n",
        "                               [4, 5, 6]]))\n",
        "\n",
        "# 8 bit 정수형\n",
        "c = torch.ByteTensor([True, False, True, True])\n",
        "\n",
        "# 불리언형 텐서\n",
        "d = torch.BoolTensor([True, False, True, True])\n",
        "\n",
        "for tensor in [a, b, c, d]:\n",
        "    print(f\"tensor type: {tensor.type()}\")\n",
        "    print(f\"{tensor}\\n\")"
      ]
    },
    {
      "cell_type": "markdown",
      "source": [
        "## 텐서 조작(Tensor Manipulation)\n",
        "### numpy와 비슷한 operations"
      ],
      "metadata": {
        "id": "1I9d4rkjYnzI"
      }
    },
    {
      "cell_type": "code",
      "source": [
        "data = [[3, 5, 20],[10, 5, 50], [1, 5, 10]]\n",
        "x_data = torch.tensor(data)\n",
        "x_data"
      ],
      "metadata": {
        "id": "jPUK7HcaYICi",
        "colab": {
          "base_uri": "https://localhost:8080/"
        },
        "outputId": "9fae2021-e5fc-44b2-ad52-fa03cf6003c0"
      },
      "execution_count": null,
      "outputs": [
        {
          "output_type": "execute_result",
          "data": {
            "text/plain": [
              "tensor([[ 3,  5, 20],\n",
              "        [10,  5, 50],\n",
              "        [ 1,  5, 10]])"
            ]
          },
          "metadata": {},
          "execution_count": 3
        }
      ]
    },
    {
      "cell_type": "code",
      "source": [
        "x_data[1:]"
      ],
      "metadata": {
        "id": "HVnmfOMohQwP",
        "colab": {
          "base_uri": "https://localhost:8080/"
        },
        "outputId": "6b1e4ace-e156-4173-f197-f2d2cf96d845"
      },
      "execution_count": null,
      "outputs": [
        {
          "output_type": "execute_result",
          "data": {
            "text/plain": [
              "tensor([[10,  5, 50],\n",
              "        [ 1,  5, 10]])"
            ]
          },
          "metadata": {},
          "execution_count": 4
        }
      ]
    },
    {
      "cell_type": "code",
      "source": [
        "x_data[:2, 1:]"
      ],
      "metadata": {
        "id": "zNk4DCc7hQqS",
        "colab": {
          "base_uri": "https://localhost:8080/"
        },
        "outputId": "48a07896-d0dd-4417-d0e4-64badc6deb6e"
      },
      "execution_count": null,
      "outputs": [
        {
          "output_type": "execute_result",
          "data": {
            "text/plain": [
              "tensor([[ 5, 20],\n",
              "        [ 5, 50]])"
            ]
          },
          "metadata": {},
          "execution_count": 5
        }
      ]
    },
    {
      "cell_type": "code",
      "source": [
        "x_data.size"
      ],
      "metadata": {
        "id": "Y9YBcvOIhQoJ",
        "colab": {
          "base_uri": "https://localhost:8080/"
        },
        "outputId": "4dd5cd9d-3b8f-4df2-96e5-25c69b9a1831"
      },
      "execution_count": null,
      "outputs": [
        {
          "output_type": "execute_result",
          "data": {
            "text/plain": [
              "<function Tensor.size>"
            ]
          },
          "metadata": {},
          "execution_count": 6
        }
      ]
    },
    {
      "cell_type": "code",
      "source": [
        "x_data.flatten()"
      ],
      "metadata": {
        "id": "M69d5B47hQlK",
        "colab": {
          "base_uri": "https://localhost:8080/"
        },
        "outputId": "ae13eb46-8b2c-4be3-a6c9-3dfe564eb025"
      },
      "execution_count": null,
      "outputs": [
        {
          "output_type": "execute_result",
          "data": {
            "text/plain": [
              "tensor([ 3,  5, 20, 10,  5, 50,  1,  5, 10])"
            ]
          },
          "metadata": {},
          "execution_count": 7
        }
      ]
    },
    {
      "cell_type": "code",
      "source": [
        "torch.ones_like(x_data)"
      ],
      "metadata": {
        "id": "PBs1F5cchQdm",
        "colab": {
          "base_uri": "https://localhost:8080/"
        },
        "outputId": "d1ca1b35-a8e9-4ec0-e21b-824ba7825c6b"
      },
      "execution_count": null,
      "outputs": [
        {
          "output_type": "execute_result",
          "data": {
            "text/plain": [
              "tensor([[1, 1, 1],\n",
              "        [1, 1, 1],\n",
              "        [1, 1, 1]])"
            ]
          },
          "metadata": {},
          "execution_count": 8
        }
      ]
    },
    {
      "cell_type": "code",
      "source": [
        "x_data.numpy()"
      ],
      "metadata": {
        "colab": {
          "base_uri": "https://localhost:8080/"
        },
        "id": "tdS6D1UTZ3VN",
        "outputId": "c4eef97c-7f40-4e99-fd6e-91ec088186d7"
      },
      "execution_count": null,
      "outputs": [
        {
          "output_type": "execute_result",
          "data": {
            "text/plain": [
              "array([[ 3,  5, 20],\n",
              "       [10,  5, 50],\n",
              "       [ 1,  5, 10]])"
            ]
          },
          "metadata": {},
          "execution_count": 9
        }
      ]
    },
    {
      "cell_type": "code",
      "source": [
        "x_data.shape"
      ],
      "metadata": {
        "colab": {
          "base_uri": "https://localhost:8080/"
        },
        "id": "eFyj868oZ3SW",
        "outputId": "911941a0-d0da-43a6-d1e3-b396605cac7b"
      },
      "execution_count": null,
      "outputs": [
        {
          "output_type": "execute_result",
          "data": {
            "text/plain": [
              "torch.Size([3, 3])"
            ]
          },
          "metadata": {},
          "execution_count": 10
        }
      ]
    },
    {
      "cell_type": "markdown",
      "source": [],
      "metadata": {
        "id": "Z0bRW0z6ah49"
      }
    },
    {
      "cell_type": "code",
      "source": [
        "x_data.size()"
      ],
      "metadata": {
        "colab": {
          "base_uri": "https://localhost:8080/"
        },
        "id": "J--I2VNfZ9Cg",
        "outputId": "02cbe0f3-c3bb-4f99-a33a-3a1bbab73903"
      },
      "execution_count": null,
      "outputs": [
        {
          "output_type": "execute_result",
          "data": {
            "text/plain": [
              "torch.Size([3, 3])"
            ]
          },
          "metadata": {},
          "execution_count": 11
        }
      ]
    },
    {
      "cell_type": "code",
      "source": [
        "x_data.device"
      ],
      "metadata": {
        "id": "hV9xluwBY0Wo",
        "colab": {
          "base_uri": "https://localhost:8080/"
        },
        "outputId": "5c2520e4-29a5-4c72-891d-f1c0b34f5352"
      },
      "execution_count": null,
      "outputs": [
        {
          "output_type": "execute_result",
          "data": {
            "text/plain": [
              "device(type='cpu')"
            ]
          },
          "metadata": {},
          "execution_count": 12
        }
      ]
    },
    {
      "cell_type": "code",
      "source": [
        "if torch.cuda.is_available():\n",
        "    x_data_cuda = x_data.to('cuda')\n",
        "x_data_cuda.device "
      ],
      "metadata": {
        "id": "rXA61lbDY1Li",
        "colab": {
          "base_uri": "https://localhost:8080/"
        },
        "outputId": "734b6c78-5672-4e35-bc9b-2702fd5ed3ba"
      },
      "execution_count": null,
      "outputs": [
        {
          "output_type": "execute_result",
          "data": {
            "text/plain": [
              "device(type='cuda', index=0)"
            ]
          },
          "metadata": {},
          "execution_count": 13
        }
      ]
    },
    {
      "cell_type": "markdown",
      "source": [
        "### **슬라이싱(Slicing)**"
      ],
      "metadata": {
        "id": "82WpEcP1l05U"
      }
    },
    {
      "cell_type": "code",
      "source": [
        "# Helper function\n",
        "import matplotlib.pyplot as plt\n",
        "def draw_tensor(tensor, x):\n",
        "    \"\"\"tensor drawing\"\"\"\n",
        "    fig, axes = plt.subplots(len(tensor), 1, figsize=(5, 5))\n",
        "    for k in range(len(tensor)):\n",
        "        axes[k].matshow(tensor.numpy()[k], vmin=0, vmax=1, cmap='summer', alpha=0.5)\n",
        "        for (i, j), z in np.ndenumerate(x.numpy()[k]):\n",
        "            axes[k].text(j, i, '{:d}'.format(z), ha='center', va='center')\n",
        "    plt.tight_layout()\n",
        "    plt.show()"
      ],
      "metadata": {
        "id": "ygfm26cplx8y"
      },
      "execution_count": null,
      "outputs": []
    },
    {
      "cell_type": "code",
      "source": [
        "# 예시 텐서\n",
        "torch.manual_seed(777)\n",
        "x = torch.randint(0, 10, size=(2, 3, 4))\n",
        "print(x)"
      ],
      "metadata": {
        "id": "XoPg-N6bl-5a",
        "colab": {
          "base_uri": "https://localhost:8080/"
        },
        "outputId": "a98b32e9-8dd8-4267-b4f1-4567c2c7452d"
      },
      "execution_count": null,
      "outputs": [
        {
          "output_type": "stream",
          "name": "stdout",
          "text": [
            "tensor([[[5, 9, 1, 8],\n",
            "         [5, 7, 7, 7],\n",
            "         [3, 4, 1, 7]],\n",
            "\n",
            "        [[2, 0, 6, 3],\n",
            "         [2, 3, 0, 0],\n",
            "         [9, 5, 4, 2]]])\n"
          ]
        }
      ]
    },
    {
      "cell_type": "markdown",
      "source": [
        "x는 (2, 3, 4) 크기를 가지는 텐서다. \n",
        "\n",
        "첫번째 차원의 0번 원소, 두번째 차원의 2번 원소, 세번째 차원의 3번 원소를 선택하려면 다음과 같이 한다."
      ],
      "metadata": {
        "id": "QQJSmkSYmAUT"
      }
    },
    {
      "cell_type": "code",
      "source": [
        "x[0,2,3]"
      ],
      "metadata": {
        "id": "ns8b9F71mByW",
        "colab": {
          "base_uri": "https://localhost:8080/"
        },
        "outputId": "1d8163cc-afe5-4baa-c88e-98ef1da4c9b4"
      },
      "execution_count": null,
      "outputs": [
        {
          "output_type": "execute_result",
          "data": {
            "text/plain": [
              "tensor(7)"
            ]
          },
          "metadata": {},
          "execution_count": 16
        }
      ]
    },
    {
      "cell_type": "code",
      "source": [
        "# 선택한 텐서를 시각화 한다.\n",
        "mask = torch.ones_like(x)\n",
        "mask[0, 2, 3] = 0\n",
        "draw_tensor(mask, x)"
      ],
      "metadata": {
        "id": "AB_uzWbHmDBH",
        "colab": {
          "base_uri": "https://localhost:8080/",
          "height": 506
        },
        "outputId": "620c2032-b2b7-4a9f-d513-17bd49cb8e5f"
      },
      "execution_count": null,
      "outputs": [
        {
          "output_type": "display_data",
          "data": {
            "text/plain": [
              "<Figure size 500x500 with 2 Axes>"
            ],
            "image/png": "[encoded data removed]"
          },
          "metadata": {}
        }
      ]
    },
    {
      "cell_type": "markdown",
      "source": [
        "\"a:b\" 콜론을 사용하면 a번 원소부터 b번 원소 이전(b 비포함)까지 선택한다. a를 생략하면 a=0 이 되고, b를 생략하면 b=해당 차원의 크기가 된다. 만약 a,b 아무런 숫자를 쓰지 않는다면(\":\") 해당차원의 모든 원소를 선택하는 것이다.\n",
        "\n",
        "첫번째 차원의 0번 원소, 두번째 차원의 2번 원소 이전까지(0번, 1번 원소), 세번째 차원의 3번 원소를 선택하려면 다음과 같이 한다."
      ],
      "metadata": {
        "id": "8UDhQfn3mFhE"
      }
    },
    {
      "cell_type": "code",
      "source": [
        "# 선택한 텐서를 시각화 한다.\n",
        "mask = torch.ones_like(x)\n",
        "mask[0, :2, 3] = 0\n",
        "draw_tensor(mask, x)"
      ],
      "metadata": {
        "id": "t_NP3r2LmHfR",
        "colab": {
          "base_uri": "https://localhost:8080/",
          "height": 506
        },
        "outputId": "005e9233-79ee-4e0c-d771-efa10f8ced44"
      },
      "execution_count": null,
      "outputs": [
        {
          "output_type": "display_data",
          "data": {
            "text/plain": [
              "<Figure size 500x500 with 2 Axes>"
            ],
            "image/png": "[encoded data removed]"
          },
          "metadata": {}
        }
      ]
    },
    {
      "cell_type": "code",
      "source": [
        "x[0, 2, 1:]"
      ],
      "metadata": {
        "id": "5-ZhuS1jmJ1Y",
        "colab": {
          "base_uri": "https://localhost:8080/"
        },
        "outputId": "7e2e2b92-202d-4e1b-908f-30356849f605"
      },
      "execution_count": null,
      "outputs": [
        {
          "output_type": "execute_result",
          "data": {
            "text/plain": [
              "tensor([4, 1, 7])"
            ]
          },
          "metadata": {},
          "execution_count": 19
        }
      ]
    },
    {
      "cell_type": "code",
      "source": [
        "mask = torch.ones_like(x)\n",
        "mask[0, 2, 1:] = 0\n",
        "draw_tensor(mask, x)"
      ],
      "metadata": {
        "id": "ZjK-GRKlmR52",
        "colab": {
          "base_uri": "https://localhost:8080/",
          "height": 506
        },
        "outputId": "dca07592-1d64-4e02-b488-924926710161"
      },
      "execution_count": null,
      "outputs": [
        {
          "output_type": "display_data",
          "data": {
            "text/plain": [
              "<Figure size 500x500 with 2 Axes>"
            ],
            "image/png": "[encoded data removed]"
          },
          "metadata": {}
        }
      ]
    },
    {
      "cell_type": "code",
      "source": [
        "x[0, 2, 1:2]"
      ],
      "metadata": {
        "id": "spQ1iI5omTV9",
        "colab": {
          "base_uri": "https://localhost:8080/"
        },
        "outputId": "ce796854-bbaf-4c46-d78e-513225ce0dbf"
      },
      "execution_count": null,
      "outputs": [
        {
          "output_type": "execute_result",
          "data": {
            "text/plain": [
              "tensor([4])"
            ]
          },
          "metadata": {},
          "execution_count": 21
        }
      ]
    },
    {
      "cell_type": "code",
      "source": [
        "mask = torch.ones_like(x)\n",
        "mask[0, 2, 1:2] = 0\n",
        "draw_tensor(mask, x)"
      ],
      "metadata": {
        "id": "mBp_s0W2mUYD",
        "colab": {
          "base_uri": "https://localhost:8080/",
          "height": 506
        },
        "outputId": "c67ba821-73cc-40cb-cfac-e8a25410b3a1"
      },
      "execution_count": null,
      "outputs": [
        {
          "output_type": "display_data",
          "data": {
            "text/plain": [
              "<Figure size 500x500 with 2 Axes>"
            ],
            "image/png": "[encoded data removed]"
          },
          "metadata": {}
        }
      ]
    },
    {
      "cell_type": "code",
      "source": [
        "x[0, 2, :]"
      ],
      "metadata": {
        "id": "zLthEtsAmVrY",
        "colab": {
          "base_uri": "https://localhost:8080/"
        },
        "outputId": "9abf1207-cb19-4743-9674-9079b4ef595f"
      },
      "execution_count": null,
      "outputs": [
        {
          "output_type": "execute_result",
          "data": {
            "text/plain": [
              "tensor([3, 4, 1, 7])"
            ]
          },
          "metadata": {},
          "execution_count": 23
        }
      ]
    },
    {
      "cell_type": "code",
      "source": [
        "mask = torch.ones_like(x)\n",
        "mask[0, 2, :] = 0\n",
        "draw_tensor(mask, x)"
      ],
      "metadata": {
        "id": "VXth5RwGmWp9",
        "colab": {
          "base_uri": "https://localhost:8080/",
          "height": 506
        },
        "outputId": "1c6e168b-9058-467e-c08b-05154ae2870d"
      },
      "execution_count": null,
      "outputs": [
        {
          "output_type": "display_data",
          "data": {
            "text/plain": [
              "<Figure size 500x500 with 2 Axes>"
            ],
            "image/png": "[encoded data removed]"
          },
          "metadata": {}
        }
      ]
    },
    {
      "cell_type": "code",
      "source": [
        "x[1, 1, 2:]"
      ],
      "metadata": {
        "colab": {
          "base_uri": "https://localhost:8080/"
        },
        "id": "eMdnAH2acr4F",
        "outputId": "221f97fe-09ce-486c-f100-17c2812b8411"
      },
      "execution_count": null,
      "outputs": [
        {
          "output_type": "execute_result",
          "data": {
            "text/plain": [
              "tensor([0, 0])"
            ]
          },
          "metadata": {},
          "execution_count": 25
        }
      ]
    },
    {
      "cell_type": "code",
      "source": [
        "mask = torch.ones_like(x)\n",
        "mask[1, 1, 2:] = 0\n",
        "draw_tensor(mask, x)"
      ],
      "metadata": {
        "colab": {
          "base_uri": "https://localhost:8080/",
          "height": 506
        },
        "id": "fWZsZUjmcz0l",
        "outputId": "1a3bc71f-8358-4fbf-d8fb-3522f7d59f68"
      },
      "execution_count": null,
      "outputs": [
        {
          "output_type": "display_data",
          "data": {
            "text/plain": [
              "<Figure size 500x500 with 2 Axes>"
            ],
            "image/png": "[encoded data removed]"
          },
          "metadata": {}
        }
      ]
    },
    {
      "cell_type": "code",
      "source": [
        "mask = torch.ones_like(x)\n",
        "mask[0, 0, :3] = 0\n",
        "mask[0, :, 2] = 0\n",
        "mask[1, 2, 2:] = 0\n",
        "mask[1, :, 2] = 0\n",
        "draw_tensor(mask, x)"
      ],
      "metadata": {
        "colab": {
          "base_uri": "https://localhost:8080/",
          "height": 506
        },
        "id": "XN_hCXolc6gF",
        "outputId": "b6cbf2b8-efcd-4d7e-8325-c6d9815a34a1"
      },
      "execution_count": null,
      "outputs": [
        {
          "output_type": "display_data",
          "data": {
            "text/plain": [
              "<Figure size 500x500 with 2 Axes>"
            ],
            "image/png": "[encoded data removed]"
          },
          "metadata": {}
        }
      ]
    },
    {
      "cell_type": "markdown",
      "source": [
        "### **뷰(view)**\n",
        "\n",
        "텐서의 크기를 알맞게 변화해야할 때 자주 사용한다. 변화되는 차원 크기의 총 곱은 원래 텐서의 차원 크기의 총 곱이 되어야 한다."
      ],
      "metadata": {
        "id": "eLt2IgbCmYzE"
      }
    },
    {
      "cell_type": "code",
      "source": [
        "\n",
        "# 크기가 (2, 3, 4) 3차원 텐서를 (2, 2, 6) 으로 변경\n",
        "x_viewed1 = x.view(2,2,6)\n",
        "\n",
        "# 텐서 시각화\n",
        "print(\"original tensor: \", x.size())\n",
        "mask = torch.ones_like(x)\n",
        "draw_tensor(mask, x)\n",
        "\n",
        "print(\"reshaped tensor: \", x.size())\n",
        "mask = torch.ones_like(x_viewed1)\n",
        "draw_tensor(mask, x_viewed1)"
      ],
      "metadata": {
        "id": "mnJ4efyAmaa9",
        "colab": {
          "base_uri": "https://localhost:8080/",
          "height": 974
        },
        "outputId": "cd940897-d094-41b2-b0f0-7ffba656a115"
      },
      "execution_count": null,
      "outputs": [
        {
          "output_type": "stream",
          "name": "stdout",
          "text": [
            "original tensor:  torch.Size([2, 3, 4])\n"
          ]
        },
        {
          "output_type": "display_data",
          "data": {
            "text/plain": [
              "<Figure size 500x500 with 2 Axes>"
            ],
            "image/png": "[encoded data removed]"
          },
          "metadata": {}
        },
        {
          "output_type": "stream",
          "name": "stdout",
          "text": [
            "reshaped tensor:  torch.Size([2, 3, 4])\n"
          ]
        },
        {
          "output_type": "display_data",
          "data": {
            "text/plain": [
              "<Figure size 500x500 with 2 Axes>"
            ],
            "image/png": "[encoded data removed]"
          },
          "metadata": {}
        }
      ]
    },
    {
      "cell_type": "markdown",
      "source": [
        "\"-1\" 를 사용하면 나머지 차원을 알아서 계산 해준다. 단 2 곳 이상 동시에 사용할 수 없다."
      ],
      "metadata": {
        "id": "LlxossaqmdB9"
      }
    },
    {
      "cell_type": "code",
      "source": [
        "# 크기가 (2, 3, 4) 3차원 텐서를 (2, 1, 12) 으로 변경\n",
        "x_viewed2 = x.view(-1, 1, 12)\n",
        "# 1,12 고정되면 -1이 자동적으로 설정\n",
        "\n",
        "# 텐서 시각화\n",
        "print(\"original tensor: \", x.size())\n",
        "mask = torch.ones_like(x)\n",
        "draw_tensor(mask, x)\n",
        "\n",
        "print(\"reshaped tensor: \", x_viewed2.size())\n",
        "mask = torch.ones_like(x_viewed2)\n",
        "draw_tensor(mask, x_viewed2)"
      ],
      "metadata": {
        "id": "OT4e3iddmeOP",
        "colab": {
          "base_uri": "https://localhost:8080/",
          "height": 811
        },
        "outputId": "db54533b-2e26-4f32-fae9-3e0ac8fe9522"
      },
      "execution_count": null,
      "outputs": [
        {
          "output_type": "stream",
          "name": "stdout",
          "text": [
            "original tensor:  torch.Size([2, 3, 4])\n"
          ]
        },
        {
          "output_type": "display_data",
          "data": {
            "text/plain": [
              "<Figure size 500x500 with 2 Axes>"
            ],
            "image/png": "[encoded data removed]"
          },
          "metadata": {}
        },
        {
          "output_type": "stream",
          "name": "stdout",
          "text": [
            "reshaped tensor:  torch.Size([2, 1, 12])\n"
          ]
        },
        {
          "output_type": "display_data",
          "data": {
            "text/plain": [
              "<Figure size 500x500 with 2 Axes>"
            ],
            "image/png": "[encoded data removed]"
          },
          "metadata": {}
        }
      ]
    },
    {
      "cell_type": "markdown",
      "source": [
        "view와 reshape의 memory copy부분 예시"
      ],
      "metadata": {
        "id": "byPWDOLgKZbW"
      }
    },
    {
      "cell_type": "code",
      "source": [
        "a = torch.zeros(3, 2)\n",
        "b = a.view(2, 3)\n",
        "a.fill_(1) "
      ],
      "metadata": {
        "id": "yc1P-T3aKW6r",
        "colab": {
          "base_uri": "https://localhost:8080/"
        },
        "outputId": "81ae53dc-7133-4dc9-afb1-9cacdea887b7"
      },
      "execution_count": null,
      "outputs": [
        {
          "output_type": "execute_result",
          "data": {
            "text/plain": [
              "tensor([[1., 1.],\n",
              "        [1., 1.],\n",
              "        [1., 1.]])"
            ]
          },
          "metadata": {},
          "execution_count": 30
        }
      ]
    },
    {
      "cell_type": "code",
      "source": [
        "a"
      ],
      "metadata": {
        "id": "sTnNQGk-Keem",
        "colab": {
          "base_uri": "https://localhost:8080/"
        },
        "outputId": "f8160de2-d85e-47aa-9249-7111615eba17"
      },
      "execution_count": null,
      "outputs": [
        {
          "output_type": "execute_result",
          "data": {
            "text/plain": [
              "tensor([[1., 1.],\n",
              "        [1., 1.],\n",
              "        [1., 1.]])"
            ]
          },
          "metadata": {},
          "execution_count": 31
        }
      ]
    },
    {
      "cell_type": "code",
      "source": [
        "b"
      ],
      "metadata": {
        "id": "XrgySEbKKgeo",
        "colab": {
          "base_uri": "https://localhost:8080/"
        },
        "outputId": "d7dbceee-e206-469a-9017-5b979bd36d33"
      },
      "execution_count": null,
      "outputs": [
        {
          "output_type": "execute_result",
          "data": {
            "text/plain": [
              "tensor([[1., 1., 1.],\n",
              "        [1., 1., 1.]])"
            ]
          },
          "metadata": {},
          "execution_count": 32
        }
      ]
    },
    {
      "cell_type": "code",
      "source": [
        "a = torch.zeros(3, 2) \n",
        "b = a.t().reshape(6) \n",
        "a.fill_(1) "
      ],
      "metadata": {
        "id": "JZtUj5mFKiMc",
        "colab": {
          "base_uri": "https://localhost:8080/"
        },
        "outputId": "4ea484ad-f275-4db9-8b48-6b215384266c"
      },
      "execution_count": null,
      "outputs": [
        {
          "output_type": "execute_result",
          "data": {
            "text/plain": [
              "tensor([[1., 1.],\n",
              "        [1., 1.],\n",
              "        [1., 1.]])"
            ]
          },
          "metadata": {},
          "execution_count": 33
        }
      ]
    },
    {
      "cell_type": "code",
      "source": [
        "a"
      ],
      "metadata": {
        "id": "1rEK2dQmKjKT",
        "colab": {
          "base_uri": "https://localhost:8080/"
        },
        "outputId": "e68aa7b3-c300-485c-bf0a-05ce24d9dac3"
      },
      "execution_count": null,
      "outputs": [
        {
          "output_type": "execute_result",
          "data": {
            "text/plain": [
              "tensor([[1., 1.],\n",
              "        [1., 1.],\n",
              "        [1., 1.]])"
            ]
          },
          "metadata": {},
          "execution_count": 34
        }
      ]
    },
    {
      "cell_type": "code",
      "source": [
        "b"
      ],
      "metadata": {
        "id": "2DQn1qrAKj3I",
        "colab": {
          "base_uri": "https://localhost:8080/"
        },
        "outputId": "f3f6fbef-ea3c-4b8b-b63d-f9567f7cdddc"
      },
      "execution_count": null,
      "outputs": [
        {
          "output_type": "execute_result",
          "data": {
            "text/plain": [
              "tensor([0., 0., 0., 0., 0., 0.])"
            ]
          },
          "metadata": {},
          "execution_count": 35
        }
      ]
    },
    {
      "cell_type": "markdown",
      "source": [
        "## 텐서 인덱싱(Indexing)"
      ],
      "metadata": {
        "id": "Wn7m4uXkZHCq"
      }
    },
    {
      "cell_type": "markdown",
      "source": [
        "``` python\n",
        "[[1  2]\n",
        " [3  4]] 2차원 텐서에서 [1  3]이라는 값을 가져오고 싶어요!\n",
        "```\n",
        "tensor를 원하는 모양으로 바꾸고 싶을 때, `torch.Tensor.view`라는 함수를 사용하면 됩니다."
      ],
      "metadata": {
        "id": "BKA37eCgZP8Y"
      }
    },
    {
      "cell_type": "code",
      "source": [
        "A = torch.Tensor([[1, 2],\n",
        "                  [3, 4]])\n",
        "\n",
        "# [1, 3]만 출력해봅시다.\n",
        "\n",
        "# torch.index_select 함수를 써서 해보세요!\n",
        "output = torch.index_select(A, 1, torch.tensor([0])) #입력텐서, axis, index\n",
        "output = output.view(-1)\n",
        "output"
      ],
      "metadata": {
        "id": "mGRyiamEY21s",
        "colab": {
          "base_uri": "https://localhost:8080/"
        },
        "outputId": "d6f4ddb4-2ae4-4eab-83ac-8b64447cc06e"
      },
      "execution_count": null,
      "outputs": [
        {
          "output_type": "execute_result",
          "data": {
            "text/plain": [
              "tensor([1., 3.])"
            ]
          },
          "metadata": {},
          "execution_count": 36
        }
      ]
    },
    {
      "cell_type": "code",
      "source": [
        "# 파이썬 리스트 인덱싱과 비슷한 방법으로 해보세요!\n",
        "output = A[:,0]\n",
        "output"
      ],
      "metadata": {
        "id": "rkzCjNRbirCG",
        "colab": {
          "base_uri": "https://localhost:8080/"
        },
        "outputId": "1f91a9ba-1277-4171-9890-85a56eb56a92"
      },
      "execution_count": null,
      "outputs": [
        {
          "output_type": "execute_result",
          "data": {
            "text/plain": [
              "tensor([1., 3.])"
            ]
          },
          "metadata": {},
          "execution_count": 37
        }
      ]
    },
    {
      "cell_type": "markdown",
      "source": [
        "### **permute**\n",
        "\n",
        "차원의 위치를 바꿀때 주로 사용한다. 텐서 전체 모양을 바꿀 때 유용하게 쓰인다."
      ],
      "metadata": {
        "id": "--TaYnd52-3L"
      }
    },
    {
      "cell_type": "code",
      "source": [
        "# (2, 3, 4) 크기 텐서의 차원 크기를 (4, 3, 2)로 바꾼다. rank, shape\n",
        "x_permuted = x.permute(2,1,0)\n",
        "\n",
        "# 텐서 시각화\n",
        "print(\"original tensor: \", x.size())\n",
        "mask = torch.ones_like(x)\n",
        "draw_tensor(mask, x)\n",
        "\n",
        "print(\"reshaped tensor\", x_permuted.size())\n",
        "mask = torch.ones_like(x_permuted)\n",
        "draw_tensor(mask, x_permuted)"
      ],
      "metadata": {
        "id": "wW0RDRgui_4r",
        "colab": {
          "base_uri": "https://localhost:8080/",
          "height": 1000
        },
        "outputId": "0b0a08c6-52ec-48a3-b8b7-acce1594c4f1"
      },
      "execution_count": null,
      "outputs": [
        {
          "output_type": "stream",
          "name": "stdout",
          "text": [
            "original tensor:  torch.Size([2, 3, 4])\n"
          ]
        },
        {
          "output_type": "display_data",
          "data": {
            "text/plain": [
              "<Figure size 500x500 with 2 Axes>"
            ],
            "image/png": "[encoded data removed]"
          },
          "metadata": {}
        },
        {
          "output_type": "stream",
          "name": "stdout",
          "text": [
            "reshaped tensor torch.Size([4, 3, 2])\n"
          ]
        },
        {
          "output_type": "display_data",
          "data": {
            "text/plain": [
              "<Figure size 500x500 with 4 Axes>"
            ],
            "image/png": "[encoded data removed]"
          },
          "metadata": {}
        }
      ]
    },
    {
      "cell_type": "markdown",
      "source": [
        "### **transpose**\n",
        "\n",
        "`permute`의 특별한 케이스다, 주로 두 개 차원을 교환하여 바꿀때 사용된다."
      ],
      "metadata": {
        "id": "iVC1pg5-3IYQ"
      }
    },
    {
      "cell_type": "code",
      "source": [
        "# (2, 3, 4) 크기 텐서의 첫번째 차원과 두번째 차원이 바뀐다.\n",
        "x_transposed = x.transpose(0,1)\n",
        "\n",
        "# 텐서 시각화\n",
        "print(\"original tensor: \", x.size())\n",
        "mask = torch.ones_like(x)\n",
        "draw_tensor(mask, x)\n",
        "\n",
        "print(\"reshaped tensor\", x_transposed.size())\n",
        "mask = torch.ones_like(x_transposed)\n",
        "draw_tensor(mask, x_transposed)"
      ],
      "metadata": {
        "id": "9alq3hHn3HBX",
        "colab": {
          "base_uri": "https://localhost:8080/",
          "height": 1000
        },
        "outputId": "da413b5a-6ba7-4a06-e3ed-4d457cdab5cf"
      },
      "execution_count": null,
      "outputs": [
        {
          "output_type": "stream",
          "name": "stdout",
          "text": [
            "original tensor:  torch.Size([2, 3, 4])\n"
          ]
        },
        {
          "output_type": "display_data",
          "data": {
            "text/plain": [
              "<Figure size 500x500 with 2 Axes>"
            ],
            "image/png": "[encoded data removed]"
          },
          "metadata": {}
        },
        {
          "output_type": "stream",
          "name": "stdout",
          "text": [
            "reshaped tensor torch.Size([3, 2, 4])\n"
          ]
        },
        {
          "output_type": "display_data",
          "data": {
            "text/plain": [
              "<Figure size 500x500 with 3 Axes>"
            ],
            "image/png": "[encoded data removed]"
          },
          "metadata": {}
        }
      ]
    },
    {
      "cell_type": "markdown",
      "source": [
        "### **squeeze & unsqueeze**\n",
        "\n",
        "* squeeze: 텐서의 크기가 1인 차원을 지워버린다. 숫자를 특정하면 해당 차원의 크기가 1일 경우 지우고 아니면 그냥 둔다.\n",
        "* unsqueeze: 해당하는 숫자 차원에 크기 1인 차원을 늘린다. `np.newaxis` 와 비슷한 역할"
      ],
      "metadata": {
        "id": "phicv13K3LR4"
      }
    },
    {
      "cell_type": "code",
      "source": [
        "x = torch.rand((2, 1, 3, 4, 1)) \n",
        "print(x.size())\n",
        "print(x.squeeze().size())"
      ],
      "metadata": {
        "id": "IfXbveZf3Jfr",
        "colab": {
          "base_uri": "https://localhost:8080/"
        },
        "outputId": "a863388e-eb09-46c3-ef45-d71082886eae"
      },
      "execution_count": null,
      "outputs": [
        {
          "output_type": "stream",
          "name": "stdout",
          "text": [
            "torch.Size([2, 1, 3, 4, 1])\n",
            "torch.Size([2, 3, 4])\n"
          ]
        }
      ]
    },
    {
      "cell_type": "code",
      "source": [
        "# 크기가 (2, 1, 3, 4, 1) 인 5차원 텐서를 생성한다\n",
        "x = torch.rand((2, 1, 3, 4, 1))\n",
        "print(x.size())\n",
        "\n",
        "# 모든 차원에서 크기가 1인 차원을 squeeze 한다.\n",
        "print(x.squeeze().size())  # 크기확인\n",
        "\n",
        "# 두번째 차원(크기 = 1)을 squeeze 한다.\n",
        "print(x.squeeze(1).size())  # 크기확인\n",
        "\n",
        "print(x.squeeze(4).size())\n",
        "\n",
        "# 4번째 차원에 크기를 1 추가, 6차원 텐서가 된다.\n",
        "print(x.unsqueeze(3).size())  # 크기확인"
      ],
      "metadata": {
        "id": "pr_udyf13NCv",
        "colab": {
          "base_uri": "https://localhost:8080/"
        },
        "outputId": "e1fa095a-4071-49d4-a2fd-0a7b09f0ebfd"
      },
      "execution_count": null,
      "outputs": [
        {
          "output_type": "stream",
          "name": "stdout",
          "text": [
            "torch.Size([2, 1, 3, 4, 1])\n",
            "torch.Size([2, 3, 4])\n",
            "torch.Size([2, 3, 4, 1])\n",
            "torch.Size([2, 1, 3, 4])\n",
            "torch.Size([2, 1, 3, 1, 4, 1])\n"
          ]
        }
      ]
    },
    {
      "cell_type": "markdown",
      "source": [
        "### **cat & stack**\n",
        "\n",
        "두 텐서 혹은 그 이상을 합치는 역할을 담당한다."
      ],
      "metadata": {
        "id": "qtRXxQJr3QfL"
      }
    },
    {
      "cell_type": "code",
      "source": [
        "# helper function\n",
        "def draw_tensor2(x):\n",
        "    \"\"\"tensor drawing cat&stack\"\"\"\n",
        "    subplot_size = 1 if x.ndimension() <= 2 else x.size(0)\n",
        "    fig, axes = plt.subplots(subplot_size, 1)\n",
        "    if subplot_size == 1: \n",
        "        axes.matshow(x.numpy(), vmin=0, vmax=1, cmap='summer')\n",
        "    else:\n",
        "        for i in range(subplot_size):\n",
        "            axes[i].matshow(x.numpy()[i], vmin=0, vmax=1, cmap='summer')\n",
        "    plt.show()"
      ],
      "metadata": {
        "id": "_uA-_nID3NkO"
      },
      "execution_count": null,
      "outputs": []
    },
    {
      "cell_type": "markdown",
      "source": [
        "`cat` 의 경우 텐서를 \"합친다\"라는 느낌이 강하다. 지정한 차원 방향으로 크기를 합친다고 생각할 수 있다. 다만 지정되지 않은 다른 차원의 크기는 두 텐서가 같아야 한다."
      ],
      "metadata": {
        "id": "Sr_I2tXp3Vlx"
      }
    },
    {
      "cell_type": "code",
      "source": [
        "torch.manual_seed(777)\n",
        "# 크기가 (2, 3) 인 A, B 텐서를 만든다\n",
        "A = torch.rand((2, 3))\n",
        "B = torch.rand((2, 3))\n",
        "\n",
        "# 첫번째 차원을 기준으로 텐서를 concatenate 한다.\n",
        "AB_cated = torch.cat([A, B], dim=0)\n",
        "print(A)\n",
        "print(B)\n",
        "print(AB_cated)\n",
        "\n",
        "# 시각화\n",
        "draw_tensor2(AB_cated)"
      ],
      "metadata": {
        "id": "SwE6UVEt3UfN",
        "colab": {
          "base_uri": "https://localhost:8080/",
          "height": 580
        },
        "outputId": "ff323d58-7ae3-4428-aae7-99b492978b63"
      },
      "execution_count": null,
      "outputs": [
        {
          "output_type": "stream",
          "name": "stdout",
          "text": [
            "tensor([[0.0819, 0.4911, 0.4033],\n",
            "        [0.3859, 0.8813, 0.8811]])\n",
            "tensor([[0.7242, 0.5033, 0.8249],\n",
            "        [0.2634, 0.3112, 0.5948]])\n",
            "tensor([[0.0819, 0.4911, 0.4033],\n",
            "        [0.3859, 0.8813, 0.8811],\n",
            "        [0.7242, 0.5033, 0.8249],\n",
            "        [0.2634, 0.3112, 0.5948]])\n"
          ]
        },
        {
          "output_type": "display_data",
          "data": {
            "text/plain": [
              "<Figure size 640x480 with 1 Axes>"
            ],
            "image/png": "[encoded data removed]"
          },
          "metadata": {}
        }
      ]
    },
    {
      "cell_type": "markdown",
      "source": [
        "`stack`은 텐서들을 \"쌓는다\"라는 느낌이 강하다. 각 리스트 안에 있는 지정된 차원을 `unsqueeze` 한 다음 `cat`을 사용하는 것과 같다."
      ],
      "metadata": {
        "id": "1yEioo9-3X9T"
      }
    },
    {
      "cell_type": "code",
      "source": [
        "# 첫번째 차원을 기준으로 텐서를 stack 한다.\n",
        "AB_stacked = torch.stack([A, B], dim=0)\n",
        "print(\"torch.stack([A, B], dim=0)\\n\")\n",
        "print(AB_stacked)\n",
        "print(\"----\"*10)\n",
        "print(\"torch.cat([A.unsqueeze(0), B.unsqueeze(0)], dim=0)\\n\")\n",
        "# 각 텐서를 첫번째 차원 기준으로 unsqueeze 후, cat 한것과 같은 결과\n",
        "AB_unsqueeze_cat = torch.cat([A.unsqueeze(0), B.unsqueeze(0)], dim=0)\n",
        "print(AB_unsqueeze_cat)\n",
        "\n",
        "# 시각화\n",
        "draw_tensor2(AB_stacked)"
      ],
      "metadata": {
        "id": "LITRyKKG3Whq",
        "colab": {
          "base_uri": "https://localhost:8080/",
          "height": 707
        },
        "outputId": "f35cfbc9-b177-457b-db45-e619614b31eb"
      },
      "execution_count": null,
      "outputs": [
        {
          "output_type": "stream",
          "name": "stdout",
          "text": [
            "torch.stack([A, B], dim=0)\n",
            "\n",
            "tensor([[[0.0819, 0.4911, 0.4033],\n",
            "         [0.3859, 0.8813, 0.8811]],\n",
            "\n",
            "        [[0.7242, 0.5033, 0.8249],\n",
            "         [0.2634, 0.3112, 0.5948]]])\n",
            "----------------------------------------\n",
            "torch.cat([A.unsqueeze(0), B.unsqueeze(0)], dim=0)\n",
            "\n",
            "tensor([[[0.0819, 0.4911, 0.4033],\n",
            "         [0.3859, 0.8813, 0.8811]],\n",
            "\n",
            "        [[0.7242, 0.5033, 0.8249],\n",
            "         [0.2634, 0.3112, 0.5948]]])\n"
          ]
        },
        {
          "output_type": "display_data",
          "data": {
            "text/plain": [
              "<Figure size 640x480 with 2 Axes>"
            ],
            "image/png": "[encoded data removed]"
          },
          "metadata": {}
        }
      ]
    },
    {
      "cell_type": "markdown",
      "source": [
        "## 텐서의 사칙연산: add / multiplication\n",
        "\n",
        "### **텐서의 덧셈과 뺄셈**\n",
        "\n",
        "$$\\begin{aligned}\n",
        "x = \\begin{bmatrix}1 \\\\ 2 \\\\ 3 \\end{bmatrix}\\quad y = \\begin{bmatrix}4 \\\\ 5 \\\\ 6 \\end{bmatrix}\n",
        "\\end{aligned}$$\n",
        "\n",
        "벡터와 스칼라 연산: broadcasting 이 적용된다.\n",
        "\n",
        "$$\\begin{aligned}\n",
        "x + 2 &= \\begin{bmatrix}1 \\\\ 2 \\\\ 3 \\end{bmatrix} + 2 = \\begin{bmatrix}1 \\\\ 2 \\\\ 3 \\end{bmatrix} + 2*\\begin{bmatrix}1 \\\\ 1 \\\\ 1 \\end{bmatrix} \\\\\n",
        "&= \\begin{bmatrix}1+2 \\\\ 2+2 \\\\ 3+2 \\end{bmatrix} = \\begin{bmatrix}3 \\\\ 4 \\\\ 5 \\end{bmatrix}\n",
        "\\end{aligned}$$\n",
        "\n",
        "벡터와 벡터간 연산\n",
        "\n",
        "$$\\begin{aligned}\n",
        "x + y &= \\begin{bmatrix}1 \\\\ 2 \\\\ 3 \\end{bmatrix} + \\begin{bmatrix}4 \\\\ 5 \\\\ 6 \\end{bmatrix} = \\begin{bmatrix}1+4 \\\\ 2+5 \\\\ 3+6 \\end{bmatrix} = \\begin{bmatrix}5 \\\\ 7\\\\ 9 \\end{bmatrix}\n",
        "\\end{aligned}$$"
      ],
      "metadata": {
        "id": "-8A0eS373qZt"
      }
    },
    {
      "cell_type": "code",
      "source": [
        "# x, y 크기가 3인 1차원 벡터 생성\n",
        "x = torch.Tensor([1, 2, 3])\n",
        "y = torch.Tensor([4, 5, 6])\n",
        "\n",
        "# 같은 크기의 벡터간 덧셈\n",
        "print(torch.add(x, y))\n",
        "\n",
        "# 같은 크기의 벡터간 뺄셈\n",
        "print(torch.sub(x, y))\n",
        "\n",
        "# 벡터 + 스칼라\n",
        "print(x+2)\n",
        "\n",
        "# 벡터 - 스칼라\n",
        "print(x-2)"
      ],
      "metadata": {
        "id": "Tr2QCsP-3Y96",
        "colab": {
          "base_uri": "https://localhost:8080/"
        },
        "outputId": "555935c9-5589-48e2-c577-79260093cc1d"
      },
      "execution_count": null,
      "outputs": [
        {
          "output_type": "stream",
          "name": "stdout",
          "text": [
            "tensor([5., 7., 9.])\n",
            "tensor([-3., -3., -3.])\n",
            "tensor([3., 4., 5.])\n",
            "tensor([-1.,  0.,  1.])\n"
          ]
        }
      ]
    },
    {
      "cell_type": "markdown",
      "source": [
        "행렬 모양이 다르면 당연히 연산이 되지 않는다."
      ],
      "metadata": {
        "id": "DbNJCE7VKtFD"
      }
    },
    {
      "cell_type": "code",
      "source": [
        "n1 = np.arange(10).reshape(2,5)\n",
        "n2 = np.arange(10).reshape(5,2)\n",
        "t1 = torch.FloatTensor(n1)\n",
        "t2 = torch.FloatTensor(n2)"
      ],
      "metadata": {
        "id": "Ox7rpB19KshX"
      },
      "execution_count": null,
      "outputs": []
    },
    {
      "cell_type": "code",
      "source": [
        "t1.size()"
      ],
      "metadata": {
        "colab": {
          "base_uri": "https://localhost:8080/"
        },
        "id": "JMlE5jh793-q",
        "outputId": "1cdaa9c6-7ea6-431a-9177-47c0b13dd98e"
      },
      "execution_count": null,
      "outputs": [
        {
          "output_type": "execute_result",
          "data": {
            "text/plain": [
              "torch.Size([2, 5])"
            ]
          },
          "metadata": {},
          "execution_count": 54
        }
      ]
    },
    {
      "cell_type": "code",
      "source": [
        "t2.size()"
      ],
      "metadata": {
        "colab": {
          "base_uri": "https://localhost:8080/"
        },
        "id": "XONEyRyQ97FS",
        "outputId": "a390c9bd-b0be-489f-9f38-35173dbb58ea"
      },
      "execution_count": null,
      "outputs": [
        {
          "output_type": "execute_result",
          "data": {
            "text/plain": [
              "torch.Size([5, 2])"
            ]
          },
          "metadata": {},
          "execution_count": 55
        }
      ]
    },
    {
      "cell_type": "code",
      "source": [
        "t1 + t2"
      ],
      "metadata": {
        "id": "XaoI2MhCK2_h",
        "colab": {
          "base_uri": "https://localhost:8080/",
          "height": 172
        },
        "outputId": "5e59b734-3d8d-4b03-d923-a47daa96171c"
      },
      "execution_count": null,
      "outputs": [
        {
          "output_type": "error",
          "ename": "RuntimeError",
          "evalue": "ignored",
          "traceback": [
            "\u001b[0;31m---------------------------------------------------------------------------\u001b[0m",
            "\u001b[0;31mRuntimeError\u001b[0m                              Traceback (most recent call last)",
            "\u001b[0;32m<ipython-input-47-9ac58c83af08>\u001b[0m in \u001b[0;36m<cell line: 1>\u001b[0;34m()\u001b[0m\n\u001b[0;32m----> 1\u001b[0;31m \u001b[0mt1\u001b[0m \u001b[0;34m+\u001b[0m \u001b[0mt2\u001b[0m\u001b[0;34m\u001b[0m\u001b[0;34m\u001b[0m\u001b[0m\n\u001b[0m",
            "\u001b[0;31mRuntimeError\u001b[0m: The size of tensor a (5) must match the size of tensor b (2) at non-singleton dimension 1"
          ]
        }
      ]
    },
    {
      "cell_type": "markdown",
      "source": [
        "### **텐서의 곱셈**\n",
        "\n",
        "원소간 곱셈(element-wise product) : $*$, $\\odot$\n",
        "\n",
        "$$\\begin{aligned}\n",
        "x * y &= \\begin{bmatrix}1 \\\\ 2 \\\\ 3 \\end{bmatrix} * \\begin{bmatrix}4 \\\\ 5 \\\\ 6 \\end{bmatrix} = \\begin{bmatrix}1*4 \\\\ 2*5 \\\\ 3*6 \\end{bmatrix} = \\begin{bmatrix}4 \\\\ 10 \\\\ 18 \\end{bmatrix}\n",
        "\\end{aligned}$$"
      ],
      "metadata": {
        "id": "oyTDDbYj3tzI"
      }
    },
    {
      "cell_type": "code",
      "source": [
        "# 곱셈\n",
        "print(x * y)\n",
        "print(torch.mul(x, y))\n",
        "\n",
        "# 나눗셈\n",
        "print(x / y)\n",
        "print(torch.div(x, y))"
      ],
      "metadata": {
        "id": "a5_xX9l73sbp",
        "colab": {
          "base_uri": "https://localhost:8080/"
        },
        "outputId": "9428b722-69b8-402b-dcf2-35f0391f92ec"
      },
      "execution_count": null,
      "outputs": [
        {
          "output_type": "stream",
          "name": "stdout",
          "text": [
            "tensor([ 4., 10., 18.])\n",
            "tensor([ 4., 10., 18.])\n",
            "tensor([0.2500, 0.4000, 0.5000])\n",
            "tensor([0.2500, 0.4000, 0.5000])\n"
          ]
        }
      ]
    },
    {
      "cell_type": "markdown",
      "source": [
        "내적(inner product) 혹은 점곱(dot product): $\\cdot$\n",
        "\n",
        "$$\\begin{aligned}\n",
        "x\\cdot y = x^T y = \\sum_i^N x_i * y_i &= \\begin{bmatrix}1 \\\\ 2 \\\\ 3 \\end{bmatrix}^T \\cdot \\begin{bmatrix}4 \\\\ 5 \\\\ 6 \\end{bmatrix} = \\begin{bmatrix}1 & 2 & 3 \\end{bmatrix}\\begin{bmatrix}4 \\\\ 5 \\\\ 6 \\end{bmatrix} \\\\\n",
        "&= 1 \\times 4 + 2 \\times 5 + 3 \\times 6 = 4+10+18 = 32\n",
        "\\end{aligned}$$"
      ],
      "metadata": {
        "id": "AJcInum53wge"
      }
    },
    {
      "cell_type": "code",
      "source": [
        "print(\"inner product: \")\n",
        "print(torch.dot(x, y)) #트랜스포머\n",
        "print(x.dot(y))"
      ],
      "metadata": {
        "id": "EG3A5-RV3vRe",
        "colab": {
          "base_uri": "https://localhost:8080/"
        },
        "outputId": "a65c1ff4-457d-4958-f499-137eedc11cf9"
      },
      "execution_count": null,
      "outputs": [
        {
          "output_type": "stream",
          "name": "stdout",
          "text": [
            "inner product: \n",
            "tensor(32.)\n",
            "tensor(32.)\n"
          ]
        }
      ]
    },
    {
      "cell_type": "markdown",
      "source": [
        "### **행렬의 곱셈(matrix product)**\n",
        "\n",
        "$$\\begin{aligned}\n",
        "X &= \\begin{bmatrix}x_{11} & x_{12} \\\\ x_{21} & x_{22} \\\\ x_{31} & x_{32} \\end{bmatrix} = \\begin{bmatrix}1 & 4 \\\\ 2 & 5 \\\\ 3 & 6 \\end{bmatrix} \n",
        "\\\\ \n",
        "Y &= \\begin{bmatrix}y_{11} & y_{12} \\\\ y_{21} & y_{22}\\end{bmatrix} = \\begin{bmatrix}7 & 9 \\\\ 8 & 10 \\end{bmatrix}\n",
        "\\end{aligned}$$\n",
        "\n",
        "X의 크기 (3, 2), Y의 크기 (2, 2) \n",
        "\n",
        "$$\\begin{aligned}\n",
        "X\\cdot Y \n",
        "&= \\begin{bmatrix}1 & 4 \\\\ 2 & 5 \\\\ 3 & 6 \\end{bmatrix} \\begin{bmatrix}7 & 9 \\\\ 8 & 10 \\end{bmatrix} \\\\\n",
        "&= \\begin{bmatrix}\n",
        "x_{1:}\\cdot y_{:1} & \\ x_{1:}\\cdot y_{:2} \\\\\n",
        "x_{2:}\\cdot y_{:1} & \\ x_{2:}\\cdot y_{:2} \\\\\n",
        "x_{3:}\\cdot y_{:1} & \\ x_{3:}\\cdot y_{:2}\n",
        "\\end{bmatrix}\n",
        "= \\begin{bmatrix}\n",
        "1\\times 7 + 4 \\times 8 & 1 \\times 9 + 4 \\times 10 \\\\\n",
        "2\\times 7 + 5 \\times 8 & 2 \\times 9 + 5 \\times 10 \\\\\n",
        "3\\times 7 + 6 \\times 8 & 3 \\times 9 + 6 \\times 10\n",
        "\\end{bmatrix}\n",
        "\\end{aligned}$$"
      ],
      "metadata": {
        "id": "gugeZjFi3zaF"
      }
    },
    {
      "cell_type": "code",
      "source": [
        "# (3, 2) 크기의 X 텐서와 (2, 2) 크기의 Y 텐서를 생성한다.\n",
        "X = torch.Tensor([[1, 4], \n",
        "                  [2, 5], \n",
        "                  [3, 6]])\n",
        "\n",
        "Y = torch.Tensor([[7, 9], \n",
        "                  [8, 10]])\n",
        "\n",
        "# 행렬의 곱셈을 한다.\n",
        "print(torch.mm(X, Y))\n",
        "print()\n",
        "print(X.mm(Y))"
      ],
      "metadata": {
        "id": "u-SRsZtA3xsW",
        "colab": {
          "base_uri": "https://localhost:8080/"
        },
        "outputId": "e24a31b1-3459-427d-f3e7-cbeeac7344a3"
      },
      "execution_count": null,
      "outputs": [
        {
          "output_type": "stream",
          "name": "stdout",
          "text": [
            "tensor([[39., 49.],\n",
            "        [54., 68.],\n",
            "        [69., 87.]])\n",
            "\n",
            "tensor([[39., 49.],\n",
            "        [54., 68.],\n",
            "        [69., 87.]])\n"
          ]
        }
      ]
    },
    {
      "cell_type": "markdown",
      "source": [
        "torch.mm과 torch.matmul 동일한 연산을 수행 결과값도 같다"
      ],
      "metadata": {
        "id": "swoKhYHhJwkX"
      }
    },
    {
      "cell_type": "code",
      "source": [
        "n1 = np.arange(10).reshape(2,5)\n",
        "t1 = torch.FloatTensor(n1)"
      ],
      "metadata": {
        "id": "aWvJEtJ-JASo"
      },
      "execution_count": null,
      "outputs": []
    },
    {
      "cell_type": "code",
      "source": [
        "n2 = np.arange(10).reshape(5,2)\n",
        "t2 = torch.FloatTensor(n2)\n",
        "\n",
        "t1.mm(t2)"
      ],
      "metadata": {
        "id": "JUzq0OOtI3ng",
        "colab": {
          "base_uri": "https://localhost:8080/"
        },
        "outputId": "5b33109d-8a5a-44b0-d500-52e8fc3c53f6"
      },
      "execution_count": null,
      "outputs": [
        {
          "output_type": "execute_result",
          "data": {
            "text/plain": [
              "tensor([[ 60.,  70.],\n",
              "        [160., 195.]])"
            ]
          },
          "metadata": {},
          "execution_count": 52
        }
      ]
    },
    {
      "cell_type": "code",
      "source": [
        "t1.dot(t2)"
      ],
      "metadata": {
        "id": "hphGBTjIJGKz",
        "colab": {
          "base_uri": "https://localhost:8080/",
          "height": 172
        },
        "outputId": "716ab56d-a97f-42d9-a837-c0a6093b867c"
      },
      "execution_count": null,
      "outputs": [
        {
          "output_type": "error",
          "ename": "RuntimeError",
          "evalue": "ignored",
          "traceback": [
            "\u001b[0;31m---------------------------------------------------------------------------\u001b[0m",
            "\u001b[0;31mRuntimeError\u001b[0m                              Traceback (most recent call last)",
            "\u001b[0;32m<ipython-input-53-e9d95797f0ac>\u001b[0m in \u001b[0;36m<cell line: 1>\u001b[0;34m()\u001b[0m\n\u001b[0;32m----> 1\u001b[0;31m \u001b[0mt1\u001b[0m\u001b[0;34m.\u001b[0m\u001b[0mdot\u001b[0m\u001b[0;34m(\u001b[0m\u001b[0mt2\u001b[0m\u001b[0;34m)\u001b[0m\u001b[0;34m\u001b[0m\u001b[0;34m\u001b[0m\u001b[0m\n\u001b[0m",
            "\u001b[0;31mRuntimeError\u001b[0m: 1D tensors expected, but got 2D and 2D tensors"
          ]
        }
      ]
    },
    {
      "cell_type": "code",
      "source": [
        "t1.matmul(t2)"
      ],
      "metadata": {
        "id": "ucqVoKhdJHvW",
        "colab": {
          "base_uri": "https://localhost:8080/"
        },
        "outputId": "967f3809-1e59-446b-f5e0-fe788f0abca6"
      },
      "execution_count": null,
      "outputs": [
        {
          "output_type": "execute_result",
          "data": {
            "text/plain": [
              "tensor([[ 60.,  70.],\n",
              "        [160., 195.]])"
            ]
          },
          "metadata": {},
          "execution_count": 57
        }
      ]
    },
    {
      "cell_type": "markdown",
      "source": [
        "broadcast가 안되는 예시"
      ],
      "metadata": {
        "id": "aQxdZ3-HJs_2"
      }
    },
    {
      "cell_type": "code",
      "source": [
        "a = torch.rand(5,2,3)\n",
        "b = torch.rand(3)\n",
        "a.mm(b)"
      ],
      "metadata": {
        "id": "kpVQaE3vJi_e",
        "colab": {
          "base_uri": "https://localhost:8080/",
          "height": 209
        },
        "outputId": "29b563f0-8731-4f61-9ee7-d11d1c7d1fcb"
      },
      "execution_count": null,
      "outputs": [
        {
          "output_type": "error",
          "ename": "RuntimeError",
          "evalue": "ignored",
          "traceback": [
            "\u001b[0;31m---------------------------------------------------------------------------\u001b[0m",
            "\u001b[0;31mRuntimeError\u001b[0m                              Traceback (most recent call last)",
            "\u001b[0;32m<ipython-input-58-a8ed672f8651>\u001b[0m in \u001b[0;36m<cell line: 3>\u001b[0;34m()\u001b[0m\n\u001b[1;32m      1\u001b[0m \u001b[0ma\u001b[0m \u001b[0;34m=\u001b[0m \u001b[0mtorch\u001b[0m\u001b[0;34m.\u001b[0m\u001b[0mrand\u001b[0m\u001b[0;34m(\u001b[0m\u001b[0;36m5\u001b[0m\u001b[0;34m,\u001b[0m\u001b[0;36m2\u001b[0m\u001b[0;34m,\u001b[0m\u001b[0;36m3\u001b[0m\u001b[0;34m)\u001b[0m\u001b[0;34m\u001b[0m\u001b[0;34m\u001b[0m\u001b[0m\n\u001b[1;32m      2\u001b[0m \u001b[0mb\u001b[0m \u001b[0;34m=\u001b[0m \u001b[0mtorch\u001b[0m\u001b[0;34m.\u001b[0m\u001b[0mrand\u001b[0m\u001b[0;34m(\u001b[0m\u001b[0;36m3\u001b[0m\u001b[0;34m)\u001b[0m\u001b[0;34m\u001b[0m\u001b[0;34m\u001b[0m\u001b[0m\n\u001b[0;32m----> 3\u001b[0;31m \u001b[0ma\u001b[0m\u001b[0;34m.\u001b[0m\u001b[0mmm\u001b[0m\u001b[0;34m(\u001b[0m\u001b[0mb\u001b[0m\u001b[0;34m)\u001b[0m\u001b[0;34m\u001b[0m\u001b[0;34m\u001b[0m\u001b[0m\n\u001b[0m",
            "\u001b[0;31mRuntimeError\u001b[0m: self must be a matrix"
          ]
        }
      ]
    },
    {
      "cell_type": "code",
      "source": [
        "a = torch.rand(5,2,3) \n",
        "b = torch.rand(3)\n",
        "a.matmul(b)"
      ],
      "metadata": {
        "id": "L4Axq1nAJkZJ",
        "colab": {
          "base_uri": "https://localhost:8080/"
        },
        "outputId": "6e00548b-82d9-4fa8-f872-7d3a90950ece"
      },
      "execution_count": null,
      "outputs": [
        {
          "output_type": "execute_result",
          "data": {
            "text/plain": [
              "tensor([[0.1207, 0.6795],\n",
              "        [0.4020, 0.8700],\n",
              "        [0.8628, 0.7616],\n",
              "        [0.4703, 0.7698],\n",
              "        [0.6747, 0.2543]])"
            ]
          },
          "metadata": {},
          "execution_count": 59
        }
      ]
    },
    {
      "cell_type": "code",
      "source": [
        "a.matmul(b).shape "
      ],
      "metadata": {
        "id": "MnsOg3D-LdZ9",
        "colab": {
          "base_uri": "https://localhost:8080/"
        },
        "outputId": "c6accb86-b255-4e88-c021-c4b18d8aae82"
      },
      "execution_count": null,
      "outputs": [
        {
          "output_type": "execute_result",
          "data": {
            "text/plain": [
              "torch.Size([5, 2])"
            ]
          },
          "metadata": {},
          "execution_count": 60
        }
      ]
    },
    {
      "cell_type": "markdown",
      "source": [
        "matmul은 a의 연산을 하나하나 떼어나서 mm연산한 것과 같다."
      ],
      "metadata": {
        "id": "jop7vmGbLq9R"
      }
    },
    {
      "cell_type": "code",
      "source": [
        "a[0].shape"
      ],
      "metadata": {
        "colab": {
          "base_uri": "https://localhost:8080/"
        },
        "id": "tQ1S52dh_bfa",
        "outputId": "9e3a3160-c39c-47c7-96cf-1da2ad91d9e4"
      },
      "execution_count": null,
      "outputs": [
        {
          "output_type": "execute_result",
          "data": {
            "text/plain": [
              "torch.Size([2, 3])"
            ]
          },
          "metadata": {},
          "execution_count": 77
        }
      ]
    },
    {
      "cell_type": "code",
      "source": [
        "a[0].mm(torch.unsqueeze(b,1)).squeeze()"
      ],
      "metadata": {
        "id": "aTPmzrUlLqZP",
        "colab": {
          "base_uri": "https://localhost:8080/"
        },
        "outputId": "0252aaa1-210f-49e9-a2cd-37ce3d8d47ea"
      },
      "execution_count": null,
      "outputs": [
        {
          "output_type": "execute_result",
          "data": {
            "text/plain": [
              "tensor([0.1207, 0.6795])"
            ]
          },
          "metadata": {},
          "execution_count": 61
        }
      ]
    },
    {
      "cell_type": "code",
      "source": [
        "a[1].mm(torch.unsqueeze(b,1))"
      ],
      "metadata": {
        "id": "CLrwjjm-LzGH",
        "colab": {
          "base_uri": "https://localhost:8080/"
        },
        "outputId": "6e0bd29b-3bfb-4b5b-9c2a-31d7bc312b0e"
      },
      "execution_count": null,
      "outputs": [
        {
          "output_type": "execute_result",
          "data": {
            "text/plain": [
              "tensor([[0.4020],\n",
              "        [0.8700]])"
            ]
          },
          "metadata": {},
          "execution_count": 62
        }
      ]
    },
    {
      "cell_type": "code",
      "source": [
        "a[2].mm(torch.unsqueeze(b,1))"
      ],
      "metadata": {
        "id": "LDW37hfAL4f5",
        "colab": {
          "base_uri": "https://localhost:8080/"
        },
        "outputId": "9a3c6dd2-7920-4f1b-e171-316e23589e45"
      },
      "execution_count": null,
      "outputs": [
        {
          "output_type": "execute_result",
          "data": {
            "text/plain": [
              "tensor([[0.8628],\n",
              "        [0.7616]])"
            ]
          },
          "metadata": {},
          "execution_count": 63
        }
      ]
    },
    {
      "cell_type": "code",
      "source": [
        "a[3].mm(torch.unsqueeze(b,1))"
      ],
      "metadata": {
        "id": "w3wykexuL73a",
        "colab": {
          "base_uri": "https://localhost:8080/"
        },
        "outputId": "a5b03a71-d05b-48c8-ed72-47a5f9f585de"
      },
      "execution_count": null,
      "outputs": [
        {
          "output_type": "execute_result",
          "data": {
            "text/plain": [
              "tensor([[0.4703],\n",
              "        [0.7698]])"
            ]
          },
          "metadata": {},
          "execution_count": 64
        }
      ]
    },
    {
      "cell_type": "code",
      "source": [
        "a[4].mm(torch.unsqueeze(b,1))"
      ],
      "metadata": {
        "id": "mLCyoDtnL9Du",
        "colab": {
          "base_uri": "https://localhost:8080/"
        },
        "outputId": "db66a743-cd42-4608-88e6-73454356abd9"
      },
      "execution_count": null,
      "outputs": [
        {
          "output_type": "execute_result",
          "data": {
            "text/plain": [
              "tensor([[0.6747],\n",
              "        [0.2543]])"
            ]
          },
          "metadata": {},
          "execution_count": 65
        }
      ]
    },
    {
      "cell_type": "markdown",
      "source": [
        "## 기초연산: \n",
        "\n",
        "### **sum / mean**\n",
        "\n",
        "$$Z = \\begin{aligned}\n",
        "\\begin{bmatrix}1 & 2 \\\\ 3 & 4 \\end{bmatrix}\\\\\n",
        "\\begin{bmatrix}5 & 6 \\\\ 7 & 8 \\end{bmatrix}\n",
        "\\end{aligned}$$"
      ],
      "metadata": {
        "id": "OzSZK5NI33TX"
      }
    },
    {
      "cell_type": "code",
      "source": [
        "# (2, 2, 2) 크기의 3차원 텐서 Z 를 생성한다.\n",
        "Z = torch.Tensor([[[1, 2], \n",
        "                   [3, 4]],\n",
        "                  \n",
        "                  [[5, 6], \n",
        "                   [7, 8]]])\n",
        "\n",
        "# 텐서의 모든 원소의 합 혹은 평균을 구한다.\n",
        "Z_sum = torch.sum(Z)\n",
        "Z_mean = torch.mean(Z)\n",
        "\n",
        "print(f\"sum: {Z_sum}\")\n",
        "print(f\"mean: {Z_mean}\")"
      ],
      "metadata": {
        "id": "4MSppV3U31d9",
        "colab": {
          "base_uri": "https://localhost:8080/"
        },
        "outputId": "a4ef873e-a904-4c2d-cdf5-972735f2e568"
      },
      "execution_count": null,
      "outputs": [
        {
          "output_type": "stream",
          "name": "stdout",
          "text": [
            "sum: 36.0\n",
            "mean: 4.5\n"
          ]
        }
      ]
    },
    {
      "cell_type": "markdown",
      "source": [
        "차원을 지정해주면, 해당 차원을 축소하면서 합(평균)을 구한다.\n",
        "\n",
        "$$\\begin{aligned} \n",
        "sum(Z, dim=0) &= \\begin{bmatrix}1+5 & 2+6 \\\\ 3+7 & 4+8 \\end{bmatrix}= \\begin{bmatrix}6 & 8 \\\\ 10 & 12 \\end{bmatrix} \\\\\n",
        "sum(Z, dim=1) &= \\begin{bmatrix}1+3 & 2+4 \\\\ 5+7 & 6+8 \\end{bmatrix}= \\begin{bmatrix}4 & 6 \\\\ 12 & 14 \\end{bmatrix} \\\\\n",
        "sum(Z, dim=2) &= \\begin{bmatrix}1+2 & 3+4 \\\\ 5+6 & 7+8 \\end{bmatrix}= \\begin{bmatrix}3 & 7 \\\\ 11 & 15 \\end{bmatrix} \\\\\n",
        "\\end{aligned}$$"
      ],
      "metadata": {
        "id": "2VhXpCBT35s0"
      }
    },
    {
      "cell_type": "code",
      "source": [
        "print(torch.sum(Z, dim=0))\n",
        "print()\n",
        "print(torch.mean(Z, dim=0))"
      ],
      "metadata": {
        "id": "uU8yoItQ34kz",
        "colab": {
          "base_uri": "https://localhost:8080/"
        },
        "outputId": "eb30bab9-c36b-4776-92ba-82de6cb7de6d"
      },
      "execution_count": null,
      "outputs": [
        {
          "output_type": "stream",
          "name": "stdout",
          "text": [
            "tensor([[ 6.,  8.],\n",
            "        [10., 12.]])\n",
            "\n",
            "tensor([[3., 4.],\n",
            "        [5., 6.]])\n"
          ]
        }
      ]
    },
    {
      "cell_type": "markdown",
      "source": [
        "### max & argmax / min & argmin "
      ],
      "metadata": {
        "id": "-Dle-q3J38RA"
      }
    },
    {
      "cell_type": "code",
      "source": [
        "# 텐서의 모든 원소중 최대값 및 최대값의 위치 구하기\n",
        "print(\"Z max:\", torch.max(Z))\n",
        "print(\"Z argmax:\",torch.argmax(Z))\n",
        "\n",
        "# 텐서의 모든 원소중 최소값 및 최소값의 위치 구하기\n",
        "print(\"Z min:\", torch.min(Z))\n",
        "print(\"Z argmin:\", torch.argmin(Z))\n",
        "\n",
        "Z"
      ],
      "metadata": {
        "id": "PJQ6uERc37D-",
        "colab": {
          "base_uri": "https://localhost:8080/"
        },
        "outputId": "049f7994-a6d4-44e7-f4c2-5d0c17a2dc95"
      },
      "execution_count": null,
      "outputs": [
        {
          "output_type": "stream",
          "name": "stdout",
          "text": [
            "Z max: tensor(8.)\n",
            "Z argmax: tensor(7)\n",
            "Z min: tensor(1.)\n",
            "Z argmin: tensor(0)\n"
          ]
        },
        {
          "output_type": "execute_result",
          "data": {
            "text/plain": [
              "tensor([[[1., 2.],\n",
              "         [3., 4.]],\n",
              "\n",
              "        [[5., 6.],\n",
              "         [7., 8.]]])"
            ]
          },
          "metadata": {},
          "execution_count": 80
        }
      ]
    },
    {
      "cell_type": "markdown",
      "source": [
        "차원 지정시 지정된 차원을 기준으로 차원이 축소 되면서 최대값 및 위치 혹은 최소값 및 위치를 가진 튜플(tuple)을 반환한다.\n",
        "\n",
        "\n",
        "$$max(Z, dim=1)=\n",
        "\\begin{aligned}\n",
        "\\begin{bmatrix} \n",
        "max\\begin{pmatrix} 1\\\\ 3 \\end{pmatrix} & max\\begin{pmatrix} 2\\\\ 4 \\end{pmatrix} \\end{bmatrix} \\\\\n",
        "\\begin{bmatrix}\n",
        "max\\begin{pmatrix} 5\\\\ 7 \\end{pmatrix} & max\\begin{pmatrix} 6\\\\ 8 \\end{pmatrix}\n",
        "\\end{bmatrix} \n",
        "\\end{aligned}\n",
        "= \\begin{bmatrix} 3 & 4 \\\\ 7 & 8 \\end{bmatrix}\n",
        "$$"
      ],
      "metadata": {
        "id": "dztgTLA53-gE"
      }
    },
    {
      "cell_type": "code",
      "source": [
        "Z_max, Z_argmax = torch.max(Z, dim=1)\n",
        "Z_min, Z_argmin = torch.min(Z, dim=1)\n",
        "print(\"Z max:\\n\", Z_max)\n",
        "print(\"Z argmax:\\n\", Z_argmax)\n",
        "print()\n",
        "print(\"Z min:\\n\", Z_min)\n",
        "print(\"Z argmin:\\n\", Z_argmin)"
      ],
      "metadata": {
        "id": "cGwsEbg639cg",
        "colab": {
          "base_uri": "https://localhost:8080/"
        },
        "outputId": "36121893-22b7-45dd-b49a-df85ba2f3068"
      },
      "execution_count": null,
      "outputs": [
        {
          "output_type": "stream",
          "name": "stdout",
          "text": [
            "Z max:\n",
            " tensor([[3., 4.],\n",
            "        [7., 8.]])\n",
            "Z argmax:\n",
            " tensor([[1, 1],\n",
            "        [1, 1]])\n",
            "\n",
            "Z min:\n",
            " tensor([[1., 2.],\n",
            "        [5., 6.]])\n",
            "Z argmin:\n",
            " tensor([[0, 0],\n",
            "        [0, 0]])\n"
          ]
        }
      ]
    },
    {
      "cell_type": "markdown",
      "source": [
        "### 논리연산"
      ],
      "metadata": {
        "id": "DzgAQuW24CLd"
      }
    },
    {
      "cell_type": "code",
      "source": [
        "# 크기가 3인 벡터를 생성\n",
        "z = torch.Tensor([-3, 2, 0])\n",
        "\n",
        "# 0과 같다\n",
        "print(\"equal to 0\")\n",
        "print(z.eq(0))\n",
        "print(z == 0)\n",
        "print()\n",
        "\n",
        "# 0 보다 크거나 같다\n",
        "print(\"great than or equal to 0\")\n",
        "print(z.ge(0))\n",
        "print(z >= 0)\n",
        "print()\n",
        "\n",
        "# 0보다 크다\n",
        "print(\"great than 0\")\n",
        "print(z.gt(0))\n",
        "print(z > 0)\n",
        "print()\n",
        "\n",
        "# 0보다 작거나 같다\n",
        "print(\"less than or equal to 0\")\n",
        "print(z.le(0))\n",
        "print(z <= 0)\n",
        "print()\n",
        "\n",
        "# 0보다 작다\n",
        "print(\"less than 0\")\n",
        "print(z.lt(0))\n",
        "print(z < 0)"
      ],
      "metadata": {
        "id": "FbW3kMnO3_1d",
        "colab": {
          "base_uri": "https://localhost:8080/"
        },
        "outputId": "ef737381-4f62-499c-d02a-b82307e2057b"
      },
      "execution_count": null,
      "outputs": [
        {
          "output_type": "stream",
          "name": "stdout",
          "text": [
            "equal to 0\n",
            "tensor([False, False,  True])\n",
            "tensor([False, False,  True])\n",
            "\n",
            "great than or equal to 0\n",
            "tensor([False,  True,  True])\n",
            "tensor([False,  True,  True])\n",
            "\n",
            "great than 0\n",
            "tensor([False,  True, False])\n",
            "tensor([False,  True, False])\n",
            "\n",
            "less than or equal to 0\n",
            "tensor([ True, False,  True])\n",
            "tensor([ True, False,  True])\n",
            "\n",
            "less than 0\n",
            "tensor([ True, False, False])\n",
            "tensor([ True, False, False])\n"
          ]
        }
      ]
    },
    {
      "cell_type": "markdown",
      "source": [
        "# Coding Part\n",
        "\n",
        "두 벡터 $w$와 $x$, 스칼라 $b$ 가 있다. 함수`function`를 작성해보자!\n",
        "\n",
        "1. 두 벡터(x, w)의 내적 값에 b를 더해서 z값을 구한다. \n",
        "2. z값이 0 보다 크면 1, 0과 같거나 작으면 0 을 반환한다. \n",
        "\n",
        "$$\\begin{aligned}\n",
        "w = \\begin{bmatrix} 0.7 \\\\ 0.7 \\end{bmatrix}, \\quad b = \\begin{bmatrix} -0.5 \\end{bmatrix}, \\quad x = \\begin{bmatrix} 1 \\\\ 0 \\end{bmatrix}\n",
        "\\end{aligned}$$\n",
        "\n",
        "3. check 함수에서 b가 스칼라 값을 갖도록 하는 조건을 작성한다."
      ],
      "metadata": {
        "id": "jeWN2xyC4RDV"
      }
    },
    {
      "cell_type": "code",
      "source": [
        "def function(x, w, b):\n",
        "    check(w, b)\n",
        "\n",
        "    # 1. 두 벡터의 내적 + b\n",
        "    z = torch.dot(x, w) + b\n",
        "    \n",
        "    # 2. 0 보다 크면 1, 작거나 같으면 0 반환 \n",
        "    \"\"\"write your code\"\"\"\n",
        "    if z > 0:\n",
        "        return 1\n",
        "    else:\n",
        "        return 0\n",
        "\n",
        "   #  return 1 if z > 0 else 0 한 줄로도 가능 대박\n",
        "\n",
        "def check(w, b):\n",
        "    assert len(w) == 2, \"w에 두 개의 숫자가 필요합니다.\"\n",
        "\n",
        "     # 3. True condition\n",
        "    assert (b.dim()==1) and (len(b) ==1) , \"b는 스칼라 값이어야 합니다.\"\n",
        "    \n",
        "\n"
      ],
      "metadata": {
        "id": "KVqcVi6H4DZZ"
      },
      "execution_count": null,
      "outputs": []
    },
    {
      "cell_type": "code",
      "source": [
        "x = torch.FloatTensor([0, 1])\n",
        "w = torch.FloatTensor([0.7, 0.7])\n",
        "b = torch.FloatTensor([-0.5])\n",
        "\n",
        "function(x, w, b)"
      ],
      "metadata": {
        "id": "9AXaOzqY4T2y",
        "colab": {
          "base_uri": "https://localhost:8080/"
        },
        "outputId": "d597576c-d81c-48c4-89be-b38d14a38188"
      },
      "execution_count": null,
      "outputs": [
        {
          "output_type": "execute_result",
          "data": {
            "text/plain": [
              "1"
            ]
          },
          "metadata": {},
          "execution_count": 87
        }
      ]
    },
    {
      "cell_type": "code",
      "source": [
        "print(x)"
      ],
      "metadata": {
        "id": "yHLWJWcM4XiW",
        "colab": {
          "base_uri": "https://localhost:8080/"
        },
        "outputId": "8938c813-0f43-4928-b0c7-036843cfea97"
      },
      "execution_count": null,
      "outputs": [
        {
          "output_type": "stream",
          "name": "stdout",
          "text": [
            "tensor([0., 1.])\n"
          ]
        }
      ]
    },
    {
      "cell_type": "code",
      "source": [
        "print(w)"
      ],
      "metadata": {
        "id": "UMHv_MpD4YZL",
        "colab": {
          "base_uri": "https://localhost:8080/"
        },
        "outputId": "9477202c-e984-4a3a-dba1-62a97a46cd7d"
      },
      "execution_count": null,
      "outputs": [
        {
          "output_type": "stream",
          "name": "stdout",
          "text": [
            "tensor([0.7000, 0.7000])\n"
          ]
        }
      ]
    },
    {
      "cell_type": "code",
      "source": [
        "print(z)"
      ],
      "metadata": {
        "id": "jm2Yyf-c4ZJt",
        "colab": {
          "base_uri": "https://localhost:8080/"
        },
        "outputId": "899d6ba9-01e7-45e1-e415-bbb1d41545a9"
      },
      "execution_count": null,
      "outputs": [
        {
          "output_type": "stream",
          "name": "stdout",
          "text": [
            "tensor([-3.,  2.,  0.])\n"
          ]
        }
      ]
    },
    {
      "cell_type": "code",
      "source": [
        "# randomseed \n",
        "\n",
        "print('cpu seed in pytorch : ', torch.initial_seed())\n",
        "print('gpu seed in pytorch : ', torch.cuda.initial_seed())\n",
        "\n",
        "torch.manual_seed(12345678910)\n",
        "\n",
        "print('cpu seed in pytorch : ', torch.initial_seed())\n",
        "print('gpu seed in pytorch : ', torch.cuda.initial_seed())"
      ],
      "metadata": {
        "id": "ch0PGxymjgTY",
        "colab": {
          "base_uri": "https://localhost:8080/"
        },
        "outputId": "acb90436-7132-468c-bad7-a207e55a8044"
      },
      "execution_count": null,
      "outputs": [
        {
          "output_type": "stream",
          "name": "stdout",
          "text": [
            "cpu seed in pytorch :  777\n",
            "gpu seed in pytorch :  777\n",
            "cpu seed in pytorch :  12345678910\n",
            "gpu seed in pytorch :  12345678910\n"
          ]
        }
      ]
    },
    {
      "cell_type": "markdown",
      "source": [
        "벡터내적곱 torch.dot\n",
        "\n",
        "벡터내적곱 torch.mm\n",
        "\n",
        "행렬 크기 변경 torch.view"
      ],
      "metadata": {
        "id": "eIXF7c2uEuXI"
      }
    },
    {
      "cell_type": "code",
      "source": [],
      "metadata": {
        "id": "fS9UNgDsE3di"
      },
      "execution_count": null,
      "outputs": []
    }
  ]
}