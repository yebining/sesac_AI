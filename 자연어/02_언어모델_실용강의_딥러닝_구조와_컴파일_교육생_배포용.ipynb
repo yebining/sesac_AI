{
  "nbformat": 4,
  "nbformat_minor": 0,
  "metadata": {
    "colab": {
      "provenance": []
    },
    "kernelspec": {
      "name": "python3",
      "display_name": "Python 3"
    },
    "language_info": {
      "name": "python"
    },
    "accelerator": "GPU",
    "gpuClass": "standard"
  },
  "cells": [
    {
      "cell_type": "markdown",
      "metadata": {
        "id": "2ne8B3XaCEIC"
      },
      "source": [
        "# 1.문제별 딥러닝 학습 프로세스"
      ]
    },
    {
      "cell_type": "code",
      "metadata": {
        "id": "_7DcNWQgB_wA"
      },
      "source": [
        "# 데이터분석 라이브러리\n",
        "import numpy as np\n",
        "import matplotlib.pyplot as plt\n",
        "import pandas as pd\n",
        "\n",
        "# 딥러닝 라이브러리\n",
        "import tensorflow as tf\n",
        "from tensorflow import keras\n",
        "from tensorflow.keras import models\n",
        "from tensorflow.keras import layers"
      ],
      "execution_count": 1,
      "outputs": []
    },
    {
      "cell_type": "markdown",
      "metadata": {
        "id": "rlnC0JrjChSJ"
      },
      "source": [
        "<img src=\"https://i.imgur.com/1KzycmW.png\" width=\"600px\" />"
      ]
    },
    {
      "cell_type": "code",
      "metadata": {
        "id": "gGfj9dzLDmhJ"
      },
      "source": [
        "data = pd.DataFrame([[6, 4, 2, 75, 0, 3],\n",
        "                     [7, 3, 1, 80, 0, 2],\n",
        "                     [8, 2, 0, 85, 0, 2],\n",
        "                     [9, 1, 1, 90, 1, 1],\n",
        "                     [10,0, 2,100, 1, 0]], \n",
        "                     columns=['공부', '게임', 'TV', '성적', '합격여부', '등급'])\n",
        "\n",
        "X = data[['공부', '게임', 'TV']]\n"
      ],
      "execution_count": 2,
      "outputs": []
    },
    {
      "cell_type": "markdown",
      "metadata": {
        "id": "Hi2ZrmxaCr5k"
      },
      "source": [
        "### 수치 예측 문제 (성적 예측 모델)"
      ]
    },
    {
      "cell_type": "markdown",
      "source": [
        "<img src=\"https://i.imgur.com/RqEp3A3.png\" width=\"500px\" />"
      ],
      "metadata": {
        "id": "3sqnFU6ggnZb"
      }
    },
    {
      "cell_type": "code",
      "metadata": {
        "id": "y64TZ6OfCQku",
        "colab": {
          "base_uri": "https://localhost:8080/"
        },
        "outputId": "17d95179-a027-4f66-aac0-e60645cb34fd"
      },
      "source": [
        "Y = data['성적']\n",
        "\n",
        "model = models.Sequential(\n",
        "    [\n",
        "        layers.Dense(2, activation=\"relu\"),   \n",
        "        layers.Dense(3, activation=\"relu\"),   \n",
        "        layers.Dense(3, activation=\"relu\"),\n",
        "        layers.Dense(1),\n",
        "    ]\n",
        ")\n",
        "\n",
        "model.compile(loss='mse', optimizer='adam')   \n",
        "model.fit(X, Y)\n",
        "\n",
        "\n"
      ],
      "execution_count": 6,
      "outputs": [
        {
          "output_type": "stream",
          "name": "stdout",
          "text": [
            "1/1 [==============================] - 1s 898ms/step - loss: 7798.3320\n"
          ]
        },
        {
          "output_type": "execute_result",
          "data": {
            "text/plain": [
              "<keras.callbacks.History at 0x7fdbdaa1a490>"
            ]
          },
          "metadata": {},
          "execution_count": 6
        }
      ]
    },
    {
      "cell_type": "markdown",
      "metadata": {
        "id": "F6FehI2GDM5o"
      },
      "source": [
        "### 이진 분류 문제 (합격/불합격 분류 모델)"
      ]
    },
    {
      "cell_type": "markdown",
      "source": [
        "<img src=\"https://i.imgur.com/OMQkfGu.png\" width=\"600px\" />"
      ],
      "metadata": {
        "id": "7yY-a9Kqhppc"
      }
    },
    {
      "cell_type": "code",
      "metadata": {
        "id": "AvNgEKy5D86w",
        "colab": {
          "base_uri": "https://localhost:8080/"
        },
        "outputId": "ecf864ef-b596-44ed-d213-2af8d172c4e9"
      },
      "source": [
        "Y = data['합격여부']\n",
        "\n",
        "model = models.Sequential(\n",
        "    [\n",
        "        layers.Dense(2, activation=\"relu\"),   \n",
        "        layers.Dense(3, activation=\"relu\"),   \n",
        "        layers.Dense(3, activation=\"relu\"),\n",
        "        layers.Dense(1, activation='sigmoid'),\n",
        "    ]\n",
        ")\n",
        "\n",
        "model.compile(loss='binary_crossentropy', optimizer='adam')\n",
        "model.fit(X, Y)\n"
      ],
      "execution_count": 7,
      "outputs": [
        {
          "output_type": "stream",
          "name": "stdout",
          "text": [
            "1/1 [==============================] - 1s 953ms/step - loss: 0.8846\n"
          ]
        },
        {
          "output_type": "execute_result",
          "data": {
            "text/plain": [
              "<keras.callbacks.History at 0x7fdbda84c460>"
            ]
          },
          "metadata": {},
          "execution_count": 7
        }
      ]
    },
    {
      "cell_type": "markdown",
      "metadata": {
        "id": "kNCioVavDfYg"
      },
      "source": [
        "### 다중 분류 문제 (성적 등급 분류 문제)"
      ]
    },
    {
      "cell_type": "markdown",
      "source": [
        "<img src=\"https://i.imgur.com/qr7IN7j.png\" width=\"600px\" />"
      ],
      "metadata": {
        "id": "5_gbgHYti3HK"
      }
    },
    {
      "cell_type": "code",
      "metadata": {
        "id": "J8nMnNENEtUe",
        "colab": {
          "base_uri": "https://localhost:8080/"
        },
        "outputId": "a6004da7-c604-4315-808c-f070d89dda0b"
      },
      "source": [
        "Y = data['등급']\n",
        "\n",
        "model = models.Sequential(\n",
        "    [\n",
        "        layers.Dense(3, activation=\"relu\"),   \n",
        "        layers.Dense(2, activation=\"relu\"),   \n",
        "        layers.Dense(3, activation=\"relu\"),\n",
        "        layers.Dense(4, activation='softmax'),\n",
        "    ]\n",
        ")\n",
        "\n",
        "model.compile(loss='sparse_categorical_crossentropy', optimizer='adam')\n",
        "model.fit(X, Y)\n",
        "\n",
        "\n",
        "\n"
      ],
      "execution_count": 14,
      "outputs": [
        {
          "output_type": "stream",
          "name": "stderr",
          "text": [
            "WARNING:tensorflow:5 out of the last 5 calls to <function Model.make_train_function.<locals>.train_function at 0x7fdbd9e9f4c0> triggered tf.function retracing. Tracing is expensive and the excessive number of tracings could be due to (1) creating @tf.function repeatedly in a loop, (2) passing tensors with different shapes, (3) passing Python objects instead of tensors. For (1), please define your @tf.function outside of the loop. For (2), @tf.function has reduce_retracing=True option that can avoid unnecessary retracing. For (3), please refer to https://www.tensorflow.org/guide/function#controlling_retracing and https://www.tensorflow.org/api_docs/python/tf/function for  more details.\n"
          ]
        },
        {
          "output_type": "stream",
          "name": "stdout",
          "text": [
            "1/1 [==============================] - 1s 948ms/step - loss: 1.3863\n"
          ]
        },
        {
          "output_type": "execute_result",
          "data": {
            "text/plain": [
              "<keras.callbacks.History at 0x7fdbd9ea7160>"
            ]
          },
          "metadata": {},
          "execution_count": 14
        }
      ]
    },
    {
      "cell_type": "code",
      "source": [],
      "metadata": {
        "id": "YlfVGUtufzPx"
      },
      "execution_count": null,
      "outputs": []
    }
  ]
}