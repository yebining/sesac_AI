{
  "nbformat": 4,
  "nbformat_minor": 0,
  "metadata": {
    "colab": {
      "provenance": []
    },
    "kernelspec": {
      "name": "python3",
      "display_name": "Python 3"
    },
    "language_info": {
      "name": "python"
    },
    "accelerator": "GPU",
    "gpuClass": "standard"
  },
  "cells": [
    {
      "cell_type": "code",
      "execution_count": 2,
      "metadata": {
        "id": "kTi3J0cyEgEs"
      },
      "outputs": [],
      "source": [
        "#영화리뷰를 사용한 텍스트 분류\n",
        "\n",
        "import tensorflow as tf\n",
        "from tensorflow import keras\n",
        "\n",
        "import numpy as np\n",
        "import pandas as pd\n",
        "\n",
        "import json \n",
        "import os"
      ]
    },
    {
      "cell_type": "code",
      "source": [
        "#데이터 불러오기\n",
        "#네이버 영화 감성 분석 데이터 다운로드\n",
        "\n",
        "!git clone https://github.com/e9t/nsmc.git"
      ],
      "metadata": {
        "colab": {
          "base_uri": "https://localhost:8080/"
        },
        "id": "1z_kr8fCOQNI",
        "outputId": "9c7440df-1e53-4b5c-fd0d-25cc674f24b4"
      },
      "execution_count": 3,
      "outputs": [
        {
          "output_type": "stream",
          "name": "stdout",
          "text": [
            "Cloning into 'nsmc'...\n",
            "remote: Enumerating objects: 14763, done.\u001b[K\n",
            "remote: Total 14763 (delta 0), reused 0 (delta 0), pack-reused 14763\u001b[K\n",
            "Receiving objects: 100% (14763/14763), 56.19 MiB | 21.58 MiB/s, done.\n",
            "Resolving deltas: 100% (1749/1749), done.\n",
            "Updating files: 100% (14737/14737), done.\n"
          ]
        }
      ]
    },
    {
      "cell_type": "code",
      "source": [
        "import os\n",
        "os.listdir('nsmc')"
      ],
      "metadata": {
        "colab": {
          "base_uri": "https://localhost:8080/"
        },
        "id": "sItWxf9BOm56",
        "outputId": "a4d180e7-5700-417d-924d-39d375d398b3"
      },
      "execution_count": 4,
      "outputs": [
        {
          "output_type": "execute_result",
          "data": {
            "text/plain": [
              "['README.md',\n",
              " 'raw',\n",
              " '.git',\n",
              " 'ratings.txt',\n",
              " 'code',\n",
              " 'synopses.json',\n",
              " 'ratings_train.txt',\n",
              " 'ratings_test.txt']"
            ]
          },
          "metadata": {},
          "execution_count": 4
        }
      ]
    },
    {
      "cell_type": "code",
      "source": [
        "train=pd.read_table('nsmc/'+'ratings_train.txt')\n",
        "test=pd.read_table('nsmc/'+'ratings_test.txt')"
      ],
      "metadata": {
        "id": "-5IgcqSAOrVi"
      },
      "execution_count": 6,
      "outputs": []
    },
    {
      "cell_type": "code",
      "source": [
        "print('훈련 샘플: {}, 검증: {}'.format(len(train), len(test)))"
      ],
      "metadata": {
        "colab": {
          "base_uri": "https://localhost:8080/"
        },
        "id": "yISdE_BDOzdZ",
        "outputId": "06e715e8-2f48-4d72-bc16-7ecb4b47d2ae"
      },
      "execution_count": 8,
      "outputs": [
        {
          "output_type": "stream",
          "name": "stdout",
          "text": [
            "훈련 샘플: 150000, 검증: 50000\n"
          ]
        }
      ]
    },
    {
      "cell_type": "code",
      "source": [
        "#데이터 분석\n",
        "train[50:70]\n",
        "#라벨 > 이진 분류 (0,1)"
      ],
      "metadata": {
        "colab": {
          "base_uri": "https://localhost:8080/",
          "height": 676
        },
        "id": "9MGlSTd5PDQi",
        "outputId": "ee79ed50-c29c-48bc-ff4b-5827e85ca68e"
      },
      "execution_count": 12,
      "outputs": [
        {
          "output_type": "execute_result",
          "data": {
            "text/plain": [
              "          id                                           document  label\n",
              "50   9063648  영화가 사람의 영혼을 어루만져 줄 수도 있군요 거친 세상사를 잠시 잊고 동화같은 영...      1\n",
              "51   8272095              야 세르게이! 작은고추의 매운맛을 보여주마! 포퐁저그 콩진호가 간다      0\n",
              "52   2345905                   이렇게 가슴시리게 본 드라마가 또 있을까? 감동 그 자체!      1\n",
              "53   7865630  난또 저 꼬마애가 무슨 원한이 깊길래.,. 했더니 OO 그냥 혼자 나대다 OO걸 어...      0\n",
              "54   7207064                                              재미있어요      1\n",
              "55   5719655                                              전 좋아요      1\n",
              "56   1651126                                                 최고      0\n",
              "57   7246040  너무 충격적이엇다. 기분을 완전히 푹 꺼지게 하는 느낌... 활력이라고는 하나도 없...      1\n",
              "58    717775                                             심심한영화.      0\n",
              "59   8317483                                        백봉기 언제나오나요?      1\n",
              "60   1031725                        보는내내 그대로 들어맞는 예측 카리스마 없는 악역      0\n",
              "61   3993146                    불알이 나와서 당황...아무튼 영화가 중간에 끝나는 느낌      0\n",
              "62   2196616                       평범함속에 녹아든 평범한 일상. 조금 밋밋한게 흠.      0\n",
              "63   8203798  보던거라 계속보고있는데 전개도 느리고 주인공인 은희는 한두컷 나오면서 소극적인모습에...      0\n",
              "64   2332588                     사랑하고싶게하는,가슴속온감정을헤집어놓는영화예요정말최고.      1\n",
              "65  10084753  많은 사람들이 이 다큐를 보고 우리나라 슬픈 현대사의 한 단면에 대해 깊이 생각하고...      1\n",
              "66   8518645  예전 작품 캐릭터, 에피소드 재탕 삼탕 사골우려먹듯 우리고 내용은 산으로 가고 시청...      0\n",
              "67   7956793           김남길의 백점짜리 연기력과 초반 몰입도에도 불구하고 지루하고 손예진 ㅈㅈ      0\n",
              "68   3996917                       재밌네 비슷한 영화를 안보신 분들한테는 재미있을 듯      1\n",
              "69   8128006                 노래실력으로뽑는게 맞냐? 박시환이 mama나가면 진짜 망신이다      0"
            ],
            "text/html": [
              "\n",
              "  <div id=\"df-10734fde-d8c8-49a0-bc5e-78ae49e08912\">\n",
              "    <div class=\"colab-df-container\">\n",
              "      <div>\n",
              "<style scoped>\n",
              "    .dataframe tbody tr th:only-of-type {\n",
              "        vertical-align: middle;\n",
              "    }\n",
              "\n",
              "    .dataframe tbody tr th {\n",
              "        vertical-align: top;\n",
              "    }\n",
              "\n",
              "    .dataframe thead th {\n",
              "        text-align: right;\n",
              "    }\n",
              "</style>\n",
              "<table border=\"1\" class=\"dataframe\">\n",
              "  <thead>\n",
              "    <tr style=\"text-align: right;\">\n",
              "      <th></th>\n",
              "      <th>id</th>\n",
              "      <th>document</th>\n",
              "      <th>label</th>\n",
              "    </tr>\n",
              "  </thead>\n",
              "  <tbody>\n",
              "    <tr>\n",
              "      <th>50</th>\n",
              "      <td>9063648</td>\n",
              "      <td>영화가 사람의 영혼을 어루만져 줄 수도 있군요 거친 세상사를 잠시 잊고 동화같은 영...</td>\n",
              "      <td>1</td>\n",
              "    </tr>\n",
              "    <tr>\n",
              "      <th>51</th>\n",
              "      <td>8272095</td>\n",
              "      <td>야 세르게이! 작은고추의 매운맛을 보여주마! 포퐁저그 콩진호가 간다</td>\n",
              "      <td>0</td>\n",
              "    </tr>\n",
              "    <tr>\n",
              "      <th>52</th>\n",
              "      <td>2345905</td>\n",
              "      <td>이렇게 가슴시리게 본 드라마가 또 있을까? 감동 그 자체!</td>\n",
              "      <td>1</td>\n",
              "    </tr>\n",
              "    <tr>\n",
              "      <th>53</th>\n",
              "      <td>7865630</td>\n",
              "      <td>난또 저 꼬마애가 무슨 원한이 깊길래.,. 했더니 OO 그냥 혼자 나대다 OO걸 어...</td>\n",
              "      <td>0</td>\n",
              "    </tr>\n",
              "    <tr>\n",
              "      <th>54</th>\n",
              "      <td>7207064</td>\n",
              "      <td>재미있어요</td>\n",
              "      <td>1</td>\n",
              "    </tr>\n",
              "    <tr>\n",
              "      <th>55</th>\n",
              "      <td>5719655</td>\n",
              "      <td>전 좋아요</td>\n",
              "      <td>1</td>\n",
              "    </tr>\n",
              "    <tr>\n",
              "      <th>56</th>\n",
              "      <td>1651126</td>\n",
              "      <td>최고</td>\n",
              "      <td>0</td>\n",
              "    </tr>\n",
              "    <tr>\n",
              "      <th>57</th>\n",
              "      <td>7246040</td>\n",
              "      <td>너무 충격적이엇다. 기분을 완전히 푹 꺼지게 하는 느낌... 활력이라고는 하나도 없...</td>\n",
              "      <td>1</td>\n",
              "    </tr>\n",
              "    <tr>\n",
              "      <th>58</th>\n",
              "      <td>717775</td>\n",
              "      <td>심심한영화.</td>\n",
              "      <td>0</td>\n",
              "    </tr>\n",
              "    <tr>\n",
              "      <th>59</th>\n",
              "      <td>8317483</td>\n",
              "      <td>백봉기 언제나오나요?</td>\n",
              "      <td>1</td>\n",
              "    </tr>\n",
              "    <tr>\n",
              "      <th>60</th>\n",
              "      <td>1031725</td>\n",
              "      <td>보는내내 그대로 들어맞는 예측 카리스마 없는 악역</td>\n",
              "      <td>0</td>\n",
              "    </tr>\n",
              "    <tr>\n",
              "      <th>61</th>\n",
              "      <td>3993146</td>\n",
              "      <td>불알이 나와서 당황...아무튼 영화가 중간에 끝나는 느낌</td>\n",
              "      <td>0</td>\n",
              "    </tr>\n",
              "    <tr>\n",
              "      <th>62</th>\n",
              "      <td>2196616</td>\n",
              "      <td>평범함속에 녹아든 평범한 일상. 조금 밋밋한게 흠.</td>\n",
              "      <td>0</td>\n",
              "    </tr>\n",
              "    <tr>\n",
              "      <th>63</th>\n",
              "      <td>8203798</td>\n",
              "      <td>보던거라 계속보고있는데 전개도 느리고 주인공인 은희는 한두컷 나오면서 소극적인모습에...</td>\n",
              "      <td>0</td>\n",
              "    </tr>\n",
              "    <tr>\n",
              "      <th>64</th>\n",
              "      <td>2332588</td>\n",
              "      <td>사랑하고싶게하는,가슴속온감정을헤집어놓는영화예요정말최고.</td>\n",
              "      <td>1</td>\n",
              "    </tr>\n",
              "    <tr>\n",
              "      <th>65</th>\n",
              "      <td>10084753</td>\n",
              "      <td>많은 사람들이 이 다큐를 보고 우리나라 슬픈 현대사의 한 단면에 대해 깊이 생각하고...</td>\n",
              "      <td>1</td>\n",
              "    </tr>\n",
              "    <tr>\n",
              "      <th>66</th>\n",
              "      <td>8518645</td>\n",
              "      <td>예전 작품 캐릭터, 에피소드 재탕 삼탕 사골우려먹듯 우리고 내용은 산으로 가고 시청...</td>\n",
              "      <td>0</td>\n",
              "    </tr>\n",
              "    <tr>\n",
              "      <th>67</th>\n",
              "      <td>7956793</td>\n",
              "      <td>김남길의 백점짜리 연기력과 초반 몰입도에도 불구하고 지루하고 손예진 ㅈㅈ</td>\n",
              "      <td>0</td>\n",
              "    </tr>\n",
              "    <tr>\n",
              "      <th>68</th>\n",
              "      <td>3996917</td>\n",
              "      <td>재밌네 비슷한 영화를 안보신 분들한테는 재미있을 듯</td>\n",
              "      <td>1</td>\n",
              "    </tr>\n",
              "    <tr>\n",
              "      <th>69</th>\n",
              "      <td>8128006</td>\n",
              "      <td>노래실력으로뽑는게 맞냐? 박시환이 mama나가면 진짜 망신이다</td>\n",
              "      <td>0</td>\n",
              "    </tr>\n",
              "  </tbody>\n",
              "</table>\n",
              "</div>\n",
              "      <button class=\"colab-df-convert\" onclick=\"convertToInteractive('df-10734fde-d8c8-49a0-bc5e-78ae49e08912')\"\n",
              "              title=\"Convert this dataframe to an interactive table.\"\n",
              "              style=\"display:none;\">\n",
              "        \n",
              "  <svg xmlns=\"http://www.w3.org/2000/svg\" height=\"24px\"viewBox=\"0 0 24 24\"\n",
              "       width=\"24px\">\n",
              "    <path d=\"M0 0h24v24H0V0z\" fill=\"none\"/>\n",
              "    <path d=\"M18.56 5.44l.94 2.06.94-2.06 2.06-.94-2.06-.94-.94-2.06-.94 2.06-2.06.94zm-11 1L8.5 8.5l.94-2.06 2.06-.94-2.06-.94L8.5 2.5l-.94 2.06-2.06.94zm10 10l.94 2.06.94-2.06 2.06-.94-2.06-.94-.94-2.06-.94 2.06-2.06.94z\"/><path d=\"M17.41 7.96l-1.37-1.37c-.4-.4-.92-.59-1.43-.59-.52 0-1.04.2-1.43.59L10.3 9.45l-7.72 7.72c-.78.78-.78 2.05 0 2.83L4 21.41c.39.39.9.59 1.41.59.51 0 1.02-.2 1.41-.59l7.78-7.78 2.81-2.81c.8-.78.8-2.07 0-2.86zM5.41 20L4 18.59l7.72-7.72 1.47 1.35L5.41 20z\"/>\n",
              "  </svg>\n",
              "      </button>\n",
              "      \n",
              "  <style>\n",
              "    .colab-df-container {\n",
              "      display:flex;\n",
              "      flex-wrap:wrap;\n",
              "      gap: 12px;\n",
              "    }\n",
              "\n",
              "    .colab-df-convert {\n",
              "      background-color: #E8F0FE;\n",
              "      border: none;\n",
              "      border-radius: 50%;\n",
              "      cursor: pointer;\n",
              "      display: none;\n",
              "      fill: #1967D2;\n",
              "      height: 32px;\n",
              "      padding: 0 0 0 0;\n",
              "      width: 32px;\n",
              "    }\n",
              "\n",
              "    .colab-df-convert:hover {\n",
              "      background-color: #E2EBFA;\n",
              "      box-shadow: 0px 1px 2px rgba(60, 64, 67, 0.3), 0px 1px 3px 1px rgba(60, 64, 67, 0.15);\n",
              "      fill: #174EA6;\n",
              "    }\n",
              "\n",
              "    [theme=dark] .colab-df-convert {\n",
              "      background-color: #3B4455;\n",
              "      fill: #D2E3FC;\n",
              "    }\n",
              "\n",
              "    [theme=dark] .colab-df-convert:hover {\n",
              "      background-color: #434B5C;\n",
              "      box-shadow: 0px 1px 3px 1px rgba(0, 0, 0, 0.15);\n",
              "      filter: drop-shadow(0px 1px 2px rgba(0, 0, 0, 0.3));\n",
              "      fill: #FFFFFF;\n",
              "    }\n",
              "  </style>\n",
              "\n",
              "      <script>\n",
              "        const buttonEl =\n",
              "          document.querySelector('#df-10734fde-d8c8-49a0-bc5e-78ae49e08912 button.colab-df-convert');\n",
              "        buttonEl.style.display =\n",
              "          google.colab.kernel.accessAllowed ? 'block' : 'none';\n",
              "\n",
              "        async function convertToInteractive(key) {\n",
              "          const element = document.querySelector('#df-10734fde-d8c8-49a0-bc5e-78ae49e08912');\n",
              "          const dataTable =\n",
              "            await google.colab.kernel.invokeFunction('convertToInteractive',\n",
              "                                                     [key], {});\n",
              "          if (!dataTable) return;\n",
              "\n",
              "          const docLinkHtml = 'Like what you see? Visit the ' +\n",
              "            '<a target=\"_blank\" href=https://colab.research.google.com/notebooks/data_table.ipynb>data table notebook</a>'\n",
              "            + ' to learn more about interactive tables.';\n",
              "          element.innerHTML = '';\n",
              "          dataTable['output_type'] = 'display_data';\n",
              "          await google.colab.output.renderOutput(dataTable, element);\n",
              "          const docLink = document.createElement('div');\n",
              "          docLink.innerHTML = docLinkHtml;\n",
              "          element.appendChild(docLink);\n",
              "        }\n",
              "      </script>\n",
              "    </div>\n",
              "  </div>\n",
              "  "
            ]
          },
          "metadata": {},
          "execution_count": 12
        }
      ]
    },
    {
      "cell_type": "code",
      "source": [
        "train_data=train['document']\n",
        "train_labels=train['label']\n",
        "\n",
        "test_data=test['document']\n",
        "test_labels=test['label']"
      ],
      "metadata": {
        "id": "fSuBx08tPJQR"
      },
      "execution_count": 13,
      "outputs": []
    },
    {
      "cell_type": "code",
      "source": [
        "test_data[:10]"
      ],
      "metadata": {
        "colab": {
          "base_uri": "https://localhost:8080/"
        },
        "id": "gcTVP1IdP11v",
        "outputId": "0f43fb6d-79d9-4ddc-c765-925bb4dec38f"
      },
      "execution_count": 17,
      "outputs": [
        {
          "output_type": "execute_result",
          "data": {
            "text/plain": [
              "0                                                  굳 ㅋ\n",
              "1                                 GDNTOPCLASSINTHECLUB\n",
              "2               뭐야 이 평점들은.... 나쁘진 않지만 10점 짜리는 더더욱 아니잖아\n",
              "3                     지루하지는 않은데 완전 막장임... 돈주고 보기에는....\n",
              "4    3D만 아니었어도 별 다섯 개 줬을텐데.. 왜 3D로 나와서 제 심기를 불편하게 하죠??\n",
              "5                                   음악이 주가 된, 최고의 음악영화\n",
              "6                                              진정한 쓰레기\n",
              "7             마치 미국애니에서 튀어나온듯한 창의력없는 로봇디자인부터가,고개를 젖게한다\n",
              "8    갈수록 개판되가는 중국영화 유치하고 내용없음 폼잡다 끝남 말도안되는 무기에 유치한c...\n",
              "9       이별의 아픔뒤에 찾아오는 새로운 인연의 기쁨 But, 모든 사람이 그렇지는 않네..\n",
              "Name: document, dtype: object"
            ]
          },
          "metadata": {},
          "execution_count": 17
        }
      ]
    },
    {
      "cell_type": "code",
      "source": [
        "#데이터 전처리\n",
        "# 1) 토큰화 (tokenizing)\n",
        "\n",
        "def tokenizing(sentence):\n",
        "    if isinstance(sentence, str):\n",
        "        sentence=sentence.split(' ') #공백기준으로 자름\n",
        "    else:\n",
        "        sentence='' #노이즈 데이터 처리\n",
        "    return sentence"
      ],
      "metadata": {
        "id": "586eaUQBP4Px"
      },
      "execution_count": 18,
      "outputs": []
    },
    {
      "cell_type": "code",
      "source": [
        "train_data_list = train_data.apply(tokenizing)\n",
        "test_data_list = test_data.apply(tokenizing)"
      ],
      "metadata": {
        "id": "Oj6EYwaxQVV5"
      },
      "execution_count": 20,
      "outputs": []
    },
    {
      "cell_type": "code",
      "source": [
        "train_data_list[:5]"
      ],
      "metadata": {
        "colab": {
          "base_uri": "https://localhost:8080/"
        },
        "id": "fGlZIlYAQenZ",
        "outputId": "0026e7c8-4301-4dd3-c8d3-74f1118d5c17"
      },
      "execution_count": 22,
      "outputs": [
        {
          "output_type": "execute_result",
          "data": {
            "text/plain": [
              "0                            [아, 더빙.., 진짜, 짜증나네요, 목소리]\n",
              "1               [흠...포스터보고, 초딩영화줄....오버연기조차, 가볍지, 않구나]\n",
              "2                                  [너무재밓었다그래서보는것을추천한다]\n",
              "3                 [교도소, 이야기구먼, ..솔직히, 재미는, 없다..평점, 조정]\n",
              "4    [사이몬페그의, 익살스런, 연기가, 돋보였던, 영화!스파이더맨에서, 늙어보이기만, ...\n",
              "Name: document, dtype: object"
            ]
          },
          "metadata": {},
          "execution_count": 22
        }
      ]
    },
    {
      "cell_type": "code",
      "source": [
        "#토크나이저 (tokenizer)\n",
        "\n",
        "from tensorflow.keras.preprocessing.text import Tokenizer\n",
        "from tensorflow.keras.preprocessing.sequence import pad_sequences"
      ],
      "metadata": {
        "id": "v_c_yk8KQkZJ"
      },
      "execution_count": 23,
      "outputs": []
    },
    {
      "cell_type": "code",
      "source": [
        "tokenizer=Tokenizer()\n",
        "tokenizer.fit_on_texts(train_data_list)"
      ],
      "metadata": {
        "id": "2SY-Jf0qRE-J"
      },
      "execution_count": 24,
      "outputs": []
    },
    {
      "cell_type": "code",
      "source": [
        "#2) 정수인코딩(integer encoding)\n",
        "# 문장 > 시퀀스 변환\n",
        "\n",
        "train_data_ids=tokenizer.texts_to_sequences(train_data_list)\n",
        "test_data_ids=tokenizer.texts_to_sequences(test_data_list)"
      ],
      "metadata": {
        "id": "770FnksWRN9h"
      },
      "execution_count": 25,
      "outputs": []
    },
    {
      "cell_type": "code",
      "source": [
        "train_data_ids[0]"
      ],
      "metadata": {
        "colab": {
          "base_uri": "https://localhost:8080/"
        },
        "id": "jtfLFKauRpvR",
        "outputId": "7f4d4da1-3676-4577-8d74-3a4d4a0197a1"
      },
      "execution_count": 27,
      "outputs": [
        {
          "output_type": "execute_result",
          "data": {
            "text/plain": [
              "[50, 42604, 4, 10484, 1064]"
            ]
          },
          "metadata": {},
          "execution_count": 27
        }
      ]
    },
    {
      "cell_type": "code",
      "source": [
        "print(len(train_data_ids[0]))\n",
        "print(len(train_data_ids[2]))\n",
        "\n",
        "#> 엥 문장의 길이가 각기 다르넹"
      ],
      "metadata": {
        "colab": {
          "base_uri": "https://localhost:8080/"
        },
        "id": "Wav1aS_dRtDZ",
        "outputId": "21631741-3c47-420b-d6af-d2fadec2d355"
      },
      "execution_count": 31,
      "outputs": [
        {
          "output_type": "stream",
          "name": "stdout",
          "text": [
            "5\n",
            "1\n"
          ]
        }
      ]
    },
    {
      "cell_type": "code",
      "source": [
        "#3) 문장 패딩(padding)\n",
        "\n",
        "train_data_padded=keras.preprocessing.sequence.pad_sequences(train_data_ids, value=0, padding='post', maxlen=50) #padding='post' 뒤에 붙이겠음\n",
        "test_data_padded=keras.preprocessing.sequence.pad_sequences(test_data_ids, value=0, padding='post', maxlen=50)"
      ],
      "metadata": {
        "id": "gRx_B4tfRxkZ"
      },
      "execution_count": 32,
      "outputs": []
    },
    {
      "cell_type": "code",
      "source": [
        "print(train_data_padded[0].shape)\n",
        "print(train_data_padded[0])\n",
        "print(test_data_padded[0].shape)\n",
        "print(test_data_padded[0])"
      ],
      "metadata": {
        "colab": {
          "base_uri": "https://localhost:8080/"
        },
        "id": "GVzKYgwARxfh",
        "outputId": "d682238d-8028-4c22-be24-d686edc8b092"
      },
      "execution_count": 38,
      "outputs": [
        {
          "output_type": "stream",
          "name": "stdout",
          "text": [
            "(50,)\n",
            "[   50 42604     4 10484  1064     0     0     0     0     0     0     0\n",
            "     0     0     0     0     0     0     0     0     0     0     0     0\n",
            "     0     0     0     0     0     0     0     0     0     0     0     0\n",
            "     0     0     0     0     0     0     0     0     0     0     0     0\n",
            "     0     0]\n",
            "(50,)\n",
            "[923  59   0   0   0   0   0   0   0   0   0   0   0   0   0   0   0   0\n",
            "   0   0   0   0   0   0   0   0   0   0   0   0   0   0   0   0   0   0\n",
            "   0   0   0   0   0   0   0   0   0   0   0   0   0   0]\n"
          ]
        }
      ]
    },
    {
      "cell_type": "code",
      "source": [
        "from keras.api._v2.keras import activations\n",
        "# 4) 모델       \n",
        "#입력 크기는 영화 리뷰 데이터 셋에서 적용된 어휘 사전의 크기입니다\n",
        "#10000갸의 단어\n",
        "\n",
        "vocab_size=10000\n",
        "model=keras.Sequential()\n",
        "\n",
        "model.add(keras.layers.Embedding(vocab_size, 16, input_shape=(50,))) #벡터화\n",
        "#vocab_size 단어크기 16 원하는 벡터의 길이(타원)\n",
        "model.add(keras.layers.GlobalAveragePooling1D())\n",
        "model.add(keras.layers.Dense(16, activation='relu'))\n",
        "model.add(keras.layers.Dense(16, activation='relu'))\n",
        "model.add(keras.layers.Dense(16, activation='relu'))\n",
        "\n",
        "model.add(keras.layers.Dense(1, activation='sigmoid'))"
      ],
      "metadata": {
        "id": "KqNDHvBARxcx"
      },
      "execution_count": 40,
      "outputs": []
    },
    {
      "cell_type": "code",
      "source": [
        "#5) 모델 학습\n",
        "\n",
        "train_labels[:5]"
      ],
      "metadata": {
        "colab": {
          "base_uri": "https://localhost:8080/"
        },
        "id": "Obj2Fh-5XbAK",
        "outputId": "2dd9bd69-2dcc-413d-d178-5bb373d14a88"
      },
      "execution_count": 41,
      "outputs": [
        {
          "output_type": "execute_result",
          "data": {
            "text/plain": [
              "0    0\n",
              "1    1\n",
              "2    0\n",
              "3    0\n",
              "4    1\n",
              "Name: label, dtype: int64"
            ]
          },
          "metadata": {},
          "execution_count": 41
        }
      ]
    },
    {
      "cell_type": "code",
      "source": [
        "# 환경설정\n",
        "\n",
        "model.compile(loss='binary_crossentropy', optimizer='adam', metrics=['accuracy'])"
      ],
      "metadata": {
        "id": "W5opPUF5XuSp"
      },
      "execution_count": 42,
      "outputs": []
    },
    {
      "cell_type": "code",
      "source": [
        "#학습\n",
        "\n",
        "history = model.fit(train_data_padded,\n",
        "          train_labels,\n",
        "          epochs=30,\n",
        "          batch_size=100)"
      ],
      "metadata": {
        "colab": {
          "base_uri": "https://localhost:8080/"
        },
        "id": "zxlr4TawYHVS",
        "outputId": "564705c7-c2ed-4bed-ac5e-93621e31f230"
      },
      "execution_count": 43,
      "outputs": [
        {
          "output_type": "stream",
          "name": "stdout",
          "text": [
            "Epoch 1/30\n",
            "1500/1500 [==============================] - 73s 44ms/step - loss: 0.5167 - accuracy: 0.7164\n",
            "Epoch 2/30\n",
            "1500/1500 [==============================] - 12s 8ms/step - loss: 0.4256 - accuracy: 0.7826\n",
            "Epoch 3/30\n",
            "1500/1500 [==============================] - 10s 7ms/step - loss: 0.4128 - accuracy: 0.7878\n",
            "Epoch 4/30\n",
            "1500/1500 [==============================] - 8s 6ms/step - loss: 0.4070 - accuracy: 0.7894\n",
            "Epoch 5/30\n",
            "1500/1500 [==============================] - 8s 5ms/step - loss: 0.4027 - accuracy: 0.7920\n",
            "Epoch 6/30\n",
            "1500/1500 [==============================] - 7s 5ms/step - loss: 0.3988 - accuracy: 0.7929\n",
            "Epoch 7/30\n",
            "1500/1500 [==============================] - 9s 6ms/step - loss: 0.3931 - accuracy: 0.7940\n",
            "Epoch 8/30\n",
            "1500/1500 [==============================] - 7s 5ms/step - loss: 0.3856 - accuracy: 0.7947\n",
            "Epoch 9/30\n",
            "1500/1500 [==============================] - 7s 5ms/step - loss: 0.3784 - accuracy: 0.7971\n",
            "Epoch 10/30\n",
            "1500/1500 [==============================] - 8s 5ms/step - loss: 0.3717 - accuracy: 0.7994\n",
            "Epoch 11/30\n",
            "1500/1500 [==============================] - 9s 6ms/step - loss: 0.3660 - accuracy: 0.8017\n",
            "Epoch 12/30\n",
            "1500/1500 [==============================] - 12s 8ms/step - loss: 0.3617 - accuracy: 0.8040\n",
            "Epoch 13/30\n",
            "1500/1500 [==============================] - 7s 5ms/step - loss: 0.3562 - accuracy: 0.8066\n",
            "Epoch 14/30\n",
            "1500/1500 [==============================] - 11s 7ms/step - loss: 0.3513 - accuracy: 0.8086\n",
            "Epoch 15/30\n",
            "1500/1500 [==============================] - 11s 7ms/step - loss: 0.3469 - accuracy: 0.8114\n",
            "Epoch 16/30\n",
            "1500/1500 [==============================] - 8s 5ms/step - loss: 0.3407 - accuracy: 0.8160\n",
            "Epoch 17/30\n",
            "1500/1500 [==============================] - 6s 4ms/step - loss: 0.3350 - accuracy: 0.8196\n",
            "Epoch 18/30\n",
            "1500/1500 [==============================] - 7s 5ms/step - loss: 0.3288 - accuracy: 0.8226\n",
            "Epoch 19/30\n",
            "1500/1500 [==============================] - 6s 4ms/step - loss: 0.3225 - accuracy: 0.8266\n",
            "Epoch 20/30\n",
            "1500/1500 [==============================] - 7s 5ms/step - loss: 0.3168 - accuracy: 0.8293\n",
            "Epoch 21/30\n",
            "1500/1500 [==============================] - 8s 5ms/step - loss: 0.3113 - accuracy: 0.8314\n",
            "Epoch 22/30\n",
            "1500/1500 [==============================] - 8s 6ms/step - loss: 0.3056 - accuracy: 0.8356\n",
            "Epoch 23/30\n",
            "1500/1500 [==============================] - 8s 5ms/step - loss: 0.3010 - accuracy: 0.8383\n",
            "Epoch 24/30\n",
            "1500/1500 [==============================] - 7s 5ms/step - loss: 0.2946 - accuracy: 0.8424\n",
            "Epoch 25/30\n",
            "1500/1500 [==============================] - 8s 5ms/step - loss: 0.2912 - accuracy: 0.8432\n",
            "Epoch 26/30\n",
            "1500/1500 [==============================] - 8s 5ms/step - loss: 0.2855 - accuracy: 0.8451\n",
            "Epoch 27/30\n",
            "1500/1500 [==============================] - 7s 5ms/step - loss: 0.2833 - accuracy: 0.8466\n",
            "Epoch 28/30\n",
            "1500/1500 [==============================] - 10s 7ms/step - loss: 0.2786 - accuracy: 0.8488\n",
            "Epoch 29/30\n",
            "1500/1500 [==============================] - 7s 5ms/step - loss: 0.2756 - accuracy: 0.8489\n",
            "Epoch 30/30\n",
            "1500/1500 [==============================] - 9s 6ms/step - loss: 0.2715 - accuracy: 0.8530\n"
          ]
        }
      ]
    },
    {
      "cell_type": "code",
      "source": [
        "import matplotlib.pyplot as plt\n",
        "plt.plot(history.history['loss'])\n",
        "plt.plot(history.history['accuracy'])"
      ],
      "metadata": {
        "colab": {
          "base_uri": "https://localhost:8080/",
          "height": 448
        },
        "id": "rml9RK_RYSuh",
        "outputId": "103ca099-2059-4f50-c393-e868acc020bc"
      },
      "execution_count": 44,
      "outputs": [
        {
          "output_type": "execute_result",
          "data": {
            "text/plain": [
              "[<matplotlib.lines.Line2D at 0x7f6670153970>]"
            ]
          },
          "metadata": {},
          "execution_count": 44
        },
        {
          "output_type": "display_data",
          "data": {
            "text/plain": [
              "<Figure size 640x480 with 1 Axes>"
            ],
            "image/png": "[encoded data removed]"
          },
          "metadata": {}
        }
      ]
    },
    {
      "cell_type": "code",
      "source": [
        "#6) 모델 성능 평가\n",
        "test_data_padded.shape"
      ],
      "metadata": {
        "colab": {
          "base_uri": "https://localhost:8080/"
        },
        "id": "LgteHeBEY24h",
        "outputId": "d6291cc6-46bc-46c1-844c-ba63cb48a1c3"
      },
      "execution_count": 46,
      "outputs": [
        {
          "output_type": "execute_result",
          "data": {
            "text/plain": [
              "(50000, 50)"
            ]
          },
          "metadata": {},
          "execution_count": 46
        }
      ]
    },
    {
      "cell_type": "code",
      "source": [
        "result=model.evaluate(test_data_padded, test_labels, verbose=2)\n",
        "print(result[1])"
      ],
      "metadata": {
        "colab": {
          "base_uri": "https://localhost:8080/"
        },
        "id": "BZsOhOYEY64h",
        "outputId": "da9a0ff9-3bc6-46ff-c894-71be0ca412af"
      },
      "execution_count": 49,
      "outputs": [
        {
          "output_type": "stream",
          "name": "stdout",
          "text": [
            "1563/1563 - 3s - loss: 0.8248 - accuracy: 0.7444 - 3s/epoch - 2ms/step\n",
            "0.7444199919700623\n"
          ]
        }
      ]
    },
    {
      "cell_type": "code",
      "source": [
        "#모델 적용 > 추론\n",
        "#추론할 리뷰 문장\n",
        "\n",
        "sentence='오늘은 기분이 좋지 않아요. 헤어질 결심'\n",
        "\n",
        "#토큰화\n",
        "sentence=sentence.split(' ')\n",
        "\n",
        "#정수 인코딩\n",
        "sentence_ids=tokenizer.texts_to_sequences([sentence])\n",
        "\n",
        "#페딩\n",
        "sentence_padded=keras.preprocessing.sequence.pad_sequences(sentence_ids,\n",
        "                                           value=0,\n",
        "                                           padding='post',\n",
        "                                           maxlen=50)\n",
        "\n",
        "sentence_padded"
      ],
      "metadata": {
        "colab": {
          "base_uri": "https://localhost:8080/"
        },
        "id": "6laTn4woZKba",
        "outputId": "624d3569-3231-4ced-b984-bfcfad06ea0a"
      },
      "execution_count": 48,
      "outputs": [
        {
          "output_type": "execute_result",
          "data": {
            "text/plain": [
              "array([[ 6131,   792,  2966,  8731, 35615,     0,     0,     0,     0,\n",
              "            0,     0,     0,     0,     0,     0,     0,     0,     0,\n",
              "            0,     0,     0,     0,     0,     0,     0,     0,     0,\n",
              "            0,     0,     0,     0,     0,     0,     0,     0,     0,\n",
              "            0,     0,     0,     0,     0,     0,     0,     0,     0,\n",
              "            0,     0,     0,     0,     0]], dtype=int32)"
            ]
          },
          "metadata": {},
          "execution_count": 48
        }
      ]
    },
    {
      "cell_type": "code",
      "source": [
        "result=model.predict(sentence_padded)\n",
        "print(result)\n",
        "\n",
        "if result > 0.5:\n",
        "    print(f'긍정 댓글입니다. 확률:{result}')\n",
        "else:\n",
        "    print(f'부정 댓글입니다. 확률:{result}')"
      ],
      "metadata": {
        "colab": {
          "base_uri": "https://localhost:8080/"
        },
        "id": "XKC43s4dZ4_C",
        "outputId": "dd1aceef-310b-4aba-92d5-52978bf2e6b4"
      },
      "execution_count": 53,
      "outputs": [
        {
          "output_type": "stream",
          "name": "stdout",
          "text": [
            "1/1 [==============================] - 0s 20ms/step\n",
            "[[0.89305896]]\n",
            "긍정 댓글입니다. 확률:[[0.89305896]]\n"
          ]
        }
      ]
    },
    {
      "cell_type": "markdown",
      "source": [
        "감성 분류 with RNN, LSTM"
      ],
      "metadata": {
        "id": "X_aGVytzbULJ"
      }
    },
    {
      "cell_type": "code",
      "source": [
        "#1. 모델링 (LNN)\n",
        "\n",
        "model=tf.keras.Sequential([\n",
        "     #임베딩 레이어(embedding layer)\n",
        "     tf.keras.layers.Embedding(vocab_size, 64),\n",
        "\n",
        "     #RNN layer\n",
        "     tf.keras.layers.SimpleRNN(16),\n",
        "\n",
        "     #DENSE layer\n",
        "     tf.keras.layers.Dense(16, activation='relu'),\n",
        "     tf.keras.layers.Dense(1, activation='sigmoid')\n",
        "                           \n",
        "                           \n",
        "                           ])"
      ],
      "metadata": {
        "id": "JKTwMeQkaNeC"
      },
      "execution_count": 57,
      "outputs": []
    },
    {
      "cell_type": "code",
      "source": [
        "#2. 학습\n",
        "\n",
        "model.compile(loss='binary_crossentropy', optimizer='adam', metrics=['accuracy'])"
      ],
      "metadata": {
        "id": "6sBzbIR-cHa4"
      },
      "execution_count": 58,
      "outputs": []
    },
    {
      "cell_type": "code",
      "source": [
        "history=model.fit(train_data_padded,\n",
        "          train_labels,\n",
        "          epochs=20,\n",
        "          batch_size=100)"
      ],
      "metadata": {
        "colab": {
          "base_uri": "https://localhost:8080/"
        },
        "id": "EfIdbOH5cQZ6",
        "outputId": "3f561449-d080-4c4f-c042-c008e615b4e6"
      },
      "execution_count": 59,
      "outputs": [
        {
          "output_type": "stream",
          "name": "stdout",
          "text": [
            "Epoch 1/20\n",
            "1500/1500 [==============================] - 138s 91ms/step - loss: 0.6457 - accuracy: 0.6185\n",
            "Epoch 2/20\n",
            "1500/1500 [==============================] - 71s 47ms/step - loss: 0.5572 - accuracy: 0.7154\n",
            "Epoch 3/20\n",
            "1500/1500 [==============================] - 63s 42ms/step - loss: 0.4951 - accuracy: 0.7567\n",
            "Epoch 4/20\n",
            "1500/1500 [==============================] - 65s 43ms/step - loss: 0.4442 - accuracy: 0.7865\n",
            "Epoch 5/20\n",
            "1500/1500 [==============================] - 62s 41ms/step - loss: 0.3948 - accuracy: 0.8106\n",
            "Epoch 6/20\n",
            "1500/1500 [==============================] - 60s 40ms/step - loss: 0.3527 - accuracy: 0.8303\n",
            "Epoch 7/20\n",
            "1500/1500 [==============================] - 59s 39ms/step - loss: 0.3243 - accuracy: 0.8428\n",
            "Epoch 8/20\n",
            "1500/1500 [==============================] - 60s 40ms/step - loss: 0.3030 - accuracy: 0.8513\n",
            "Epoch 9/20\n",
            "1500/1500 [==============================] - 60s 40ms/step - loss: 0.2827 - accuracy: 0.8612\n",
            "Epoch 10/20\n",
            "1500/1500 [==============================] - 58s 39ms/step - loss: 0.2706 - accuracy: 0.8657\n",
            "Epoch 11/20\n",
            "1500/1500 [==============================] - 59s 39ms/step - loss: 0.2585 - accuracy: 0.8710\n",
            "Epoch 12/20\n",
            "1500/1500 [==============================] - 60s 40ms/step - loss: 0.2509 - accuracy: 0.8735\n",
            "Epoch 13/20\n",
            "1500/1500 [==============================] - 59s 39ms/step - loss: 0.2448 - accuracy: 0.8760\n",
            "Epoch 14/20\n",
            "1500/1500 [==============================] - 59s 39ms/step - loss: 0.2363 - accuracy: 0.8801\n",
            "Epoch 15/20\n",
            "1500/1500 [==============================] - 58s 39ms/step - loss: 0.2294 - accuracy: 0.8812\n",
            "Epoch 16/20\n",
            "1500/1500 [==============================] - 59s 39ms/step - loss: 0.2272 - accuracy: 0.8825\n",
            "Epoch 17/20\n",
            "1500/1500 [==============================] - 59s 39ms/step - loss: 0.2210 - accuracy: 0.8850\n",
            "Epoch 18/20\n",
            "1500/1500 [==============================] - 57s 38ms/step - loss: 0.2181 - accuracy: 0.8862\n",
            "Epoch 19/20\n",
            "1500/1500 [==============================] - 59s 39ms/step - loss: 0.2150 - accuracy: 0.8879\n",
            "Epoch 20/20\n",
            "1500/1500 [==============================] - 60s 40ms/step - loss: 0.2153 - accuracy: 0.8875\n"
          ]
        }
      ]
    },
    {
      "cell_type": "code",
      "source": [
        "#3 모델 성능 평가\n",
        "\n",
        "result=model.evaluate(test_data_padded, test_labels, verbose=2)\n",
        "print(result[1])"
      ],
      "metadata": {
        "colab": {
          "base_uri": "https://localhost:8080/"
        },
        "id": "u_xGSsTichbq",
        "outputId": "3467209d-a982-47bf-e969-eec92636ce9a"
      },
      "execution_count": 60,
      "outputs": [
        {
          "output_type": "stream",
          "name": "stdout",
          "text": [
            "1563/1563 - 9s - loss: 0.8622 - accuracy: 0.6983 - 9s/epoch - 6ms/step\n",
            "0.6982799768447876\n"
          ]
        }
      ]
    },
    {
      "cell_type": "code",
      "source": [
        "#4. 추론 (모델 적용)\n",
        "\n",
        "sentence='이 영화 정말 재미있음! 추천함'\n",
        "\n",
        "#토큰화\n",
        "sentence=sentence.split(' ')\n",
        "\n",
        "#정수 인코딩\n",
        "sentence_ids=tokenizer.texts_to_sequences([sentence])\n",
        "\n",
        "#페딩\n",
        "sentence_padded=keras.preprocessing.sequence.pad_sequences(sentence_ids,\n",
        "                                           value=0,\n",
        "                                           padding='post',\n",
        "                                           maxlen=50)\n",
        "\n",
        "sentence_padded"
      ],
      "metadata": {
        "colab": {
          "base_uri": "https://localhost:8080/"
        },
        "id": "hzSEvuDUc2Lp",
        "outputId": "a1da704c-90a0-4834-cb34-92057b3e1a15"
      },
      "execution_count": 61,
      "outputs": [
        {
          "output_type": "execute_result",
          "data": {
            "text/plain": [
              "array([[    5,     1,     3, 72985,  9346,     0,     0,     0,     0,\n",
              "            0,     0,     0,     0,     0,     0,     0,     0,     0,\n",
              "            0,     0,     0,     0,     0,     0,     0,     0,     0,\n",
              "            0,     0,     0,     0,     0,     0,     0,     0,     0,\n",
              "            0,     0,     0,     0,     0,     0,     0,     0,     0,\n",
              "            0,     0,     0,     0,     0]], dtype=int32)"
            ]
          },
          "metadata": {},
          "execution_count": 61
        }
      ]
    },
    {
      "cell_type": "code",
      "source": [
        "#예측\n",
        "\n",
        "result=model.predict(sentence_padded)\n",
        "print(result)\n",
        "\n",
        "if result > 0.5:\n",
        "    print(f'긍정 댓글입니다. 확률:{result}')\n",
        "else:\n",
        "    print(f'부정 댓글입니다. 확률:{result}')"
      ],
      "metadata": {
        "colab": {
          "base_uri": "https://localhost:8080/"
        },
        "id": "tq14ZRHLdmyZ",
        "outputId": "abe41597-aded-4c3d-a1ca-6dc7443e6c10"
      },
      "execution_count": 62,
      "outputs": [
        {
          "output_type": "stream",
          "name": "stdout",
          "text": [
            "1/1 [==============================] - 0s 137ms/step\n",
            "[[0.99732816]]\n",
            "긍정 댓글입니다. 확률:[[0.99732816]]\n"
          ]
        }
      ]
    },
    {
      "cell_type": "code",
      "source": [],
      "metadata": {
        "id": "AxY6jRH8qPPC"
      },
      "execution_count": null,
      "outputs": []
    }
  ]
}