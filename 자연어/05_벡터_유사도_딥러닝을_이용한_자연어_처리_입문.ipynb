{
  "nbformat": 4,
  "nbformat_minor": 0,
  "metadata": {
    "colab": {
      "provenance": []
    },
    "kernelspec": {
      "name": "python3",
      "display_name": "Python 3"
    },
    "language_info": {
      "name": "python"
    }
  },
  "cells": [
    {
      "cell_type": "markdown",
      "source": [
        "#05-01 코사인 유사도(Cosine Similarity)"
      ],
      "metadata": {
        "id": "bIib6pkW1KYA"
      }
    },
    {
      "cell_type": "code",
      "execution_count": null,
      "metadata": {
        "id": "Qfd7P80D08__"
      },
      "outputs": [],
      "source": [
        "import numpy as np\n",
        "from numpy import dot\n",
        "from numpy.linalg import norm"
      ]
    },
    {
      "cell_type": "code",
      "source": [
        "def cos_sim(A, B):\n",
        "    return dot(A,B)/(norm(A)*norm(B))\n",
        "\n",
        "doc1=np.array([0,1,1,1])\n",
        "doc2=np.array([1,0,1,1])\n",
        "doc3=np.array([2,0,2,2])\n",
        "\n",
        "print('문서 1과 문서2의 유사도 :', round(cos_sim(doc1, doc2), 2))\n",
        "print('문서 1과 문서3의 유사도 :', round(cos_sim(doc1, doc3), 2))\n",
        "print('문서 2와 문서3의 유사도 :', round(cos_sim(doc2, doc3), 2))"
      ],
      "metadata": {
        "colab": {
          "base_uri": "https://localhost:8080/"
        },
        "id": "Z5YuF5qI1XH0",
        "outputId": "6a37bff7-ed63-4a43-be72-f967c2129038"
      },
      "execution_count": null,
      "outputs": [
        {
          "output_type": "stream",
          "name": "stdout",
          "text": [
            "문서 1과 문서2의 유사도 : 0.67\n",
            "문서 1과 문서3의 유사도 : 0.67\n",
            "문서 2와 문서3의 유사도 : 1.0\n"
          ]
        }
      ]
    },
    {
      "cell_type": "markdown",
      "source": [
        "##유사도를 이용한 추천 시스템 구현하기"
      ],
      "metadata": {
        "id": "ZjjwmzUU4b82"
      }
    },
    {
      "cell_type": "code",
      "source": [
        "import pandas as pd\n",
        "from sklearn.feature_extraction.text import TfidfVectorizer\n",
        "from sklearn.metrics.pairwise import cosine_similarity"
      ],
      "metadata": {
        "id": "0FJ9IozY1ult"
      },
      "execution_count": null,
      "outputs": []
    },
    {
      "cell_type": "code",
      "source": [
        "data=pd.read_csv('/content/movies_metadata.csv', low_memory=False)\n",
        "data.head(3)"
      ],
      "metadata": {
        "colab": {
          "base_uri": "https://localhost:8080/",
          "height": 514
        },
        "id": "2v_DnOf-5MMh",
        "outputId": "cdf80c2d-68f7-49cb-f997-80f5d4f5603a"
      },
      "execution_count": null,
      "outputs": [
        {
          "output_type": "execute_result",
          "data": {
            "text/plain": [
              "   adult                              belongs_to_collection    budget  \\\n",
              "0  False  {'id': 10194, 'name': 'Toy Story Collection', ...  30000000   \n",
              "1  False                                                NaN  65000000   \n",
              "2  False  {'id': 119050, 'name': 'Grumpy Old Men Collect...         0   \n",
              "\n",
              "                                              genres  \\\n",
              "0  [{'id': 16, 'name': 'Animation'}, {'id': 35, '...   \n",
              "1  [{'id': 12, 'name': 'Adventure'}, {'id': 14, '...   \n",
              "2  [{'id': 10749, 'name': 'Romance'}, {'id': 35, ...   \n",
              "\n",
              "                               homepage     id    imdb_id original_language  \\\n",
              "0  http://toystory.disney.com/toy-story    862  tt0114709                en   \n",
              "1                                   NaN   8844  tt0113497                en   \n",
              "2                                   NaN  15602  tt0113228                en   \n",
              "\n",
              "     original_title                                           overview  ...  \\\n",
              "0         Toy Story  Led by Woody, Andy's toys live happily in his ...  ...   \n",
              "1           Jumanji  When siblings Judy and Peter discover an encha...  ...   \n",
              "2  Grumpier Old Men  A family wedding reignites the ancient feud be...  ...   \n",
              "\n",
              "   release_date      revenue runtime  \\\n",
              "0    1995-10-30  373554033.0    81.0   \n",
              "1    1995-12-15  262797249.0   104.0   \n",
              "2    1995-12-22          0.0   101.0   \n",
              "\n",
              "                                    spoken_languages    status  \\\n",
              "0           [{'iso_639_1': 'en', 'name': 'English'}]  Released   \n",
              "1  [{'iso_639_1': 'en', 'name': 'English'}, {'iso...  Released   \n",
              "2           [{'iso_639_1': 'en', 'name': 'English'}]  Released   \n",
              "\n",
              "                                             tagline             title  video  \\\n",
              "0                                                NaN         Toy Story  False   \n",
              "1          Roll the dice and unleash the excitement!           Jumanji  False   \n",
              "2  Still Yelling. Still Fighting. Still Ready for...  Grumpier Old Men  False   \n",
              "\n",
              "  vote_average vote_count  \n",
              "0          7.7     5415.0  \n",
              "1          6.9     2413.0  \n",
              "2          6.5       92.0  \n",
              "\n",
              "[3 rows x 24 columns]"
            ],
            "text/html": [
              "\n",
              "  <div id=\"df-f7d397a1-f3b8-431d-bfb9-0761f4f612ad\">\n",
              "    <div class=\"colab-df-container\">\n",
              "      <div>\n",
              "<style scoped>\n",
              "    .dataframe tbody tr th:only-of-type {\n",
              "        vertical-align: middle;\n",
              "    }\n",
              "\n",
              "    .dataframe tbody tr th {\n",
              "        vertical-align: top;\n",
              "    }\n",
              "\n",
              "    .dataframe thead th {\n",
              "        text-align: right;\n",
              "    }\n",
              "</style>\n",
              "<table border=\"1\" class=\"dataframe\">\n",
              "  <thead>\n",
              "    <tr style=\"text-align: right;\">\n",
              "      <th></th>\n",
              "      <th>adult</th>\n",
              "      <th>belongs_to_collection</th>\n",
              "      <th>budget</th>\n",
              "      <th>genres</th>\n",
              "      <th>homepage</th>\n",
              "      <th>id</th>\n",
              "      <th>imdb_id</th>\n",
              "      <th>original_language</th>\n",
              "      <th>original_title</th>\n",
              "      <th>overview</th>\n",
              "      <th>...</th>\n",
              "      <th>release_date</th>\n",
              "      <th>revenue</th>\n",
              "      <th>runtime</th>\n",
              "      <th>spoken_languages</th>\n",
              "      <th>status</th>\n",
              "      <th>tagline</th>\n",
              "      <th>title</th>\n",
              "      <th>video</th>\n",
              "      <th>vote_average</th>\n",
              "      <th>vote_count</th>\n",
              "    </tr>\n",
              "  </thead>\n",
              "  <tbody>\n",
              "    <tr>\n",
              "      <th>0</th>\n",
              "      <td>False</td>\n",
              "      <td>{'id': 10194, 'name': 'Toy Story Collection', ...</td>\n",
              "      <td>30000000</td>\n",
              "      <td>[{'id': 16, 'name': 'Animation'}, {'id': 35, '...</td>\n",
              "      <td>http://toystory.disney.com/toy-story</td>\n",
              "      <td>862</td>\n",
              "      <td>tt0114709</td>\n",
              "      <td>en</td>\n",
              "      <td>Toy Story</td>\n",
              "      <td>Led by Woody, Andy's toys live happily in his ...</td>\n",
              "      <td>...</td>\n",
              "      <td>1995-10-30</td>\n",
              "      <td>373554033.0</td>\n",
              "      <td>81.0</td>\n",
              "      <td>[{'iso_639_1': 'en', 'name': 'English'}]</td>\n",
              "      <td>Released</td>\n",
              "      <td>NaN</td>\n",
              "      <td>Toy Story</td>\n",
              "      <td>False</td>\n",
              "      <td>7.7</td>\n",
              "      <td>5415.0</td>\n",
              "    </tr>\n",
              "    <tr>\n",
              "      <th>1</th>\n",
              "      <td>False</td>\n",
              "      <td>NaN</td>\n",
              "      <td>65000000</td>\n",
              "      <td>[{'id': 12, 'name': 'Adventure'}, {'id': 14, '...</td>\n",
              "      <td>NaN</td>\n",
              "      <td>8844</td>\n",
              "      <td>tt0113497</td>\n",
              "      <td>en</td>\n",
              "      <td>Jumanji</td>\n",
              "      <td>When siblings Judy and Peter discover an encha...</td>\n",
              "      <td>...</td>\n",
              "      <td>1995-12-15</td>\n",
              "      <td>262797249.0</td>\n",
              "      <td>104.0</td>\n",
              "      <td>[{'iso_639_1': 'en', 'name': 'English'}, {'iso...</td>\n",
              "      <td>Released</td>\n",
              "      <td>Roll the dice and unleash the excitement!</td>\n",
              "      <td>Jumanji</td>\n",
              "      <td>False</td>\n",
              "      <td>6.9</td>\n",
              "      <td>2413.0</td>\n",
              "    </tr>\n",
              "    <tr>\n",
              "      <th>2</th>\n",
              "      <td>False</td>\n",
              "      <td>{'id': 119050, 'name': 'Grumpy Old Men Collect...</td>\n",
              "      <td>0</td>\n",
              "      <td>[{'id': 10749, 'name': 'Romance'}, {'id': 35, ...</td>\n",
              "      <td>NaN</td>\n",
              "      <td>15602</td>\n",
              "      <td>tt0113228</td>\n",
              "      <td>en</td>\n",
              "      <td>Grumpier Old Men</td>\n",
              "      <td>A family wedding reignites the ancient feud be...</td>\n",
              "      <td>...</td>\n",
              "      <td>1995-12-22</td>\n",
              "      <td>0.0</td>\n",
              "      <td>101.0</td>\n",
              "      <td>[{'iso_639_1': 'en', 'name': 'English'}]</td>\n",
              "      <td>Released</td>\n",
              "      <td>Still Yelling. Still Fighting. Still Ready for...</td>\n",
              "      <td>Grumpier Old Men</td>\n",
              "      <td>False</td>\n",
              "      <td>6.5</td>\n",
              "      <td>92.0</td>\n",
              "    </tr>\n",
              "  </tbody>\n",
              "</table>\n",
              "<p>3 rows × 24 columns</p>\n",
              "</div>\n",
              "      <button class=\"colab-df-convert\" onclick=\"convertToInteractive('df-f7d397a1-f3b8-431d-bfb9-0761f4f612ad')\"\n",
              "              title=\"Convert this dataframe to an interactive table.\"\n",
              "              style=\"display:none;\">\n",
              "        \n",
              "  <svg xmlns=\"http://www.w3.org/2000/svg\" height=\"24px\"viewBox=\"0 0 24 24\"\n",
              "       width=\"24px\">\n",
              "    <path d=\"M0 0h24v24H0V0z\" fill=\"none\"/>\n",
              "    <path d=\"M18.56 5.44l.94 2.06.94-2.06 2.06-.94-2.06-.94-.94-2.06-.94 2.06-2.06.94zm-11 1L8.5 8.5l.94-2.06 2.06-.94-2.06-.94L8.5 2.5l-.94 2.06-2.06.94zm10 10l.94 2.06.94-2.06 2.06-.94-2.06-.94-.94-2.06-.94 2.06-2.06.94z\"/><path d=\"M17.41 7.96l-1.37-1.37c-.4-.4-.92-.59-1.43-.59-.52 0-1.04.2-1.43.59L10.3 9.45l-7.72 7.72c-.78.78-.78 2.05 0 2.83L4 21.41c.39.39.9.59 1.41.59.51 0 1.02-.2 1.41-.59l7.78-7.78 2.81-2.81c.8-.78.8-2.07 0-2.86zM5.41 20L4 18.59l7.72-7.72 1.47 1.35L5.41 20z\"/>\n",
              "  </svg>\n",
              "      </button>\n",
              "      \n",
              "  <style>\n",
              "    .colab-df-container {\n",
              "      display:flex;\n",
              "      flex-wrap:wrap;\n",
              "      gap: 12px;\n",
              "    }\n",
              "\n",
              "    .colab-df-convert {\n",
              "      background-color: #E8F0FE;\n",
              "      border: none;\n",
              "      border-radius: 50%;\n",
              "      cursor: pointer;\n",
              "      display: none;\n",
              "      fill: #1967D2;\n",
              "      height: 32px;\n",
              "      padding: 0 0 0 0;\n",
              "      width: 32px;\n",
              "    }\n",
              "\n",
              "    .colab-df-convert:hover {\n",
              "      background-color: #E2EBFA;\n",
              "      box-shadow: 0px 1px 2px rgba(60, 64, 67, 0.3), 0px 1px 3px 1px rgba(60, 64, 67, 0.15);\n",
              "      fill: #174EA6;\n",
              "    }\n",
              "\n",
              "    [theme=dark] .colab-df-convert {\n",
              "      background-color: #3B4455;\n",
              "      fill: #D2E3FC;\n",
              "    }\n",
              "\n",
              "    [theme=dark] .colab-df-convert:hover {\n",
              "      background-color: #434B5C;\n",
              "      box-shadow: 0px 1px 3px 1px rgba(0, 0, 0, 0.15);\n",
              "      filter: drop-shadow(0px 1px 2px rgba(0, 0, 0, 0.3));\n",
              "      fill: #FFFFFF;\n",
              "    }\n",
              "  </style>\n",
              "\n",
              "      <script>\n",
              "        const buttonEl =\n",
              "          document.querySelector('#df-f7d397a1-f3b8-431d-bfb9-0761f4f612ad button.colab-df-convert');\n",
              "        buttonEl.style.display =\n",
              "          google.colab.kernel.accessAllowed ? 'block' : 'none';\n",
              "\n",
              "        async function convertToInteractive(key) {\n",
              "          const element = document.querySelector('#df-f7d397a1-f3b8-431d-bfb9-0761f4f612ad');\n",
              "          const dataTable =\n",
              "            await google.colab.kernel.invokeFunction('convertToInteractive',\n",
              "                                                     [key], {});\n",
              "          if (!dataTable) return;\n",
              "\n",
              "          const docLinkHtml = 'Like what you see? Visit the ' +\n",
              "            '<a target=\"_blank\" href=https://colab.research.google.com/notebooks/data_table.ipynb>data table notebook</a>'\n",
              "            + ' to learn more about interactive tables.';\n",
              "          element.innerHTML = '';\n",
              "          dataTable['output_type'] = 'display_data';\n",
              "          await google.colab.output.renderOutput(dataTable, element);\n",
              "          const docLink = document.createElement('div');\n",
              "          docLink.innerHTML = docLinkHtml;\n",
              "          element.appendChild(docLink);\n",
              "        }\n",
              "      </script>\n",
              "    </div>\n",
              "  </div>\n",
              "  "
            ]
          },
          "metadata": {},
          "execution_count": 10
        }
      ]
    },
    {
      "cell_type": "code",
      "source": [
        "# 상위 2만개의 샘플을 data에 저장\n",
        "data = data.head(20000)"
      ],
      "metadata": {
        "id": "nCpIS5VG5m26"
      },
      "execution_count": null,
      "outputs": []
    },
    {
      "cell_type": "code",
      "source": [
        "# overview 열에 존재하는 모든 결측값을 전부 카운트하여 출력\n",
        "print('overview 열의 결측값의 수:',data['overview'].isnull().sum())"
      ],
      "metadata": {
        "colab": {
          "base_uri": "https://localhost:8080/"
        },
        "id": "UqZfhKVY5wOK",
        "outputId": "d5fd5c59-b87e-42b6-e641-ef9183c5b769"
      },
      "execution_count": null,
      "outputs": [
        {
          "output_type": "stream",
          "name": "stdout",
          "text": [
            "overview 열의 결측값의 수: 135\n"
          ]
        }
      ]
    },
    {
      "cell_type": "code",
      "source": [
        "data['overview']=data['overview'].fillna('')"
      ],
      "metadata": {
        "id": "-mlGxCq45xlq"
      },
      "execution_count": null,
      "outputs": []
    },
    {
      "cell_type": "code",
      "source": [
        "tfidf=TfidfVectorizer(stop_words='english')\n",
        "tfidf_matrix=tfidf.fit_transform(data['overview'])\n",
        "print('TF-IDF 행렬의 크기(shape) :',tfidf_matrix.shape)"
      ],
      "metadata": {
        "colab": {
          "base_uri": "https://localhost:8080/"
        },
        "id": "YcCyqLjU7G_2",
        "outputId": "5cca930e-59b5-4abd-9fd4-024c1a96b9e3"
      },
      "execution_count": null,
      "outputs": [
        {
          "output_type": "stream",
          "name": "stdout",
          "text": [
            "TF-IDF 행렬의 크기(shape) : (20000, 47487)\n"
          ]
        }
      ]
    },
    {
      "cell_type": "code",
      "source": [
        "cosine_sim = cosine_similarity(tfidf_matrix, tfidf_matrix)\n",
        "print('코사인 유사도 연산 결과 :',cosine_sim.shape)"
      ],
      "metadata": {
        "colab": {
          "base_uri": "https://localhost:8080/"
        },
        "id": "Uy1Oe2bp7fs4",
        "outputId": "1fee4bc6-c8d2-4e0a-9820-cd6612bb9dfe"
      },
      "execution_count": null,
      "outputs": [
        {
          "output_type": "stream",
          "name": "stdout",
          "text": [
            "코사인 유사도 연산 결과 : (20000, 20000)\n"
          ]
        }
      ]
    },
    {
      "cell_type": "code",
      "source": [
        "title_to_index = dict(zip(data['title'], data.index))\n",
        "\n",
        "# 영화 제목 Father of the Bride Part II의 인덱스를 리턴\n",
        "idx = title_to_index['Father of the Bride Part II']\n",
        "print(idx)"
      ],
      "metadata": {
        "colab": {
          "base_uri": "https://localhost:8080/"
        },
        "id": "oVCiWSOb7hxE",
        "outputId": "41a11f36-7701-4d80-c45a-16d263ad9842"
      },
      "execution_count": null,
      "outputs": [
        {
          "output_type": "stream",
          "name": "stdout",
          "text": [
            "4\n"
          ]
        }
      ]
    },
    {
      "cell_type": "code",
      "source": [
        "def get_recommendations(title, cosine_sim=cosine_sim):\n",
        "    #선택한 영화의 타이틀로부터 해당 영화의 인덱스를 받아온다.\n",
        "    idx=title_to_index[title]\n",
        "\n",
        "    #해당 영화와 모든 영화화의 유사도를 가져온다. \n",
        "    sim_scores=list(enumerate(cosine_sim[idx]))\n",
        "\n",
        "    #유사도에 따라 영화들을 정렬한다\n",
        "    sim_scores=sorted(sim_scores, key=lambda x:x[1], reverse=True)\n",
        "\n",
        "    #가장 유사한 10갸의 영화를 받아온다.\n",
        "    sim_scores=sim_scores[1:11]\n",
        "\n",
        "    #가장 유사한 10갸의 영화의 인덱스를 얻는다.\n",
        "    movie_indices = [idx[0] for idx in sim_scores]\n",
        "\n",
        "    # 가장 유사한 10개의 영화의 제목을 리턴한다.\n",
        "    return data['title'].iloc[movie_indices]"
      ],
      "metadata": {
        "id": "3f3pDSOA7oO8"
      },
      "execution_count": null,
      "outputs": []
    },
    {
      "cell_type": "code",
      "source": [
        "get_recommendations('The Dark Knight Rises')"
      ],
      "metadata": {
        "colab": {
          "base_uri": "https://localhost:8080/"
        },
        "id": "zKiNrxly8cJO",
        "outputId": "cae1cec9-49f9-4e47-9c7b-ebb3ddd65258"
      },
      "execution_count": null,
      "outputs": [
        {
          "output_type": "execute_result",
          "data": {
            "text/plain": [
              "12481                            The Dark Knight\n",
              "150                               Batman Forever\n",
              "1328                              Batman Returns\n",
              "15511                 Batman: Under the Red Hood\n",
              "585                                       Batman\n",
              "9230          Batman Beyond: Return of the Joker\n",
              "18035                           Batman: Year One\n",
              "19792    Batman: The Dark Knight Returns, Part 1\n",
              "3095                Batman: Mask of the Phantasm\n",
              "10122                              Batman Begins\n",
              "Name: title, dtype: object"
            ]
          },
          "metadata": {},
          "execution_count": 19
        }
      ]
    },
    {
      "cell_type": "markdown",
      "source": [
        "##05-02 여러가지 유사도 기법\n",
        "\n",
        "유클리드 거리(Euclidean distance)"
      ],
      "metadata": {
        "id": "koCnKsMG8mux"
      }
    },
    {
      "cell_type": "code",
      "source": [
        "import numpy as np\n",
        "\n",
        "def dist(x,y):\n",
        "    return np.sqrt(np.sum((x-y)**2))\n",
        "\n",
        "doc1 = np.array((2,3,0,1))\n",
        "doc2 = np.array((1,2,3,1))\n",
        "doc3 = np.array((2,1,2,2))\n",
        "docQ = np.array((1,1,0,1))\n",
        "\n",
        "print('문서1과 문서Q의 거리 :',dist(doc1,docQ))\n",
        "print('문서2과 문서Q의 거리 :',dist(doc2,docQ))\n",
        "print('문서3과 문서Q의 거리 :',dist(doc3,docQ))   "
      ],
      "metadata": {
        "colab": {
          "base_uri": "https://localhost:8080/"
        },
        "id": "Zyk_zq8g8goL",
        "outputId": "629315de-d15d-46dc-bd09-b47f39da40fb"
      },
      "execution_count": null,
      "outputs": [
        {
          "output_type": "stream",
          "name": "stdout",
          "text": [
            "문서1과 문서Q의 거리 : 2.23606797749979\n",
            "문서2과 문서Q의 거리 : 3.1622776601683795\n",
            "문서3과 문서Q의 거리 : 2.449489742783178\n"
          ]
        }
      ]
    },
    {
      "cell_type": "markdown",
      "source": [
        "자카드 유사도(Jaccard similarity)"
      ],
      "metadata": {
        "id": "qM2bfD1M8_g_"
      }
    },
    {
      "cell_type": "code",
      "source": [
        "doc1 = \"apple banana everyone like likey watch card holder\"\n",
        "doc2 = \"apple banana coupon passport love you\"\n",
        "\n",
        "# 토큰화\n",
        "tokenized_doc1 = doc1.split()\n",
        "tokenized_doc2 = doc2.split()\n",
        "\n",
        "print('문서1 :',tokenized_doc1)\n",
        "print('문서2 :',tokenized_doc2)"
      ],
      "metadata": {
        "colab": {
          "base_uri": "https://localhost:8080/"
        },
        "id": "t6zrWDzp86kR",
        "outputId": "e7a042f2-30ec-482a-b2b3-22910db11cf7"
      },
      "execution_count": null,
      "outputs": [
        {
          "output_type": "stream",
          "name": "stdout",
          "text": [
            "문서1 : ['apple', 'banana', 'everyone', 'like', 'likey', 'watch', 'card', 'holder']\n",
            "문서2 : ['apple', 'banana', 'coupon', 'passport', 'love', 'you']\n"
          ]
        }
      ]
    },
    {
      "cell_type": "code",
      "source": [
        "union = set(tokenized_doc1).union(set(tokenized_doc2))\n",
        "print('문서1과 문서2의 합집합 :',union)"
      ],
      "metadata": {
        "colab": {
          "base_uri": "https://localhost:8080/"
        },
        "id": "6NP5sG_d9Au8",
        "outputId": "73ee3611-db75-4ea7-954e-2758c6841402"
      },
      "execution_count": null,
      "outputs": [
        {
          "output_type": "stream",
          "name": "stdout",
          "text": [
            "문서1과 문서2의 합집합 : {'love', 'like', 'apple', 'banana', 'passport', 'likey', 'holder', 'everyone', 'watch', 'card', 'coupon', 'you'}\n"
          ]
        }
      ]
    },
    {
      "cell_type": "code",
      "source": [
        "intersection = set(tokenized_doc1).intersection(set(tokenized_doc2))\n",
        "print('문서1과 문서2의 교집합 :',intersection)"
      ],
      "metadata": {
        "colab": {
          "base_uri": "https://localhost:8080/"
        },
        "id": "PRj6BEiK9CER",
        "outputId": "8191f4d8-f3c6-47a6-8ed0-7c7ab2f94c7b"
      },
      "execution_count": null,
      "outputs": [
        {
          "output_type": "stream",
          "name": "stdout",
          "text": [
            "문서1과 문서2의 교집합 : {'apple', 'banana'}\n"
          ]
        }
      ]
    },
    {
      "cell_type": "code",
      "source": [
        "print('자카드 유사도 :',len(intersection)/len(union))"
      ],
      "metadata": {
        "colab": {
          "base_uri": "https://localhost:8080/"
        },
        "id": "lD80CtTV9D1q",
        "outputId": "fd45eaf8-dccd-4e1e-f8b0-67a6069ec992"
      },
      "execution_count": null,
      "outputs": [
        {
          "output_type": "stream",
          "name": "stdout",
          "text": [
            "자카드 유사도 : 0.16666666666666666\n"
          ]
        }
      ]
    },
    {
      "cell_type": "code",
      "source": [],
      "metadata": {
        "id": "haVk9QYE9GAI"
      },
      "execution_count": null,
      "outputs": []
    }
  ]
}