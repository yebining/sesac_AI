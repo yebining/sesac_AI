{
  "nbformat": 4,
  "nbformat_minor": 0,
  "metadata": {
    "colab": {
      "provenance": []
    },
    "kernelspec": {
      "name": "python3",
      "display_name": "Python 3"
    },
    "language_info": {
      "name": "python"
    }
  },
  "cells": [
    {
      "cell_type": "markdown",
      "source": [
        "#07-01 퍼셉트론(Perceptron)"
      ],
      "metadata": {
        "id": "Da_YYYbIJ-hc"
      }
    },
    {
      "cell_type": "markdown",
      "source": [
        "단층 퍼셉트론(Single-Layer Perceptron)"
      ],
      "metadata": {
        "id": "b4ioXV-YKBpP"
      }
    },
    {
      "cell_type": "code",
      "execution_count": null,
      "metadata": {
        "id": "ldUEW3LVJ3Q0"
      },
      "outputs": [],
      "source": [
        "def AND_gate(x1, x2):\n",
        "    w1 = 0.5\n",
        "    w2 = 0.5\n",
        "    b = -0.7\n",
        "    result = x1*w1 + x2*w2 + b\n",
        "    if result <= 0:\n",
        "        return 0\n",
        "    else:\n",
        "        return 1"
      ]
    },
    {
      "cell_type": "code",
      "source": [
        "AND_gate(0, 0), AND_gate(0, 1), AND_gate(1, 0), AND_gate(1, 1)"
      ],
      "metadata": {
        "colab": {
          "base_uri": "https://localhost:8080/"
        },
        "id": "Erz_yxO4KDMU",
        "outputId": "034a1abb-b46e-402f-9eb1-74037e7b8f99"
      },
      "execution_count": null,
      "outputs": [
        {
          "output_type": "execute_result",
          "data": {
            "text/plain": [
              "(0, 0, 0, 1)"
            ]
          },
          "metadata": {},
          "execution_count": 2
        }
      ]
    },
    {
      "cell_type": "code",
      "source": [
        "def NAND_gate(x1, x2):\n",
        "    w1 = -0.5\n",
        "    w2 = -0.5\n",
        "    b = 0.7\n",
        "    result = x1*w1 + x2*w2 + b\n",
        "    if result <= 0:\n",
        "        return 0\n",
        "    else:\n",
        "        return 1"
      ],
      "metadata": {
        "id": "JFNOFoF1LNZD"
      },
      "execution_count": null,
      "outputs": []
    },
    {
      "cell_type": "code",
      "source": [
        "NAND_gate(0, 0), NAND_gate(0, 1), NAND_gate(1, 0), NAND_gate(1, 1)"
      ],
      "metadata": {
        "colab": {
          "base_uri": "https://localhost:8080/"
        },
        "id": "JoADFj72LQng",
        "outputId": "429f9455-2f02-4a43-f275-e80ad708a547"
      },
      "execution_count": null,
      "outputs": [
        {
          "output_type": "execute_result",
          "data": {
            "text/plain": [
              "(1, 1, 1, 0)"
            ]
          },
          "metadata": {},
          "execution_count": 4
        }
      ]
    },
    {
      "cell_type": "code",
      "source": [
        "def OR_gate(x1, x2):\n",
        "    w1 = 0.6\n",
        "    w2 = 0.6\n",
        "    b = -0.5\n",
        "    result = x1*w1 + x2*w2 + b\n",
        "    if result <= 0:\n",
        "        return 0\n",
        "    else:\n",
        "        return 1"
      ],
      "metadata": {
        "id": "UlTdiCwPLR-q"
      },
      "execution_count": null,
      "outputs": []
    },
    {
      "cell_type": "code",
      "source": [
        "OR_gate(0, 0), OR_gate(0, 1), OR_gate(1, 0), OR_gate(1, 1)"
      ],
      "metadata": {
        "colab": {
          "base_uri": "https://localhost:8080/"
        },
        "id": "uNhSgr_3LTw0",
        "outputId": "00acedef-a75a-45a2-b6b0-303aff010362"
      },
      "execution_count": null,
      "outputs": [
        {
          "output_type": "execute_result",
          "data": {
            "text/plain": [
              "(0, 1, 1, 1)"
            ]
          },
          "metadata": {},
          "execution_count": 6
        }
      ]
    },
    {
      "cell_type": "markdown",
      "source": [
        "##07-02 인공 신경망(Artificial Neural Network) 훑어보기"
      ],
      "metadata": {
        "id": "8V2KD66qLZ4U"
      }
    },
    {
      "cell_type": "code",
      "source": [
        "import numpy as np\n",
        "import matplotlib.pyplot as plt"
      ],
      "metadata": {
        "id": "dNxRlMCCLUsw"
      },
      "execution_count": null,
      "outputs": []
    },
    {
      "cell_type": "markdown",
      "source": [
        "계단 함수(Step function)"
      ],
      "metadata": {
        "id": "BV2glPAgLo0Q"
      }
    },
    {
      "cell_type": "code",
      "source": [
        "def step(x):\n",
        "    return np.array(x > 0, dtype=np.int)\n",
        "x = np.arange(-5.0, 5.0, 0.1) # -5.0부터 5.0까지 0.1 간격 생성\n",
        "y = step(x)\n",
        "plt.title('Step Function')\n",
        "plt.plot(x,y)\n",
        "plt.show()"
      ],
      "metadata": {
        "colab": {
          "base_uri": "https://localhost:8080/",
          "height": 527
        },
        "id": "IMIPNaO5LeAc",
        "outputId": "f41dec63-a0f4-4296-f0af-1e6f0ba6334e"
      },
      "execution_count": null,
      "outputs": [
        {
          "output_type": "stream",
          "name": "stderr",
          "text": [
            "<ipython-input-8-ddb0a8cdf061>:2: DeprecationWarning: `np.int` is a deprecated alias for the builtin `int`. To silence this warning, use `int` by itself. Doing this will not modify any behavior and is safe. When replacing `np.int`, you may wish to use e.g. `np.int64` or `np.int32` to specify the precision. If you wish to review your current use, check the release note link for additional information.\n",
            "Deprecated in NumPy 1.20; for more details and guidance: https://numpy.org/devdocs/release/1.20.0-notes.html#deprecations\n",
            "  return np.array(x > 0, dtype=np.int)\n"
          ]
        },
        {
          "output_type": "display_data",
          "data": {
            "text/plain": [
              "<Figure size 640x480 with 1 Axes>"
            ],
            "image/png": "[encoded data removed]"
          },
          "metadata": {}
        }
      ]
    },
    {
      "cell_type": "markdown",
      "source": [
        "시그모이드 함수(Sigmoid function)와 기울기 소실"
      ],
      "metadata": {
        "id": "P9FCgv3YLqn3"
      }
    },
    {
      "cell_type": "code",
      "source": [
        "# 시그모이드 함수 그래프를 그리는 코드\n",
        "def sigmoid(x):\n",
        "    return 1/(1+np.exp(-x))\n",
        "x = np.arange(-5.0, 5.0, 0.1)\n",
        "y = sigmoid(x)\n",
        "\n",
        "plt.plot(x, y)\n",
        "plt.plot([0,0],[1.0,0.0], ':') # 가운데 점선 추가\n",
        "plt.title('Sigmoid Function')\n",
        "plt.show()"
      ],
      "metadata": {
        "colab": {
          "base_uri": "https://localhost:8080/",
          "height": 452
        },
        "id": "YNII4GzWLihl",
        "outputId": "30029ddf-3171-4831-8b92-4e2b9ce6c4f7"
      },
      "execution_count": null,
      "outputs": [
        {
          "output_type": "display_data",
          "data": {
            "text/plain": [
              "<Figure size 640x480 with 1 Axes>"
            ],
            "image/png": "[encoded data removed]"
          },
          "metadata": {}
        }
      ]
    },
    {
      "cell_type": "markdown",
      "source": [
        "하이퍼볼릭탄젠트 함수(Hyperbolic tangent function)"
      ],
      "metadata": {
        "id": "kxEK_gsKLtsG"
      }
    },
    {
      "cell_type": "code",
      "source": [
        "x = np.arange(-5.0, 5.0, 0.1) # -5.0부터 5.0까지 0.1 간격 생성\n",
        "y = np.tanh(x)\n",
        "\n",
        "plt.plot(x, y)\n",
        "plt.plot([0,0],[1.0,-1.0], ':')\n",
        "plt.axhline(y=0, color='orange', linestyle='--')\n",
        "plt.title('Tanh Function')\n",
        "plt.show()"
      ],
      "metadata": {
        "colab": {
          "base_uri": "https://localhost:8080/",
          "height": 452
        },
        "id": "TNwnLpX8LkT5",
        "outputId": "a58b363a-8209-4e08-b68f-7a2cb36641b4"
      },
      "execution_count": null,
      "outputs": [
        {
          "output_type": "display_data",
          "data": {
            "text/plain": [
              "<Figure size 640x480 with 1 Axes>"
            ],
            "image/png": "[encoded data removed]"
          },
          "metadata": {}
        }
      ]
    },
    {
      "cell_type": "markdown",
      "source": [
        "렐루 함수(ReLU)"
      ],
      "metadata": {
        "id": "AEoig9rPLwKI"
      }
    },
    {
      "cell_type": "code",
      "source": [
        "def relu(x):\n",
        "    return np.maximum(0, x)\n",
        "\n",
        "x = np.arange(-5.0, 5.0, 0.1)\n",
        "y = relu(x)\n",
        "\n",
        "plt.plot(x, y)\n",
        "plt.plot([0,0],[5.0,0.0], ':')\n",
        "plt.title('Relu Function')\n",
        "plt.show()"
      ],
      "metadata": {
        "colab": {
          "base_uri": "https://localhost:8080/",
          "height": 452
        },
        "id": "geWhPgAFLu0A",
        "outputId": "e0fe872c-03cf-4cc7-b346-46002d6e51e2"
      },
      "execution_count": null,
      "outputs": [
        {
          "output_type": "display_data",
          "data": {
            "text/plain": [
              "<Figure size 640x480 with 1 Axes>"
            ],
            "image/png": "[encoded data removed]"
          },
          "metadata": {}
        }
      ]
    },
    {
      "cell_type": "markdown",
      "source": [
        "리키 렐루(Leaky ReLU)"
      ],
      "metadata": {
        "id": "twOWuSvfLyvy"
      }
    },
    {
      "cell_type": "code",
      "source": [
        "a = 0.1\n",
        "\n",
        "def leaky_relu(x):\n",
        "    return np.maximum(a*x, x)\n",
        "\n",
        "x = np.arange(-5.0, 5.0, 0.1)\n",
        "y = leaky_relu(x)\n",
        "\n",
        "plt.plot(x, y)\n",
        "plt.plot([0,0],[5.0,0.0], ':')\n",
        "plt.title('Leaky ReLU Function')\n",
        "plt.show()"
      ],
      "metadata": {
        "colab": {
          "base_uri": "https://localhost:8080/",
          "height": 452
        },
        "id": "zQyYOPofLxL9",
        "outputId": "3cbe3e96-b4c9-4586-f05d-f116222651ef"
      },
      "execution_count": null,
      "outputs": [
        {
          "output_type": "display_data",
          "data": {
            "text/plain": [
              "<Figure size 640x480 with 1 Axes>"
            ],
            "image/png": "[encoded data removed]"
          },
          "metadata": {}
        }
      ]
    },
    {
      "cell_type": "markdown",
      "source": [
        "소프트맥스 함수(Softmax function)"
      ],
      "metadata": {
        "id": "RvOxX5PJL1uJ"
      }
    },
    {
      "cell_type": "code",
      "source": [
        "x = np.arange(-5.0, 5.0, 0.1) # -5.0부터 5.0까지 0.1 간격 생성\n",
        "y = np.exp(x) / np.sum(np.exp(x))\n",
        "\n",
        "plt.plot(x, y)\n",
        "plt.title('Softmax Function')\n",
        "plt.show()"
      ],
      "metadata": {
        "colab": {
          "base_uri": "https://localhost:8080/",
          "height": 452
        },
        "id": "u8t5MDVtL0Is",
        "outputId": "e91faa08-30f4-4299-80af-edaf2355d5f6"
      },
      "execution_count": null,
      "outputs": [
        {
          "output_type": "display_data",
          "data": {
            "text/plain": [
              "<Figure size 640x480 with 1 Axes>"
            ],
            "image/png": "[encoded data removed]"
          },
          "metadata": {}
        }
      ]
    },
    {
      "cell_type": "markdown",
      "source": [
        "#07-03 행렬곱으로 이해하는 신경망"
      ],
      "metadata": {
        "id": "3WoxO8WJL4_c"
      }
    },
    {
      "cell_type": "markdown",
      "source": [
        "##순전파(Foward Propagation)"
      ],
      "metadata": {
        "id": "XKcG-NulL-DR"
      }
    },
    {
      "cell_type": "code",
      "source": [
        "from tensorflow.keras.models import Sequential\n",
        "from tensorflow.keras.layers import Dense\n",
        "\n",
        "model = Sequential()\n",
        "\n",
        "# 3개의 입력과 2개의 출력\n",
        "model.add(Dense(2, input_dim=3, activation='softmax'))"
      ],
      "metadata": {
        "id": "Gj-c2rLwL20m"
      },
      "execution_count": null,
      "outputs": []
    },
    {
      "cell_type": "code",
      "source": [
        "model.summary()"
      ],
      "metadata": {
        "colab": {
          "base_uri": "https://localhost:8080/"
        },
        "id": "KFqtAqsmMFcS",
        "outputId": "0e588b97-541a-4125-ed39-92fe8c013918"
      },
      "execution_count": null,
      "outputs": [
        {
          "output_type": "stream",
          "name": "stdout",
          "text": [
            "Model: \"sequential\"\n",
            "_________________________________________________________________\n",
            " Layer (type)                Output Shape              Param #   \n",
            "=================================================================\n",
            " dense (Dense)               (None, 2)                 8         \n",
            "                                                                 \n",
            "=================================================================\n",
            "Total params: 8\n",
            "Trainable params: 8\n",
            "Non-trainable params: 0\n",
            "_________________________________________________________________\n"
          ]
        }
      ]
    },
    {
      "cell_type": "markdown",
      "source": [
        "##행렬곱으로 다층 퍼셉트론의 순전파 이해하기"
      ],
      "metadata": {
        "id": "hJt3BtWzMR2c"
      }
    },
    {
      "cell_type": "code",
      "source": [
        "from tensorflow.keras.models import Sequential\n",
        "from tensorflow.keras.layers import Dense"
      ],
      "metadata": {
        "id": "Y17oxuQpMNrN"
      },
      "execution_count": null,
      "outputs": []
    },
    {
      "cell_type": "code",
      "source": [
        "model=Sequential()\n",
        "\n",
        "#4개의 입력과 8개의 출력\n",
        "model.add(Dense(8, input_dim=4, activation='relu'))\n",
        "\n",
        "#이어서 8개의 출력\n",
        "model.add(Dense(8,  activation='relu'))\n",
        "\n",
        "#이어서 3개의 출력\n",
        "model.add(Dense(3,  activation='softmax'))"
      ],
      "metadata": {
        "id": "EuYXMybBMeeI"
      },
      "execution_count": null,
      "outputs": []
    },
    {
      "cell_type": "markdown",
      "source": [
        "##07-04 딥 러닝의 학습 방법"
      ],
      "metadata": {
        "id": "WtGxrCSXNfd7"
      }
    },
    {
      "cell_type": "markdown",
      "source": [
        "###MSE(Mean Squared Error, MSE)"
      ],
      "metadata": {
        "id": "_ryF_g3iNhLD"
      }
    },
    {
      "cell_type": "code",
      "source": [
        "import tensorflow as tf"
      ],
      "metadata": {
        "id": "GmjuhgcyN91k"
      },
      "execution_count": null,
      "outputs": []
    },
    {
      "cell_type": "code",
      "source": [
        "model.compile(optimizer='adam', loss='mse', metrics=['mse'])"
      ],
      "metadata": {
        "id": "4ZxeNVnaNacU"
      },
      "execution_count": null,
      "outputs": []
    },
    {
      "cell_type": "code",
      "source": [
        "model.compile(optimizer='adam', loss=tf.keras.losses.MeanSquaredError(), metrics=['mse'])"
      ],
      "metadata": {
        "id": "itVA6Hj-NsNE"
      },
      "execution_count": null,
      "outputs": []
    },
    {
      "cell_type": "markdown",
      "source": [
        "###이진 크로스 엔트로피(Binary Cross-Entropy)"
      ],
      "metadata": {
        "id": "cQwq2MXAOGqi"
      }
    },
    {
      "cell_type": "code",
      "source": [
        "model.compile(loss='binary_crossentropy', optimizer='adam', metrics=['acc'])"
      ],
      "metadata": {
        "id": "roQHJs7oNulm"
      },
      "execution_count": null,
      "outputs": []
    },
    {
      "cell_type": "code",
      "source": [
        "model.compile(loss=tf.keras.losses.BinaryCrossentropy(), optimizer='adam', metrics=['acc'])"
      ],
      "metadata": {
        "id": "tUbJEU_qOIqh"
      },
      "execution_count": null,
      "outputs": []
    },
    {
      "cell_type": "markdown",
      "source": [
        "###카테고리칼 크로스 엔트로피(Categorical Cross-Entropy)"
      ],
      "metadata": {
        "id": "PBQwZrTsOMJV"
      }
    },
    {
      "cell_type": "code",
      "source": [
        "model.compile(loss='categorical_crossentropy', optimizer='adam', metrics=['acc'])"
      ],
      "metadata": {
        "id": "qQXWLuZROKPf"
      },
      "execution_count": null,
      "outputs": []
    },
    {
      "cell_type": "code",
      "source": [
        "model.compile(loss=tf.keras.losses.CategoricalCrossentropy(), optimizer='adam', metrics=['acc'])"
      ],
      "metadata": {
        "id": "GK6IAYP_ONga"
      },
      "execution_count": null,
      "outputs": []
    },
    {
      "cell_type": "markdown",
      "source": [
        "만약 레이블에 대해서 원-핫 인코딩 과정을 생략하고, 정수값을 가진 레이블에 대해서 다중 클래스 분류를 수행하고 싶다면"
      ],
      "metadata": {
        "id": "pre0dbFNOQri"
      }
    },
    {
      "cell_type": "code",
      "source": [
        "model.compile(loss='sparse_categorical_crossentropy', optimizer='adam', metrics=['acc'])"
      ],
      "metadata": {
        "id": "j2yFcxv_OPAp"
      },
      "execution_count": null,
      "outputs": []
    },
    {
      "cell_type": "code",
      "source": [
        "model.compile(loss=tf.keras.losses.SparseCategoricalCrossentropy(), optimizer='adam', metrics=['acc'])"
      ],
      "metadata": {
        "id": "pkdZAtx5OXKX"
      },
      "execution_count": null,
      "outputs": []
    },
    {
      "cell_type": "markdown",
      "source": [
        "##배치 크기(Batch Size)에 따른 경사 하강법"
      ],
      "metadata": {
        "id": "40G9eJKRObMN"
      }
    },
    {
      "cell_type": "markdown",
      "source": [
        "배치 경사 하강법(Batch Gradient Descent)"
      ],
      "metadata": {
        "id": "agr4shU-OvbA"
      }
    },
    {
      "cell_type": "code",
      "source": [
        "#model.fit(X_train, y_train, batch_size=len(X_train))"
      ],
      "metadata": {
        "id": "N52jvF5IOYSY"
      },
      "execution_count": null,
      "outputs": []
    },
    {
      "cell_type": "markdown",
      "source": [
        "배치 크기가 1인 확률적 경사 하강법(Stochastic Gradient Descent, SGD)"
      ],
      "metadata": {
        "id": "1Om4FFklOxfR"
      }
    },
    {
      "cell_type": "code",
      "source": [
        "#model.fit(X_train, y_train, batch_size=1)"
      ],
      "metadata": {
        "id": "3K40IcdzOm2O"
      },
      "execution_count": null,
      "outputs": []
    },
    {
      "cell_type": "markdown",
      "source": [
        "미니 배치 경사 하강법(Mini-Batch Gradient Descent)"
      ],
      "metadata": {
        "id": "e4Ich96RO0Xk"
      }
    },
    {
      "cell_type": "code",
      "source": [
        "#model.fit(X_train, y_train, batch_size=128)"
      ],
      "metadata": {
        "id": "cItMkVfLOzQF"
      },
      "execution_count": null,
      "outputs": []
    },
    {
      "cell_type": "markdown",
      "source": [
        "##옵티마이저(Optimizer)"
      ],
      "metadata": {
        "id": "nj2HnZuQO4QJ"
      }
    },
    {
      "cell_type": "markdown",
      "source": [
        "모멘텀(Momentum)"
      ],
      "metadata": {
        "id": "84nCPUdMO6Ll"
      }
    },
    {
      "cell_type": "code",
      "source": [
        "tf.keras.optimizers.SGD(lr=0.01, momentum=0.9)"
      ],
      "metadata": {
        "colab": {
          "base_uri": "https://localhost:8080/"
        },
        "id": "DtVz3Q4rO1t8",
        "outputId": "a371198e-9d4a-42d0-f32d-9793eefc2003"
      },
      "execution_count": null,
      "outputs": [
        {
          "output_type": "stream",
          "name": "stderr",
          "text": [
            "WARNING:absl:`lr` is deprecated in Keras optimizer, please use `learning_rate` or use the legacy optimizer, e.g.,tf.keras.optimizers.legacy.SGD.\n"
          ]
        },
        {
          "output_type": "execute_result",
          "data": {
            "text/plain": [
              "<keras.optimizers.sgd.SGD at 0x7fa15b1d86a0>"
            ]
          },
          "metadata": {},
          "execution_count": 35
        }
      ]
    },
    {
      "cell_type": "markdown",
      "source": [
        "아다그라드(Adagrad)"
      ],
      "metadata": {
        "id": "jf-F69s2O9ED"
      }
    },
    {
      "cell_type": "code",
      "source": [
        "tf.keras.optimizers.Adagrad(lr=0.01, epsilon=1e-6)"
      ],
      "metadata": {
        "colab": {
          "base_uri": "https://localhost:8080/"
        },
        "id": "hbHqyckOO7Xw",
        "outputId": "7a62815d-6dab-45ce-d328-f53f689e1f82"
      },
      "execution_count": null,
      "outputs": [
        {
          "output_type": "stream",
          "name": "stderr",
          "text": [
            "WARNING:absl:`lr` is deprecated in Keras optimizer, please use `learning_rate` or use the legacy optimizer, e.g.,tf.keras.optimizers.legacy.Adagrad.\n"
          ]
        },
        {
          "output_type": "execute_result",
          "data": {
            "text/plain": [
              "<keras.optimizers.adagrad.Adagrad at 0x7fa15b1d8070>"
            ]
          },
          "metadata": {},
          "execution_count": 36
        }
      ]
    },
    {
      "cell_type": "markdown",
      "source": [
        "알엠에스프롭(RMSprop)"
      ],
      "metadata": {
        "id": "TXGfIQlWPAjH"
      }
    },
    {
      "cell_type": "code",
      "source": [
        "tf.keras.optimizers.RMSprop(lr=0.001, rho=0.9, epsilon=1e-06)"
      ],
      "metadata": {
        "colab": {
          "base_uri": "https://localhost:8080/"
        },
        "id": "2aGMaRozO_AH",
        "outputId": "4dfa4671-345c-4215-a66f-cb18fc5563a7"
      },
      "execution_count": null,
      "outputs": [
        {
          "output_type": "stream",
          "name": "stderr",
          "text": [
            "WARNING:absl:`lr` is deprecated in Keras optimizer, please use `learning_rate` or use the legacy optimizer, e.g.,tf.keras.optimizers.legacy.RMSprop.\n"
          ]
        },
        {
          "output_type": "execute_result",
          "data": {
            "text/plain": [
              "<keras.optimizers.rmsprop.RMSprop at 0x7fa15b1d8100>"
            ]
          },
          "metadata": {},
          "execution_count": 37
        }
      ]
    },
    {
      "cell_type": "markdown",
      "source": [
        "아담(Adam)"
      ],
      "metadata": {
        "id": "MJoGaXa0PCqF"
      }
    },
    {
      "cell_type": "code",
      "source": [
        "tf.keras.optimizers.Adam(lr=0.001, beta_1=0.9, beta_2=0.999, epsilon=None, decay=0.0, amsgrad=False)"
      ],
      "metadata": {
        "colab": {
          "base_uri": "https://localhost:8080/",
          "height": 381
        },
        "id": "UUAiDFi2PB4d",
        "outputId": "fdea897f-6aae-4e7a-9f15-309c5abb43d1"
      },
      "execution_count": null,
      "outputs": [
        {
          "output_type": "stream",
          "name": "stderr",
          "text": [
            "WARNING:absl:`lr` is deprecated in Keras optimizer, please use `learning_rate` or use the legacy optimizer, e.g.,tf.keras.optimizers.legacy.Adam.\n"
          ]
        },
        {
          "output_type": "error",
          "ename": "ValueError",
          "evalue": "ignored",
          "traceback": [
            "\u001b[0;31m---------------------------------------------------------------------------\u001b[0m",
            "\u001b[0;31mValueError\u001b[0m                                Traceback (most recent call last)",
            "\u001b[0;32m<ipython-input-38-5cb37c07f3c7>\u001b[0m in \u001b[0;36m<cell line: 1>\u001b[0;34m()\u001b[0m\n\u001b[0;32m----> 1\u001b[0;31m \u001b[0mtf\u001b[0m\u001b[0;34m.\u001b[0m\u001b[0mkeras\u001b[0m\u001b[0;34m.\u001b[0m\u001b[0moptimizers\u001b[0m\u001b[0;34m.\u001b[0m\u001b[0mAdam\u001b[0m\u001b[0;34m(\u001b[0m\u001b[0mlr\u001b[0m\u001b[0;34m=\u001b[0m\u001b[0;36m0.001\u001b[0m\u001b[0;34m,\u001b[0m \u001b[0mbeta_1\u001b[0m\u001b[0;34m=\u001b[0m\u001b[0;36m0.9\u001b[0m\u001b[0;34m,\u001b[0m \u001b[0mbeta_2\u001b[0m\u001b[0;34m=\u001b[0m\u001b[0;36m0.999\u001b[0m\u001b[0;34m,\u001b[0m \u001b[0mepsilon\u001b[0m\u001b[0;34m=\u001b[0m\u001b[0;32mNone\u001b[0m\u001b[0;34m,\u001b[0m \u001b[0mdecay\u001b[0m\u001b[0;34m=\u001b[0m\u001b[0;36m0.0\u001b[0m\u001b[0;34m,\u001b[0m \u001b[0mamsgrad\u001b[0m\u001b[0;34m=\u001b[0m\u001b[0;32mFalse\u001b[0m\u001b[0;34m)\u001b[0m\u001b[0;34m\u001b[0m\u001b[0;34m\u001b[0m\u001b[0m\n\u001b[0m",
            "\u001b[0;32m/usr/local/lib/python3.9/dist-packages/keras/optimizers/adam.py\u001b[0m in \u001b[0;36m__init__\u001b[0;34m(self, learning_rate, beta_1, beta_2, epsilon, amsgrad, weight_decay, clipnorm, clipvalue, global_clipnorm, use_ema, ema_momentum, ema_overwrite_frequency, jit_compile, name, **kwargs)\u001b[0m\n\u001b[1;32m    102\u001b[0m         \u001b[0;34m**\u001b[0m\u001b[0mkwargs\u001b[0m\u001b[0;34m\u001b[0m\u001b[0;34m\u001b[0m\u001b[0m\n\u001b[1;32m    103\u001b[0m     ):\n\u001b[0;32m--> 104\u001b[0;31m         super().__init__(\n\u001b[0m\u001b[1;32m    105\u001b[0m             \u001b[0mname\u001b[0m\u001b[0;34m=\u001b[0m\u001b[0mname\u001b[0m\u001b[0;34m,\u001b[0m\u001b[0;34m\u001b[0m\u001b[0;34m\u001b[0m\u001b[0m\n\u001b[1;32m    106\u001b[0m             \u001b[0mweight_decay\u001b[0m\u001b[0;34m=\u001b[0m\u001b[0mweight_decay\u001b[0m\u001b[0;34m,\u001b[0m\u001b[0;34m\u001b[0m\u001b[0;34m\u001b[0m\u001b[0m\n",
            "\u001b[0;32m/usr/local/lib/python3.9/dist-packages/keras/optimizers/optimizer.py\u001b[0m in \u001b[0;36m__init__\u001b[0;34m(self, name, weight_decay, clipnorm, clipvalue, global_clipnorm, use_ema, ema_momentum, ema_overwrite_frequency, jit_compile, **kwargs)\u001b[0m\n\u001b[1;32m   1085\u001b[0m         \u001b[0;34m\"\"\"Create a new Optimizer.\"\"\"\u001b[0m\u001b[0;34m\u001b[0m\u001b[0;34m\u001b[0m\u001b[0m\n\u001b[1;32m   1086\u001b[0m \u001b[0;34m\u001b[0m\u001b[0m\n\u001b[0;32m-> 1087\u001b[0;31m         super().__init__(\n\u001b[0m\u001b[1;32m   1088\u001b[0m             \u001b[0mname\u001b[0m\u001b[0;34m,\u001b[0m\u001b[0;34m\u001b[0m\u001b[0;34m\u001b[0m\u001b[0m\n\u001b[1;32m   1089\u001b[0m             \u001b[0mweight_decay\u001b[0m\u001b[0;34m,\u001b[0m\u001b[0;34m\u001b[0m\u001b[0;34m\u001b[0m\u001b[0m\n",
            "\u001b[0;32m/usr/local/lib/python3.9/dist-packages/keras/optimizers/optimizer.py\u001b[0m in \u001b[0;36m__init__\u001b[0;34m(self, name, weight_decay, clipnorm, clipvalue, global_clipnorm, use_ema, ema_momentum, ema_overwrite_frequency, jit_compile, **kwargs)\u001b[0m\n\u001b[1;32m    103\u001b[0m         \u001b[0mself\u001b[0m\u001b[0;34m.\u001b[0m\u001b[0m_variables\u001b[0m \u001b[0;34m=\u001b[0m \u001b[0;34m[\u001b[0m\u001b[0;34m]\u001b[0m\u001b[0;34m\u001b[0m\u001b[0;34m\u001b[0m\u001b[0m\n\u001b[1;32m    104\u001b[0m         \u001b[0mself\u001b[0m\u001b[0;34m.\u001b[0m\u001b[0m_create_iteration_variable\u001b[0m\u001b[0;34m(\u001b[0m\u001b[0;34m)\u001b[0m\u001b[0;34m\u001b[0m\u001b[0;34m\u001b[0m\u001b[0m\n\u001b[0;32m--> 105\u001b[0;31m         \u001b[0mself\u001b[0m\u001b[0;34m.\u001b[0m\u001b[0m_process_kwargs\u001b[0m\u001b[0;34m(\u001b[0m\u001b[0mkwargs\u001b[0m\u001b[0;34m)\u001b[0m\u001b[0;34m\u001b[0m\u001b[0;34m\u001b[0m\u001b[0m\n\u001b[0m\u001b[1;32m    106\u001b[0m \u001b[0;34m\u001b[0m\u001b[0m\n\u001b[1;32m    107\u001b[0m     \u001b[0;32mdef\u001b[0m \u001b[0m_create_iteration_variable\u001b[0m\u001b[0;34m(\u001b[0m\u001b[0mself\u001b[0m\u001b[0;34m)\u001b[0m\u001b[0;34m:\u001b[0m\u001b[0;34m\u001b[0m\u001b[0;34m\u001b[0m\u001b[0m\n",
            "\u001b[0;32m/usr/local/lib/python3.9/dist-packages/keras/optimizers/optimizer.py\u001b[0m in \u001b[0;36m_process_kwargs\u001b[0;34m(self, kwargs)\u001b[0m\n\u001b[1;32m    132\u001b[0m         \u001b[0;32mfor\u001b[0m \u001b[0mk\u001b[0m \u001b[0;32min\u001b[0m \u001b[0mkwargs\u001b[0m\u001b[0;34m:\u001b[0m\u001b[0;34m\u001b[0m\u001b[0;34m\u001b[0m\u001b[0m\n\u001b[1;32m    133\u001b[0m             \u001b[0;32mif\u001b[0m \u001b[0mk\u001b[0m \u001b[0;32min\u001b[0m \u001b[0mlegacy_kwargs\u001b[0m\u001b[0;34m:\u001b[0m\u001b[0;34m\u001b[0m\u001b[0;34m\u001b[0m\u001b[0m\n\u001b[0;32m--> 134\u001b[0;31m                 raise ValueError(\n\u001b[0m\u001b[1;32m    135\u001b[0m                     \u001b[0;34mf\"{k} is deprecated in the new Keras optimizer, please\"\u001b[0m\u001b[0;34m\u001b[0m\u001b[0;34m\u001b[0m\u001b[0m\n\u001b[1;32m    136\u001b[0m                     \u001b[0;34m\"check the docstring for valid arguments, or use the \"\u001b[0m\u001b[0;34m\u001b[0m\u001b[0;34m\u001b[0m\u001b[0m\n",
            "\u001b[0;31mValueError\u001b[0m: decay is deprecated in the new Keras optimizer, pleasecheck the docstring for valid arguments, or use the legacy optimizer, e.g., tf.keras.optimizers.legacy.Adam."
          ]
        }
      ]
    },
    {
      "cell_type": "code",
      "source": [
        "adam = tf.keras.optimizers.Adam(lr=0.001, beta_1=0.9, beta_2=0.999, epsilon=None, decay=0.0, amsgrad=False)\n",
        "model.compile(loss='categorical_crossentropy', optimizer=adam, metrics=['acc'])"
      ],
      "metadata": {
        "colab": {
          "base_uri": "https://localhost:8080/",
          "height": 417
        },
        "id": "544E_2dNPEIk",
        "outputId": "5cf3e3fb-0bdc-4c8d-d804-2a0d399640ae"
      },
      "execution_count": null,
      "outputs": [
        {
          "output_type": "stream",
          "name": "stderr",
          "text": [
            "WARNING:absl:`lr` is deprecated in Keras optimizer, please use `learning_rate` or use the legacy optimizer, e.g.,tf.keras.optimizers.legacy.Adam.\n"
          ]
        },
        {
          "output_type": "error",
          "ename": "ValueError",
          "evalue": "ignored",
          "traceback": [
            "\u001b[0;31m---------------------------------------------------------------------------\u001b[0m",
            "\u001b[0;31mValueError\u001b[0m                                Traceback (most recent call last)",
            "\u001b[0;32m<ipython-input-39-b0eb9454b4a3>\u001b[0m in \u001b[0;36m<cell line: 1>\u001b[0;34m()\u001b[0m\n\u001b[0;32m----> 1\u001b[0;31m \u001b[0madam\u001b[0m \u001b[0;34m=\u001b[0m \u001b[0mtf\u001b[0m\u001b[0;34m.\u001b[0m\u001b[0mkeras\u001b[0m\u001b[0;34m.\u001b[0m\u001b[0moptimizers\u001b[0m\u001b[0;34m.\u001b[0m\u001b[0mAdam\u001b[0m\u001b[0;34m(\u001b[0m\u001b[0mlr\u001b[0m\u001b[0;34m=\u001b[0m\u001b[0;36m0.001\u001b[0m\u001b[0;34m,\u001b[0m \u001b[0mbeta_1\u001b[0m\u001b[0;34m=\u001b[0m\u001b[0;36m0.9\u001b[0m\u001b[0;34m,\u001b[0m \u001b[0mbeta_2\u001b[0m\u001b[0;34m=\u001b[0m\u001b[0;36m0.999\u001b[0m\u001b[0;34m,\u001b[0m \u001b[0mepsilon\u001b[0m\u001b[0;34m=\u001b[0m\u001b[0;32mNone\u001b[0m\u001b[0;34m,\u001b[0m \u001b[0mdecay\u001b[0m\u001b[0;34m=\u001b[0m\u001b[0;36m0.0\u001b[0m\u001b[0;34m,\u001b[0m \u001b[0mamsgrad\u001b[0m\u001b[0;34m=\u001b[0m\u001b[0;32mFalse\u001b[0m\u001b[0;34m)\u001b[0m\u001b[0;34m\u001b[0m\u001b[0;34m\u001b[0m\u001b[0m\n\u001b[0m\u001b[1;32m      2\u001b[0m \u001b[0mmodel\u001b[0m\u001b[0;34m.\u001b[0m\u001b[0mcompile\u001b[0m\u001b[0;34m(\u001b[0m\u001b[0mloss\u001b[0m\u001b[0;34m=\u001b[0m\u001b[0;34m'categorical_crossentropy'\u001b[0m\u001b[0;34m,\u001b[0m \u001b[0moptimizer\u001b[0m\u001b[0;34m=\u001b[0m\u001b[0madam\u001b[0m\u001b[0;34m,\u001b[0m \u001b[0mmetrics\u001b[0m\u001b[0;34m=\u001b[0m\u001b[0;34m[\u001b[0m\u001b[0;34m'acc'\u001b[0m\u001b[0;34m]\u001b[0m\u001b[0;34m)\u001b[0m\u001b[0;34m\u001b[0m\u001b[0;34m\u001b[0m\u001b[0m\n",
            "\u001b[0;32m/usr/local/lib/python3.9/dist-packages/keras/optimizers/adam.py\u001b[0m in \u001b[0;36m__init__\u001b[0;34m(self, learning_rate, beta_1, beta_2, epsilon, amsgrad, weight_decay, clipnorm, clipvalue, global_clipnorm, use_ema, ema_momentum, ema_overwrite_frequency, jit_compile, name, **kwargs)\u001b[0m\n\u001b[1;32m    102\u001b[0m         \u001b[0;34m**\u001b[0m\u001b[0mkwargs\u001b[0m\u001b[0;34m\u001b[0m\u001b[0;34m\u001b[0m\u001b[0m\n\u001b[1;32m    103\u001b[0m     ):\n\u001b[0;32m--> 104\u001b[0;31m         super().__init__(\n\u001b[0m\u001b[1;32m    105\u001b[0m             \u001b[0mname\u001b[0m\u001b[0;34m=\u001b[0m\u001b[0mname\u001b[0m\u001b[0;34m,\u001b[0m\u001b[0;34m\u001b[0m\u001b[0;34m\u001b[0m\u001b[0m\n\u001b[1;32m    106\u001b[0m             \u001b[0mweight_decay\u001b[0m\u001b[0;34m=\u001b[0m\u001b[0mweight_decay\u001b[0m\u001b[0;34m,\u001b[0m\u001b[0;34m\u001b[0m\u001b[0;34m\u001b[0m\u001b[0m\n",
            "\u001b[0;32m/usr/local/lib/python3.9/dist-packages/keras/optimizers/optimizer.py\u001b[0m in \u001b[0;36m__init__\u001b[0;34m(self, name, weight_decay, clipnorm, clipvalue, global_clipnorm, use_ema, ema_momentum, ema_overwrite_frequency, jit_compile, **kwargs)\u001b[0m\n\u001b[1;32m   1085\u001b[0m         \u001b[0;34m\"\"\"Create a new Optimizer.\"\"\"\u001b[0m\u001b[0;34m\u001b[0m\u001b[0;34m\u001b[0m\u001b[0m\n\u001b[1;32m   1086\u001b[0m \u001b[0;34m\u001b[0m\u001b[0m\n\u001b[0;32m-> 1087\u001b[0;31m         super().__init__(\n\u001b[0m\u001b[1;32m   1088\u001b[0m             \u001b[0mname\u001b[0m\u001b[0;34m,\u001b[0m\u001b[0;34m\u001b[0m\u001b[0;34m\u001b[0m\u001b[0m\n\u001b[1;32m   1089\u001b[0m             \u001b[0mweight_decay\u001b[0m\u001b[0;34m,\u001b[0m\u001b[0;34m\u001b[0m\u001b[0;34m\u001b[0m\u001b[0m\n",
            "\u001b[0;32m/usr/local/lib/python3.9/dist-packages/keras/optimizers/optimizer.py\u001b[0m in \u001b[0;36m__init__\u001b[0;34m(self, name, weight_decay, clipnorm, clipvalue, global_clipnorm, use_ema, ema_momentum, ema_overwrite_frequency, jit_compile, **kwargs)\u001b[0m\n\u001b[1;32m    103\u001b[0m         \u001b[0mself\u001b[0m\u001b[0;34m.\u001b[0m\u001b[0m_variables\u001b[0m \u001b[0;34m=\u001b[0m \u001b[0;34m[\u001b[0m\u001b[0;34m]\u001b[0m\u001b[0;34m\u001b[0m\u001b[0;34m\u001b[0m\u001b[0m\n\u001b[1;32m    104\u001b[0m         \u001b[0mself\u001b[0m\u001b[0;34m.\u001b[0m\u001b[0m_create_iteration_variable\u001b[0m\u001b[0;34m(\u001b[0m\u001b[0;34m)\u001b[0m\u001b[0;34m\u001b[0m\u001b[0;34m\u001b[0m\u001b[0m\n\u001b[0;32m--> 105\u001b[0;31m         \u001b[0mself\u001b[0m\u001b[0;34m.\u001b[0m\u001b[0m_process_kwargs\u001b[0m\u001b[0;34m(\u001b[0m\u001b[0mkwargs\u001b[0m\u001b[0;34m)\u001b[0m\u001b[0;34m\u001b[0m\u001b[0;34m\u001b[0m\u001b[0m\n\u001b[0m\u001b[1;32m    106\u001b[0m \u001b[0;34m\u001b[0m\u001b[0m\n\u001b[1;32m    107\u001b[0m     \u001b[0;32mdef\u001b[0m \u001b[0m_create_iteration_variable\u001b[0m\u001b[0;34m(\u001b[0m\u001b[0mself\u001b[0m\u001b[0;34m)\u001b[0m\u001b[0;34m:\u001b[0m\u001b[0;34m\u001b[0m\u001b[0;34m\u001b[0m\u001b[0m\n",
            "\u001b[0;32m/usr/local/lib/python3.9/dist-packages/keras/optimizers/optimizer.py\u001b[0m in \u001b[0;36m_process_kwargs\u001b[0;34m(self, kwargs)\u001b[0m\n\u001b[1;32m    132\u001b[0m         \u001b[0;32mfor\u001b[0m \u001b[0mk\u001b[0m \u001b[0;32min\u001b[0m \u001b[0mkwargs\u001b[0m\u001b[0;34m:\u001b[0m\u001b[0;34m\u001b[0m\u001b[0;34m\u001b[0m\u001b[0m\n\u001b[1;32m    133\u001b[0m             \u001b[0;32mif\u001b[0m \u001b[0mk\u001b[0m \u001b[0;32min\u001b[0m \u001b[0mlegacy_kwargs\u001b[0m\u001b[0;34m:\u001b[0m\u001b[0;34m\u001b[0m\u001b[0;34m\u001b[0m\u001b[0m\n\u001b[0;32m--> 134\u001b[0;31m                 raise ValueError(\n\u001b[0m\u001b[1;32m    135\u001b[0m                     \u001b[0;34mf\"{k} is deprecated in the new Keras optimizer, please\"\u001b[0m\u001b[0;34m\u001b[0m\u001b[0;34m\u001b[0m\u001b[0m\n\u001b[1;32m    136\u001b[0m                     \u001b[0;34m\"check the docstring for valid arguments, or use the \"\u001b[0m\u001b[0;34m\u001b[0m\u001b[0;34m\u001b[0m\u001b[0m\n",
            "\u001b[0;31mValueError\u001b[0m: decay is deprecated in the new Keras optimizer, pleasecheck the docstring for valid arguments, or use the legacy optimizer, e.g., tf.keras.optimizers.legacy.Adam."
          ]
        }
      ]
    },
    {
      "cell_type": "code",
      "source": [
        "model.compile(loss='categorical_crossentropy', optimizer='adam', metrics=['acc'])"
      ],
      "metadata": {
        "id": "Vq2VIaoJPFTL"
      },
      "execution_count": null,
      "outputs": []
    },
    {
      "cell_type": "markdown",
      "source": [
        "#07-06 과적합(Overfitting)을 막는 방법들"
      ],
      "metadata": {
        "id": "ahqvRsUDP5DT"
      }
    },
    {
      "cell_type": "markdown",
      "source": [
        "##데이터의 양을 늘리기"
      ],
      "metadata": {
        "id": "53eg9hAGP76b"
      }
    },
    {
      "cell_type": "markdown",
      "source": [
        "## 모델의 복잡도 줄이기\n",
        "\n",
        "인공 신경망의 복잡도는 은닉층(hidden layer)의 수나 매개변수의 수 등으로 결정됩니다. 과적합 현상이 포착되었을 때, 인공 신경망 모델에 대해서 할 수 있는 한 가지 조치는 인공 신경망의 복잡도를 줄이는 것 입니다.\n",
        "\n",
        "인공 신경망에서는 모델에 있는 매개변수들의 수를 모델의 수용력(capacity)이라고 하기도 합니다."
      ],
      "metadata": {
        "id": "ASYrwEVWP-rA"
      }
    },
    {
      "cell_type": "markdown",
      "source": [
        "##가중치 규제(Regularization) 적용하기\n",
        "\n",
        "- L1 규제 : 가중치 w들의 절대값 합계를 비용 함수에 추가합니다. L1 노름이라고도 합니다.\n",
        "- L2 규제 : 모든 가중치 w들의 제곱합을 비용 함수에 추가합니다. L2 노름이라고도 합니다."
      ],
      "metadata": {
        "id": "jwU3Gn1vQEK-"
      }
    },
    {
      "cell_type": "markdown",
      "source": [
        "##드롭아웃(Dropout)"
      ],
      "metadata": {
        "id": "lzbpEZnDQMgA"
      }
    },
    {
      "cell_type": "code",
      "source": [
        "from tensorflow.keras.models import Sequential\n",
        "from tensorflow.keras.layers import Dropout, Dense\n",
        "\n",
        "max_words = 10000\n",
        "num_classes = 46\n",
        "\n",
        "model = Sequential()\n",
        "model.add(Dense(256, input_shape=(max_words,), activation='relu'))\n",
        "model.add(Dropout(0.5)) # 드롭아웃 추가. 비율은 50%\n",
        "model.add(Dense(128, activation='relu'))\n",
        "model.add(Dropout(0.5)) # 드롭아웃 추가. 비율은 50%\n",
        "model.add(Dense(num_classes, activation='softmax'))"
      ],
      "metadata": {
        "id": "MYXTgLw4PyhD"
      },
      "execution_count": null,
      "outputs": []
    },
    {
      "cell_type": "markdown",
      "source": [
        "#07-08 케라스(Keras) 훑어보기"
      ],
      "metadata": {
        "id": "YNlXKGpQQSop"
      }
    },
    {
      "cell_type": "markdown",
      "source": [
        "##전처리(Preprocessing)\n",
        "\n",
        "- Tokenizer() \n",
        "\n",
        "토큰화와 정수 인코딩을 위해 사용됩니다. 다음은 훈련 데이터로부터 단어 집합을 생성하고, 해당 단어 집합으로 임의의 문장을 정수 인코딩하는 과정을 보여줍니다."
      ],
      "metadata": {
        "id": "P40CJ3CcQTq2"
      }
    },
    {
      "cell_type": "code",
      "source": [
        "from tensorflow.keras.preprocessing.text import Tokenizer\n",
        "from tensorflow.keras.preprocessing.sequence import pad_sequences\n",
        "\n",
        "tokenizer = Tokenizer()\n",
        "train_text = \"The earth is an awesome place live\"\n",
        "\n",
        "# 단어 집합 생성\n",
        "tokenizer.fit_on_texts([train_text])\n",
        "\n",
        "# 정수 인코딩\n",
        "sub_text = \"The earth is an great place live\"\n",
        "sequences = tokenizer.texts_to_sequences([sub_text])[0]\n",
        "\n",
        "print(\"정수 인코딩 : \",sequences)\n",
        "print(\"단어 집합 : \",tokenizer.word_index)"
      ],
      "metadata": {
        "colab": {
          "base_uri": "https://localhost:8080/"
        },
        "id": "rc9zBhS6QORd",
        "outputId": "eef867fb-5e79-414a-bab1-a12454a2986e"
      },
      "execution_count": null,
      "outputs": [
        {
          "output_type": "stream",
          "name": "stdout",
          "text": [
            "정수 인코딩 :  [1, 2, 3, 4, 6, 7]\n",
            "단어 집합 :  {'the': 1, 'earth': 2, 'is': 3, 'an': 4, 'awesome': 5, 'place': 6, 'live': 7}\n"
          ]
        }
      ]
    },
    {
      "cell_type": "markdown",
      "source": [
        "- pad_sequence() \n",
        "\n",
        "전체 훈련 데이터에서 각 샘플의 길이는 서로 다를 수 있습니다. 또는 각 문서 또는 각 문장은 단어의 수가 제각각입니다. 모델의 입력으로 사용하려면 모든 샘플의 길이를 동일하게 맞추어야할 때가 있습니다. 이를 자연어 처리에서는 패딩(padding) 작업이라고 하는데, 보통 숫자 0을 넣어서 길이가 다른 샘플들의 길이를 맞춰줍니다. 케라스에서는 pad_sequence()를 사용합니다. pad_sequence()는 정해준 길이보다 길이가 긴 샘플은 값을 일부 자르고, 정해준 길이보다 길이가 짧은 샘플은 값을 0으로 채웁니다."
      ],
      "metadata": {
        "id": "eMqjCNq9QoaG"
      }
    },
    {
      "cell_type": "code",
      "source": [
        "pad_sequences([[1, 2, 3], [3, 4, 5, 6], [7, 8]], maxlen=3, padding='pre')"
      ],
      "metadata": {
        "colab": {
          "base_uri": "https://localhost:8080/"
        },
        "id": "s60FxibMQXQI",
        "outputId": "7d5c769a-d04b-4414-e939-2e11f954426e"
      },
      "execution_count": null,
      "outputs": [
        {
          "output_type": "execute_result",
          "data": {
            "text/plain": [
              "array([[1, 2, 3],\n",
              "       [4, 5, 6],\n",
              "       [0, 7, 8]], dtype=int32)"
            ]
          },
          "metadata": {},
          "execution_count": 43
        }
      ]
    },
    {
      "cell_type": "markdown",
      "source": [
        "첫번째 인자 = 패딩을 진행할 데이터\n",
        "\n",
        "maxlen = 모든 데이터에 대해서 정규화 할 길이\n",
        "\n",
        "padding = 'pre'를 선택하면 앞에 0을 채우고 'post'를 선택하면 뒤에 0을 채움."
      ],
      "metadata": {
        "id": "Fm9hfzUYQw-G"
      }
    },
    {
      "cell_type": "markdown",
      "source": [
        "##워드 임베딩(Word Embedding)"
      ],
      "metadata": {
        "id": "JPLRiefNQ0p6"
      }
    },
    {
      "cell_type": "markdown",
      "source": [
        "- Embedding()\n",
        "\n",
        "Embedding()은 단어를 밀집 벡터로 만드는 역할을 합니다. 인공 신경망 용어로는 임베딩 층(embedding layer)을 만드는 역할을 합니다. Embedding()은 정수 인코딩이 된 단어들을 입력을 받아서 임베딩을 수행합니다.\n",
        "\n",
        "Embedding()은 (number of samples, input_length)인 2D 정수 텐서를 입력받습니다. 이때 각 sample은 정수 인코딩이 된 결과로, 정수의 시퀀스입니다. Embedding()은 워드 임베딩 작업을 수행하고 (number of samples, input_length, embedding word dimensionality)인 3D 텐서를 리턴합니다.\n",
        "\n",
        "\n",
        "\n",
        "```\n",
        "# 1. 토큰화\n",
        "tokenized_text = [['Hope', 'to', 'see', 'you', 'soon'], ['Nice', 'to', 'see', 'you', 'again']]\n",
        "\n",
        "# 2. 각 단어에 대한 정수 인코딩\n",
        "encoded_text = [[0, 1, 2, 3, 4],[5, 1, 2, 3, 6]]\n",
        "\n",
        "# 3. 위 정수 인코딩 데이터가 아래의 임베딩 층의 입력이 된다.\n",
        "vocab_size = 7\n",
        "embedding_dim = 2\n",
        "Embedding(vocab_size, embedding_dim, input_length=5)\n",
        "\n",
        "# 각 정수는 아래의 테이블의 인덱스로 사용되며 Embedding()은 각 단어마다 임베딩 벡터를 리턴한다.\n",
        "+------------+------------+\n",
        "|   index    | embedding  |\n",
        "+------------+------------+\n",
        "|     0      | [1.2, 3.1] |\n",
        "|     1      | [0.1, 4.2] |\n",
        "|     2      | [1.0, 3.1] |\n",
        "|     3      | [0.3, 2.1] |\n",
        "|     4      | [2.2, 1.4] |\n",
        "|     5      | [0.7, 1.7] |\n",
        "|     6      | [4.1, 2.0] |\n",
        "+------------+------------+\n",
        "\n",
        "# 위의 표는 임베딩 벡터가 된 결과를 예로서 정리한 것이고 Embedding()의 출력인 3D 텐서를 보여주는 것이 아님.\n",
        "```\n",
        "\n",
        "첫번째 인자 = 단어 집합의 크기. 즉, 총 단어의 개수\n",
        "\n",
        "두번째 인자 = 임베딩 벡터의 출력 차원. 결과로서 나오는 임베딩 벡터의 크기\n",
        "\n",
        "input_length = 입력 시퀀스의 길이\n",
        "\n"
      ],
      "metadata": {
        "id": "oDgXGYpYQ39s"
      }
    },
    {
      "cell_type": "markdown",
      "source": [
        "##모델링(Modeling)\n",
        "\n",
        "```\n",
        "from tensorflow.keras.models import Sequential\n",
        "from tensorflow.keras.layers import Dense\n",
        "\n",
        "model = Sequential()\n",
        "model.add(...) # 층 추가\n",
        "model.add(...) # 층 추가\n",
        "model.add(...) # 층 추가\n",
        "```\n",
        "\n"
      ],
      "metadata": {
        "id": "6HRnXILoRhuG"
      }
    },
    {
      "cell_type": "markdown",
      "source": [
        "\n",
        "\n",
        "```\n",
        "#임베딩 층(embedding layer)을 추가 예시\n",
        "model = Sequential()\n",
        "model.add(Embedding(vocab_size, output_dim, input_length))\n",
        "\n",
        "#전결합층(fully-connected layer)을 추가\n",
        "model = Sequential()\n",
        "model.add(Dense(1, input_dim=3, activation='relu'))\n",
        "\n",
        "```\n",
        "\n",
        "첫번째 인자 = 출력 뉴런의 수.\n",
        "input_dim = 입력 뉴런의 수. (입력의 차원)\n",
        "activation = 활성화 함수.\n",
        "- linear : 디폴트 값으로 별도 활성화 함수 없이 입력 뉴런과 가중치의 계산 결과 그대로 출력.\n",
        "- sigmoid : 이진 분류 문제에서 출력층에 주로 사용되는 활성화 함수.\n",
        "- softmax : 셋 이상의 선택지 중 하나를 택하는 다중 클래스 분류 문제에서 출력층에 주로 사용되는 활성화 함수.\n",
        "- relu : 은닉층에 주로 사용되는 활성화 함수.\n",
        "\n",
        "\n",
        "\n",
        "```\n",
        "model = Sequential()\n",
        "model.add(Dense(8, input_dim=4, activation='relu'))\n",
        "model.add(Dense(1, activation='sigmoid')) # 출력층\n",
        "```\n",
        "\n",
        "\n",
        "\n",
        "```\n",
        "model.summary()\n",
        "_________________________________________________________________\n",
        "Layer (type)                 Output Shape              Param #   \n",
        "=================================================================\n",
        "dense_1 (Dense)              (None, 8)                 40        \n",
        "_________________________________________________________________\n",
        "dense_2 (Dense)              (None, 1)                 9         \n",
        "=================================================================\n",
        "Total params: 49\n",
        "Trainable params: 49\n",
        "Non-trainable params: 0\n",
        "_________________________________________________________________\n",
        "```\n",
        "\n",
        "\n",
        "\n",
        "\n",
        "\n"
      ],
      "metadata": {
        "id": "TALhLhD9RzP2"
      }
    },
    {
      "cell_type": "markdown",
      "source": [
        "##컴파일(Compile)과 훈련(Training)"
      ],
      "metadata": {
        "id": "oOYbB__8SMFs"
      }
    },
    {
      "cell_type": "code",
      "source": [
        "from tensorflow.keras.layers import SimpleRNN, Embedding, Dense\n",
        "from tensorflow.keras.models import Sequential\n",
        "\n",
        "vocab_size = 10000\n",
        "embedding_dim = 32\n",
        "hidden_units = 32\n",
        "\n",
        "model = Sequential()\n",
        "model.add(Embedding(vocab_size, embedding_dim))\n",
        "model.add(SimpleRNN(hidden_units))\n",
        "model.add(Dense(1, activation='sigmoid'))\n",
        "model.compile(optimizer='rmsprop', loss='binary_crossentropy', metrics=['acc'])"
      ],
      "metadata": {
        "id": "bjIVDm1aRvFX"
      },
      "execution_count": null,
      "outputs": []
    },
    {
      "cell_type": "markdown",
      "source": [
        "optimizer = 훈련 과정을 설정하는 옵티마이저를 설정합니다.\n",
        "\n",
        "loss = 훈련 과정에서 사용할 손실 함수(loss function)를 설정합니다.\n",
        "\n",
        "metrics = 훈련을 모니터링하기 위한 지표를 선택합니다."
      ],
      "metadata": {
        "id": "wD7SaB_pSRkr"
      }
    },
    {
      "cell_type": "markdown",
      "source": [
        "\n",
        "\n",
        "```\n",
        "# 위의 compile() 코드의 연장선상인 코드\n",
        "model.fit(X_train, y_train, epochs=10, batch_size=32)\n",
        "\n",
        "#좀 더 많은 인자를 사용할 때\n",
        "model.fit(X_train, y_train, epochs=10, batch_size=32, verbose=0, validation_data(X_val, y_val))\n",
        "\n",
        "# 훈련 데이터의 20%를 검증 데이터로 사용.\n",
        "model.fit(X_train, y_train, epochs=10, batch_size=32, verbose=0, validation_split=0.2))\n",
        "```\n",
        "\n",
        "verbose = 학습 중 출력되는 문구를 설정합니다.\n",
        "- 0 : 아무 것도 출력하지 않습니다.\n",
        "- 1 : 훈련의 진행도를 보여주는 진행 막대를 보여줍니다.\n",
        "- 2 : 미니 배치마다 손실 정보를 출력합니다.\n",
        "\n"
      ],
      "metadata": {
        "id": "a38xexXaSdWO"
      }
    },
    {
      "cell_type": "markdown",
      "source": [
        "##평가(Evaluation)와 예측(Prediction)"
      ],
      "metadata": {
        "id": "iAIH56pvSsuP"
      }
    },
    {
      "cell_type": "markdown",
      "source": [
        "\n",
        "\n",
        "```\n",
        "# 위의 fit() 코드의 연장선상인 코드\n",
        "model.evaluate(X_test, y_test, batch_size=32)\n",
        "\n",
        "# 위의 fit() 코드의 연장선상인 코드\n",
        "model.predict(X_input, batch_size=32)\n",
        "```\n",
        "\n"
      ],
      "metadata": {
        "id": "jokBIjzNSu6o"
      }
    },
    {
      "cell_type": "markdown",
      "source": [
        "##모델의 저장(Save)과 로드(Load)\n",
        "\n",
        "\n",
        "\n",
        "```\n",
        "model.save(\"model_name.h5\")\n",
        "\n",
        "from tensorflow.keras.models import load_model\n",
        "model = load_model(\"model_name.h5\")\n",
        "```\n",
        "\n"
      ],
      "metadata": {
        "id": "pwvgcWEfS1Pb"
      }
    },
    {
      "cell_type": "markdown",
      "source": [
        "#07-09 케라스의 함수형 API(Keras Functional API)"
      ],
      "metadata": {
        "id": "lQmNVz0IS9vg"
      }
    },
    {
      "cell_type": "markdown",
      "source": [
        "##Sequential API로 만든 모델"
      ],
      "metadata": {
        "id": "0Sm4utpmS_ON"
      }
    },
    {
      "cell_type": "code",
      "source": [
        "from tensorflow.keras.models import Sequential\n",
        "from tensorflow.keras.layers import Dense\n",
        "\n",
        "model = Sequential()\n",
        "model.add(Dense(3, input_dim=4, activation='softmax'))"
      ],
      "metadata": {
        "id": "FtvSazLBSUAZ"
      },
      "execution_count": null,
      "outputs": []
    },
    {
      "cell_type": "markdown",
      "source": [
        "##Functional API로 만든 모델"
      ],
      "metadata": {
        "id": "kwwRHMTNTCww"
      }
    },
    {
      "cell_type": "markdown",
      "source": [
        "전결합 피드 포워드 신경망(Fully-connected FFNN)"
      ],
      "metadata": {
        "id": "JiK--_-ZTYye"
      }
    },
    {
      "cell_type": "code",
      "source": [
        "from tensorflow.keras.layers import Input, Dense\n",
        "from tensorflow.keras.models import Model\n",
        "inputs = Input(shape=(10,))"
      ],
      "metadata": {
        "id": "i8AmPCLATAe0"
      },
      "execution_count": null,
      "outputs": []
    },
    {
      "cell_type": "markdown",
      "source": [
        "위의 코드는 10개의 입력을 받는 입력층을 보여줍니다. 위의 코드에 은닉층과 출력층을 추가해봅시다."
      ],
      "metadata": {
        "id": "sutVPBsETKf7"
      }
    },
    {
      "cell_type": "code",
      "source": [
        "inputs = Input(shape=(10,))\n",
        "hidden1 = Dense(64, activation='relu')(inputs)  # <- 새로 추가\n",
        "hidden2 = Dense(64, activation='relu')(hidden1) # <- 새로 추가\n",
        "output = Dense(1, activation='sigmoid')(hidden2) # <- 새로 추가"
      ],
      "metadata": {
        "id": "G0A8EUNlTFRm"
      },
      "execution_count": null,
      "outputs": []
    },
    {
      "cell_type": "markdown",
      "source": [
        "위의 코드를 하나의 모델로 구성해보겠습니다. 이는 Model에 입력 텐서와 출력 텐서를 정의하여 완성됩니다."
      ],
      "metadata": {
        "id": "i2j2LJKjTLvE"
      }
    },
    {
      "cell_type": "code",
      "source": [
        "inputs = Input(shape=(10,))\n",
        "hidden1 = Dense(64, activation='relu')(inputs)\n",
        "hidden2 = Dense(64, activation='relu')(hidden1)\n",
        "output = Dense(1, activation='sigmoid')(hidden2)\n",
        "model = Model(inputs=inputs, outputs=output) # <- 새로 추가"
      ],
      "metadata": {
        "id": "UOSrqvPeTHHe"
      },
      "execution_count": null,
      "outputs": []
    },
    {
      "cell_type": "markdown",
      "source": [
        "지금까지의 내용을 정리하면 다음과 같습니다.\n",
        "\n",
        "- Input() 함수에 입력의 크기를 정의합니다.\n",
        "- 이전층을 다음층 함수의 입력으로 사용하고, 변수에 할당합니다.\n",
        "- Model() 함수에 입력과 출력을 정의합니다.\n",
        "\n",
        "\n",
        "이를 model로 저장하면 sequential API를 사용할 때와 마찬가지로 model.compile, model.fit 등을 사용 가능합니다."
      ],
      "metadata": {
        "id": "BSpij7KYTNyk"
      }
    },
    {
      "cell_type": "code",
      "source": [
        "model.compile(optimizer='rmsprop', loss='categorical_crossentropy', metrics=['accuracy'])\n",
        "# model.fit(data, labels)"
      ],
      "metadata": {
        "id": "WtiPj94PTJGP"
      },
      "execution_count": null,
      "outputs": []
    },
    {
      "cell_type": "code",
      "source": [
        "inputs = Input(shape=(10,))\n",
        "x = Dense(8, activation=\"relu\")(inputs)\n",
        "x = Dense(4, activation=\"relu\")(x)\n",
        "x = Dense(1, activation=\"linear\")(x)\n",
        "model = Model(inputs, x)"
      ],
      "metadata": {
        "id": "YEZ7MoxcTR4k"
      },
      "execution_count": null,
      "outputs": []
    },
    {
      "cell_type": "markdown",
      "source": [
        "이번에는 위에서 배운 내용을 바탕으로 선형 회귀와 로지스틱 회귀를 Functional API로 구현해봅시다."
      ],
      "metadata": {
        "id": "rpXS21kbTVq_"
      }
    },
    {
      "cell_type": "markdown",
      "source": [
        "선형 회귀(Linear Regression)"
      ],
      "metadata": {
        "id": "Io-PJL3uTa99"
      }
    },
    {
      "cell_type": "code",
      "source": [
        "from tensorflow.keras.layers import Input, Dense\n",
        "from tensorflow.keras import optimizers\n",
        "from tensorflow.keras.models import Model\n",
        "\n",
        "X = [1, 2, 3, 4, 5, 6, 7, 8, 9] # 공부하는 시간\n",
        "y = [11, 22, 33, 44, 53, 66, 77, 87, 95] # 각 공부하는 시간에 맵핑되는 성적\n",
        "\n",
        "inputs = Input(shape=(1,))\n",
        "output = Dense(1, activation='linear')(inputs)\n",
        "linear_model = Model(inputs, output)\n",
        "\n",
        "sgd = optimizers.SGD(lr=0.01)\n",
        "\n",
        "linear_model.compile(optimizer=sgd, loss='mse', metrics=['mse'])\n",
        "linear_model.fit(X, y, epochs=300)"
      ],
      "metadata": {
        "colab": {
          "base_uri": "https://localhost:8080/"
        },
        "id": "O4kuGvoyTTU7",
        "outputId": "d8bda648-4db4-4da6-d71a-e71f7c2f2bea"
      },
      "execution_count": null,
      "outputs": [
        {
          "output_type": "stream",
          "name": "stderr",
          "text": [
            "WARNING:absl:`lr` is deprecated in Keras optimizer, please use `learning_rate` or use the legacy optimizer, e.g.,tf.keras.optimizers.legacy.SGD.\n"
          ]
        },
        {
          "output_type": "stream",
          "name": "stdout",
          "text": [
            "Epoch 1/300\n",
            "1/1 [==============================] - 1s 653ms/step - loss: 4878.2119 - mse: 4878.2119\n",
            "Epoch 2/300\n",
            "1/1 [==============================] - 0s 11ms/step - loss: 601.3856 - mse: 601.3856\n",
            "Epoch 3/300\n",
            "1/1 [==============================] - 0s 11ms/step - loss: 75.1523 - mse: 75.1523\n",
            "Epoch 4/300\n",
            "1/1 [==============================] - 0s 13ms/step - loss: 10.4014 - mse: 10.4014\n",
            "Epoch 5/300\n",
            "1/1 [==============================] - 0s 13ms/step - loss: 2.4325 - mse: 2.4325\n",
            "Epoch 6/300\n",
            "1/1 [==============================] - 0s 13ms/step - loss: 1.4501 - mse: 1.4501\n",
            "Epoch 7/300\n",
            "1/1 [==============================] - 0s 12ms/step - loss: 1.3274 - mse: 1.3274\n",
            "Epoch 8/300\n",
            "1/1 [==============================] - 0s 13ms/step - loss: 1.3105 - mse: 1.3105\n",
            "Epoch 9/300\n",
            "1/1 [==============================] - 0s 21ms/step - loss: 1.3067 - mse: 1.3067\n",
            "Epoch 10/300\n",
            "1/1 [==============================] - 0s 12ms/step - loss: 1.3044 - mse: 1.3044\n",
            "Epoch 11/300\n",
            "1/1 [==============================] - 0s 13ms/step - loss: 1.3024 - mse: 1.3024\n",
            "Epoch 12/300\n",
            "1/1 [==============================] - 0s 12ms/step - loss: 1.3004 - mse: 1.3004\n",
            "Epoch 13/300\n",
            "1/1 [==============================] - 0s 14ms/step - loss: 1.2984 - mse: 1.2984\n",
            "Epoch 14/300\n",
            "1/1 [==============================] - 0s 14ms/step - loss: 1.2965 - mse: 1.2965\n",
            "Epoch 15/300\n",
            "1/1 [==============================] - 0s 16ms/step - loss: 1.2945 - mse: 1.2945\n",
            "Epoch 16/300\n",
            "1/1 [==============================] - 0s 12ms/step - loss: 1.2926 - mse: 1.2926\n",
            "Epoch 17/300\n",
            "1/1 [==============================] - 0s 12ms/step - loss: 1.2907 - mse: 1.2907\n",
            "Epoch 18/300\n",
            "1/1 [==============================] - 0s 11ms/step - loss: 1.2888 - mse: 1.2888\n",
            "Epoch 19/300\n",
            "1/1 [==============================] - 0s 13ms/step - loss: 1.2869 - mse: 1.2869\n",
            "Epoch 20/300\n",
            "1/1 [==============================] - 0s 13ms/step - loss: 1.2851 - mse: 1.2851\n",
            "Epoch 21/300\n",
            "1/1 [==============================] - 0s 19ms/step - loss: 1.2832 - mse: 1.2832\n",
            "Epoch 22/300\n",
            "1/1 [==============================] - 0s 11ms/step - loss: 1.2814 - mse: 1.2814\n",
            "Epoch 23/300\n",
            "1/1 [==============================] - 0s 12ms/step - loss: 1.2796 - mse: 1.2796\n",
            "Epoch 24/300\n",
            "1/1 [==============================] - 0s 13ms/step - loss: 1.2778 - mse: 1.2778\n",
            "Epoch 25/300\n",
            "1/1 [==============================] - 0s 11ms/step - loss: 1.2760 - mse: 1.2760\n",
            "Epoch 26/300\n",
            "1/1 [==============================] - 0s 14ms/step - loss: 1.2742 - mse: 1.2742\n",
            "Epoch 27/300\n",
            "1/1 [==============================] - 0s 12ms/step - loss: 1.2725 - mse: 1.2725\n",
            "Epoch 28/300\n",
            "1/1 [==============================] - 0s 12ms/step - loss: 1.2707 - mse: 1.2707\n",
            "Epoch 29/300\n",
            "1/1 [==============================] - 0s 13ms/step - loss: 1.2690 - mse: 1.2690\n",
            "Epoch 30/300\n",
            "1/1 [==============================] - 0s 13ms/step - loss: 1.2673 - mse: 1.2673\n",
            "Epoch 31/300\n",
            "1/1 [==============================] - 0s 14ms/step - loss: 1.2656 - mse: 1.2656\n",
            "Epoch 32/300\n",
            "1/1 [==============================] - 0s 13ms/step - loss: 1.2639 - mse: 1.2639\n",
            "Epoch 33/300\n",
            "1/1 [==============================] - 0s 13ms/step - loss: 1.2622 - mse: 1.2622\n",
            "Epoch 34/300\n",
            "1/1 [==============================] - 0s 11ms/step - loss: 1.2606 - mse: 1.2606\n",
            "Epoch 35/300\n",
            "1/1 [==============================] - 0s 11ms/step - loss: 1.2589 - mse: 1.2589\n",
            "Epoch 36/300\n",
            "1/1 [==============================] - 0s 12ms/step - loss: 1.2573 - mse: 1.2573\n",
            "Epoch 37/300\n",
            "1/1 [==============================] - 0s 13ms/step - loss: 1.2557 - mse: 1.2557\n",
            "Epoch 38/300\n",
            "1/1 [==============================] - 0s 13ms/step - loss: 1.2540 - mse: 1.2540\n",
            "Epoch 39/300\n",
            "1/1 [==============================] - 0s 12ms/step - loss: 1.2525 - mse: 1.2525\n",
            "Epoch 40/300\n",
            "1/1 [==============================] - 0s 11ms/step - loss: 1.2509 - mse: 1.2509\n",
            "Epoch 41/300\n",
            "1/1 [==============================] - 0s 11ms/step - loss: 1.2493 - mse: 1.2493\n",
            "Epoch 42/300\n",
            "1/1 [==============================] - 0s 13ms/step - loss: 1.2478 - mse: 1.2478\n",
            "Epoch 43/300\n",
            "1/1 [==============================] - 0s 14ms/step - loss: 1.2462 - mse: 1.2462\n",
            "Epoch 44/300\n",
            "1/1 [==============================] - 0s 13ms/step - loss: 1.2447 - mse: 1.2447\n",
            "Epoch 45/300\n",
            "1/1 [==============================] - 0s 13ms/step - loss: 1.2432 - mse: 1.2432\n",
            "Epoch 46/300\n",
            "1/1 [==============================] - 0s 12ms/step - loss: 1.2417 - mse: 1.2417\n",
            "Epoch 47/300\n",
            "1/1 [==============================] - 0s 20ms/step - loss: 1.2402 - mse: 1.2402\n",
            "Epoch 48/300\n",
            "1/1 [==============================] - 0s 11ms/step - loss: 1.2387 - mse: 1.2387\n",
            "Epoch 49/300\n",
            "1/1 [==============================] - 0s 15ms/step - loss: 1.2372 - mse: 1.2372\n",
            "Epoch 50/300\n",
            "1/1 [==============================] - 0s 13ms/step - loss: 1.2358 - mse: 1.2358\n",
            "Epoch 51/300\n",
            "1/1 [==============================] - 0s 14ms/step - loss: 1.2343 - mse: 1.2343\n",
            "Epoch 52/300\n",
            "1/1 [==============================] - 0s 13ms/step - loss: 1.2329 - mse: 1.2329\n",
            "Epoch 53/300\n",
            "1/1 [==============================] - 0s 14ms/step - loss: 1.2315 - mse: 1.2315\n",
            "Epoch 54/300\n",
            "1/1 [==============================] - 0s 13ms/step - loss: 1.2301 - mse: 1.2301\n",
            "Epoch 55/300\n",
            "1/1 [==============================] - 0s 14ms/step - loss: 1.2287 - mse: 1.2287\n",
            "Epoch 56/300\n",
            "1/1 [==============================] - 0s 12ms/step - loss: 1.2273 - mse: 1.2273\n",
            "Epoch 57/300\n",
            "1/1 [==============================] - 0s 10ms/step - loss: 1.2259 - mse: 1.2259\n",
            "Epoch 58/300\n",
            "1/1 [==============================] - 0s 13ms/step - loss: 1.2246 - mse: 1.2246\n",
            "Epoch 59/300\n",
            "1/1 [==============================] - 0s 11ms/step - loss: 1.2232 - mse: 1.2232\n",
            "Epoch 60/300\n",
            "1/1 [==============================] - 0s 10ms/step - loss: 1.2219 - mse: 1.2219\n",
            "Epoch 61/300\n",
            "1/1 [==============================] - 0s 11ms/step - loss: 1.2206 - mse: 1.2206\n",
            "Epoch 62/300\n",
            "1/1 [==============================] - 0s 10ms/step - loss: 1.2192 - mse: 1.2192\n",
            "Epoch 63/300\n",
            "1/1 [==============================] - 0s 13ms/step - loss: 1.2179 - mse: 1.2179\n",
            "Epoch 64/300\n",
            "1/1 [==============================] - 0s 15ms/step - loss: 1.2166 - mse: 1.2166\n",
            "Epoch 65/300\n",
            "1/1 [==============================] - 0s 12ms/step - loss: 1.2154 - mse: 1.2154\n",
            "Epoch 66/300\n",
            "1/1 [==============================] - 0s 14ms/step - loss: 1.2141 - mse: 1.2141\n",
            "Epoch 67/300\n",
            "1/1 [==============================] - 0s 14ms/step - loss: 1.2128 - mse: 1.2128\n",
            "Epoch 68/300\n",
            "1/1 [==============================] - 0s 15ms/step - loss: 1.2116 - mse: 1.2116\n",
            "Epoch 69/300\n",
            "1/1 [==============================] - 0s 14ms/step - loss: 1.2103 - mse: 1.2103\n",
            "Epoch 70/300\n",
            "1/1 [==============================] - 0s 14ms/step - loss: 1.2091 - mse: 1.2091\n",
            "Epoch 71/300\n",
            "1/1 [==============================] - 0s 14ms/step - loss: 1.2079 - mse: 1.2079\n",
            "Epoch 72/300\n",
            "1/1 [==============================] - 0s 14ms/step - loss: 1.2066 - mse: 1.2066\n",
            "Epoch 73/300\n",
            "1/1 [==============================] - 0s 19ms/step - loss: 1.2054 - mse: 1.2054\n",
            "Epoch 74/300\n",
            "1/1 [==============================] - 0s 13ms/step - loss: 1.2043 - mse: 1.2043\n",
            "Epoch 75/300\n",
            "1/1 [==============================] - 0s 12ms/step - loss: 1.2031 - mse: 1.2031\n",
            "Epoch 76/300\n",
            "1/1 [==============================] - 0s 15ms/step - loss: 1.2019 - mse: 1.2019\n",
            "Epoch 77/300\n",
            "1/1 [==============================] - 0s 13ms/step - loss: 1.2007 - mse: 1.2007\n",
            "Epoch 78/300\n",
            "1/1 [==============================] - 0s 18ms/step - loss: 1.1996 - mse: 1.1996\n",
            "Epoch 79/300\n",
            "1/1 [==============================] - 0s 11ms/step - loss: 1.1984 - mse: 1.1984\n",
            "Epoch 80/300\n",
            "1/1 [==============================] - 0s 12ms/step - loss: 1.1973 - mse: 1.1973\n",
            "Epoch 81/300\n",
            "1/1 [==============================] - 0s 14ms/step - loss: 1.1962 - mse: 1.1962\n",
            "Epoch 82/300\n",
            "1/1 [==============================] - 0s 11ms/step - loss: 1.1950 - mse: 1.1950\n",
            "Epoch 83/300\n",
            "1/1 [==============================] - 0s 11ms/step - loss: 1.1939 - mse: 1.1939\n",
            "Epoch 84/300\n",
            "1/1 [==============================] - 0s 14ms/step - loss: 1.1928 - mse: 1.1928\n",
            "Epoch 85/300\n",
            "1/1 [==============================] - 0s 14ms/step - loss: 1.1917 - mse: 1.1917\n",
            "Epoch 86/300\n",
            "1/1 [==============================] - 0s 14ms/step - loss: 1.1907 - mse: 1.1907\n",
            "Epoch 87/300\n",
            "1/1 [==============================] - 0s 13ms/step - loss: 1.1896 - mse: 1.1896\n",
            "Epoch 88/300\n",
            "1/1 [==============================] - 0s 11ms/step - loss: 1.1885 - mse: 1.1885\n",
            "Epoch 89/300\n",
            "1/1 [==============================] - 0s 15ms/step - loss: 1.1875 - mse: 1.1875\n",
            "Epoch 90/300\n",
            "1/1 [==============================] - 0s 15ms/step - loss: 1.1864 - mse: 1.1864\n",
            "Epoch 91/300\n",
            "1/1 [==============================] - 0s 13ms/step - loss: 1.1854 - mse: 1.1854\n",
            "Epoch 92/300\n",
            "1/1 [==============================] - 0s 13ms/step - loss: 1.1844 - mse: 1.1844\n",
            "Epoch 93/300\n",
            "1/1 [==============================] - 0s 15ms/step - loss: 1.1833 - mse: 1.1833\n",
            "Epoch 94/300\n",
            "1/1 [==============================] - 0s 13ms/step - loss: 1.1823 - mse: 1.1823\n",
            "Epoch 95/300\n",
            "1/1 [==============================] - 0s 14ms/step - loss: 1.1813 - mse: 1.1813\n",
            "Epoch 96/300\n",
            "1/1 [==============================] - 0s 14ms/step - loss: 1.1803 - mse: 1.1803\n",
            "Epoch 97/300\n",
            "1/1 [==============================] - 0s 14ms/step - loss: 1.1793 - mse: 1.1793\n",
            "Epoch 98/300\n",
            "1/1 [==============================] - 0s 14ms/step - loss: 1.1784 - mse: 1.1784\n",
            "Epoch 99/300\n",
            "1/1 [==============================] - 0s 11ms/step - loss: 1.1774 - mse: 1.1774\n",
            "Epoch 100/300\n",
            "1/1 [==============================] - 0s 14ms/step - loss: 1.1764 - mse: 1.1764\n",
            "Epoch 101/300\n",
            "1/1 [==============================] - 0s 11ms/step - loss: 1.1755 - mse: 1.1755\n",
            "Epoch 102/300\n",
            "1/1 [==============================] - 0s 12ms/step - loss: 1.1745 - mse: 1.1745\n",
            "Epoch 103/300\n",
            "1/1 [==============================] - 0s 11ms/step - loss: 1.1736 - mse: 1.1736\n",
            "Epoch 104/300\n",
            "1/1 [==============================] - 0s 13ms/step - loss: 1.1727 - mse: 1.1727\n",
            "Epoch 105/300\n",
            "1/1 [==============================] - 0s 12ms/step - loss: 1.1717 - mse: 1.1717\n",
            "Epoch 106/300\n",
            "1/1 [==============================] - 0s 13ms/step - loss: 1.1708 - mse: 1.1708\n",
            "Epoch 107/300\n",
            "1/1 [==============================] - 0s 15ms/step - loss: 1.1699 - mse: 1.1699\n",
            "Epoch 108/300\n",
            "1/1 [==============================] - 0s 14ms/step - loss: 1.1690 - mse: 1.1690\n",
            "Epoch 109/300\n",
            "1/1 [==============================] - 0s 12ms/step - loss: 1.1681 - mse: 1.1681\n",
            "Epoch 110/300\n",
            "1/1 [==============================] - 0s 13ms/step - loss: 1.1672 - mse: 1.1672\n",
            "Epoch 111/300\n",
            "1/1 [==============================] - 0s 13ms/step - loss: 1.1663 - mse: 1.1663\n",
            "Epoch 112/300\n",
            "1/1 [==============================] - 0s 13ms/step - loss: 1.1655 - mse: 1.1655\n",
            "Epoch 113/300\n",
            "1/1 [==============================] - 0s 13ms/step - loss: 1.1646 - mse: 1.1646\n",
            "Epoch 114/300\n",
            "1/1 [==============================] - 0s 15ms/step - loss: 1.1637 - mse: 1.1637\n",
            "Epoch 115/300\n",
            "1/1 [==============================] - 0s 10ms/step - loss: 1.1629 - mse: 1.1629\n",
            "Epoch 116/300\n",
            "1/1 [==============================] - 0s 10ms/step - loss: 1.1620 - mse: 1.1620\n",
            "Epoch 117/300\n",
            "1/1 [==============================] - 0s 11ms/step - loss: 1.1612 - mse: 1.1612\n",
            "Epoch 118/300\n",
            "1/1 [==============================] - 0s 11ms/step - loss: 1.1604 - mse: 1.1604\n",
            "Epoch 119/300\n",
            "1/1 [==============================] - 0s 13ms/step - loss: 1.1596 - mse: 1.1596\n",
            "Epoch 120/300\n",
            "1/1 [==============================] - 0s 16ms/step - loss: 1.1587 - mse: 1.1587\n",
            "Epoch 121/300\n",
            "1/1 [==============================] - 0s 12ms/step - loss: 1.1579 - mse: 1.1579\n",
            "Epoch 122/300\n",
            "1/1 [==============================] - 0s 14ms/step - loss: 1.1571 - mse: 1.1571\n",
            "Epoch 123/300\n",
            "1/1 [==============================] - 0s 14ms/step - loss: 1.1563 - mse: 1.1563\n",
            "Epoch 124/300\n",
            "1/1 [==============================] - 0s 13ms/step - loss: 1.1555 - mse: 1.1555\n",
            "Epoch 125/300\n",
            "1/1 [==============================] - 0s 12ms/step - loss: 1.1548 - mse: 1.1548\n",
            "Epoch 126/300\n",
            "1/1 [==============================] - 0s 12ms/step - loss: 1.1540 - mse: 1.1540\n",
            "Epoch 127/300\n",
            "1/1 [==============================] - 0s 11ms/step - loss: 1.1532 - mse: 1.1532\n",
            "Epoch 128/300\n",
            "1/1 [==============================] - 0s 12ms/step - loss: 1.1524 - mse: 1.1524\n",
            "Epoch 129/300\n",
            "1/1 [==============================] - 0s 16ms/step - loss: 1.1517 - mse: 1.1517\n",
            "Epoch 130/300\n",
            "1/1 [==============================] - 0s 11ms/step - loss: 1.1509 - mse: 1.1509\n",
            "Epoch 131/300\n",
            "1/1 [==============================] - 0s 11ms/step - loss: 1.1502 - mse: 1.1502\n",
            "Epoch 132/300\n",
            "1/1 [==============================] - 0s 11ms/step - loss: 1.1494 - mse: 1.1494\n",
            "Epoch 133/300\n",
            "1/1 [==============================] - 0s 12ms/step - loss: 1.1487 - mse: 1.1487\n",
            "Epoch 134/300\n",
            "1/1 [==============================] - 0s 19ms/step - loss: 1.1480 - mse: 1.1480\n",
            "Epoch 135/300\n",
            "1/1 [==============================] - 0s 17ms/step - loss: 1.1473 - mse: 1.1473\n",
            "Epoch 136/300\n",
            "1/1 [==============================] - 0s 16ms/step - loss: 1.1465 - mse: 1.1465\n",
            "Epoch 137/300\n",
            "1/1 [==============================] - 0s 16ms/step - loss: 1.1458 - mse: 1.1458\n",
            "Epoch 138/300\n",
            "1/1 [==============================] - 0s 13ms/step - loss: 1.1451 - mse: 1.1451\n",
            "Epoch 139/300\n",
            "1/1 [==============================] - 0s 17ms/step - loss: 1.1444 - mse: 1.1444\n",
            "Epoch 140/300\n",
            "1/1 [==============================] - 0s 15ms/step - loss: 1.1437 - mse: 1.1437\n",
            "Epoch 141/300\n",
            "1/1 [==============================] - 0s 17ms/step - loss: 1.1430 - mse: 1.1430\n",
            "Epoch 142/300\n",
            "1/1 [==============================] - 0s 16ms/step - loss: 1.1424 - mse: 1.1424\n",
            "Epoch 143/300\n",
            "1/1 [==============================] - 0s 18ms/step - loss: 1.1417 - mse: 1.1417\n",
            "Epoch 144/300\n",
            "1/1 [==============================] - 0s 21ms/step - loss: 1.1410 - mse: 1.1410\n",
            "Epoch 145/300\n",
            "1/1 [==============================] - 0s 10ms/step - loss: 1.1404 - mse: 1.1404\n",
            "Epoch 146/300\n",
            "1/1 [==============================] - 0s 11ms/step - loss: 1.1397 - mse: 1.1397\n",
            "Epoch 147/300\n",
            "1/1 [==============================] - 0s 14ms/step - loss: 1.1390 - mse: 1.1390\n",
            "Epoch 148/300\n",
            "1/1 [==============================] - 0s 19ms/step - loss: 1.1384 - mse: 1.1384\n",
            "Epoch 149/300\n",
            "1/1 [==============================] - 0s 15ms/step - loss: 1.1377 - mse: 1.1377\n",
            "Epoch 150/300\n",
            "1/1 [==============================] - 0s 12ms/step - loss: 1.1371 - mse: 1.1371\n",
            "Epoch 151/300\n",
            "1/1 [==============================] - 0s 17ms/step - loss: 1.1365 - mse: 1.1365\n",
            "Epoch 152/300\n",
            "1/1 [==============================] - 0s 16ms/step - loss: 1.1358 - mse: 1.1358\n",
            "Epoch 153/300\n",
            "1/1 [==============================] - 0s 12ms/step - loss: 1.1352 - mse: 1.1352\n",
            "Epoch 154/300\n",
            "1/1 [==============================] - 0s 18ms/step - loss: 1.1346 - mse: 1.1346\n",
            "Epoch 155/300\n",
            "1/1 [==============================] - 0s 21ms/step - loss: 1.1340 - mse: 1.1340\n",
            "Epoch 156/300\n",
            "1/1 [==============================] - 0s 19ms/step - loss: 1.1334 - mse: 1.1334\n",
            "Epoch 157/300\n",
            "1/1 [==============================] - 0s 15ms/step - loss: 1.1328 - mse: 1.1328\n",
            "Epoch 158/300\n",
            "1/1 [==============================] - 0s 21ms/step - loss: 1.1322 - mse: 1.1322\n",
            "Epoch 159/300\n",
            "1/1 [==============================] - 0s 20ms/step - loss: 1.1316 - mse: 1.1316\n",
            "Epoch 160/300\n",
            "1/1 [==============================] - 0s 10ms/step - loss: 1.1310 - mse: 1.1310\n",
            "Epoch 161/300\n",
            "1/1 [==============================] - 0s 13ms/step - loss: 1.1304 - mse: 1.1304\n",
            "Epoch 162/300\n",
            "1/1 [==============================] - 0s 19ms/step - loss: 1.1298 - mse: 1.1298\n",
            "Epoch 163/300\n",
            "1/1 [==============================] - 0s 19ms/step - loss: 1.1293 - mse: 1.1293\n",
            "Epoch 164/300\n",
            "1/1 [==============================] - 0s 15ms/step - loss: 1.1287 - mse: 1.1287\n",
            "Epoch 165/300\n",
            "1/1 [==============================] - 0s 13ms/step - loss: 1.1281 - mse: 1.1281\n",
            "Epoch 166/300\n",
            "1/1 [==============================] - 0s 10ms/step - loss: 1.1276 - mse: 1.1276\n",
            "Epoch 167/300\n",
            "1/1 [==============================] - 0s 14ms/step - loss: 1.1270 - mse: 1.1270\n",
            "Epoch 168/300\n",
            "1/1 [==============================] - 0s 15ms/step - loss: 1.1265 - mse: 1.1265\n",
            "Epoch 169/300\n",
            "1/1 [==============================] - 0s 16ms/step - loss: 1.1259 - mse: 1.1259\n",
            "Epoch 170/300\n",
            "1/1 [==============================] - 0s 16ms/step - loss: 1.1254 - mse: 1.1254\n",
            "Epoch 171/300\n",
            "1/1 [==============================] - 0s 14ms/step - loss: 1.1248 - mse: 1.1248\n",
            "Epoch 172/300\n",
            "1/1 [==============================] - 0s 14ms/step - loss: 1.1243 - mse: 1.1243\n",
            "Epoch 173/300\n",
            "1/1 [==============================] - 0s 11ms/step - loss: 1.1238 - mse: 1.1238\n",
            "Epoch 174/300\n",
            "1/1 [==============================] - 0s 13ms/step - loss: 1.1233 - mse: 1.1233\n",
            "Epoch 175/300\n",
            "1/1 [==============================] - 0s 11ms/step - loss: 1.1227 - mse: 1.1227\n",
            "Epoch 176/300\n",
            "1/1 [==============================] - 0s 13ms/step - loss: 1.1222 - mse: 1.1222\n",
            "Epoch 177/300\n",
            "1/1 [==============================] - 0s 22ms/step - loss: 1.1217 - mse: 1.1217\n",
            "Epoch 178/300\n",
            "1/1 [==============================] - 0s 12ms/step - loss: 1.1212 - mse: 1.1212\n",
            "Epoch 179/300\n",
            "1/1 [==============================] - 0s 14ms/step - loss: 1.1207 - mse: 1.1207\n",
            "Epoch 180/300\n",
            "1/1 [==============================] - 0s 13ms/step - loss: 1.1202 - mse: 1.1202\n",
            "Epoch 181/300\n",
            "1/1 [==============================] - 0s 12ms/step - loss: 1.1197 - mse: 1.1197\n",
            "Epoch 182/300\n",
            "1/1 [==============================] - 0s 12ms/step - loss: 1.1192 - mse: 1.1192\n",
            "Epoch 183/300\n",
            "1/1 [==============================] - 0s 11ms/step - loss: 1.1187 - mse: 1.1187\n",
            "Epoch 184/300\n",
            "1/1 [==============================] - 0s 10ms/step - loss: 1.1183 - mse: 1.1183\n",
            "Epoch 185/300\n",
            "1/1 [==============================] - 0s 11ms/step - loss: 1.1178 - mse: 1.1178\n",
            "Epoch 186/300\n",
            "1/1 [==============================] - 0s 14ms/step - loss: 1.1173 - mse: 1.1173\n",
            "Epoch 187/300\n",
            "1/1 [==============================] - 0s 15ms/step - loss: 1.1168 - mse: 1.1168\n",
            "Epoch 188/300\n",
            "1/1 [==============================] - 0s 15ms/step - loss: 1.1164 - mse: 1.1164\n",
            "Epoch 189/300\n",
            "1/1 [==============================] - 0s 13ms/step - loss: 1.1159 - mse: 1.1159\n",
            "Epoch 190/300\n",
            "1/1 [==============================] - 0s 10ms/step - loss: 1.1154 - mse: 1.1154\n",
            "Epoch 191/300\n",
            "1/1 [==============================] - 0s 14ms/step - loss: 1.1150 - mse: 1.1150\n",
            "Epoch 192/300\n",
            "1/1 [==============================] - 0s 13ms/step - loss: 1.1145 - mse: 1.1145\n",
            "Epoch 193/300\n",
            "1/1 [==============================] - 0s 11ms/step - loss: 1.1141 - mse: 1.1141\n",
            "Epoch 194/300\n",
            "1/1 [==============================] - 0s 13ms/step - loss: 1.1136 - mse: 1.1136\n",
            "Epoch 195/300\n",
            "1/1 [==============================] - 0s 15ms/step - loss: 1.1132 - mse: 1.1132\n",
            "Epoch 196/300\n",
            "1/1 [==============================] - 0s 16ms/step - loss: 1.1128 - mse: 1.1128\n",
            "Epoch 197/300\n",
            "1/1 [==============================] - 0s 18ms/step - loss: 1.1123 - mse: 1.1123\n",
            "Epoch 198/300\n",
            "1/1 [==============================] - 0s 15ms/step - loss: 1.1119 - mse: 1.1119\n",
            "Epoch 199/300\n",
            "1/1 [==============================] - 0s 11ms/step - loss: 1.1115 - mse: 1.1115\n",
            "Epoch 200/300\n",
            "1/1 [==============================] - 0s 11ms/step - loss: 1.1111 - mse: 1.1111\n",
            "Epoch 201/300\n",
            "1/1 [==============================] - 0s 12ms/step - loss: 1.1106 - mse: 1.1106\n",
            "Epoch 202/300\n",
            "1/1 [==============================] - 0s 14ms/step - loss: 1.1102 - mse: 1.1102\n",
            "Epoch 203/300\n",
            "1/1 [==============================] - 0s 14ms/step - loss: 1.1098 - mse: 1.1098\n",
            "Epoch 204/300\n",
            "1/1 [==============================] - 0s 11ms/step - loss: 1.1094 - mse: 1.1094\n",
            "Epoch 205/300\n",
            "1/1 [==============================] - 0s 12ms/step - loss: 1.1090 - mse: 1.1090\n",
            "Epoch 206/300\n",
            "1/1 [==============================] - 0s 11ms/step - loss: 1.1086 - mse: 1.1086\n",
            "Epoch 207/300\n",
            "1/1 [==============================] - 0s 14ms/step - loss: 1.1082 - mse: 1.1082\n",
            "Epoch 208/300\n",
            "1/1 [==============================] - 0s 17ms/step - loss: 1.1078 - mse: 1.1078\n",
            "Epoch 209/300\n",
            "1/1 [==============================] - 0s 13ms/step - loss: 1.1074 - mse: 1.1074\n",
            "Epoch 210/300\n",
            "1/1 [==============================] - 0s 11ms/step - loss: 1.1070 - mse: 1.1070\n",
            "Epoch 211/300\n",
            "1/1 [==============================] - 0s 14ms/step - loss: 1.1066 - mse: 1.1066\n",
            "Epoch 212/300\n",
            "1/1 [==============================] - 0s 11ms/step - loss: 1.1062 - mse: 1.1062\n",
            "Epoch 213/300\n",
            "1/1 [==============================] - 0s 12ms/step - loss: 1.1059 - mse: 1.1059\n",
            "Epoch 214/300\n",
            "1/1 [==============================] - 0s 14ms/step - loss: 1.1055 - mse: 1.1055\n",
            "Epoch 215/300\n",
            "1/1 [==============================] - 0s 12ms/step - loss: 1.1051 - mse: 1.1051\n",
            "Epoch 216/300\n",
            "1/1 [==============================] - 0s 15ms/step - loss: 1.1047 - mse: 1.1047\n",
            "Epoch 217/300\n",
            "1/1 [==============================] - 0s 16ms/step - loss: 1.1044 - mse: 1.1044\n",
            "Epoch 218/300\n",
            "1/1 [==============================] - 0s 15ms/step - loss: 1.1040 - mse: 1.1040\n",
            "Epoch 219/300\n",
            "1/1 [==============================] - 0s 17ms/step - loss: 1.1036 - mse: 1.1036\n",
            "Epoch 220/300\n",
            "1/1 [==============================] - 0s 12ms/step - loss: 1.1033 - mse: 1.1033\n",
            "Epoch 221/300\n",
            "1/1 [==============================] - 0s 12ms/step - loss: 1.1029 - mse: 1.1029\n",
            "Epoch 222/300\n",
            "1/1 [==============================] - 0s 12ms/step - loss: 1.1026 - mse: 1.1026\n",
            "Epoch 223/300\n",
            "1/1 [==============================] - 0s 15ms/step - loss: 1.1022 - mse: 1.1022\n",
            "Epoch 224/300\n",
            "1/1 [==============================] - 0s 14ms/step - loss: 1.1019 - mse: 1.1019\n",
            "Epoch 225/300\n",
            "1/1 [==============================] - 0s 13ms/step - loss: 1.1015 - mse: 1.1015\n",
            "Epoch 226/300\n",
            "1/1 [==============================] - 0s 19ms/step - loss: 1.1012 - mse: 1.1012\n",
            "Epoch 227/300\n",
            "1/1 [==============================] - 0s 13ms/step - loss: 1.1009 - mse: 1.1009\n",
            "Epoch 228/300\n",
            "1/1 [==============================] - 0s 15ms/step - loss: 1.1005 - mse: 1.1005\n",
            "Epoch 229/300\n",
            "1/1 [==============================] - 0s 11ms/step - loss: 1.1002 - mse: 1.1002\n",
            "Epoch 230/300\n",
            "1/1 [==============================] - 0s 14ms/step - loss: 1.0999 - mse: 1.0999\n",
            "Epoch 231/300\n",
            "1/1 [==============================] - 0s 14ms/step - loss: 1.0995 - mse: 1.0995\n",
            "Epoch 232/300\n",
            "1/1 [==============================] - 0s 13ms/step - loss: 1.0992 - mse: 1.0992\n",
            "Epoch 233/300\n",
            "1/1 [==============================] - 0s 17ms/step - loss: 1.0989 - mse: 1.0989\n",
            "Epoch 234/300\n",
            "1/1 [==============================] - 0s 11ms/step - loss: 1.0986 - mse: 1.0986\n",
            "Epoch 235/300\n",
            "1/1 [==============================] - 0s 14ms/step - loss: 1.0982 - mse: 1.0982\n",
            "Epoch 236/300\n",
            "1/1 [==============================] - 0s 12ms/step - loss: 1.0979 - mse: 1.0979\n",
            "Epoch 237/300\n",
            "1/1 [==============================] - 0s 11ms/step - loss: 1.0976 - mse: 1.0976\n",
            "Epoch 238/300\n",
            "1/1 [==============================] - 0s 12ms/step - loss: 1.0973 - mse: 1.0973\n",
            "Epoch 239/300\n",
            "1/1 [==============================] - 0s 11ms/step - loss: 1.0970 - mse: 1.0970\n",
            "Epoch 240/300\n",
            "1/1 [==============================] - 0s 10ms/step - loss: 1.0967 - mse: 1.0967\n",
            "Epoch 241/300\n",
            "1/1 [==============================] - 0s 10ms/step - loss: 1.0964 - mse: 1.0964\n",
            "Epoch 242/300\n",
            "1/1 [==============================] - 0s 11ms/step - loss: 1.0961 - mse: 1.0961\n",
            "Epoch 243/300\n",
            "1/1 [==============================] - 0s 9ms/step - loss: 1.0958 - mse: 1.0958\n",
            "Epoch 244/300\n",
            "1/1 [==============================] - 0s 14ms/step - loss: 1.0955 - mse: 1.0955\n",
            "Epoch 245/300\n",
            "1/1 [==============================] - 0s 16ms/step - loss: 1.0952 - mse: 1.0952\n",
            "Epoch 246/300\n",
            "1/1 [==============================] - 0s 12ms/step - loss: 1.0949 - mse: 1.0949\n",
            "Epoch 247/300\n",
            "1/1 [==============================] - 0s 15ms/step - loss: 1.0946 - mse: 1.0946\n",
            "Epoch 248/300\n",
            "1/1 [==============================] - 0s 12ms/step - loss: 1.0943 - mse: 1.0943\n",
            "Epoch 249/300\n",
            "1/1 [==============================] - 0s 18ms/step - loss: 1.0941 - mse: 1.0941\n",
            "Epoch 250/300\n",
            "1/1 [==============================] - 0s 12ms/step - loss: 1.0938 - mse: 1.0938\n",
            "Epoch 251/300\n",
            "1/1 [==============================] - 0s 17ms/step - loss: 1.0935 - mse: 1.0935\n",
            "Epoch 252/300\n",
            "1/1 [==============================] - 0s 16ms/step - loss: 1.0932 - mse: 1.0932\n",
            "Epoch 253/300\n",
            "1/1 [==============================] - 0s 11ms/step - loss: 1.0930 - mse: 1.0930\n",
            "Epoch 254/300\n",
            "1/1 [==============================] - 0s 20ms/step - loss: 1.0927 - mse: 1.0927\n",
            "Epoch 255/300\n",
            "1/1 [==============================] - 0s 15ms/step - loss: 1.0924 - mse: 1.0924\n",
            "Epoch 256/300\n",
            "1/1 [==============================] - 0s 12ms/step - loss: 1.0922 - mse: 1.0922\n",
            "Epoch 257/300\n",
            "1/1 [==============================] - 0s 13ms/step - loss: 1.0919 - mse: 1.0919\n",
            "Epoch 258/300\n",
            "1/1 [==============================] - 0s 12ms/step - loss: 1.0916 - mse: 1.0916\n",
            "Epoch 259/300\n",
            "1/1 [==============================] - 0s 11ms/step - loss: 1.0914 - mse: 1.0914\n",
            "Epoch 260/300\n",
            "1/1 [==============================] - 0s 13ms/step - loss: 1.0911 - mse: 1.0911\n",
            "Epoch 261/300\n",
            "1/1 [==============================] - 0s 12ms/step - loss: 1.0908 - mse: 1.0908\n",
            "Epoch 262/300\n",
            "1/1 [==============================] - 0s 11ms/step - loss: 1.0906 - mse: 1.0906\n",
            "Epoch 263/300\n",
            "1/1 [==============================] - 0s 10ms/step - loss: 1.0903 - mse: 1.0903\n",
            "Epoch 264/300\n",
            "1/1 [==============================] - 0s 19ms/step - loss: 1.0901 - mse: 1.0901\n",
            "Epoch 265/300\n",
            "1/1 [==============================] - 0s 12ms/step - loss: 1.0898 - mse: 1.0898\n",
            "Epoch 266/300\n",
            "1/1 [==============================] - 0s 11ms/step - loss: 1.0896 - mse: 1.0896\n",
            "Epoch 267/300\n",
            "1/1 [==============================] - 0s 11ms/step - loss: 1.0894 - mse: 1.0894\n",
            "Epoch 268/300\n",
            "1/1 [==============================] - 0s 12ms/step - loss: 1.0891 - mse: 1.0891\n",
            "Epoch 269/300\n",
            "1/1 [==============================] - 0s 11ms/step - loss: 1.0889 - mse: 1.0889\n",
            "Epoch 270/300\n",
            "1/1 [==============================] - 0s 12ms/step - loss: 1.0886 - mse: 1.0886\n",
            "Epoch 271/300\n",
            "1/1 [==============================] - 0s 14ms/step - loss: 1.0884 - mse: 1.0884\n",
            "Epoch 272/300\n",
            "1/1 [==============================] - 0s 11ms/step - loss: 1.0882 - mse: 1.0882\n",
            "Epoch 273/300\n",
            "1/1 [==============================] - 0s 13ms/step - loss: 1.0879 - mse: 1.0879\n",
            "Epoch 274/300\n",
            "1/1 [==============================] - 0s 15ms/step - loss: 1.0877 - mse: 1.0877\n",
            "Epoch 275/300\n",
            "1/1 [==============================] - 0s 13ms/step - loss: 1.0875 - mse: 1.0875\n",
            "Epoch 276/300\n",
            "1/1 [==============================] - 0s 10ms/step - loss: 1.0872 - mse: 1.0872\n",
            "Epoch 277/300\n",
            "1/1 [==============================] - 0s 15ms/step - loss: 1.0870 - mse: 1.0870\n",
            "Epoch 278/300\n",
            "1/1 [==============================] - 0s 13ms/step - loss: 1.0868 - mse: 1.0868\n",
            "Epoch 279/300\n",
            "1/1 [==============================] - 0s 13ms/step - loss: 1.0866 - mse: 1.0866\n",
            "Epoch 280/300\n",
            "1/1 [==============================] - 0s 13ms/step - loss: 1.0864 - mse: 1.0864\n",
            "Epoch 281/300\n",
            "1/1 [==============================] - 0s 13ms/step - loss: 1.0861 - mse: 1.0861\n",
            "Epoch 282/300\n",
            "1/1 [==============================] - 0s 15ms/step - loss: 1.0859 - mse: 1.0859\n",
            "Epoch 283/300\n",
            "1/1 [==============================] - 0s 16ms/step - loss: 1.0857 - mse: 1.0857\n",
            "Epoch 284/300\n",
            "1/1 [==============================] - 0s 11ms/step - loss: 1.0855 - mse: 1.0855\n",
            "Epoch 285/300\n",
            "1/1 [==============================] - 0s 13ms/step - loss: 1.0853 - mse: 1.0853\n",
            "Epoch 286/300\n",
            "1/1 [==============================] - 0s 14ms/step - loss: 1.0851 - mse: 1.0851\n",
            "Epoch 287/300\n",
            "1/1 [==============================] - 0s 12ms/step - loss: 1.0849 - mse: 1.0849\n",
            "Epoch 288/300\n",
            "1/1 [==============================] - 0s 10ms/step - loss: 1.0847 - mse: 1.0847\n",
            "Epoch 289/300\n",
            "1/1 [==============================] - 0s 14ms/step - loss: 1.0845 - mse: 1.0845\n",
            "Epoch 290/300\n",
            "1/1 [==============================] - 0s 13ms/step - loss: 1.0843 - mse: 1.0843\n",
            "Epoch 291/300\n",
            "1/1 [==============================] - 0s 13ms/step - loss: 1.0841 - mse: 1.0841\n",
            "Epoch 292/300\n",
            "1/1 [==============================] - 0s 17ms/step - loss: 1.0839 - mse: 1.0839\n",
            "Epoch 293/300\n",
            "1/1 [==============================] - 0s 10ms/step - loss: 1.0837 - mse: 1.0837\n",
            "Epoch 294/300\n",
            "1/1 [==============================] - 0s 22ms/step - loss: 1.0835 - mse: 1.0835\n",
            "Epoch 295/300\n",
            "1/1 [==============================] - 0s 11ms/step - loss: 1.0833 - mse: 1.0833\n",
            "Epoch 296/300\n",
            "1/1 [==============================] - 0s 13ms/step - loss: 1.0831 - mse: 1.0831\n",
            "Epoch 297/300\n",
            "1/1 [==============================] - 0s 11ms/step - loss: 1.0829 - mse: 1.0829\n",
            "Epoch 298/300\n",
            "1/1 [==============================] - 0s 9ms/step - loss: 1.0827 - mse: 1.0827\n",
            "Epoch 299/300\n",
            "1/1 [==============================] - 0s 10ms/step - loss: 1.0825 - mse: 1.0825\n",
            "Epoch 300/300\n",
            "1/1 [==============================] - 0s 10ms/step - loss: 1.0823 - mse: 1.0823\n"
          ]
        },
        {
          "output_type": "execute_result",
          "data": {
            "text/plain": [
              "<keras.callbacks.History at 0x7fa15b06f820>"
            ]
          },
          "metadata": {},
          "execution_count": 60
        }
      ]
    },
    {
      "cell_type": "markdown",
      "source": [
        "로지스틱 회귀(Logistic Regression)"
      ],
      "metadata": {
        "id": "eLKcxD2sUHyf"
      }
    },
    {
      "cell_type": "code",
      "source": [
        "from tensorflow.keras.layers import Input, Dense\n",
        "from tensorflow.keras.models import Model\n",
        "\n",
        "inputs = Input(shape=(3,))\n",
        "output = Dense(1, activation='sigmoid')(inputs)\n",
        "logistic_model = Model(inputs, output)"
      ],
      "metadata": {
        "id": "SIV6YG-jTcRD"
      },
      "execution_count": null,
      "outputs": []
    },
    {
      "cell_type": "markdown",
      "source": [
        "다중 입력을 받는 모델(model that accepts multiple inputs)"
      ],
      "metadata": {
        "id": "l9taYm9EUKsZ"
      }
    },
    {
      "cell_type": "code",
      "source": [
        "# 최종 완성된 다중 입력, 다중 출력 모델의 예\n",
        "#model = Model(inputs=[a1, a2], outputs=[b1, b2, b3])"
      ],
      "metadata": {
        "id": "vJdu2h7DUJEu"
      },
      "execution_count": null,
      "outputs": []
    },
    {
      "cell_type": "code",
      "source": [
        "from tensorflow.keras.layers import Input, Dense, concatenate\n",
        "from tensorflow.keras.models import Model\n",
        "\n",
        "# 두 개의 입력층을 정의\n",
        "inputA = Input(shape=(64,))\n",
        "inputB = Input(shape=(128,))\n",
        "\n",
        "# 첫번째 입력층으로부터 분기되어 진행되는 인공 신경망을 정의\n",
        "x = Dense(16, activation=\"relu\")(inputA)\n",
        "x = Dense(8, activation=\"relu\")(x)\n",
        "x = Model(inputs=inputA, outputs=x)\n",
        "\n",
        "# 두번째 입력층으로부터 분기되어 진행되는 인공 신경망을 정의\n",
        "y = Dense(64, activation=\"relu\")(inputB)\n",
        "y = Dense(32, activation=\"relu\")(y)\n",
        "y = Dense(8, activation=\"relu\")(y)\n",
        "y = Model(inputs=inputB, outputs=y)\n",
        "\n",
        "# 두개의 인공 신경망의 출력을 연결(concatenate)\n",
        "result = concatenate([x.output, y.output])\n",
        "\n",
        "z = Dense(2, activation=\"relu\")(result)\n",
        "z = Dense(1, activation=\"linear\")(z)\n",
        "\n",
        "model = Model(inputs=[x.input, y.input], outputs=z)"
      ],
      "metadata": {
        "id": "TU0O2HSqUL--"
      },
      "execution_count": null,
      "outputs": []
    },
    {
      "cell_type": "markdown",
      "source": [
        "RNN(Recurrence Neural Network) 은닉층 사용하기"
      ],
      "metadata": {
        "id": "7_qFWemuUTFg"
      }
    },
    {
      "cell_type": "code",
      "source": [
        "from tensorflow.keras.layers import Input, Dense, LSTM\n",
        "from tensorflow.keras.models import Model\n",
        "\n",
        "inputs = Input(shape=(50,1))\n",
        "lstm_layer = LSTM(10)(inputs)\n",
        "x = Dense(10, activation='relu')(lstm_layer)\n",
        "output = Dense(1, activation='sigmoid')(x)\n",
        "\n",
        "model = Model(inputs=inputs, outputs=output)"
      ],
      "metadata": {
        "id": "HaxxDGJiUQ_f"
      },
      "execution_count": null,
      "outputs": []
    },
    {
      "cell_type": "markdown",
      "source": [
        "#07-10 케라스 서브클래싱 API(Keras Subclassing API)"
      ],
      "metadata": {
        "id": "ElPK433OUYZi"
      }
    },
    {
      "cell_type": "markdown",
      "source": [
        "##서브클래싱 API로 구현한 선형 회귀"
      ],
      "metadata": {
        "id": "YEGIHXHKUaAe"
      }
    },
    {
      "cell_type": "code",
      "source": [
        "import tensorflow as tf"
      ],
      "metadata": {
        "id": "RaAUZaxgUU-Q"
      },
      "execution_count": null,
      "outputs": []
    },
    {
      "cell_type": "code",
      "source": [
        "class LinearRegression(tf.keras.Model):\n",
        "  def __init__(self):\n",
        "    super(LinearRegression, self).__init__()\n",
        "    self.linear_layer = tf.keras.layers.Dense(1, input_dim=1, activation='linear')\n",
        "\n",
        "  def call(self, x):\n",
        "    y_pred = self.linear_layer(x)\n",
        "\n",
        "    return y_pred"
      ],
      "metadata": {
        "id": "Nv8QmWuVUbmh"
      },
      "execution_count": null,
      "outputs": []
    },
    {
      "cell_type": "code",
      "source": [
        "model = LinearRegression()"
      ],
      "metadata": {
        "id": "W9qd5TnTUcn5"
      },
      "execution_count": null,
      "outputs": []
    },
    {
      "cell_type": "code",
      "source": [
        "X = [1, 2, 3, 4, 5, 6, 7, 8, 9] # 공부하는 시간\n",
        "y = [11, 22, 33, 44, 53, 66, 77, 87, 95] # 각 공부하는 시간에 맵핑되는 성적"
      ],
      "metadata": {
        "id": "459RiYNiUdsz"
      },
      "execution_count": null,
      "outputs": []
    },
    {
      "cell_type": "markdown",
      "source": [
        "\n",
        "\n",
        "```\n",
        "sgd = tf.keras.optimizers.SGD(lr=0.01)\n",
        "model.compile(optimizer=sgd, loss='mse', metrics=['mse'])\n",
        "model.fit(X, y, epochs=300)\n",
        "```\n",
        "\n"
      ],
      "metadata": {
        "id": "b8UIV_ikUwvb"
      }
    },
    {
      "cell_type": "markdown",
      "source": [
        "#07-11 다층 퍼셉트론(MultiLayer Perceptron, MLP)으로 텍스트 분류하기"
      ],
      "metadata": {
        "id": "7rHhnB8IU05g"
      }
    },
    {
      "cell_type": "markdown",
      "source": [
        "##다층 퍼셉트론(MultiLayer Perceptron, MLP)"
      ],
      "metadata": {
        "id": "yBPrWElKU2qN"
      }
    },
    {
      "cell_type": "markdown",
      "source": [
        "##케라스의 texts_to_matrix() 이해하기"
      ],
      "metadata": {
        "id": "OYdcMxV6U5qm"
      }
    },
    {
      "cell_type": "code",
      "source": [
        "import numpy as np\n",
        "from tensorflow.keras.preprocessing.text import Tokenizer"
      ],
      "metadata": {
        "id": "0O46eEyNU1bz"
      },
      "execution_count": null,
      "outputs": []
    },
    {
      "cell_type": "code",
      "source": [
        "texts = ['먹고 싶은 사과', '먹고 싶은 바나나', '길고 노란 바나나 바나나', '저는 과일이 좋아요']"
      ],
      "metadata": {
        "id": "qpHn5ibHU7qP"
      },
      "execution_count": null,
      "outputs": []
    },
    {
      "cell_type": "code",
      "source": [
        "tokenizer = Tokenizer()\n",
        "tokenizer.fit_on_texts(texts)\n",
        "print(tokenizer.word_index)"
      ],
      "metadata": {
        "colab": {
          "base_uri": "https://localhost:8080/"
        },
        "id": "GWZkF8vZU8fd",
        "outputId": "0e7971ae-35d5-4f7c-8aa9-80aa2edfffff"
      },
      "execution_count": null,
      "outputs": [
        {
          "output_type": "stream",
          "name": "stdout",
          "text": [
            "{'바나나': 1, '먹고': 2, '싶은': 3, '사과': 4, '길고': 5, '노란': 6, '저는': 7, '과일이': 8, '좋아요': 9}\n"
          ]
        }
      ]
    },
    {
      "cell_type": "code",
      "source": [
        "print(tokenizer.texts_to_matrix(texts, mode = 'count')) # texts_to_matrix의 입력으로 texts를 넣고, 모드는 'count'"
      ],
      "metadata": {
        "colab": {
          "base_uri": "https://localhost:8080/"
        },
        "id": "SVed4zZTU9X5",
        "outputId": "9504121d-c546-42b6-809d-122c50c1bff7"
      },
      "execution_count": null,
      "outputs": [
        {
          "output_type": "stream",
          "name": "stdout",
          "text": [
            "[[0. 0. 1. 1. 1. 0. 0. 0. 0. 0.]\n",
            " [0. 1. 1. 1. 0. 0. 0. 0. 0. 0.]\n",
            " [0. 2. 0. 0. 0. 1. 1. 0. 0. 0.]\n",
            " [0. 0. 0. 0. 0. 0. 0. 1. 1. 1.]]\n"
          ]
        }
      ]
    },
    {
      "cell_type": "code",
      "source": [
        "print(tokenizer.texts_to_matrix(texts, mode = 'binary'))"
      ],
      "metadata": {
        "colab": {
          "base_uri": "https://localhost:8080/"
        },
        "id": "3lcNt7r2U-t7",
        "outputId": "b6579f58-64bf-4e41-9dfa-15cceced28a0"
      },
      "execution_count": null,
      "outputs": [
        {
          "output_type": "stream",
          "name": "stdout",
          "text": [
            "[[0. 0. 1. 1. 1. 0. 0. 0. 0. 0.]\n",
            " [0. 1. 1. 1. 0. 0. 0. 0. 0. 0.]\n",
            " [0. 1. 0. 0. 0. 1. 1. 0. 0. 0.]\n",
            " [0. 0. 0. 0. 0. 0. 0. 1. 1. 1.]]\n"
          ]
        }
      ]
    },
    {
      "cell_type": "code",
      "source": [
        "print(tokenizer.texts_to_matrix(texts, mode = 'tfidf').round(2)) # 둘째 자리까지 반올림하여 출력"
      ],
      "metadata": {
        "colab": {
          "base_uri": "https://localhost:8080/"
        },
        "id": "7E7lCabeVADF",
        "outputId": "0e7a0c81-8603-4323-c863-fd4610a19cde"
      },
      "execution_count": null,
      "outputs": [
        {
          "output_type": "stream",
          "name": "stdout",
          "text": [
            "[[0.   0.   0.85 0.85 1.1  0.   0.   0.   0.   0.  ]\n",
            " [0.   0.85 0.85 0.85 0.   0.   0.   0.   0.   0.  ]\n",
            " [0.   1.43 0.   0.   0.   1.1  1.1  0.   0.   0.  ]\n",
            " [0.   0.   0.   0.   0.   0.   0.   1.1  1.1  1.1 ]]\n"
          ]
        }
      ]
    },
    {
      "cell_type": "code",
      "source": [
        "print(tokenizer.texts_to_matrix(texts, mode = 'freq').round(2)) # 둘째 자리까지 반올림하여 출력"
      ],
      "metadata": {
        "colab": {
          "base_uri": "https://localhost:8080/"
        },
        "id": "ZJhdIBjqVBKG",
        "outputId": "54730111-7308-43e2-b99b-b865ecf895e8"
      },
      "execution_count": null,
      "outputs": [
        {
          "output_type": "stream",
          "name": "stdout",
          "text": [
            "[[0.   0.   0.33 0.33 0.33 0.   0.   0.   0.   0.  ]\n",
            " [0.   0.33 0.33 0.33 0.   0.   0.   0.   0.   0.  ]\n",
            " [0.   0.5  0.   0.   0.   0.25 0.25 0.   0.   0.  ]\n",
            " [0.   0.   0.   0.   0.   0.   0.   0.33 0.33 0.33]]\n"
          ]
        }
      ]
    },
    {
      "cell_type": "markdown",
      "source": [
        "##20개 뉴스 그룹(Twenty Newsgroups) 데이터에 대한 이해"
      ],
      "metadata": {
        "id": "LOgrLZa9VD2L"
      }
    },
    {
      "cell_type": "code",
      "source": [
        "import pandas as pd\n",
        "from sklearn.datasets import fetch_20newsgroups\n",
        "import matplotlib.pyplot as plt\n",
        "from tensorflow.keras.preprocessing.text import Tokenizer\n",
        "from tensorflow.keras.utils import to_categorical"
      ],
      "metadata": {
        "id": "wyWbXnvcVCL5"
      },
      "execution_count": null,
      "outputs": []
    },
    {
      "cell_type": "code",
      "source": [
        "newsdata = fetch_20newsgroups(subset = 'train') # 'train'을 기재하면 훈련 데이터만 리턴한다."
      ],
      "metadata": {
        "id": "R3a_PB-QVSyw"
      },
      "execution_count": null,
      "outputs": []
    },
    {
      "cell_type": "code",
      "source": [
        "print(newsdata.keys())"
      ],
      "metadata": {
        "colab": {
          "base_uri": "https://localhost:8080/"
        },
        "id": "bGN3oChlVTuF",
        "outputId": "a2d447d6-e28a-4b51-aeac-6e8dd403ddcd"
      },
      "execution_count": null,
      "outputs": [
        {
          "output_type": "stream",
          "name": "stdout",
          "text": [
            "dict_keys(['data', 'filenames', 'target_names', 'target', 'DESCR'])\n"
          ]
        }
      ]
    },
    {
      "cell_type": "code",
      "source": [
        "print('훈련용 샘플의 개수 : {}'.format(len(newsdata.data)))"
      ],
      "metadata": {
        "colab": {
          "base_uri": "https://localhost:8080/"
        },
        "id": "rUqRizjjVZ7Y",
        "outputId": "817671f7-6558-4b77-e57a-0d8c1a122ddd"
      },
      "execution_count": null,
      "outputs": [
        {
          "output_type": "stream",
          "name": "stdout",
          "text": [
            "훈련용 샘플의 개수 : 11314\n"
          ]
        }
      ]
    },
    {
      "cell_type": "code",
      "source": [
        "print('총 주제의 개수 : {}'.format(len(newsdata.target_names)))\n",
        "print(newsdata.target_names)"
      ],
      "metadata": {
        "colab": {
          "base_uri": "https://localhost:8080/"
        },
        "id": "1HDJ0Hl7VblS",
        "outputId": "b54fa9df-7588-4a72-b1fd-a478561c963e"
      },
      "execution_count": null,
      "outputs": [
        {
          "output_type": "stream",
          "name": "stdout",
          "text": [
            "총 주제의 개수 : 20\n",
            "['alt.atheism', 'comp.graphics', 'comp.os.ms-windows.misc', 'comp.sys.ibm.pc.hardware', 'comp.sys.mac.hardware', 'comp.windows.x', 'misc.forsale', 'rec.autos', 'rec.motorcycles', 'rec.sport.baseball', 'rec.sport.hockey', 'sci.crypt', 'sci.electronics', 'sci.med', 'sci.space', 'soc.religion.christian', 'talk.politics.guns', 'talk.politics.mideast', 'talk.politics.misc', 'talk.religion.misc']\n"
          ]
        }
      ]
    },
    {
      "cell_type": "code",
      "source": [
        "print('첫번째 샘플의 레이블 : {}'.format(newsdata.target[0]))"
      ],
      "metadata": {
        "colab": {
          "base_uri": "https://localhost:8080/"
        },
        "id": "MgxMsXVHVdIR",
        "outputId": "980ce3dc-2a24-4023-d667-b798db0e8371"
      },
      "execution_count": null,
      "outputs": [
        {
          "output_type": "stream",
          "name": "stdout",
          "text": [
            "첫번째 샘플의 레이블 : 7\n"
          ]
        }
      ]
    },
    {
      "cell_type": "code",
      "source": [
        "print('7번 레이블이 의미하는 주제 : {}'.format(newsdata.target_names[7]))"
      ],
      "metadata": {
        "colab": {
          "base_uri": "https://localhost:8080/"
        },
        "id": "bXZ2NEeOVeQU",
        "outputId": "7a51bb86-6f72-46c8-b1a0-41447b37c950"
      },
      "execution_count": null,
      "outputs": [
        {
          "output_type": "stream",
          "name": "stdout",
          "text": [
            "7번 레이블이 의미하는 주제 : rec.autos\n"
          ]
        }
      ]
    },
    {
      "cell_type": "code",
      "source": [
        "print(newsdata.data[0]) # 첫번째 샘플 출력"
      ],
      "metadata": {
        "colab": {
          "base_uri": "https://localhost:8080/"
        },
        "id": "enL1aK6uVfcD",
        "outputId": "3ce273b4-ca43-40f3-815e-70b70ffe6c34"
      },
      "execution_count": null,
      "outputs": [
        {
          "output_type": "stream",
          "name": "stdout",
          "text": [
            "From: lerxst@wam.umd.edu (where's my thing)\n",
            "Subject: WHAT car is this!?\n",
            "Nntp-Posting-Host: rac3.wam.umd.edu\n",
            "Organization: University of Maryland, College Park\n",
            "Lines: 15\n",
            "\n",
            " I was wondering if anyone out there could enlighten me on this car I saw\n",
            "the other day. It was a 2-door sports car, looked to be from the late 60s/\n",
            "early 70s. It was called a Bricklin. The doors were really small. In addition,\n",
            "the front bumper was separate from the rest of the body. This is \n",
            "all I know. If anyone can tellme a model name, engine specs, years\n",
            "of production, where this car is made, history, or whatever info you\n",
            "have on this funky looking car, please e-mail.\n",
            "\n",
            "Thanks,\n",
            "- IL\n",
            "   ---- brought to you by your neighborhood Lerxst ----\n",
            "\n",
            "\n",
            "\n",
            "\n",
            "\n"
          ]
        }
      ]
    },
    {
      "cell_type": "code",
      "source": [
        "data = pd.DataFrame(newsdata.data, columns = ['email'])\n",
        "data['target'] = pd.Series(newsdata.target)\n",
        "data[:5]"
      ],
      "metadata": {
        "colab": {
          "base_uri": "https://localhost:8080/",
          "height": 206
        },
        "id": "OeWAzC7WVgrn",
        "outputId": "19820c8b-214c-4775-b1f0-483701943190"
      },
      "execution_count": null,
      "outputs": [
        {
          "output_type": "execute_result",
          "data": {
            "text/plain": [
              "                                               email  target\n",
              "0  From: lerxst@wam.umd.edu (where's my thing)\\nS...       7\n",
              "1  From: guykuo@carson.u.washington.edu (Guy Kuo)...       4\n",
              "2  From: twillis@ec.ecn.purdue.edu (Thomas E Will...       4\n",
              "3  From: jgreen@amber (Joe Green)\\nSubject: Re: W...       1\n",
              "4  From: jcm@head-cfa.harvard.edu (Jonathan McDow...      14"
            ],
            "text/html": [
              "\n",
              "  <div id=\"df-e48c631e-bfbd-4c6c-9120-0b691d3e50d0\">\n",
              "    <div class=\"colab-df-container\">\n",
              "      <div>\n",
              "<style scoped>\n",
              "    .dataframe tbody tr th:only-of-type {\n",
              "        vertical-align: middle;\n",
              "    }\n",
              "\n",
              "    .dataframe tbody tr th {\n",
              "        vertical-align: top;\n",
              "    }\n",
              "\n",
              "    .dataframe thead th {\n",
              "        text-align: right;\n",
              "    }\n",
              "</style>\n",
              "<table border=\"1\" class=\"dataframe\">\n",
              "  <thead>\n",
              "    <tr style=\"text-align: right;\">\n",
              "      <th></th>\n",
              "      <th>email</th>\n",
              "      <th>target</th>\n",
              "    </tr>\n",
              "  </thead>\n",
              "  <tbody>\n",
              "    <tr>\n",
              "      <th>0</th>\n",
              "      <td>From: lerxst@wam.umd.edu (where's my thing)\\nS...</td>\n",
              "      <td>7</td>\n",
              "    </tr>\n",
              "    <tr>\n",
              "      <th>1</th>\n",
              "      <td>From: guykuo@carson.u.washington.edu (Guy Kuo)...</td>\n",
              "      <td>4</td>\n",
              "    </tr>\n",
              "    <tr>\n",
              "      <th>2</th>\n",
              "      <td>From: twillis@ec.ecn.purdue.edu (Thomas E Will...</td>\n",
              "      <td>4</td>\n",
              "    </tr>\n",
              "    <tr>\n",
              "      <th>3</th>\n",
              "      <td>From: jgreen@amber (Joe Green)\\nSubject: Re: W...</td>\n",
              "      <td>1</td>\n",
              "    </tr>\n",
              "    <tr>\n",
              "      <th>4</th>\n",
              "      <td>From: jcm@head-cfa.harvard.edu (Jonathan McDow...</td>\n",
              "      <td>14</td>\n",
              "    </tr>\n",
              "  </tbody>\n",
              "</table>\n",
              "</div>\n",
              "      <button class=\"colab-df-convert\" onclick=\"convertToInteractive('df-e48c631e-bfbd-4c6c-9120-0b691d3e50d0')\"\n",
              "              title=\"Convert this dataframe to an interactive table.\"\n",
              "              style=\"display:none;\">\n",
              "        \n",
              "  <svg xmlns=\"http://www.w3.org/2000/svg\" height=\"24px\"viewBox=\"0 0 24 24\"\n",
              "       width=\"24px\">\n",
              "    <path d=\"M0 0h24v24H0V0z\" fill=\"none\"/>\n",
              "    <path d=\"M18.56 5.44l.94 2.06.94-2.06 2.06-.94-2.06-.94-.94-2.06-.94 2.06-2.06.94zm-11 1L8.5 8.5l.94-2.06 2.06-.94-2.06-.94L8.5 2.5l-.94 2.06-2.06.94zm10 10l.94 2.06.94-2.06 2.06-.94-2.06-.94-.94-2.06-.94 2.06-2.06.94z\"/><path d=\"M17.41 7.96l-1.37-1.37c-.4-.4-.92-.59-1.43-.59-.52 0-1.04.2-1.43.59L10.3 9.45l-7.72 7.72c-.78.78-.78 2.05 0 2.83L4 21.41c.39.39.9.59 1.41.59.51 0 1.02-.2 1.41-.59l7.78-7.78 2.81-2.81c.8-.78.8-2.07 0-2.86zM5.41 20L4 18.59l7.72-7.72 1.47 1.35L5.41 20z\"/>\n",
              "  </svg>\n",
              "      </button>\n",
              "      \n",
              "  <style>\n",
              "    .colab-df-container {\n",
              "      display:flex;\n",
              "      flex-wrap:wrap;\n",
              "      gap: 12px;\n",
              "    }\n",
              "\n",
              "    .colab-df-convert {\n",
              "      background-color: #E8F0FE;\n",
              "      border: none;\n",
              "      border-radius: 50%;\n",
              "      cursor: pointer;\n",
              "      display: none;\n",
              "      fill: #1967D2;\n",
              "      height: 32px;\n",
              "      padding: 0 0 0 0;\n",
              "      width: 32px;\n",
              "    }\n",
              "\n",
              "    .colab-df-convert:hover {\n",
              "      background-color: #E2EBFA;\n",
              "      box-shadow: 0px 1px 2px rgba(60, 64, 67, 0.3), 0px 1px 3px 1px rgba(60, 64, 67, 0.15);\n",
              "      fill: #174EA6;\n",
              "    }\n",
              "\n",
              "    [theme=dark] .colab-df-convert {\n",
              "      background-color: #3B4455;\n",
              "      fill: #D2E3FC;\n",
              "    }\n",
              "\n",
              "    [theme=dark] .colab-df-convert:hover {\n",
              "      background-color: #434B5C;\n",
              "      box-shadow: 0px 1px 3px 1px rgba(0, 0, 0, 0.15);\n",
              "      filter: drop-shadow(0px 1px 2px rgba(0, 0, 0, 0.3));\n",
              "      fill: #FFFFFF;\n",
              "    }\n",
              "  </style>\n",
              "\n",
              "      <script>\n",
              "        const buttonEl =\n",
              "          document.querySelector('#df-e48c631e-bfbd-4c6c-9120-0b691d3e50d0 button.colab-df-convert');\n",
              "        buttonEl.style.display =\n",
              "          google.colab.kernel.accessAllowed ? 'block' : 'none';\n",
              "\n",
              "        async function convertToInteractive(key) {\n",
              "          const element = document.querySelector('#df-e48c631e-bfbd-4c6c-9120-0b691d3e50d0');\n",
              "          const dataTable =\n",
              "            await google.colab.kernel.invokeFunction('convertToInteractive',\n",
              "                                                     [key], {});\n",
              "          if (!dataTable) return;\n",
              "\n",
              "          const docLinkHtml = 'Like what you see? Visit the ' +\n",
              "            '<a target=\"_blank\" href=https://colab.research.google.com/notebooks/data_table.ipynb>data table notebook</a>'\n",
              "            + ' to learn more about interactive tables.';\n",
              "          element.innerHTML = '';\n",
              "          dataTable['output_type'] = 'display_data';\n",
              "          await google.colab.output.renderOutput(dataTable, element);\n",
              "          const docLink = document.createElement('div');\n",
              "          docLink.innerHTML = docLinkHtml;\n",
              "          element.appendChild(docLink);\n",
              "        }\n",
              "      </script>\n",
              "    </div>\n",
              "  </div>\n",
              "  "
            ]
          },
          "metadata": {},
          "execution_count": 87
        }
      ]
    },
    {
      "cell_type": "code",
      "source": [
        "data.info()"
      ],
      "metadata": {
        "colab": {
          "base_uri": "https://localhost:8080/"
        },
        "id": "UhhOqyEUViO2",
        "outputId": "fe33504b-9948-4b0a-82de-039a5b2e3b08"
      },
      "execution_count": null,
      "outputs": [
        {
          "output_type": "stream",
          "name": "stdout",
          "text": [
            "<class 'pandas.core.frame.DataFrame'>\n",
            "RangeIndex: 11314 entries, 0 to 11313\n",
            "Data columns (total 2 columns):\n",
            " #   Column  Non-Null Count  Dtype \n",
            "---  ------  --------------  ----- \n",
            " 0   email   11314 non-null  object\n",
            " 1   target  11314 non-null  int64 \n",
            "dtypes: int64(1), object(1)\n",
            "memory usage: 176.9+ KB\n"
          ]
        }
      ]
    },
    {
      "cell_type": "code",
      "source": [
        "data.isnull().values.any()"
      ],
      "metadata": {
        "colab": {
          "base_uri": "https://localhost:8080/"
        },
        "id": "ae4lAfOkVjM2",
        "outputId": "45fd4665-48ba-46f0-c3d9-bc7b95cc8de3"
      },
      "execution_count": null,
      "outputs": [
        {
          "output_type": "execute_result",
          "data": {
            "text/plain": [
              "False"
            ]
          },
          "metadata": {},
          "execution_count": 89
        }
      ]
    },
    {
      "cell_type": "code",
      "source": [
        "print('중복을 제외한 샘플의 수 : {}'.format(data['email'].nunique()))\n",
        "print('중복을 제외한 주제의 수 : {}'.format(data['target'].nunique()))"
      ],
      "metadata": {
        "colab": {
          "base_uri": "https://localhost:8080/"
        },
        "id": "9qWcoJ3uVknm",
        "outputId": "09c89123-6440-4f1d-d93d-b2e7585e177f"
      },
      "execution_count": null,
      "outputs": [
        {
          "output_type": "stream",
          "name": "stdout",
          "text": [
            "중복을 제외한 샘플의 수 : 11314\n",
            "중복을 제외한 주제의 수 : 20\n"
          ]
        }
      ]
    },
    {
      "cell_type": "code",
      "source": [
        "data['target'].value_counts().plot(kind='bar');"
      ],
      "metadata": {
        "colab": {
          "base_uri": "https://localhost:8080/",
          "height": 434
        },
        "id": "4tU-x2TcVls1",
        "outputId": "83039203-17c6-4c32-c289-699cbaea7662"
      },
      "execution_count": null,
      "outputs": [
        {
          "output_type": "display_data",
          "data": {
            "text/plain": [
              "<Figure size 640x480 with 1 Axes>"
            ],
            "image/png": "[encoded data removed]"
          },
          "metadata": {}
        }
      ]
    },
    {
      "cell_type": "code",
      "source": [
        "print(data.groupby('target').size().reset_index(name='count'))"
      ],
      "metadata": {
        "colab": {
          "base_uri": "https://localhost:8080/"
        },
        "id": "VW6bxAjOVm5Y",
        "outputId": "58c3375e-525a-4435-c024-22cebcc38eed"
      },
      "execution_count": null,
      "outputs": [
        {
          "output_type": "stream",
          "name": "stdout",
          "text": [
            "    target  count\n",
            "0        0    480\n",
            "1        1    584\n",
            "2        2    591\n",
            "3        3    590\n",
            "4        4    578\n",
            "5        5    593\n",
            "6        6    585\n",
            "7        7    594\n",
            "8        8    598\n",
            "9        9    597\n",
            "10      10    600\n",
            "11      11    595\n",
            "12      12    591\n",
            "13      13    594\n",
            "14      14    593\n",
            "15      15    599\n",
            "16      16    546\n",
            "17      17    564\n",
            "18      18    465\n",
            "19      19    377\n"
          ]
        }
      ]
    },
    {
      "cell_type": "markdown",
      "source": [
        "전처리 진행"
      ],
      "metadata": {
        "id": "HU0XqdLRVtVv"
      }
    },
    {
      "cell_type": "code",
      "source": [
        "newsdata_test = fetch_20newsgroups(subset='test', shuffle=True)\n",
        "train_email = data['email']\n",
        "train_label = data['target']\n",
        "test_email = newsdata_test.data\n",
        "test_label = newsdata_test.target"
      ],
      "metadata": {
        "id": "d34B4bCpVoGL"
      },
      "execution_count": null,
      "outputs": []
    },
    {
      "cell_type": "code",
      "source": [
        "vocab_size = 10000\n",
        "num_classes = 20"
      ],
      "metadata": {
        "id": "elOH-BwCVpcx"
      },
      "execution_count": null,
      "outputs": []
    },
    {
      "cell_type": "code",
      "source": [
        "def prepare_data(train_data, test_data, mode): # 전처리 함수\n",
        "    tokenizer = Tokenizer(num_words = vocab_size) # vocab_size 개수만큼의 단어만 사용한다.\n",
        "    tokenizer.fit_on_texts(train_data)\n",
        "    X_train = tokenizer.texts_to_matrix(train_data, mode=mode) # 샘플 수 × vocab_size 크기의 행렬 생성\n",
        "    X_test = tokenizer.texts_to_matrix(test_data, mode=mode) # 샘플 수 × vocab_size 크기의 행렬 생성\n",
        "    return X_train, X_test, tokenizer.index_word"
      ],
      "metadata": {
        "id": "hJ3YcS1QVrC-"
      },
      "execution_count": null,
      "outputs": []
    },
    {
      "cell_type": "code",
      "source": [
        "X_train, X_test, index_to_word = prepare_data(train_email, test_email, 'binary') # binary 모드로 변환\n",
        "y_train = to_categorical(train_label, num_classes) # 원-핫 인코딩\n",
        "y_test = to_categorical(test_label, num_classes) # 원-핫 인코딩"
      ],
      "metadata": {
        "id": "sLO66erGVsn4"
      },
      "execution_count": null,
      "outputs": []
    },
    {
      "cell_type": "code",
      "source": [
        "print('훈련 샘플 본문의 크기 : {}'.format(X_train.shape))\n",
        "print('훈련 샘플 레이블의 크기 : {}'.format(y_train.shape))\n",
        "print('테스트 샘플 본문의 크기 : {}'.format(X_test.shape))\n",
        "print('테스트 샘플 레이블의 크기 : {}'.format(y_test.shape))"
      ],
      "metadata": {
        "colab": {
          "base_uri": "https://localhost:8080/"
        },
        "id": "9mLrowhwVvmI",
        "outputId": "58566db3-060b-455f-8d0f-07ba900badf1"
      },
      "execution_count": null,
      "outputs": [
        {
          "output_type": "stream",
          "name": "stdout",
          "text": [
            "훈련 샘플 본문의 크기 : (11314, 10000)\n",
            "훈련 샘플 레이블의 크기 : (11314, 20)\n",
            "테스트 샘플 본문의 크기 : (7532, 10000)\n",
            "테스트 샘플 레이블의 크기 : (7532, 20)\n"
          ]
        }
      ]
    },
    {
      "cell_type": "code",
      "source": [
        "print('빈도수 상위 1번 단어 : {}'.format(index_to_word[1]))\n",
        "print('빈도수 상위 9999번 단어 : {}'.format(index_to_word[9999]))"
      ],
      "metadata": {
        "colab": {
          "base_uri": "https://localhost:8080/"
        },
        "id": "tbRmNYZ7Vzju",
        "outputId": "64b9ead3-ff49-4354-ff47-236144fc787c"
      },
      "execution_count": null,
      "outputs": [
        {
          "output_type": "stream",
          "name": "stdout",
          "text": [
            "빈도수 상위 1번 단어 : the\n",
            "빈도수 상위 9999번 단어 : mic\n"
          ]
        }
      ]
    },
    {
      "cell_type": "markdown",
      "source": [
        "불용어에 해당되는 단어 'the'가 빈도수 상위 1번 단어가 된 것을 확인할 수 있습니다."
      ],
      "metadata": {
        "id": "ObwY2zXEV4N4"
      }
    },
    {
      "cell_type": "markdown",
      "source": [
        "##다층 퍼셉트론(Multilayer Perceptron, MLP)을 사용하여 텍스트 분류하기"
      ],
      "metadata": {
        "id": "qTocZMesV2gH"
      }
    },
    {
      "cell_type": "code",
      "source": [
        "from tensorflow.keras.models import Sequential\n",
        "from tensorflow.keras.layers import Dense, Dropout"
      ],
      "metadata": {
        "id": "xQsYsQooV0_T"
      },
      "execution_count": null,
      "outputs": []
    },
    {
      "cell_type": "code",
      "source": [
        "def fit_and_evaluate(X_train, y_train, X_test, y_test):\n",
        "    model = Sequential()\n",
        "    model.add(Dense(256, input_shape=(vocab_size,), activation='relu'))\n",
        "    model.add(Dropout(0.5))\n",
        "    model.add(Dense(128, activation='relu'))\n",
        "    model.add(Dropout(0.5))\n",
        "    model.add(Dense(num_classes, activation='softmax'))\n",
        "\n",
        "    model.compile(loss='categorical_crossentropy', optimizer='adam', metrics=['accuracy'])\n",
        "    model.fit(X_train, y_train, batch_size=128, epochs=5, verbose=1, validation_split=0.1)\n",
        "    score = model.evaluate(X_test, y_test, batch_size=128, verbose=0)\n",
        "    return score[1]"
      ],
      "metadata": {
        "id": "8uQGoHe3V5gD"
      },
      "execution_count": null,
      "outputs": []
    },
    {
      "cell_type": "code",
      "source": [
        "modes = ['binary', 'count', 'tfidf', 'freq'] # 4개의 모드를 리스트에 저장.\n",
        "\n",
        "for mode in modes: # 4개의 모드에 대해서 각각 아래의 작업을 반복한다.\n",
        "    X_train, X_test, _ = prepare_data(train_email, test_email, mode) # 모드에 따라서 데이터를 전처리\n",
        "    score = fit_and_evaluate(X_train, y_train, X_test, y_test) # 모델을 훈련하고 평가.\n",
        "    print(mode+' 모드의 테스트 정확도:', score)"
      ],
      "metadata": {
        "colab": {
          "base_uri": "https://localhost:8080/"
        },
        "id": "xc8TfAcSV6rH",
        "outputId": "f52daaf6-7532-4289-afb3-79da59dd8a5d"
      },
      "execution_count": null,
      "outputs": [
        {
          "output_type": "stream",
          "name": "stdout",
          "text": [
            "Epoch 1/5\n",
            "80/80 [==============================] - 7s 79ms/step - loss: 2.3112 - accuracy: 0.3298 - val_loss: 0.9930 - val_accuracy: 0.8074\n",
            "Epoch 2/5\n",
            "80/80 [==============================] - 8s 100ms/step - loss: 0.8759 - accuracy: 0.7630 - val_loss: 0.4613 - val_accuracy: 0.8905\n",
            "Epoch 3/5\n",
            "80/80 [==============================] - 6s 72ms/step - loss: 0.4351 - accuracy: 0.8872 - val_loss: 0.3476 - val_accuracy: 0.8984\n",
            "Epoch 4/5\n",
            "80/80 [==============================] - 5s 61ms/step - loss: 0.2595 - accuracy: 0.9343 - val_loss: 0.3175 - val_accuracy: 0.9125\n",
            "Epoch 5/5\n",
            "80/80 [==============================] - 5s 57ms/step - loss: 0.1699 - accuracy: 0.9582 - val_loss: 0.2876 - val_accuracy: 0.9205\n",
            "binary 모드의 테스트 정확도: 0.8267392516136169\n",
            "Epoch 1/5\n",
            "80/80 [==============================] - 7s 74ms/step - loss: 2.7233 - accuracy: 0.2587 - val_loss: 1.5899 - val_accuracy: 0.7438\n",
            "Epoch 2/5\n",
            "80/80 [==============================] - 5s 59ms/step - loss: 1.3712 - accuracy: 0.6353 - val_loss: 0.7239 - val_accuracy: 0.8481\n",
            "Epoch 3/5\n",
            "80/80 [==============================] - 6s 75ms/step - loss: 0.7627 - accuracy: 0.8122 - val_loss: 0.4992 - val_accuracy: 0.8799\n",
            "Epoch 4/5\n",
            "80/80 [==============================] - 5s 60ms/step - loss: 0.5270 - accuracy: 0.8759 - val_loss: 0.4573 - val_accuracy: 0.8905\n",
            "Epoch 5/5\n",
            "80/80 [==============================] - 5s 64ms/step - loss: 0.3318 - accuracy: 0.9204 - val_loss: 0.4041 - val_accuracy: 0.8984\n",
            "count 모드의 테스트 정확도: 0.8248804807662964\n",
            "Epoch 1/5\n",
            "80/80 [==============================] - 6s 62ms/step - loss: 2.2376 - accuracy: 0.3570 - val_loss: 0.7972 - val_accuracy: 0.8436\n",
            "Epoch 2/5\n",
            "80/80 [==============================] - 5s 65ms/step - loss: 0.8394 - accuracy: 0.7657 - val_loss: 0.4223 - val_accuracy: 0.8852\n",
            "Epoch 3/5\n",
            "80/80 [==============================] - 5s 66ms/step - loss: 0.4313 - accuracy: 0.8868 - val_loss: 0.3551 - val_accuracy: 0.8975\n",
            "Epoch 4/5\n",
            "80/80 [==============================] - 5s 59ms/step - loss: 0.2879 - accuracy: 0.9260 - val_loss: 0.3245 - val_accuracy: 0.9011\n",
            "Epoch 5/5\n",
            "80/80 [==============================] - 6s 73ms/step - loss: 0.2251 - accuracy: 0.9509 - val_loss: 0.3218 - val_accuracy: 0.9099\n",
            "tfidf 모드의 테스트 정확도: 0.83404141664505\n",
            "Epoch 1/5\n",
            "80/80 [==============================] - 6s 64ms/step - loss: 2.9806 - accuracy: 0.0719 - val_loss: 2.9373 - val_accuracy: 0.2456\n",
            "Epoch 2/5\n",
            "80/80 [==============================] - 6s 79ms/step - loss: 2.7506 - accuracy: 0.2076 - val_loss: 2.4244 - val_accuracy: 0.4293\n",
            "Epoch 3/5\n",
            "80/80 [==============================] - 5s 62ms/step - loss: 2.1960 - accuracy: 0.3328 - val_loss: 1.8671 - val_accuracy: 0.5451\n",
            "Epoch 4/5\n",
            "80/80 [==============================] - 5s 64ms/step - loss: 1.7346 - accuracy: 0.4618 - val_loss: 1.4688 - val_accuracy: 0.6299\n",
            "Epoch 5/5\n",
            "80/80 [==============================] - 6s 73ms/step - loss: 1.4043 - accuracy: 0.5690 - val_loss: 1.1933 - val_accuracy: 0.6908\n",
            "freq 모드의 테스트 정확도: 0.6591874957084656\n"
          ]
        }
      ]
    },
    {
      "cell_type": "code",
      "source": [],
      "metadata": {
        "id": "juw9YC9MV8kC"
      },
      "execution_count": null,
      "outputs": []
    }
  ]
}