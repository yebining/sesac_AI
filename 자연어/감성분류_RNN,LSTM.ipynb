{
  "cells": [
    {
      "cell_type": "code",
      "execution_count": 1,
      "metadata": {
        "id": "kTi3J0cyEgEs"
      },
      "outputs": [],
      "source": [
        "#영화리뷰를 사용한 텍스트 분류\n",
        "\n",
        "import tensorflow as tf\n",
        "from tensorflow import keras\n",
        "\n",
        "import numpy as np\n",
        "import pandas as pd\n",
        "\n",
        "import json \n",
        "import os"
      ]
    },
    {
      "cell_type": "code",
      "execution_count": 3,
      "metadata": {
        "colab": {
          "base_uri": "https://localhost:8080/"
        },
        "id": "1z_kr8fCOQNI",
        "outputId": "9c7440df-1e53-4b5c-fd0d-25cc674f24b4"
      },
      "outputs": [
        {
          "name": "stdout",
          "output_type": "stream",
          "text": [
            "Cloning into 'nsmc'...\n",
            "remote: Enumerating objects: 14763, done.\u001b[K\n",
            "remote: Total 14763 (delta 0), reused 0 (delta 0), pack-reused 14763\u001b[K\n",
            "Receiving objects: 100% (14763/14763), 56.19 MiB | 21.58 MiB/s, done.\n",
            "Resolving deltas: 100% (1749/1749), done.\n",
            "Updating files: 100% (14737/14737), done.\n"
          ]
        }
      ],
      "source": [
        "#데이터 불러오기\n",
        "#네이버 영화 감성 분석 데이터 다운로드\n",
        "\n",
        "#!git clone https://github.com/e9t/nsmc.git"
      ]
    },
    {
      "cell_type": "code",
      "execution_count": 3,
      "metadata": {},
      "outputs": [
        {
          "data": {
            "text/html": [
              "<div>\n",
              "<style scoped>\n",
              "    .dataframe tbody tr th:only-of-type {\n",
              "        vertical-align: middle;\n",
              "    }\n",
              "\n",
              "    .dataframe tbody tr th {\n",
              "        vertical-align: top;\n",
              "    }\n",
              "\n",
              "    .dataframe thead th {\n",
              "        text-align: right;\n",
              "    }\n",
              "</style>\n",
              "<table border=\"1\" class=\"dataframe\">\n",
              "  <thead>\n",
              "    <tr style=\"text-align: right;\">\n",
              "      <th></th>\n",
              "      <th>Unnamed: 0</th>\n",
              "      <th>연령</th>\n",
              "      <th>성별</th>\n",
              "      <th>상황키워드</th>\n",
              "      <th>신체질환</th>\n",
              "      <th>감정_대분류</th>\n",
              "      <th>감정_소분류</th>\n",
              "      <th>사람문장1</th>\n",
              "      <th>시스템문장1</th>\n",
              "      <th>사람문장2</th>\n",
              "      <th>시스템문장2</th>\n",
              "      <th>사람문장3</th>\n",
              "      <th>시스템문장3</th>\n",
              "    </tr>\n",
              "  </thead>\n",
              "  <tbody>\n",
              "    <tr>\n",
              "      <th>0</th>\n",
              "      <td>1</td>\n",
              "      <td>청년</td>\n",
              "      <td>여성</td>\n",
              "      <td>진로,취업,직장</td>\n",
              "      <td>해당없음</td>\n",
              "      <td>분노</td>\n",
              "      <td>노여워하는</td>\n",
              "      <td>일은 왜 해도 해도 끝이 없을까? 화가 난다.</td>\n",
              "      <td>많이 힘드시겠어요. 주위에 의논할 상대가 있나요?</td>\n",
              "      <td>그냥 내가 해결하는 게 나아. 남들한테 부담 주고 싶지도 않고.</td>\n",
              "      <td>혼자 해결하기로 했군요. 혼자서 해결하기 힘들면 주위에 의논할 사람을 찾아보세요.</td>\n",
              "      <td>NaN</td>\n",
              "      <td>NaN</td>\n",
              "    </tr>\n",
              "    <tr>\n",
              "      <th>1</th>\n",
              "      <td>2</td>\n",
              "      <td>청년</td>\n",
              "      <td>여성</td>\n",
              "      <td>진로,취업,직장</td>\n",
              "      <td>해당없음</td>\n",
              "      <td>분노</td>\n",
              "      <td>노여워하는</td>\n",
              "      <td>이번 달에 또 급여가 깎였어! 물가는 오르는데 월급만 자꾸 깎이니까 너무 화가 나.</td>\n",
              "      <td>급여가 줄어 속상하시겠어요. 월급이 줄어든 것을 어떻게 보완하실 건가요?</td>\n",
              "      <td>최대한 지출을 억제해야겠어. 월급이 줄어들었으니 고정지출을 줄일 수밖에 없을 것 같아.</td>\n",
              "      <td>월급이 줄어든 만큼 소비를 줄일 계획이군요.</td>\n",
              "      <td>NaN</td>\n",
              "      <td>NaN</td>\n",
              "    </tr>\n",
              "    <tr>\n",
              "      <th>2</th>\n",
              "      <td>3</td>\n",
              "      <td>청년</td>\n",
              "      <td>여성</td>\n",
              "      <td>진로,취업,직장</td>\n",
              "      <td>해당없음</td>\n",
              "      <td>분노</td>\n",
              "      <td>노여워하는</td>\n",
              "      <td>회사에 신입이 들어왔는데 말투가 거슬려. 그런 애를 매일 봐야 한다고 생각하니까 스...</td>\n",
              "      <td>회사 동료 때문에 스트레스를 많이 받는 것 같아요. 문제 해결을 위해 어떤 노력을 ...</td>\n",
              "      <td>잘 안 맞는 사람이랑 억지로 잘 지내는 것보단 조금은 거리를 두고 예의를 갖춰서 대...</td>\n",
              "      <td>스트레스받지 않기 위해선 인간관계에 있어 약간의 거리를 두는 게 좋겠군요.</td>\n",
              "      <td>NaN</td>\n",
              "      <td>NaN</td>\n",
              "    </tr>\n",
              "    <tr>\n",
              "      <th>3</th>\n",
              "      <td>4</td>\n",
              "      <td>청년</td>\n",
              "      <td>여성</td>\n",
              "      <td>진로,취업,직장</td>\n",
              "      <td>해당없음</td>\n",
              "      <td>분노</td>\n",
              "      <td>노여워하는</td>\n",
              "      <td>직장에서 막내라는 이유로 나에게만 온갖 심부름을 시켜. 일도 많은 데 정말 분하고 ...</td>\n",
              "      <td>관련 없는 심부름을 모두 하게 되어서 노여우시군요. 어떤 것이 상황을 나아질 수 있...</td>\n",
              "      <td>직장 사람들과 솔직하게 이야기해보고 싶어. 일하는 데에 방해된다고.</td>\n",
              "      <td>직장 사람들과 이야기를 해 보겠다고 결심하셨군요.</td>\n",
              "      <td>NaN</td>\n",
              "      <td>NaN</td>\n",
              "    </tr>\n",
              "    <tr>\n",
              "      <th>4</th>\n",
              "      <td>5</td>\n",
              "      <td>청년</td>\n",
              "      <td>여성</td>\n",
              "      <td>진로,취업,직장</td>\n",
              "      <td>해당없음</td>\n",
              "      <td>분노</td>\n",
              "      <td>노여워하는</td>\n",
              "      <td>얼마 전 입사한 신입사원이 나를 무시하는 것 같아서 너무 화가 나.</td>\n",
              "      <td>무시하는 것 같은 태도에 화가 나셨군요. 상대방의 어떤 행동이 그런 감정을 유발하는...</td>\n",
              "      <td>상사인 나에게 먼저 인사하지 않아서 매일 내가 먼저 인사한다고!</td>\n",
              "      <td>항상 먼저 인사하게 되어 화가 나셨군요. 어떻게 하면 신입사원에게 화났음을 표현할 ...</td>\n",
              "      <td>NaN</td>\n",
              "      <td>NaN</td>\n",
              "    </tr>\n",
              "  </tbody>\n",
              "</table>\n",
              "</div>"
            ],
            "text/plain": [
              "   Unnamed: 0  연령  성별     상황키워드  신체질환 감정_대분류 감정_소분류  \\\n",
              "0           1  청년  여성  진로,취업,직장  해당없음     분노  노여워하는   \n",
              "1           2  청년  여성  진로,취업,직장  해당없음     분노  노여워하는   \n",
              "2           3  청년  여성  진로,취업,직장  해당없음     분노  노여워하는   \n",
              "3           4  청년  여성  진로,취업,직장  해당없음     분노  노여워하는   \n",
              "4           5  청년  여성  진로,취업,직장  해당없음     분노  노여워하는   \n",
              "\n",
              "                                               사람문장1  \\\n",
              "0                          일은 왜 해도 해도 끝이 없을까? 화가 난다.   \n",
              "1     이번 달에 또 급여가 깎였어! 물가는 오르는데 월급만 자꾸 깎이니까 너무 화가 나.   \n",
              "2  회사에 신입이 들어왔는데 말투가 거슬려. 그런 애를 매일 봐야 한다고 생각하니까 스...   \n",
              "3  직장에서 막내라는 이유로 나에게만 온갖 심부름을 시켜. 일도 많은 데 정말 분하고 ...   \n",
              "4              얼마 전 입사한 신입사원이 나를 무시하는 것 같아서 너무 화가 나.   \n",
              "\n",
              "                                              시스템문장1  \\\n",
              "0                        많이 힘드시겠어요. 주위에 의논할 상대가 있나요?   \n",
              "1           급여가 줄어 속상하시겠어요. 월급이 줄어든 것을 어떻게 보완하실 건가요?   \n",
              "2  회사 동료 때문에 스트레스를 많이 받는 것 같아요. 문제 해결을 위해 어떤 노력을 ...   \n",
              "3  관련 없는 심부름을 모두 하게 되어서 노여우시군요. 어떤 것이 상황을 나아질 수 있...   \n",
              "4  무시하는 것 같은 태도에 화가 나셨군요. 상대방의 어떤 행동이 그런 감정을 유발하는...   \n",
              "\n",
              "                                               사람문장2  \\\n",
              "0                그냥 내가 해결하는 게 나아. 남들한테 부담 주고 싶지도 않고.   \n",
              "1   최대한 지출을 억제해야겠어. 월급이 줄어들었으니 고정지출을 줄일 수밖에 없을 것 같아.   \n",
              "2  잘 안 맞는 사람이랑 억지로 잘 지내는 것보단 조금은 거리를 두고 예의를 갖춰서 대...   \n",
              "3              직장 사람들과 솔직하게 이야기해보고 싶어. 일하는 데에 방해된다고.   \n",
              "4                상사인 나에게 먼저 인사하지 않아서 매일 내가 먼저 인사한다고!   \n",
              "\n",
              "                                              시스템문장2 사람문장3 시스템문장3  \n",
              "0     혼자 해결하기로 했군요. 혼자서 해결하기 힘들면 주위에 의논할 사람을 찾아보세요.    NaN    NaN  \n",
              "1                           월급이 줄어든 만큼 소비를 줄일 계획이군요.   NaN    NaN  \n",
              "2          스트레스받지 않기 위해선 인간관계에 있어 약간의 거리를 두는 게 좋겠군요.   NaN    NaN  \n",
              "3                        직장 사람들과 이야기를 해 보겠다고 결심하셨군요.   NaN    NaN  \n",
              "4  항상 먼저 인사하게 되어 화가 나셨군요. 어떻게 하면 신입사원에게 화났음을 표현할 ...   NaN    NaN  "
            ]
          },
          "execution_count": 3,
          "metadata": {},
          "output_type": "execute_result"
        }
      ],
      "source": [
        "dataset=pd.read_excel('data\\Training.xlsx')\n",
        "dataset.head()"
      ]
    },
    {
      "cell_type": "code",
      "execution_count": 4,
      "metadata": {},
      "outputs": [
        {
          "data": {
            "text/html": [
              "<div>\n",
              "<style scoped>\n",
              "    .dataframe tbody tr th:only-of-type {\n",
              "        vertical-align: middle;\n",
              "    }\n",
              "\n",
              "    .dataframe tbody tr th {\n",
              "        vertical-align: top;\n",
              "    }\n",
              "\n",
              "    .dataframe thead th {\n",
              "        text-align: right;\n",
              "    }\n",
              "</style>\n",
              "<table border=\"1\" class=\"dataframe\">\n",
              "  <thead>\n",
              "    <tr style=\"text-align: right;\">\n",
              "      <th></th>\n",
              "      <th>감정_대분류</th>\n",
              "      <th>사람문장1</th>\n",
              "    </tr>\n",
              "  </thead>\n",
              "  <tbody>\n",
              "    <tr>\n",
              "      <th>0</th>\n",
              "      <td>분노</td>\n",
              "      <td>일은 왜 해도 해도 끝이 없을까? 화가 난다.</td>\n",
              "    </tr>\n",
              "    <tr>\n",
              "      <th>1</th>\n",
              "      <td>분노</td>\n",
              "      <td>이번 달에 또 급여가 깎였어! 물가는 오르는데 월급만 자꾸 깎이니까 너무 화가 나.</td>\n",
              "    </tr>\n",
              "    <tr>\n",
              "      <th>2</th>\n",
              "      <td>분노</td>\n",
              "      <td>회사에 신입이 들어왔는데 말투가 거슬려. 그런 애를 매일 봐야 한다고 생각하니까 스...</td>\n",
              "    </tr>\n",
              "    <tr>\n",
              "      <th>3</th>\n",
              "      <td>분노</td>\n",
              "      <td>직장에서 막내라는 이유로 나에게만 온갖 심부름을 시켜. 일도 많은 데 정말 분하고 ...</td>\n",
              "    </tr>\n",
              "    <tr>\n",
              "      <th>4</th>\n",
              "      <td>분노</td>\n",
              "      <td>얼마 전 입사한 신입사원이 나를 무시하는 것 같아서 너무 화가 나.</td>\n",
              "    </tr>\n",
              "  </tbody>\n",
              "</table>\n",
              "</div>"
            ],
            "text/plain": [
              "  감정_대분류                                              사람문장1\n",
              "0     분노                          일은 왜 해도 해도 끝이 없을까? 화가 난다.\n",
              "1     분노     이번 달에 또 급여가 깎였어! 물가는 오르는데 월급만 자꾸 깎이니까 너무 화가 나.\n",
              "2     분노  회사에 신입이 들어왔는데 말투가 거슬려. 그런 애를 매일 봐야 한다고 생각하니까 스...\n",
              "3     분노  직장에서 막내라는 이유로 나에게만 온갖 심부름을 시켜. 일도 많은 데 정말 분하고 ...\n",
              "4     분노              얼마 전 입사한 신입사원이 나를 무시하는 것 같아서 너무 화가 나."
            ]
          },
          "execution_count": 4,
          "metadata": {},
          "output_type": "execute_result"
        }
      ],
      "source": [
        "dataset = dataset[['감정_대분류', '사람문장1']]\n",
        "dataset.head()"
      ]
    },
    {
      "cell_type": "code",
      "execution_count": 5,
      "metadata": {},
      "outputs": [
        {
          "data": {
            "text/html": [
              "<div>\n",
              "<style scoped>\n",
              "    .dataframe tbody tr th:only-of-type {\n",
              "        vertical-align: middle;\n",
              "    }\n",
              "\n",
              "    .dataframe tbody tr th {\n",
              "        vertical-align: top;\n",
              "    }\n",
              "\n",
              "    .dataframe thead th {\n",
              "        text-align: right;\n",
              "    }\n",
              "</style>\n",
              "<table border=\"1\" class=\"dataframe\">\n",
              "  <thead>\n",
              "    <tr style=\"text-align: right;\">\n",
              "      <th></th>\n",
              "      <th>label</th>\n",
              "      <th>document</th>\n",
              "    </tr>\n",
              "  </thead>\n",
              "  <tbody>\n",
              "    <tr>\n",
              "      <th>0</th>\n",
              "      <td>분노</td>\n",
              "      <td>일은 왜 해도 해도 끝이 없을까? 화가 난다.</td>\n",
              "    </tr>\n",
              "    <tr>\n",
              "      <th>1</th>\n",
              "      <td>분노</td>\n",
              "      <td>이번 달에 또 급여가 깎였어! 물가는 오르는데 월급만 자꾸 깎이니까 너무 화가 나.</td>\n",
              "    </tr>\n",
              "    <tr>\n",
              "      <th>2</th>\n",
              "      <td>분노</td>\n",
              "      <td>회사에 신입이 들어왔는데 말투가 거슬려. 그런 애를 매일 봐야 한다고 생각하니까 스...</td>\n",
              "    </tr>\n",
              "    <tr>\n",
              "      <th>3</th>\n",
              "      <td>분노</td>\n",
              "      <td>직장에서 막내라는 이유로 나에게만 온갖 심부름을 시켜. 일도 많은 데 정말 분하고 ...</td>\n",
              "    </tr>\n",
              "    <tr>\n",
              "      <th>4</th>\n",
              "      <td>분노</td>\n",
              "      <td>얼마 전 입사한 신입사원이 나를 무시하는 것 같아서 너무 화가 나.</td>\n",
              "    </tr>\n",
              "  </tbody>\n",
              "</table>\n",
              "</div>"
            ],
            "text/plain": [
              "  label                                           document\n",
              "0    분노                          일은 왜 해도 해도 끝이 없을까? 화가 난다.\n",
              "1    분노     이번 달에 또 급여가 깎였어! 물가는 오르는데 월급만 자꾸 깎이니까 너무 화가 나.\n",
              "2    분노  회사에 신입이 들어왔는데 말투가 거슬려. 그런 애를 매일 봐야 한다고 생각하니까 스...\n",
              "3    분노  직장에서 막내라는 이유로 나에게만 온갖 심부름을 시켜. 일도 많은 데 정말 분하고 ...\n",
              "4    분노              얼마 전 입사한 신입사원이 나를 무시하는 것 같아서 너무 화가 나."
            ]
          },
          "execution_count": 5,
          "metadata": {},
          "output_type": "execute_result"
        }
      ],
      "source": [
        "dataset.columns=['label','document']\n",
        "dataset.head()"
      ]
    },
    {
      "cell_type": "code",
      "execution_count": 6,
      "metadata": {},
      "outputs": [],
      "source": [
        "dataset['label'] = dataset['label'].replace(['분노', '기쁨', '불안', '당황', '슬픔', '상처'],[0, 1, 2, 3, 4, 5])"
      ]
    },
    {
      "cell_type": "code",
      "execution_count": 7,
      "metadata": {},
      "outputs": [
        {
          "data": {
            "text/plain": [
              "array([0, 1, 2, 3, 4, 5], dtype=int64)"
            ]
          },
          "execution_count": 7,
          "metadata": {},
          "output_type": "execute_result"
        }
      ],
      "source": [
        "dataset['label'].unique()"
      ]
    },
    {
      "cell_type": "code",
      "execution_count": 8,
      "metadata": {},
      "outputs": [
        {
          "name": "stdout",
          "output_type": "stream",
          "text": [
            "<class 'pandas.core.frame.DataFrame'>\n",
            "RangeIndex: 51630 entries, 0 to 51629\n",
            "Data columns (total 2 columns):\n",
            " #   Column    Non-Null Count  Dtype \n",
            "---  ------    --------------  ----- \n",
            " 0   label     51630 non-null  int64 \n",
            " 1   document  51630 non-null  object\n",
            "dtypes: int64(1), object(1)\n",
            "memory usage: 806.8+ KB\n"
          ]
        }
      ],
      "source": [
        "dataset.info()"
      ]
    },
    {
      "cell_type": "code",
      "execution_count": 10,
      "metadata": {},
      "outputs": [
        {
          "data": {
            "text/html": [
              "<div>\n",
              "<style scoped>\n",
              "    .dataframe tbody tr th:only-of-type {\n",
              "        vertical-align: middle;\n",
              "    }\n",
              "\n",
              "    .dataframe tbody tr th {\n",
              "        vertical-align: top;\n",
              "    }\n",
              "\n",
              "    .dataframe thead th {\n",
              "        text-align: right;\n",
              "    }\n",
              "</style>\n",
              "<table border=\"1\" class=\"dataframe\">\n",
              "  <thead>\n",
              "    <tr style=\"text-align: right;\">\n",
              "      <th></th>\n",
              "      <th>label</th>\n",
              "      <th>document</th>\n",
              "    </tr>\n",
              "  </thead>\n",
              "  <tbody>\n",
              "    <tr>\n",
              "      <th>32758</th>\n",
              "      <td>0</td>\n",
              "      <td>남편 때문에 너무 속상해.</td>\n",
              "    </tr>\n",
              "    <tr>\n",
              "      <th>37076</th>\n",
              "      <td>3</td>\n",
              "      <td>나 걱정이 있어.</td>\n",
              "    </tr>\n",
              "    <tr>\n",
              "      <th>37675</th>\n",
              "      <td>1</td>\n",
              "      <td>오늘 감사한 일이 있었어.</td>\n",
              "    </tr>\n",
              "    <tr>\n",
              "      <th>37919</th>\n",
              "      <td>5</td>\n",
              "      <td>전부 언니는 공부를 잘한다고 언니한테만 잘해주고 나는 무시해.</td>\n",
              "    </tr>\n",
              "    <tr>\n",
              "      <th>38097</th>\n",
              "      <td>4</td>\n",
              "      <td>친구 집에 다녀왔어.</td>\n",
              "    </tr>\n",
              "    <tr>\n",
              "      <th>38533</th>\n",
              "      <td>4</td>\n",
              "      <td>나 좀 기분 나쁜 일이 있어.</td>\n",
              "    </tr>\n",
              "    <tr>\n",
              "      <th>38648</th>\n",
              "      <td>3</td>\n",
              "      <td>너무 힘들어.</td>\n",
              "    </tr>\n",
              "    <tr>\n",
              "      <th>38711</th>\n",
              "      <td>3</td>\n",
              "      <td>너무 외롭다.</td>\n",
              "    </tr>\n",
              "    <tr>\n",
              "      <th>38942</th>\n",
              "      <td>3</td>\n",
              "      <td>나 좀 잘못한 일이 있어.</td>\n",
              "    </tr>\n",
              "    <tr>\n",
              "      <th>39252</th>\n",
              "      <td>2</td>\n",
              "      <td>나 요즘 너무 힘들어.</td>\n",
              "    </tr>\n",
              "    <tr>\n",
              "      <th>39337</th>\n",
              "      <td>2</td>\n",
              "      <td>오늘 기분이 안 좋아.</td>\n",
              "    </tr>\n",
              "    <tr>\n",
              "      <th>39628</th>\n",
              "      <td>3</td>\n",
              "      <td>요즘 너무 힘들어.</td>\n",
              "    </tr>\n",
              "    <tr>\n",
              "      <th>39869</th>\n",
              "      <td>3</td>\n",
              "      <td>요즘 너무 힘들어.</td>\n",
              "    </tr>\n",
              "    <tr>\n",
              "      <th>39872</th>\n",
              "      <td>2</td>\n",
              "      <td>요즘 너무 힘들어.</td>\n",
              "    </tr>\n",
              "    <tr>\n",
              "      <th>39944</th>\n",
              "      <td>5</td>\n",
              "      <td>나 지금 너무 비관적이야.</td>\n",
              "    </tr>\n",
              "    <tr>\n",
              "      <th>40128</th>\n",
              "      <td>5</td>\n",
              "      <td>나 지금 너무 비관적이야.</td>\n",
              "    </tr>\n",
              "    <tr>\n",
              "      <th>40213</th>\n",
              "      <td>5</td>\n",
              "      <td>나 지금 너무 비관적이야.</td>\n",
              "    </tr>\n",
              "    <tr>\n",
              "      <th>40986</th>\n",
              "      <td>4</td>\n",
              "      <td>요즘 너무 힘들어.</td>\n",
              "    </tr>\n",
              "    <tr>\n",
              "      <th>40998</th>\n",
              "      <td>5</td>\n",
              "      <td>사는 게 힘드네.</td>\n",
              "    </tr>\n",
              "    <tr>\n",
              "      <th>41366</th>\n",
              "      <td>4</td>\n",
              "      <td>회사에서 해고당했어.</td>\n",
              "    </tr>\n",
              "    <tr>\n",
              "      <th>41533</th>\n",
              "      <td>0</td>\n",
              "      <td>인생이 너무 허무해.</td>\n",
              "    </tr>\n",
              "    <tr>\n",
              "      <th>41596</th>\n",
              "      <td>5</td>\n",
              "      <td>친구한테 사기를 당했어.</td>\n",
              "    </tr>\n",
              "    <tr>\n",
              "      <th>41600</th>\n",
              "      <td>5</td>\n",
              "      <td>나는 실패한 인생이야.</td>\n",
              "    </tr>\n",
              "    <tr>\n",
              "      <th>41606</th>\n",
              "      <td>4</td>\n",
              "      <td>살기가 너무 힘들어.</td>\n",
              "    </tr>\n",
              "    <tr>\n",
              "      <th>41779</th>\n",
              "      <td>5</td>\n",
              "      <td>너무 외롭다.</td>\n",
              "    </tr>\n",
              "    <tr>\n",
              "      <th>41810</th>\n",
              "      <td>3</td>\n",
              "      <td>너무 힘들고 무서워.</td>\n",
              "    </tr>\n",
              "    <tr>\n",
              "      <th>41825</th>\n",
              "      <td>0</td>\n",
              "      <td>얼마 전에 동생이 죽었어.</td>\n",
              "    </tr>\n",
              "    <tr>\n",
              "      <th>45992</th>\n",
              "      <td>4</td>\n",
              "      <td>이번 시험도 망쳐버렸어. 나는 잘하는 게 하나도 없나 봐.</td>\n",
              "    </tr>\n",
              "    <tr>\n",
              "      <th>47300</th>\n",
              "      <td>2</td>\n",
              "      <td>친구랑 싸워서 우울해.</td>\n",
              "    </tr>\n",
              "  </tbody>\n",
              "</table>\n",
              "</div>"
            ],
            "text/plain": [
              "       label                            document\n",
              "32758      0                      남편 때문에 너무 속상해.\n",
              "37076      3                           나 걱정이 있어.\n",
              "37675      1                      오늘 감사한 일이 있었어.\n",
              "37919      5  전부 언니는 공부를 잘한다고 언니한테만 잘해주고 나는 무시해.\n",
              "38097      4                         친구 집에 다녀왔어.\n",
              "38533      4                    나 좀 기분 나쁜 일이 있어.\n",
              "38648      3                             너무 힘들어.\n",
              "38711      3                             너무 외롭다.\n",
              "38942      3                      나 좀 잘못한 일이 있어.\n",
              "39252      2                        나 요즘 너무 힘들어.\n",
              "39337      2                        오늘 기분이 안 좋아.\n",
              "39628      3                          요즘 너무 힘들어.\n",
              "39869      3                          요즘 너무 힘들어.\n",
              "39872      2                          요즘 너무 힘들어.\n",
              "39944      5                      나 지금 너무 비관적이야.\n",
              "40128      5                      나 지금 너무 비관적이야.\n",
              "40213      5                      나 지금 너무 비관적이야.\n",
              "40986      4                          요즘 너무 힘들어.\n",
              "40998      5                           사는 게 힘드네.\n",
              "41366      4                         회사에서 해고당했어.\n",
              "41533      0                         인생이 너무 허무해.\n",
              "41596      5                       친구한테 사기를 당했어.\n",
              "41600      5                        나는 실패한 인생이야.\n",
              "41606      4                         살기가 너무 힘들어.\n",
              "41779      5                             너무 외롭다.\n",
              "41810      3                         너무 힘들고 무서워.\n",
              "41825      0                      얼마 전에 동생이 죽었어.\n",
              "45992      4    이번 시험도 망쳐버렸어. 나는 잘하는 게 하나도 없나 봐.\n",
              "47300      2                        친구랑 싸워서 우울해."
            ]
          },
          "execution_count": 10,
          "metadata": {},
          "output_type": "execute_result"
        }
      ],
      "source": [
        "# 중복 데이터 확인\n",
        "dataset[dataset['document'].duplicated()]"
      ]
    },
    {
      "cell_type": "code",
      "execution_count": 12,
      "metadata": {},
      "outputs": [],
      "source": [
        "dataset.drop_duplicates(subset = ['document'], inplace = True)"
      ]
    },
    {
      "cell_type": "code",
      "execution_count": 14,
      "metadata": {},
      "outputs": [
        {
          "data": {
            "text/plain": [
              "2    9316\n",
              "0    9157\n",
              "5    9135\n",
              "4    9119\n",
              "3    8749\n",
              "1    6125\n",
              "Name: label, dtype: int64"
            ]
          },
          "execution_count": 14,
          "metadata": {},
          "output_type": "execute_result"
        }
      ],
      "source": [
        "dataset['label'].value_counts()"
      ]
    },
    {
      "cell_type": "code",
      "execution_count": 15,
      "metadata": {},
      "outputs": [],
      "source": [
        "# 입출력 데이터 분리\n",
        "X_data = dataset['document']\n",
        "y_data = dataset['label']"
      ]
    },
    {
      "cell_type": "code",
      "execution_count": 17,
      "metadata": {},
      "outputs": [],
      "source": [
        "from sklearn.model_selection import train_test_split"
      ]
    },
    {
      "cell_type": "code",
      "execution_count": 18,
      "metadata": {},
      "outputs": [],
      "source": [
        "TEST_SIZE = 0.2 # Train: Test = 8 :2 분리\n",
        "RANDOM_STATE = 42\n",
        "# strtify = True 일 경우, 데이터 분리 이전의 라벨별 분포 고려\n",
        "X_train, X_test, y_train, y_test = train_test_split(X_data, y_data, \n",
        "                                                    test_size = TEST_SIZE, \n",
        "                                                    random_state = RANDOM_STATE, \n",
        "                                                    stratify = y_data)"
      ]
    },
    {
      "cell_type": "code",
      "execution_count": 22,
      "metadata": {},
      "outputs": [
        {
          "data": {
            "text/plain": [
              "35727    2\n",
              "25392    0\n",
              "30543    3\n",
              "42979    3\n",
              "31889    3\n",
              "18640    3\n",
              "5722     1\n",
              "29093    0\n",
              "39821    3\n",
              "5264     5\n",
              "Name: label, dtype: int64"
            ]
          },
          "execution_count": 22,
          "metadata": {},
          "output_type": "execute_result"
        }
      ],
      "source": [
        "y_test[:10]"
      ]
    },
    {
      "cell_type": "code",
      "execution_count": 21,
      "metadata": {
        "colab": {
          "base_uri": "https://localhost:8080/"
        },
        "id": "gcTVP1IdP11v",
        "outputId": "0f43fb6d-79d9-4ddc-c765-925bb4dec38f"
      },
      "outputs": [
        {
          "data": {
            "text/plain": [
              "35727     이번에 전학을 왔는데 그전 학교에서 날 괴롭히던 학생이 여기에도 소문을 낸 것 같아.\n",
              "25392    자식들이 하도 안 찾아와서 재산을 기부한다고 했는데 그제야 찾아오더라. 너무 어이없어.\n",
              "30543                                최근에 우리 부모님이 이혼을 하셨어.\n",
              "42979          피시방에서 게임을 많이 해서 그런지 성적이 계속 떨어지는 것 같아 걱정이야.\n",
              "31889                      학원에서 쉬는 시간마다 애들이 날 괴롭혀서 너무 지쳐.\n",
              "18640         나는 왜 이렇게 일 처리 속도가 느릴까? 늘 하는 일인데도 손에 익지가 않아.\n",
              "5722                          정말 힘든 프로젝트였어. 끝나서 날아갈 듯 기뻐.\n",
              "29093                   코로나 때문에 손님이 없는데 임대료는 내야하고 정말 힘들어.\n",
              "39821                                       살기 참 힘든 것 같아.\n",
              "5264                             이번에도 또 돈을 빌렸어. 참 살기 힘드네.\n",
              "Name: document, dtype: object"
            ]
          },
          "execution_count": 21,
          "metadata": {},
          "output_type": "execute_result"
        }
      ],
      "source": [
        "X_test[:10]"
      ]
    },
    {
      "cell_type": "code",
      "execution_count": 23,
      "metadata": {
        "id": "586eaUQBP4Px"
      },
      "outputs": [],
      "source": [
        "#데이터 전처리\n",
        "# 1) 토큰화 (tokenizing)\n",
        "\n",
        "def tokenizing(sentence):\n",
        "    if isinstance(sentence, str):\n",
        "        sentence=sentence.split(' ') #공백기준으로 자름\n",
        "    else:\n",
        "        sentence='' #노이즈 데이터 처리\n",
        "    return sentence"
      ]
    },
    {
      "cell_type": "code",
      "execution_count": 24,
      "metadata": {
        "id": "Oj6EYwaxQVV5"
      },
      "outputs": [],
      "source": [
        "train_data_list = X_train.apply(tokenizing)\n",
        "test_data_list = X_test.apply(tokenizing)"
      ]
    },
    {
      "cell_type": "code",
      "execution_count": 25,
      "metadata": {
        "colab": {
          "base_uri": "https://localhost:8080/"
        },
        "id": "fGlZIlYAQenZ",
        "outputId": "0026e7c8-4301-4dd3-c8d3-74f1118d5c17"
      },
      "outputs": [
        {
          "data": {
            "text/plain": [
              "45784                          [난, 지금, 면접만, 삼십, 번을, 떨어졌어.]\n",
              "26558                                [이번에, 좋은, 회사에, 취직했어!]\n",
              "43764    [언제부터, 몸이, 좋지, 않더니, 병이, 생긴, 걸, 알았어., 내, 인생은, 망...\n",
              "12878        [엄마, 아빠는, 내가, 부모님이, 필요한, 순간에, 곁에, 있어주지를, 않아.]\n",
              "9698            [아이들이, 부모가, 재산을, 남겨, 주지, 못한다고, 원망하지, 않을까?]\n",
              "Name: document, dtype: object"
            ]
          },
          "execution_count": 25,
          "metadata": {},
          "output_type": "execute_result"
        }
      ],
      "source": [
        "train_data_list[:5]"
      ]
    },
    {
      "cell_type": "code",
      "execution_count": 26,
      "metadata": {
        "id": "v_c_yk8KQkZJ"
      },
      "outputs": [],
      "source": [
        "#토크나이저 (tokenizer)\n",
        "\n",
        "from tensorflow.keras.preprocessing.text import Tokenizer\n",
        "from tensorflow.keras.preprocessing.sequence import pad_sequences"
      ]
    },
    {
      "cell_type": "code",
      "execution_count": 27,
      "metadata": {
        "id": "2SY-Jf0qRE-J"
      },
      "outputs": [],
      "source": [
        "tokenizer=Tokenizer()\n",
        "tokenizer.fit_on_texts(train_data_list)"
      ]
    },
    {
      "cell_type": "code",
      "execution_count": 28,
      "metadata": {
        "id": "770FnksWRN9h"
      },
      "outputs": [],
      "source": [
        "#2) 정수인코딩(integer encoding)\n",
        "# 문장 > 시퀀스 변환\n",
        "\n",
        "train_data_ids=tokenizer.texts_to_sequences(train_data_list)\n",
        "test_data_ids=tokenizer.texts_to_sequences(test_data_list)"
      ]
    },
    {
      "cell_type": "code",
      "execution_count": 29,
      "metadata": {
        "colab": {
          "base_uri": "https://localhost:8080/"
        },
        "id": "jtfLFKauRpvR",
        "outputId": "7f4d4da1-3676-4577-8d74-3a4d4a0197a1"
      },
      "outputs": [
        {
          "data": {
            "text/plain": [
              "[25, 88, 20590, 915, 4180, 293]"
            ]
          },
          "execution_count": 29,
          "metadata": {},
          "output_type": "execute_result"
        }
      ],
      "source": [
        "train_data_ids[0]"
      ]
    },
    {
      "cell_type": "code",
      "execution_count": 30,
      "metadata": {
        "colab": {
          "base_uri": "https://localhost:8080/"
        },
        "id": "Wav1aS_dRtDZ",
        "outputId": "21631741-3c47-420b-d6af-d2fadec2d355"
      },
      "outputs": [
        {
          "name": "stdout",
          "output_type": "stream",
          "text": [
            "6\n",
            "11\n"
          ]
        }
      ],
      "source": [
        "print(len(train_data_ids[0]))\n",
        "print(len(train_data_ids[2]))\n",
        "\n",
        "#> 엥 문장의 길이가 각기 다르넹"
      ]
    },
    {
      "cell_type": "code",
      "execution_count": 31,
      "metadata": {
        "id": "gRx_B4tfRxkZ"
      },
      "outputs": [],
      "source": [
        "#3) 문장 패딩(padding)\n",
        "\n",
        "train_data_padded=keras.preprocessing.sequence.pad_sequences(train_data_ids, value=0, padding='post', maxlen=50) #padding='post' 뒤에 붙이겠음\n",
        "test_data_padded=keras.preprocessing.sequence.pad_sequences(test_data_ids, value=0, padding='post', maxlen=50)"
      ]
    },
    {
      "cell_type": "code",
      "execution_count": 32,
      "metadata": {
        "colab": {
          "base_uri": "https://localhost:8080/"
        },
        "id": "GVzKYgwARxfh",
        "outputId": "d682238d-8028-4c22-be24-d686edc8b092"
      },
      "outputs": [
        {
          "name": "stdout",
          "output_type": "stream",
          "text": [
            "(50,)\n",
            "[   25    88 20590   915  4180   293     0     0     0     0     0     0\n",
            "     0     0     0     0     0     0     0     0     0     0     0     0\n",
            "     0     0     0     0     0     0     0     0     0     0     0     0\n",
            "     0     0     0     0     0     0     0     0     0     0     0     0\n",
            "     0     0]\n",
            "(50,)\n",
            "[  61 2049  355  116   57 1060 5635 2327 2144    4    6    0    0    0\n",
            "    0    0    0    0    0    0    0    0    0    0    0    0    0    0\n",
            "    0    0    0    0    0    0    0    0    0    0    0    0    0    0\n",
            "    0    0    0    0    0    0    0    0]\n"
          ]
        }
      ],
      "source": [
        "print(train_data_padded[0].shape)\n",
        "print(train_data_padded[0])\n",
        "print(test_data_padded[0].shape)\n",
        "print(test_data_padded[0])"
      ]
    },
    {
      "cell_type": "code",
      "execution_count": 70,
      "metadata": {
        "id": "KqNDHvBARxcx"
      },
      "outputs": [],
      "source": [
        "from keras.api._v2.keras import activations\n",
        "# 4) 모델       \n",
        "#입력 크기는 영화 리뷰 데이터 셋에서 적용된 어휘 사전의 크기입니다\n",
        "#10000갸의 단어\n",
        "\n",
        "vocab_size=10000\n",
        "model=keras.Sequential()\n",
        "\n",
        "model.add(keras.layers.Embedding(vocab_size, 16, input_shape=(50,))) #벡터화\n",
        "#vocab_size 단어크기 16 원하는 벡터의 길이(타원)\n",
        "model.add(keras.layers.GlobalAveragePooling1D())\n",
        "model.add(keras.layers.Dense(16, activation='relu'))\n",
        "model.add(keras.layers.Dense(16, activation='relu'))\n",
        "model.add(keras.layers.Dense(16, activation='relu'))\n",
        "\n",
        "model.add(keras.layers.Dense(6, activation='softmax'))"
      ]
    },
    {
      "cell_type": "code",
      "execution_count": 71,
      "metadata": {
        "colab": {
          "base_uri": "https://localhost:8080/"
        },
        "id": "Obj2Fh-5XbAK",
        "outputId": "2dd9bd69-2dcc-413d-d178-5bb373d14a88"
      },
      "outputs": [
        {
          "data": {
            "text/plain": [
              "45784    5\n",
              "26558    1\n",
              "43764    5\n",
              "12878    4\n",
              "9698     5\n",
              "Name: label, dtype: int64"
            ]
          },
          "execution_count": 71,
          "metadata": {},
          "output_type": "execute_result"
        }
      ],
      "source": [
        "#5) 모델 학습\n",
        "\n",
        "y_train[:5]"
      ]
    },
    {
      "cell_type": "code",
      "execution_count": 72,
      "metadata": {
        "id": "W5opPUF5XuSp"
      },
      "outputs": [],
      "source": [
        "# 환경설정\n",
        "\n",
        "model.compile(loss='sparse_categorical_crossentropy', optimizer='adam', metrics=['accuracy'])"
      ]
    },
    {
      "cell_type": "code",
      "execution_count": 73,
      "metadata": {
        "colab": {
          "base_uri": "https://localhost:8080/"
        },
        "id": "zxlr4TawYHVS",
        "outputId": "564705c7-c2ed-4bed-ac5e-93621e31f230"
      },
      "outputs": [
        {
          "name": "stdout",
          "output_type": "stream",
          "text": [
            "Epoch 1/30\n",
            "1290/1290 [==============================] - 3s 2ms/step - loss: 1.6864 - accuracy: 0.2362\n",
            "Epoch 2/30\n",
            "1290/1290 [==============================] - 2s 2ms/step - loss: 1.5220 - accuracy: 0.3205\n",
            "Epoch 3/30\n",
            "1290/1290 [==============================] - 2s 2ms/step - loss: 1.4710 - accuracy: 0.3556\n",
            "Epoch 4/30\n",
            "1290/1290 [==============================] - 2s 2ms/step - loss: 1.3947 - accuracy: 0.4242\n",
            "Epoch 5/30\n",
            "1290/1290 [==============================] - 2s 2ms/step - loss: 1.2830 - accuracy: 0.4991\n",
            "Epoch 6/30\n",
            "1290/1290 [==============================] - 2s 2ms/step - loss: 1.2184 - accuracy: 0.5348\n",
            "Epoch 7/30\n",
            "1290/1290 [==============================] - 2s 2ms/step - loss: 1.1789 - accuracy: 0.5517\n",
            "Epoch 8/30\n",
            "1290/1290 [==============================] - 2s 2ms/step - loss: 1.1527 - accuracy: 0.5668\n",
            "Epoch 9/30\n",
            "1290/1290 [==============================] - 2s 2ms/step - loss: 1.1298 - accuracy: 0.5749\n",
            "Epoch 10/30\n",
            "1290/1290 [==============================] - 2s 2ms/step - loss: 1.1098 - accuracy: 0.5878\n",
            "Epoch 11/30\n",
            "1290/1290 [==============================] - 2s 2ms/step - loss: 1.0823 - accuracy: 0.6007\n",
            "Epoch 12/30\n",
            "1290/1290 [==============================] - 2s 2ms/step - loss: 1.0498 - accuracy: 0.6174\n",
            "Epoch 13/30\n",
            "1290/1290 [==============================] - 2s 2ms/step - loss: 1.0079 - accuracy: 0.6362\n",
            "Epoch 14/30\n",
            "1290/1290 [==============================] - 2s 2ms/step - loss: 0.9747 - accuracy: 0.6514\n",
            "Epoch 15/30\n",
            "1290/1290 [==============================] - 2s 2ms/step - loss: 0.9467 - accuracy: 0.6649\n",
            "Epoch 16/30\n",
            "1290/1290 [==============================] - 2s 2ms/step - loss: 0.9214 - accuracy: 0.6717\n",
            "Epoch 17/30\n",
            "1290/1290 [==============================] - 2s 2ms/step - loss: 0.8967 - accuracy: 0.6838\n",
            "Epoch 18/30\n",
            "1290/1290 [==============================] - 2s 2ms/step - loss: 0.8693 - accuracy: 0.6946\n",
            "Epoch 19/30\n",
            "1290/1290 [==============================] - 2s 2ms/step - loss: 0.8412 - accuracy: 0.7066\n",
            "Epoch 20/30\n",
            "1290/1290 [==============================] - 2s 2ms/step - loss: 0.8127 - accuracy: 0.7187\n",
            "Epoch 21/30\n",
            "1290/1290 [==============================] - 2s 2ms/step - loss: 0.7867 - accuracy: 0.7265\n",
            "Epoch 22/30\n",
            "1290/1290 [==============================] - 2s 2ms/step - loss: 0.7605 - accuracy: 0.7355\n",
            "Epoch 23/30\n",
            "1290/1290 [==============================] - 2s 2ms/step - loss: 0.7390 - accuracy: 0.7448\n",
            "Epoch 24/30\n",
            "1290/1290 [==============================] - 2s 2ms/step - loss: 0.7167 - accuracy: 0.7521\n",
            "Epoch 25/30\n",
            "1290/1290 [==============================] - 2s 2ms/step - loss: 0.6917 - accuracy: 0.7618\n",
            "Epoch 26/30\n",
            "1290/1290 [==============================] - 2s 2ms/step - loss: 0.6699 - accuracy: 0.7682\n",
            "Epoch 27/30\n",
            "1290/1290 [==============================] - 2s 2ms/step - loss: 0.6500 - accuracy: 0.7747\n",
            "Epoch 28/30\n",
            "1290/1290 [==============================] - 2s 2ms/step - loss: 0.6298 - accuracy: 0.7844\n",
            "Epoch 29/30\n",
            "1290/1290 [==============================] - 2s 2ms/step - loss: 0.6097 - accuracy: 0.7904\n",
            "Epoch 30/30\n",
            "1290/1290 [==============================] - 2s 2ms/step - loss: 0.5940 - accuracy: 0.7974\n"
          ]
        }
      ],
      "source": [
        "#학습\n",
        "\n",
        "history = model.fit(train_data_padded,\n",
        "          y_train,\n",
        "          epochs=30,\n",
        "          batch_size=32)"
      ]
    },
    {
      "cell_type": "code",
      "execution_count": 75,
      "metadata": {
        "colab": {
          "base_uri": "https://localhost:8080/",
          "height": 448
        },
        "id": "rml9RK_RYSuh",
        "outputId": "103ca099-2059-4f50-c393-e868acc020bc"
      },
      "outputs": [
        {
          "data": {
            "text/plain": [
              "[<matplotlib.lines.Line2D at 0x27f051f8760>]"
            ]
          },
          "execution_count": 75,
          "metadata": {},
          "output_type": "execute_result"
        },
        {
          "data": {
            "image/png": "[encoded data removed]",
            "text/plain": [
              "<Figure size 640x480 with 1 Axes>"
            ]
          },
          "metadata": {},
          "output_type": "display_data"
        }
      ],
      "source": [
        "import matplotlib.pyplot as plt\n",
        "plt.plot(history.history['loss'])\n",
        "plt.plot(history.history['accuracy'])"
      ]
    },
    {
      "cell_type": "code",
      "execution_count": 76,
      "metadata": {
        "colab": {
          "base_uri": "https://localhost:8080/"
        },
        "id": "LgteHeBEY24h",
        "outputId": "d6291cc6-46bc-46c1-844c-ba63cb48a1c3"
      },
      "outputs": [
        {
          "data": {
            "text/plain": [
              "(10321, 50)"
            ]
          },
          "execution_count": 76,
          "metadata": {},
          "output_type": "execute_result"
        }
      ],
      "source": [
        "#6) 모델 성능 평가\n",
        "test_data_padded.shape"
      ]
    },
    {
      "cell_type": "code",
      "execution_count": 77,
      "metadata": {
        "colab": {
          "base_uri": "https://localhost:8080/"
        },
        "id": "BZsOhOYEY64h",
        "outputId": "da9a0ff9-3bc6-46ff-c894-71be0ca412af"
      },
      "outputs": [
        {
          "name": "stdout",
          "output_type": "stream",
          "text": [
            "323/323 - 1s - loss: 2.2084 - accuracy: 0.4503 - 628ms/epoch - 2ms/step\n",
            "0.4503439664840698\n"
          ]
        }
      ],
      "source": [
        "result=model.evaluate(test_data_padded, y_test, verbose=2)\n",
        "print(result[1])"
      ]
    },
    {
      "cell_type": "code",
      "execution_count": 86,
      "metadata": {
        "colab": {
          "base_uri": "https://localhost:8080/"
        },
        "id": "6laTn4woZKba",
        "outputId": "624d3569-3231-4ced-b984-bfcfad06ea0a"
      },
      "outputs": [
        {
          "data": {
            "text/plain": [
              "array([[  50,   97,  611,  135, 2833,    0,    0,    0,    0,    0,    0,\n",
              "           0,    0,    0,    0,    0,    0,    0,    0,    0,    0,    0,\n",
              "           0,    0,    0,    0,    0,    0,    0,    0,    0,    0,    0,\n",
              "           0,    0,    0,    0,    0,    0,    0,    0,    0,    0,    0,\n",
              "           0,    0,    0,    0,    0,    0]])"
            ]
          },
          "execution_count": 86,
          "metadata": {},
          "output_type": "execute_result"
        }
      ],
      "source": [
        "#모델 적용 > 추론\n",
        "#추론할 리뷰 문장\n",
        "\n",
        "sentence='맥도날드'\n",
        "\n",
        "#토큰화\n",
        "sentence=sentence.split(' ')\n",
        "\n",
        "#정수 인코딩\n",
        "sentence_ids=tokenizer.texts_to_sequences([sentence])\n",
        "\n",
        "#페딩\n",
        "sentence_padded=keras.preprocessing.sequence.pad_sequences(sentence_ids,\n",
        "                                           value=0,\n",
        "                                           padding='post',\n",
        "                                           maxlen=50)\n",
        "\n",
        "sentence_padded"
      ]
    },
    {
      "cell_type": "code",
      "execution_count": 87,
      "metadata": {},
      "outputs": [
        {
          "name": "stdout",
          "output_type": "stream",
          "text": [
            "1/1 [==============================] - 0s 13ms/step\n",
            "예측된 감정은 상처이고, 확률은 0.42입니다.\n"
          ]
        }
      ],
      "source": [
        "result=model.predict(sentence_padded)\n",
        "label_map = {0: '분노', 1: '기쁨', 2: '불안', 3: '당황', 4: '슬픔', 5: '상처'}\n",
        "predicted_label = label_map[np.argmax(result)]\n",
        "print(f'예측된 감정은 {predicted_label}이고, 확률은 {result[0][np.argmax(result)]:.2f}입니다.')"
      ]
    },
    {
      "cell_type": "markdown",
      "metadata": {
        "id": "X_aGVytzbULJ"
      },
      "source": [
        "감성 분류 with RNN, LSTM"
      ]
    },
    {
      "cell_type": "code",
      "execution_count": 88,
      "metadata": {
        "id": "JKTwMeQkaNeC"
      },
      "outputs": [],
      "source": [
        "#1. 모델링 (LNN)\n",
        "\n",
        "model=tf.keras.Sequential([\n",
        "     #임베딩 레이어(embedding layer)\n",
        "     tf.keras.layers.Embedding(vocab_size, 64),\n",
        "\n",
        "     #RNN layer\n",
        "     tf.keras.layers.SimpleRNN(16),\n",
        "\n",
        "     #DENSE layer\n",
        "     tf.keras.layers.Dense(16, activation='relu'),\n",
        "     tf.keras.layers.Dense(6, activation='softmax')\n",
        "                           \n",
        "                           \n",
        "                           ])"
      ]
    },
    {
      "cell_type": "code",
      "execution_count": 89,
      "metadata": {
        "id": "6sBzbIR-cHa4"
      },
      "outputs": [],
      "source": [
        "#2. 학습\n",
        "\n",
        "model.compile(loss='sparse_categorical_crossentropy', optimizer='adam', metrics=['accuracy'])"
      ]
    },
    {
      "cell_type": "code",
      "execution_count": 92,
      "metadata": {
        "colab": {
          "base_uri": "https://localhost:8080/"
        },
        "id": "EfIdbOH5cQZ6",
        "outputId": "3f561449-d080-4c4f-c042-c008e615b4e6"
      },
      "outputs": [
        {
          "name": "stdout",
          "output_type": "stream",
          "text": [
            "Epoch 1/50\n",
            "1290/1290 [==============================] - 22s 17ms/step - loss: 1.7091 - accuracy: 0.2552\n",
            "Epoch 2/50\n",
            "1290/1290 [==============================] - 22s 17ms/step - loss: 1.6021 - accuracy: 0.3228\n",
            "Epoch 3/50\n",
            "1290/1290 [==============================] - 23s 18ms/step - loss: 1.4696 - accuracy: 0.3961\n",
            "Epoch 4/50\n",
            "1290/1290 [==============================] - 22s 17ms/step - loss: 1.3311 - accuracy: 0.4657\n",
            "Epoch 5/50\n",
            "1290/1290 [==============================] - 22s 17ms/step - loss: 1.1955 - accuracy: 0.5323\n",
            "Epoch 6/50\n",
            "1290/1290 [==============================] - 22s 17ms/step - loss: 1.0819 - accuracy: 0.5881\n",
            "Epoch 7/50\n",
            "1290/1290 [==============================] - 22s 17ms/step - loss: 0.9779 - accuracy: 0.6374\n",
            "Epoch 8/50\n",
            "1290/1290 [==============================] - 23s 18ms/step - loss: 0.9008 - accuracy: 0.6716\n",
            "Epoch 9/50\n",
            "1290/1290 [==============================] - 23s 18ms/step - loss: 0.8167 - accuracy: 0.7085\n",
            "Epoch 10/50\n",
            "1290/1290 [==============================] - 23s 18ms/step - loss: 0.7559 - accuracy: 0.7339\n",
            "Epoch 11/50\n",
            "1290/1290 [==============================] - 23s 18ms/step - loss: 0.7014 - accuracy: 0.7563\n",
            "Epoch 12/50\n",
            "1290/1290 [==============================] - 23s 18ms/step - loss: 0.6482 - accuracy: 0.7767\n",
            "Epoch 13/50\n",
            "1290/1290 [==============================] - 23s 18ms/step - loss: 0.6085 - accuracy: 0.7953\n",
            "Epoch 14/50\n",
            "1290/1290 [==============================] - 23s 18ms/step - loss: 0.5749 - accuracy: 0.8069\n",
            "Epoch 15/50\n",
            "1290/1290 [==============================] - 22s 17ms/step - loss: 0.5400 - accuracy: 0.8180\n",
            "Epoch 16/50\n",
            "1290/1290 [==============================] - 23s 18ms/step - loss: 0.5138 - accuracy: 0.8302\n",
            "Epoch 17/50\n",
            "1290/1290 [==============================] - 23s 18ms/step - loss: 0.4795 - accuracy: 0.8432\n",
            "Epoch 18/50\n",
            "1290/1290 [==============================] - 22s 17ms/step - loss: 0.4616 - accuracy: 0.8463\n",
            "Epoch 19/50\n",
            "1290/1290 [==============================] - 22s 17ms/step - loss: 0.4507 - accuracy: 0.8528\n",
            "Epoch 20/50\n",
            "1290/1290 [==============================] - 22s 17ms/step - loss: 0.4203 - accuracy: 0.8642\n",
            "Epoch 21/50\n",
            "1290/1290 [==============================] - 22s 17ms/step - loss: 0.3986 - accuracy: 0.8700\n",
            "Epoch 22/50\n",
            "1290/1290 [==============================] - 22s 17ms/step - loss: 0.3991 - accuracy: 0.8692\n",
            "Epoch 23/50\n",
            "1290/1290 [==============================] - 22s 17ms/step - loss: 0.3790 - accuracy: 0.8755\n",
            "Epoch 24/50\n",
            "1290/1290 [==============================] - 23s 18ms/step - loss: 0.3759 - accuracy: 0.8786\n",
            "Epoch 25/50\n",
            "1290/1290 [==============================] - 23s 18ms/step - loss: 0.3645 - accuracy: 0.8817\n",
            "Epoch 26/50\n",
            "1290/1290 [==============================] - 23s 18ms/step - loss: 0.3514 - accuracy: 0.8856\n",
            "Epoch 27/50\n",
            "1290/1290 [==============================] - 23s 18ms/step - loss: 0.3362 - accuracy: 0.8896\n",
            "Epoch 28/50\n",
            "1290/1290 [==============================] - 23s 18ms/step - loss: 0.3309 - accuracy: 0.8924\n",
            "Epoch 29/50\n",
            "1290/1290 [==============================] - 22s 17ms/step - loss: 0.3221 - accuracy: 0.8966\n",
            "Epoch 30/50\n",
            "1290/1290 [==============================] - 23s 18ms/step - loss: 0.3120 - accuracy: 0.8998\n",
            "Epoch 31/50\n",
            "1290/1290 [==============================] - 22s 17ms/step - loss: 0.3117 - accuracy: 0.8995\n",
            "Epoch 32/50\n",
            "1290/1290 [==============================] - 22s 17ms/step - loss: 0.3041 - accuracy: 0.9020\n",
            "Epoch 33/50\n",
            "1290/1290 [==============================] - 22s 17ms/step - loss: 0.2934 - accuracy: 0.9060\n",
            "Epoch 34/50\n",
            "1290/1290 [==============================] - 22s 17ms/step - loss: 0.2901 - accuracy: 0.9053\n",
            "Epoch 35/50\n",
            "1290/1290 [==============================] - 22s 17ms/step - loss: 0.2895 - accuracy: 0.9067\n",
            "Epoch 36/50\n",
            "1290/1290 [==============================] - 22s 17ms/step - loss: 0.2818 - accuracy: 0.9102\n",
            "Epoch 37/50\n",
            "1290/1290 [==============================] - 23s 18ms/step - loss: 0.2823 - accuracy: 0.9091\n",
            "Epoch 38/50\n",
            "1290/1290 [==============================] - 23s 18ms/step - loss: 0.2645 - accuracy: 0.9149\n",
            "Epoch 39/50\n",
            "1290/1290 [==============================] - 22s 17ms/step - loss: 0.2620 - accuracy: 0.9172\n",
            "Epoch 40/50\n",
            "1290/1290 [==============================] - 23s 18ms/step - loss: 0.2583 - accuracy: 0.9180\n",
            "Epoch 41/50\n",
            "1290/1290 [==============================] - 23s 18ms/step - loss: 0.2624 - accuracy: 0.9160\n",
            "Epoch 42/50\n",
            "1290/1290 [==============================] - 23s 18ms/step - loss: 0.2594 - accuracy: 0.9174\n",
            "Epoch 43/50\n",
            "1290/1290 [==============================] - 23s 18ms/step - loss: 0.2469 - accuracy: 0.9211\n",
            "Epoch 44/50\n",
            "1290/1290 [==============================] - 23s 18ms/step - loss: 0.2464 - accuracy: 0.9213\n",
            "Epoch 45/50\n",
            "1290/1290 [==============================] - 22s 17ms/step - loss: 0.2340 - accuracy: 0.9268\n",
            "Epoch 46/50\n",
            "1290/1290 [==============================] - 22s 17ms/step - loss: 0.2385 - accuracy: 0.9248\n",
            "Epoch 47/50\n",
            "1290/1290 [==============================] - 22s 17ms/step - loss: 0.2470 - accuracy: 0.9213\n",
            "Epoch 48/50\n",
            "1290/1290 [==============================] - 22s 17ms/step - loss: 0.2390 - accuracy: 0.9247\n",
            "Epoch 49/50\n",
            "1290/1290 [==============================] - 22s 17ms/step - loss: 0.2247 - accuracy: 0.9291\n",
            "Epoch 50/50\n",
            "1290/1290 [==============================] - 23s 18ms/step - loss: 0.2232 - accuracy: 0.9291\n"
          ]
        }
      ],
      "source": [
        "history = model.fit(train_data_padded,\n",
        "          y_train,\n",
        "          epochs=50,\n",
        "          batch_size=32)"
      ]
    },
    {
      "cell_type": "code",
      "execution_count": 93,
      "metadata": {
        "colab": {
          "base_uri": "https://localhost:8080/"
        },
        "id": "u_xGSsTichbq",
        "outputId": "3467209d-a982-47bf-e969-eec92636ce9a"
      },
      "outputs": [
        {
          "name": "stdout",
          "output_type": "stream",
          "text": [
            "323/323 - 2s - loss: 4.1142 - accuracy: 0.2763 - 2s/epoch - 5ms/step\n",
            "0.27632981538772583\n"
          ]
        }
      ],
      "source": [
        "#3 모델 성능 평가\n",
        "\n",
        "result=model.evaluate(test_data_padded, y_test, verbose=2)\n",
        "print(result[1])"
      ]
    },
    {
      "cell_type": "code",
      "execution_count": 152,
      "metadata": {
        "colab": {
          "base_uri": "https://localhost:8080/"
        },
        "id": "hzSEvuDUc2Lp",
        "outputId": "a1da704c-90a0-4834-cb34-92057b3e1a15"
      },
      "outputs": [
        {
          "data": {
            "text/plain": [
              "array([[  18, 1353,  137,    0,    0,    0,    0,    0,    0,    0,    0,\n",
              "           0,    0,    0,    0,    0,    0,    0,    0,    0,    0,    0,\n",
              "           0,    0,    0,    0,    0,    0,    0,    0,    0,    0,    0,\n",
              "           0,    0,    0,    0,    0,    0,    0,    0,    0,    0,    0,\n",
              "           0,    0,    0,    0,    0,    0]])"
            ]
          },
          "execution_count": 152,
          "metadata": {},
          "output_type": "execute_result"
        }
      ],
      "source": [
        "#4. 추론 (모델 적용)\n",
        "\n",
        "sentence='우리 팀 참 좋아요!'\n",
        "\n",
        "#토큰화\n",
        "sentence=sentence.split(' ')\n",
        "\n",
        "#정수 인코딩\n",
        "sentence_ids=tokenizer.texts_to_sequences([sentence])\n",
        "\n",
        "#페딩\n",
        "sentence_padded=keras.preprocessing.sequence.pad_sequences(sentence_ids,\n",
        "                                           value=0,\n",
        "                                           padding='post',\n",
        "                                           maxlen=50)\n",
        "\n",
        "sentence_padded"
      ]
    },
    {
      "cell_type": "code",
      "execution_count": 153,
      "metadata": {
        "colab": {
          "base_uri": "https://localhost:8080/"
        },
        "id": "tq14ZRHLdmyZ",
        "outputId": "abe41597-aded-4c3d-a1ca-6dc7443e6c10"
      },
      "outputs": [
        {
          "name": "stdout",
          "output_type": "stream",
          "text": [
            "1/1 [==============================] - 0s 18ms/step\n",
            "예측된 감정은 기쁨이고, 확률은 0.90입니다.\n"
          ]
        }
      ],
      "source": [
        "result=model.predict(sentence_padded)\n",
        "label_map = {0: '분노', 1: '기쁨', 2: '불안', 3: '당황', 4: '슬픔', 5: '상처'}\n",
        "predicted_label = label_map[np.argmax(result)]\n",
        "print(f'예측된 감정은 {predicted_label}이고, 확률은 {result[0][np.argmax(result)]:.2f}입니다.')"
      ]
    },
    {
      "cell_type": "code",
      "execution_count": null,
      "metadata": {
        "id": "AxY6jRH8qPPC"
      },
      "outputs": [],
      "source": []
    },
    {
      "cell_type": "code",
      "execution_count": null,
      "metadata": {},
      "outputs": [],
      "source": []
    }
  ],
  "metadata": {
    "accelerator": "GPU",
    "colab": {
      "provenance": []
    },
    "gpuClass": "standard",
    "kernelspec": {
      "display_name": "base",
      "language": "python",
      "name": "python3"
    },
    "language_info": {
      "codemirror_mode": {
        "name": "ipython",
        "version": 3
      },
      "file_extension": ".py",
      "mimetype": "text/x-python",
      "name": "python",
      "nbconvert_exporter": "python",
      "pygments_lexer": "ipython3",
      "version": "3.9.13"
    },
    "vscode": {
      "interpreter": {
        "hash": "1284a11239f1c582240c95e9b63f464998ce3454084d16e746adc349338fd12e"
      }
    }
  },
  "nbformat": 4,
  "nbformat_minor": 0
}
