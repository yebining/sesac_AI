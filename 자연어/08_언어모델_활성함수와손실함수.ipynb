{
  "nbformat": 4,
  "nbformat_minor": 0,
  "metadata": {
    "colab": {
      "provenance": []
    },
    "kernelspec": {
      "name": "python3",
      "display_name": "Python 3"
    },
    "language_info": {
      "name": "python"
    }
  },
  "cells": [
    {
      "cell_type": "markdown",
      "metadata": {
        "id": "Ph0e0ulxA5E-"
      },
      "source": [
        "<img src=\"https://i.imgur.com/KD08gn5.png\" width=\"700px\" />\n"
      ]
    },
    {
      "cell_type": "markdown",
      "metadata": {
        "id": "2ne8B3XaCEIC"
      },
      "source": [
        "# 시험 성정 데이터"
      ]
    },
    {
      "cell_type": "code",
      "metadata": {
        "id": "_7DcNWQgB_wA"
      },
      "source": [
        "# 데이터분석 라이브러리\n",
        "import numpy as np\n",
        "import matplotlib.pyplot as plt\n",
        "import pandas as pd\n",
        "\n",
        "# 딥러닝 라이브러리\n",
        "import tensorflow as tf\n",
        "from tensorflow import keras\n",
        "from tensorflow.keras import models\n",
        "from tensorflow.keras import layers"
      ],
      "execution_count": null,
      "outputs": []
    },
    {
      "cell_type": "markdown",
      "metadata": {
        "id": "rlnC0JrjChSJ"
      },
      "source": [
        "<img src=\"https://i.imgur.com/1KzycmW.png\" width=\"600px\" />"
      ]
    },
    {
      "cell_type": "code",
      "metadata": {
        "id": "gGfj9dzLDmhJ"
      },
      "source": [
        "data = pd.DataFrame([[6, 4, 2, 75, 0, 3],\n",
        "                     [7, 3, 1, 80, 0, 2],\n",
        "                     [8, 2, 0, 85, 0, 2],\n",
        "                     [9, 1, 1, 90, 1, 1],\n",
        "                     [10,0, 2,100, 1, 0]], columns=['공부', '게임', 'TV', '성적', '합격여부', '등급'])\n",
        "\n",
        "X = data[['공부', '게임', 'TV']]\n"
      ],
      "execution_count": null,
      "outputs": []
    },
    {
      "cell_type": "markdown",
      "metadata": {
        "id": "Wyx6x4fktDiI"
      },
      "source": [
        "# 1.활성함수 (activation)"
      ]
    },
    {
      "cell_type": "markdown",
      "metadata": {
        "id": "23SsMfvaHMRu"
      },
      "source": [
        "```\n",
        "- relu\n",
        "- swish\n",
        "- tanh\n",
        "```"
      ]
    },
    {
      "cell_type": "markdown",
      "metadata": {
        "id": "cKz74UWyHl0J"
      },
      "source": [
        "### relu"
      ]
    },
    {
      "cell_type": "code",
      "metadata": {
        "id": "RlWCnvHiHxAt",
        "colab": {
          "base_uri": "https://localhost:8080/",
          "height": 448
        },
        "outputId": "88bd8700-8bf9-4f86-f8b2-a524b7fe7f96"
      },
      "source": [
        "x = tf.range(-10.0, 10.0)\n",
        "y = layers.Activation('relu')( x )\n",
        "\n",
        "plt.plot(x, y)"
      ],
      "execution_count": null,
      "outputs": [
        {
          "output_type": "execute_result",
          "data": {
            "text/plain": [
              "[<matplotlib.lines.Line2D at 0x7fe343f70e20>]"
            ]
          },
          "metadata": {},
          "execution_count": 3
        },
        {
          "output_type": "display_data",
          "data": {
            "text/plain": [
              "<Figure size 640x480 with 1 Axes>"
            ],
            "image/png": "[encoded data removed]"
          },
          "metadata": {}
        }
      ]
    },
    {
      "cell_type": "code",
      "metadata": {
        "id": "1E6_Hd2JH8lc",
        "colab": {
          "base_uri": "https://localhost:8080/"
        },
        "outputId": "960ef8fb-faff-490c-b4f2-ff897e258011"
      },
      "source": [
        "# tf.print( layers.Activation('relu')(  5.0  ) )\n",
        "# tf.print( layers.Activation('relu')(  0.0  ) )\n",
        "tf.print( layers.Activation('relu')(  -5.0  ) )"
      ],
      "execution_count": null,
      "outputs": [
        {
          "output_type": "stream",
          "name": "stdout",
          "text": [
            "0\n"
          ]
        }
      ]
    },
    {
      "cell_type": "markdown",
      "metadata": {
        "id": "1ibx2kseKlpc"
      },
      "source": [
        "실험"
      ]
    },
    {
      "cell_type": "code",
      "metadata": {
        "id": "0zJkIUslKnM3",
        "colab": {
          "base_uri": "https://localhost:8080/"
        },
        "outputId": "31b2e51c-37b8-40fc-82e6-413bc86143b1"
      },
      "source": [
        "tf.random.set_seed(2)\n",
        "\n",
        "Y = data['성적']\n",
        "\n",
        "model = models.Sequential()\n",
        "model.add(layers.Dense(4))\n",
        "\n",
        "\n",
        "x = tf.constant( [[9, 1, 1]] )\n",
        "z = model.predict( x )\n",
        "z"
      ],
      "execution_count": null,
      "outputs": [
        {
          "output_type": "stream",
          "name": "stdout",
          "text": [
            "1/1 [==============================] - 0s 339ms/step\n"
          ]
        },
        {
          "output_type": "execute_result",
          "data": {
            "text/plain": [
              "array([[-6.1796036, -1.6369209, -9.511881 ,  2.5082433]], dtype=float32)"
            ]
          },
          "metadata": {},
          "execution_count": 5
        }
      ]
    },
    {
      "cell_type": "code",
      "metadata": {
        "id": "VYKKq2meMlER",
        "colab": {
          "base_uri": "https://localhost:8080/"
        },
        "outputId": "ea297e19-11ee-4764-eb58-3169a2547d7f"
      },
      "source": [
        "y = layers.Activation('relu')( z )\n",
        "\n",
        "tf.print( y )"
      ],
      "execution_count": null,
      "outputs": [
        {
          "output_type": "stream",
          "name": "stdout",
          "text": [
            "[[0 0 0 2.50824332]]\n"
          ]
        }
      ]
    },
    {
      "cell_type": "code",
      "metadata": {
        "id": "FSBkMIFxMkxy",
        "colab": {
          "base_uri": "https://localhost:8080/"
        },
        "outputId": "a58fd932-3cc5-46dc-c670-f3bbb28f7bad"
      },
      "source": [
        "tf.random.set_seed(2)\n",
        "\n",
        "Y = data['성적']\n",
        "\n",
        "model = models.Sequential()\n",
        "model.add( layers.Dense(4) )\n",
        "model.add( layers.Activation('relu') )\n",
        "\n",
        "\n",
        "x = tf.constant( [[9, 1, 1]] )\n",
        "z = model.predict( x )\n",
        "z\n"
      ],
      "execution_count": null,
      "outputs": [
        {
          "output_type": "stream",
          "name": "stdout",
          "text": [
            "1/1 [==============================] - 0s 170ms/step\n"
          ]
        },
        {
          "output_type": "execute_result",
          "data": {
            "text/plain": [
              "array([[0.      , 2.687142, 0.      , 0.      ]], dtype=float32)"
            ]
          },
          "metadata": {},
          "execution_count": 7
        }
      ]
    },
    {
      "cell_type": "code",
      "metadata": {
        "id": "D593GQp0Noiy",
        "colab": {
          "base_uri": "https://localhost:8080/"
        },
        "outputId": "26a9a6ab-f8d4-4e9f-853a-9dbbfe893a0c"
      },
      "source": [
        "tf.random.set_seed(2)\n",
        "\n",
        "Y = data['성적']\n",
        "\n",
        "model = models.Sequential()\n",
        "model.add( layers.Dense(4, activation='relu') )\n",
        "\n",
        "\n",
        "x = tf.constant( [[9, 1, 1]] )\n",
        "model.predict( x )\n"
      ],
      "execution_count": null,
      "outputs": [
        {
          "output_type": "stream",
          "name": "stdout",
          "text": [
            "1/1 [==============================] - 0s 149ms/step\n"
          ]
        },
        {
          "output_type": "execute_result",
          "data": {
            "text/plain": [
              "array([[0.       , 0.       , 6.5755877, 4.3772364]], dtype=float32)"
            ]
          },
          "metadata": {},
          "execution_count": 8
        }
      ]
    },
    {
      "cell_type": "markdown",
      "metadata": {
        "id": "dPmPOEs-NkPR"
      },
      "source": [
        "### sigmoid (출력 함수)"
      ]
    },
    {
      "cell_type": "code",
      "metadata": {
        "id": "VXpuLVbHBsPJ",
        "colab": {
          "base_uri": "https://localhost:8080/",
          "height": 448
        },
        "outputId": "308f28d2-37c3-40e3-8116-395435d81fb1"
      },
      "source": [
        "x = tf.range(-10.0, 10.0)\n",
        "y = layers.Activation('sigmoid')( x )\n",
        "\n",
        "plt.plot(x, y)"
      ],
      "execution_count": null,
      "outputs": [
        {
          "output_type": "execute_result",
          "data": {
            "text/plain": [
              "[<matplotlib.lines.Line2D at 0x7fe34031c430>]"
            ]
          },
          "metadata": {},
          "execution_count": 9
        },
        {
          "output_type": "display_data",
          "data": {
            "text/plain": [
              "<Figure size 640x480 with 1 Axes>"
            ],
            "image/png": "[encoded data removed]"
          },
          "metadata": {}
        }
      ]
    },
    {
      "cell_type": "code",
      "metadata": {
        "id": "EkVC4CKbNzUT",
        "colab": {
          "base_uri": "https://localhost:8080/"
        },
        "outputId": "17c07110-c791-47ce-f009-6227d946e81e"
      },
      "source": [
        "tf.print( layers.Activation('sigmoid')(  5.0  ) )\n",
        "tf.print( layers.Activation('sigmoid')(  0.0  ) )\n",
        "tf.print( layers.Activation('sigmoid')(  -5.0  ) )"
      ],
      "execution_count": null,
      "outputs": [
        {
          "output_type": "stream",
          "name": "stdout",
          "text": [
            "0.993307173\n",
            "0.5\n",
            "0.00669285096\n"
          ]
        }
      ]
    },
    {
      "cell_type": "markdown",
      "metadata": {
        "id": "jD9WNO0DOFo2"
      },
      "source": [
        "실험"
      ]
    },
    {
      "cell_type": "code",
      "metadata": {
        "id": "IMuvlYmuOCXd",
        "colab": {
          "base_uri": "https://localhost:8080/"
        },
        "outputId": "13e96cf8-5252-4851-c7a9-f52c08231c97"
      },
      "source": [
        "tf.random.set_seed(2)\n",
        "\n",
        "Y = data['성적']\n",
        "\n",
        "model = models.Sequential()\n",
        "model.add(layers.Dense(1))\n",
        "\n",
        "\n",
        "x = tf.constant( [[9, 1, 1]] )\n",
        "z = model.predict( x )\n",
        "z"
      ],
      "execution_count": null,
      "outputs": [
        {
          "output_type": "stream",
          "name": "stdout",
          "text": [
            "1/1 [==============================] - 0s 492ms/step\n"
          ]
        },
        {
          "output_type": "execute_result",
          "data": {
            "text/plain": [
              "array([[-8.3691435]], dtype=float32)"
            ]
          },
          "metadata": {},
          "execution_count": 11
        }
      ]
    },
    {
      "cell_type": "code",
      "metadata": {
        "id": "5dr6VJeLOQUr",
        "colab": {
          "base_uri": "https://localhost:8080/"
        },
        "outputId": "ac489687-8e3e-424b-e676-3e50589deb74"
      },
      "source": [
        "y = layers.Activation('sigmoid')( z )\n",
        "tf.print(y)"
      ],
      "execution_count": null,
      "outputs": [
        {
          "output_type": "stream",
          "name": "stdout",
          "text": [
            "[[0.000231860351]]\n"
          ]
        }
      ]
    },
    {
      "cell_type": "code",
      "metadata": {
        "id": "s7ms28OQO73h",
        "colab": {
          "base_uri": "https://localhost:8080/"
        },
        "outputId": "2eb5f6e4-247d-42b2-f927-9c0bd06215b0"
      },
      "source": [
        "tf.random.set_seed(2)\n",
        "\n",
        "Y = data['성적']\n",
        "\n",
        "model = models.Sequential()\n",
        "model.add(layers.Dense(1))\n",
        "model.add(layers.Activation('sigmoid'))\n",
        "\n",
        "\n",
        "x = tf.constant( [[9, 1, 1]] )\n",
        "z = model.predict( x )\n",
        "z\n"
      ],
      "execution_count": null,
      "outputs": [
        {
          "output_type": "stream",
          "name": "stderr",
          "text": [
            "WARNING:tensorflow:5 out of the last 5 calls to <function Model.make_predict_function.<locals>.predict_function at 0x7fe34031a320> triggered tf.function retracing. Tracing is expensive and the excessive number of tracings could be due to (1) creating @tf.function repeatedly in a loop, (2) passing tensors with different shapes, (3) passing Python objects instead of tensors. For (1), please define your @tf.function outside of the loop. For (2), @tf.function has reduce_retracing=True option that can avoid unnecessary retracing. For (3), please refer to https://www.tensorflow.org/guide/function#controlling_retracing and https://www.tensorflow.org/api_docs/python/tf/function for  more details.\n"
          ]
        },
        {
          "output_type": "stream",
          "name": "stdout",
          "text": [
            "1/1 [==============================] - 0s 188ms/step\n"
          ]
        },
        {
          "output_type": "execute_result",
          "data": {
            "text/plain": [
              "array([[0.99401593]], dtype=float32)"
            ]
          },
          "metadata": {},
          "execution_count": 13
        }
      ]
    },
    {
      "cell_type": "markdown",
      "metadata": {
        "id": "PdOtVBBXHhDS"
      },
      "source": [
        "```\n",
        "- sigmoid\n",
        "- softmax\n",
        "```"
      ]
    },
    {
      "cell_type": "markdown",
      "metadata": {
        "id": "LkZ4eR2YPXnE"
      },
      "source": [
        "### softmax (출력 함수)"
      ]
    },
    {
      "cell_type": "code",
      "metadata": {
        "id": "ZHSwdmHePZM8",
        "colab": {
          "base_uri": "https://localhost:8080/"
        },
        "outputId": "97ba8d37-ccba-4276-da2a-51bbd0ab5dca"
      },
      "source": [
        "x = tf.constant( [[8.0, 2.0, 1.0, 0.0],\n",
        "                  [3.0, 5.0, 2.0, 0.0]] )\n",
        "\n",
        "y = layers.Activation('softmax')(x)\n",
        "\n",
        "tf.print( y )"
      ],
      "execution_count": null,
      "outputs": [
        {
          "output_type": "stream",
          "name": "stdout",
          "text": [
            "[[0.996287823 0.00246955082 0.000908496906 0.00033421733]\n",
            " [0.113549612 0.839024484 0.0417725705 0.00565330265]]\n"
          ]
        }
      ]
    },
    {
      "cell_type": "code",
      "metadata": {
        "id": "18dbsu4PSJLF",
        "colab": {
          "base_uri": "https://localhost:8080/"
        },
        "outputId": "bf2fe986-12a8-4be5-b581-8d80040c5682"
      },
      "source": [
        "tf.random.set_seed(2)\n",
        "\n",
        "Y = data['성적']\n",
        "\n",
        "model = models.Sequential()\n",
        "model.add(layers.Dense(4))\n",
        "\n",
        "\n",
        "x = tf.constant( [[9, 1, 1]] )\n",
        "z = model.predict( x )\n",
        "z\n"
      ],
      "execution_count": null,
      "outputs": [
        {
          "output_type": "stream",
          "name": "stderr",
          "text": [
            "WARNING:tensorflow:6 out of the last 6 calls to <function Model.make_predict_function.<locals>.predict_function at 0x7fe34031acb0> triggered tf.function retracing. Tracing is expensive and the excessive number of tracings could be due to (1) creating @tf.function repeatedly in a loop, (2) passing tensors with different shapes, (3) passing Python objects instead of tensors. For (1), please define your @tf.function outside of the loop. For (2), @tf.function has reduce_retracing=True option that can avoid unnecessary retracing. For (3), please refer to https://www.tensorflow.org/guide/function#controlling_retracing and https://www.tensorflow.org/api_docs/python/tf/function for  more details.\n"
          ]
        },
        {
          "output_type": "stream",
          "name": "stdout",
          "text": [
            "1/1 [==============================] - 0s 97ms/step\n"
          ]
        },
        {
          "output_type": "execute_result",
          "data": {
            "text/plain": [
              "array([[-3.1069846,  4.441734 ,  8.011556 , -8.041282 ]], dtype=float32)"
            ]
          },
          "metadata": {},
          "execution_count": 15
        }
      ]
    },
    {
      "cell_type": "code",
      "metadata": {
        "id": "o6Jfez0jST9R",
        "colab": {
          "base_uri": "https://localhost:8080/"
        },
        "outputId": "768ccc92-fd6a-4c7a-8f53-ed535a3cadfb"
      },
      "source": [
        "y = layers.Activation('softmax')(z)\n",
        "tf.print( y )"
      ],
      "execution_count": null,
      "outputs": [
        {
          "output_type": "stream",
          "name": "stdout",
          "text": [
            "[[1.44281985e-05 0.0273891576 0.972596288 1.03818302e-07]]\n"
          ]
        }
      ]
    },
    {
      "cell_type": "code",
      "metadata": {
        "id": "X2kzm6CKSZlC",
        "colab": {
          "base_uri": "https://localhost:8080/"
        },
        "outputId": "96864a16-8b49-4839-b1ee-e2079fb7b5e0"
      },
      "source": [
        "tf.random.set_seed(2)\n",
        "\n",
        "Y = data['성적']\n",
        "\n",
        "model = models.Sequential()\n",
        "model.add(layers.Dense(4))\n",
        "model.add(layers.Activation('softmax'))\n",
        "\n",
        "\n",
        "x = tf.constant( [[9, 1, 1]] )\n",
        "z = model.predict( x )\n",
        "z\n"
      ],
      "execution_count": null,
      "outputs": [
        {
          "output_type": "stream",
          "name": "stdout",
          "text": [
            "1/1 [==============================] - 0s 88ms/step\n"
          ]
        },
        {
          "output_type": "execute_result",
          "data": {
            "text/plain": [
              "array([[9.9977642e-01, 1.5202709e-04, 7.1235518e-05, 2.4440220e-07]],\n",
              "      dtype=float32)"
            ]
          },
          "metadata": {},
          "execution_count": 17
        }
      ]
    },
    {
      "cell_type": "code",
      "source": [
        "np.argmax(z)"
      ],
      "metadata": {
        "id": "oz5rtgsiFozj",
        "colab": {
          "base_uri": "https://localhost:8080/"
        },
        "outputId": "8e4d1c24-5937-4ce3-9cce-fabe2344f506"
      },
      "execution_count": null,
      "outputs": [
        {
          "output_type": "execute_result",
          "data": {
            "text/plain": [
              "0"
            ]
          },
          "metadata": {},
          "execution_count": 18
        }
      ]
    },
    {
      "cell_type": "markdown",
      "metadata": {
        "id": "BS-BTdn9Bplj"
      },
      "source": [
        "# 2.손실함수 (loss)"
      ]
    },
    {
      "cell_type": "markdown",
      "metadata": {
        "id": "jq7vygVXTDDX"
      },
      "source": [
        "### MSE (mean squared error)"
      ]
    },
    {
      "cell_type": "code",
      "metadata": {
        "id": "qjgnkWa1UwG9",
        "colab": {
          "base_uri": "https://localhost:8080/"
        },
        "outputId": "d0b3384b-405f-4e8e-935b-d3dc2095364f"
      },
      "source": [
        "y_true = [[10]]\n",
        "y_pred = [[20]]\n",
        "\n",
        "mse = tf.keras.losses.MeanSquaredError()\n",
        "loss = mse(y_true, y_pred)\n",
        "\n",
        "tf.print('Loss: ', loss) \n"
      ],
      "execution_count": null,
      "outputs": [
        {
          "output_type": "stream",
          "name": "stdout",
          "text": [
            "Loss:  100\n"
          ]
        }
      ]
    },
    {
      "cell_type": "code",
      "metadata": {
        "id": "W-qy_LEATIIH",
        "colab": {
          "base_uri": "https://localhost:8080/"
        },
        "outputId": "d5fdcb81-0f49-4f1f-8f55-f8163ad3fa3a"
      },
      "source": [
        "tf.random.set_seed(2)\n",
        "\n",
        "Y = data['성적']\n",
        "\n",
        "model = models.Sequential()\n",
        "model.add(layers.Dense(1))\n",
        "\n",
        "\n",
        "x = tf.constant( [[9, 1, 1]] )\n",
        "z = model.predict( x )\n",
        "z"
      ],
      "execution_count": null,
      "outputs": [
        {
          "output_type": "stream",
          "name": "stdout",
          "text": [
            "1/1 [==============================] - 0s 81ms/step\n"
          ]
        },
        {
          "output_type": "execute_result",
          "data": {
            "text/plain": [
              "array([[-2.474431]], dtype=float32)"
            ]
          },
          "metadata": {},
          "execution_count": 20
        }
      ]
    },
    {
      "cell_type": "code",
      "metadata": {
        "id": "t2H33u7GWNl2",
        "colab": {
          "base_uri": "https://localhost:8080/"
        },
        "outputId": "5e761b65-3a08-47a1-b987-301e91a6da4e"
      },
      "source": [
        "mse = tf.keras.losses.MeanSquaredError()\n",
        "loss = mse([-8.545588], [85.0])   # 소수로 변경\n",
        "tf.print('Loss: ', loss) \n"
      ],
      "execution_count": null,
      "outputs": [
        {
          "output_type": "stream",
          "name": "stdout",
          "text": [
            "Loss:  8750.77637\n"
          ]
        }
      ]
    },
    {
      "cell_type": "code",
      "metadata": {
        "id": "SZIjU9MnVhkT",
        "colab": {
          "base_uri": "https://localhost:8080/"
        },
        "outputId": "27b04b2c-6887-4606-d444-0b3eded11a46"
      },
      "source": [
        "tf.random.set_seed(2)\n",
        "\n",
        "x = tf.constant( [[9, 1, 1]] )\n",
        "y = tf.constant( [85] )\n",
        "\n",
        "model = models.Sequential()\n",
        "model.add(layers.Dense(1))\n",
        "\n",
        "model.compile(loss='mse', optimizer='adam')\n",
        "model.fit(x, y)"
      ],
      "execution_count": null,
      "outputs": [
        {
          "output_type": "stream",
          "name": "stdout",
          "text": [
            "1/1 [==============================] - 1s 508ms/step - loss: 6549.5400\n"
          ]
        },
        {
          "output_type": "execute_result",
          "data": {
            "text/plain": [
              "<keras.callbacks.History at 0x7fe3403e6110>"
            ]
          },
          "metadata": {},
          "execution_count": 22
        }
      ]
    },
    {
      "cell_type": "markdown",
      "metadata": {
        "id": "Wr8UIepAXieP"
      },
      "source": [
        "에폭(epoch, 반복학습) 이해하기"
      ]
    },
    {
      "cell_type": "code",
      "metadata": {
        "id": "RAnI4r_oWmTs"
      },
      "source": [
        "# 1000번 epoch\n",
        "for i in range(0,10):   \n",
        "  model.fit(x, y, verbose=0)\n"
      ],
      "execution_count": null,
      "outputs": []
    },
    {
      "cell_type": "code",
      "metadata": {
        "id": "yZJ_ykpDXGER",
        "colab": {
          "base_uri": "https://localhost:8080/"
        },
        "outputId": "11dfdcb0-5c1e-4f99-b18f-4e361b298c5e"
      },
      "source": [
        "tf.random.set_seed(2)\n",
        "\n",
        "x = tf.constant( [[9, 1, 1]] )\n",
        "y = tf.constant( [85] )\n",
        "\n",
        "model = models.Sequential()\n",
        "model.add(layers.Dense(1))\n",
        "\n",
        "model.compile(loss='mse', optimizer='adam')\n",
        "model.fit(x, y, epochs=12, verbose=1)"
      ],
      "execution_count": null,
      "outputs": [
        {
          "output_type": "stream",
          "name": "stdout",
          "text": [
            "Epoch 1/12\n",
            "1/1 [==============================] - 1s 592ms/step - loss: 7668.4819\n",
            "Epoch 2/12\n",
            "1/1 [==============================] - 0s 12ms/step - loss: 7666.3804\n",
            "Epoch 3/12\n",
            "1/1 [==============================] - 0s 13ms/step - loss: 7664.2788\n",
            "Epoch 4/12\n",
            "1/1 [==============================] - 0s 11ms/step - loss: 7662.1777\n",
            "Epoch 5/12\n",
            "1/1 [==============================] - 0s 9ms/step - loss: 7660.0771\n",
            "Epoch 6/12\n",
            "1/1 [==============================] - 0s 10ms/step - loss: 7657.9766\n",
            "Epoch 7/12\n",
            "1/1 [==============================] - 0s 10ms/step - loss: 7655.8774\n",
            "Epoch 8/12\n",
            "1/1 [==============================] - 0s 10ms/step - loss: 7653.7773\n",
            "Epoch 9/12\n",
            "1/1 [==============================] - 0s 9ms/step - loss: 7651.6777\n",
            "Epoch 10/12\n",
            "1/1 [==============================] - 0s 9ms/step - loss: 7649.5786\n",
            "Epoch 11/12\n",
            "1/1 [==============================] - 0s 9ms/step - loss: 7647.4805\n",
            "Epoch 12/12\n",
            "1/1 [==============================] - 0s 9ms/step - loss: 7645.3818\n"
          ]
        },
        {
          "output_type": "execute_result",
          "data": {
            "text/plain": [
              "<keras.callbacks.History at 0x7fe34121b790>"
            ]
          },
          "metadata": {},
          "execution_count": 24
        }
      ]
    },
    {
      "cell_type": "markdown",
      "metadata": {
        "id": "B1yQ3hOyzGg4"
      },
      "source": [
        "### Cross Entropy"
      ]
    },
    {
      "cell_type": "markdown",
      "metadata": {
        "id": "ukgbRebQiiFL"
      },
      "source": [
        "- 크로스 엔트로피는두 확률 분포의 차이를 구하기 위해서 사용된다.\n",
        "- 딥러닝에서는 실제 데이터의 확률 분포와, 학습된 모델이 계산한 확률 분포의 차이를 구하는데 사용된다.\n",
        "- 실제 확률분포는 원핫 인코딩으로 표현된다."
      ]
    },
    {
      "cell_type": "markdown",
      "metadata": {
        "id": "DXzoSiLmoKeT"
      },
      "source": [
        "정답"
      ]
    },
    {
      "cell_type": "markdown",
      "metadata": {
        "id": "Ki5T9SSXi6ny"
      },
      "source": [
        "```\n",
        "Pr(Class A)  Pr(Class B)  Pr(Class C)\n",
        "        1.0          0.0          0.0\n",
        "```"
      ]
    },
    {
      "cell_type": "markdown",
      "metadata": {
        "id": "7A3ttOXroNTm"
      },
      "source": [
        "머신 예측 확률"
      ]
    },
    {
      "cell_type": "markdown",
      "metadata": {
        "id": "RDf58J8-i8ax"
      },
      "source": [
        "```\n",
        "Pr(Class A)  Pr(Class B)  Pr(Class C)\n",
        "      0.800        0.100        0.100\n",
        "```"
      ]
    },
    {
      "cell_type": "markdown",
      "metadata": {
        "id": "3zSLjo6HjLbi"
      },
      "source": [
        "이 둘의 차이를 구하기 위해서 크로스 엔트로피를 쓰는데 계산식은 다음과 같다.\n",
        "\n",
        "<img src=\"https://i.stack.imgur.com/gNip2.png\" width=\"400px\" />"
      ]
    },
    {
      "cell_type": "markdown",
      "metadata": {
        "id": "zafPhCOtjZkS"
      },
      "source": [
        "```\n",
        "H = - (1.0*ln(0.800) + 0.0*ln(0.100) + 0.0*ln(0.100)) = 0.479\n",
        "```"
      ]
    },
    {
      "cell_type": "markdown",
      "metadata": {
        "id": "YFSPFFs5DYa9"
      },
      "source": [
        "```\n",
        "H = - ln(0.800) = 0.479\n",
        "```"
      ]
    },
    {
      "cell_type": "markdown",
      "metadata": {
        "id": "oJ85DTo7kT4b"
      },
      "source": [
        "<img src=\"https://portal.tpu.ru/SHARED/k/KONVAL/Sites/English_sites/Site3_M/img/log-exp1.png\" width=\"200px\" />\n",
        "<img src=\"https://ljvmiranda921.github.io/assets/png/cs231n-ann/neg_log.png\" width=\"400px\" />"
      ]
    },
    {
      "cell_type": "markdown",
      "source": [
        "이렇게 계산된 값을 loss 값으로 사용하고, 이 loss 값을 줄이는 방향으로 학습모델을 training 한다."
      ],
      "metadata": {
        "id": "k43A3upxrQ97"
      }
    },
    {
      "cell_type": "code",
      "metadata": {
        "id": "KRgn9f5YzJkJ",
        "colab": {
          "base_uri": "https://localhost:8080/"
        },
        "outputId": "f9bf8279-d294-433c-839d-8e9adb6e53a4"
      },
      "source": [
        "y_true = [[0, 1, 0],]\n",
        "y_pred = [[0.05, 0.95, 0], ]\n",
        "\n",
        "\n",
        "cce = tf.keras.losses.CategoricalCrossentropy()\n",
        "cce(y_true, y_pred).numpy()"
      ],
      "execution_count": null,
      "outputs": [
        {
          "output_type": "execute_result",
          "data": {
            "text/plain": [
              "0.051293306"
            ]
          },
          "metadata": {},
          "execution_count": 25
        }
      ]
    },
    {
      "cell_type": "code",
      "source": [
        "-np.log(0.95)"
      ],
      "metadata": {
        "colab": {
          "base_uri": "https://localhost:8080/"
        },
        "id": "yEGPXbFNSnEe",
        "outputId": "53abf63b-adc9-4dda-98ed-f7a73a339ef2"
      },
      "execution_count": null,
      "outputs": [
        {
          "output_type": "execute_result",
          "data": {
            "text/plain": [
              "0.05129329438755058"
            ]
          },
          "metadata": {},
          "execution_count": 26
        }
      ]
    },
    {
      "cell_type": "markdown",
      "metadata": {
        "id": "BDLJtVTC12Do"
      },
      "source": [
        "<img src=\"https://i.imgur.com/1KzycmW.png\" width=\"600px\" />"
      ]
    },
    {
      "cell_type": "code",
      "metadata": {
        "id": "bs9vpazt0w24",
        "colab": {
          "base_uri": "https://localhost:8080/"
        },
        "outputId": "4b2e19ab-247c-48fb-ed2b-1503aec98fe3"
      },
      "source": [
        "tf.random.set_seed(2)\n",
        "\n",
        "x = tf.constant( [[9, 1, 1]] )\n",
        "y = tf.constant( [1] )\n",
        "\n",
        "\n",
        "model = models.Sequential()\n",
        "model.add(layers.Dense(4, activation='softmax'))\n",
        "\n",
        "\n",
        "x = tf.constant( [[9, 1, 1]] )\n",
        "z = model.predict( x )\n",
        "z"
      ],
      "execution_count": null,
      "outputs": [
        {
          "output_type": "stream",
          "name": "stdout",
          "text": [
            "1/1 [==============================] - 0s 96ms/step\n"
          ]
        },
        {
          "output_type": "execute_result",
          "data": {
            "text/plain": [
              "array([[0.00318611, 0.0455032 , 0.928005  , 0.02330572]], dtype=float32)"
            ]
          },
          "metadata": {},
          "execution_count": 27
        }
      ]
    },
    {
      "cell_type": "code",
      "metadata": {
        "id": "a5k_Dmxd1wMJ",
        "colab": {
          "base_uri": "https://localhost:8080/"
        },
        "outputId": "a47d87ef-22db-45b1-9ba1-6581c462d22e"
      },
      "source": [
        "y_true = [[0, 1, 0, 0],]\n",
        "y_pred = [[1.5621261e-03, 1.8312974e-02, 9.7937793e-01, 7.4698235e-04]]\n",
        "\n",
        "\n",
        "cce = tf.keras.losses.CategoricalCrossentropy()\n",
        "cce(y_true, y_pred).numpy()\n",
        "\n"
      ],
      "execution_count": null,
      "outputs": [
        {
          "output_type": "execute_result",
          "data": {
            "text/plain": [
              "4.0001454"
            ]
          },
          "metadata": {},
          "execution_count": 28
        }
      ]
    },
    {
      "cell_type": "code",
      "source": [
        "-np.log(1.8312974e-02)"
      ],
      "metadata": {
        "id": "3I-vs2WiG_6D",
        "colab": {
          "base_uri": "https://localhost:8080/"
        },
        "outputId": "fab008de-6289-4558-d7a6-0e3bacc7ae18"
      },
      "execution_count": null,
      "outputs": [
        {
          "output_type": "execute_result",
          "data": {
            "text/plain": [
              "4.000145508580791"
            ]
          },
          "metadata": {},
          "execution_count": 29
        }
      ]
    },
    {
      "cell_type": "code",
      "source": [
        "x = tf.range(0.1, 1.0, 0.01)\n",
        "y = -np.log(x)\n",
        "plt.plot(x, y)\n",
        "plt.show()"
      ],
      "metadata": {
        "id": "TF2nQtcaHNds",
        "colab": {
          "base_uri": "https://localhost:8080/",
          "height": 430
        },
        "outputId": "8f10abff-e750-4885-9fbc-fad6e2b8a959"
      },
      "execution_count": null,
      "outputs": [
        {
          "output_type": "display_data",
          "data": {
            "text/plain": [
              "<Figure size 640x480 with 1 Axes>"
            ],
            "image/png": "[encoded data removed]"
          },
          "metadata": {}
        }
      ]
    },
    {
      "cell_type": "code",
      "metadata": {
        "id": "gotwsAaS1AAw"
      },
      "source": [],
      "execution_count": null,
      "outputs": []
    }
  ]
}