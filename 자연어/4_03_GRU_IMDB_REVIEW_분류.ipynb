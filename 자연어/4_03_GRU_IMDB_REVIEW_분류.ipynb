{
  "nbformat": 4,
  "nbformat_minor": 0,
  "metadata": {
    "colab": {
      "provenance": [],
      "gpuType": "T4"
    },
    "kernelspec": {
      "name": "python3",
      "display_name": "Python 3"
    },
    "language_info": {
      "name": "python"
    },
    "accelerator": "GPU",
    "gpuClass": "standard"
  },
  "cells": [
    {
      "cell_type": "markdown",
      "source": [
        "1. 데이터 로드 및 단어 토큰화 "
      ],
      "metadata": {
        "id": "pUwSe-OUEGhC"
      }
    },
    {
      "cell_type": "code",
      "execution_count": null,
      "metadata": {
        "id": "2n7APbWPD4Dk"
      },
      "outputs": [],
      "source": [
        "import numpy as np \n",
        "import pandas as pd \n",
        "import matplotlib.pyplot as plt \n",
        "\n",
        "import nltk \n",
        "import torch \n",
        "import urllib.request \n",
        "\n",
        "from tqdm import tqdm \n",
        "from collections import Counter \n",
        "from nltk.tokenize import word_tokenize \n",
        "from sklearn.model_selection import train_test_split "
      ]
    },
    {
      "cell_type": "code",
      "source": [
        "nltk.download('punkt')"
      ],
      "metadata": {
        "colab": {
          "base_uri": "https://localhost:8080/"
        },
        "id": "R5D231TeEjLl",
        "outputId": "22526e68-51de-4e42-aee8-51c47813de45"
      },
      "execution_count": null,
      "outputs": [
        {
          "output_type": "stream",
          "name": "stderr",
          "text": [
            "[nltk_data] Downloading package punkt to /root/nltk_data...\n",
            "[nltk_data]   Unzipping tokenizers/punkt.zip.\n"
          ]
        },
        {
          "output_type": "execute_result",
          "data": {
            "text/plain": [
              "True"
            ]
          },
          "metadata": {},
          "execution_count": 2
        }
      ]
    },
    {
      "cell_type": "code",
      "source": [
        "path = '/content/drive/MyDrive/data/IMDB Dataset.csv'"
      ],
      "metadata": {
        "id": "nI4xYOV-EjUP"
      },
      "execution_count": null,
      "outputs": []
    },
    {
      "cell_type": "code",
      "source": [
        "df = pd.read_csv(path)\n",
        "df[:10]"
      ],
      "metadata": {
        "colab": {
          "base_uri": "https://localhost:8080/",
          "height": 363
        },
        "id": "iW8_PnIBFDxI",
        "outputId": "2ba9f018-28f9-42ab-e07d-7ded736a36bd"
      },
      "execution_count": null,
      "outputs": [
        {
          "output_type": "execute_result",
          "data": {
            "text/plain": [
              "                                              review sentiment\n",
              "0  One of the other reviewers has mentioned that ...  positive\n",
              "1  A wonderful little production. <br /><br />The...  positive\n",
              "2  I thought this was a wonderful way to spend ti...  positive\n",
              "3  Basically there's a family where a little boy ...  negative\n",
              "4  Petter Mattei's \"Love in the Time of Money\" is...  positive\n",
              "5  Probably my all-time favorite movie, a story o...  positive\n",
              "6  I sure would like to see a resurrection of a u...  positive\n",
              "7  This show was an amazing, fresh & innovative i...  negative\n",
              "8  Encouraged by the positive comments about this...  negative\n",
              "9  If you like original gut wrenching laughter yo...  positive"
            ],
            "text/html": [
              "\n",
              "  <div id=\"df-0f143ef3-a34c-4041-a2bf-a8b36f7b2592\">\n",
              "    <div class=\"colab-df-container\">\n",
              "      <div>\n",
              "<style scoped>\n",
              "    .dataframe tbody tr th:only-of-type {\n",
              "        vertical-align: middle;\n",
              "    }\n",
              "\n",
              "    .dataframe tbody tr th {\n",
              "        vertical-align: top;\n",
              "    }\n",
              "\n",
              "    .dataframe thead th {\n",
              "        text-align: right;\n",
              "    }\n",
              "</style>\n",
              "<table border=\"1\" class=\"dataframe\">\n",
              "  <thead>\n",
              "    <tr style=\"text-align: right;\">\n",
              "      <th></th>\n",
              "      <th>review</th>\n",
              "      <th>sentiment</th>\n",
              "    </tr>\n",
              "  </thead>\n",
              "  <tbody>\n",
              "    <tr>\n",
              "      <th>0</th>\n",
              "      <td>One of the other reviewers has mentioned that ...</td>\n",
              "      <td>positive</td>\n",
              "    </tr>\n",
              "    <tr>\n",
              "      <th>1</th>\n",
              "      <td>A wonderful little production. &lt;br /&gt;&lt;br /&gt;The...</td>\n",
              "      <td>positive</td>\n",
              "    </tr>\n",
              "    <tr>\n",
              "      <th>2</th>\n",
              "      <td>I thought this was a wonderful way to spend ti...</td>\n",
              "      <td>positive</td>\n",
              "    </tr>\n",
              "    <tr>\n",
              "      <th>3</th>\n",
              "      <td>Basically there's a family where a little boy ...</td>\n",
              "      <td>negative</td>\n",
              "    </tr>\n",
              "    <tr>\n",
              "      <th>4</th>\n",
              "      <td>Petter Mattei's \"Love in the Time of Money\" is...</td>\n",
              "      <td>positive</td>\n",
              "    </tr>\n",
              "    <tr>\n",
              "      <th>5</th>\n",
              "      <td>Probably my all-time favorite movie, a story o...</td>\n",
              "      <td>positive</td>\n",
              "    </tr>\n",
              "    <tr>\n",
              "      <th>6</th>\n",
              "      <td>I sure would like to see a resurrection of a u...</td>\n",
              "      <td>positive</td>\n",
              "    </tr>\n",
              "    <tr>\n",
              "      <th>7</th>\n",
              "      <td>This show was an amazing, fresh &amp; innovative i...</td>\n",
              "      <td>negative</td>\n",
              "    </tr>\n",
              "    <tr>\n",
              "      <th>8</th>\n",
              "      <td>Encouraged by the positive comments about this...</td>\n",
              "      <td>negative</td>\n",
              "    </tr>\n",
              "    <tr>\n",
              "      <th>9</th>\n",
              "      <td>If you like original gut wrenching laughter yo...</td>\n",
              "      <td>positive</td>\n",
              "    </tr>\n",
              "  </tbody>\n",
              "</table>\n",
              "</div>\n",
              "      <button class=\"colab-df-convert\" onclick=\"convertToInteractive('df-0f143ef3-a34c-4041-a2bf-a8b36f7b2592')\"\n",
              "              title=\"Convert this dataframe to an interactive table.\"\n",
              "              style=\"display:none;\">\n",
              "        \n",
              "  <svg xmlns=\"http://www.w3.org/2000/svg\" height=\"24px\"viewBox=\"0 0 24 24\"\n",
              "       width=\"24px\">\n",
              "    <path d=\"M0 0h24v24H0V0z\" fill=\"none\"/>\n",
              "    <path d=\"M18.56 5.44l.94 2.06.94-2.06 2.06-.94-2.06-.94-.94-2.06-.94 2.06-2.06.94zm-11 1L8.5 8.5l.94-2.06 2.06-.94-2.06-.94L8.5 2.5l-.94 2.06-2.06.94zm10 10l.94 2.06.94-2.06 2.06-.94-2.06-.94-.94-2.06-.94 2.06-2.06.94z\"/><path d=\"M17.41 7.96l-1.37-1.37c-.4-.4-.92-.59-1.43-.59-.52 0-1.04.2-1.43.59L10.3 9.45l-7.72 7.72c-.78.78-.78 2.05 0 2.83L4 21.41c.39.39.9.59 1.41.59.51 0 1.02-.2 1.41-.59l7.78-7.78 2.81-2.81c.8-.78.8-2.07 0-2.86zM5.41 20L4 18.59l7.72-7.72 1.47 1.35L5.41 20z\"/>\n",
              "  </svg>\n",
              "      </button>\n",
              "      \n",
              "  <style>\n",
              "    .colab-df-container {\n",
              "      display:flex;\n",
              "      flex-wrap:wrap;\n",
              "      gap: 12px;\n",
              "    }\n",
              "\n",
              "    .colab-df-convert {\n",
              "      background-color: #E8F0FE;\n",
              "      border: none;\n",
              "      border-radius: 50%;\n",
              "      cursor: pointer;\n",
              "      display: none;\n",
              "      fill: #1967D2;\n",
              "      height: 32px;\n",
              "      padding: 0 0 0 0;\n",
              "      width: 32px;\n",
              "    }\n",
              "\n",
              "    .colab-df-convert:hover {\n",
              "      background-color: #E2EBFA;\n",
              "      box-shadow: 0px 1px 2px rgba(60, 64, 67, 0.3), 0px 1px 3px 1px rgba(60, 64, 67, 0.15);\n",
              "      fill: #174EA6;\n",
              "    }\n",
              "\n",
              "    [theme=dark] .colab-df-convert {\n",
              "      background-color: #3B4455;\n",
              "      fill: #D2E3FC;\n",
              "    }\n",
              "\n",
              "    [theme=dark] .colab-df-convert:hover {\n",
              "      background-color: #434B5C;\n",
              "      box-shadow: 0px 1px 3px 1px rgba(0, 0, 0, 0.15);\n",
              "      filter: drop-shadow(0px 1px 2px rgba(0, 0, 0, 0.3));\n",
              "      fill: #FFFFFF;\n",
              "    }\n",
              "  </style>\n",
              "\n",
              "      <script>\n",
              "        const buttonEl =\n",
              "          document.querySelector('#df-0f143ef3-a34c-4041-a2bf-a8b36f7b2592 button.colab-df-convert');\n",
              "        buttonEl.style.display =\n",
              "          google.colab.kernel.accessAllowed ? 'block' : 'none';\n",
              "\n",
              "        async function convertToInteractive(key) {\n",
              "          const element = document.querySelector('#df-0f143ef3-a34c-4041-a2bf-a8b36f7b2592');\n",
              "          const dataTable =\n",
              "            await google.colab.kernel.invokeFunction('convertToInteractive',\n",
              "                                                     [key], {});\n",
              "          if (!dataTable) return;\n",
              "\n",
              "          const docLinkHtml = 'Like what you see? Visit the ' +\n",
              "            '<a target=\"_blank\" href=https://colab.research.google.com/notebooks/data_table.ipynb>data table notebook</a>'\n",
              "            + ' to learn more about interactive tables.';\n",
              "          element.innerHTML = '';\n",
              "          dataTable['output_type'] = 'display_data';\n",
              "          await google.colab.output.renderOutput(dataTable, element);\n",
              "          const docLink = document.createElement('div');\n",
              "          docLink.innerHTML = docLinkHtml;\n",
              "          element.appendChild(docLink);\n",
              "        }\n",
              "      </script>\n",
              "    </div>\n",
              "  </div>\n",
              "  "
            ]
          },
          "metadata": {},
          "execution_count": 4
        }
      ]
    },
    {
      "cell_type": "code",
      "source": [
        "df.info()"
      ],
      "metadata": {
        "colab": {
          "base_uri": "https://localhost:8080/"
        },
        "id": "TzMXXhvnFDzo",
        "outputId": "a1271efa-4d74-41dc-97a0-b7d6177f214f"
      },
      "execution_count": null,
      "outputs": [
        {
          "output_type": "stream",
          "name": "stdout",
          "text": [
            "<class 'pandas.core.frame.DataFrame'>\n",
            "RangeIndex: 50000 entries, 0 to 49999\n",
            "Data columns (total 2 columns):\n",
            " #   Column     Non-Null Count  Dtype \n",
            "---  ------     --------------  ----- \n",
            " 0   review     50000 non-null  object\n",
            " 1   sentiment  50000 non-null  object\n",
            "dtypes: object(2)\n",
            "memory usage: 781.4+ KB\n"
          ]
        }
      ]
    },
    {
      "cell_type": "code",
      "source": [
        "# 결측값 여부 확인 \n",
        "df.isnull()\n",
        "df.isnull().values.any()"
      ],
      "metadata": {
        "colab": {
          "base_uri": "https://localhost:8080/"
        },
        "id": "XuWNkA_IFNgX",
        "outputId": "593b80bd-5757-4c02-b0bb-8b42598774cc"
      },
      "execution_count": null,
      "outputs": [
        {
          "output_type": "execute_result",
          "data": {
            "text/plain": [
              "False"
            ]
          },
          "metadata": {},
          "execution_count": 6
        }
      ]
    },
    {
      "cell_type": "code",
      "source": [
        "df['sentiment'].value_counts()"
      ],
      "metadata": {
        "colab": {
          "base_uri": "https://localhost:8080/"
        },
        "id": "vaQ_S7BGFT4L",
        "outputId": "a6578384-cf2c-4f4d-b9ae-47c8a72e80ec"
      },
      "execution_count": null,
      "outputs": [
        {
          "output_type": "execute_result",
          "data": {
            "text/plain": [
              "positive    25000\n",
              "negative    25000\n",
              "Name: sentiment, dtype: int64"
            ]
          },
          "metadata": {},
          "execution_count": 7
        }
      ]
    },
    {
      "cell_type": "code",
      "source": [
        "df['sentiment'].value_counts().plot(kind='bar')"
      ],
      "metadata": {
        "colab": {
          "base_uri": "https://localhost:8080/",
          "height": 495
        },
        "id": "QlqxiO6JFdAN",
        "outputId": "e8282269-79ec-4948-be8d-c38a42601f85"
      },
      "execution_count": null,
      "outputs": [
        {
          "output_type": "execute_result",
          "data": {
            "text/plain": [
              "<Axes: >"
            ]
          },
          "metadata": {},
          "execution_count": 8
        },
        {
          "output_type": "display_data",
          "data": {
            "text/plain": [
              "<Figure size 640x480 with 1 Axes>"
            ],
            "image/png": "[encoded data removed]"
          },
          "metadata": {}
        }
      ]
    },
    {
      "cell_type": "code",
      "source": [
        "print('레이블 개수')\n",
        "print(df.groupby('sentiment').size())\n",
        "print()\n",
        "print(df.groupby('sentiment').size().reset_index(name='count'))"
      ],
      "metadata": {
        "colab": {
          "base_uri": "https://localhost:8080/"
        },
        "id": "TY3i1JTNFfgC",
        "outputId": "e661f3c3-c51b-45c6-8fb6-ed40b16629ce"
      },
      "execution_count": null,
      "outputs": [
        {
          "output_type": "stream",
          "name": "stdout",
          "text": [
            "레이블 개수\n",
            "sentiment\n",
            "negative    25000\n",
            "positive    25000\n",
            "dtype: int64\n",
            "\n",
            "  sentiment  count\n",
            "0  negative  25000\n",
            "1  positive  25000\n"
          ]
        }
      ]
    },
    {
      "cell_type": "code",
      "source": [
        "# positive : 1, negative: 0 으로 변환 \n",
        "\n",
        "df['sentiment'].replace({'positive':1, 'negative': 0})"
      ],
      "metadata": {
        "colab": {
          "base_uri": "https://localhost:8080/"
        },
        "id": "NaOoPu2yFmfX",
        "outputId": "d4cb0393-288a-498d-a5d3-f32416a8988a"
      },
      "execution_count": null,
      "outputs": [
        {
          "output_type": "execute_result",
          "data": {
            "text/plain": [
              "0        1\n",
              "1        1\n",
              "2        1\n",
              "3        0\n",
              "4        1\n",
              "        ..\n",
              "49995    1\n",
              "49996    0\n",
              "49997    0\n",
              "49998    0\n",
              "49999    0\n",
              "Name: sentiment, Length: 50000, dtype: int64"
            ]
          },
          "metadata": {},
          "execution_count": 10
        }
      ]
    },
    {
      "cell_type": "code",
      "source": [
        "df['sentiment'].replace(['positive','negative'],[1,0])"
      ],
      "metadata": {
        "colab": {
          "base_uri": "https://localhost:8080/"
        },
        "id": "kh5E56O2FvWP",
        "outputId": "4cc2c38b-cd66-4b14-c9ce-d3c9859bd458"
      },
      "execution_count": null,
      "outputs": [
        {
          "output_type": "execute_result",
          "data": {
            "text/plain": [
              "0        1\n",
              "1        1\n",
              "2        1\n",
              "3        0\n",
              "4        1\n",
              "        ..\n",
              "49995    1\n",
              "49996    0\n",
              "49997    0\n",
              "49998    0\n",
              "49999    0\n",
              "Name: sentiment, Length: 50000, dtype: int64"
            ]
          },
          "metadata": {},
          "execution_count": 11
        }
      ]
    },
    {
      "cell_type": "code",
      "source": [
        "df['sentiment'] = df['sentiment'].replace(['positive','negative'],[1,0])"
      ],
      "metadata": {
        "id": "k9W2dyUzFvYi"
      },
      "execution_count": null,
      "outputs": []
    },
    {
      "cell_type": "code",
      "source": [
        "df.head(3)"
      ],
      "metadata": {
        "colab": {
          "base_uri": "https://localhost:8080/",
          "height": 143
        },
        "id": "OQ-4-u25FvbF",
        "outputId": "f433358b-9a57-4091-fa6d-162f181fe932"
      },
      "execution_count": null,
      "outputs": [
        {
          "output_type": "execute_result",
          "data": {
            "text/plain": [
              "                                              review  sentiment\n",
              "0  One of the other reviewers has mentioned that ...          1\n",
              "1  A wonderful little production. <br /><br />The...          1\n",
              "2  I thought this was a wonderful way to spend ti...          1"
            ],
            "text/html": [
              "\n",
              "  <div id=\"df-98dedb12-e01c-49ca-b043-94f5dca53ce3\">\n",
              "    <div class=\"colab-df-container\">\n",
              "      <div>\n",
              "<style scoped>\n",
              "    .dataframe tbody tr th:only-of-type {\n",
              "        vertical-align: middle;\n",
              "    }\n",
              "\n",
              "    .dataframe tbody tr th {\n",
              "        vertical-align: top;\n",
              "    }\n",
              "\n",
              "    .dataframe thead th {\n",
              "        text-align: right;\n",
              "    }\n",
              "</style>\n",
              "<table border=\"1\" class=\"dataframe\">\n",
              "  <thead>\n",
              "    <tr style=\"text-align: right;\">\n",
              "      <th></th>\n",
              "      <th>review</th>\n",
              "      <th>sentiment</th>\n",
              "    </tr>\n",
              "  </thead>\n",
              "  <tbody>\n",
              "    <tr>\n",
              "      <th>0</th>\n",
              "      <td>One of the other reviewers has mentioned that ...</td>\n",
              "      <td>1</td>\n",
              "    </tr>\n",
              "    <tr>\n",
              "      <th>1</th>\n",
              "      <td>A wonderful little production. &lt;br /&gt;&lt;br /&gt;The...</td>\n",
              "      <td>1</td>\n",
              "    </tr>\n",
              "    <tr>\n",
              "      <th>2</th>\n",
              "      <td>I thought this was a wonderful way to spend ti...</td>\n",
              "      <td>1</td>\n",
              "    </tr>\n",
              "  </tbody>\n",
              "</table>\n",
              "</div>\n",
              "      <button class=\"colab-df-convert\" onclick=\"convertToInteractive('df-98dedb12-e01c-49ca-b043-94f5dca53ce3')\"\n",
              "              title=\"Convert this dataframe to an interactive table.\"\n",
              "              style=\"display:none;\">\n",
              "        \n",
              "  <svg xmlns=\"http://www.w3.org/2000/svg\" height=\"24px\"viewBox=\"0 0 24 24\"\n",
              "       width=\"24px\">\n",
              "    <path d=\"M0 0h24v24H0V0z\" fill=\"none\"/>\n",
              "    <path d=\"M18.56 5.44l.94 2.06.94-2.06 2.06-.94-2.06-.94-.94-2.06-.94 2.06-2.06.94zm-11 1L8.5 8.5l.94-2.06 2.06-.94-2.06-.94L8.5 2.5l-.94 2.06-2.06.94zm10 10l.94 2.06.94-2.06 2.06-.94-2.06-.94-.94-2.06-.94 2.06-2.06.94z\"/><path d=\"M17.41 7.96l-1.37-1.37c-.4-.4-.92-.59-1.43-.59-.52 0-1.04.2-1.43.59L10.3 9.45l-7.72 7.72c-.78.78-.78 2.05 0 2.83L4 21.41c.39.39.9.59 1.41.59.51 0 1.02-.2 1.41-.59l7.78-7.78 2.81-2.81c.8-.78.8-2.07 0-2.86zM5.41 20L4 18.59l7.72-7.72 1.47 1.35L5.41 20z\"/>\n",
              "  </svg>\n",
              "      </button>\n",
              "      \n",
              "  <style>\n",
              "    .colab-df-container {\n",
              "      display:flex;\n",
              "      flex-wrap:wrap;\n",
              "      gap: 12px;\n",
              "    }\n",
              "\n",
              "    .colab-df-convert {\n",
              "      background-color: #E8F0FE;\n",
              "      border: none;\n",
              "      border-radius: 50%;\n",
              "      cursor: pointer;\n",
              "      display: none;\n",
              "      fill: #1967D2;\n",
              "      height: 32px;\n",
              "      padding: 0 0 0 0;\n",
              "      width: 32px;\n",
              "    }\n",
              "\n",
              "    .colab-df-convert:hover {\n",
              "      background-color: #E2EBFA;\n",
              "      box-shadow: 0px 1px 2px rgba(60, 64, 67, 0.3), 0px 1px 3px 1px rgba(60, 64, 67, 0.15);\n",
              "      fill: #174EA6;\n",
              "    }\n",
              "\n",
              "    [theme=dark] .colab-df-convert {\n",
              "      background-color: #3B4455;\n",
              "      fill: #D2E3FC;\n",
              "    }\n",
              "\n",
              "    [theme=dark] .colab-df-convert:hover {\n",
              "      background-color: #434B5C;\n",
              "      box-shadow: 0px 1px 3px 1px rgba(0, 0, 0, 0.15);\n",
              "      filter: drop-shadow(0px 1px 2px rgba(0, 0, 0, 0.3));\n",
              "      fill: #FFFFFF;\n",
              "    }\n",
              "  </style>\n",
              "\n",
              "      <script>\n",
              "        const buttonEl =\n",
              "          document.querySelector('#df-98dedb12-e01c-49ca-b043-94f5dca53ce3 button.colab-df-convert');\n",
              "        buttonEl.style.display =\n",
              "          google.colab.kernel.accessAllowed ? 'block' : 'none';\n",
              "\n",
              "        async function convertToInteractive(key) {\n",
              "          const element = document.querySelector('#df-98dedb12-e01c-49ca-b043-94f5dca53ce3');\n",
              "          const dataTable =\n",
              "            await google.colab.kernel.invokeFunction('convertToInteractive',\n",
              "                                                     [key], {});\n",
              "          if (!dataTable) return;\n",
              "\n",
              "          const docLinkHtml = 'Like what you see? Visit the ' +\n",
              "            '<a target=\"_blank\" href=https://colab.research.google.com/notebooks/data_table.ipynb>data table notebook</a>'\n",
              "            + ' to learn more about interactive tables.';\n",
              "          element.innerHTML = '';\n",
              "          dataTable['output_type'] = 'display_data';\n",
              "          await google.colab.output.renderOutput(dataTable, element);\n",
              "          const docLink = document.createElement('div');\n",
              "          docLink.innerHTML = docLinkHtml;\n",
              "          element.appendChild(docLink);\n",
              "        }\n",
              "      </script>\n",
              "    </div>\n",
              "  </div>\n",
              "  "
            ]
          },
          "metadata": {},
          "execution_count": 13
        }
      ]
    },
    {
      "cell_type": "code",
      "source": [
        "df.columns"
      ],
      "metadata": {
        "colab": {
          "base_uri": "https://localhost:8080/"
        },
        "id": "ipAb33qEHAx0",
        "outputId": "66e2eed1-782b-4745-e015-5a81b16255a2"
      },
      "execution_count": null,
      "outputs": [
        {
          "output_type": "execute_result",
          "data": {
            "text/plain": [
              "Index(['review', 'sentiment'], dtype='object')"
            ]
          },
          "metadata": {},
          "execution_count": 14
        }
      ]
    },
    {
      "cell_type": "code",
      "source": [
        "x_data = df['review']\n",
        "y_data = df['sentiment']\n",
        "\n",
        "print('영화 리뷰 개수:{}'.format(len(x_data)))\n",
        "print('레이블 개수:{}'.format(len(y_data)))"
      ],
      "metadata": {
        "colab": {
          "base_uri": "https://localhost:8080/"
        },
        "id": "6vGOMCAZHE6u",
        "outputId": "79abd335-d9db-4d2b-b084-94e670c1e043"
      },
      "execution_count": null,
      "outputs": [
        {
          "output_type": "stream",
          "name": "stdout",
          "text": [
            "영화 리뷰 개수:50000\n",
            "레이블 개수:50000\n"
          ]
        }
      ]
    },
    {
      "cell_type": "code",
      "source": [
        "# 훈련용 / 테스트용 데이터 구분 (8:2)\n",
        "\n",
        "x_train, x_test,y_train,y_test= train_test_split(x_data, y_data, test_size=0.5, \n",
        "                                              random_state=42, stratify=y_data)"
      ],
      "metadata": {
        "id": "LoKxJuTCHVBM"
      },
      "execution_count": null,
      "outputs": []
    },
    {
      "cell_type": "code",
      "source": [
        "# 훈련용 데이터 >> 훈련용 / 검증용 데이터 구분 (8:2)\n",
        "\n",
        "x_train, x_valid,y_train,y_valid= train_test_split(x_train, y_train, test_size=0.2, \n",
        "                                              random_state=42, stratify=y_train)"
      ],
      "metadata": {
        "id": "UC90SVy0HrjE"
      },
      "execution_count": null,
      "outputs": []
    },
    {
      "cell_type": "code",
      "source": [
        "print(y_train.value_counts())\n",
        "print(y_train.value_counts()[0])\n",
        "print(y_train.value_counts()[0] / len(y_train))\n",
        "print(y_train.value_counts()[0] / len(y_train)*100)"
      ],
      "metadata": {
        "colab": {
          "base_uri": "https://localhost:8080/"
        },
        "id": "Q3Df9mUTIPN-",
        "outputId": "d4f7e563-0c2a-4826-f489-93b2835545b0"
      },
      "execution_count": null,
      "outputs": [
        {
          "output_type": "stream",
          "name": "stdout",
          "text": [
            "1    10000\n",
            "0    10000\n",
            "Name: sentiment, dtype: int64\n",
            "10000\n",
            "0.5\n",
            "50.0\n"
          ]
        }
      ]
    },
    {
      "cell_type": "code",
      "source": [
        "print('훈련 데이터 비율')\n",
        "print(f'부정 리뷰={round(y_train.value_counts()[0] / len(y_train) *100, 3)}%')\n",
        "print(f'긍정 리뷰={round(y_train.value_counts()[1] / len(y_train) *100, 3)}%')\n",
        "print()\n",
        "\n",
        "print('검증 데이터 비율')\n",
        "print(f'부정 리뷰={round(y_valid.value_counts()[0] / len(y_valid) *100, 3)}%')\n",
        "print(f'긍정 리뷰={round(y_valid.value_counts()[1] / len(y_valid) *100, 3)}%')\n",
        "print()\n",
        "\n",
        "print('테스트 데이터 비율')\n",
        "print(f'부정 리뷰={round(y_test.value_counts()[0] / len(y_test) *100, 3)}%')\n",
        "print(f'긍정 리뷰={round(y_test.value_counts()[1] / len(y_test) *100, 3)}%')\n",
        "print()"
      ],
      "metadata": {
        "colab": {
          "base_uri": "https://localhost:8080/"
        },
        "id": "En-6nrMJHrl3",
        "outputId": "11737f88-f75b-483a-f2d7-996c16a1bca5"
      },
      "execution_count": null,
      "outputs": [
        {
          "output_type": "stream",
          "name": "stdout",
          "text": [
            "훈련 데이터 비율\n",
            "부정 리뷰=50.0%\n",
            "긍정 리뷰=50.0%\n",
            "\n",
            "검증 데이터 비율\n",
            "부정 리뷰=50.0%\n",
            "긍정 리뷰=50.0%\n",
            "\n",
            "테스트 데이터 비율\n",
            "부정 리뷰=50.0%\n",
            "긍정 리뷰=50.0%\n",
            "\n"
          ]
        }
      ]
    },
    {
      "cell_type": "code",
      "source": [
        "def tokenize(sentences): \n",
        "  tokenized_sentences = []\n",
        "  for sent in tqdm(sentences): \n",
        "     tokenized_sent = word_tokenize(sent)\n",
        "     tokenized_sent =[word.lower() for word in tokenized_sent]\n",
        "     tokenized_sentences.append(tokenized_sent)\n",
        "  return tokenized_sentences"
      ],
      "metadata": {
        "id": "75QSBMlPHroQ"
      },
      "execution_count": null,
      "outputs": []
    },
    {
      "cell_type": "code",
      "source": [
        "x_train.head()"
      ],
      "metadata": {
        "colab": {
          "base_uri": "https://localhost:8080/"
        },
        "id": "JNp5aUyjOgOD",
        "outputId": "66a0f715-e166-41be-df36-65f5fb4841b2"
      },
      "execution_count": null,
      "outputs": [
        {
          "output_type": "execute_result",
          "data": {
            "text/plain": [
              "11283    REIGN OVER ME (2007) *** Adam Sandler, Don Che...\n",
              "14771    The opening scene makes you feel like you're w...\n",
              "38132    Of course, the story line for this movie isn't...\n",
              "9132     It has singing. It has drama. It has comedy. I...\n",
              "40723    This was a movie of which I kept on reading th...\n",
              "Name: review, dtype: object"
            ]
          },
          "metadata": {},
          "execution_count": 21
        }
      ]
    },
    {
      "cell_type": "code",
      "source": [
        "print(tokenize(x_train.head()))"
      ],
      "metadata": {
        "colab": {
          "base_uri": "https://localhost:8080/"
        },
        "id": "m41d9GHTHrqd",
        "outputId": "fc425c5f-5081-4602-b5e6-092f2ac063a5"
      },
      "execution_count": null,
      "outputs": [
        {
          "output_type": "stream",
          "name": "stderr",
          "text": [
            "100%|██████████| 5/5 [00:00<00:00, 235.21it/s]"
          ]
        },
        {
          "output_type": "stream",
          "name": "stdout",
          "text": [
            "[['reign', 'over', 'me', '(', '2007', ')', '*', '*', '*', 'adam', 'sandler', ',', 'don', 'cheadle', ',', 'jada', 'pinkett-smith', ',', 'liv', 'tyler', ',', 'saffron', 'burrows', ',', 'donald', 'sutherland', ',', 'robert', 'klein', ',', 'melinda', 'dillon', ',', 'mike', 'binder', ',', 'jonathan', 'banks', ',', 'rae', 'allen', ',', 'paula', 'newsome', '.', 'at', 'times', 'affecting', 'and', 'at', 'times', 'middling', 'dramedy', 'about', 'a', 'thoroughly', 'depressed', 'man', 'who', 'lost', 'his', 'family', 'on', '9/11', '(', 'sandler', 'in', 'his', 'best', 'role', 'since', '``', 'punch-drunk', 'love', \"''\", ')', 'who', 'winds', 'up', 're-united', 'with', 'his', 'old', 'college', 'roommate', 'and', 'friend', '(', 'cheadle', 'continuing', 'to', 'do', 'impressive', 'work', 'with', 'every', 'role', 'to', 'date', ')', ',', 'a', 'well-to-do', 'dentist', 'who', 'seems', 'to', 'have', 'it', 'all', '\\x96', 'family', ',', 'wealth', ',', 'happiness', '\\x96', 'but', 'really', 'sees', 'an', 'ally', 'in', 'freedom', 'with', 'his', 'troubled', 'friend', \"'s\", 'own', 'personal', 'life', 'offerings', '.', 'written', 'and', 'directed', 'by', 'binder', '(', 'who', 'co-stars', 'as', 'sandler', \"'s\", 'former-best', 'friend', 'and', 'acting', 'accountant', ')', 'with', 'equal', 'parts', 'humor', 'and', 'genuine', 'heartache', 'the', 'film', 'works', 'best', 'when', 'the', 'two', 'stars', 'share', 'the', 'screen', 'until', 'the', 'last', 'act', 'falls', 'into', 'an', 'almost', 'movie-of-the-week', 'treacle', 'with', 'to', 'tidy', 'a', 'solution', 'to', 'the', 'matters', 'at', 'hand', '.'], ['the', 'opening', 'scene', 'makes', 'you', 'feel', 'like', 'you', \"'re\", 'watching', 'a', 'high', 'school', 'play', '.', 'but', 'i', \"'ve\", 'seen', 'high', 'school', 'plays', 'with', 'better', 'acting', '!', 'every', 'line', 'was', 'delivered', 'so', 'obviously', 'that', 'i', 'felt', 'like', 'i', 'was', 'watching', 'actors', 'work', 'instead', 'of', 'seeing', 'characters', '.', 'i', 'found', 'the', 'character', 'development', 'to', 'be', 'poor', 'and', 'the', 'acting', 'very', 'forced', '!', 'i', 'found', 'that', '25', 'minutes', 'into', 'the', 'movie', ',', 'i', 'really', 'did', \"n't\", 'care', 'what', 'happened', 'anymore', 'because', 'the', 'plot', 'was', 'overly', 'obvious', 'and', 'i', 'was', 'bored', '.', 'i', 'kept', 'hanging', 'in', 'there', ',', 'waiting', 'for', 'the', 'film', 'to', 'redeem', 'itself', ',', 'but', 'it', 'never', 'happened', '.', 'sister', 'theresa', 'was', 'overly', 'sweet', ',', 'even', 'for', 'a', 'nun', ',', 'yet', 'appeared', 'impulsive', 'and', 'slightly', 'manipulative', '.', 'all', 'in', 'all', ',', 'i', 'was', 'mighty', 'disappointed', '.'], ['of', 'course', ',', 'the', 'story', 'line', 'for', 'this', 'movie', 'is', \"n't\", 'the', 'best', ',', 'but', 'the', 'dances', 'are', 'wonderful', '.', 'this', 'story', 'line', 'is', 'different', 'from', 'other', 'astaire-rogers', 'movies', 'in', 'that', 'neither', 'one', 'is', '``', 'chasing', \"''\", 'the', 'other', '.', 'the', 'dancing', 'of', 'fred', 'and', 'ginger', 'is', 'what', 'makes', 'this', 'movie', '.'], ['it', 'has', 'singing', '.', 'it', 'has', 'drama', '.', 'it', 'has', 'comedy', '.', 'it', 'has', 'a', 'story', '.', 'it', \"'s\", 'one', 'of', 'the', 'greatest', 'movies', 'ever', 'made', '...', 'period', '.', 'if', 'you', 'ca', \"n't\", 'enjoy', 'this', 'movie', ',', 'then', 'you', 'must', 'be', 'either', 'asleep', 'or', 'in', 'some', 'kind', 'of', 'mental', 'disarray', '.', 'in', '``', 'yankee', 'doodle', 'dandy', \"''\", 'james', 'cagney', 'sings', 'and', 'dances', 'his', 'way', 'to', 'an', 'academy', 'award', ';', 'but', 'in', 'this', 'movie', 'he', 'is', 'better', '!', 'this', 'is', 'james', 'cagney', 'at', 'his', 'quisessential', 'best', '!', 'he', \"'s\", 'fast', 'with', 'the', 'one-liners', '!', 'he', \"'s\", 'fast', 'with', 'his', 'feet', '!', 'it', \"'s\", 'nonstop', 'action', '.', 'and', 'the', 'song-and-dance', 'skits', 'are', 'classics', ',', 'especially', '``', 'shanghai', 'lil', '.', \"''\", 'and', 'the', 'supporting', 'cast', 'is', 'great', ';', 'and', 'the', 'entire', 'movie', 'is', 'upbeat', ',', 'fast', 'moving', ',', 'and', 'exudes', 'confidence', '.', 'and', 'even', 'though', 'this', 'movie', 'was', 'made', 'over', '70', 'years', 'ago', ',', 'it', \"'s\", 'still', 'watchable', ',', 'even', 'today', '.', 'and', 'of', 'course', ',', 'this', 'movie', 'features', 'miss', 'ruby', 'keeler', '(', 'who', 'was', 'married', 'to', 'al', 'jolson', ')', '.', 'she', 'is', 'the', 'perfect', 'partner', 'for', 'james', 'cagney', '...', 'and', 'dick', 'powell', 'too', '!', 'if', 'you', 'like', 'upbeat', ',', 'fast', 'paced', 'movies', ',', 'with', 'lots', 'of', 'singing', 'and', 'dancing', ',', 'this', 'is', 'the', 'movie', 'to', 'watch', '.'], ['this', 'was', 'a', 'movie', 'of', 'which', 'i', 'kept', 'on', 'reading', 'the', 'reviews', 'again', 'and', 'again', ';', 'and', 'despite', 'it', 'being', 'played', 'at', 'film', 'museum', 'and', 'not', 'at', 'pathe', 'theatres', '\\x96', 'i', 'decided', 'to', 'give', 'this', 'movie', 'a', 'try', '.', 'the', 'reasons', 'were', 'many', '\\x96', 'in', 'the', 'reviews', 'it', 'was', 'compared', 'with', 'pulp', 'fiction', ',', 'it', 'had', 'several', 'parallel', 'stories', 'running', 'in', 'the', 'movie', 'and', 'lastly', 'it', 'had', 'already', 'won', '17', 'awards', 'internationally', 'in', 'various', 'categories', '.', 'i', 'was', 'eager', 'to', 'see', 'this', 'movie', 'and', 'due', 'to', 'my', 'off', 'day', 'at', 'greenpeace', 'i', 'decided', 'to', 'make', 'myself', 'happy', 'by', 'going', 'and', 'seeing', 'this', 'movie.', '<', 'br', '/', '>', '<', 'br', '/', '>', 'it', 'is', 'a', 'story', 'based', 'in', 'finland', '.', 'i', 'think', 'it', 'reflected', 'the', 'current', 'life', 'of', 'people', 'in', 'general', '\\x96', 'drugs', ',', 'crime', ',', 'sex', ',', 'anger', ',', 'anguish', ',', 'fear', 'and', 'guilt', '.', 'every', 'emotion', 'was', 'captured', 'brilliantly', 'in', 'the', 'movie', '.', 'there', 'are', 'several', 'characters', 'and', 'stories', 'interwoven', 'but', 'a', 'few', 'characters', 'come', 'back', 'in', 'the', 'latter', 'half', '\\x96', 'making', 'a', 'link', 'with', 'the', 'beginning', 'sequences', 'and', 'that', 'takes', 'the', 'story', 'forward.', '<', 'br', '/', '>', '<', 'br', '/', '>', 'the', 'story', 'is', 'about', 'two', 'friends', '\\x96', 'one', 'of', 'whom', 'is', 'computer', 'geek', 'and', 'the', 'other', 'is', 'a', 'drug', 'addict', '\\x96', 'son', 'of', 'an', 'abusive', 'father', '.', 'the', 'drug', 'addict', 'boy', 'trades', 'a', 'euro', '500', 'note', '\\x96', 'printed', 'by', 'his', 'friend', '\\x96', 'to', 'buy', 'back', 'his', 'music', 'system', ',', 'and', 'in', 'returns', 'gets', 'huge', 'change', 'of', 'cash', 'back', 'to', 'buy', 'more', 'drugs', '.', 'the', 'trading', 'of', 'euro', '500', 'note', 'continues', 'to', 'bizarre', 'events', '\\x96', 'from', 'the', 'shop', 'trader', 'to', 'an', 'auto', 'mechanic', 'cum', 'robber', '\\x96', 'to', 'a', 'car', 'dealer', '\\x96', 'to', 'a', 'vacuum', 'cleaner', 'salesman', '\\x96', 'to', 'a', 'prostitute', '\\x96', 'to', 'a', 'police', 'officer', '\\x96', 'then', 'to', 'her', 'family', 'and', 'children', '.', 'how', 'the', 'beginning', 'of', 'a', 'small', 'thing', '\\x96', 'creates', 'a', 'chain', 'reaction', 'that', 'lead', 'even', 'after', '5', 'years', 'of', 'that', 'first', 'incident', 'to', 'a', 'depressing', 'last', 'note', '\\x96', 'which', 'i', 'wo', \"n't\", 'reveal', 'here.', '<', 'br', '/', '>', '<', 'br', '/', '>', 'the', 'direction', 'is', 'excellent', '.', 'the', 'character', 'development', 'in', 'the', 'movie', 'is', 'first', 'rate', '.', 'the', 'character', 'that', 'sticks', 'on', 'your', 'mind', 'even', 'after', 'you', 'come', 'out', 'of', 'the', 'movie', 'is', 'of', 'the', 'vacuum', 'cleaner', 'sales', 'person', '.', 'all', 'the', 'departments', 'of', 'the', 'movie', 'are', 'handled', 'nicely', '.', 'here', 'i', 'would', 'like', 'to', 'make', 'a', 'couple', 'of', 'critical', 'comments', '.', 'first', ',', 'during', 'the', 'sequence', 'of', 'one', 'event', 'leading', 'to', 'another', 'i', 'felt', 'that', 'the', 'coincidences', 'were', 'too', 'rapid', 'and', 'forced', '.', 'but', 'this', 'screenplay', 'writing', 'error', 'is', 'pardon', 'when', 'one', 'sees', 'the', 'whole', 'canvas', '.', 'second', ',', 'the', 'trail', 'of', 'one', 'character', 'leading', 'to', 'another', 'somehow', 'leads', 'back', 'to', 'the', 'first', 'two', 'characters', 'and', 'that', 'again', 'i', 'found', 'to', 'be', 'a', 'forced', 'decision', 'by', 'the', 'screen', 'play', 'writer', '.', 'there', 'was', 'no', 'need', 'to', 'have', 'the', 'same', 'characters', 'showing', 'up', 'again', 'when', 'there', 'are', 'different', 'causes', 'leading', 'to', 'different', 'effects', 'in', 'such', 'a', 'big', 'city.', '<', 'br', '/', '>', '<', 'br', '/', '>', 'but', 'after', 'saying', 'that', '\\x96', 'it', 'is', 'an', 'excellent', 'movie', '!', 'it', 'is', 'a', 'dark', 'movie', 'with', 'quite', 'a', 'few', 'sex', 'scenes', '.', 'the', 'characters', 'are', 'having', 'the', 'black', ',', 'white', 'and', 'gray', 'shades', 'and', 'emotions', 'that', 'change', 'from', 'facing', 'different', 'situation', 'which', 'is', 'brilliantly', 'captured', 'by', 'the', 'director.', '<', 'br', '/', '>', '<', 'br', '/', '>', 'a', 'top', 'rate', 'movie', '!', 'it', 'has', 'all', 'the', 'ingredients', 'of', 'becoming', 'a', 'cult', 'movie', '.', 'i', 'hope', 'that', 'only', 'such', 'movies', 'should', 'not', 'become', 'and', 'achieve', 'the', 'status', 'of', 'cult', 'movies', 'and', 'win', 'lots', 'of', 'awards', ',', 'because', 'without', 'crime', ',', 'sex', ',', 'violence', ',', 'drugs', 'etc', '.', 'too', 'one', 'can', 'make', 'fantastic', 'movies', '\\x96', 'bicycle', 'thieves', 'and', 'pather', 'panchali', 'are', 'its', 'prime', 'examples', '\\x96', 'only', 'thing', 'is', 'that', 'they', 'were', 'a', 'long', 'time', 'back', 'and', 'times', 'are', 'changing', 'and', 'i', 'think', 'movies', 'are', 'reflecting', 'the', 'current', 'times', '.']]\n"
          ]
        },
        {
          "output_type": "stream",
          "name": "stderr",
          "text": [
            "\n"
          ]
        }
      ]
    },
    {
      "cell_type": "code",
      "source": [
        "tokenized_x_train = tokenize(x_train)\n",
        "tokenized_x_valid = tokenize(x_valid)\n",
        "tokenized_x_test = tokenize(x_test)"
      ],
      "metadata": {
        "colab": {
          "base_uri": "https://localhost:8080/"
        },
        "id": "sfXO4FtPOsU5",
        "outputId": "508aba1c-008d-4f25-87b8-eb6e69c528ac"
      },
      "execution_count": null,
      "outputs": [
        {
          "output_type": "stream",
          "name": "stderr",
          "text": [
            "100%|██████████| 20000/20000 [00:42<00:00, 468.40it/s]\n",
            "100%|██████████| 5000/5000 [00:08<00:00, 568.83it/s]\n",
            "100%|██████████| 25000/25000 [00:42<00:00, 593.13it/s]\n"
          ]
        }
      ]
    },
    {
      "cell_type": "code",
      "source": [
        "# 상위 샘플 2개 출력 \n",
        "\n",
        "for sent in tokenized_x_train[:2]: \n",
        "  print(sent)"
      ],
      "metadata": {
        "colab": {
          "base_uri": "https://localhost:8080/"
        },
        "id": "oID7ZxdsO4xI",
        "outputId": "246688a3-c510-47b0-8c75-0c18d09c7706"
      },
      "execution_count": null,
      "outputs": [
        {
          "output_type": "stream",
          "name": "stdout",
          "text": [
            "['reign', 'over', 'me', '(', '2007', ')', '*', '*', '*', 'adam', 'sandler', ',', 'don', 'cheadle', ',', 'jada', 'pinkett-smith', ',', 'liv', 'tyler', ',', 'saffron', 'burrows', ',', 'donald', 'sutherland', ',', 'robert', 'klein', ',', 'melinda', 'dillon', ',', 'mike', 'binder', ',', 'jonathan', 'banks', ',', 'rae', 'allen', ',', 'paula', 'newsome', '.', 'at', 'times', 'affecting', 'and', 'at', 'times', 'middling', 'dramedy', 'about', 'a', 'thoroughly', 'depressed', 'man', 'who', 'lost', 'his', 'family', 'on', '9/11', '(', 'sandler', 'in', 'his', 'best', 'role', 'since', '``', 'punch-drunk', 'love', \"''\", ')', 'who', 'winds', 'up', 're-united', 'with', 'his', 'old', 'college', 'roommate', 'and', 'friend', '(', 'cheadle', 'continuing', 'to', 'do', 'impressive', 'work', 'with', 'every', 'role', 'to', 'date', ')', ',', 'a', 'well-to-do', 'dentist', 'who', 'seems', 'to', 'have', 'it', 'all', '\\x96', 'family', ',', 'wealth', ',', 'happiness', '\\x96', 'but', 'really', 'sees', 'an', 'ally', 'in', 'freedom', 'with', 'his', 'troubled', 'friend', \"'s\", 'own', 'personal', 'life', 'offerings', '.', 'written', 'and', 'directed', 'by', 'binder', '(', 'who', 'co-stars', 'as', 'sandler', \"'s\", 'former-best', 'friend', 'and', 'acting', 'accountant', ')', 'with', 'equal', 'parts', 'humor', 'and', 'genuine', 'heartache', 'the', 'film', 'works', 'best', 'when', 'the', 'two', 'stars', 'share', 'the', 'screen', 'until', 'the', 'last', 'act', 'falls', 'into', 'an', 'almost', 'movie-of-the-week', 'treacle', 'with', 'to', 'tidy', 'a', 'solution', 'to', 'the', 'matters', 'at', 'hand', '.']\n",
            "['the', 'opening', 'scene', 'makes', 'you', 'feel', 'like', 'you', \"'re\", 'watching', 'a', 'high', 'school', 'play', '.', 'but', 'i', \"'ve\", 'seen', 'high', 'school', 'plays', 'with', 'better', 'acting', '!', 'every', 'line', 'was', 'delivered', 'so', 'obviously', 'that', 'i', 'felt', 'like', 'i', 'was', 'watching', 'actors', 'work', 'instead', 'of', 'seeing', 'characters', '.', 'i', 'found', 'the', 'character', 'development', 'to', 'be', 'poor', 'and', 'the', 'acting', 'very', 'forced', '!', 'i', 'found', 'that', '25', 'minutes', 'into', 'the', 'movie', ',', 'i', 'really', 'did', \"n't\", 'care', 'what', 'happened', 'anymore', 'because', 'the', 'plot', 'was', 'overly', 'obvious', 'and', 'i', 'was', 'bored', '.', 'i', 'kept', 'hanging', 'in', 'there', ',', 'waiting', 'for', 'the', 'film', 'to', 'redeem', 'itself', ',', 'but', 'it', 'never', 'happened', '.', 'sister', 'theresa', 'was', 'overly', 'sweet', ',', 'even', 'for', 'a', 'nun', ',', 'yet', 'appeared', 'impulsive', 'and', 'slightly', 'manipulative', '.', 'all', 'in', 'all', ',', 'i', 'was', 'mighty', 'disappointed', '.']\n"
          ]
        }
      ]
    },
    {
      "cell_type": "markdown",
      "source": [
        "vocab 만들기 (단어집합 생성) "
      ],
      "metadata": {
        "id": "oEam2IBGPRan"
      }
    },
    {
      "cell_type": "code",
      "source": [
        "# Conter() 함수 사용 \n",
        "# >> 각 단어별 빈도수 \n",
        "\n",
        "word_list =[]\n",
        "\n",
        "for sent in tokenized_x_train: \n",
        "  for word in sent: \n",
        "    word_list.append(word)"
      ],
      "metadata": {
        "id": "lGPxSwEDPBFn"
      },
      "execution_count": null,
      "outputs": []
    },
    {
      "cell_type": "code",
      "source": [
        "word_list[0]"
      ],
      "metadata": {
        "colab": {
          "base_uri": "https://localhost:8080/",
          "height": 35
        },
        "id": "-c9zzQILPlzA",
        "outputId": "192b0344-1617-44be-b2f7-b57872a489f8"
      },
      "execution_count": null,
      "outputs": [
        {
          "output_type": "execute_result",
          "data": {
            "text/plain": [
              "'reign'"
            ],
            "application/vnd.google.colaboratory.intrinsic+json": {
              "type": "string"
            }
          },
          "metadata": {},
          "execution_count": 26
        }
      ]
    },
    {
      "cell_type": "code",
      "source": [
        "word_counts = Counter(word_list)\n",
        "\n",
        "print('총 단어수:', len(word_counts))"
      ],
      "metadata": {
        "colab": {
          "base_uri": "https://localhost:8080/"
        },
        "id": "Cw_xCCidPohO",
        "outputId": "65d7d9b6-f172-4264-ebe8-3e64527706fc"
      },
      "execution_count": null,
      "outputs": [
        {
          "output_type": "stream",
          "name": "stdout",
          "text": [
            "총 단어수: 100172\n"
          ]
        }
      ]
    },
    {
      "cell_type": "code",
      "source": [
        "word_counts['the']"
      ],
      "metadata": {
        "colab": {
          "base_uri": "https://localhost:8080/"
        },
        "id": "KDJgg778PwFF",
        "outputId": "3c076dc7-4780-4aa4-d923-0aa47d392432"
      },
      "execution_count": null,
      "outputs": [
        {
          "output_type": "execute_result",
          "data": {
            "text/plain": [
              "265460"
            ]
          },
          "metadata": {},
          "execution_count": 28
        }
      ]
    },
    {
      "cell_type": "code",
      "source": [
        "# word_counts 정렬, 등장빈도 상위 10개 출력 \n",
        "\n",
        "vocab = sorted(word_counts, key=word_counts.get, reverse=True)\n",
        "print('등장빈도수 상위 10개 단어')\n",
        "print(vocab[:10])"
      ],
      "metadata": {
        "colab": {
          "base_uri": "https://localhost:8080/"
        },
        "id": "uGV2wSSPQCga",
        "outputId": "e04ce929-dbb4-46f1-c3ca-cab9fa561b03"
      },
      "execution_count": null,
      "outputs": [
        {
          "output_type": "stream",
          "name": "stdout",
          "text": [
            "등장빈도수 상위 10개 단어\n",
            "['the', ',', '.', 'and', 'a', 'of', 'to', 'is', '/', '>']\n"
          ]
        }
      ]
    },
    {
      "cell_type": "code",
      "source": [
        "# 등장 빈도수가 3회 미만인 단어들의 비중(비율) 확인 \n",
        "\n",
        "threshold = 3\n",
        "\n",
        "total_cnt = len(word_counts) # 단어 수\n",
        "rare_cnt = 0 # 등장빈도수가 threshold 보다 작은 단어 개수 세기 \n",
        "total_freq = 0 # 훈련 데이터 전체 단어 빈도수 총 합 \n",
        "rare_freq =0 # 등장빈도수가 threshold 보다 작은 단어 등장빈도수 총 합 \n",
        "\n",
        "# 단어, 빈도수 쌍(pair) >> key, value \n",
        "\n",
        "for key, value in word_counts.items():\n",
        "  total_freq = total_freq + value \n",
        "\n",
        "  # 단어 등장빈도수가 threshold 보다 작으면 \n",
        "  if (value < threshold): \n",
        "    rare_cnt = rare_cnt + 1\n",
        "    rare_freq = rare_freq + value"
      ],
      "metadata": {
        "id": "QOGRWrG_QOZp"
      },
      "execution_count": null,
      "outputs": []
    },
    {
      "cell_type": "code",
      "source": [
        "print('단어 집합(vocab) 크기:', total_cnt)\n",
        "print('등장 빈도가 %s 번 이하의 희귀 단어 수:%s'%(threshold - 1, rare_cnt))\n",
        "print('단어집합에서 희귀 단어 비율:', (rare_cnt / total_cnt)*100)\n",
        "print('전체 등장빈도에서 희귀 단어 등장비율:', (rare_freq / total_freq)*100)"
      ],
      "metadata": {
        "colab": {
          "base_uri": "https://localhost:8080/"
        },
        "id": "_AeCkEgdRXwB",
        "outputId": "9aa2746d-4ccd-4bcf-9706-34fadbed0213"
      },
      "execution_count": null,
      "outputs": [
        {
          "output_type": "stream",
          "name": "stdout",
          "text": [
            "단어 집합(vocab) 크기: 100172\n",
            "등장 빈도가 2 번 이하의 희귀 단어 수:61453\n",
            "단어집합에서 희귀 단어 비율: 61.34748233039172\n",
            "전체 등장빈도에서 희귀 단어 등장비율: 1.3160874360328585\n"
          ]
        }
      ]
    },
    {
      "cell_type": "code",
      "source": [
        "# 등장 빈도수 2회 이하 단어 제외 \n",
        "\n",
        "vocab_size = total_cnt - rare_cnt\n",
        "print(vocab_size) # 38719\n",
        "\n",
        "vocab = vocab[:vocab_size]\n",
        "print('단어 집합의 크기', len(vocab))"
      ],
      "metadata": {
        "colab": {
          "base_uri": "https://localhost:8080/"
        },
        "id": "RRV1ofqyRbsV",
        "outputId": "6a8d96af-eb71-40a8-b526-aa5aec11031a"
      },
      "execution_count": null,
      "outputs": [
        {
          "output_type": "stream",
          "name": "stdout",
          "text": [
            "38719\n",
            "단어 집합의 크기 38719\n"
          ]
        }
      ]
    },
    {
      "cell_type": "code",
      "source": [
        "vocab[:10]"
      ],
      "metadata": {
        "colab": {
          "base_uri": "https://localhost:8080/"
        },
        "id": "sfR-Q_6USSY6",
        "outputId": "122a0736-4223-4dd4-d042-6b3730752561"
      },
      "execution_count": null,
      "outputs": [
        {
          "output_type": "execute_result",
          "data": {
            "text/plain": [
              "['the', ',', '.', 'and', 'a', 'of', 'to', 'is', '/', '>']"
            ]
          },
          "metadata": {},
          "execution_count": 33
        }
      ]
    },
    {
      "cell_type": "code",
      "source": [
        "word_to_index = {}\n",
        "word_to_index['<PAD>'] = 0\n",
        "word_to_index['<UNK>'] = 1"
      ],
      "metadata": {
        "id": "T0PoyUh4Sl6O"
      },
      "execution_count": null,
      "outputs": []
    },
    {
      "cell_type": "code",
      "source": [
        "for index, word in enumerate(vocab): \n",
        "  word_to_index[word] = index + 2"
      ],
      "metadata": {
        "id": "9Psb33bcS2x9"
      },
      "execution_count": null,
      "outputs": []
    },
    {
      "cell_type": "code",
      "source": [
        "vocab_size = len(word_to_index)\n",
        "vocab_size  # padding token, UNK token 더해짐"
      ],
      "metadata": {
        "colab": {
          "base_uri": "https://localhost:8080/"
        },
        "id": "Rl44pSbnS-yc",
        "outputId": "cca68636-08d9-47f8-b953-b264f456f387"
      },
      "execution_count": null,
      "outputs": [
        {
          "output_type": "execute_result",
          "data": {
            "text/plain": [
              "38721"
            ]
          },
          "metadata": {},
          "execution_count": 36
        }
      ]
    },
    {
      "cell_type": "code",
      "source": [
        "word_to_index['<PAD>']"
      ],
      "metadata": {
        "colab": {
          "base_uri": "https://localhost:8080/"
        },
        "id": "yP_dqzoaTBle",
        "outputId": "4b6c260d-1e83-4c4a-de55-e36fb8b16443"
      },
      "execution_count": null,
      "outputs": [
        {
          "output_type": "execute_result",
          "data": {
            "text/plain": [
              "0"
            ]
          },
          "metadata": {},
          "execution_count": 37
        }
      ]
    },
    {
      "cell_type": "markdown",
      "source": [
        "정수 인코딩"
      ],
      "metadata": {
        "id": "z4lYcY1sTihX"
      }
    },
    {
      "cell_type": "code",
      "source": [
        "def texts_to_sequence(tokenized_x_data, word_to_index): \n",
        "  encoded_x_data = []   # 정수인코딩 된 데이터 \n",
        "  for sent in tokenized_x_data: \n",
        "    index_sequences = []\n",
        "    for word in sent: \n",
        "      try: \n",
        "        index_sequences.append(word_to_index[word])\n",
        "      except KeyError: # oov 단어 >> UNK >> 1로 mapping\n",
        "        index_sequences.append(word_to_index['<UNK>']) \n",
        "    encoded_x_data.append(index_sequences)\n",
        "  return encoded_x_data"
      ],
      "metadata": {
        "id": "xu1z_TGtTg_g"
      },
      "execution_count": null,
      "outputs": []
    },
    {
      "cell_type": "code",
      "source": [
        "print(tokenized_x_train[:10])"
      ],
      "metadata": {
        "colab": {
          "base_uri": "https://localhost:8080/"
        },
        "id": "7gxSNjeoUqql",
        "outputId": "61dd5acf-d08f-4d40-b26c-26e1edf5942c"
      },
      "execution_count": null,
      "outputs": [
        {
          "output_type": "stream",
          "name": "stdout",
          "text": [
            "[['reign', 'over', 'me', '(', '2007', ')', '*', '*', '*', 'adam', 'sandler', ',', 'don', 'cheadle', ',', 'jada', 'pinkett-smith', ',', 'liv', 'tyler', ',', 'saffron', 'burrows', ',', 'donald', 'sutherland', ',', 'robert', 'klein', ',', 'melinda', 'dillon', ',', 'mike', 'binder', ',', 'jonathan', 'banks', ',', 'rae', 'allen', ',', 'paula', 'newsome', '.', 'at', 'times', 'affecting', 'and', 'at', 'times', 'middling', 'dramedy', 'about', 'a', 'thoroughly', 'depressed', 'man', 'who', 'lost', 'his', 'family', 'on', '9/11', '(', 'sandler', 'in', 'his', 'best', 'role', 'since', '``', 'punch-drunk', 'love', \"''\", ')', 'who', 'winds', 'up', 're-united', 'with', 'his', 'old', 'college', 'roommate', 'and', 'friend', '(', 'cheadle', 'continuing', 'to', 'do', 'impressive', 'work', 'with', 'every', 'role', 'to', 'date', ')', ',', 'a', 'well-to-do', 'dentist', 'who', 'seems', 'to', 'have', 'it', 'all', '\\x96', 'family', ',', 'wealth', ',', 'happiness', '\\x96', 'but', 'really', 'sees', 'an', 'ally', 'in', 'freedom', 'with', 'his', 'troubled', 'friend', \"'s\", 'own', 'personal', 'life', 'offerings', '.', 'written', 'and', 'directed', 'by', 'binder', '(', 'who', 'co-stars', 'as', 'sandler', \"'s\", 'former-best', 'friend', 'and', 'acting', 'accountant', ')', 'with', 'equal', 'parts', 'humor', 'and', 'genuine', 'heartache', 'the', 'film', 'works', 'best', 'when', 'the', 'two', 'stars', 'share', 'the', 'screen', 'until', 'the', 'last', 'act', 'falls', 'into', 'an', 'almost', 'movie-of-the-week', 'treacle', 'with', 'to', 'tidy', 'a', 'solution', 'to', 'the', 'matters', 'at', 'hand', '.'], ['the', 'opening', 'scene', 'makes', 'you', 'feel', 'like', 'you', \"'re\", 'watching', 'a', 'high', 'school', 'play', '.', 'but', 'i', \"'ve\", 'seen', 'high', 'school', 'plays', 'with', 'better', 'acting', '!', 'every', 'line', 'was', 'delivered', 'so', 'obviously', 'that', 'i', 'felt', 'like', 'i', 'was', 'watching', 'actors', 'work', 'instead', 'of', 'seeing', 'characters', '.', 'i', 'found', 'the', 'character', 'development', 'to', 'be', 'poor', 'and', 'the', 'acting', 'very', 'forced', '!', 'i', 'found', 'that', '25', 'minutes', 'into', 'the', 'movie', ',', 'i', 'really', 'did', \"n't\", 'care', 'what', 'happened', 'anymore', 'because', 'the', 'plot', 'was', 'overly', 'obvious', 'and', 'i', 'was', 'bored', '.', 'i', 'kept', 'hanging', 'in', 'there', ',', 'waiting', 'for', 'the', 'film', 'to', 'redeem', 'itself', ',', 'but', 'it', 'never', 'happened', '.', 'sister', 'theresa', 'was', 'overly', 'sweet', ',', 'even', 'for', 'a', 'nun', ',', 'yet', 'appeared', 'impulsive', 'and', 'slightly', 'manipulative', '.', 'all', 'in', 'all', ',', 'i', 'was', 'mighty', 'disappointed', '.'], ['of', 'course', ',', 'the', 'story', 'line', 'for', 'this', 'movie', 'is', \"n't\", 'the', 'best', ',', 'but', 'the', 'dances', 'are', 'wonderful', '.', 'this', 'story', 'line', 'is', 'different', 'from', 'other', 'astaire-rogers', 'movies', 'in', 'that', 'neither', 'one', 'is', '``', 'chasing', \"''\", 'the', 'other', '.', 'the', 'dancing', 'of', 'fred', 'and', 'ginger', 'is', 'what', 'makes', 'this', 'movie', '.'], ['it', 'has', 'singing', '.', 'it', 'has', 'drama', '.', 'it', 'has', 'comedy', '.', 'it', 'has', 'a', 'story', '.', 'it', \"'s\", 'one', 'of', 'the', 'greatest', 'movies', 'ever', 'made', '...', 'period', '.', 'if', 'you', 'ca', \"n't\", 'enjoy', 'this', 'movie', ',', 'then', 'you', 'must', 'be', 'either', 'asleep', 'or', 'in', 'some', 'kind', 'of', 'mental', 'disarray', '.', 'in', '``', 'yankee', 'doodle', 'dandy', \"''\", 'james', 'cagney', 'sings', 'and', 'dances', 'his', 'way', 'to', 'an', 'academy', 'award', ';', 'but', 'in', 'this', 'movie', 'he', 'is', 'better', '!', 'this', 'is', 'james', 'cagney', 'at', 'his', 'quisessential', 'best', '!', 'he', \"'s\", 'fast', 'with', 'the', 'one-liners', '!', 'he', \"'s\", 'fast', 'with', 'his', 'feet', '!', 'it', \"'s\", 'nonstop', 'action', '.', 'and', 'the', 'song-and-dance', 'skits', 'are', 'classics', ',', 'especially', '``', 'shanghai', 'lil', '.', \"''\", 'and', 'the', 'supporting', 'cast', 'is', 'great', ';', 'and', 'the', 'entire', 'movie', 'is', 'upbeat', ',', 'fast', 'moving', ',', 'and', 'exudes', 'confidence', '.', 'and', 'even', 'though', 'this', 'movie', 'was', 'made', 'over', '70', 'years', 'ago', ',', 'it', \"'s\", 'still', 'watchable', ',', 'even', 'today', '.', 'and', 'of', 'course', ',', 'this', 'movie', 'features', 'miss', 'ruby', 'keeler', '(', 'who', 'was', 'married', 'to', 'al', 'jolson', ')', '.', 'she', 'is', 'the', 'perfect', 'partner', 'for', 'james', 'cagney', '...', 'and', 'dick', 'powell', 'too', '!', 'if', 'you', 'like', 'upbeat', ',', 'fast', 'paced', 'movies', ',', 'with', 'lots', 'of', 'singing', 'and', 'dancing', ',', 'this', 'is', 'the', 'movie', 'to', 'watch', '.'], ['this', 'was', 'a', 'movie', 'of', 'which', 'i', 'kept', 'on', 'reading', 'the', 'reviews', 'again', 'and', 'again', ';', 'and', 'despite', 'it', 'being', 'played', 'at', 'film', 'museum', 'and', 'not', 'at', 'pathe', 'theatres', '\\x96', 'i', 'decided', 'to', 'give', 'this', 'movie', 'a', 'try', '.', 'the', 'reasons', 'were', 'many', '\\x96', 'in', 'the', 'reviews', 'it', 'was', 'compared', 'with', 'pulp', 'fiction', ',', 'it', 'had', 'several', 'parallel', 'stories', 'running', 'in', 'the', 'movie', 'and', 'lastly', 'it', 'had', 'already', 'won', '17', 'awards', 'internationally', 'in', 'various', 'categories', '.', 'i', 'was', 'eager', 'to', 'see', 'this', 'movie', 'and', 'due', 'to', 'my', 'off', 'day', 'at', 'greenpeace', 'i', 'decided', 'to', 'make', 'myself', 'happy', 'by', 'going', 'and', 'seeing', 'this', 'movie.', '<', 'br', '/', '>', '<', 'br', '/', '>', 'it', 'is', 'a', 'story', 'based', 'in', 'finland', '.', 'i', 'think', 'it', 'reflected', 'the', 'current', 'life', 'of', 'people', 'in', 'general', '\\x96', 'drugs', ',', 'crime', ',', 'sex', ',', 'anger', ',', 'anguish', ',', 'fear', 'and', 'guilt', '.', 'every', 'emotion', 'was', 'captured', 'brilliantly', 'in', 'the', 'movie', '.', 'there', 'are', 'several', 'characters', 'and', 'stories', 'interwoven', 'but', 'a', 'few', 'characters', 'come', 'back', 'in', 'the', 'latter', 'half', '\\x96', 'making', 'a', 'link', 'with', 'the', 'beginning', 'sequences', 'and', 'that', 'takes', 'the', 'story', 'forward.', '<', 'br', '/', '>', '<', 'br', '/', '>', 'the', 'story', 'is', 'about', 'two', 'friends', '\\x96', 'one', 'of', 'whom', 'is', 'computer', 'geek', 'and', 'the', 'other', 'is', 'a', 'drug', 'addict', '\\x96', 'son', 'of', 'an', 'abusive', 'father', '.', 'the', 'drug', 'addict', 'boy', 'trades', 'a', 'euro', '500', 'note', '\\x96', 'printed', 'by', 'his', 'friend', '\\x96', 'to', 'buy', 'back', 'his', 'music', 'system', ',', 'and', 'in', 'returns', 'gets', 'huge', 'change', 'of', 'cash', 'back', 'to', 'buy', 'more', 'drugs', '.', 'the', 'trading', 'of', 'euro', '500', 'note', 'continues', 'to', 'bizarre', 'events', '\\x96', 'from', 'the', 'shop', 'trader', 'to', 'an', 'auto', 'mechanic', 'cum', 'robber', '\\x96', 'to', 'a', 'car', 'dealer', '\\x96', 'to', 'a', 'vacuum', 'cleaner', 'salesman', '\\x96', 'to', 'a', 'prostitute', '\\x96', 'to', 'a', 'police', 'officer', '\\x96', 'then', 'to', 'her', 'family', 'and', 'children', '.', 'how', 'the', 'beginning', 'of', 'a', 'small', 'thing', '\\x96', 'creates', 'a', 'chain', 'reaction', 'that', 'lead', 'even', 'after', '5', 'years', 'of', 'that', 'first', 'incident', 'to', 'a', 'depressing', 'last', 'note', '\\x96', 'which', 'i', 'wo', \"n't\", 'reveal', 'here.', '<', 'br', '/', '>', '<', 'br', '/', '>', 'the', 'direction', 'is', 'excellent', '.', 'the', 'character', 'development', 'in', 'the', 'movie', 'is', 'first', 'rate', '.', 'the', 'character', 'that', 'sticks', 'on', 'your', 'mind', 'even', 'after', 'you', 'come', 'out', 'of', 'the', 'movie', 'is', 'of', 'the', 'vacuum', 'cleaner', 'sales', 'person', '.', 'all', 'the', 'departments', 'of', 'the', 'movie', 'are', 'handled', 'nicely', '.', 'here', 'i', 'would', 'like', 'to', 'make', 'a', 'couple', 'of', 'critical', 'comments', '.', 'first', ',', 'during', 'the', 'sequence', 'of', 'one', 'event', 'leading', 'to', 'another', 'i', 'felt', 'that', 'the', 'coincidences', 'were', 'too', 'rapid', 'and', 'forced', '.', 'but', 'this', 'screenplay', 'writing', 'error', 'is', 'pardon', 'when', 'one', 'sees', 'the', 'whole', 'canvas', '.', 'second', ',', 'the', 'trail', 'of', 'one', 'character', 'leading', 'to', 'another', 'somehow', 'leads', 'back', 'to', 'the', 'first', 'two', 'characters', 'and', 'that', 'again', 'i', 'found', 'to', 'be', 'a', 'forced', 'decision', 'by', 'the', 'screen', 'play', 'writer', '.', 'there', 'was', 'no', 'need', 'to', 'have', 'the', 'same', 'characters', 'showing', 'up', 'again', 'when', 'there', 'are', 'different', 'causes', 'leading', 'to', 'different', 'effects', 'in', 'such', 'a', 'big', 'city.', '<', 'br', '/', '>', '<', 'br', '/', '>', 'but', 'after', 'saying', 'that', '\\x96', 'it', 'is', 'an', 'excellent', 'movie', '!', 'it', 'is', 'a', 'dark', 'movie', 'with', 'quite', 'a', 'few', 'sex', 'scenes', '.', 'the', 'characters', 'are', 'having', 'the', 'black', ',', 'white', 'and', 'gray', 'shades', 'and', 'emotions', 'that', 'change', 'from', 'facing', 'different', 'situation', 'which', 'is', 'brilliantly', 'captured', 'by', 'the', 'director.', '<', 'br', '/', '>', '<', 'br', '/', '>', 'a', 'top', 'rate', 'movie', '!', 'it', 'has', 'all', 'the', 'ingredients', 'of', 'becoming', 'a', 'cult', 'movie', '.', 'i', 'hope', 'that', 'only', 'such', 'movies', 'should', 'not', 'become', 'and', 'achieve', 'the', 'status', 'of', 'cult', 'movies', 'and', 'win', 'lots', 'of', 'awards', ',', 'because', 'without', 'crime', ',', 'sex', ',', 'violence', ',', 'drugs', 'etc', '.', 'too', 'one', 'can', 'make', 'fantastic', 'movies', '\\x96', 'bicycle', 'thieves', 'and', 'pather', 'panchali', 'are', 'its', 'prime', 'examples', '\\x96', 'only', 'thing', 'is', 'that', 'they', 'were', 'a', 'long', 'time', 'back', 'and', 'times', 'are', 'changing', 'and', 'i', 'think', 'movies', 'are', 'reflecting', 'the', 'current', 'times', '.'], ['antwone', 'fisher', 'is', 'the', 'story', 'of', 'a', 'young', 'emotionally', 'troubled', 'u.s.', 'navy', 'seaman', '.', 'his', 'problems', 'lead', 'him', 'to', 'jerome', 'davenport', ',', 'a', 'psychiatrist', 'who', 'helps', 'him', 'realize', 'that', 'his', 'troubles', 'stem', 'from', 'his', 'childhood', 'upbringing', '.', '<', 'br', '/', '>', '<', 'br', '/', '>', 'get', 'ready', 'to', 'shed', 'a', 'tear', 'or', 'two', '.', 'the', 'movie', 'could', 'thaw', 'the', 'coldest', 'heart', '.', 'i', 'loved', 'the', 'story', ',', 'which', 'turns', 'from', 'something', 'so', 'very', 'awful', 'to', 'happen', 'to', 'anyone', 'into', 'a', 'positive', 'ending', '.', 'antwone', 'fisher', 'is', 'a', 'powerful', 'movie', ',', 'most', 'importantly', 'about', 'forgiveness', '.', 'other', 'important', 'issues', 'that', 'get', 'you', 'thinking', 'are', 'child', 'abuse', ',', 'adoption', ',', 'and', 'foster', 'care.', '<', 'br', '/', '>', '<', 'br', '/', '>', 'oscar', 'winner', ',', 'denzel', 'washington', 'does', 'an', 'impressive', 'job', 'in', 'his', 'directorial', 'debut', '.', 'there', 'were', 'many', 'scenes', 'which', 'i', 'enjoyed', 'watching', '.', 'they', 'included', 'the', 'beginning', '(', 'dreams', 'of', 'a', 'little', 'boy', '\\x96', 'check', 'out', 'the', 'gigantic-sized', 'pancakes', '!', ')', 'and', 'the', 'ending', '(', 'dreams', 'turned', 'into', 'reality', ')', ',', 'which', 'beautifully', 'tied', 'the', 'story', 'together', '.', '<', 'br', '/', '>', '<', 'br', '/', '>', 'another', 'wonderful', 'scene', 'occurred', 'when', 'the', 'doctor', 'encouraged', 'antwone', 'to', 'search', 'for', 'his', 'family', 'to', 'find', 'answers', 'to', 'his', 'questions', 'about', 'his', 'family', 'that', 'abandoned', 'him', '.', '<', 'br', '/', '>', '<', 'br', '/', '>', 'my', 'favorite', 'scene', 'happened', 'when', 'the', 'young', 'man', 'finally', 'confronted', 'his', 'mother', 'and', 'her', 'reaction', 'towards', 'him', '.', 'priceless.', '<', 'br', '/', '>', '<', 'br', '/', '>', 'all', 'the', 'actors', 'represented', 'their', 'parts', 'well', '.', '<', 'br', '/', '>', '<', 'br', '/', '>', 'in', 'addition', 'to', 'directorial', 'responsibilities', ',', 'mr.', 'washington', 'continues', 'to', 'show', 'why', 'he', 'won', 'an', 'oscar', 'award', 'and', 'is', 'successful', 'in', 'all', 'his', 'acting', 'roles', '.', 'he', 'had', 'a', 'strong', 'presence', 'in', 'this', 'movie.', '<', 'br', '/', '>', '<', 'br', '/', '>', 'actor', ',', 'derek', 'luke', 'demonstrated', 'why', 'he', 'was', 'so', 'right', 'for', 'the', 'part', 'of', 'antwone', 'fisher', '.', 'he', 'portrayed', 'very', 'real', 'and', 'heart-tugging', 'work.', '<', 'br', '/', '>', '<', 'br', '/', '>', 'joy', 'bryant', 'who', 'played', 'the', 'part', 'of', 'cheryl', ',', 'antwone', \"'s\", 'love', 'interest', ',', 'resembled', 'a', 'ray', 'of', 'sunshine', 'on', 'the', 'screen', '.', 'the', 'chemistry', 'flowed', 'well', 'between', 'the', 'romantic', 'characters.', '<', 'br', '/', '>', '<', 'br', '/', '>', 'novella', 'nelson', 'who', 'played', 'the', 'part', 'of', 'mrs.', 'tate', ',', 'a', 'despicable', 'character', ',', 'deserves', 'special', 'mention.', '<', 'br', '/', '>', '<', 'br', '/', '>', 'although', 'we', 'only', 'see', 'her', 'for', 'a', 'few', 'minutes', ',', 'the', 'actress', 'who', 'played', 'fisher', \"'s\", 'mother', 'gave', 'an', 'outstanding', 'performance.', '<', 'br', '/', '>', '<', 'br', '/', '>', 'everyone', 'should', 'see', 'antwone', 'fisher', '.'], ['the', 'king', 'maker', 'will', 'doubtless', 'be', 'a', 'success', 'in', 'thailand', 'where', 'the', 'similar', '(', 'but', 'superior', ')', \"'the\", 'legend', 'of', 'suriyothai', \"'\", 'set', 'box', 'office', 'records', '.', 'the', 'film', 'directed', 'by', 'lek', 'kitaparaporn', 'after', 'a', 'screenplay', 'by', 'sean', 'casey', 'based', 'on', 'historical', 'fact', 'in', '1547', 'siam', 'has', 'some', 'amazingly', 'beautiful', 'visual', 'elements', 'but', 'is', 'disarmed', 'by', 'one', 'of', 'the', 'corniest', ',', 'pedestrian', 'scripts', 'and', 'story', 'development', 'on', 'film.', '<', 'br', '/', '>', '<', 'br', '/', '>', 'the', 'event', 'the', 'picture', 'relates', 'is', 'the', 'arrival', 'of', 'the', 'portuguese', 'soldier', 'of', 'fortune', 'fernando', 'de', 'gamma', '(', 'gary', 'stretch', ')', 'whose', 'vengeance', 'for', 'this', 'father', \"'s\", 'murderer', 'drives', 'him', 'to', 'shipwrecked', ',', 'captured', 'and', 'thrown', 'into', 'slavery', 'and', 'put', 'on', 'the', 'bloc', 'in', 'ayutthaya', 'in', 'the', 'kingdom', 'of', 'siam', 'where', 'he', 'is', 'purchased', 'by', 'the', 'beautiful', 'maria', '(', 'cindy', 'burbridge', ')', 'with', 'the', 'consent', 'of', 'her', 'father', 'phillipe', '(', 'john', 'rhys-davies', ')', ',', 'a', 'man', 'with', 'a', 'name', 'and', 'a', 'past', 'that', 'are', 'revealed', 'as', 'the', 'story', 'progresses', '.', 'there', 'is', 'a', 'plot', 'to', 'overthrown', 'the', 'king', 'and', 'fernando', 'and', 'his', 'new', 'siamese', 'sidekick', 'tong', '(', 'dom', 'hetrakul', ')', ',', 'after', 'some', 'gratuitous', 'cgi', 'enhanced', 'choreographed', 'martial', 'arts', 'silliness', ',', 'are', 'first', 'rewarded', 'by', 'the', 'king', 'to', 'become', 'his', 'bodyguards', ',', 'only', 'to', 'be', 'imprisoned', 'together', 'once', 'queen', 'sudachan', '(', 'yoe', 'hassadeevichit', ')', 'reveals', 'her', 'plot', 'to', 'kill', 'the', 'king', 'and', 'son', 'to', 'allow', 'her', 'lover', 'lord', 'chakkraphat', '(', 'oliver', 'pupart', ')', 'to', 'take', 'over', 'the', 'rule', 'of', 'siam', '.', 'yet', 'of', 'course', 'fernando', 'and', 'tong', 'escape', 'and', 'are', 'condemned', 'to', 'fight', 'each', 'other', 'to', 'save', 'the', 'lives', 'of', 'their', 'families', '(', 'tong', \"'s\", 'wife', 'and', 'children', 'and', 'fernando', \"'s\", 'now', 'firm', 'love', 'affair', 'with', 'maria', ')', 'with', 'the', 'expected', 'consequences.', '<', 'br', '/', '>', '<', 'br', '/', '>', 'the', 'acting', '(', 'with', 'the', 'exception', 'of', 'john', 'rhys-davies', ')', 'is', 'so', 'weak', 'that', 'the', 'film', 'occasionally', 'seems', 'as', 'though', 'it', 'were', 'meant', 'to', 'be', 'camp', '.', 'the', 'predominantly', 'thai', 'cast', 'struggle', 'with', 'the', 'poorly', 'written', 'dialog', ',', 'making', 'us', 'wish', 'they', 'had', 'used', 'their', 'native', 'thai', 'with', 'subtitles', '.', 'the', 'musical', 'score', 'by', 'ian', 'livingstone', 'sounds', 'as', 'though', 'exhumed', 'form', 'old', 'tv', 'soap', 'operas', '.', 'but', 'if', 'it', 'is', 'visual', 'splendor', 'you', \"'re\", 'after', 'there', 'is', 'plenty', 'of', 'that', 'and', 'that', 'alone', 'makes', 'the', 'movie', 'worth', 'watching', '.', 'it', 'is', 'a', 'film', 'that', 'has', 'obvious', 'high', 'financial', 'backing', 'for', 'all', 'the', 'special', 'effects', 'and', 'masses', 'of', 'cast', 'and', 'sets', 'and', 'shows', 'its', 'good', 'intentions', '.', 'it', 'is', 'just', 'the', 'basics', 'that', 'are', 'missing', '.', 'grady', 'harp'], ['it', 'might', 'be', 'a', 'little', 'erroneous', 'to', 'open', 'a', 'review', 'by', 'describing', 'a', 'film', 'in', 'terms', 'of', 'other', 'films', ',', 'but', 'i', 'think', 'it', \"'s\", 'the', 'best', 'way', 'to', 'give', 'an', 'approximation', 'of', 'the', 'place', 'election', 'occupies', 'in', 'the', 'gangster', 'genre', 'arena', '.', 'it', 'works', 'somewhere', 'in', 'between', 'the', 'godfather', 'and', 'kinji', 'fukasaku', \"'s\", 'yakuza', 'opus', 'the', 'yakuza', 'papers', '(', 'aka', 'battles', 'without', 'honour', 'and', 'humanity', ')', ',', 'in', 'that', 'it', 'is', 'simultaneously', 'both', 'romanticized', 'and', 'realistic', ',', 'dark', 'and', 'gritty', '.', 'but', 'it', \"'s\", 'also', 'a', 'johnnie', 'to', 'film', ',', 'and', 'as', 'such', 'it', 'carries', 'the', 'distinct', 'touch', 'of', 'the', 'hong', 'kong', 'auteur.', '<', 'br', '/', '>', '<', 'br', '/', '>', 'every', 'two', 'years', 'the', 'hk', 'triad', 'elects', 'a', 'new', 'boss', '.', 'only', 'this', 'time', 'one', 'of', 'the', 'candidates', 'is', 'not', 'overly', 'happy', 'with', 'the', 'result', 'so', 'he', 'decides', 'to', 'take', 'matters', 'into', 'his', 'own', 'hands', 'much', 'to', 'the', 'dismay', 'of', 'the', 'rest', 'of', 'the', 'triads', 'and', 'the', 'police', '.', 'that', \"'s\", 'the', 'story', 'in', 'a', 'nutshell', 'but', 'rest', 'assured', 'it', 'has', 'a', 'lot', 'more', 'going', 'for', 'it', 'than', 'that', '.', 'as', 'in', 'the', 'yakuza', 'papers', ',', 'there', \"'s\", 'a', 'great', 'deal', 'of', 'scheming', ',', 'back-stabbing', 'and', 'forming', 'and', 'switching', 'of', 'allegiances', '(', 'sometimes', 'all', 'it', 'takes', 'is', 'a', 'phone', 'call', '-', 'in', 'one', 'of', 'the', 'most', 'memorable', 'scenes', 'i', \"'ve\", 'seen', 'in', 'recent', 'time', ')', 'which', 'might', 'not', 'necessarily', 'make', 'for', 'deep', 'drama', 'but', 'makes', 'for', 'an', 'interesting', 'plot', 'and', 'good', 'character', 'conflict', '.', 'fans', 'of', 'the', 'gangster', 'genre', 'are', 'likely', 'to', 'appreciate', 'it', 'in', 'that', 'aspect', '.', 'election', 'is', 'not', 'as', 'action-oriented', 'as', 'one', 'might', 'expect', ';', 'although', 'it', 'is', 'violent', '.', 'and', 'i', \"'m\", 'not', 'talking', 'about', 'the', 'glossy', ',', 'glamour', 'version', 'of', 'hollywood', 'violence', '.', 'this', 'is', 'dark', 'and', 'grim', '.', 'to', \"'s\", 'camera', 'lingers', 'in', 'the', 'scenes', 'of', 'people', 'being', 'brutalized', 'in', 'ways', 'that', 'reveal', 'both', 'the', 'humanity', 'and', 'inhumanity', 'of', 'the', 'perpetrators', 'and', 'victims', ';', 'after', 'all', 'violence', 'is', 'an', 'integral', 'part', 'of', 'us', 'whether', 'we', 'like', 'it', 'or', 'not.', '<', 'br', '/', '>', '<', 'br', '/', '>', 'if', 'you', \"'re\", 'familiar', 'with', 'to', \"'s\", 'style', ',', 'then', 'you', 'should', 'know', 'what', 'to', 'expect', '.', 'the', 'pacing', 'is', 'relatively', 'slow', 'and', 'deliberate', '.', 'the', 'cinematography', 'is', 'great', ',', 'slick', 'and', 'dark', 'in', 'equal', 'measures', ',', 'utilizing', 'dark', 'hues', '(', 'brown', ',', 'dark', 'green', 'and', 'orange', ')', 'while', 'the', 'smooth', 'tracking', 'shots', 'add', 'a', 'vibrant', 'quality', 'to', 'it', '.', 'in', 'the', 'end', ',', 'election', 'occupies', 'a', 'peculiar', 'place', '.', 'it', \"'s\", 'not', 'exactly', 'a', 'character', 'study', 'and', 'it', \"'s\", 'not', 'an', 'action-oriented', 'gangster', 'film', '.', 'it', 'explores', 'a', 'situation', '(', 'the', 'election', 'and', 'its', 'aftermath', ')', ',', 'but', 'does', 'so', 'in', 'style', ',', 'and', 'is', 'both', 'realistic', 'and', 'romanticized', '(', 'the', 'triad', 'ceremonies', 'in', 'particular', 'echo', 'of', 'an', 'oriental', 'godfather', ')', '.'], ['genre', ':', 'dinosaur', ',', 'animation', ',', 'new', 'york', ',', 'time', 'travel', ',', 'circus', '.', '?', '<', 'br', '/', '>', '<', 'br', '/', '>', 'main', 'characters', ':', 'rex', 'the', 'tyrannosaurus', 'rex', ',', 'elsa', 'the', 'pterodactyl', ',', 'dweeb', 'the', 'parasarolophus', ',', 'ooo', 'the', 'triceratops', ',', 'a', 'boy', 'called', 'louis', ',', 'a', 'girl', 'called', 'cecilia', 'and', 'captain', 'new-eyes', '.', '?', 'actors', ':', 'john', 'goodman', '(', 'rex', ')', ',', 'yeardley', 'smith', '(', 'cecilia', ')', ',', 'martin', 'short', '(', 'stubbs', 'the', 'clown', ')', ',', 'felicity', 'kendal', '(', 'elsa', ')', 'etc', '.', '?', '<', 'br', '/', '>', '<', 'br', '/', '>', 'what', 'happens', ':', 'four', 'dinosaurs', '(', 'see', 'above', ')', 'are', 'fed', 'some', '``', 'brain', 'grain', 'cereal', \"''\", 'and', 'are', 'now', 'cuddly', ',', 'friendly', 'dinosaurs', 'who', 'are', 'going', 'to', 'be', 'nice', 'to', 'children', '.', 'they', 'go', 'into', 'new', 'york', ',', 'with', 'big', 'plans', '<', 'br', '/', '>', '<', 'br', '/', '>', 'my', 'thoughts', ':', 'this', 'is', 'a', 'cute', 'animated', 'film', '.', 'the', 'animation', 'of', 'the', 'dinosaurs', 'when', 'they', 'go', 'cuddly', 'and', 'friendly', 'is', 'a', 'bit', 'floppy', 'and', 'not-so-good', ',', 'but', 'they', 'look', 'pleasant', 'all', 'the', 'same', 'that', 'way', '.', 'i', 'like', 'the', 'dinosaurs', 'when', 'they', 'are', 'cuddly', 'and', 'friendly', ',', 'they', 'are', 'nice', ',', 'friendly', 'and', 'good', '.', 'i', 'like', '(', 'almost', ')', 'all', 'the', 'characters', 'featured', ',', 'especially', 'elsa', 'and', 'cecilia', ',', 'but', 'of', 'course', 'i', 'like', 'the', 'others', 'as', 'well', '.', 'overall', ',', 'i', 'like', 'this', 'film', 'a', 'lot', '!', ':', '-', ')', '<', 'br', '/', '>', '<', 'br', '/', '>', 'recommended', 'to', ':', 'people', 'who', 'like', 'good', 'children', \"'s\", 'animated', 'films', ',', 'people', 'who', 'like', 'dinosaurs', ',', 'john', 'goodman', 'and', 'people', 'who', 'think', 'that', 'circuses', 'are', \"n't\", 'always', 'what', 'they', 'seem', 'enjoy', '!', ':', '-', ')'], ['``', 'miss', 'cast', 'away', \"''\", 'is', 'an', 'amusing', 'trifle', ',', 'which', 'dispenses', 'with', 'serious', 'plot', 'or', 'character', 'development', 'to', 'pack', 'in', 'as', 'many', 'gags', 'as', 'possible', '.', 'best', 'enjoyed', 'with', 'a', 'large', 'audience', 'that', 'is', 'open', 'to', 'such', 'entertainments', 'and', 'perhaps', ',', 'has', 'had', 'a', 'few', 'drinks', '.', 'most', 'of', 'the', 'jokes', 'are', 'current-event', 'based', 'so', 'in', 'future', 'years', 'this', 'film', 'may', 'become', 'a', 'time-capsule', 'of', 'turn-of-the-21st-century', 'pop', 'culture', 'references.', '<', 'br', '/', '>', '<', 'br', '/', '>', 'the', '30i', 'to', '24p', 'conversion', 'of', 'the', 'footage', 'does', 'create', 'a', 'jerky', 'appearance', 'in', 'some', 'parts', ',', 'most', 'noticeably', 'the', 'opening', 'aerial', 'shots.', '<', 'br', '/', '>', '<', 'br', '/', '>', 'the', 'appearance', 'of', 'micheal', 'jackson', 'is', 'indeed', 'a', 'strange', 'non-sequiter', 'event', '.', 'but', 'i', ',', 'for', 'one', ',', 'find', 'it', 'encouraging', 'that', 'mr.', 'jackson', 'has', 'shown', 'a', 'helpful', 'interest', 'in', 'one', 'of', 'his', 'protégés', 'even', 'after', 'he', '(', 'the', 'director', ')', 'has', 'passed', 'from', 'the', 'cute-preteen-boy', 'stage.', '<', 'br', '/', '>', '<', 'br', '/', '>', 'the', 'effects', 'work', 'is', 'not', 'as', 'bad', 'as', 'one', 'review', 'suggested', '.', 'most', 'of', 'it', 'was', 'done', 'by', 'a', 'one-man', 'crew', 'in', 'a', 'brief', 'span', 'of', 'time', 'consisting', 'of', 'animator', 'william', 'sutton', ',', 'whose', 'name', 'seems', 'to', 'have', 'been', 'omitted', 'from', 'the', 'imdb', 'credits', '.', 'his', 'work', 'is', 'an', 'extraordinary', 'achievement', 'and', 'really', 'helps', 'to', 'fill', 'in', 'the', 'gaps', 'in', 'this', 'movie', '.', 'i', 'hope', 'he', \"'s\", 'finally', 'been', 'paid', '!']]\n"
          ]
        }
      ]
    },
    {
      "cell_type": "code",
      "source": [
        "encoded_x_train = texts_to_sequence(tokenized_x_train, word_to_index)\n",
        "print(encoded_x_train[:10])"
      ],
      "metadata": {
        "colab": {
          "base_uri": "https://localhost:8080/"
        },
        "id": "tAaTQYZzUOSB",
        "outputId": "d2c87f7a-b456-49d2-fb08-bfa99ea0f07a"
      },
      "execution_count": null,
      "outputs": [
        {
          "output_type": "stream",
          "name": "stdout",
          "text": [
            "[[5471, 148, 85, 28, 4653, 27, 120, 120, 120, 1925, 3412, 3, 1386, 6768, 3, 11592, 1, 3, 6428, 4201, 3, 22881, 18354, 3, 2444, 3328, 3, 597, 8199, 3, 9177, 5776, 3, 1891, 16341, 3, 3277, 7143, 3, 7702, 1759, 3, 7278, 1, 4, 42, 229, 6993, 5, 42, 229, 28051, 22882, 56, 6, 1529, 4654, 143, 47, 448, 37, 242, 30, 5618, 28, 3412, 15, 37, 133, 235, 248, 33, 28052, 131, 31, 27, 47, 3609, 72, 1, 23, 37, 188, 1169, 5777, 5, 449, 28, 6768, 6047, 8, 54, 1140, 180, 23, 185, 235, 8, 1347, 27, 3, 6, 19581, 4112, 47, 207, 8, 38, 14, 43, 488, 242, 3, 4070, 3, 2781, 488, 25, 76, 1131, 46, 7541, 15, 1753, 23, 37, 3088, 449, 19, 219, 850, 139, 8750, 4, 458, 5, 537, 45, 16341, 28, 47, 5778, 21, 3412, 19, 1, 449, 5, 132, 12034, 27, 23, 3063, 518, 478, 5, 1926, 18355, 2, 26, 525, 133, 64, 2, 128, 439, 1499, 2, 306, 351, 2, 251, 529, 723, 103, 46, 231, 28053, 32252, 23, 8, 14786, 6, 4365, 8, 2, 2270, 42, 567, 4], [2, 658, 150, 178, 29, 250, 50, 29, 189, 168, 6, 337, 389, 326, 4, 25, 16, 155, 127, 337, 389, 310, 23, 142, 132, 41, 185, 377, 20, 2002, 49, 541, 18, 16, 429, 50, 16, 20, 168, 169, 180, 321, 7, 323, 121, 4, 16, 265, 2, 125, 971, 8, 39, 339, 5, 2, 132, 66, 890, 41, 16, 265, 18, 2980, 244, 103, 2, 24, 3, 16, 76, 83, 32, 480, 61, 622, 1530, 105, 2, 135, 20, 2382, 596, 5, 16, 20, 1088, 4, 16, 816, 2341, 15, 51, 3, 1040, 22, 2, 26, 8, 6048, 425, 3, 25, 14, 130, 622, 4, 722, 10190, 20, 2382, 1099, 3, 70, 22, 6, 6258, 3, 261, 1427, 17283, 5, 1126, 5403, 4, 43, 15, 43, 3, 16, 20, 4158, 693, 4], [7, 279, 3, 2, 80, 377, 22, 17, 24, 9, 32, 2, 133, 3, 25, 2, 4756, 35, 399, 4, 17, 80, 377, 9, 292, 48, 97, 1, 117, 15, 18, 1105, 40, 9, 33, 3464, 31, 2, 97, 4, 2, 1117, 7, 2383, 5, 5779, 9, 61, 178, 17, 24, 4], [14, 58, 1093, 4, 14, 58, 472, 4, 14, 58, 225, 4, 14, 58, 6, 80, 4, 14, 19, 40, 7, 2, 725, 117, 140, 111, 87, 843, 4, 57, 29, 198, 32, 363, 17, 24, 3, 110, 29, 222, 39, 367, 2242, 52, 15, 62, 254, 7, 1842, 1, 4, 15, 33, 12975, 19582, 9918, 31, 582, 4446, 2943, 5, 4756, 37, 114, 8, 46, 1760, 1462, 122, 25, 15, 17, 24, 36, 9, 142, 41, 17, 9, 582, 4446, 42, 37, 1, 133, 41, 36, 19, 815, 23, 2, 3261, 41, 36, 19, 815, 23, 37, 1882, 41, 14, 19, 9178, 234, 4, 5, 2, 32253, 5619, 35, 1981, 3, 270, 33, 6654, 10483, 4, 31, 5, 2, 750, 195, 9, 101, 122, 5, 2, 446, 24, 9, 7876, 3, 815, 718, 3, 5, 9669, 5192, 4, 5, 70, 170, 17, 24, 20, 111, 148, 1306, 171, 591, 3, 14, 19, 149, 1707, 3, 70, 515, 4, 5, 7, 279, 3, 17, 24, 900, 703, 5251, 12035, 28, 47, 20, 1019, 8, 1792, 21043, 27, 4, 67, 9, 2, 421, 1824, 22, 582, 4446, 87, 5, 2305, 3378, 116, 41, 57, 29, 50, 7876, 3, 815, 2496, 117, 3, 23, 758, 7, 1093, 5, 1117, 3, 17, 9, 2, 24, 8, 124, 4], [17, 20, 6, 24, 7, 75, 16, 816, 30, 901, 2, 787, 192, 5, 192, 122, 5, 467, 14, 129, 259, 42, 26, 3433, 5, 34, 42, 1, 6429, 488, 16, 851, 8, 214, 17, 24, 6, 357, 4, 2, 1001, 82, 126, 488, 15, 2, 787, 14, 20, 1052, 23, 3465, 1244, 3, 14, 77, 459, 4273, 618, 642, 15, 2, 24, 5, 5540, 14, 77, 470, 1249, 3413, 2124, 25108, 15, 972, 8200, 4, 16, 20, 4604, 8, 81, 17, 24, 5, 638, 8, 71, 144, 278, 42, 1, 16, 851, 8, 115, 539, 656, 45, 184, 5, 323, 17, 837, 12, 13, 10, 11, 12, 13, 10, 11, 14, 9, 6, 80, 474, 15, 11593, 4, 16, 119, 14, 6994, 2, 1702, 139, 7, 100, 15, 833, 488, 1466, 3, 860, 3, 398, 3, 3064, 3, 8383, 3, 1122, 5, 3466, 4, 185, 1495, 20, 1795, 2018, 15, 2, 24, 4, 51, 35, 459, 121, 5, 618, 12483, 25, 6, 187, 121, 228, 164, 15, 2, 1509, 364, 488, 271, 6, 4366, 23, 2, 454, 805, 5, 18, 320, 2, 80, 32254, 12, 13, 10, 11, 12, 13, 10, 11, 2, 80, 9, 56, 128, 362, 488, 40, 7, 878, 9, 1381, 6352, 5, 2, 97, 9, 6, 1240, 5864, 488, 494, 7, 46, 5472, 349, 4, 2, 1240, 5864, 416, 18356, 6, 12036, 8553, 874, 488, 9670, 45, 37, 449, 488, 8, 773, 164, 37, 224, 1674, 3, 5, 15, 1409, 233, 620, 668, 7, 2105, 164, 8, 773, 65, 1466, 4, 2, 12484, 7, 12036, 8553, 874, 2074, 8, 1148, 714, 488, 48, 2, 2007, 14787, 8, 46, 8384, 10805, 14788, 8947, 488, 8, 6, 496, 5693, 488, 8, 6, 12037, 12485, 9410, 488, 8, 6, 3434, 488, 8, 6, 559, 1793, 488, 110, 8, 55, 242, 5, 419, 4, 104, 2, 454, 7, 6, 404, 165, 488, 2306, 6, 3778, 2067, 18, 487, 70, 113, 650, 171, 7, 18, 107, 3414, 8, 6, 2401, 251, 874, 488, 75, 16, 495, 32, 2293, 2981, 12, 13, 10, 11, 12, 13, 10, 11, 2, 469, 9, 324, 4, 2, 125, 971, 15, 2, 24, 9, 107, 1123, 4, 2, 125, 18, 3578, 30, 141, 353, 70, 113, 29, 228, 59, 7, 2, 24, 9, 7, 2, 12037, 12485, 6995, 396, 4, 43, 2, 10806, 7, 2, 24, 35, 2467, 1630, 4, 145, 16, 68, 50, 8, 115, 6, 381, 7, 2767, 781, 4, 107, 3, 312, 2, 660, 7, 40, 1568, 966, 8, 174, 16, 429, 18, 2, 8385, 82, 116, 7406, 5, 890, 4, 25, 17, 965, 506, 5694, 9, 9919, 64, 40, 1131, 2, 227, 12486, 4, 343, 3, 2, 3716, 7, 40, 125, 966, 8, 174, 848, 866, 164, 8, 2, 107, 128, 121, 5, 18, 192, 16, 265, 8, 39, 6, 890, 2008, 45, 2, 306, 326, 724, 4, 51, 20, 69, 354, 8, 38, 2, 177, 121, 751, 72, 192, 64, 51, 35, 292, 2721, 966, 8, 292, 303, 15, 159, 6, 213, 12976, 12, 13, 10, 11, 12, 13, 10, 11, 25, 113, 614, 18, 488, 14, 9, 46, 324, 24, 41, 14, 9, 6, 455, 24, 23, 194, 6, 187, 398, 157, 4, 2, 121, 35, 275, 2, 328, 3, 471, 5, 3744, 6655, 5, 1248, 18, 668, 48, 4501, 292, 909, 75, 9, 2018, 1795, 45, 2, 10484, 12, 13, 10, 11, 12, 13, 10, 11, 6, 430, 1123, 24, 41, 14, 58, 43, 2, 4367, 7, 1534, 6, 1319, 24, 4, 16, 447, 18, 78, 159, 117, 154, 34, 440, 5, 2852, 2, 2834, 7, 1319, 117, 5, 1280, 758, 7, 2124, 3, 105, 217, 860, 3, 398, 3, 588, 3, 1466, 564, 4, 116, 40, 73, 115, 778, 117, 488, 12487, 5952, 5, 1, 1, 35, 109, 2508, 2509, 488, 78, 165, 9, 18, 44, 82, 6, 221, 74, 164, 5, 229, 35, 2835, 5, 16, 119, 117, 35, 11200, 2, 1702, 229, 4], [5953, 4159, 9, 2, 80, 7, 6, 206, 2092, 3088, 2706, 2907, 13486, 4, 37, 699, 487, 108, 8, 12038, 18357, 3, 6, 4447, 47, 1594, 108, 921, 18, 37, 5193, 15563, 48, 37, 1520, 9671, 4, 12, 13, 10, 11, 12, 13, 10, 11, 95, 1470, 8, 4655, 6, 3518, 52, 128, 4, 2, 24, 93, 15564, 2, 28054, 523, 4, 16, 427, 2, 80, 3, 75, 516, 48, 158, 49, 66, 403, 8, 599, 8, 253, 103, 6, 1113, 294, 4, 5953, 4159, 9, 6, 951, 24, 3, 106, 3262, 56, 7877, 4, 97, 635, 1202, 18, 95, 29, 540, 35, 544, 2372, 3, 15565, 3, 5, 3065, 12039, 12, 13, 10, 11, 12, 13, 10, 11, 910, 2424, 3, 4502, 2135, 86, 46, 1140, 313, 15, 37, 3842, 2116, 4, 51, 82, 126, 157, 75, 16, 499, 168, 4, 44, 1899, 2, 454, 28, 1442, 7, 6, 137, 416, 488, 755, 59, 2, 1, 16342, 41, 27, 5, 2, 294, 28, 1442, 690, 103, 653, 27, 3, 75, 1208, 3301, 2, 80, 318, 4, 12, 13, 10, 11, 12, 13, 10, 11, 174, 399, 150, 3965, 64, 2, 859, 7279, 5953, 8, 1606, 22, 37, 242, 8, 176, 2782, 8, 37, 1155, 56, 37, 242, 18, 2527, 108, 4, 12, 13, 10, 11, 12, 13, 10, 11, 71, 513, 150, 622, 64, 2, 206, 143, 408, 5954, 37, 426, 5, 55, 2067, 926, 108, 4, 25109, 12, 13, 10, 11, 12, 13, 10, 11, 43, 2, 169, 4840, 79, 518, 94, 4, 12, 13, 10, 11, 12, 13, 10, 11, 15, 1546, 8, 3842, 9672, 3, 609, 2135, 2074, 8, 138, 153, 36, 1249, 46, 910, 1462, 5, 9, 1206, 15, 43, 37, 132, 606, 4, 36, 77, 6, 578, 1323, 15, 17, 837, 12, 13, 10, 11, 12, 13, 10, 11, 297, 3, 3519, 2836, 6996, 153, 36, 20, 49, 226, 22, 2, 190, 7, 5953, 4159, 4, 36, 992, 66, 166, 5, 32255, 4071, 12, 13, 10, 11, 12, 13, 10, 11, 1843, 13487, 47, 259, 2, 190, 7, 14789, 3, 5953, 19, 131, 639, 3, 11201, 6, 1220, 7, 4757, 30, 2, 306, 4, 2, 1203, 14100, 94, 215, 2, 728, 4310, 12, 13, 10, 11, 12, 13, 10, 11, 11202, 3843, 47, 259, 2, 190, 7, 2630, 11594, 3, 6, 5955, 125, 3, 961, 317, 1, 12, 13, 10, 11, 12, 13, 10, 11, 268, 84, 78, 81, 55, 22, 6, 187, 244, 3, 2, 530, 47, 259, 4159, 19, 426, 507, 46, 1333, 7878, 12, 13, 10, 11, 12, 13, 10, 11, 285, 154, 81, 5953, 4159, 4], [2, 716, 3302, 99, 12040, 39, 6, 988, 15, 7879, 134, 2, 735, 28, 25, 1612, 27, 979, 1853, 7, 1, 88, 298, 899, 1132, 5541, 4, 2, 26, 537, 45, 1, 1, 113, 6, 965, 45, 1936, 6769, 474, 30, 1192, 211, 15, 1, 22883, 58, 62, 2445, 322, 1021, 756, 25, 9, 25110, 45, 40, 7, 2, 1, 3, 8035, 3243, 5, 80, 971, 30, 853, 12, 13, 10, 11, 12, 13, 10, 11, 2, 1568, 2, 445, 8554, 9, 2, 5115, 7, 2, 6656, 1561, 7, 3263, 9179, 962, 1, 28, 1703, 2956, 27, 640, 4605, 22, 17, 349, 19, 2722, 2890, 108, 8, 16343, 3, 1795, 5, 1300, 103, 8948, 5, 273, 30, 2, 1, 15, 1, 15, 2, 5780, 7, 22883, 134, 36, 9, 4448, 45, 2, 322, 3188, 28, 9673, 1, 27, 23, 2, 16344, 7, 55, 349, 28055, 28, 309, 19583, 27, 3, 6, 143, 23, 6, 400, 5, 6, 521, 18, 35, 1974, 21, 2, 80, 4449, 4, 51, 9, 6, 135, 8, 25111, 2, 716, 5, 9179, 5, 37, 186, 22884, 4113, 18358, 28, 11595, 1, 27, 3, 113, 62, 2173, 1620, 5865, 5695, 1588, 1609, 5542, 3, 35, 107, 6770, 45, 2, 716, 8, 440, 37, 22885, 3, 78, 8, 39, 7703, 318, 307, 1665, 1, 28, 1, 1, 27, 2804, 55, 135, 8, 505, 2, 716, 5, 494, 8, 1686, 55, 1595, 1639, 1, 28, 3041, 1, 27, 8, 208, 148, 2, 2576, 7, 22883, 4, 261, 7, 279, 9179, 5, 18358, 1029, 5, 35, 8201, 8, 558, 258, 97, 8, 581, 2, 479, 7, 79, 2039, 28, 18358, 19, 335, 5, 419, 5, 9179, 19, 167, 5252, 131, 1516, 23, 3188, 27, 23, 2, 875, 22886, 12, 13, 10, 11, 12, 13, 10, 11, 2, 132, 28, 23, 2, 1500, 7, 309, 19583, 27, 9, 49, 855, 18, 2, 26, 1909, 207, 21, 170, 14, 82, 1010, 8, 39, 1283, 4, 2, 18359, 11203, 195, 1613, 23, 2, 857, 458, 719, 3, 271, 200, 641, 44, 77, 336, 79, 2106, 11203, 23, 2643, 4, 2, 683, 566, 45, 4114, 1, 952, 21, 170, 1, 788, 188, 267, 2031, 9920, 4, 25, 57, 14, 9, 1021, 14790, 29, 189, 113, 51, 9, 984, 7, 18, 5, 18, 610, 178, 2, 24, 295, 168, 4, 14, 9, 6, 26, 18, 58, 596, 337, 3892, 10807, 22, 43, 2, 317, 303, 5, 5116, 7, 195, 5, 672, 5, 289, 109, 63, 3650, 4, 14, 9, 53, 2, 14101, 18, 35, 985, 4, 10808, 10809], [14, 239, 39, 6, 137, 28056, 8, 924, 6, 704, 45, 5194, 6, 26, 15, 1262, 7, 97, 123, 3, 25, 16, 119, 14, 19, 2, 133, 114, 8, 214, 46, 21044, 7, 2, 291, 8386, 16345, 15, 2, 2402, 555, 12488, 4, 14, 525, 1225, 15, 215, 2, 3130, 5, 1, 1, 19, 17284, 12041, 2, 17284, 6548, 28, 2357, 3303, 217, 9674, 5, 1944, 27, 3, 15, 18, 14, 9, 5068, 204, 14791, 5, 827, 3, 455, 5, 2437, 4, 25, 14, 19, 102, 6, 10810, 8, 26, 3, 5, 21, 159, 14, 2732, 2, 4656, 1198, 7, 2, 2853, 1945, 1, 12, 13, 10, 11, 12, 13, 10, 11, 185, 128, 171, 2, 5956, 17285, 32256, 6, 186, 1531, 4, 78, 17, 74, 40, 7, 2, 12977, 9, 34, 2382, 656, 23, 2, 1011, 49, 36, 1102, 8, 208, 2270, 103, 37, 219, 931, 90, 8, 2, 12042, 7, 2, 374, 7, 2, 28057, 5, 2, 559, 4, 18, 19, 2, 80, 15, 6, 7144, 25, 374, 6154, 14, 58, 6, 181, 65, 184, 22, 14, 91, 18, 4, 21, 15, 2, 17284, 6548, 3, 51, 19, 6, 101, 770, 7, 8036, 3, 1, 5, 12043, 5, 7407, 7, 32257, 28, 509, 43, 14, 320, 9, 6, 1575, 630, 92, 15, 40, 7, 2, 106, 839, 157, 16, 155, 127, 15, 1089, 74, 27, 75, 239, 34, 2926, 115, 22, 869, 472, 25, 178, 22, 46, 249, 135, 5, 63, 125, 1783, 4, 473, 7, 2, 2402, 555, 35, 1181, 8, 1137, 14, 15, 18, 1272, 4, 8386, 9, 34, 21, 32258, 21, 40, 239, 531, 122, 268, 14, 9, 1086, 4, 5, 16, 163, 34, 695, 56, 2, 9411, 3, 9675, 333, 7, 360, 588, 4, 17, 9, 455, 5, 3151, 4, 8, 19, 395, 12044, 15, 2, 157, 7, 100, 129, 21045, 15, 779, 18, 2293, 204, 2, 1944, 5, 17286, 7, 2, 18360, 5, 1539, 122, 113, 43, 588, 9, 46, 9921, 190, 7, 200, 763, 84, 50, 14, 52, 4890, 12, 13, 10, 11, 12, 13, 10, 11, 57, 29, 189, 1045, 23, 8, 19, 451, 3, 110, 29, 154, 136, 61, 8, 531, 4, 2, 1883, 9, 2107, 621, 5, 6049, 4, 2, 611, 9, 101, 3, 3893, 5, 455, 15, 3063, 8202, 3, 16346, 455, 17287, 28, 1540, 3, 455, 1443, 5, 5404, 27, 156, 2, 4657, 4946, 632, 760, 6, 5620, 503, 8, 14, 4, 15, 2, 152, 3, 8386, 16345, 6, 6259, 291, 4, 14, 19, 34, 571, 6, 125, 2093, 5, 14, 19, 34, 46, 32258, 2402, 26, 4, 14, 5543, 6, 909, 28, 2, 8386, 5, 109, 7145, 27, 3, 25, 86, 49, 15, 451, 3, 5, 9, 204, 827, 5, 14791, 28, 2, 17285, 14102, 15, 867, 8203, 7, 46, 11596, 3130, 27, 4], [555, 89, 4658, 3, 792, 3, 186, 794, 3, 74, 2108, 3, 5008, 4, 60, 12, 13, 10, 11, 12, 13, 10, 11, 282, 121, 89, 4606, 2, 12978, 4606, 3, 9676, 2, 1, 3, 28058, 2, 1, 3, 1, 2, 32259, 3, 6, 416, 485, 2456, 3, 6, 256, 485, 17288, 5, 1607, 1, 4, 60, 169, 89, 309, 6875, 28, 4606, 27, 3, 32260, 1444, 28, 17288, 27, 3, 1391, 347, 28, 1, 2, 3966, 27, 3, 21046, 1, 28, 9676, 27, 564, 4, 60, 12, 13, 10, 11, 12, 13, 10, 11, 61, 547, 89, 681, 3547, 28, 81, 761, 27, 35, 4758, 62, 33, 1182, 9180, 19584, 31, 5, 35, 167, 14792, 3, 2944, 3547, 47, 35, 184, 8, 39, 345, 8, 419, 4, 44, 161, 103, 186, 794, 3, 23, 213, 2271, 12, 13, 10, 11, 12, 13, 10, 11, 71, 2468, 89, 17, 9, 6, 1046, 1125, 26, 4, 2, 792, 7, 2, 3547, 64, 44, 161, 14792, 5, 2944, 9, 6, 237, 19585, 5, 32261, 3, 25, 44, 179, 2229, 43, 2, 177, 18, 114, 4, 16, 50, 2, 3547, 64, 44, 35, 14792, 5, 2944, 3, 44, 35, 345, 3, 2944, 5, 63, 4, 16, 50, 28, 231, 27, 43, 2, 121, 2479, 3, 270, 9676, 5, 17288, 3, 25, 7, 279, 16, 50, 2, 401, 21, 94, 4, 444, 3, 16, 50, 17, 26, 6, 181, 41, 89, 92, 27, 12, 13, 10, 11, 12, 13, 10, 11, 1149, 8, 89, 100, 47, 50, 63, 419, 19, 1125, 123, 3, 100, 47, 50, 3547, 3, 309, 6875, 5, 100, 47, 119, 18, 32262, 35, 32, 220, 61, 44, 330, 363, 41, 89, 92, 27], [33, 703, 195, 264, 31, 9, 46, 1143, 14103, 3, 75, 19586, 23, 590, 135, 52, 125, 971, 8, 3219, 15, 21, 126, 1862, 21, 646, 4, 133, 499, 23, 6, 1036, 327, 18, 9, 924, 8, 159, 22887, 5, 390, 3, 58, 77, 6, 187, 5009, 4, 106, 7, 2, 647, 35, 1, 474, 49, 15, 708, 171, 17, 26, 216, 440, 6, 32263, 7, 1, 1838, 1273, 28059, 12, 13, 10, 11, 12, 13, 10, 11, 2, 1, 8, 32264, 12489, 7, 2, 903, 86, 1027, 6, 9181, 1234, 15, 62, 518, 3, 106, 13488, 2, 658, 8751, 19587, 12, 13, 10, 11, 12, 13, 10, 11, 2, 1234, 7, 6657, 1547, 9, 829, 6, 688, 1, 1568, 4, 25, 16, 3, 22, 40, 3, 176, 14, 10811, 18, 609, 1547, 58, 586, 6, 6549, 639, 15, 40, 7, 37, 1, 70, 113, 36, 28, 2, 183, 27, 58, 2062, 48, 2, 1, 21047, 12, 13, 10, 11, 12, 13, 10, 11, 2, 303, 180, 9, 34, 21, 98, 21, 40, 704, 4232, 4, 106, 7, 14, 20, 238, 45, 6, 19588, 904, 15, 6, 1369, 7704, 7, 74, 7880, 7, 18361, 989, 17289, 3, 640, 400, 207, 8, 38, 96, 12045, 48, 2, 863, 963, 4, 37, 180, 9, 46, 2446, 3844, 5, 76, 1594, 8, 1991, 15, 2, 6771, 15, 17, 24, 4, 16, 447, 36, 19, 408, 96, 1437, 41]]\n"
          ]
        }
      ]
    },
    {
      "cell_type": "code",
      "source": [
        "encoded_x_train = texts_to_sequence(tokenized_x_train, word_to_index)\n",
        "encoded_x_valid = texts_to_sequence(tokenized_x_valid, word_to_index)\n",
        "encoded_x_test = texts_to_sequence(tokenized_x_test, word_to_index)"
      ],
      "metadata": {
        "id": "-oLz2hyYU2w9"
      },
      "execution_count": null,
      "outputs": []
    },
    {
      "cell_type": "code",
      "source": [
        "# 상위 샘플 2개 출력\n",
        "for sent in encoded_x_train[:2]: \n",
        "  print(sent)"
      ],
      "metadata": {
        "colab": {
          "base_uri": "https://localhost:8080/"
        },
        "id": "ZRf5A3aoVIaB",
        "outputId": "90306a72-5934-4f4e-9800-58d0433f580e"
      },
      "execution_count": null,
      "outputs": [
        {
          "output_type": "stream",
          "name": "stdout",
          "text": [
            "[5471, 148, 85, 28, 4653, 27, 120, 120, 120, 1925, 3412, 3, 1386, 6768, 3, 11592, 1, 3, 6428, 4201, 3, 22881, 18354, 3, 2444, 3328, 3, 597, 8199, 3, 9177, 5776, 3, 1891, 16341, 3, 3277, 7143, 3, 7702, 1759, 3, 7278, 1, 4, 42, 229, 6993, 5, 42, 229, 28051, 22882, 56, 6, 1529, 4654, 143, 47, 448, 37, 242, 30, 5618, 28, 3412, 15, 37, 133, 235, 248, 33, 28052, 131, 31, 27, 47, 3609, 72, 1, 23, 37, 188, 1169, 5777, 5, 449, 28, 6768, 6047, 8, 54, 1140, 180, 23, 185, 235, 8, 1347, 27, 3, 6, 19581, 4112, 47, 207, 8, 38, 14, 43, 488, 242, 3, 4070, 3, 2781, 488, 25, 76, 1131, 46, 7541, 15, 1753, 23, 37, 3088, 449, 19, 219, 850, 139, 8750, 4, 458, 5, 537, 45, 16341, 28, 47, 5778, 21, 3412, 19, 1, 449, 5, 132, 12034, 27, 23, 3063, 518, 478, 5, 1926, 18355, 2, 26, 525, 133, 64, 2, 128, 439, 1499, 2, 306, 351, 2, 251, 529, 723, 103, 46, 231, 28053, 32252, 23, 8, 14786, 6, 4365, 8, 2, 2270, 42, 567, 4]\n",
            "[2, 658, 150, 178, 29, 250, 50, 29, 189, 168, 6, 337, 389, 326, 4, 25, 16, 155, 127, 337, 389, 310, 23, 142, 132, 41, 185, 377, 20, 2002, 49, 541, 18, 16, 429, 50, 16, 20, 168, 169, 180, 321, 7, 323, 121, 4, 16, 265, 2, 125, 971, 8, 39, 339, 5, 2, 132, 66, 890, 41, 16, 265, 18, 2980, 244, 103, 2, 24, 3, 16, 76, 83, 32, 480, 61, 622, 1530, 105, 2, 135, 20, 2382, 596, 5, 16, 20, 1088, 4, 16, 816, 2341, 15, 51, 3, 1040, 22, 2, 26, 8, 6048, 425, 3, 25, 14, 130, 622, 4, 722, 10190, 20, 2382, 1099, 3, 70, 22, 6, 6258, 3, 261, 1427, 17283, 5, 1126, 5403, 4, 43, 15, 43, 3, 16, 20, 4158, 693, 4]\n"
          ]
        }
      ]
    },
    {
      "cell_type": "code",
      "source": [
        "index_to_word = {}\n",
        "\n",
        "for key, value in word_to_index.items():\n",
        "  index_to_word[value] = key "
      ],
      "metadata": {
        "id": "nhOnwcHiVMuh"
      },
      "execution_count": null,
      "outputs": []
    },
    {
      "cell_type": "code",
      "source": [
        "print(encoded_x_train[0])"
      ],
      "metadata": {
        "colab": {
          "base_uri": "https://localhost:8080/"
        },
        "id": "ll9uNeq1ViiG",
        "outputId": "8732f825-bf13-4f78-b00f-604ffc2deb0f"
      },
      "execution_count": null,
      "outputs": [
        {
          "output_type": "stream",
          "name": "stdout",
          "text": [
            "[5471, 148, 85, 28, 4653, 27, 120, 120, 120, 1925, 3412, 3, 1386, 6768, 3, 11592, 1, 3, 6428, 4201, 3, 22881, 18354, 3, 2444, 3328, 3, 597, 8199, 3, 9177, 5776, 3, 1891, 16341, 3, 3277, 7143, 3, 7702, 1759, 3, 7278, 1, 4, 42, 229, 6993, 5, 42, 229, 28051, 22882, 56, 6, 1529, 4654, 143, 47, 448, 37, 242, 30, 5618, 28, 3412, 15, 37, 133, 235, 248, 33, 28052, 131, 31, 27, 47, 3609, 72, 1, 23, 37, 188, 1169, 5777, 5, 449, 28, 6768, 6047, 8, 54, 1140, 180, 23, 185, 235, 8, 1347, 27, 3, 6, 19581, 4112, 47, 207, 8, 38, 14, 43, 488, 242, 3, 4070, 3, 2781, 488, 25, 76, 1131, 46, 7541, 15, 1753, 23, 37, 3088, 449, 19, 219, 850, 139, 8750, 4, 458, 5, 537, 45, 16341, 28, 47, 5778, 21, 3412, 19, 1, 449, 5, 132, 12034, 27, 23, 3063, 518, 478, 5, 1926, 18355, 2, 26, 525, 133, 64, 2, 128, 439, 1499, 2, 306, 351, 2, 251, 529, 723, 103, 46, 231, 28053, 32252, 23, 8, 14786, 6, 4365, 8, 2, 2270, 42, 567, 4]\n"
          ]
        }
      ]
    },
    {
      "cell_type": "code",
      "source": [
        "print([index_to_word[word] for word in encoded_x_train[0]])"
      ],
      "metadata": {
        "colab": {
          "base_uri": "https://localhost:8080/"
        },
        "id": "1zFxGDAFVe75",
        "outputId": "fd79c602-6051-4820-9a7a-e9e335eceaf5"
      },
      "execution_count": null,
      "outputs": [
        {
          "output_type": "stream",
          "name": "stdout",
          "text": [
            "['reign', 'over', 'me', '(', '2007', ')', '*', '*', '*', 'adam', 'sandler', ',', 'don', 'cheadle', ',', 'jada', '<UNK>', ',', 'liv', 'tyler', ',', 'saffron', 'burrows', ',', 'donald', 'sutherland', ',', 'robert', 'klein', ',', 'melinda', 'dillon', ',', 'mike', 'binder', ',', 'jonathan', 'banks', ',', 'rae', 'allen', ',', 'paula', '<UNK>', '.', 'at', 'times', 'affecting', 'and', 'at', 'times', 'middling', 'dramedy', 'about', 'a', 'thoroughly', 'depressed', 'man', 'who', 'lost', 'his', 'family', 'on', '9/11', '(', 'sandler', 'in', 'his', 'best', 'role', 'since', '``', 'punch-drunk', 'love', \"''\", ')', 'who', 'winds', 'up', '<UNK>', 'with', 'his', 'old', 'college', 'roommate', 'and', 'friend', '(', 'cheadle', 'continuing', 'to', 'do', 'impressive', 'work', 'with', 'every', 'role', 'to', 'date', ')', ',', 'a', 'well-to-do', 'dentist', 'who', 'seems', 'to', 'have', 'it', 'all', '\\x96', 'family', ',', 'wealth', ',', 'happiness', '\\x96', 'but', 'really', 'sees', 'an', 'ally', 'in', 'freedom', 'with', 'his', 'troubled', 'friend', \"'s\", 'own', 'personal', 'life', 'offerings', '.', 'written', 'and', 'directed', 'by', 'binder', '(', 'who', 'co-stars', 'as', 'sandler', \"'s\", '<UNK>', 'friend', 'and', 'acting', 'accountant', ')', 'with', 'equal', 'parts', 'humor', 'and', 'genuine', 'heartache', 'the', 'film', 'works', 'best', 'when', 'the', 'two', 'stars', 'share', 'the', 'screen', 'until', 'the', 'last', 'act', 'falls', 'into', 'an', 'almost', 'movie-of-the-week', 'treacle', 'with', 'to', 'tidy', 'a', 'solution', 'to', 'the', 'matters', 'at', 'hand', '.']\n"
          ]
        }
      ]
    },
    {
      "cell_type": "code",
      "source": [
        "decoded_sample = [index_to_word[word] for word in encoded_x_train[0]]"
      ],
      "metadata": {
        "id": "9NJGuLPNVt1j"
      },
      "execution_count": null,
      "outputs": []
    },
    {
      "cell_type": "code",
      "source": [
        "print('기존의 첫번째 샘플:', tokenized_x_train[0])\n",
        "print('복원된 첫번째 샘플:', decoded_sample)"
      ],
      "metadata": {
        "colab": {
          "base_uri": "https://localhost:8080/"
        },
        "id": "lRSOmYlWV2QO",
        "outputId": "7e792685-a16c-439b-e256-72a977bb2ae3"
      },
      "execution_count": null,
      "outputs": [
        {
          "output_type": "stream",
          "name": "stdout",
          "text": [
            "기존의 첫번째 샘플: ['reign', 'over', 'me', '(', '2007', ')', '*', '*', '*', 'adam', 'sandler', ',', 'don', 'cheadle', ',', 'jada', 'pinkett-smith', ',', 'liv', 'tyler', ',', 'saffron', 'burrows', ',', 'donald', 'sutherland', ',', 'robert', 'klein', ',', 'melinda', 'dillon', ',', 'mike', 'binder', ',', 'jonathan', 'banks', ',', 'rae', 'allen', ',', 'paula', 'newsome', '.', 'at', 'times', 'affecting', 'and', 'at', 'times', 'middling', 'dramedy', 'about', 'a', 'thoroughly', 'depressed', 'man', 'who', 'lost', 'his', 'family', 'on', '9/11', '(', 'sandler', 'in', 'his', 'best', 'role', 'since', '``', 'punch-drunk', 'love', \"''\", ')', 'who', 'winds', 'up', 're-united', 'with', 'his', 'old', 'college', 'roommate', 'and', 'friend', '(', 'cheadle', 'continuing', 'to', 'do', 'impressive', 'work', 'with', 'every', 'role', 'to', 'date', ')', ',', 'a', 'well-to-do', 'dentist', 'who', 'seems', 'to', 'have', 'it', 'all', '\\x96', 'family', ',', 'wealth', ',', 'happiness', '\\x96', 'but', 'really', 'sees', 'an', 'ally', 'in', 'freedom', 'with', 'his', 'troubled', 'friend', \"'s\", 'own', 'personal', 'life', 'offerings', '.', 'written', 'and', 'directed', 'by', 'binder', '(', 'who', 'co-stars', 'as', 'sandler', \"'s\", 'former-best', 'friend', 'and', 'acting', 'accountant', ')', 'with', 'equal', 'parts', 'humor', 'and', 'genuine', 'heartache', 'the', 'film', 'works', 'best', 'when', 'the', 'two', 'stars', 'share', 'the', 'screen', 'until', 'the', 'last', 'act', 'falls', 'into', 'an', 'almost', 'movie-of-the-week', 'treacle', 'with', 'to', 'tidy', 'a', 'solution', 'to', 'the', 'matters', 'at', 'hand', '.']\n",
            "복원된 첫번째 샘플: ['reign', 'over', 'me', '(', '2007', ')', '*', '*', '*', 'adam', 'sandler', ',', 'don', 'cheadle', ',', 'jada', '<UNK>', ',', 'liv', 'tyler', ',', 'saffron', 'burrows', ',', 'donald', 'sutherland', ',', 'robert', 'klein', ',', 'melinda', 'dillon', ',', 'mike', 'binder', ',', 'jonathan', 'banks', ',', 'rae', 'allen', ',', 'paula', '<UNK>', '.', 'at', 'times', 'affecting', 'and', 'at', 'times', 'middling', 'dramedy', 'about', 'a', 'thoroughly', 'depressed', 'man', 'who', 'lost', 'his', 'family', 'on', '9/11', '(', 'sandler', 'in', 'his', 'best', 'role', 'since', '``', 'punch-drunk', 'love', \"''\", ')', 'who', 'winds', 'up', '<UNK>', 'with', 'his', 'old', 'college', 'roommate', 'and', 'friend', '(', 'cheadle', 'continuing', 'to', 'do', 'impressive', 'work', 'with', 'every', 'role', 'to', 'date', ')', ',', 'a', 'well-to-do', 'dentist', 'who', 'seems', 'to', 'have', 'it', 'all', '\\x96', 'family', ',', 'wealth', ',', 'happiness', '\\x96', 'but', 'really', 'sees', 'an', 'ally', 'in', 'freedom', 'with', 'his', 'troubled', 'friend', \"'s\", 'own', 'personal', 'life', 'offerings', '.', 'written', 'and', 'directed', 'by', 'binder', '(', 'who', 'co-stars', 'as', 'sandler', \"'s\", '<UNK>', 'friend', 'and', 'acting', 'accountant', ')', 'with', 'equal', 'parts', 'humor', 'and', 'genuine', 'heartache', 'the', 'film', 'works', 'best', 'when', 'the', 'two', 'stars', 'share', 'the', 'screen', 'until', 'the', 'last', 'act', 'falls', 'into', 'an', 'almost', 'movie-of-the-week', 'treacle', 'with', 'to', 'tidy', 'a', 'solution', 'to', 'the', 'matters', 'at', 'hand', '.']\n"
          ]
        }
      ]
    },
    {
      "cell_type": "markdown",
      "source": [
        "패딩(padding)"
      ],
      "metadata": {
        "id": "YhoU-_f6WAG7"
      }
    },
    {
      "cell_type": "code",
      "source": [
        "print('리뷰의 최대 길이:', max(len(review) for review in encoded_x_train))\n",
        "print('리뷰의 최대 길이:', sum(map(len, encoded_x_train))/len(encoded_x_train))\n",
        "\n",
        "plt.hist([len(review) for review in encoded_x_train], bins=50)\n",
        "plt.xlabel('length of samples')\n",
        "plt.ylabel('number of samples')\n",
        "plt.show()"
      ],
      "metadata": {
        "colab": {
          "base_uri": "https://localhost:8080/",
          "height": 485
        },
        "id": "h3mwGMCXV-QG",
        "outputId": "2bf564ac-2e02-4fde-c160-93591fb7db3c"
      },
      "execution_count": null,
      "outputs": [
        {
          "output_type": "stream",
          "name": "stdout",
          "text": [
            "리뷰의 최대 길이: 2562\n",
            "리뷰의 최대 길이: 279.0886\n"
          ]
        },
        {
          "output_type": "display_data",
          "data": {
            "text/plain": [
              "<Figure size 640x480 with 1 Axes>"
            ],
            "image/png": "[encoded data removed]"
          },
          "metadata": {}
        }
      ]
    },
    {
      "cell_type": "code",
      "source": [
        "# 전체 샘플 중 길이가 max_len 이하 샘플 비율 확인하는 함수 생성 \n",
        "\n",
        "def below_threshold_len(max_len, nested_list): \n",
        "  count = 0\n",
        "  for sentence in nested_list: \n",
        "    if (len(sentence) <= max_len):\n",
        "      count = count+1\n",
        "  print('전체 샘플 중 길이가 %s 이하인 샘플 비율:%s'%(max_len, \n",
        "                                       (count/len(nested_list))*100))"
      ],
      "metadata": {
        "id": "HR3GPrW8ZPAD"
      },
      "execution_count": null,
      "outputs": []
    },
    {
      "cell_type": "code",
      "source": [
        "max_len = 500\n",
        "\n",
        "below_threshold_len(max_len, encoded_x_train)\n",
        "# 500으로 padding 할 경우, 약 88% 샘플은 그대로 보존   "
      ],
      "metadata": {
        "colab": {
          "base_uri": "https://localhost:8080/"
        },
        "id": "FCiPlBiGaZyL",
        "outputId": "18c702be-62ef-4a36-e2a7-4543e17d17f7"
      },
      "execution_count": null,
      "outputs": [
        {
          "output_type": "stream",
          "name": "stdout",
          "text": [
            "전체 샘플 중 길이가 500 이하인 샘플 비율:87.8\n"
          ]
        }
      ]
    },
    {
      "cell_type": "code",
      "source": [
        "len(encoded_x_train)"
      ],
      "metadata": {
        "colab": {
          "base_uri": "https://localhost:8080/"
        },
        "id": "FNqrLcSabfwT",
        "outputId": "9acae539-cc9e-4ed9-8df5-7888e9c5e71d"
      },
      "execution_count": null,
      "outputs": [
        {
          "output_type": "execute_result",
          "data": {
            "text/plain": [
              "20000"
            ]
          },
          "metadata": {},
          "execution_count": 51
        }
      ]
    },
    {
      "cell_type": "code",
      "source": [
        "print(np.zeros((len(encoded_x_train), max_len)))\n",
        "print(np.zeros((len(encoded_x_train), max_len)).shape)"
      ],
      "metadata": {
        "colab": {
          "base_uri": "https://localhost:8080/"
        },
        "id": "vg68VAFqbzse",
        "outputId": "38e36bf9-61d0-43ee-bd8d-c48bd63ccfa9"
      },
      "execution_count": null,
      "outputs": [
        {
          "output_type": "stream",
          "name": "stdout",
          "text": [
            "[[0. 0. 0. ... 0. 0. 0.]\n",
            " [0. 0. 0. ... 0. 0. 0.]\n",
            " [0. 0. 0. ... 0. 0. 0.]\n",
            " ...\n",
            " [0. 0. 0. ... 0. 0. 0.]\n",
            " [0. 0. 0. ... 0. 0. 0.]\n",
            " [0. 0. 0. ... 0. 0. 0.]]\n",
            "(20000, 500)\n"
          ]
        }
      ]
    },
    {
      "cell_type": "code",
      "source": [
        "def pad_sequences(sentences, max_len): \n",
        "  features = np.zeros((len(sentences), max_len), dtype=int)\n",
        "  for index, sentence in enumerate(sentences): \n",
        "    if len(sentence) != 0: \n",
        "      features[index, :len(sentence)] = np.array(sentence)[:max_len]\n",
        "  return features"
      ],
      "metadata": {
        "id": "tI_FCPF1aihl"
      },
      "execution_count": null,
      "outputs": []
    },
    {
      "cell_type": "code",
      "source": [
        "pad_sequences(encoded_x_train, max_len=max_len)"
      ],
      "metadata": {
        "colab": {
          "base_uri": "https://localhost:8080/"
        },
        "id": "vAQnZYFHbJSk",
        "outputId": "6e5dd007-8ced-4050-f324-4353f4c47a83"
      },
      "execution_count": null,
      "outputs": [
        {
          "output_type": "execute_result",
          "data": {
            "text/plain": [
              "array([[5471,  148,   85, ...,    0,    0,    0],\n",
              "       [   2,  658,  150, ...,    0,    0,    0],\n",
              "       [   7,  279,    3, ...,    0,    0,    0],\n",
              "       ...,\n",
              "       [  51,   99,   39, ...,    0,    0,    0],\n",
              "       [  14,   19,  174, ...,    0,    0,    0],\n",
              "       [ 408,    3,   46, ...,    0,    0,    0]])"
            ]
          },
          "metadata": {},
          "execution_count": 54
        }
      ]
    },
    {
      "cell_type": "code",
      "source": [
        "padded_x_train = pad_sequences(encoded_x_train, max_len=max_len)\n",
        "padded_x_valid = pad_sequences(encoded_x_valid, max_len=max_len)\n",
        "padded_x_test = pad_sequences(encoded_x_test, max_len=max_len)"
      ],
      "metadata": {
        "id": "rXcSHm15bPoA"
      },
      "execution_count": null,
      "outputs": []
    },
    {
      "cell_type": "code",
      "source": [
        "print('훈련 데이터 크기:', padded_x_train.shape)\n",
        "print('검증 데이터 크기:', padded_x_valid.shape)\n",
        "print('테스트 데이터 크기:', padded_x_test.shape)"
      ],
      "metadata": {
        "colab": {
          "base_uri": "https://localhost:8080/"
        },
        "id": "cHpNkI7scf38",
        "outputId": "e3439a13-89bc-49ae-ca23-53a5b093236a"
      },
      "execution_count": null,
      "outputs": [
        {
          "output_type": "stream",
          "name": "stdout",
          "text": [
            "훈련 데이터 크기: (20000, 500)\n",
            "검증 데이터 크기: (5000, 500)\n",
            "테스트 데이터 크기: (25000, 500)\n"
          ]
        }
      ]
    },
    {
      "cell_type": "code",
      "source": [
        "# 첫번째 샘플 길이 \n",
        "print(len(padded_x_train[0]))\n",
        "print()\n",
        "# 첫번째 샘플 \n",
        "print(padded_x_train[0])"
      ],
      "metadata": {
        "colab": {
          "base_uri": "https://localhost:8080/"
        },
        "id": "icx_Lrl_cw31",
        "outputId": "77a4b2ef-40e6-4ad0-c570-f3e3045959c2"
      },
      "execution_count": null,
      "outputs": [
        {
          "output_type": "stream",
          "name": "stdout",
          "text": [
            "500\n",
            "\n",
            "[ 5471   148    85    28  4653    27   120   120   120  1925  3412     3\n",
            "  1386  6768     3 11592     1     3  6428  4201     3 22881 18354     3\n",
            "  2444  3328     3   597  8199     3  9177  5776     3  1891 16341     3\n",
            "  3277  7143     3  7702  1759     3  7278     1     4    42   229  6993\n",
            "     5    42   229 28051 22882    56     6  1529  4654   143    47   448\n",
            "    37   242    30  5618    28  3412    15    37   133   235   248    33\n",
            " 28052   131    31    27    47  3609    72     1    23    37   188  1169\n",
            "  5777     5   449    28  6768  6047     8    54  1140   180    23   185\n",
            "   235     8  1347    27     3     6 19581  4112    47   207     8    38\n",
            "    14    43   488   242     3  4070     3  2781   488    25    76  1131\n",
            "    46  7541    15  1753    23    37  3088   449    19   219   850   139\n",
            "  8750     4   458     5   537    45 16341    28    47  5778    21  3412\n",
            "    19     1   449     5   132 12034    27    23  3063   518   478     5\n",
            "  1926 18355     2    26   525   133    64     2   128   439  1499     2\n",
            "   306   351     2   251   529   723   103    46   231 28053 32252    23\n",
            "     8 14786     6  4365     8     2  2270    42   567     4     0     0\n",
            "     0     0     0     0     0     0     0     0     0     0     0     0\n",
            "     0     0     0     0     0     0     0     0     0     0     0     0\n",
            "     0     0     0     0     0     0     0     0     0     0     0     0\n",
            "     0     0     0     0     0     0     0     0     0     0     0     0\n",
            "     0     0     0     0     0     0     0     0     0     0     0     0\n",
            "     0     0     0     0     0     0     0     0     0     0     0     0\n",
            "     0     0     0     0     0     0     0     0     0     0     0     0\n",
            "     0     0     0     0     0     0     0     0     0     0     0     0\n",
            "     0     0     0     0     0     0     0     0     0     0     0     0\n",
            "     0     0     0     0     0     0     0     0     0     0     0     0\n",
            "     0     0     0     0     0     0     0     0     0     0     0     0\n",
            "     0     0     0     0     0     0     0     0     0     0     0     0\n",
            "     0     0     0     0     0     0     0     0     0     0     0     0\n",
            "     0     0     0     0     0     0     0     0     0     0     0     0\n",
            "     0     0     0     0     0     0     0     0     0     0     0     0\n",
            "     0     0     0     0     0     0     0     0     0     0     0     0\n",
            "     0     0     0     0     0     0     0     0     0     0     0     0\n",
            "     0     0     0     0     0     0     0     0     0     0     0     0\n",
            "     0     0     0     0     0     0     0     0     0     0     0     0\n",
            "     0     0     0     0     0     0     0     0     0     0     0     0\n",
            "     0     0     0     0     0     0     0     0     0     0     0     0\n",
            "     0     0     0     0     0     0     0     0     0     0     0     0\n",
            "     0     0     0     0     0     0     0     0     0     0     0     0\n",
            "     0     0     0     0     0     0     0     0     0     0     0     0\n",
            "     0     0     0     0     0     0     0     0     0     0     0     0\n",
            "     0     0     0     0     0     0     0     0]\n"
          ]
        }
      ]
    },
    {
      "cell_type": "markdown",
      "source": [
        "모델링"
      ],
      "metadata": {
        "id": "7myobms1dDdP"
      }
    },
    {
      "cell_type": "code",
      "source": [
        "import torch \n",
        "import torch.nn as nn \n",
        "import torch.nn.functional as F"
      ],
      "metadata": {
        "id": "yMq753ric3UR"
      },
      "execution_count": null,
      "outputs": []
    },
    {
      "cell_type": "code",
      "source": [
        "train_label_tensor = torch.tensor(np.array(y_train))\n",
        "valid_label_tensor = torch.tensor(np.array(y_valid))\n",
        "test_label_tensor = torch.tensor(np.array(y_test))"
      ],
      "metadata": {
        "id": "-jJ8QZaedKEt"
      },
      "execution_count": null,
      "outputs": []
    },
    {
      "cell_type": "code",
      "source": [
        "train_label_tensor[:5]"
      ],
      "metadata": {
        "colab": {
          "base_uri": "https://localhost:8080/"
        },
        "id": "r2bcBTe6dYiH",
        "outputId": "7c363c58-0097-4730-897f-edcbea8dbb0b"
      },
      "execution_count": null,
      "outputs": [
        {
          "output_type": "execute_result",
          "data": {
            "text/plain": [
              "tensor([1, 0, 1, 1, 1])"
            ]
          },
          "metadata": {},
          "execution_count": 60
        }
      ]
    },
    {
      "cell_type": "code",
      "source": [
        "USE_CUDA = torch.cuda.is_available()\n",
        "device = torch.device(\"cuda\" if USE_CUDA else \"cpu\")"
      ],
      "metadata": {
        "id": "iMDfeBB_dany"
      },
      "execution_count": null,
      "outputs": []
    },
    {
      "cell_type": "code",
      "source": [
        "class TextClassifier(nn.Module): \n",
        "  def __init__(self, vocab_size, embedding_dim, hidden_dim, output_dim): \n",
        "    super(TextClassifier, self).__init__()\n",
        "    self.embedding = nn.Embedding(vocab_size, embedding_dim)\n",
        "    self.gru = nn.GRU(embedding_dim, hidden_dim, batch_first=True)\n",
        "    self.fc = nn.Linear(hidden_dim, output_dim)\n",
        "\n",
        "  def forward(self, x): \n",
        "    # x : (batch_size, seq_length)\n",
        "    # 입력값 (배치크기, 문장길이)\n",
        "    embedded  = self.embedding(x) \n",
        "    # 임베딩된 벡터값(숫자)으로 변환 \n",
        "    # (batch_size, seq_length, embedding_dim)\n",
        "    # (배치크기, 문장길이, 임베딩 벡터 차원)\n",
        "\n",
        "    # 마지막 시점의 은닉상태(hidden state)값과 출력층 연결 \n",
        "    gru_out, hidden = self.gru(embedded)\n",
        "    # gru_out: (batch_size, seq_length, hidden_dim)\n",
        "    # hidden_dim: (1, batch_size, hidden_dim)\n",
        "\n",
        "    # 마지막 은닉상태 값만 전달함 \n",
        "    # 즉, 모든 시점(문장 길이) 존재 안 함, 단 하나만 존재 \n",
        "    last_hidden = hidden.squeeze(0)\n",
        "    # (batch_size, hidden_dim)\n",
        "    logits = self.fc(last_hidden)\n",
        "    # (batch_size, output_dim)\n",
        "    # (배치크기, 분류하고자 하는 카테고리 수)\n",
        "    return logits"
      ],
      "metadata": {
        "id": "epFiGaF9dlL4"
      },
      "execution_count": null,
      "outputs": []
    },
    {
      "cell_type": "code",
      "source": [
        "# 각 데이터를 배치 단위로 데이터 묶음을 꺼내주는 데이터 로더에 전달 \n",
        "\n",
        "encoded_train = torch.tensor(padded_x_train).to(torch.int64)\n",
        "train_dataset = torch.utils.data.TensorDataset(encoded_train, \n",
        "                                               train_label_tensor)\n",
        "train_dataloader = torch.utils.data.DataLoader(train_dataset, shuffle=True,\n",
        "                                               batch_size=32)\n",
        "\n",
        "encoded_test = torch.tensor(padded_x_test).to(torch.int64)\n",
        "test_dataset = torch.utils.data.TensorDataset(encoded_test, \n",
        "                                               test_label_tensor)\n",
        "test_dataloader = torch.utils.data.DataLoader(test_dataset, shuffle=True,\n",
        "                                               batch_size=32)\n",
        "\n",
        "encoded_valid = torch.tensor(padded_x_valid).to(torch.int64)\n",
        "valid_dataset = torch.utils.data.TensorDataset(encoded_valid, \n",
        "                                               valid_label_tensor)\n",
        "valid_dataloader = torch.utils.data.DataLoader(valid_dataset, shuffle=True,\n",
        "                                               batch_size=32)"
      ],
      "metadata": {
        "id": "xE3ynPQCfRop"
      },
      "execution_count": null,
      "outputs": []
    },
    {
      "cell_type": "code",
      "source": [
        "print(len(encoded_x_train))\n",
        "print(len(encoded_x_train) / 32)\n",
        "\n",
        "# 훈련 데이터 샘플 개수 : 20000 \n",
        "# 배치 사이즈 32로 할 경우, 625 \n",
        "# >> 32개씩 묶인 데이터 묶음이 625개 생김 "
      ],
      "metadata": {
        "colab": {
          "base_uri": "https://localhost:8080/"
        },
        "id": "a9QaJNtYhnDP",
        "outputId": "d64b3505-7fb6-4e8c-83e0-47dd80510e41"
      },
      "execution_count": null,
      "outputs": [
        {
          "output_type": "stream",
          "name": "stdout",
          "text": [
            "20000\n",
            "625.0\n"
          ]
        }
      ]
    },
    {
      "cell_type": "code",
      "source": [
        "num_epochs = 5\n",
        "total_batch = len(train_dataloader)\n",
        "print('총 배치 수:{}'.format(total_batch))"
      ],
      "metadata": {
        "colab": {
          "base_uri": "https://localhost:8080/"
        },
        "id": "kZXZR7wqhphQ",
        "outputId": "bcaa2983-8b91-46ee-c0a8-043463c5309b"
      },
      "execution_count": null,
      "outputs": [
        {
          "output_type": "stream",
          "name": "stdout",
          "text": [
            "총 배치 수:625\n"
          ]
        }
      ]
    },
    {
      "cell_type": "code",
      "source": [
        "embedding_dim = 100  \n",
        "# 임베딩 벡터 차원 100으로 설정 \n",
        "hidden_dim = 128 \n",
        "# 은닉상태의 차원 128 설정 \n",
        "output_dim = 2 \n",
        "# 출력층 크기(분류해야할 카테고리 개수)\n",
        "learning_rate = 0.01\n",
        "num_epochs = 10"
      ],
      "metadata": {
        "id": "qvEnYb72iHX4"
      },
      "execution_count": null,
      "outputs": []
    },
    {
      "cell_type": "code",
      "source": [
        "model = TextClassifier(vocab_size, embedding_dim, hidden_dim, output_dim)\n",
        "model.to(device)"
      ],
      "metadata": {
        "colab": {
          "base_uri": "https://localhost:8080/"
        },
        "id": "KSbOOTjXie6g",
        "outputId": "eec046e2-38fb-4be4-ae10-bcf2b6178746"
      },
      "execution_count": null,
      "outputs": [
        {
          "output_type": "execute_result",
          "data": {
            "text/plain": [
              "TextClassifier(\n",
              "  (embedding): Embedding(38721, 100)\n",
              "  (gru): GRU(100, 128, batch_first=True)\n",
              "  (fc): Linear(in_features=128, out_features=2, bias=True)\n",
              ")"
            ]
          },
          "metadata": {},
          "execution_count": 67
        }
      ]
    },
    {
      "cell_type": "code",
      "source": [
        "# 손실함수, 최적화 함수 설정\n",
        "criterion = nn.CrossEntropyLoss()\n",
        "optimizer = torch.optim.Adam(model.parameters(), lr=0.001)"
      ],
      "metadata": {
        "id": "RSqZ1DEBiqNv"
      },
      "execution_count": null,
      "outputs": []
    },
    {
      "cell_type": "code",
      "source": [
        "def calculate_accuracy(logits, labels): \n",
        "   predicted = torch.argmax(logits, dim=1)\n",
        "   # dim=1 : 두번째 차원(행)을 따라 최대값 찾기 \n",
        "   correct = (predicted == labels).sum().item()\n",
        "   total = labels.size(0) \n",
        "   # labels의 첫번째 차원의 크기 반환 \n",
        "   accuracy = correct/total\n",
        "   return accuracy"
      ],
      "metadata": {
        "id": "RMIm2ySjjRr9"
      },
      "execution_count": null,
      "outputs": []
    },
    {
      "cell_type": "markdown",
      "source": [
        "1. model.eval() (평가를 위해 필수)\n",
        "- 모델 평가 모드 설정 \n",
        "- 모델 내부 모든 layer 에 대해서 평가모드 활성화 됨\n",
        "\n",
        "2. with torch.no_grad() : 옵션같은 개념 \n",
        "- 자동 미분 엔진에서 gradient 계산 비활성화함 \n",
        "- 평가 중에는 기울기 계산할 필요가 없음 >> 메모리 절약, 속도가 빨라짐 "
      ],
      "metadata": {
        "id": "Vtm-lLuWCdIC"
      }
    },
    {
      "cell_type": "code",
      "source": [
        "def evaluate(model, valid_dataloader, criterion, device): \n",
        "  val_loss = 0 \n",
        "  val_correct = 0\n",
        "  val_total = 0 \n",
        "\n",
        "  model.eval() #(****)\n",
        "  with torch.no_grad(): \n",
        "    # 데이터로더로부터 배치 크기만큼 데이터를 연속으로 load \n",
        "    for batch_x, batch_y in valid_dataloader: \n",
        "       batch_x, batch_y = batch_x.to(device), batch_y.to(device)\n",
        "\n",
        "       # 모델의 예측값 \n",
        "       logits = model(batch_x)\n",
        "\n",
        "       # 손실 계산 \n",
        "       loss = criterion(logits, batch_y)\n",
        "\n",
        "       # 정확도와 손실 계산 \n",
        "       val_loss += loss.item()\n",
        "       # 검증 데이터셋에서 모델이 정확하게 예측한 샘플 수 계산하는 코드 \n",
        "       val_correct += calculate_accuracy(logits, batch_y) * batch_y.size(0)\n",
        "       # batch_y.size(0) : batch  내 샘플 수 \n",
        "       # 이전에 계산한 검증 데이터 셋에 정확히 예측한 샘플 수 더함\n",
        "       val_total += batch_y.size(0)\n",
        "      \n",
        "\n",
        "  val_accuracy = val_correct / val_total    \n",
        "  val_loss /= len(valid_dataloader)\n",
        "\n",
        "  return val_loss, val_accuracy \n",
        "\n",
        "# Training Loop\n",
        "best_val_loss = float('inf')\n",
        "# 가장 작은 값으로 초기화 (부동 소수점수)\n",
        "\n",
        "for epoch in range(num_epochs): \n",
        "  # training \n",
        "  train_loss = 0 \n",
        "  train_correct = 0 \n",
        "  train_total = 0 \n",
        "  model.train()\n",
        "\n",
        "  for batch_x, batch_y in train_dataloader: \n",
        "\n",
        "    batch_x, batch_y = batch_x.to(device), batch_y.to(device)\n",
        "    logits = model(batch_x)\n",
        "    loss = criterion(logits, batch_y)\n",
        "     \n",
        "    optimizer.zero_grad()\n",
        "    loss.backward()\n",
        "    optimizer.step()\n",
        "\n",
        "    train_loss += loss.item()\n",
        "    train_correct += calculate_accuracy(logits, batch_y) * batch_y.size(0)\n",
        "    train_total += batch_y.size(0)\n",
        "\n",
        "  train_accuracy = train_correct / train_total\n",
        "  train_loss /= len(train_dataloader)\n",
        "\n",
        "  #validation \n",
        "  val_loss, val_accuracy = evaluate(model, valid_dataloader, criterion, device)\n",
        "\n",
        "  print(f'Epoch {epoch+1}/{num_epochs}:')\n",
        "  print(f'Train Loss: {train_loss:.4f}, Train Accuracy: {train_accuracy:.4f}')\n",
        "  print(f'Validation Loss: {val_loss:.4f}, Validation Accuracy: {val_accuracy:.4f}')\n",
        "\n",
        "  if val_loss < best_val_loss: \n",
        "    print(f'Validation loss improved from {best_val_loss:.4f} to {val_loss:.4f}. 체크포인트를 저장합니다.')\n",
        "    best_val_loss = val_loss\n",
        "    torch.save(model.state_dict(), 'best_model_checkpoint.pth')"
      ],
      "metadata": {
        "colab": {
          "base_uri": "https://localhost:8080/"
        },
        "id": "D0aDfyeLj8ow",
        "outputId": "9c83271d-29ff-43ba-e6fb-ef93fa8478e1"
      },
      "execution_count": null,
      "outputs": [
        {
          "output_type": "stream",
          "name": "stdout",
          "text": [
            "Epoch 1/10:\n",
            "Train Loss: 0.6974, Train Accuracy: 0.5038\n",
            "Validation Loss: 0.6969, Validation Accuracy: 0.5002\n",
            "Validation loss improved from inf to 0.6969. 체크포인트를 저장합니다.\n",
            "Epoch 2/10:\n",
            "Train Loss: 0.6925, Train Accuracy: 0.5125\n",
            "Validation Loss: 0.6941, Validation Accuracy: 0.4994\n",
            "Validation loss improved from 0.6969 to 0.6941. 체크포인트를 저장합니다.\n",
            "Epoch 3/10:\n",
            "Train Loss: 0.6788, Train Accuracy: 0.5471\n",
            "Validation Loss: 0.6834, Validation Accuracy: 0.5754\n",
            "Validation loss improved from 0.6941 to 0.6834. 체크포인트를 저장합니다.\n",
            "Epoch 4/10:\n",
            "Train Loss: 0.5112, Train Accuracy: 0.7570\n",
            "Validation Loss: 0.4096, Validation Accuracy: 0.8216\n",
            "Validation loss improved from 0.6834 to 0.4096. 체크포인트를 저장합니다.\n",
            "Epoch 5/10:\n",
            "Train Loss: 0.2596, Train Accuracy: 0.8984\n",
            "Validation Loss: 0.3183, Validation Accuracy: 0.8664\n",
            "Validation loss improved from 0.4096 to 0.3183. 체크포인트를 저장합니다.\n",
            "Epoch 6/10:\n",
            "Train Loss: 0.1413, Train Accuracy: 0.9519\n",
            "Validation Loss: 0.3492, Validation Accuracy: 0.8676\n",
            "Epoch 7/10:\n",
            "Train Loss: 0.0738, Train Accuracy: 0.9768\n",
            "Validation Loss: 0.4245, Validation Accuracy: 0.8632\n",
            "Epoch 8/10:\n",
            "Train Loss: 0.0420, Train Accuracy: 0.9881\n",
            "Validation Loss: 0.5666, Validation Accuracy: 0.8664\n",
            "Epoch 9/10:\n",
            "Train Loss: 0.0241, Train Accuracy: 0.9937\n",
            "Validation Loss: 0.4805, Validation Accuracy: 0.8690\n",
            "Epoch 10/10:\n",
            "Train Loss: 0.0197, Train Accuracy: 0.9948\n",
            "Validation Loss: 0.6770, Validation Accuracy: 0.8648\n"
          ]
        }
      ]
    },
    {
      "cell_type": "markdown",
      "source": [
        "모델 로드 및 평가 "
      ],
      "metadata": {
        "id": "5ph-hVWoE1Nb"
      }
    },
    {
      "cell_type": "code",
      "source": [
        "# 모델 로드 \n",
        "model.load_state_dict(torch.load('best_model_checkpoint.pth'))\n",
        "\n",
        "# 모델 device에 올립니다 \n",
        "model.to(device)\n",
        "\n",
        "# 검증 데이터에 대한 정확도, 손실 계산 \n",
        "val_loss, val_accuracy = evaluate(model, valid_dataloader, criterion, device)"
      ],
      "metadata": {
        "id": "W_AwrjBepW97"
      },
      "execution_count": null,
      "outputs": []
    },
    {
      "cell_type": "code",
      "source": [
        "print(f'Best model validataion loss: {val_loss:.4f}')\n",
        "print(f'Best model validataion accuracy: {val_accuracy:.4f}')"
      ],
      "metadata": {
        "colab": {
          "base_uri": "https://localhost:8080/"
        },
        "id": "gFO7iSgQFO9c",
        "outputId": "53761422-5c79-4ebc-e505-71c6025f2de3"
      },
      "execution_count": null,
      "outputs": [
        {
          "output_type": "stream",
          "name": "stdout",
          "text": [
            "Best model validataion loss: 0.3175\n",
            "Best model validataion accuracy: 0.8664\n"
          ]
        }
      ]
    },
    {
      "cell_type": "code",
      "source": [
        "# 테스트 데이터에 대한 정확도, 손실 계산 \n",
        "test_loss, test_accuracy = evaluate(model, test_dataloader, criterion, device)"
      ],
      "metadata": {
        "id": "WmF8EVLFF0YD"
      },
      "execution_count": null,
      "outputs": []
    },
    {
      "cell_type": "code",
      "source": [
        "# 테스트 데이터에 대한 정확도와 손실 계산 \n",
        "print(f'Best model test loss: {test_loss:.4f}')\n",
        "print(f'Best model test accuracy: {test_accuracy:.4f}')"
      ],
      "metadata": {
        "colab": {
          "base_uri": "https://localhost:8080/"
        },
        "id": "tEBRQK51FT6V",
        "outputId": "809e3717-1011-491e-81f7-21487c96e6ad"
      },
      "execution_count": null,
      "outputs": [
        {
          "output_type": "stream",
          "name": "stdout",
          "text": [
            "Best model test loss: 0.3051\n",
            "Best model test accuracy: 0.8738\n"
          ]
        }
      ]
    },
    {
      "cell_type": "markdown",
      "source": [
        "Inference (테스트)"
      ],
      "metadata": {
        "id": "iJTzXmALGBLR"
      }
    },
    {
      "cell_type": "code",
      "source": [
        "index_to_tag = {0: '부정', 1:'긍정'}"
      ],
      "metadata": {
        "id": "KcYEwSi2FnIN"
      },
      "execution_count": null,
      "outputs": []
    },
    {
      "cell_type": "code",
      "source": [
        "def predict(text, model, word_to_index, index_to_tag): \n",
        "  model.eval()\n",
        "\n",
        "  # 입력된 텍스트 >> 토큰화 \n",
        "  tokens = word_tokenize(text)\n",
        "  token_indices = [word_to_index.get(token.lower(), 1) for token in tokens]\n",
        "\n",
        "  # token >> tensor 변환 \n",
        "  input_tensor = torch.tensor([token_indices], dtype=torch.long).to(device)\n",
        "  # (1, seq_length)\n",
        "\n",
        "  # input tensor >> 모델에 적용 \n",
        "  with torch.no_grad(): \n",
        "    logits = model(input_tensor)  \n",
        "    # (1, output_dim)\n",
        "  \n",
        "  # 예측된 클래스(class) (0,1)형태 반환 \n",
        "  predicted_index = torch.argmax(logits, dim=1) \n",
        "\n",
        "  # predicted_index >> 상응하는 tag인 (0,1)로 변환 \n",
        "  predicted_tag = index_to_tag[predicted_index.item()]\n",
        "\n",
        "  return predicted_tag\n"
      ],
      "metadata": {
        "id": "X0ex7kJMGI5M"
      },
      "execution_count": null,
      "outputs": []
    },
    {
      "cell_type": "code",
      "source": [
        "test_input =\\\n",
        "'''\n",
        "Cause I-I-I'm in the stars tonight\n",
        "So watch me bring the fire and set the night alight\n",
        "Shoes on, get up in the morn'\n",
        "Cup of milk, let's rock and roll\n",
        "King Kong, kick the drum, rolling on like a Rolling Stone\n",
        "Sing song when I'm walking home\n",
        "Jump up to the top, LeBron\n",
        "Ding dong, call me on my phone\n",
        "Ice tea and a game of ping pong, huh\n",
        "This is getting heavy\n",
        "Can you hear the bass boom? I'm ready (woo hoo)\n",
        "Life is sweet as honey\n",
        "Yeah, this beat cha-ching like money, huh\n",
        "Disco overload, I'm into that, I'm good to go\n",
        "I'm diamond, you know I glow up\n",
        "Hey, so let's go\n",
        "'Cause I-I-I'm in the stars tonight\n",
        "So watch me bring the fire and set the night alight (hey)\n",
        "Shining through the city with a little funk and soul\n",
        "So I'ma light it up like dynamite, whoa oh oh\n",
        "Bring a friend, join the crowd\n",
        "Whoever wanna come along\n",
        "Word up, talk the talk\n",
        "Just move like we off the wall\n",
        "Day or night, the sky's alight\n",
        "So we dance to the break of dawn\n",
        "Ladies and gentlemen, I got the medicine\n",
        "So you should keep ya eyes on the ball, huh\n",
        "This is getting heavy\n",
        "Can you hear the bass boom? I'm ready (woo hoo)\n",
        "Life is sweet as honey\n",
        "Yeah, this beat cha-ching like money\n",
        "Disco overload, I'm into that, I'm good to go\n",
        "I'm diamond, you know I glow up\n",
        "Let's go\n",
        "'Cause I-I-I'm in the stars tonight\n",
        "So watch me bring the fire and set the night alight (hey)\n",
        "Shining through the city with a little funk and soul\n",
        "So I'ma light it up like dynamite, whoa oh oh\n",
        "Dy-na-na-na, na-na, na-na-na, na-na-na, life is dynamite\n",
        "Dy-na-na-na, na-na, na-na-na, na-na-na, life is dynamite\n",
        "Shining through the city with a little funk and soul\n",
        "So I'ma light it up like dynamite, whoa oh oh\n",
        "Dy-na-na-na, na-na, na-na, ayy\n",
        "Dy-na-na-na, na-na, na-na, ayy\n",
        "Dy-na-na-na, na-na, na-na, ayy\n",
        "Light it up like dynamite\n",
        "Dy-na-na-na, na-na, na-na, ayy\n",
        "Dy-na-na-na, na-na, na-na, ayy\n",
        "Dy-na-na-na, na-na, na-na, ayy\n",
        "Light it up like dynamite\n",
        "'Cause I-I-I'm in the stars tonight\n",
        "So watch me bring the fire and set the night alight\n",
        "Shining through the city with a little funk and soul\n",
        "So I'ma light it up like dynamite (this is ah)\n",
        "'Cause I-I-I'm in the stars tonight\n",
        "So watch me bring the fire and set the night alight (alight, oh)\n",
        "Shining through the city with a little funk and soul\n",
        "So I'ma light it up like dynamite, whoa (light it up like dynamite)\n",
        "Dy-na-na-na, na-na, na-na-na, na-na-na, life is dynamite\n",
        "Dy-na-na-na, na-na, na-na-na, na-na-na, life is dynamite\n",
        "Shining through the city with a little funk and soul\n",
        "So I'ma light it up like dynamite, whoa oh oh'''"
      ],
      "metadata": {
        "id": "dAXJ7tvjHrqg"
      },
      "execution_count": null,
      "outputs": []
    },
    {
      "cell_type": "code",
      "source": [
        "predict(test_input, model, word_to_index, index_to_tag)"
      ],
      "metadata": {
        "colab": {
          "base_uri": "https://localhost:8080/",
          "height": 35
        },
        "id": "rxnouMQrIXND",
        "outputId": "51e7676d-3ea6-48ce-bfdf-91f43c977a74"
      },
      "execution_count": null,
      "outputs": [
        {
          "output_type": "execute_result",
          "data": {
            "text/plain": [
              "'긍정'"
            ],
            "application/vnd.google.colaboratory.intrinsic+json": {
              "type": "string"
            }
          },
          "metadata": {},
          "execution_count": 80
        }
      ]
    },
    {
      "cell_type": "code",
      "source": [
        "test_input_n2 =\\\n",
        "'''\n",
        "I feel lonely\n",
        "'''"
      ],
      "metadata": {
        "id": "CLYxjm_pIgdS"
      },
      "execution_count": null,
      "outputs": []
    },
    {
      "cell_type": "code",
      "source": [
        "predict(test_input_n2, model, word_to_index, index_to_tag)"
      ],
      "metadata": {
        "colab": {
          "base_uri": "https://localhost:8080/",
          "height": 35
        },
        "id": "SAF3nTVzIwDv",
        "outputId": "47fdc16c-0590-4429-c691-db9c5af2d632"
      },
      "execution_count": null,
      "outputs": [
        {
          "output_type": "execute_result",
          "data": {
            "text/plain": [
              "'부정'"
            ],
            "application/vnd.google.colaboratory.intrinsic+json": {
              "type": "string"
            }
          },
          "metadata": {},
          "execution_count": 90
        }
      ]
    },
    {
      "cell_type": "code",
      "source": [],
      "metadata": {
        "id": "Xj3cKm7dIzhs"
      },
      "execution_count": null,
      "outputs": []
    }
  ]
}