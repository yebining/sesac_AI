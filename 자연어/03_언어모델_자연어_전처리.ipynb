{
  "nbformat": 4,
  "nbformat_minor": 0,
  "metadata": {
    "colab": {
      "provenance": []
    },
    "kernelspec": {
      "name": "python3",
      "display_name": "Python 3"
    },
    "language_info": {
      "name": "python"
    },
    "accelerator": "GPU",
    "gpuClass": "standard"
  },
  "cells": [
    {
      "cell_type": "code",
      "execution_count": null,
      "metadata": {
        "colab": {
          "base_uri": "https://localhost:8080/"
        },
        "id": "2yWb2Q3qHzfc",
        "outputId": "4e6b3040-304c-4237-c224-341895294f2c"
      },
      "outputs": [
        {
          "output_type": "stream",
          "name": "stderr",
          "text": [
            "[nltk_data] Downloading package punkt to /root/nltk_data...\n",
            "[nltk_data]   Unzipping tokenizers/punkt.zip.\n"
          ]
        },
        {
          "output_type": "execute_result",
          "data": {
            "text/plain": [
              "True"
            ]
          },
          "metadata": {},
          "execution_count": 1
        }
      ],
      "source": [
        "# 토크나이징 \n",
        "\n",
        "import nltk \n",
        "nltk.download('punkt')"
      ]
    },
    {
      "cell_type": "code",
      "source": [
        "text = \"This is a sample sentence for tokenization by drwill\"\n",
        "\n",
        "tokens = nltk.word_tokenize(text)\n",
        "print(tokens)"
      ],
      "metadata": {
        "colab": {
          "base_uri": "https://localhost:8080/"
        },
        "id": "QhZf_5DLH_qE",
        "outputId": "f68d5f8a-3542-4ad3-b9da-abd80cfcc5f8"
      },
      "execution_count": null,
      "outputs": [
        {
          "output_type": "stream",
          "name": "stdout",
          "text": [
            "['This', 'is', 'a', 'sample', 'sentence', 'for', 'tokenization', 'by', 'drwill']\n"
          ]
        }
      ]
    },
    {
      "cell_type": "code",
      "source": [
        "!pip -qqq install konlpy"
      ],
      "metadata": {
        "colab": {
          "base_uri": "https://localhost:8080/"
        },
        "id": "cjUJiGx3ILaI",
        "outputId": "cfeca4e8-62bd-4579-d357-54151bcc2ee0"
      },
      "execution_count": null,
      "outputs": [
        {
          "output_type": "stream",
          "name": "stdout",
          "text": [
            "\u001b[2K     \u001b[90m━━━━━━━━━━━━━━━━━━━━━━━━━━━━━━━━━━━━━━━━\u001b[0m \u001b[32m19.4/19.4 MB\u001b[0m \u001b[31m74.6 MB/s\u001b[0m eta \u001b[36m0:00:00\u001b[0m\n",
            "\u001b[2K     \u001b[90m━━━━━━━━━━━━━━━━━━━━━━━━━━━━━━━━━━━━━━\u001b[0m \u001b[32m465.3/465.3 kB\u001b[0m \u001b[31m44.5 MB/s\u001b[0m eta \u001b[36m0:00:00\u001b[0m\n",
            "\u001b[?25h"
          ]
        }
      ]
    },
    {
      "cell_type": "code",
      "source": [
        "from konlpy.tag import *\n",
        "\n",
        "komoran = Komoran()"
      ],
      "metadata": {
        "id": "yOOh6qViISxw"
      },
      "execution_count": null,
      "outputs": []
    },
    {
      "cell_type": "code",
      "source": [
        "text = \"한국어 문장을 토크나이징 하는 예제를 보여드립니다. 닥터윌 드림\"\n",
        "tokens = komoran.morphs(text) # 형태소\n",
        "print(tokens)"
      ],
      "metadata": {
        "colab": {
          "base_uri": "https://localhost:8080/"
        },
        "id": "SCTDxZysIaX3",
        "outputId": "189f1198-de5d-4a98-ab1e-bda938635204"
      },
      "execution_count": null,
      "outputs": [
        {
          "output_type": "stream",
          "name": "stdout",
          "text": [
            "['한국어', '문장', '을', '토크', '나', '이징', '하', '는', '예제', '를', '보이', '어', '드리', 'ㅂ니다', '.', '닥터', '위', 'ㄹ', '드림']\n"
          ]
        }
      ]
    },
    {
      "cell_type": "code",
      "source": [
        "print(komoran.nouns(text)) # 명사 추출"
      ],
      "metadata": {
        "colab": {
          "base_uri": "https://localhost:8080/"
        },
        "id": "bzYkfdNFIsDt",
        "outputId": "da9a5dcb-af27-40b0-f1cb-34b025b727ad"
      },
      "execution_count": null,
      "outputs": [
        {
          "output_type": "stream",
          "name": "stdout",
          "text": [
            "['한국어', '문장', '토크', '이징', '예제', '닥터', '위', '드림']\n"
          ]
        }
      ]
    },
    {
      "cell_type": "code",
      "source": [
        "# 단어 사전 (Word Dictionary)\n",
        "\n",
        "# 단어 사전 생성 \n",
        "word_dict = {'나는':0, \"세싹이\":1, \"낳은\":2, \"인공지능\":3, \"개발자\":4, \"입니다\":5}\n",
        "sentence = ['나는','개발자','입니다']"
      ],
      "metadata": {
        "id": "vlfgtG-eI0pN"
      },
      "execution_count": null,
      "outputs": []
    },
    {
      "cell_type": "code",
      "source": [
        "# 정수 인코딩 \n",
        "\n",
        "encoded = [word_dict[token] for token in sentence]\n",
        "print(encoded) # [0, 4, 5]"
      ],
      "metadata": {
        "colab": {
          "base_uri": "https://localhost:8080/"
        },
        "id": "frNkikJTJW_v",
        "outputId": "6cf6be71-6c0f-4d09-d37f-4ad7397ee864"
      },
      "execution_count": null,
      "outputs": [
        {
          "output_type": "stream",
          "name": "stdout",
          "text": [
            "[0, 4, 5]\n"
          ]
        }
      ]
    },
    {
      "cell_type": "code",
      "source": [
        "# 정수 디코딩 \n",
        "\n",
        "decoded = [key for key, value in word_dict.items() if value in encoded]\n",
        "print(decoded) # ['나는', '개발자', '입니다']"
      ],
      "metadata": {
        "colab": {
          "base_uri": "https://localhost:8080/"
        },
        "id": "ykAHV_YOJmLP",
        "outputId": "d386c1c8-6ebb-4bba-d538-513fb0cb6a0a"
      },
      "execution_count": null,
      "outputs": [
        {
          "output_type": "stream",
          "name": "stdout",
          "text": [
            "['나는', '개발자', '입니다']\n"
          ]
        }
      ]
    },
    {
      "cell_type": "code",
      "source": [
        "# 패딩 (padding)\n",
        "\n",
        "import numpy as np\n",
        "\n",
        "sentences = [\n",
        "              ['나는','개발자','입니다'],\n",
        "              ['저는','취준생','입니다'],\n",
        "              ['이것은','닥터윌이','만든','허접한','예제','입니다']\n",
        "            ]"
      ],
      "metadata": {
        "id": "WtuHq2twKC0W"
      },
      "execution_count": null,
      "outputs": []
    },
    {
      "cell_type": "code",
      "source": [
        "# 단어 사전 생성 \n",
        "\n",
        "word_dict = {' ':0, '나는':1, '개발자':2, '취준생':3, '입니다':4, '저는': 5,\n",
        "             '이것은':6,'예제':7, '허접한':8, '닥터윌이':9, '만든':10 }"
      ],
      "metadata": {
        "id": "ajXUHT0PKg5c"
      },
      "execution_count": null,
      "outputs": []
    },
    {
      "cell_type": "code",
      "source": [
        "# 정수인코딩 >> 문장을 벡터화 (text >> vector)\n",
        "\n",
        "# 문장 길이 제한 \n",
        "max_len = 6\n",
        "\n",
        "# 행렬 형태로 초기화화\n",
        "x = np.zeros((len(sentences), max_len))\n",
        "print(x)"
      ],
      "metadata": {
        "colab": {
          "base_uri": "https://localhost:8080/"
        },
        "id": "Lg6LA4QDK5Zk",
        "outputId": "619c2d66-c5b6-4577-831b-298898ba3df2"
      },
      "execution_count": null,
      "outputs": [
        {
          "output_type": "stream",
          "name": "stdout",
          "text": [
            "[[0. 0. 0. 0. 0. 0.]\n",
            " [0. 0. 0. 0. 0. 0.]\n",
            " [0. 0. 0. 0. 0. 0.]]\n"
          ]
        }
      ]
    },
    {
      "cell_type": "code",
      "source": [
        "for i, sentence in enumerate(sentences): \n",
        "  for j, word in enumerate(sentence[:max_len]):\n",
        "    x[i,j] = word_dict[word]"
      ],
      "metadata": {
        "id": "vF66e404LKsn"
      },
      "execution_count": null,
      "outputs": []
    },
    {
      "cell_type": "code",
      "source": [
        "# 패딩(padding)\n",
        "\n",
        "x = np.pad(x, ((0, 0), (0, max_len - x.shape[1])), \n",
        "           'constant', constant_values=word_dict[' '])\n",
        "# np.pad() \n",
        "# x: 패딩 적용할 데이터(배열)\n",
        "# (0,0) 기준 설정 (위 아래 로 패딩하지 않기 때문에 튜플형태로 (0,0) 으로 설정)\n",
        "# (0, max_len - x.shape[1]) : 각 차원마다 어떤 패딩을 적용할지 지정하는 튜플\n",
        "\n",
        "print(x)"
      ],
      "metadata": {
        "colab": {
          "base_uri": "https://localhost:8080/"
        },
        "id": "jd2jZXv3L8Ul",
        "outputId": "ce97e150-13ba-49e7-aec2-32720b24e29b"
      },
      "execution_count": null,
      "outputs": [
        {
          "output_type": "stream",
          "name": "stdout",
          "text": [
            "[[ 1.  2.  4.  0.  0.  0.]\n",
            " [ 5.  3.  4.  0.  0.  0.]\n",
            " [ 6.  9. 10.  8.  7.  4.]]\n"
          ]
        }
      ]
    },
    {
      "cell_type": "code",
      "source": [
        "sent=\\\n",
        "[['나는','개발자','입니다'],\n",
        "['저는','취준생','입니다'],\n",
        "['이것은','허접한','예제','입니다']]"
      ],
      "metadata": {
        "id": "yf9aaQedL8OY"
      },
      "execution_count": null,
      "outputs": []
    },
    {
      "cell_type": "code",
      "source": [
        "# 원 핫 인코딩 \n",
        "\n",
        "# 단어 사전 생성 \n",
        "\n",
        "word_dict = {'apple': 0, 'banana':1, 'orange':2}\n",
        "\n",
        "# 입력 텍스트 \n",
        "text = 'apple orange banana'"
      ],
      "metadata": {
        "id": "c3Ft-ZX2LmS9"
      },
      "execution_count": null,
      "outputs": []
    },
    {
      "cell_type": "code",
      "source": [
        "text.split()"
      ],
      "metadata": {
        "colab": {
          "base_uri": "https://localhost:8080/"
        },
        "id": "V8t25GVFW4BH",
        "outputId": "ddcbdcbf-d475-409b-84ef-f3acd2be5e0c"
      },
      "execution_count": null,
      "outputs": [
        {
          "output_type": "execute_result",
          "data": {
            "text/plain": [
              "['apple', 'orange', 'banana']"
            ]
          },
          "metadata": {},
          "execution_count": 65
        }
      ]
    },
    {
      "cell_type": "code",
      "source": [
        "# 각 단어를 one-hot encoding 수행 \n",
        "\n",
        "one_hot = []\n",
        "\n",
        "for word in text.split():\n",
        "  vector = [0] * len(word_dict)\n",
        "  vector[word_dict[word]] = 1 \n",
        "  one_hot.append(vector)\n",
        "\n",
        "print(one_hot)"
      ],
      "metadata": {
        "colab": {
          "base_uri": "https://localhost:8080/"
        },
        "id": "LgzmYlzcWxns",
        "outputId": "59a32d54-f848-4362-dff4-e90c62d2651a"
      },
      "execution_count": null,
      "outputs": [
        {
          "output_type": "stream",
          "name": "stdout",
          "text": [
            "[[1, 0, 0], [0, 0, 1], [0, 1, 0]]\n"
          ]
        }
      ]
    },
    {
      "cell_type": "code",
      "source": [
        "# 임베딩 (word2vec)\n",
        "\n",
        "from gensim.models import Word2Vec"
      ],
      "metadata": {
        "id": "a78No_KiXMRW"
      },
      "execution_count": null,
      "outputs": []
    },
    {
      "cell_type": "code",
      "source": [
        "sentences"
      ],
      "metadata": {
        "colab": {
          "base_uri": "https://localhost:8080/"
        },
        "id": "xIuHBz56Xbym",
        "outputId": "cbd82506-ae4e-4d7d-d3da-a8851cbcc276"
      },
      "execution_count": null,
      "outputs": [
        {
          "output_type": "execute_result",
          "data": {
            "text/plain": [
              "[['나는', '개발자', '입니다'],\n",
              " ['저는', '취준생', '입니다'],\n",
              " ['이것은', '닥터윌이', '만든', '허접한', '예제', '입니다']]"
            ]
          },
          "metadata": {},
          "execution_count": 68
        }
      ]
    },
    {
      "cell_type": "code",
      "source": [
        "model = Word2Vec(sentences, vector_size=4, window=2, min_count=1)\n",
        "\n",
        "# vector_size : 벡터 차원 \n",
        "# window : 주변 단어 윈도우 크기 \n",
        "# min_count : 최소 등장 횟수수"
      ],
      "metadata": {
        "id": "qc8UrVYSXc8y"
      },
      "execution_count": null,
      "outputs": []
    },
    {
      "cell_type": "code",
      "source": [
        "print(model.wv.key_to_index['나는'])"
      ],
      "metadata": {
        "colab": {
          "base_uri": "https://localhost:8080/"
        },
        "id": "D0dg3IDOYQbD",
        "outputId": "898a0985-df42-4e3e-8742-6d081e4c92e8"
      },
      "execution_count": null,
      "outputs": [
        {
          "output_type": "stream",
          "name": "stdout",
          "text": [
            "9\n"
          ]
        }
      ]
    },
    {
      "cell_type": "code",
      "source": [
        "print(model.wv.get_vector(\"나는\"))\n",
        "# vector_size=4 고정했기 때문문"
      ],
      "metadata": {
        "colab": {
          "base_uri": "https://localhost:8080/"
        },
        "id": "EvNbJb6VaRb_",
        "outputId": "da8b4401-b0f8-46d8-f7af-da909e1df6d5"
      },
      "execution_count": null,
      "outputs": [
        {
          "output_type": "stream",
          "name": "stdout",
          "text": [
            "[ 0.20193592 -0.1482724   0.00112906 -0.11884335]\n"
          ]
        }
      ]
    },
    {
      "cell_type": "code",
      "source": [],
      "metadata": {
        "id": "jVUu0N9-aej_"
      },
      "execution_count": null,
      "outputs": []
    }
  ]
}