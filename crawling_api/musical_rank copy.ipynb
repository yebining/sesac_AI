{
 "cells": [
  {
   "cell_type": "code",
   "execution_count": 1,
   "id": "438fbb7d",
   "metadata": {},
   "outputs": [
    {
     "name": "stdout",
     "output_type": "stream",
     "text": [
      "Requirement already satisfied: selenium in c:\\users\\sbauser\\appdata\\local\\packages\\pythonsoftwarefoundation.python.3.10_qbz5n2kfra8p0\\localcache\\local-packages\\python310\\site-packages (4.7.2)\n",
      "Requirement already satisfied: urllib3[socks]~=1.26 in c:\\users\\sbauser\\appdata\\local\\packages\\pythonsoftwarefoundation.python.3.10_qbz5n2kfra8p0\\localcache\\local-packages\\python310\\site-packages (from selenium) (1.26.13)\n",
      "Requirement already satisfied: trio~=0.17 in c:\\users\\sbauser\\appdata\\local\\packages\\pythonsoftwarefoundation.python.3.10_qbz5n2kfra8p0\\localcache\\local-packages\\python310\\site-packages (from selenium) (0.22.0)\n",
      "Requirement already satisfied: trio-websocket~=0.9 in c:\\users\\sbauser\\appdata\\local\\packages\\pythonsoftwarefoundation.python.3.10_qbz5n2kfra8p0\\localcache\\local-packages\\python310\\site-packages (from selenium) (0.9.2)\n",
      "Requirement already satisfied: certifi>=2021.10.8 in c:\\users\\sbauser\\appdata\\local\\packages\\pythonsoftwarefoundation.python.3.10_qbz5n2kfra8p0\\localcache\\local-packages\\python310\\site-packages (from selenium) (2022.12.7)\n",
      "Requirement already satisfied: exceptiongroup>=1.0.0rc9 in c:\\users\\sbauser\\appdata\\local\\packages\\pythonsoftwarefoundation.python.3.10_qbz5n2kfra8p0\\localcache\\local-packages\\python310\\site-packages (from trio~=0.17->selenium) (1.0.4)\n",
      "Requirement already satisfied: async-generator>=1.9 in c:\\users\\sbauser\\appdata\\local\\packages\\pythonsoftwarefoundation.python.3.10_qbz5n2kfra8p0\\localcache\\local-packages\\python310\\site-packages (from trio~=0.17->selenium) (1.10)\n",
      "Requirement already satisfied: outcome in c:\\users\\sbauser\\appdata\\local\\packages\\pythonsoftwarefoundation.python.3.10_qbz5n2kfra8p0\\localcache\\local-packages\\python310\\site-packages (from trio~=0.17->selenium) (1.2.0)\n",
      "Requirement already satisfied: attrs>=19.2.0 in c:\\users\\sbauser\\appdata\\local\\packages\\pythonsoftwarefoundation.python.3.10_qbz5n2kfra8p0\\localcache\\local-packages\\python310\\site-packages (from trio~=0.17->selenium) (22.1.0)\n",
      "Requirement already satisfied: cffi>=1.14 in c:\\users\\sbauser\\appdata\\local\\packages\\pythonsoftwarefoundation.python.3.10_qbz5n2kfra8p0\\localcache\\local-packages\\python310\\site-packages (from trio~=0.17->selenium) (1.15.1)\n",
      "Requirement already satisfied: idna in c:\\users\\sbauser\\appdata\\local\\packages\\pythonsoftwarefoundation.python.3.10_qbz5n2kfra8p0\\localcache\\local-packages\\python310\\site-packages (from trio~=0.17->selenium) (3.4)\n",
      "Requirement already satisfied: sniffio in c:\\users\\sbauser\\appdata\\local\\packages\\pythonsoftwarefoundation.python.3.10_qbz5n2kfra8p0\\localcache\\local-packages\\python310\\site-packages (from trio~=0.17->selenium) (1.3.0)\n",
      "Requirement already satisfied: sortedcontainers in c:\\users\\sbauser\\appdata\\local\\packages\\pythonsoftwarefoundation.python.3.10_qbz5n2kfra8p0\\localcache\\local-packages\\python310\\site-packages (from trio~=0.17->selenium) (2.4.0)\n",
      "Requirement already satisfied: wsproto>=0.14 in c:\\users\\sbauser\\appdata\\local\\packages\\pythonsoftwarefoundation.python.3.10_qbz5n2kfra8p0\\localcache\\local-packages\\python310\\site-packages (from trio-websocket~=0.9->selenium) (1.2.0)\n",
      "Requirement already satisfied: PySocks!=1.5.7,<2.0,>=1.5.6 in c:\\users\\sbauser\\appdata\\local\\packages\\pythonsoftwarefoundation.python.3.10_qbz5n2kfra8p0\\localcache\\local-packages\\python310\\site-packages (from urllib3[socks]~=1.26->selenium) (1.7.1)\n",
      "Requirement already satisfied: pycparser in c:\\users\\sbauser\\appdata\\local\\packages\\pythonsoftwarefoundation.python.3.10_qbz5n2kfra8p0\\localcache\\local-packages\\python310\\site-packages (from cffi>=1.14->trio~=0.17->selenium) (2.21)\n",
      "Requirement already satisfied: h11<1,>=0.9.0 in c:\\users\\sbauser\\appdata\\local\\packages\\pythonsoftwarefoundation.python.3.10_qbz5n2kfra8p0\\localcache\\local-packages\\python310\\site-packages (from wsproto>=0.14->trio-websocket~=0.9->selenium) (0.14.0)\n",
      "Note: you may need to restart the kernel to use updated packages.\n"
     ]
    }
   ],
   "source": [
    "pip install selenium"
   ]
  },
  {
   "cell_type": "code",
   "execution_count": 2,
   "id": "cdc45950",
   "metadata": {},
   "outputs": [
    {
     "name": "stderr",
     "output_type": "stream",
     "text": [
      "C:\\Users\\SBAUser\\AppData\\Local\\Temp\\ipykernel_3796\\971271693.py:5: DeprecationWarning: executable_path has been deprecated, please pass in a Service object\n",
      "  driver=webdriver.Chrome('chromedriver.exe') #새 창이 a뜸\n"
     ]
    }
   ],
   "source": [
    "from selenium import webdriver\n",
    "from bs4 import BeautifulSoup\n",
    "\n",
    "\n",
    "driver=webdriver.Chrome('chromedriver.exe') #새 창이 a뜸\n",
    "\n",
    "url = 'http://ticket.interpark.com/contents/Ranking/RankList?pKind=01011&pCate=01011&pType=Y&pDate=20221220'\n",
    "driver.get(url)\n",
    "\n",
    "html=driver.page_source \n",
    "soup=BeautifulSoup(html, 'html.parser')"
   ]
  },
  {
   "cell_type": "code",
   "execution_count": 15,
   "id": "fcf0cc87",
   "metadata": {},
   "outputs": [
    {
     "name": "stdout",
     "output_type": "stream",
     "text": [
      "50\n"
     ]
    }
   ],
   "source": [
    "musicals=soup.select('tr>td.prds')\n",
    "musicals\n",
    "\n",
    "print(len(musicals))"
   ]
  },
  {
   "cell_type": "code",
   "execution_count": 60,
   "id": "b70c29db",
   "metadata": {},
   "outputs": [
    {
     "data": {
      "text/plain": [
       "[<b>태양의서커스〈뉴 알레그리아〉</b>]"
      ]
     },
     "execution_count": 60,
     "metadata": {},
     "output_type": "execute_result"
    }
   ],
   "source": [
    "musical=musicals[0]\n",
    "\n",
    "title=musical.select('b')\n",
    "title"
   ]
  },
  {
   "cell_type": "code",
   "execution_count": 61,
   "id": "e7b05399",
   "metadata": {},
   "outputs": [
    {
     "data": {
      "text/plain": [
       "'태양의서커스〈뉴 알레그리아〉'"
      ]
     },
     "execution_count": 61,
     "metadata": {},
     "output_type": "execute_result"
    }
   ],
   "source": [
    "title[0].text"
   ]
  },
  {
   "cell_type": "code",
   "execution_count": 62,
   "id": "8fcdafef",
   "metadata": {},
   "outputs": [
    {
     "data": {
      "text/plain": [
       "'태양의서커스〈뉴 알레그리아〉,잠실종합운동장 내 빅탑'"
      ]
     },
     "execution_count": 62,
     "metadata": {},
     "output_type": "execute_result"
    }
   ],
   "source": [
    "loc=musical.select('body > div.rankingDetailBody > div:nth-child(2) > table > tbody > tr > td.prds > div.prdInfo > a')[0].text.strip().replace('\\n\\t                                    ',',')    \n",
    "loc"
   ]
  },
  {
   "cell_type": "code",
   "execution_count": 95,
   "id": "06308fd6",
   "metadata": {},
   "outputs": [
    {
     "data": {
      "text/plain": [
       "'뮤지컬 〈아이다〉\\n\\t블루스퀘어 신한카드홀'"
      ]
     },
     "execution_count": 95,
     "metadata": {},
     "output_type": "execute_result"
    }
   ],
   "source": [
    "soup.select('div.prdInfo > a')[3].text.strip().replace('  ','')"
   ]
  },
  {
   "cell_type": "code",
   "execution_count": 99,
   "id": "9d97ac41",
   "metadata": {},
   "outputs": [
    {
     "data": {
      "text/plain": [
       "'뮤지컬 〈엘리자벳〉 10주년 기념공연\\n\\t블루스퀘어 신한카드홀'"
      ]
     },
     "execution_count": 99,
     "metadata": {},
     "output_type": "execute_result"
    }
   ],
   "source": [
    "soup.select('div.prdInfo > a')[2].text.strip().replace(' \n",
    " ','').replace('\\n\\t',',')"
   ]
  },
  {
   "cell_type": "code",
   "execution_count": 100,
   "id": "99f23813",
   "metadata": {},
   "outputs": [
    {
     "data": {
      "text/plain": [
       "'뮤지컬 〈킹키부츠〉,충무아트센터 대극장'"
      ]
     },
     "execution_count": 100,
     "metadata": {},
     "output_type": "execute_result"
    }
   ],
   "source": [
    "soup.select('div.prdInfo > a')[1].text.strip().replace('  ','').replace('\\n\\t',',')"
   ]
  },
  {
   "cell_type": "code",
   "execution_count": 78,
   "id": "79ca5b99",
   "metadata": {},
   "outputs": [
    {
     "data": {
      "text/plain": [
       "[]"
      ]
     },
     "execution_count": 78,
     "metadata": {},
     "output_type": "execute_result"
    }
   ],
   "source": [
    "loc = musical.select('body > div.rankingDetailBody > div:nth-child(4) > table > tbody > tr > td.prds > div.prdInfo > a')\n",
    "loc\n"
   ]
  },
  {
   "cell_type": "code",
   "execution_count": null,
   "id": "220649e6",
   "metadata": {},
   "outputs": [],
   "source": []
  },
  {
   "cell_type": "code",
   "execution_count": 65,
   "id": "a733703c",
   "metadata": {},
   "outputs": [
    {
     "data": {
      "text/plain": [
       "'잠실종합운동장 내 빅탑'"
      ]
     },
     "execution_count": 65,
     "metadata": {},
     "output_type": "execute_result"
    }
   ],
   "source": [
    "location=loc.split(',')[1] \n",
    "location"
   ]
  },
  {
   "cell_type": "code",
   "execution_count": 28,
   "id": "3f2c30c0",
   "metadata": {},
   "outputs": [
    {
     "ename": "IndexError",
     "evalue": "list index out of range",
     "output_type": "error",
     "traceback": [
      "\u001b[1;31m---------------------------------------------------------------------------\u001b[0m",
      "\u001b[1;31mIndexError\u001b[0m                                Traceback (most recent call last)",
      "Cell \u001b[1;32mIn[28], line 1\u001b[0m\n\u001b[1;32m----> 1\u001b[0m loc\u001b[39m=\u001b[39mmusical\u001b[39m.\u001b[39;49mselect(\u001b[39m'\u001b[39;49m\u001b[39mb>#text\u001b[39;49m\u001b[39m'\u001b[39;49m)[\u001b[39m1\u001b[39;49m]\n",
      "\u001b[1;31mIndexError\u001b[0m: list index out of range"
     ]
    }
   ],
   "source": [
    "loc=musical.select('b>#text')[1]"
   ]
  },
  {
   "cell_type": "code",
   "execution_count": 112,
   "id": "8d21f08b",
   "metadata": {},
   "outputs": [
    {
     "data": {
      "text/plain": [
       "'지'"
      ]
     },
     "execution_count": 112,
     "metadata": {},
     "output_type": "execute_result"
    }
   ],
   "source": [
    "musical=soup.select('div.prdInfo > a')[1].text.strip().replace('  ','').replace('\\n\\t',',')[1]\n",
    "musical"
   ]
  },
  {
   "cell_type": "code",
   "execution_count": 120,
   "id": "9331ee93",
   "metadata": {},
   "outputs": [
    {
     "ename": "AttributeError",
     "evalue": "ResultSet object has no attribute 'select'. You're probably treating a list of elements like a single element. Did you call find_all() when you meant to call find()?",
     "output_type": "error",
     "traceback": [
      "\u001b[1;31m---------------------------------------------------------------------------\u001b[0m",
      "\u001b[1;31mAttributeError\u001b[0m                            Traceback (most recent call last)",
      "Cell \u001b[1;32mIn[120], line 3\u001b[0m\n\u001b[0;32m      1\u001b[0m \u001b[39m# musical=soup.select('div.prdInfo > a')\u001b[39;00m\n\u001b[0;32m      2\u001b[0m \u001b[39m# musical\u001b[39;00m\n\u001b[1;32m----> 3\u001b[0m title\u001b[39m=\u001b[39mmusical\u001b[39m.\u001b[39;49mselect(\u001b[39m'\u001b[39m\u001b[39mdiv.prdInfo > a\u001b[39m\u001b[39m'\u001b[39m)[\u001b[39m0\u001b[39m]\u001b[39m.\u001b[39mtext\u001b[39m.\u001b[39mstrip()\u001b[39m.\u001b[39mreplace(\u001b[39m'\u001b[39m\u001b[39m \u001b[39m\u001b[39m'\u001b[39m,\u001b[39m'\u001b[39m\u001b[39m'\u001b[39m)\u001b[39m.\u001b[39mreplace(\u001b[39m'\u001b[39m\u001b[39m\\n\u001b[39;00m\u001b[39m\\t\u001b[39;00m\u001b[39m'\u001b[39m,\u001b[39m'\u001b[39m\u001b[39m,\u001b[39m\u001b[39m'\u001b[39m)\n\u001b[0;32m      4\u001b[0m title\n",
      "File \u001b[1;32m~\\AppData\\Local\\Packages\\PythonSoftwareFoundation.Python.3.10_qbz5n2kfra8p0\\LocalCache\\local-packages\\Python310\\site-packages\\bs4\\element.py:2289\u001b[0m, in \u001b[0;36mResultSet.__getattr__\u001b[1;34m(self, key)\u001b[0m\n\u001b[0;32m   2287\u001b[0m \u001b[39mdef\u001b[39;00m \u001b[39m__getattr__\u001b[39m(\u001b[39mself\u001b[39m, key):\n\u001b[0;32m   2288\u001b[0m     \u001b[39m\"\"\"Raise a helpful exception to explain a common code fix.\"\"\"\u001b[39;00m\n\u001b[1;32m-> 2289\u001b[0m     \u001b[39mraise\u001b[39;00m \u001b[39mAttributeError\u001b[39;00m(\n\u001b[0;32m   2290\u001b[0m         \u001b[39m\"\u001b[39m\u001b[39mResultSet object has no attribute \u001b[39m\u001b[39m'\u001b[39m\u001b[39m%s\u001b[39;00m\u001b[39m'\u001b[39m\u001b[39m. You\u001b[39m\u001b[39m'\u001b[39m\u001b[39mre probably treating a list of elements like a single element. Did you call find_all() when you meant to call find()?\u001b[39m\u001b[39m\"\u001b[39m \u001b[39m%\u001b[39m key\n\u001b[0;32m   2291\u001b[0m     )\n",
      "\u001b[1;31mAttributeError\u001b[0m: ResultSet object has no attribute 'select'. You're probably treating a list of elements like a single element. Did you call find_all() when you meant to call find()?"
     ]
    }
   ],
   "source": [
    "# musical=soup.select('div.prdInfo > a')\n",
    "# musical\n",
    "title=musical.select('div.prdInfo > a')[0].text.strip().replace(' ','').replace('\\n\\t',',')\n",
    "title"
   ]
  },
  {
   "cell_type": "code",
   "execution_count": 118,
   "id": "724de861",
   "metadata": {},
   "outputs": [
    {
     "ename": "IndexError",
     "evalue": "list index out of range",
     "output_type": "error",
     "traceback": [
      "\u001b[1;31m---------------------------------------------------------------------------\u001b[0m",
      "\u001b[1;31mIndexError\u001b[0m                                Traceback (most recent call last)",
      "Cell \u001b[1;32mIn[118], line 9\u001b[0m\n\u001b[0;32m      5\u001b[0m musical\u001b[39m=\u001b[39msoup\u001b[39m.\u001b[39mselect(\u001b[39m'\u001b[39m\u001b[39mdiv.prdInfo > a\u001b[39m\u001b[39m'\u001b[39m)\n\u001b[0;32m      8\u001b[0m \u001b[39mfor\u001b[39;00m i \u001b[39min\u001b[39;00m musical:\n\u001b[1;32m----> 9\u001b[0m     title\u001b[39m=\u001b[39mi\u001b[39m.\u001b[39;49mselect(\u001b[39m'\u001b[39;49m\u001b[39mdiv.prdInfo > a\u001b[39;49m\u001b[39m'\u001b[39;49m)[\u001b[39m1\u001b[39;49m]\u001b[39m.\u001b[39mtext\u001b[39m.\u001b[39mstrip()\u001b[39m.\u001b[39mreplace(\u001b[39m'\u001b[39m\u001b[39m  \u001b[39m\u001b[39m'\u001b[39m,\u001b[39m'\u001b[39m\u001b[39m'\u001b[39m)\u001b[39m.\u001b[39mreplace(\u001b[39m'\u001b[39m\u001b[39m\\n\u001b[39;00m\u001b[39m\\t\u001b[39;00m\u001b[39m'\u001b[39m,\u001b[39m'\u001b[39m\u001b[39m,\u001b[39m\u001b[39m'\u001b[39m)\n\u001b[0;32m     10\u001b[0m     \u001b[39m# loc=i.select('div.prdInfo > a')[0].text.strip().replace('      ','').replace('\\n\\t',',')[1]\u001b[39;00m\n\u001b[0;32m     13\u001b[0m     \u001b[39mprint\u001b[39m(title, loc, sep\u001b[39m=\u001b[39m\u001b[39m'\u001b[39m\u001b[39m , \u001b[39m\u001b[39m'\u001b[39m)\n",
      "\u001b[1;31mIndexError\u001b[0m: list index out of range"
     ]
    }
   ],
   "source": [
    "musical_data=[]\n",
    "rank=1 #초기화\n",
    "\n",
    "musicals = soup.select(\"body > div.rankingDetailBody\")\n",
    "musical=soup.select('div.prdInfo > a')\n",
    "\n",
    "\n",
    "for i in musical:\n",
    "    title=i.select('div.prdInfo > a')[0].text.strip().replace('  ','').replace('\\n\\t',',')\n",
    "    # loc=i.select('div.prdInfo > a')[0].text.strip().replace('      ','').replace('\\n\\t',',')[1]\n",
    "\n",
    "    \n",
    "    print(title, loc, sep=' , ')\n",
    "    mylist = ['interpark', rank, title, loc]\n",
    "    musical_data.append(mylist)\n",
    "    rank += 1"
   ]
  },
  {
   "cell_type": "code",
   "execution_count": 22,
   "id": "3862fb9a",
   "metadata": {
    "scrolled": true
   },
   "outputs": [
    {
     "data": {
      "text/plain": [
       "[]"
      ]
     },
     "execution_count": 22,
     "metadata": {},
     "output_type": "execute_result"
    }
   ],
   "source": [
    "voice_data"
   ]
  },
  {
   "cell_type": "code",
   "execution_count": 15,
   "id": "7ba085a3",
   "metadata": {
    "scrolled": true
   },
   "outputs": [
    {
     "data": {
      "text/html": [
       "<div>\n",
       "<style scoped>\n",
       "    .dataframe tbody tr th:only-of-type {\n",
       "        vertical-align: middle;\n",
       "    }\n",
       "\n",
       "    .dataframe tbody tr th {\n",
       "        vertical-align: top;\n",
       "    }\n",
       "\n",
       "    .dataframe thead th {\n",
       "        text-align: right;\n",
       "    }\n",
       "</style>\n",
       "<table border=\"1\" class=\"dataframe\">\n",
       "  <thead>\n",
       "    <tr style=\"text-align: right;\">\n",
       "      <th></th>\n",
       "      <th>서비스업체</th>\n",
       "      <th>이름</th>\n",
       "    </tr>\n",
       "  </thead>\n",
       "  <tbody>\n",
       "  </tbody>\n",
       "</table>\n",
       "</div>"
      ],
      "text/plain": [
       "Empty DataFrame\n",
       "Columns: [서비스업체, 이름]\n",
       "Index: []"
      ]
     },
     "execution_count": 15,
     "metadata": {},
     "output_type": "execute_result"
    }
   ],
   "source": [
    "import pandas as pd\n",
    "\n",
    "df=pd.DataFrame(voice_data, columns=['서비스업체', '이름'])\n",
    "df"
   ]
  },
  {
   "cell_type": "code",
   "execution_count": 27,
   "id": "6d167ae0",
   "metadata": {},
   "outputs": [],
   "source": [
    "df.to_excel('./gn_rank.xlsx', index=False)"
   ]
  },
  {
   "cell_type": "code",
   "execution_count": 7,
   "id": "b960c858",
   "metadata": {},
   "outputs": [
    {
     "data": {
      "text/plain": [
       "pandas.core.frame.DataFrame"
      ]
     },
     "execution_count": 7,
     "metadata": {},
     "output_type": "execute_result"
    }
   ],
   "source": [
    "type(df)"
   ]
  },
  {
   "cell_type": "code",
   "execution_count": null,
   "id": "f82e4ad0",
   "metadata": {},
   "outputs": [],
   "source": [
    "voice=songs[0]\n",
    "song.select"
   ]
  },
  {
   "cell_type": "code",
   "execution_count": null,
   "id": "903ee34a",
   "metadata": {},
   "outputs": [],
   "source": [
    "voice_data=[]\n",
    "list=0\n",
    "\n",
    "voices=soup.select('상위 경로')\n",
    "\n",
    "for voice in voices:\n",
    "    name= 하위경로\n",
    "    print('성별', '이름', sep=',')\n",
    "    \n",
    "mylist=['clova', '성별', '이름']\n",
    "voice_data.append(mylist)\n",
    "list += 1"
   ]
  },
  {
   "cell_type": "code",
   "execution_count": 1,
   "id": "17a09a23",
   "metadata": {},
   "outputs": [
    {
     "name": "stderr",
     "output_type": "stream",
     "text": [
      "C:\\Users\\SBAUser\\AppData\\Local\\Temp\\ipykernel_13860\\2325008364.py:5: DeprecationWarning: executable_path has been deprecated, please pass in a Service object\n",
      "  driver = webdriver.Chrome('./chromedriver.exe')\n"
     ]
    }
   ],
   "source": [
    "from selenium import webdriver\n",
    "from bs4 import BeautifulSoup\n",
    "import pandas as pd\n",
    "\n",
    "driver = webdriver.Chrome('./chromedriver.exe')\n",
    "\n",
    "url = 'http://ticket.interpark.com/contents/Ranking/RankList?pKind=01011&pCate=01011&pType=Y&pDate=20230130'\n",
    "driver.get(url)\n",
    "\n",
    "html = driver.page_source\n",
    "soup = BeautifulSoup(html, 'html.parser')\n",
    "\n",
    "musicals = soup.select('div.prdInfo > a')\n",
    "\n",
    "musical_data = []\n",
    "Rank = 1\n",
    "\n",
    "for i in range(0,50):\n",
    "    title = musicals[i].text.strip().replace('  ','').replace('\\n\\t',',').split(',')[0]\n",
    "    loc = musicals[i].text.strip().replace('  ','').replace('\\n\\t',',').split(',')[1]\n",
    "    \n",
    "    my_list = ['interpark',Rank, title, loc]\n",
    "    musical_data.append(my_list)\n",
    "    Rank += 1"
   ]
  },
  {
   "cell_type": "code",
   "execution_count": 2,
   "id": "7ac7ffdf",
   "metadata": {},
   "outputs": [
    {
     "data": {
      "text/plain": [
       "[['interpark',\n",
       "  1,\n",
       "  '뮤지컬 〈물랑루즈!〉 아시아 초연 (Moulin Rouge! The Musical)',\n",
       "  '블루스퀘어 신한카드홀'],\n",
       " ['interpark', 2, '뮤지컬 〈베토벤; Beethoven Secret〉', '예술의전당 오페라극장'],\n",
       " ['interpark', 3, '뮤지컬 ＇영웅＇', 'LG아트센터 서울 LG SIGNATURE 홀'],\n",
       " ['interpark', 4, '뮤지컬 〈여신님이 보고 계셔〉 10th Anniversary', '대학로 유니플렉스 1관'],\n",
       " ['interpark', 5, '뮤지컬 〈마틸다〉', '대성 디큐브아트센터'],\n",
       " ['interpark', 6, '뮤지컬 〈스위니토드〉', '샤롯데씨어터'],\n",
       " ['interpark', 7, '뮤지컬 〈캣츠〉 오리지널 내한－서울（Musical CATS）', '세종문화회관 대극장'],\n",
       " ['interpark', 8, '뮤지컬 〈웨스트 사이드 스토리〉', '충무아트센터 대극장'],\n",
       " ['interpark', 9, '뮤지컬 〈맘마미아!〉', '충무아트센터 대극장'],\n",
       " ['interpark', 10, '뮤지컬 〈이프덴〉', '홍익대 대학로 아트센터 대극장'],\n",
       " ['interpark', 11, '뮤지컬 〈종의 기원〉', '드림아트센터 1관'],\n",
       " ['interpark', 12, '와일드 와일드 〈드림〉', '와일드 와일드 전용관 (명보아트홀)'],\n",
       " ['interpark', 13, '뮤지컬 〈캣츠〉 오리지널 내한 - 대구 (Musical CATS)', '계명아트센터'],\n",
       " ['interpark', 14, '뮤지컬 〈웨이스티드〉 : 연극열전9_네 번째 작품', '대학로 아트원씨어터 2관'],\n",
       " ['interpark', 15, '뮤지컬 〈루드윅 : 베토벤 더 피아노〉', '예스24스테이지 1관'],\n",
       " ['interpark', 16, '뮤지컬 〈빨래〉', '대학로 유니플렉스 2관'],\n",
       " ['interpark', 17, '뮤지컬 〈로빈〉', '대학로 TOM(티오엠) 1관'],\n",
       " ['interpark', 18, '뮤지컬 〈푸른 잿빛 밤〉', '드림아트센터 2관'],\n",
       " ['interpark', 19, '뮤지컬 〈오페라의 유령〉 - 부산', '부산 드림씨어터'],\n",
       " ['interpark', 20, '뮤지컬 〈데미안〉', '드림아트센터 3관'],\n",
       " ['interpark', 21, '식스 더 뮤지컬 최초 한국 공연 - 내한', 'coex 신한카드 artium'],\n",
       " ['interpark', 22, '뮤지컬 〈미드나잇 : 앤틀러스〉', '플러스씨어터'],\n",
       " ['interpark', 23, '뮤지컬 〈청춘소음〉', '동덕여대 공연예술센터 코튼홀'],\n",
       " ['interpark', 24, '뮤지컬 〈결투〉', '드림아트센터 2관'],\n",
       " ['interpark', 25, '뮤지컬 〈브로드웨이 42번가〉 - 대구', '계명아트센터'],\n",
       " ['interpark', 26, '뮤지컬 〈호프 : 읽히지 않은 책과 읽히지 않은 인생〉', '대학로 유니플렉스 1관'],\n",
       " ['interpark', 27, '뮤지컬 〈지저스 크라이스트 수퍼스타〉 50주년 기념 한국 공연 - 익산', '익산예술의전당 대공연장'],\n",
       " ['interpark', 28, '뮤지컬 〈지저스 크라이스트 수퍼스타〉 50주년 기념 한국 공연', '광림아트센터 BBCH홀'],\n",
       " ['interpark', 29, '뮤지컬 〈다이스〉', 'CJ아지트 대학로'],\n",
       " ['interpark', 30, '뮤지컬 〈브로드웨이 42번가〉', '예술의전당 CJ 토월극장'],\n",
       " ['interpark', 31, '뮤지컬 〈지저스 크라이스트 수퍼스타〉 50주년 기념 한국 공연 - 부산', '부산 드림씨어터'],\n",
       " ['interpark', 32, '뮤지컬 〈브로드웨이 42번가〉 - 여수', 'GS칼텍스 예울마루 대극장'],\n",
       " ['interpark', 33, '뮤지컬 〈브로드웨이 42번가〉 - 창원', '창원 성산아트홀 대극장'],\n",
       " ['interpark', 34, '뮤지컬 〈캣츠〉 오리지널 내한－부산（Musical CATS）', '부산 드림씨어터'],\n",
       " ['interpark', 35, '뮤지컬 〈일라이〉', '링크아트센터 페이코홀'],\n",
       " ['interpark', 36, '소크라테스 패러독스', '서경대학교 공연예술센터 스콘1관'],\n",
       " ['interpark', 37, '뮤지컬 〈드라큘라〉 - 대구', '계명아트센터'],\n",
       " ['interpark', 38, '뮤지컬 〈빨래〉', '대학로 유니플렉스 2관'],\n",
       " ['interpark', 39, '뮤지컬 〈여신님이 보고 계셔〉 토크콘서트 - 10주년 기념 잔치', '대학로 유니플렉스 1관'],\n",
       " ['interpark', 40, '뮤지컬 〈보이체크 인 더 다크〉', '링크아트센터 벅스홀'],\n",
       " ['interpark', 41, '뮤지컬 〈용의자X의 헌신〉', '한전아트센터'],\n",
       " ['interpark', 42, '이은결［더 일루션 - 마스터피스］- 인천', '인천문화예술회관 대공연장'],\n",
       " ['interpark', 43, '뮤지컬 〈김종욱 찾기〉', '브릭스씨어터'],\n",
       " ['interpark', 44, '뮤지컬 〈브로드웨이 42번가〉 - 부산', '부산문화회관 대극장'],\n",
       " ['interpark', 45, '뮤지컬 〈드라큘라〉', '올림픽공원 우리금융아트홀'],\n",
       " ['interpark', 46, '뮤지컬 〈지저스 크라이스트 수퍼스타〉 50주년 기념 한국 공연 - 수원', '경기아트센터 대극장'],\n",
       " ['interpark', 47, '뮤지컬 〈브로드웨이 42번가〉 - 진주', '경남문화예술회관 대공연장'],\n",
       " ['interpark', 48, '뮤지컬 〈윌리엄과 윌리엄의 윌리엄들〉', '대학로 아트원씨어터 2관'],\n",
       " ['interpark', 49, '뮤지컬 〈지저스 크라이스트 수퍼스타〉 50주년 기념 한국 공연 - 성남', '성남아트센터 오페라하우스'],\n",
       " ['interpark', 50, '뮤지컬 〈브로드웨이 42번가〉 - 천안', '천안예술의전당 대공연장']]"
      ]
     },
     "execution_count": 2,
     "metadata": {},
     "output_type": "execute_result"
    }
   ],
   "source": [
    "musical_data"
   ]
  },
  {
   "cell_type": "code",
   "execution_count": 3,
   "id": "99985f22",
   "metadata": {},
   "outputs": [
    {
     "name": "stderr",
     "output_type": "stream",
     "text": [
      "C:\\Users\\SBAUser\\AppData\\Local\\Temp\\ipykernel_13860\\606893943.py:5: DeprecationWarning: executable_path has been deprecated, please pass in a Service object\n",
      "  driver = webdriver.Chrome('./chromedriver.exe')\n"
     ]
    }
   ],
   "source": [
    "from selenium import webdriver\n",
    "from bs4 import BeautifulSoup\n",
    "import pandas as pd\n",
    "\n",
    "driver = webdriver.Chrome('./chromedriver.exe')\n",
    "\n",
    "url = 'http://ticket.interpark.com/contents/Ranking/RankList?pKind=01011&pCate=01011&pType=Y&pDate=20230130'\n",
    "driver.get(url)\n",
    "\n",
    "html = driver.page_source\n",
    "soup = BeautifulSoup(html, 'html.parser')\n",
    "\n",
    "musicals = soup.select('div.prdInfo')\n",
    "#musical=musicals[0]\n",
    "\n",
    "musical_data = []\n",
    "Rank = 1\n",
    "\n",
    "for musical in musicals:\n",
    "    title = musical.select('a')[0].text.strip().replace('  ','').replace('\\n\\t',',').split(',')[0]\n",
    "    loc = musical.select('a')[0].text.strip().replace('  ','').replace('\\n\\t',',').split(',')[1]\n",
    "    \n",
    "    my_list = ['Interpark',Rank, title, loc]\n",
    "    musical_data.append(my_list)\n",
    "    Rank += 1"
   ]
  },
  {
   "cell_type": "code",
   "execution_count": 4,
   "id": "e501b83b",
   "metadata": {},
   "outputs": [
    {
     "data": {
      "text/plain": [
       "[['Interpark',\n",
       "  1,\n",
       "  '뮤지컬 〈물랑루즈!〉 아시아 초연 (Moulin Rouge! The Musical)',\n",
       "  '블루스퀘어 신한카드홀'],\n",
       " ['Interpark', 2, '뮤지컬 〈베토벤; Beethoven Secret〉', '예술의전당 오페라극장'],\n",
       " ['Interpark', 3, '뮤지컬 ＇영웅＇', 'LG아트센터 서울 LG SIGNATURE 홀'],\n",
       " ['Interpark', 4, '뮤지컬 〈여신님이 보고 계셔〉 10th Anniversary', '대학로 유니플렉스 1관'],\n",
       " ['Interpark', 5, '뮤지컬 〈마틸다〉', '대성 디큐브아트센터'],\n",
       " ['Interpark', 6, '뮤지컬 〈스위니토드〉', '샤롯데씨어터'],\n",
       " ['Interpark', 7, '뮤지컬 〈캣츠〉 오리지널 내한－서울（Musical CATS）', '세종문화회관 대극장'],\n",
       " ['Interpark', 8, '뮤지컬 〈웨스트 사이드 스토리〉', '충무아트센터 대극장'],\n",
       " ['Interpark', 9, '뮤지컬 〈맘마미아!〉', '충무아트센터 대극장'],\n",
       " ['Interpark', 10, '뮤지컬 〈이프덴〉', '홍익대 대학로 아트센터 대극장'],\n",
       " ['Interpark', 11, '뮤지컬 〈종의 기원〉', '드림아트센터 1관'],\n",
       " ['Interpark', 12, '와일드 와일드 〈드림〉', '와일드 와일드 전용관 (명보아트홀)'],\n",
       " ['Interpark', 13, '뮤지컬 〈캣츠〉 오리지널 내한 - 대구 (Musical CATS)', '계명아트센터'],\n",
       " ['Interpark', 14, '뮤지컬 〈웨이스티드〉 : 연극열전9_네 번째 작품', '대학로 아트원씨어터 2관'],\n",
       " ['Interpark', 15, '뮤지컬 〈루드윅 : 베토벤 더 피아노〉', '예스24스테이지 1관'],\n",
       " ['Interpark', 16, '뮤지컬 〈빨래〉', '대학로 유니플렉스 2관'],\n",
       " ['Interpark', 17, '뮤지컬 〈로빈〉', '대학로 TOM(티오엠) 1관'],\n",
       " ['Interpark', 18, '뮤지컬 〈푸른 잿빛 밤〉', '드림아트센터 2관'],\n",
       " ['Interpark', 19, '뮤지컬 〈오페라의 유령〉 - 부산', '부산 드림씨어터'],\n",
       " ['Interpark', 20, '뮤지컬 〈데미안〉', '드림아트센터 3관'],\n",
       " ['Interpark', 21, '식스 더 뮤지컬 최초 한국 공연 - 내한', 'coex 신한카드 artium'],\n",
       " ['Interpark', 22, '뮤지컬 〈미드나잇 : 앤틀러스〉', '플러스씨어터'],\n",
       " ['Interpark', 23, '뮤지컬 〈청춘소음〉', '동덕여대 공연예술센터 코튼홀'],\n",
       " ['Interpark', 24, '뮤지컬 〈결투〉', '드림아트센터 2관'],\n",
       " ['Interpark', 25, '뮤지컬 〈브로드웨이 42번가〉 - 대구', '계명아트센터'],\n",
       " ['Interpark', 26, '뮤지컬 〈호프 : 읽히지 않은 책과 읽히지 않은 인생〉', '대학로 유니플렉스 1관'],\n",
       " ['Interpark', 27, '뮤지컬 〈지저스 크라이스트 수퍼스타〉 50주년 기념 한국 공연 - 익산', '익산예술의전당 대공연장'],\n",
       " ['Interpark', 28, '뮤지컬 〈지저스 크라이스트 수퍼스타〉 50주년 기념 한국 공연', '광림아트센터 BBCH홀'],\n",
       " ['Interpark', 29, '뮤지컬 〈다이스〉', 'CJ아지트 대학로'],\n",
       " ['Interpark', 30, '뮤지컬 〈브로드웨이 42번가〉', '예술의전당 CJ 토월극장'],\n",
       " ['Interpark', 31, '뮤지컬 〈지저스 크라이스트 수퍼스타〉 50주년 기념 한국 공연 - 부산', '부산 드림씨어터'],\n",
       " ['Interpark', 32, '뮤지컬 〈브로드웨이 42번가〉 - 여수', 'GS칼텍스 예울마루 대극장'],\n",
       " ['Interpark', 33, '뮤지컬 〈브로드웨이 42번가〉 - 창원', '창원 성산아트홀 대극장'],\n",
       " ['Interpark', 34, '뮤지컬 〈캣츠〉 오리지널 내한－부산（Musical CATS）', '부산 드림씨어터'],\n",
       " ['Interpark', 35, '뮤지컬 〈일라이〉', '링크아트센터 페이코홀'],\n",
       " ['Interpark', 36, '소크라테스 패러독스', '서경대학교 공연예술센터 스콘1관'],\n",
       " ['Interpark', 37, '뮤지컬 〈드라큘라〉 - 대구', '계명아트센터'],\n",
       " ['Interpark', 38, '뮤지컬 〈빨래〉', '대학로 유니플렉스 2관'],\n",
       " ['Interpark', 39, '뮤지컬 〈여신님이 보고 계셔〉 토크콘서트 - 10주년 기념 잔치', '대학로 유니플렉스 1관'],\n",
       " ['Interpark', 40, '뮤지컬 〈보이체크 인 더 다크〉', '링크아트센터 벅스홀'],\n",
       " ['Interpark', 41, '뮤지컬 〈용의자X의 헌신〉', '한전아트센터'],\n",
       " ['Interpark', 42, '이은결［더 일루션 - 마스터피스］- 인천', '인천문화예술회관 대공연장'],\n",
       " ['Interpark', 43, '뮤지컬 〈김종욱 찾기〉', '브릭스씨어터'],\n",
       " ['Interpark', 44, '뮤지컬 〈브로드웨이 42번가〉 - 부산', '부산문화회관 대극장'],\n",
       " ['Interpark', 45, '뮤지컬 〈드라큘라〉', '올림픽공원 우리금융아트홀'],\n",
       " ['Interpark', 46, '뮤지컬 〈지저스 크라이스트 수퍼스타〉 50주년 기념 한국 공연 - 수원', '경기아트센터 대극장'],\n",
       " ['Interpark', 47, '뮤지컬 〈브로드웨이 42번가〉 - 진주', '경남문화예술회관 대공연장'],\n",
       " ['Interpark', 48, '뮤지컬 〈윌리엄과 윌리엄의 윌리엄들〉', '대학로 아트원씨어터 2관'],\n",
       " ['Interpark', 49, '뮤지컬 〈지저스 크라이스트 수퍼스타〉 50주년 기념 한국 공연 - 성남', '성남아트센터 오페라하우스'],\n",
       " ['Interpark', 50, '뮤지컬 〈브로드웨이 42번가〉 - 천안', '천안예술의전당 대공연장']]"
      ]
     },
     "execution_count": 4,
     "metadata": {},
     "output_type": "execute_result"
    }
   ],
   "source": [
    "musical_data"
   ]
  },
  {
   "cell_type": "code",
   "execution_count": 5,
   "id": "ae45f0c6",
   "metadata": {},
   "outputs": [
    {
     "data": {
      "text/html": [
       "<div>\n",
       "<style scoped>\n",
       "    .dataframe tbody tr th:only-of-type {\n",
       "        vertical-align: middle;\n",
       "    }\n",
       "\n",
       "    .dataframe tbody tr th {\n",
       "        vertical-align: top;\n",
       "    }\n",
       "\n",
       "    .dataframe thead th {\n",
       "        text-align: right;\n",
       "    }\n",
       "</style>\n",
       "<table border=\"1\" class=\"dataframe\">\n",
       "  <thead>\n",
       "    <tr style=\"text-align: right;\">\n",
       "      <th></th>\n",
       "      <th>서비스업체</th>\n",
       "      <th>순위</th>\n",
       "      <th>제목</th>\n",
       "      <th>장소</th>\n",
       "    </tr>\n",
       "  </thead>\n",
       "  <tbody>\n",
       "    <tr>\n",
       "      <th>0</th>\n",
       "      <td>Interpark</td>\n",
       "      <td>1</td>\n",
       "      <td>뮤지컬 〈물랑루즈!〉 아시아 초연 (Moulin Rouge! The Musical)</td>\n",
       "      <td>블루스퀘어 신한카드홀</td>\n",
       "    </tr>\n",
       "    <tr>\n",
       "      <th>1</th>\n",
       "      <td>Interpark</td>\n",
       "      <td>2</td>\n",
       "      <td>뮤지컬 〈베토벤; Beethoven Secret〉</td>\n",
       "      <td>예술의전당 오페라극장</td>\n",
       "    </tr>\n",
       "    <tr>\n",
       "      <th>2</th>\n",
       "      <td>Interpark</td>\n",
       "      <td>3</td>\n",
       "      <td>뮤지컬 ＇영웅＇</td>\n",
       "      <td>LG아트센터 서울 LG SIGNATURE 홀</td>\n",
       "    </tr>\n",
       "    <tr>\n",
       "      <th>3</th>\n",
       "      <td>Interpark</td>\n",
       "      <td>4</td>\n",
       "      <td>뮤지컬 〈여신님이 보고 계셔〉 10th Anniversary</td>\n",
       "      <td>대학로 유니플렉스 1관</td>\n",
       "    </tr>\n",
       "    <tr>\n",
       "      <th>4</th>\n",
       "      <td>Interpark</td>\n",
       "      <td>5</td>\n",
       "      <td>뮤지컬 〈마틸다〉</td>\n",
       "      <td>대성 디큐브아트센터</td>\n",
       "    </tr>\n",
       "    <tr>\n",
       "      <th>5</th>\n",
       "      <td>Interpark</td>\n",
       "      <td>6</td>\n",
       "      <td>뮤지컬 〈스위니토드〉</td>\n",
       "      <td>샤롯데씨어터</td>\n",
       "    </tr>\n",
       "    <tr>\n",
       "      <th>6</th>\n",
       "      <td>Interpark</td>\n",
       "      <td>7</td>\n",
       "      <td>뮤지컬 〈캣츠〉 오리지널 내한－서울（Musical CATS）</td>\n",
       "      <td>세종문화회관 대극장</td>\n",
       "    </tr>\n",
       "    <tr>\n",
       "      <th>7</th>\n",
       "      <td>Interpark</td>\n",
       "      <td>8</td>\n",
       "      <td>뮤지컬 〈웨스트 사이드 스토리〉</td>\n",
       "      <td>충무아트센터 대극장</td>\n",
       "    </tr>\n",
       "    <tr>\n",
       "      <th>8</th>\n",
       "      <td>Interpark</td>\n",
       "      <td>9</td>\n",
       "      <td>뮤지컬 〈맘마미아!〉</td>\n",
       "      <td>충무아트센터 대극장</td>\n",
       "    </tr>\n",
       "    <tr>\n",
       "      <th>9</th>\n",
       "      <td>Interpark</td>\n",
       "      <td>10</td>\n",
       "      <td>뮤지컬 〈이프덴〉</td>\n",
       "      <td>홍익대 대학로 아트센터 대극장</td>\n",
       "    </tr>\n",
       "    <tr>\n",
       "      <th>10</th>\n",
       "      <td>Interpark</td>\n",
       "      <td>11</td>\n",
       "      <td>뮤지컬 〈종의 기원〉</td>\n",
       "      <td>드림아트센터 1관</td>\n",
       "    </tr>\n",
       "    <tr>\n",
       "      <th>11</th>\n",
       "      <td>Interpark</td>\n",
       "      <td>12</td>\n",
       "      <td>와일드 와일드 〈드림〉</td>\n",
       "      <td>와일드 와일드 전용관 (명보아트홀)</td>\n",
       "    </tr>\n",
       "    <tr>\n",
       "      <th>12</th>\n",
       "      <td>Interpark</td>\n",
       "      <td>13</td>\n",
       "      <td>뮤지컬 〈캣츠〉 오리지널 내한 - 대구 (Musical CATS)</td>\n",
       "      <td>계명아트센터</td>\n",
       "    </tr>\n",
       "    <tr>\n",
       "      <th>13</th>\n",
       "      <td>Interpark</td>\n",
       "      <td>14</td>\n",
       "      <td>뮤지컬 〈웨이스티드〉 : 연극열전9_네 번째 작품</td>\n",
       "      <td>대학로 아트원씨어터 2관</td>\n",
       "    </tr>\n",
       "    <tr>\n",
       "      <th>14</th>\n",
       "      <td>Interpark</td>\n",
       "      <td>15</td>\n",
       "      <td>뮤지컬 〈루드윅 : 베토벤 더 피아노〉</td>\n",
       "      <td>예스24스테이지 1관</td>\n",
       "    </tr>\n",
       "    <tr>\n",
       "      <th>15</th>\n",
       "      <td>Interpark</td>\n",
       "      <td>16</td>\n",
       "      <td>뮤지컬 〈빨래〉</td>\n",
       "      <td>대학로 유니플렉스 2관</td>\n",
       "    </tr>\n",
       "    <tr>\n",
       "      <th>16</th>\n",
       "      <td>Interpark</td>\n",
       "      <td>17</td>\n",
       "      <td>뮤지컬 〈로빈〉</td>\n",
       "      <td>대학로 TOM(티오엠) 1관</td>\n",
       "    </tr>\n",
       "    <tr>\n",
       "      <th>17</th>\n",
       "      <td>Interpark</td>\n",
       "      <td>18</td>\n",
       "      <td>뮤지컬 〈푸른 잿빛 밤〉</td>\n",
       "      <td>드림아트센터 2관</td>\n",
       "    </tr>\n",
       "    <tr>\n",
       "      <th>18</th>\n",
       "      <td>Interpark</td>\n",
       "      <td>19</td>\n",
       "      <td>뮤지컬 〈오페라의 유령〉 - 부산</td>\n",
       "      <td>부산 드림씨어터</td>\n",
       "    </tr>\n",
       "    <tr>\n",
       "      <th>19</th>\n",
       "      <td>Interpark</td>\n",
       "      <td>20</td>\n",
       "      <td>뮤지컬 〈데미안〉</td>\n",
       "      <td>드림아트센터 3관</td>\n",
       "    </tr>\n",
       "    <tr>\n",
       "      <th>20</th>\n",
       "      <td>Interpark</td>\n",
       "      <td>21</td>\n",
       "      <td>식스 더 뮤지컬 최초 한국 공연 - 내한</td>\n",
       "      <td>coex 신한카드 artium</td>\n",
       "    </tr>\n",
       "    <tr>\n",
       "      <th>21</th>\n",
       "      <td>Interpark</td>\n",
       "      <td>22</td>\n",
       "      <td>뮤지컬 〈미드나잇 : 앤틀러스〉</td>\n",
       "      <td>플러스씨어터</td>\n",
       "    </tr>\n",
       "    <tr>\n",
       "      <th>22</th>\n",
       "      <td>Interpark</td>\n",
       "      <td>23</td>\n",
       "      <td>뮤지컬 〈청춘소음〉</td>\n",
       "      <td>동덕여대 공연예술센터 코튼홀</td>\n",
       "    </tr>\n",
       "    <tr>\n",
       "      <th>23</th>\n",
       "      <td>Interpark</td>\n",
       "      <td>24</td>\n",
       "      <td>뮤지컬 〈결투〉</td>\n",
       "      <td>드림아트센터 2관</td>\n",
       "    </tr>\n",
       "    <tr>\n",
       "      <th>24</th>\n",
       "      <td>Interpark</td>\n",
       "      <td>25</td>\n",
       "      <td>뮤지컬 〈브로드웨이 42번가〉 - 대구</td>\n",
       "      <td>계명아트센터</td>\n",
       "    </tr>\n",
       "    <tr>\n",
       "      <th>25</th>\n",
       "      <td>Interpark</td>\n",
       "      <td>26</td>\n",
       "      <td>뮤지컬 〈호프 : 읽히지 않은 책과 읽히지 않은 인생〉</td>\n",
       "      <td>대학로 유니플렉스 1관</td>\n",
       "    </tr>\n",
       "    <tr>\n",
       "      <th>26</th>\n",
       "      <td>Interpark</td>\n",
       "      <td>27</td>\n",
       "      <td>뮤지컬 〈지저스 크라이스트 수퍼스타〉 50주년 기념 한국 공연 - 익산</td>\n",
       "      <td>익산예술의전당 대공연장</td>\n",
       "    </tr>\n",
       "    <tr>\n",
       "      <th>27</th>\n",
       "      <td>Interpark</td>\n",
       "      <td>28</td>\n",
       "      <td>뮤지컬 〈지저스 크라이스트 수퍼스타〉 50주년 기념 한국 공연</td>\n",
       "      <td>광림아트센터 BBCH홀</td>\n",
       "    </tr>\n",
       "    <tr>\n",
       "      <th>28</th>\n",
       "      <td>Interpark</td>\n",
       "      <td>29</td>\n",
       "      <td>뮤지컬 〈다이스〉</td>\n",
       "      <td>CJ아지트 대학로</td>\n",
       "    </tr>\n",
       "    <tr>\n",
       "      <th>29</th>\n",
       "      <td>Interpark</td>\n",
       "      <td>30</td>\n",
       "      <td>뮤지컬 〈브로드웨이 42번가〉</td>\n",
       "      <td>예술의전당 CJ 토월극장</td>\n",
       "    </tr>\n",
       "    <tr>\n",
       "      <th>30</th>\n",
       "      <td>Interpark</td>\n",
       "      <td>31</td>\n",
       "      <td>뮤지컬 〈지저스 크라이스트 수퍼스타〉 50주년 기념 한국 공연 - 부산</td>\n",
       "      <td>부산 드림씨어터</td>\n",
       "    </tr>\n",
       "    <tr>\n",
       "      <th>31</th>\n",
       "      <td>Interpark</td>\n",
       "      <td>32</td>\n",
       "      <td>뮤지컬 〈브로드웨이 42번가〉 - 여수</td>\n",
       "      <td>GS칼텍스 예울마루 대극장</td>\n",
       "    </tr>\n",
       "    <tr>\n",
       "      <th>32</th>\n",
       "      <td>Interpark</td>\n",
       "      <td>33</td>\n",
       "      <td>뮤지컬 〈브로드웨이 42번가〉 - 창원</td>\n",
       "      <td>창원 성산아트홀 대극장</td>\n",
       "    </tr>\n",
       "    <tr>\n",
       "      <th>33</th>\n",
       "      <td>Interpark</td>\n",
       "      <td>34</td>\n",
       "      <td>뮤지컬 〈캣츠〉 오리지널 내한－부산（Musical CATS）</td>\n",
       "      <td>부산 드림씨어터</td>\n",
       "    </tr>\n",
       "    <tr>\n",
       "      <th>34</th>\n",
       "      <td>Interpark</td>\n",
       "      <td>35</td>\n",
       "      <td>뮤지컬 〈일라이〉</td>\n",
       "      <td>링크아트센터 페이코홀</td>\n",
       "    </tr>\n",
       "    <tr>\n",
       "      <th>35</th>\n",
       "      <td>Interpark</td>\n",
       "      <td>36</td>\n",
       "      <td>소크라테스 패러독스</td>\n",
       "      <td>서경대학교 공연예술센터 스콘1관</td>\n",
       "    </tr>\n",
       "    <tr>\n",
       "      <th>36</th>\n",
       "      <td>Interpark</td>\n",
       "      <td>37</td>\n",
       "      <td>뮤지컬 〈드라큘라〉 - 대구</td>\n",
       "      <td>계명아트센터</td>\n",
       "    </tr>\n",
       "    <tr>\n",
       "      <th>37</th>\n",
       "      <td>Interpark</td>\n",
       "      <td>38</td>\n",
       "      <td>뮤지컬 〈빨래〉</td>\n",
       "      <td>대학로 유니플렉스 2관</td>\n",
       "    </tr>\n",
       "    <tr>\n",
       "      <th>38</th>\n",
       "      <td>Interpark</td>\n",
       "      <td>39</td>\n",
       "      <td>뮤지컬 〈여신님이 보고 계셔〉 토크콘서트 - 10주년 기념 잔치</td>\n",
       "      <td>대학로 유니플렉스 1관</td>\n",
       "    </tr>\n",
       "    <tr>\n",
       "      <th>39</th>\n",
       "      <td>Interpark</td>\n",
       "      <td>40</td>\n",
       "      <td>뮤지컬 〈보이체크 인 더 다크〉</td>\n",
       "      <td>링크아트센터 벅스홀</td>\n",
       "    </tr>\n",
       "    <tr>\n",
       "      <th>40</th>\n",
       "      <td>Interpark</td>\n",
       "      <td>41</td>\n",
       "      <td>뮤지컬 〈용의자X의 헌신〉</td>\n",
       "      <td>한전아트센터</td>\n",
       "    </tr>\n",
       "    <tr>\n",
       "      <th>41</th>\n",
       "      <td>Interpark</td>\n",
       "      <td>42</td>\n",
       "      <td>이은결［더 일루션 - 마스터피스］- 인천</td>\n",
       "      <td>인천문화예술회관 대공연장</td>\n",
       "    </tr>\n",
       "    <tr>\n",
       "      <th>42</th>\n",
       "      <td>Interpark</td>\n",
       "      <td>43</td>\n",
       "      <td>뮤지컬 〈김종욱 찾기〉</td>\n",
       "      <td>브릭스씨어터</td>\n",
       "    </tr>\n",
       "    <tr>\n",
       "      <th>43</th>\n",
       "      <td>Interpark</td>\n",
       "      <td>44</td>\n",
       "      <td>뮤지컬 〈브로드웨이 42번가〉 - 부산</td>\n",
       "      <td>부산문화회관 대극장</td>\n",
       "    </tr>\n",
       "    <tr>\n",
       "      <th>44</th>\n",
       "      <td>Interpark</td>\n",
       "      <td>45</td>\n",
       "      <td>뮤지컬 〈드라큘라〉</td>\n",
       "      <td>올림픽공원 우리금융아트홀</td>\n",
       "    </tr>\n",
       "    <tr>\n",
       "      <th>45</th>\n",
       "      <td>Interpark</td>\n",
       "      <td>46</td>\n",
       "      <td>뮤지컬 〈지저스 크라이스트 수퍼스타〉 50주년 기념 한국 공연 - 수원</td>\n",
       "      <td>경기아트센터 대극장</td>\n",
       "    </tr>\n",
       "    <tr>\n",
       "      <th>46</th>\n",
       "      <td>Interpark</td>\n",
       "      <td>47</td>\n",
       "      <td>뮤지컬 〈브로드웨이 42번가〉 - 진주</td>\n",
       "      <td>경남문화예술회관 대공연장</td>\n",
       "    </tr>\n",
       "    <tr>\n",
       "      <th>47</th>\n",
       "      <td>Interpark</td>\n",
       "      <td>48</td>\n",
       "      <td>뮤지컬 〈윌리엄과 윌리엄의 윌리엄들〉</td>\n",
       "      <td>대학로 아트원씨어터 2관</td>\n",
       "    </tr>\n",
       "    <tr>\n",
       "      <th>48</th>\n",
       "      <td>Interpark</td>\n",
       "      <td>49</td>\n",
       "      <td>뮤지컬 〈지저스 크라이스트 수퍼스타〉 50주년 기념 한국 공연 - 성남</td>\n",
       "      <td>성남아트센터 오페라하우스</td>\n",
       "    </tr>\n",
       "    <tr>\n",
       "      <th>49</th>\n",
       "      <td>Interpark</td>\n",
       "      <td>50</td>\n",
       "      <td>뮤지컬 〈브로드웨이 42번가〉 - 천안</td>\n",
       "      <td>천안예술의전당 대공연장</td>\n",
       "    </tr>\n",
       "  </tbody>\n",
       "</table>\n",
       "</div>"
      ],
      "text/plain": [
       "        서비스업체  순위                                              제목  \\\n",
       "0   Interpark   1  뮤지컬 〈물랑루즈!〉 아시아 초연 (Moulin Rouge! The Musical)   \n",
       "1   Interpark   2                     뮤지컬 〈베토벤; Beethoven Secret〉   \n",
       "2   Interpark   3                                        뮤지컬 ＇영웅＇   \n",
       "3   Interpark   4               뮤지컬 〈여신님이 보고 계셔〉 10th Anniversary   \n",
       "4   Interpark   5                                       뮤지컬 〈마틸다〉   \n",
       "5   Interpark   6                                     뮤지컬 〈스위니토드〉   \n",
       "6   Interpark   7               뮤지컬 〈캣츠〉 오리지널 내한－서울（Musical CATS）   \n",
       "7   Interpark   8                               뮤지컬 〈웨스트 사이드 스토리〉   \n",
       "8   Interpark   9                                     뮤지컬 〈맘마미아!〉   \n",
       "9   Interpark  10                                       뮤지컬 〈이프덴〉   \n",
       "10  Interpark  11                                     뮤지컬 〈종의 기원〉   \n",
       "11  Interpark  12                                    와일드 와일드 〈드림〉   \n",
       "12  Interpark  13            뮤지컬 〈캣츠〉 오리지널 내한 - 대구 (Musical CATS)   \n",
       "13  Interpark  14                     뮤지컬 〈웨이스티드〉 : 연극열전9_네 번째 작품   \n",
       "14  Interpark  15                           뮤지컬 〈루드윅 : 베토벤 더 피아노〉   \n",
       "15  Interpark  16                                        뮤지컬 〈빨래〉   \n",
       "16  Interpark  17                                        뮤지컬 〈로빈〉   \n",
       "17  Interpark  18                                   뮤지컬 〈푸른 잿빛 밤〉   \n",
       "18  Interpark  19                              뮤지컬 〈오페라의 유령〉 - 부산   \n",
       "19  Interpark  20                                       뮤지컬 〈데미안〉   \n",
       "20  Interpark  21                          식스 더 뮤지컬 최초 한국 공연 - 내한   \n",
       "21  Interpark  22                               뮤지컬 〈미드나잇 : 앤틀러스〉   \n",
       "22  Interpark  23                                      뮤지컬 〈청춘소음〉   \n",
       "23  Interpark  24                                        뮤지컬 〈결투〉   \n",
       "24  Interpark  25                           뮤지컬 〈브로드웨이 42번가〉 - 대구   \n",
       "25  Interpark  26                  뮤지컬 〈호프 : 읽히지 않은 책과 읽히지 않은 인생〉   \n",
       "26  Interpark  27         뮤지컬 〈지저스 크라이스트 수퍼스타〉 50주년 기념 한국 공연 - 익산   \n",
       "27  Interpark  28              뮤지컬 〈지저스 크라이스트 수퍼스타〉 50주년 기념 한국 공연   \n",
       "28  Interpark  29                                       뮤지컬 〈다이스〉   \n",
       "29  Interpark  30                                뮤지컬 〈브로드웨이 42번가〉   \n",
       "30  Interpark  31         뮤지컬 〈지저스 크라이스트 수퍼스타〉 50주년 기념 한국 공연 - 부산   \n",
       "31  Interpark  32                           뮤지컬 〈브로드웨이 42번가〉 - 여수   \n",
       "32  Interpark  33                           뮤지컬 〈브로드웨이 42번가〉 - 창원   \n",
       "33  Interpark  34               뮤지컬 〈캣츠〉 오리지널 내한－부산（Musical CATS）   \n",
       "34  Interpark  35                                       뮤지컬 〈일라이〉   \n",
       "35  Interpark  36                                      소크라테스 패러독스   \n",
       "36  Interpark  37                                 뮤지컬 〈드라큘라〉 - 대구   \n",
       "37  Interpark  38                                        뮤지컬 〈빨래〉   \n",
       "38  Interpark  39             뮤지컬 〈여신님이 보고 계셔〉 토크콘서트 - 10주년 기념 잔치   \n",
       "39  Interpark  40                               뮤지컬 〈보이체크 인 더 다크〉   \n",
       "40  Interpark  41                                  뮤지컬 〈용의자X의 헌신〉   \n",
       "41  Interpark  42                          이은결［더 일루션 - 마스터피스］- 인천   \n",
       "42  Interpark  43                                    뮤지컬 〈김종욱 찾기〉   \n",
       "43  Interpark  44                           뮤지컬 〈브로드웨이 42번가〉 - 부산   \n",
       "44  Interpark  45                                      뮤지컬 〈드라큘라〉   \n",
       "45  Interpark  46         뮤지컬 〈지저스 크라이스트 수퍼스타〉 50주년 기념 한국 공연 - 수원   \n",
       "46  Interpark  47                           뮤지컬 〈브로드웨이 42번가〉 - 진주   \n",
       "47  Interpark  48                            뮤지컬 〈윌리엄과 윌리엄의 윌리엄들〉   \n",
       "48  Interpark  49         뮤지컬 〈지저스 크라이스트 수퍼스타〉 50주년 기념 한국 공연 - 성남   \n",
       "49  Interpark  50                           뮤지컬 〈브로드웨이 42번가〉 - 천안   \n",
       "\n",
       "                          장소  \n",
       "0                블루스퀘어 신한카드홀  \n",
       "1                예술의전당 오페라극장  \n",
       "2   LG아트센터 서울 LG SIGNATURE 홀  \n",
       "3               대학로 유니플렉스 1관  \n",
       "4                 대성 디큐브아트센터  \n",
       "5                     샤롯데씨어터  \n",
       "6                 세종문화회관 대극장  \n",
       "7                 충무아트센터 대극장  \n",
       "8                 충무아트센터 대극장  \n",
       "9           홍익대 대학로 아트센터 대극장  \n",
       "10                 드림아트센터 1관  \n",
       "11       와일드 와일드 전용관 (명보아트홀)  \n",
       "12                    계명아트센터  \n",
       "13             대학로 아트원씨어터 2관  \n",
       "14               예스24스테이지 1관  \n",
       "15              대학로 유니플렉스 2관  \n",
       "16           대학로 TOM(티오엠) 1관  \n",
       "17                 드림아트센터 2관  \n",
       "18                  부산 드림씨어터  \n",
       "19                 드림아트센터 3관  \n",
       "20          coex 신한카드 artium  \n",
       "21                    플러스씨어터  \n",
       "22           동덕여대 공연예술센터 코튼홀  \n",
       "23                 드림아트센터 2관  \n",
       "24                    계명아트센터  \n",
       "25              대학로 유니플렉스 1관  \n",
       "26              익산예술의전당 대공연장  \n",
       "27              광림아트센터 BBCH홀  \n",
       "28                 CJ아지트 대학로  \n",
       "29             예술의전당 CJ 토월극장  \n",
       "30                  부산 드림씨어터  \n",
       "31            GS칼텍스 예울마루 대극장  \n",
       "32              창원 성산아트홀 대극장  \n",
       "33                  부산 드림씨어터  \n",
       "34               링크아트센터 페이코홀  \n",
       "35         서경대학교 공연예술센터 스콘1관  \n",
       "36                    계명아트센터  \n",
       "37              대학로 유니플렉스 2관  \n",
       "38              대학로 유니플렉스 1관  \n",
       "39                링크아트센터 벅스홀  \n",
       "40                    한전아트센터  \n",
       "41             인천문화예술회관 대공연장  \n",
       "42                    브릭스씨어터  \n",
       "43                부산문화회관 대극장  \n",
       "44             올림픽공원 우리금융아트홀  \n",
       "45                경기아트센터 대극장  \n",
       "46             경남문화예술회관 대공연장  \n",
       "47             대학로 아트원씨어터 2관  \n",
       "48             성남아트센터 오페라하우스  \n",
       "49              천안예술의전당 대공연장  "
      ]
     },
     "execution_count": 5,
     "metadata": {},
     "output_type": "execute_result"
    }
   ],
   "source": [
    "import pandas as pd\n",
    "\n",
    "df=pd.DataFrame(musical_data, columns=['서비스업체', '순위', '제목', '장소'])\n",
    "df"
   ]
  },
  {
   "cell_type": "code",
   "execution_count": 7,
   "id": "c23ea60a",
   "metadata": {},
   "outputs": [],
   "source": [
    "df.to_excel('./musical_rank(2023).xlsx', index=False)"
   ]
  },
  {
   "cell_type": "code",
   "execution_count": 23,
   "id": "9348d160",
   "metadata": {},
   "outputs": [
    {
     "name": "stderr",
     "output_type": "stream",
     "text": [
      "C:\\Users\\SBAUser\\AppData\\Local\\Temp\\ipykernel_6960\\1718180283.py:5: DeprecationWarning: executable_path has been deprecated, please pass in a Service object\n",
      "  driver = webdriver.Chrome('./chromedriver.exe')\n"
     ]
    }
   ],
   "source": [
    "from selenium import webdriver\n",
    "from bs4 import BeautifulSoup\n",
    "import pandas as pd\n",
    "\n",
    "driver = webdriver.Chrome('./chromedriver.exe')\n",
    "\n",
    "url = 'http://ticket.interpark.com/contents/Ranking/RankList?pKind=P&pCate=&pType=Y&pDate=20221220'\n",
    "driver.get(url)\n",
    "\n",
    "html = driver.page_source\n",
    "soup = BeautifulSoup(html, 'html.parser')\n",
    "\n",
    "show = soup.select('div.prdInfo')\n",
    "#musical=musicals[0]\n",
    "\n",
    "show_data = []\n",
    "Rank = 1\n",
    "\n",
    "for per in show:\n",
    "    title = per.select('a')[0].text.strip().replace('  ','').replace('\\n\\t',',').split(',')[0]\n",
    "    loc = per.select('a')[0].text.strip().replace('  ','').replace('\\n\\t',',').split(',')[1]\n",
    "    \n",
    "    my_list = ['Interpark',Rank, title, loc]\n",
    "    show_data.append(my_list)\n",
    "    Rank += 1"
   ]
  },
  {
   "cell_type": "code",
   "execution_count": 24,
   "id": "3379325c",
   "metadata": {},
   "outputs": [
    {
     "data": {
      "text/plain": [
       "[['Interpark', 1, '태양의서커스〈뉴 알레그리아〉', '잠실종합운동장 내 빅탑'],\n",
       " ['Interpark', 2, '싸이 흠뻑쇼 SUMMER SWAG 2022 - 서울', '잠실종합운동장 올림픽주경기장'],\n",
       " ['Interpark', 3, '뮤지컬 〈킹키부츠〉', '충무아트센터 대극장'],\n",
       " ['Interpark', 4, '뮤지컬 〈엘리자벳〉 10주년 기념공연', '블루스퀘어 신한카드홀'],\n",
       " ['Interpark', 5, '뮤지컬 〈아이다〉', '블루스퀘어 신한카드홀'],\n",
       " ['Interpark', 6, '뮤지컬 〈마틸다〉', '대성 디큐브아트센터'],\n",
       " ['Interpark', 7, '뮤지컬 〈웃는 남자〉', '세종문화회관 대극장'],\n",
       " ['Interpark', 8, '싸이 흠뻑쇼 SUMMER SWAG 2022 - 대구', '대구스타디움 주경기장'],\n",
       " ['Interpark', 9, '뮤지컬 데스노트 (The Musical Death Note)', '충무아트센터 대극장'],\n",
       " ['Interpark', 10, '뮤지컬 데스노트 (The Musical Death Note)', '예술의전당 오페라극장'],\n",
       " ['Interpark', 11, '연극 〈쉬어매드니스〉 - 서울 대학로', '콘텐츠박스(KONTENTZ BOX)'],\n",
       " ['Interpark', 12, '뮤지컬 지킬앤하이드 (Jekyll＆Hyde)', '샤롯데씨어터'],\n",
       " ['Interpark', 13, '뮤지컬 〈사의찬미〉', '대학로 TOM(티오엠) 1관'],\n",
       " ['Interpark', 14, '뮤지컬 〈미세스 다웃파이어〉', '샤롯데씨어터'],\n",
       " ['Interpark',\n",
       "  15,\n",
       "  '뮤지컬 〈물랑루즈!〉 아시아 초연 (Moulin Rouge! The Musical)',\n",
       "  '블루스퀘어 신한카드홀'],\n",
       " ['Interpark',\n",
       "  16,\n",
       "  '뮤지컬 라이온 킹 인터내셔널 투어 - 서울 (Musical The Lion King)',\n",
       "  '예술의전당 오페라극장'],\n",
       " ['Interpark', 17, 'BTS PERMISSION TO DANCE ON STAGE - SEOUL', '잠실종합운동장 주경기장'],\n",
       " ['Interpark', 18, '뮤지컬 〈마타하리〉', '샤롯데씨어터'],\n",
       " ['Interpark', 19, '뮤지컬 〈여신님이 보고 계셔〉 10th Anniversary', '대학로 유니플렉스 1관'],\n",
       " ['Interpark',\n",
       "  20,\n",
       "  '2030 부산세계박람회 유치 기원 콘서트 BTS 〈Yet To Come〉 in BUSAN',\n",
       "  '부산 아시아드 주경기장'],\n",
       " ['Interpark', 21, '뮤지컬 〈지저스 크라이스트 수퍼스타〉 50주년 기념 한국 공연', '광림아트센터 BBCH홀'],\n",
       " ['Interpark', 22, '뮤지컬 〈브로드웨이 42번가〉', '예술의전당 CJ 토월극장'],\n",
       " ['Interpark', 23, '뮤지컬 〈빨래〉', '대학로 유니플렉스 2관'],\n",
       " ['Interpark', 24, 'SEVENTEEN WORLD TOUR ［BE THE SUN］- SEOUL', '고척스카이돔'],\n",
       " ['Interpark', 25, '싸이 올나잇스탠드 2022 〈막차와 첫차 싸이〉', 'KSPO DOME'],\n",
       " ['Interpark', 26, '뮤지컬 〈베토벤; Beethoven Secret〉', '예술의전당 오페라극장'],\n",
       " ['Interpark', 27, '뮤지컬 〈프랑켄슈타인〉', '블루스퀘어 신한카드홀'],\n",
       " ['Interpark', 28, '뮤지컬 〈서편제〉', '광림아트센터 BBCH홀'],\n",
       " ['Interpark', 29, '뮤지컬 〈웨스트 사이드 스토리〉', '충무아트센터 대극장'],\n",
       " ['Interpark', 30, '2022 성시경의 축가 콘서트', '잠실종합운동장 보조경기장'],\n",
       " ['Interpark', 31, '베어 더 뮤지컬(bare the musical)', '두산아트센터 연강홀'],\n",
       " ['Interpark', 32, '2022 성시경 연말 콘서트', '잠실실내체육관'],\n",
       " ['Interpark', 33, '싸이 흠뻑쇼 SUMMER SWAG 2022 - 인천', '인천아시아드 주경기장'],\n",
       " ['Interpark', 34, '2022 god ［ON］', 'KSPO DOME (올림픽체조경기장)'],\n",
       " ['Interpark', 35, '싸이 흠뻑쇼 SUMMER SWAG 2022 - 여수', '여수 진남 종합운동장'],\n",
       " ['Interpark', 36, '뮤지컬 〈웨스턴 스토리〉', '대학로 유니플렉스 1관'],\n",
       " ['Interpark', 37, '싸이 흠뻑쇼 SUMMER SWAG 2022 - 강릉', '강릉종합운동장'],\n",
       " ['Interpark', 38, '뮤지컬 〈팬레터〉', 'coex 신한카드 artium'],\n",
       " ['Interpark', 39, '싸이 흠뻑쇼 SUMMER SWAG 2022 - 부산', '부산 아시아드 보조경기장'],\n",
       " ['Interpark', 40, '뮤지컬 〈배니싱〉', '대학로 아트원씨어터 1관'],\n",
       " ['Interpark', 41, '뮤지컬 ＇영웅＇', 'LG아트센터 서울 LG SIGNATURE 홀'],\n",
       " ['Interpark', 42, '싸이 흠뻑쇼 SUMMER SWAG 2022 - 수원', '수원 월드컵경기장 보조경기장'],\n",
       " ['Interpark',\n",
       "  43,\n",
       "  '2022 KIM HO JOONG CONCERT TOUR ［ARISTRA］',\n",
       "  'KSPO DOME(올림픽 체조경기장)'],\n",
       " ['Interpark', 44, '뮤지컬 〈스위니토드〉', '샤롯데씨어터'],\n",
       " ['Interpark', 45, '연극 〈더 헬멧〉', '홍익대 대학로 아트센터 소극장'],\n",
       " ['Interpark', 46, '연극 옥탑방고양이 - 틴틴홀', '대학로 틴틴홀'],\n",
       " ['Interpark', 47, '코믹감동 휴먼판타지 연극 〈2호선 세입자〉', '대학로 바탕골 소극장'],\n",
       " ['Interpark', 48, '제14회 서울재즈페스티벌 2022', '올림픽공원 내 88잔디마당'],\n",
       " ['Interpark',\n",
       "  49,\n",
       "  'BTOB 10TH ANNIVERSARY CONCERT 2022 BTOB TIME ［Be Together］',\n",
       "  'KSPO DOME'],\n",
       " ['Interpark', 50, '뮤지컬 〈미오 프라텔로〉', '드림아트센터 1관']]"
      ]
     },
     "execution_count": 24,
     "metadata": {},
     "output_type": "execute_result"
    }
   ],
   "source": [
    "show_data"
   ]
  },
  {
   "cell_type": "code",
   "execution_count": 25,
   "id": "03953042",
   "metadata": {},
   "outputs": [],
   "source": [
    "import pandas as pd\n",
    "\n",
    "df=pd.DataFrame(show_data, columns=['서비스업체', '순위', '제목', '장소'])\n"
   ]
  },
  {
   "cell_type": "code",
   "execution_count": 26,
   "id": "28972b00",
   "metadata": {},
   "outputs": [],
   "source": [
    "df.to_excel('./show_rank.xlsx', index=False)"
   ]
  },
  {
   "cell_type": "code",
   "execution_count": null,
   "id": "a5ed9ac7",
   "metadata": {},
   "outputs": [],
   "source": []
  }
 ],
 "metadata": {
  "kernelspec": {
   "display_name": "Python 3 (ipykernel)",
   "language": "python",
   "name": "python3"
  },
  "language_info": {
   "codemirror_mode": {
    "name": "ipython",
    "version": 3
   },
   "file_extension": ".py",
   "mimetype": "text/x-python",
   "name": "python",
   "nbconvert_exporter": "python",
   "pygments_lexer": "ipython3",
   "version": "3.9.13"
  },
  "vscode": {
   "interpreter": {
    "hash": "f7ab967e1a4117bef1a5a2855afb9e2ce1afd53ca40d0e6689981301cfd39ae0"
   }
  }
 },
 "nbformat": 4,
 "nbformat_minor": 5
}
