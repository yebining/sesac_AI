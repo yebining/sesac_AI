{
 "cells": [
  {
   "cell_type": "markdown",
   "metadata": {},
   "source": [
    "# 뮤지컬 인기도와 공연장 밀집도의 상관 관계 \n",
    "새싹 인공지능 서비스 개발자 강동 1기_김예빈\n",
    "\n",
    "#### 뮤지컬 예매 랭킹과 그 공연에 따른 구 별 공연장의 개수를 분석하여 뮤지컬 인기도와 공연장 밀집도의 상관 관계를 알아보자!\n",
    "\n",
    "\n",
    "\n",
    "- 국내 최대 공연 예매 사이트 인터파크의 2022년 연간 뮤지컬 순위를 크롤링한다.(뮤지컬 순위, 제목, 장소)\n",
    "- 크롤링한 데이터 csv파일을 musical_rank라는 이름으로 가져온다.\n",
    "- musical_rank 데이터를 정제해준다.\n",
    " - 가장 많은 뮤지컬이 공연 된 공연장 찾아보기\n",
    "- 구글맵과 folium을 통해 공연장의 위치를 시각화한다.\n",
    "- musical_rank 데이터에 정확한 주소 컬럼을 추가해준다. (API 활용) \n",
    " - 가장 많은 공연장이 있는 구 찾아보기 \n",
    "- 데이터를 시각화한다.\n",
    "- 상관 관계를 분석한다.\n",
    "- 시사점을 알아본다.\n"
   ]
  },
  {
   "cell_type": "markdown",
   "metadata": {},
   "source": [
    "## 크롤링"
   ]
  },
  {
   "cell_type": "code",
   "execution_count": 60,
   "metadata": {},
   "outputs": [
    {
     "name": "stderr",
     "output_type": "stream",
     "text": [
      "C:\\Users\\SBAUser\\AppData\\Local\\Temp\\ipykernel_17000\\174982983.py:5: DeprecationWarning: executable_path has been deprecated, please pass in a Service object\n",
      "  driver = webdriver.Chrome('./chromedriver.exe')\n"
     ]
    }
   ],
   "source": [
    "from selenium import webdriver\n",
    "from bs4 import BeautifulSoup\n",
    "import pandas as pd\n",
    "\n",
    "driver = webdriver.Chrome('./chromedriver.exe')\n",
    "\n",
    "url = 'http://ticket.interpark.com/contents/Ranking/RankList?pKind=01011&pCate=01011&pType=Y&pDate=20220101'\n",
    "driver.get(url)\n",
    "\n",
    "html = driver.page_source\n",
    "soup = BeautifulSoup(html, 'html.parser')\n",
    "\n",
    "musicals = soup.select('div.prdInfo')\n",
    "#musical=musicals[0]\n",
    "\n",
    "musical_data = []\n",
    "Rank = 1\n",
    "\n",
    "for musical in musicals:\n",
    "    title = musical.select('a')[0].text.strip().replace('  ','').replace('\\n\\t',',').split(',')[0]\n",
    "    loc = musical.select('a')[0].text.strip().replace('  ','').replace('\\n\\t',',').split(',')[1]\n",
    "    #뮤지컬의 제목과 장소가 한 문자열로 나와서 split을 통해 나눠주었다.  \n",
    "    \n",
    "    my_list = ['Interpark',Rank, title, loc]\n",
    "    musical_data.append(my_list)\n",
    "    Rank += 1"
   ]
  },
  {
   "cell_type": "code",
   "execution_count": 61,
   "metadata": {},
   "outputs": [
    {
     "data": {
      "text/plain": [
       "[['Interpark', 1, '태양의서커스〈뉴 알레그리아〉', '잠실종합운동장 내 빅탑'],\n",
       " ['Interpark', 2, '뮤지컬 〈킹키부츠〉', '충무아트센터 대극장'],\n",
       " ['Interpark', 3, '뮤지컬 〈엘리자벳〉 10주년 기념공연', '블루스퀘어 신한카드홀'],\n",
       " ['Interpark', 4, '뮤지컬 〈아이다〉', '블루스퀘어 신한카드홀'],\n",
       " ['Interpark', 5, '뮤지컬 〈마틸다〉', '대성 디큐브아트센터'],\n",
       " ['Interpark', 6, '뮤지컬 〈웃는 남자〉', '세종문화회관 대극장'],\n",
       " ['Interpark',\n",
       "  7,\n",
       "  '뮤지컬 〈물랑루즈!〉 아시아 초연 (Moulin Rouge! The Musical)',\n",
       "  '블루스퀘어 신한카드홀'],\n",
       " ['Interpark', 8, '뮤지컬 데스노트 (The Musical Death Note)', '충무아트센터 대극장'],\n",
       " ['Interpark', 9, '뮤지컬 데스노트 (The Musical Death Note)', '예술의전당 오페라극장'],\n",
       " ['Interpark', 10, '뮤지컬 지킬앤하이드 (Jekyll＆Hyde)', '샤롯데씨어터'],\n",
       " ['Interpark', 11, '뮤지컬 〈사의찬미〉', '대학로 TOM(티오엠) 1관'],\n",
       " ['Interpark', 12, '뮤지컬 〈미세스 다웃파이어〉', '샤롯데씨어터'],\n",
       " ['Interpark',\n",
       "  13,\n",
       "  '뮤지컬 라이온 킹 인터내셔널 투어 - 서울 (Musical The Lion King)',\n",
       "  '예술의전당 오페라극장'],\n",
       " ['Interpark', 14, '뮤지컬 〈여신님이 보고 계셔〉 10th Anniversary', '대학로 유니플렉스 1관'],\n",
       " ['Interpark', 15, '뮤지컬 〈마타하리〉', '샤롯데씨어터'],\n",
       " ['Interpark', 16, '뮤지컬 〈브로드웨이 42번가〉', '예술의전당 CJ 토월극장'],\n",
       " ['Interpark', 17, '뮤지컬 〈지저스 크라이스트 수퍼스타〉 50주년 기념 한국 공연', '광림아트센터 BBCH홀'],\n",
       " ['Interpark', 18, '뮤지컬 〈빨래〉', '대학로 유니플렉스 2관'],\n",
       " ['Interpark', 19, '뮤지컬 〈베토벤; Beethoven Secret〉', '예술의전당 오페라극장'],\n",
       " ['Interpark', 20, '뮤지컬 ＇영웅＇', 'LG아트센터 서울 LG SIGNATURE 홀'],\n",
       " ['Interpark', 21, '뮤지컬 〈웨스트 사이드 스토리〉', '충무아트센터 대극장'],\n",
       " ['Interpark', 22, '뮤지컬 〈프랑켄슈타인〉', '블루스퀘어 신한카드홀'],\n",
       " ['Interpark', 23, '뮤지컬 〈서편제〉', '광림아트센터 BBCH홀'],\n",
       " ['Interpark', 24, '베어 더 뮤지컬(bare the musical)', '두산아트센터 연강홀'],\n",
       " ['Interpark', 25, '뮤지컬 〈스위니토드〉', '샤롯데씨어터'],\n",
       " ['Interpark', 26, '뮤지컬 〈웨스턴 스토리〉', '대학로 유니플렉스 1관'],\n",
       " ['Interpark', 27, '뮤지컬 〈팬레터〉', 'coex 신한카드 artium'],\n",
       " ['Interpark', 28, '뮤지컬 〈배니싱〉', '대학로 아트원씨어터 1관'],\n",
       " ['Interpark', 29, '뮤지컬 〈캣츠〉 오리지널 내한－서울（Musical CATS）', '세종문화회관 대극장'],\n",
       " ['Interpark', 30, '뮤지컬 〈미오 프라텔로〉', '드림아트센터 1관'],\n",
       " ['Interpark', 31, '뮤지컬 〈빌리 엘리어트〉', '대성 디큐브아트센터'],\n",
       " ['Interpark', 32, '뮤지컬 〈니진스키〉', '대학로 아트원씨어터 1관'],\n",
       " ['Interpark', 33, '뮤지컬 〈빨래〉', '대학로 유니플렉스 2관'],\n",
       " ['Interpark', 34, '뮤지컬 〈사랑의 불시착〉', 'coex 신한카드 artium'],\n",
       " ['Interpark', 35, '육군 창작 뮤지컬 〈블루헬멧 : 메이사의 노래〉', '대성 디큐브아트센터'],\n",
       " ['Interpark', 36, '뮤지컬 〈브론테〉', '대학로 자유극장'],\n",
       " ['Interpark', 37, '블루맨그룹 월드투어', 'coex 신한카드 artium'],\n",
       " ['Interpark',\n",
       "  38,\n",
       "  '뮤지컬 라이온 킹 인터내셔널 투어 - 부산(Musical The Lion King)',\n",
       "  '부산 드림씨어터'],\n",
       " ['Interpark', 39, '뮤지컬 〈리지〉', '두산아트센터 연강홀'],\n",
       " ['Interpark', 40, '뮤지컬 〈랭보〉', '대학로 TOM(티오엠) 1관'],\n",
       " ['Interpark', 41, '뮤지컬 〈레베카〉', '충무아트센터 대극장'],\n",
       " ['Interpark', 42, '뮤지컬 〈디아길레프〉', '대학로 아트원씨어터 1관'],\n",
       " ['Interpark', 43, '뮤지컬〈하데스타운〉 최초 한국 공연 (MUSICAL HADESTOWN)', 'LG아트센터'],\n",
       " ['Interpark', 44, '뮤지컬 〈곤 투모로우〉', '홍익대 대학로 아트센터 대극장'],\n",
       " ['Interpark', 45, '뮤지컬 〈V 에버 애프터〉', '드림아트센터 1관'],\n",
       " ['Interpark', 46, '뮤지컬 〈미아 파밀리아〉', '예스24스테이지 2관'],\n",
       " ['Interpark', 47, '뮤지컬 킹아더 (Musical King Arthur)', '홍익대 대학로 아트센터 대극장'],\n",
       " ['Interpark', 48, '뮤지컬 〈노트르담 드 파리〉 프렌치 오리지널 내한공연 - 앙코르', '블루스퀘어 신한카드홀'],\n",
       " ['Interpark', 49, '와일드 와일드 〈드림〉', '와일드 와일드 전용관 (명보아트홀)'],\n",
       " ['Interpark', 50, '뮤지컬 〈이프덴〉', '홍익대 대학로 아트센터 대극장']]"
      ]
     },
     "execution_count": 61,
     "metadata": {},
     "output_type": "execute_result"
    }
   ],
   "source": [
    "musical_data"
   ]
  },
  {
   "cell_type": "code",
   "execution_count": 62,
   "metadata": {},
   "outputs": [
    {
     "data": {
      "text/html": [
       "<div>\n",
       "<style scoped>\n",
       "    .dataframe tbody tr th:only-of-type {\n",
       "        vertical-align: middle;\n",
       "    }\n",
       "\n",
       "    .dataframe tbody tr th {\n",
       "        vertical-align: top;\n",
       "    }\n",
       "\n",
       "    .dataframe thead th {\n",
       "        text-align: right;\n",
       "    }\n",
       "</style>\n",
       "<table border=\"1\" class=\"dataframe\">\n",
       "  <thead>\n",
       "    <tr style=\"text-align: right;\">\n",
       "      <th></th>\n",
       "      <th>서비스업체</th>\n",
       "      <th>순위</th>\n",
       "      <th>제목</th>\n",
       "      <th>장소</th>\n",
       "    </tr>\n",
       "  </thead>\n",
       "  <tbody>\n",
       "    <tr>\n",
       "      <th>0</th>\n",
       "      <td>Interpark</td>\n",
       "      <td>1</td>\n",
       "      <td>태양의서커스〈뉴 알레그리아〉</td>\n",
       "      <td>잠실종합운동장 내 빅탑</td>\n",
       "    </tr>\n",
       "    <tr>\n",
       "      <th>1</th>\n",
       "      <td>Interpark</td>\n",
       "      <td>2</td>\n",
       "      <td>뮤지컬 〈킹키부츠〉</td>\n",
       "      <td>충무아트센터 대극장</td>\n",
       "    </tr>\n",
       "    <tr>\n",
       "      <th>2</th>\n",
       "      <td>Interpark</td>\n",
       "      <td>3</td>\n",
       "      <td>뮤지컬 〈엘리자벳〉 10주년 기념공연</td>\n",
       "      <td>블루스퀘어 신한카드홀</td>\n",
       "    </tr>\n",
       "    <tr>\n",
       "      <th>3</th>\n",
       "      <td>Interpark</td>\n",
       "      <td>4</td>\n",
       "      <td>뮤지컬 〈아이다〉</td>\n",
       "      <td>블루스퀘어 신한카드홀</td>\n",
       "    </tr>\n",
       "    <tr>\n",
       "      <th>4</th>\n",
       "      <td>Interpark</td>\n",
       "      <td>5</td>\n",
       "      <td>뮤지컬 〈마틸다〉</td>\n",
       "      <td>대성 디큐브아트센터</td>\n",
       "    </tr>\n",
       "    <tr>\n",
       "      <th>5</th>\n",
       "      <td>Interpark</td>\n",
       "      <td>6</td>\n",
       "      <td>뮤지컬 〈웃는 남자〉</td>\n",
       "      <td>세종문화회관 대극장</td>\n",
       "    </tr>\n",
       "    <tr>\n",
       "      <th>6</th>\n",
       "      <td>Interpark</td>\n",
       "      <td>7</td>\n",
       "      <td>뮤지컬 〈물랑루즈!〉 아시아 초연 (Moulin Rouge! The Musical)</td>\n",
       "      <td>블루스퀘어 신한카드홀</td>\n",
       "    </tr>\n",
       "    <tr>\n",
       "      <th>7</th>\n",
       "      <td>Interpark</td>\n",
       "      <td>8</td>\n",
       "      <td>뮤지컬 데스노트 (The Musical Death Note)</td>\n",
       "      <td>충무아트센터 대극장</td>\n",
       "    </tr>\n",
       "    <tr>\n",
       "      <th>8</th>\n",
       "      <td>Interpark</td>\n",
       "      <td>9</td>\n",
       "      <td>뮤지컬 데스노트 (The Musical Death Note)</td>\n",
       "      <td>예술의전당 오페라극장</td>\n",
       "    </tr>\n",
       "    <tr>\n",
       "      <th>9</th>\n",
       "      <td>Interpark</td>\n",
       "      <td>10</td>\n",
       "      <td>뮤지컬 지킬앤하이드 (Jekyll＆Hyde)</td>\n",
       "      <td>샤롯데씨어터</td>\n",
       "    </tr>\n",
       "    <tr>\n",
       "      <th>10</th>\n",
       "      <td>Interpark</td>\n",
       "      <td>11</td>\n",
       "      <td>뮤지컬 〈사의찬미〉</td>\n",
       "      <td>대학로 TOM(티오엠) 1관</td>\n",
       "    </tr>\n",
       "    <tr>\n",
       "      <th>11</th>\n",
       "      <td>Interpark</td>\n",
       "      <td>12</td>\n",
       "      <td>뮤지컬 〈미세스 다웃파이어〉</td>\n",
       "      <td>샤롯데씨어터</td>\n",
       "    </tr>\n",
       "    <tr>\n",
       "      <th>12</th>\n",
       "      <td>Interpark</td>\n",
       "      <td>13</td>\n",
       "      <td>뮤지컬 라이온 킹 인터내셔널 투어 - 서울 (Musical The Lion King)</td>\n",
       "      <td>예술의전당 오페라극장</td>\n",
       "    </tr>\n",
       "    <tr>\n",
       "      <th>13</th>\n",
       "      <td>Interpark</td>\n",
       "      <td>14</td>\n",
       "      <td>뮤지컬 〈여신님이 보고 계셔〉 10th Anniversary</td>\n",
       "      <td>대학로 유니플렉스 1관</td>\n",
       "    </tr>\n",
       "    <tr>\n",
       "      <th>14</th>\n",
       "      <td>Interpark</td>\n",
       "      <td>15</td>\n",
       "      <td>뮤지컬 〈마타하리〉</td>\n",
       "      <td>샤롯데씨어터</td>\n",
       "    </tr>\n",
       "    <tr>\n",
       "      <th>15</th>\n",
       "      <td>Interpark</td>\n",
       "      <td>16</td>\n",
       "      <td>뮤지컬 〈브로드웨이 42번가〉</td>\n",
       "      <td>예술의전당 CJ 토월극장</td>\n",
       "    </tr>\n",
       "    <tr>\n",
       "      <th>16</th>\n",
       "      <td>Interpark</td>\n",
       "      <td>17</td>\n",
       "      <td>뮤지컬 〈지저스 크라이스트 수퍼스타〉 50주년 기념 한국 공연</td>\n",
       "      <td>광림아트센터 BBCH홀</td>\n",
       "    </tr>\n",
       "    <tr>\n",
       "      <th>17</th>\n",
       "      <td>Interpark</td>\n",
       "      <td>18</td>\n",
       "      <td>뮤지컬 〈빨래〉</td>\n",
       "      <td>대학로 유니플렉스 2관</td>\n",
       "    </tr>\n",
       "    <tr>\n",
       "      <th>18</th>\n",
       "      <td>Interpark</td>\n",
       "      <td>19</td>\n",
       "      <td>뮤지컬 〈베토벤; Beethoven Secret〉</td>\n",
       "      <td>예술의전당 오페라극장</td>\n",
       "    </tr>\n",
       "    <tr>\n",
       "      <th>19</th>\n",
       "      <td>Interpark</td>\n",
       "      <td>20</td>\n",
       "      <td>뮤지컬 ＇영웅＇</td>\n",
       "      <td>LG아트센터 서울 LG SIGNATURE 홀</td>\n",
       "    </tr>\n",
       "    <tr>\n",
       "      <th>20</th>\n",
       "      <td>Interpark</td>\n",
       "      <td>21</td>\n",
       "      <td>뮤지컬 〈웨스트 사이드 스토리〉</td>\n",
       "      <td>충무아트센터 대극장</td>\n",
       "    </tr>\n",
       "    <tr>\n",
       "      <th>21</th>\n",
       "      <td>Interpark</td>\n",
       "      <td>22</td>\n",
       "      <td>뮤지컬 〈프랑켄슈타인〉</td>\n",
       "      <td>블루스퀘어 신한카드홀</td>\n",
       "    </tr>\n",
       "    <tr>\n",
       "      <th>22</th>\n",
       "      <td>Interpark</td>\n",
       "      <td>23</td>\n",
       "      <td>뮤지컬 〈서편제〉</td>\n",
       "      <td>광림아트센터 BBCH홀</td>\n",
       "    </tr>\n",
       "    <tr>\n",
       "      <th>23</th>\n",
       "      <td>Interpark</td>\n",
       "      <td>24</td>\n",
       "      <td>베어 더 뮤지컬(bare the musical)</td>\n",
       "      <td>두산아트센터 연강홀</td>\n",
       "    </tr>\n",
       "    <tr>\n",
       "      <th>24</th>\n",
       "      <td>Interpark</td>\n",
       "      <td>25</td>\n",
       "      <td>뮤지컬 〈스위니토드〉</td>\n",
       "      <td>샤롯데씨어터</td>\n",
       "    </tr>\n",
       "    <tr>\n",
       "      <th>25</th>\n",
       "      <td>Interpark</td>\n",
       "      <td>26</td>\n",
       "      <td>뮤지컬 〈웨스턴 스토리〉</td>\n",
       "      <td>대학로 유니플렉스 1관</td>\n",
       "    </tr>\n",
       "    <tr>\n",
       "      <th>26</th>\n",
       "      <td>Interpark</td>\n",
       "      <td>27</td>\n",
       "      <td>뮤지컬 〈팬레터〉</td>\n",
       "      <td>coex 신한카드 artium</td>\n",
       "    </tr>\n",
       "    <tr>\n",
       "      <th>27</th>\n",
       "      <td>Interpark</td>\n",
       "      <td>28</td>\n",
       "      <td>뮤지컬 〈배니싱〉</td>\n",
       "      <td>대학로 아트원씨어터 1관</td>\n",
       "    </tr>\n",
       "    <tr>\n",
       "      <th>28</th>\n",
       "      <td>Interpark</td>\n",
       "      <td>29</td>\n",
       "      <td>뮤지컬 〈캣츠〉 오리지널 내한－서울（Musical CATS）</td>\n",
       "      <td>세종문화회관 대극장</td>\n",
       "    </tr>\n",
       "    <tr>\n",
       "      <th>29</th>\n",
       "      <td>Interpark</td>\n",
       "      <td>30</td>\n",
       "      <td>뮤지컬 〈미오 프라텔로〉</td>\n",
       "      <td>드림아트센터 1관</td>\n",
       "    </tr>\n",
       "    <tr>\n",
       "      <th>30</th>\n",
       "      <td>Interpark</td>\n",
       "      <td>31</td>\n",
       "      <td>뮤지컬 〈빌리 엘리어트〉</td>\n",
       "      <td>대성 디큐브아트센터</td>\n",
       "    </tr>\n",
       "    <tr>\n",
       "      <th>31</th>\n",
       "      <td>Interpark</td>\n",
       "      <td>32</td>\n",
       "      <td>뮤지컬 〈니진스키〉</td>\n",
       "      <td>대학로 아트원씨어터 1관</td>\n",
       "    </tr>\n",
       "    <tr>\n",
       "      <th>32</th>\n",
       "      <td>Interpark</td>\n",
       "      <td>33</td>\n",
       "      <td>뮤지컬 〈빨래〉</td>\n",
       "      <td>대학로 유니플렉스 2관</td>\n",
       "    </tr>\n",
       "    <tr>\n",
       "      <th>33</th>\n",
       "      <td>Interpark</td>\n",
       "      <td>34</td>\n",
       "      <td>뮤지컬 〈사랑의 불시착〉</td>\n",
       "      <td>coex 신한카드 artium</td>\n",
       "    </tr>\n",
       "    <tr>\n",
       "      <th>34</th>\n",
       "      <td>Interpark</td>\n",
       "      <td>35</td>\n",
       "      <td>육군 창작 뮤지컬 〈블루헬멧 : 메이사의 노래〉</td>\n",
       "      <td>대성 디큐브아트센터</td>\n",
       "    </tr>\n",
       "    <tr>\n",
       "      <th>35</th>\n",
       "      <td>Interpark</td>\n",
       "      <td>36</td>\n",
       "      <td>뮤지컬 〈브론테〉</td>\n",
       "      <td>대학로 자유극장</td>\n",
       "    </tr>\n",
       "    <tr>\n",
       "      <th>36</th>\n",
       "      <td>Interpark</td>\n",
       "      <td>37</td>\n",
       "      <td>블루맨그룹 월드투어</td>\n",
       "      <td>coex 신한카드 artium</td>\n",
       "    </tr>\n",
       "    <tr>\n",
       "      <th>37</th>\n",
       "      <td>Interpark</td>\n",
       "      <td>38</td>\n",
       "      <td>뮤지컬 라이온 킹 인터내셔널 투어 - 부산(Musical The Lion King)</td>\n",
       "      <td>부산 드림씨어터</td>\n",
       "    </tr>\n",
       "    <tr>\n",
       "      <th>38</th>\n",
       "      <td>Interpark</td>\n",
       "      <td>39</td>\n",
       "      <td>뮤지컬 〈리지〉</td>\n",
       "      <td>두산아트센터 연강홀</td>\n",
       "    </tr>\n",
       "    <tr>\n",
       "      <th>39</th>\n",
       "      <td>Interpark</td>\n",
       "      <td>40</td>\n",
       "      <td>뮤지컬 〈랭보〉</td>\n",
       "      <td>대학로 TOM(티오엠) 1관</td>\n",
       "    </tr>\n",
       "    <tr>\n",
       "      <th>40</th>\n",
       "      <td>Interpark</td>\n",
       "      <td>41</td>\n",
       "      <td>뮤지컬 〈레베카〉</td>\n",
       "      <td>충무아트센터 대극장</td>\n",
       "    </tr>\n",
       "    <tr>\n",
       "      <th>41</th>\n",
       "      <td>Interpark</td>\n",
       "      <td>42</td>\n",
       "      <td>뮤지컬 〈디아길레프〉</td>\n",
       "      <td>대학로 아트원씨어터 1관</td>\n",
       "    </tr>\n",
       "    <tr>\n",
       "      <th>42</th>\n",
       "      <td>Interpark</td>\n",
       "      <td>43</td>\n",
       "      <td>뮤지컬〈하데스타운〉 최초 한국 공연 (MUSICAL HADESTOWN)</td>\n",
       "      <td>LG아트센터</td>\n",
       "    </tr>\n",
       "    <tr>\n",
       "      <th>43</th>\n",
       "      <td>Interpark</td>\n",
       "      <td>44</td>\n",
       "      <td>뮤지컬 〈곤 투모로우〉</td>\n",
       "      <td>홍익대 대학로 아트센터 대극장</td>\n",
       "    </tr>\n",
       "    <tr>\n",
       "      <th>44</th>\n",
       "      <td>Interpark</td>\n",
       "      <td>45</td>\n",
       "      <td>뮤지컬 〈V 에버 애프터〉</td>\n",
       "      <td>드림아트센터 1관</td>\n",
       "    </tr>\n",
       "    <tr>\n",
       "      <th>45</th>\n",
       "      <td>Interpark</td>\n",
       "      <td>46</td>\n",
       "      <td>뮤지컬 〈미아 파밀리아〉</td>\n",
       "      <td>예스24스테이지 2관</td>\n",
       "    </tr>\n",
       "    <tr>\n",
       "      <th>46</th>\n",
       "      <td>Interpark</td>\n",
       "      <td>47</td>\n",
       "      <td>뮤지컬 킹아더 (Musical King Arthur)</td>\n",
       "      <td>홍익대 대학로 아트센터 대극장</td>\n",
       "    </tr>\n",
       "    <tr>\n",
       "      <th>47</th>\n",
       "      <td>Interpark</td>\n",
       "      <td>48</td>\n",
       "      <td>뮤지컬 〈노트르담 드 파리〉 프렌치 오리지널 내한공연 - 앙코르</td>\n",
       "      <td>블루스퀘어 신한카드홀</td>\n",
       "    </tr>\n",
       "    <tr>\n",
       "      <th>48</th>\n",
       "      <td>Interpark</td>\n",
       "      <td>49</td>\n",
       "      <td>와일드 와일드 〈드림〉</td>\n",
       "      <td>와일드 와일드 전용관 (명보아트홀)</td>\n",
       "    </tr>\n",
       "    <tr>\n",
       "      <th>49</th>\n",
       "      <td>Interpark</td>\n",
       "      <td>50</td>\n",
       "      <td>뮤지컬 〈이프덴〉</td>\n",
       "      <td>홍익대 대학로 아트센터 대극장</td>\n",
       "    </tr>\n",
       "  </tbody>\n",
       "</table>\n",
       "</div>"
      ],
      "text/plain": [
       "        서비스업체  순위                                               제목  \\\n",
       "0   Interpark   1                                  태양의서커스〈뉴 알레그리아〉   \n",
       "1   Interpark   2                                       뮤지컬 〈킹키부츠〉   \n",
       "2   Interpark   3                             뮤지컬 〈엘리자벳〉 10주년 기념공연   \n",
       "3   Interpark   4                                        뮤지컬 〈아이다〉   \n",
       "4   Interpark   5                                        뮤지컬 〈마틸다〉   \n",
       "5   Interpark   6                                      뮤지컬 〈웃는 남자〉   \n",
       "6   Interpark   7   뮤지컬 〈물랑루즈!〉 아시아 초연 (Moulin Rouge! The Musical)   \n",
       "7   Interpark   8                뮤지컬 데스노트 (The Musical Death Note)   \n",
       "8   Interpark   9                뮤지컬 데스노트 (The Musical Death Note)   \n",
       "9   Interpark  10                         뮤지컬 지킬앤하이드 (Jekyll＆Hyde)   \n",
       "10  Interpark  11                                       뮤지컬 〈사의찬미〉   \n",
       "11  Interpark  12                                  뮤지컬 〈미세스 다웃파이어〉   \n",
       "12  Interpark  13  뮤지컬 라이온 킹 인터내셔널 투어 - 서울 (Musical The Lion King)   \n",
       "13  Interpark  14                뮤지컬 〈여신님이 보고 계셔〉 10th Anniversary   \n",
       "14  Interpark  15                                       뮤지컬 〈마타하리〉   \n",
       "15  Interpark  16                                 뮤지컬 〈브로드웨이 42번가〉   \n",
       "16  Interpark  17               뮤지컬 〈지저스 크라이스트 수퍼스타〉 50주년 기념 한국 공연   \n",
       "17  Interpark  18                                         뮤지컬 〈빨래〉   \n",
       "18  Interpark  19                      뮤지컬 〈베토벤; Beethoven Secret〉   \n",
       "19  Interpark  20                                         뮤지컬 ＇영웅＇   \n",
       "20  Interpark  21                                뮤지컬 〈웨스트 사이드 스토리〉   \n",
       "21  Interpark  22                                     뮤지컬 〈프랑켄슈타인〉   \n",
       "22  Interpark  23                                        뮤지컬 〈서편제〉   \n",
       "23  Interpark  24                       베어 더 뮤지컬(bare the musical)   \n",
       "24  Interpark  25                                      뮤지컬 〈스위니토드〉   \n",
       "25  Interpark  26                                    뮤지컬 〈웨스턴 스토리〉   \n",
       "26  Interpark  27                                        뮤지컬 〈팬레터〉   \n",
       "27  Interpark  28                                        뮤지컬 〈배니싱〉   \n",
       "28  Interpark  29                뮤지컬 〈캣츠〉 오리지널 내한－서울（Musical CATS）   \n",
       "29  Interpark  30                                    뮤지컬 〈미오 프라텔로〉   \n",
       "30  Interpark  31                                    뮤지컬 〈빌리 엘리어트〉   \n",
       "31  Interpark  32                                       뮤지컬 〈니진스키〉   \n",
       "32  Interpark  33                                         뮤지컬 〈빨래〉   \n",
       "33  Interpark  34                                    뮤지컬 〈사랑의 불시착〉   \n",
       "34  Interpark  35                       육군 창작 뮤지컬 〈블루헬멧 : 메이사의 노래〉   \n",
       "35  Interpark  36                                        뮤지컬 〈브론테〉   \n",
       "36  Interpark  37                                       블루맨그룹 월드투어   \n",
       "37  Interpark  38   뮤지컬 라이온 킹 인터내셔널 투어 - 부산(Musical The Lion King)   \n",
       "38  Interpark  39                                         뮤지컬 〈리지〉   \n",
       "39  Interpark  40                                         뮤지컬 〈랭보〉   \n",
       "40  Interpark  41                                        뮤지컬 〈레베카〉   \n",
       "41  Interpark  42                                      뮤지컬 〈디아길레프〉   \n",
       "42  Interpark  43          뮤지컬〈하데스타운〉 최초 한국 공연 (MUSICAL HADESTOWN)   \n",
       "43  Interpark  44                                     뮤지컬 〈곤 투모로우〉   \n",
       "44  Interpark  45                                   뮤지컬 〈V 에버 애프터〉   \n",
       "45  Interpark  46                                    뮤지컬 〈미아 파밀리아〉   \n",
       "46  Interpark  47                    뮤지컬 킹아더 (Musical King Arthur)   \n",
       "47  Interpark  48              뮤지컬 〈노트르담 드 파리〉 프렌치 오리지널 내한공연 - 앙코르   \n",
       "48  Interpark  49                                     와일드 와일드 〈드림〉   \n",
       "49  Interpark  50                                        뮤지컬 〈이프덴〉   \n",
       "\n",
       "                          장소  \n",
       "0               잠실종합운동장 내 빅탑  \n",
       "1                 충무아트센터 대극장  \n",
       "2                블루스퀘어 신한카드홀  \n",
       "3                블루스퀘어 신한카드홀  \n",
       "4                 대성 디큐브아트센터  \n",
       "5                 세종문화회관 대극장  \n",
       "6                블루스퀘어 신한카드홀  \n",
       "7                 충무아트센터 대극장  \n",
       "8                예술의전당 오페라극장  \n",
       "9                     샤롯데씨어터  \n",
       "10           대학로 TOM(티오엠) 1관  \n",
       "11                    샤롯데씨어터  \n",
       "12               예술의전당 오페라극장  \n",
       "13              대학로 유니플렉스 1관  \n",
       "14                    샤롯데씨어터  \n",
       "15             예술의전당 CJ 토월극장  \n",
       "16              광림아트센터 BBCH홀  \n",
       "17              대학로 유니플렉스 2관  \n",
       "18               예술의전당 오페라극장  \n",
       "19  LG아트센터 서울 LG SIGNATURE 홀  \n",
       "20                충무아트센터 대극장  \n",
       "21               블루스퀘어 신한카드홀  \n",
       "22              광림아트센터 BBCH홀  \n",
       "23                두산아트센터 연강홀  \n",
       "24                    샤롯데씨어터  \n",
       "25              대학로 유니플렉스 1관  \n",
       "26          coex 신한카드 artium  \n",
       "27             대학로 아트원씨어터 1관  \n",
       "28                세종문화회관 대극장  \n",
       "29                 드림아트센터 1관  \n",
       "30                대성 디큐브아트센터  \n",
       "31             대학로 아트원씨어터 1관  \n",
       "32              대학로 유니플렉스 2관  \n",
       "33          coex 신한카드 artium  \n",
       "34                대성 디큐브아트센터  \n",
       "35                  대학로 자유극장  \n",
       "36          coex 신한카드 artium  \n",
       "37                  부산 드림씨어터  \n",
       "38                두산아트센터 연강홀  \n",
       "39           대학로 TOM(티오엠) 1관  \n",
       "40                충무아트센터 대극장  \n",
       "41             대학로 아트원씨어터 1관  \n",
       "42                    LG아트센터  \n",
       "43          홍익대 대학로 아트센터 대극장  \n",
       "44                 드림아트센터 1관  \n",
       "45               예스24스테이지 2관  \n",
       "46          홍익대 대학로 아트센터 대극장  \n",
       "47               블루스퀘어 신한카드홀  \n",
       "48       와일드 와일드 전용관 (명보아트홀)  \n",
       "49          홍익대 대학로 아트센터 대극장  "
      ]
     },
     "execution_count": 62,
     "metadata": {},
     "output_type": "execute_result"
    }
   ],
   "source": [
    "import pandas as pd\n",
    "\n",
    "#데이터프레임화 시키기\n",
    "df=pd.DataFrame(musical_data, columns=['서비스업체', '순위', '제목', '장소'])\n",
    "df"
   ]
  },
  {
   "cell_type": "code",
   "execution_count": 63,
   "metadata": {},
   "outputs": [],
   "source": [
    "df.to_excel('./musical_rank(2022).xlsx', index=False)"
   ]
  },
  {
   "cell_type": "code",
   "execution_count": 64,
   "metadata": {},
   "outputs": [],
   "source": [
    "#csv로 저장!\n",
    "df.to_csv('./musical_rank(2022).csv', index=False)"
   ]
  },
  {
   "cell_type": "markdown",
   "metadata": {
    "id": "IiiQzsTBwMks"
   },
   "source": [
    "## 데이터 가져오기"
   ]
  },
  {
   "cell_type": "code",
   "execution_count": 4,
   "metadata": {
    "id": "GnDz7lLDwMkv"
   },
   "outputs": [],
   "source": [
    "import numpy as np \n",
    "import pandas as pd \n",
    "import matplotlib.pyplot as plt"
   ]
  },
  {
   "cell_type": "code",
   "execution_count": 5,
   "metadata": {
    "id": "hY3a9eu7wMkw"
   },
   "outputs": [],
   "source": [
    "# matplotlib 한글 폰트 오류 문제 해결\n",
    "\n",
    "from matplotlib import font_manager, rc\n",
    "import matplotlib as mpl\n",
    "\n",
    "font_path = '../data/malgun.ttf'\n",
    "font_name = font_manager.FontProperties(fname=font_path).get_name()\n",
    "rc('font', family=font_name)\n",
    "\n",
    "# 마이너스 깨짐 현상 해결\n",
    "mpl.rcParams['axes.unicode_minus'] = False\n",
    "plt.show()"
   ]
  },
  {
   "cell_type": "code",
   "execution_count": 6,
   "metadata": {
    "colab": {
     "base_uri": "https://localhost:8080/",
     "height": 1000
    },
    "id": "JFjF8hLBwMkx",
    "outputId": "915a198d-c022-4ab6-f70d-180fe96b0ecb"
   },
   "outputs": [
    {
     "data": {
      "text/html": [
       "<div>\n",
       "<style scoped>\n",
       "    .dataframe tbody tr th:only-of-type {\n",
       "        vertical-align: middle;\n",
       "    }\n",
       "\n",
       "    .dataframe tbody tr th {\n",
       "        vertical-align: top;\n",
       "    }\n",
       "\n",
       "    .dataframe thead th {\n",
       "        text-align: right;\n",
       "    }\n",
       "</style>\n",
       "<table border=\"1\" class=\"dataframe\">\n",
       "  <thead>\n",
       "    <tr style=\"text-align: right;\">\n",
       "      <th></th>\n",
       "      <th>서비스업체</th>\n",
       "      <th>순위</th>\n",
       "      <th>제목</th>\n",
       "      <th>장소</th>\n",
       "    </tr>\n",
       "  </thead>\n",
       "  <tbody>\n",
       "    <tr>\n",
       "      <th>0</th>\n",
       "      <td>Interpark</td>\n",
       "      <td>1</td>\n",
       "      <td>태양의서커스〈뉴 알레그리아〉</td>\n",
       "      <td>잠실종합운동장 내 빅탑</td>\n",
       "    </tr>\n",
       "    <tr>\n",
       "      <th>1</th>\n",
       "      <td>Interpark</td>\n",
       "      <td>2</td>\n",
       "      <td>뮤지컬 〈킹키부츠〉</td>\n",
       "      <td>충무아트센터 대극장</td>\n",
       "    </tr>\n",
       "    <tr>\n",
       "      <th>2</th>\n",
       "      <td>Interpark</td>\n",
       "      <td>3</td>\n",
       "      <td>뮤지컬 〈엘리자벳〉 10주년 기념공연</td>\n",
       "      <td>블루스퀘어 신한카드홀</td>\n",
       "    </tr>\n",
       "    <tr>\n",
       "      <th>3</th>\n",
       "      <td>Interpark</td>\n",
       "      <td>4</td>\n",
       "      <td>뮤지컬 〈아이다〉</td>\n",
       "      <td>블루스퀘어 신한카드홀</td>\n",
       "    </tr>\n",
       "    <tr>\n",
       "      <th>4</th>\n",
       "      <td>Interpark</td>\n",
       "      <td>5</td>\n",
       "      <td>뮤지컬 〈마틸다〉</td>\n",
       "      <td>대성 디큐브아트센터</td>\n",
       "    </tr>\n",
       "    <tr>\n",
       "      <th>5</th>\n",
       "      <td>Interpark</td>\n",
       "      <td>6</td>\n",
       "      <td>뮤지컬 〈웃는 남자〉</td>\n",
       "      <td>세종문화회관 대극장</td>\n",
       "    </tr>\n",
       "    <tr>\n",
       "      <th>6</th>\n",
       "      <td>Interpark</td>\n",
       "      <td>7</td>\n",
       "      <td>뮤지컬 〈물랑루즈!〉 아시아 초연 (Moulin Rouge! The Musical)</td>\n",
       "      <td>블루스퀘어 신한카드홀</td>\n",
       "    </tr>\n",
       "    <tr>\n",
       "      <th>7</th>\n",
       "      <td>Interpark</td>\n",
       "      <td>8</td>\n",
       "      <td>뮤지컬 데스노트 (The Musical Death Note)</td>\n",
       "      <td>충무아트센터 대극장</td>\n",
       "    </tr>\n",
       "    <tr>\n",
       "      <th>8</th>\n",
       "      <td>Interpark</td>\n",
       "      <td>9</td>\n",
       "      <td>뮤지컬 데스노트 (The Musical Death Note)</td>\n",
       "      <td>예술의전당 오페라극장</td>\n",
       "    </tr>\n",
       "    <tr>\n",
       "      <th>9</th>\n",
       "      <td>Interpark</td>\n",
       "      <td>10</td>\n",
       "      <td>뮤지컬 지킬앤하이드 (Jekyll＆Hyde)</td>\n",
       "      <td>샤롯데씨어터</td>\n",
       "    </tr>\n",
       "    <tr>\n",
       "      <th>10</th>\n",
       "      <td>Interpark</td>\n",
       "      <td>11</td>\n",
       "      <td>뮤지컬 〈사의찬미〉</td>\n",
       "      <td>대학로 TOM(티오엠) 1관</td>\n",
       "    </tr>\n",
       "    <tr>\n",
       "      <th>11</th>\n",
       "      <td>Interpark</td>\n",
       "      <td>12</td>\n",
       "      <td>뮤지컬 〈미세스 다웃파이어〉</td>\n",
       "      <td>샤롯데씨어터</td>\n",
       "    </tr>\n",
       "    <tr>\n",
       "      <th>12</th>\n",
       "      <td>Interpark</td>\n",
       "      <td>13</td>\n",
       "      <td>뮤지컬 라이온 킹 인터내셔널 투어 - 서울 (Musical The Lion King)</td>\n",
       "      <td>예술의전당 오페라극장</td>\n",
       "    </tr>\n",
       "    <tr>\n",
       "      <th>13</th>\n",
       "      <td>Interpark</td>\n",
       "      <td>14</td>\n",
       "      <td>뮤지컬 〈여신님이 보고 계셔〉 10th Anniversary</td>\n",
       "      <td>대학로 유니플렉스 1관</td>\n",
       "    </tr>\n",
       "    <tr>\n",
       "      <th>14</th>\n",
       "      <td>Interpark</td>\n",
       "      <td>15</td>\n",
       "      <td>뮤지컬 〈마타하리〉</td>\n",
       "      <td>샤롯데씨어터</td>\n",
       "    </tr>\n",
       "    <tr>\n",
       "      <th>15</th>\n",
       "      <td>Interpark</td>\n",
       "      <td>16</td>\n",
       "      <td>뮤지컬 〈브로드웨이 42번가〉</td>\n",
       "      <td>예술의전당 CJ 토월극장</td>\n",
       "    </tr>\n",
       "    <tr>\n",
       "      <th>16</th>\n",
       "      <td>Interpark</td>\n",
       "      <td>17</td>\n",
       "      <td>뮤지컬 〈지저스 크라이스트 수퍼스타〉 50주년 기념 한국 공연</td>\n",
       "      <td>광림아트센터 BBCH홀</td>\n",
       "    </tr>\n",
       "    <tr>\n",
       "      <th>17</th>\n",
       "      <td>Interpark</td>\n",
       "      <td>18</td>\n",
       "      <td>뮤지컬 〈빨래〉</td>\n",
       "      <td>대학로 유니플렉스 2관</td>\n",
       "    </tr>\n",
       "    <tr>\n",
       "      <th>18</th>\n",
       "      <td>Interpark</td>\n",
       "      <td>19</td>\n",
       "      <td>뮤지컬 〈베토벤; Beethoven Secret〉</td>\n",
       "      <td>예술의전당 오페라극장</td>\n",
       "    </tr>\n",
       "    <tr>\n",
       "      <th>19</th>\n",
       "      <td>Interpark</td>\n",
       "      <td>20</td>\n",
       "      <td>뮤지컬 ＇영웅＇</td>\n",
       "      <td>LG아트센터 서울 LG SIGNATURE 홀</td>\n",
       "    </tr>\n",
       "    <tr>\n",
       "      <th>20</th>\n",
       "      <td>Interpark</td>\n",
       "      <td>21</td>\n",
       "      <td>뮤지컬 〈웨스트 사이드 스토리〉</td>\n",
       "      <td>충무아트센터 대극장</td>\n",
       "    </tr>\n",
       "    <tr>\n",
       "      <th>21</th>\n",
       "      <td>Interpark</td>\n",
       "      <td>22</td>\n",
       "      <td>뮤지컬 〈프랑켄슈타인〉</td>\n",
       "      <td>블루스퀘어 신한카드홀</td>\n",
       "    </tr>\n",
       "    <tr>\n",
       "      <th>22</th>\n",
       "      <td>Interpark</td>\n",
       "      <td>23</td>\n",
       "      <td>뮤지컬 〈서편제〉</td>\n",
       "      <td>광림아트센터 BBCH홀</td>\n",
       "    </tr>\n",
       "    <tr>\n",
       "      <th>23</th>\n",
       "      <td>Interpark</td>\n",
       "      <td>24</td>\n",
       "      <td>베어 더 뮤지컬(bare the musical)</td>\n",
       "      <td>두산아트센터 연강홀</td>\n",
       "    </tr>\n",
       "    <tr>\n",
       "      <th>24</th>\n",
       "      <td>Interpark</td>\n",
       "      <td>25</td>\n",
       "      <td>뮤지컬 〈스위니토드〉</td>\n",
       "      <td>샤롯데씨어터</td>\n",
       "    </tr>\n",
       "    <tr>\n",
       "      <th>25</th>\n",
       "      <td>Interpark</td>\n",
       "      <td>26</td>\n",
       "      <td>뮤지컬 〈웨스턴 스토리〉</td>\n",
       "      <td>대학로 유니플렉스 1관</td>\n",
       "    </tr>\n",
       "    <tr>\n",
       "      <th>26</th>\n",
       "      <td>Interpark</td>\n",
       "      <td>27</td>\n",
       "      <td>뮤지컬 〈팬레터〉</td>\n",
       "      <td>coex 신한카드 artium</td>\n",
       "    </tr>\n",
       "    <tr>\n",
       "      <th>27</th>\n",
       "      <td>Interpark</td>\n",
       "      <td>28</td>\n",
       "      <td>뮤지컬 〈배니싱〉</td>\n",
       "      <td>대학로 아트원씨어터 1관</td>\n",
       "    </tr>\n",
       "    <tr>\n",
       "      <th>28</th>\n",
       "      <td>Interpark</td>\n",
       "      <td>29</td>\n",
       "      <td>뮤지컬 〈캣츠〉 오리지널 내한－서울（Musical CATS）</td>\n",
       "      <td>세종문화회관 대극장</td>\n",
       "    </tr>\n",
       "    <tr>\n",
       "      <th>29</th>\n",
       "      <td>Interpark</td>\n",
       "      <td>30</td>\n",
       "      <td>뮤지컬 〈미오 프라텔로〉</td>\n",
       "      <td>드림아트센터 1관</td>\n",
       "    </tr>\n",
       "    <tr>\n",
       "      <th>30</th>\n",
       "      <td>Interpark</td>\n",
       "      <td>31</td>\n",
       "      <td>뮤지컬 〈빌리 엘리어트〉</td>\n",
       "      <td>대성 디큐브아트센터</td>\n",
       "    </tr>\n",
       "    <tr>\n",
       "      <th>31</th>\n",
       "      <td>Interpark</td>\n",
       "      <td>32</td>\n",
       "      <td>뮤지컬 〈니진스키〉</td>\n",
       "      <td>대학로 아트원씨어터 1관</td>\n",
       "    </tr>\n",
       "    <tr>\n",
       "      <th>32</th>\n",
       "      <td>Interpark</td>\n",
       "      <td>33</td>\n",
       "      <td>뮤지컬 〈빨래〉</td>\n",
       "      <td>대학로 유니플렉스 2관</td>\n",
       "    </tr>\n",
       "    <tr>\n",
       "      <th>33</th>\n",
       "      <td>Interpark</td>\n",
       "      <td>34</td>\n",
       "      <td>뮤지컬 〈사랑의 불시착〉</td>\n",
       "      <td>coex 신한카드 artium</td>\n",
       "    </tr>\n",
       "    <tr>\n",
       "      <th>34</th>\n",
       "      <td>Interpark</td>\n",
       "      <td>35</td>\n",
       "      <td>육군 창작 뮤지컬 〈블루헬멧 : 메이사의 노래〉</td>\n",
       "      <td>대성 디큐브아트센터</td>\n",
       "    </tr>\n",
       "    <tr>\n",
       "      <th>35</th>\n",
       "      <td>Interpark</td>\n",
       "      <td>36</td>\n",
       "      <td>뮤지컬 〈브론테〉</td>\n",
       "      <td>대학로 자유극장</td>\n",
       "    </tr>\n",
       "    <tr>\n",
       "      <th>36</th>\n",
       "      <td>Interpark</td>\n",
       "      <td>37</td>\n",
       "      <td>블루맨그룹 월드투어</td>\n",
       "      <td>coex 신한카드 artium</td>\n",
       "    </tr>\n",
       "    <tr>\n",
       "      <th>37</th>\n",
       "      <td>Interpark</td>\n",
       "      <td>38</td>\n",
       "      <td>뮤지컬 라이온 킹 인터내셔널 투어 - 부산(Musical The Lion King)</td>\n",
       "      <td>부산 드림씨어터</td>\n",
       "    </tr>\n",
       "    <tr>\n",
       "      <th>38</th>\n",
       "      <td>Interpark</td>\n",
       "      <td>39</td>\n",
       "      <td>뮤지컬 〈리지〉</td>\n",
       "      <td>두산아트센터 연강홀</td>\n",
       "    </tr>\n",
       "    <tr>\n",
       "      <th>39</th>\n",
       "      <td>Interpark</td>\n",
       "      <td>40</td>\n",
       "      <td>뮤지컬 〈랭보〉</td>\n",
       "      <td>대학로 TOM(티오엠) 1관</td>\n",
       "    </tr>\n",
       "    <tr>\n",
       "      <th>40</th>\n",
       "      <td>Interpark</td>\n",
       "      <td>41</td>\n",
       "      <td>뮤지컬 〈레베카〉</td>\n",
       "      <td>충무아트센터 대극장</td>\n",
       "    </tr>\n",
       "    <tr>\n",
       "      <th>41</th>\n",
       "      <td>Interpark</td>\n",
       "      <td>42</td>\n",
       "      <td>뮤지컬 〈디아길레프〉</td>\n",
       "      <td>대학로 아트원씨어터 1관</td>\n",
       "    </tr>\n",
       "    <tr>\n",
       "      <th>42</th>\n",
       "      <td>Interpark</td>\n",
       "      <td>43</td>\n",
       "      <td>뮤지컬〈하데스타운〉 최초 한국 공연 (MUSICAL HADESTOWN)</td>\n",
       "      <td>LG아트센터</td>\n",
       "    </tr>\n",
       "    <tr>\n",
       "      <th>43</th>\n",
       "      <td>Interpark</td>\n",
       "      <td>44</td>\n",
       "      <td>뮤지컬 〈곤 투모로우〉</td>\n",
       "      <td>홍익대 대학로 아트센터 대극장</td>\n",
       "    </tr>\n",
       "    <tr>\n",
       "      <th>44</th>\n",
       "      <td>Interpark</td>\n",
       "      <td>45</td>\n",
       "      <td>뮤지컬 〈V 에버 애프터〉</td>\n",
       "      <td>드림아트센터 1관</td>\n",
       "    </tr>\n",
       "    <tr>\n",
       "      <th>45</th>\n",
       "      <td>Interpark</td>\n",
       "      <td>46</td>\n",
       "      <td>뮤지컬 〈미아 파밀리아〉</td>\n",
       "      <td>예스24스테이지 2관</td>\n",
       "    </tr>\n",
       "    <tr>\n",
       "      <th>46</th>\n",
       "      <td>Interpark</td>\n",
       "      <td>47</td>\n",
       "      <td>뮤지컬 킹아더 (Musical King Arthur)</td>\n",
       "      <td>홍익대 대학로 아트센터 대극장</td>\n",
       "    </tr>\n",
       "    <tr>\n",
       "      <th>47</th>\n",
       "      <td>Interpark</td>\n",
       "      <td>48</td>\n",
       "      <td>뮤지컬 〈노트르담 드 파리〉 프렌치 오리지널 내한공연 - 앙코르</td>\n",
       "      <td>블루스퀘어 신한카드홀</td>\n",
       "    </tr>\n",
       "    <tr>\n",
       "      <th>48</th>\n",
       "      <td>Interpark</td>\n",
       "      <td>49</td>\n",
       "      <td>와일드 와일드 〈드림〉</td>\n",
       "      <td>와일드 와일드 전용관 (명보아트홀)</td>\n",
       "    </tr>\n",
       "    <tr>\n",
       "      <th>49</th>\n",
       "      <td>Interpark</td>\n",
       "      <td>50</td>\n",
       "      <td>뮤지컬 〈이프덴〉</td>\n",
       "      <td>홍익대 대학로 아트센터 대극장</td>\n",
       "    </tr>\n",
       "  </tbody>\n",
       "</table>\n",
       "</div>"
      ],
      "text/plain": [
       "        서비스업체  순위                                               제목  \\\n",
       "0   Interpark   1                                  태양의서커스〈뉴 알레그리아〉   \n",
       "1   Interpark   2                                       뮤지컬 〈킹키부츠〉   \n",
       "2   Interpark   3                             뮤지컬 〈엘리자벳〉 10주년 기념공연   \n",
       "3   Interpark   4                                        뮤지컬 〈아이다〉   \n",
       "4   Interpark   5                                        뮤지컬 〈마틸다〉   \n",
       "5   Interpark   6                                      뮤지컬 〈웃는 남자〉   \n",
       "6   Interpark   7   뮤지컬 〈물랑루즈!〉 아시아 초연 (Moulin Rouge! The Musical)   \n",
       "7   Interpark   8                뮤지컬 데스노트 (The Musical Death Note)   \n",
       "8   Interpark   9                뮤지컬 데스노트 (The Musical Death Note)   \n",
       "9   Interpark  10                         뮤지컬 지킬앤하이드 (Jekyll＆Hyde)   \n",
       "10  Interpark  11                                       뮤지컬 〈사의찬미〉   \n",
       "11  Interpark  12                                  뮤지컬 〈미세스 다웃파이어〉   \n",
       "12  Interpark  13  뮤지컬 라이온 킹 인터내셔널 투어 - 서울 (Musical The Lion King)   \n",
       "13  Interpark  14                뮤지컬 〈여신님이 보고 계셔〉 10th Anniversary   \n",
       "14  Interpark  15                                       뮤지컬 〈마타하리〉   \n",
       "15  Interpark  16                                 뮤지컬 〈브로드웨이 42번가〉   \n",
       "16  Interpark  17               뮤지컬 〈지저스 크라이스트 수퍼스타〉 50주년 기념 한국 공연   \n",
       "17  Interpark  18                                         뮤지컬 〈빨래〉   \n",
       "18  Interpark  19                      뮤지컬 〈베토벤; Beethoven Secret〉   \n",
       "19  Interpark  20                                         뮤지컬 ＇영웅＇   \n",
       "20  Interpark  21                                뮤지컬 〈웨스트 사이드 스토리〉   \n",
       "21  Interpark  22                                     뮤지컬 〈프랑켄슈타인〉   \n",
       "22  Interpark  23                                        뮤지컬 〈서편제〉   \n",
       "23  Interpark  24                       베어 더 뮤지컬(bare the musical)   \n",
       "24  Interpark  25                                      뮤지컬 〈스위니토드〉   \n",
       "25  Interpark  26                                    뮤지컬 〈웨스턴 스토리〉   \n",
       "26  Interpark  27                                        뮤지컬 〈팬레터〉   \n",
       "27  Interpark  28                                        뮤지컬 〈배니싱〉   \n",
       "28  Interpark  29                뮤지컬 〈캣츠〉 오리지널 내한－서울（Musical CATS）   \n",
       "29  Interpark  30                                    뮤지컬 〈미오 프라텔로〉   \n",
       "30  Interpark  31                                    뮤지컬 〈빌리 엘리어트〉   \n",
       "31  Interpark  32                                       뮤지컬 〈니진스키〉   \n",
       "32  Interpark  33                                         뮤지컬 〈빨래〉   \n",
       "33  Interpark  34                                    뮤지컬 〈사랑의 불시착〉   \n",
       "34  Interpark  35                       육군 창작 뮤지컬 〈블루헬멧 : 메이사의 노래〉   \n",
       "35  Interpark  36                                        뮤지컬 〈브론테〉   \n",
       "36  Interpark  37                                       블루맨그룹 월드투어   \n",
       "37  Interpark  38   뮤지컬 라이온 킹 인터내셔널 투어 - 부산(Musical The Lion King)   \n",
       "38  Interpark  39                                         뮤지컬 〈리지〉   \n",
       "39  Interpark  40                                         뮤지컬 〈랭보〉   \n",
       "40  Interpark  41                                        뮤지컬 〈레베카〉   \n",
       "41  Interpark  42                                      뮤지컬 〈디아길레프〉   \n",
       "42  Interpark  43          뮤지컬〈하데스타운〉 최초 한국 공연 (MUSICAL HADESTOWN)   \n",
       "43  Interpark  44                                     뮤지컬 〈곤 투모로우〉   \n",
       "44  Interpark  45                                   뮤지컬 〈V 에버 애프터〉   \n",
       "45  Interpark  46                                    뮤지컬 〈미아 파밀리아〉   \n",
       "46  Interpark  47                    뮤지컬 킹아더 (Musical King Arthur)   \n",
       "47  Interpark  48              뮤지컬 〈노트르담 드 파리〉 프렌치 오리지널 내한공연 - 앙코르   \n",
       "48  Interpark  49                                     와일드 와일드 〈드림〉   \n",
       "49  Interpark  50                                        뮤지컬 〈이프덴〉   \n",
       "\n",
       "                          장소  \n",
       "0               잠실종합운동장 내 빅탑  \n",
       "1                 충무아트센터 대극장  \n",
       "2                블루스퀘어 신한카드홀  \n",
       "3                블루스퀘어 신한카드홀  \n",
       "4                 대성 디큐브아트센터  \n",
       "5                 세종문화회관 대극장  \n",
       "6                블루스퀘어 신한카드홀  \n",
       "7                 충무아트센터 대극장  \n",
       "8                예술의전당 오페라극장  \n",
       "9                     샤롯데씨어터  \n",
       "10           대학로 TOM(티오엠) 1관  \n",
       "11                    샤롯데씨어터  \n",
       "12               예술의전당 오페라극장  \n",
       "13              대학로 유니플렉스 1관  \n",
       "14                    샤롯데씨어터  \n",
       "15             예술의전당 CJ 토월극장  \n",
       "16              광림아트센터 BBCH홀  \n",
       "17              대학로 유니플렉스 2관  \n",
       "18               예술의전당 오페라극장  \n",
       "19  LG아트센터 서울 LG SIGNATURE 홀  \n",
       "20                충무아트센터 대극장  \n",
       "21               블루스퀘어 신한카드홀  \n",
       "22              광림아트센터 BBCH홀  \n",
       "23                두산아트센터 연강홀  \n",
       "24                    샤롯데씨어터  \n",
       "25              대학로 유니플렉스 1관  \n",
       "26          coex 신한카드 artium  \n",
       "27             대학로 아트원씨어터 1관  \n",
       "28                세종문화회관 대극장  \n",
       "29                 드림아트센터 1관  \n",
       "30                대성 디큐브아트센터  \n",
       "31             대학로 아트원씨어터 1관  \n",
       "32              대학로 유니플렉스 2관  \n",
       "33          coex 신한카드 artium  \n",
       "34                대성 디큐브아트센터  \n",
       "35                  대학로 자유극장  \n",
       "36          coex 신한카드 artium  \n",
       "37                  부산 드림씨어터  \n",
       "38                두산아트센터 연강홀  \n",
       "39           대학로 TOM(티오엠) 1관  \n",
       "40                충무아트센터 대극장  \n",
       "41             대학로 아트원씨어터 1관  \n",
       "42                    LG아트센터  \n",
       "43          홍익대 대학로 아트센터 대극장  \n",
       "44                 드림아트센터 1관  \n",
       "45               예스24스테이지 2관  \n",
       "46          홍익대 대학로 아트센터 대극장  \n",
       "47               블루스퀘어 신한카드홀  \n",
       "48       와일드 와일드 전용관 (명보아트홀)  \n",
       "49          홍익대 대학로 아트센터 대극장  "
      ]
     },
     "execution_count": 6,
     "metadata": {},
     "output_type": "execute_result"
    }
   ],
   "source": [
    "pd.read_csv('musical_rank(2022).csv', thousands=',')\n",
    "\n",
    "# thousands=',' : 숫자값을 문자로 인식할 수 있어 설정함 "
   ]
  },
  {
   "cell_type": "markdown",
   "metadata": {
    "id": "btXzJkCtwMkz"
   },
   "source": [
    "## 데이터 정보 확인"
   ]
  },
  {
   "cell_type": "code",
   "execution_count": 7,
   "metadata": {
    "id": "3Pc_iO_fwMkz"
   },
   "outputs": [],
   "source": [
    "musical_rank = pd.read_csv('musical_rank(2022).csv', thousands=',')"
   ]
  },
  {
   "cell_type": "code",
   "execution_count": 8,
   "metadata": {
    "colab": {
     "base_uri": "https://localhost:8080/",
     "height": 143
    },
    "id": "DPY8ZTZcwMk0",
    "outputId": "6846e0d0-af2e-4e12-fe9e-c21a524992a1"
   },
   "outputs": [
    {
     "data": {
      "text/html": [
       "<div>\n",
       "<style scoped>\n",
       "    .dataframe tbody tr th:only-of-type {\n",
       "        vertical-align: middle;\n",
       "    }\n",
       "\n",
       "    .dataframe tbody tr th {\n",
       "        vertical-align: top;\n",
       "    }\n",
       "\n",
       "    .dataframe thead th {\n",
       "        text-align: right;\n",
       "    }\n",
       "</style>\n",
       "<table border=\"1\" class=\"dataframe\">\n",
       "  <thead>\n",
       "    <tr style=\"text-align: right;\">\n",
       "      <th></th>\n",
       "      <th>서비스업체</th>\n",
       "      <th>순위</th>\n",
       "      <th>제목</th>\n",
       "      <th>장소</th>\n",
       "    </tr>\n",
       "  </thead>\n",
       "  <tbody>\n",
       "    <tr>\n",
       "      <th>0</th>\n",
       "      <td>Interpark</td>\n",
       "      <td>1</td>\n",
       "      <td>태양의서커스〈뉴 알레그리아〉</td>\n",
       "      <td>잠실종합운동장 내 빅탑</td>\n",
       "    </tr>\n",
       "    <tr>\n",
       "      <th>1</th>\n",
       "      <td>Interpark</td>\n",
       "      <td>2</td>\n",
       "      <td>뮤지컬 〈킹키부츠〉</td>\n",
       "      <td>충무아트센터 대극장</td>\n",
       "    </tr>\n",
       "    <tr>\n",
       "      <th>2</th>\n",
       "      <td>Interpark</td>\n",
       "      <td>3</td>\n",
       "      <td>뮤지컬 〈엘리자벳〉 10주년 기념공연</td>\n",
       "      <td>블루스퀘어 신한카드홀</td>\n",
       "    </tr>\n",
       "  </tbody>\n",
       "</table>\n",
       "</div>"
      ],
      "text/plain": [
       "       서비스업체  순위                    제목            장소\n",
       "0  Interpark   1       태양의서커스〈뉴 알레그리아〉  잠실종합운동장 내 빅탑\n",
       "1  Interpark   2            뮤지컬 〈킹키부츠〉    충무아트센터 대극장\n",
       "2  Interpark   3  뮤지컬 〈엘리자벳〉 10주년 기념공연   블루스퀘어 신한카드홀"
      ]
     },
     "execution_count": 8,
     "metadata": {},
     "output_type": "execute_result"
    }
   ],
   "source": [
    "musical_rank.head(3)"
   ]
  },
  {
   "cell_type": "code",
   "execution_count": 9,
   "metadata": {
    "colab": {
     "base_uri": "https://localhost:8080/"
    },
    "id": "9KZaYCLawMk0",
    "outputId": "45630f68-1a96-4420-ff74-2c8678787299"
   },
   "outputs": [
    {
     "data": {
      "text/plain": [
       "서비스업체    object\n",
       "순위        int64\n",
       "제목       object\n",
       "장소       object\n",
       "dtype: object"
      ]
     },
     "execution_count": 9,
     "metadata": {},
     "output_type": "execute_result"
    }
   ],
   "source": [
    "# 탐색적 데이터분석(EDA)\n",
    "\n",
    "musical_rank.dtypes"
   ]
  },
  {
   "cell_type": "code",
   "execution_count": 10,
   "metadata": {
    "colab": {
     "base_uri": "https://localhost:8080/"
    },
    "id": "-OI7zvg6wMk0",
    "outputId": "9623a04b-1157-4135-c56f-497ba8e8cb79",
    "scrolled": true
   },
   "outputs": [
    {
     "name": "stdout",
     "output_type": "stream",
     "text": [
      "<class 'pandas.core.frame.DataFrame'>\n",
      "RangeIndex: 50 entries, 0 to 49\n",
      "Data columns (total 4 columns):\n",
      " #   Column  Non-Null Count  Dtype \n",
      "---  ------  --------------  ----- \n",
      " 0   서비스업체   50 non-null     object\n",
      " 1   순위      50 non-null     int64 \n",
      " 2   제목      50 non-null     object\n",
      " 3   장소      50 non-null     object\n",
      "dtypes: int64(1), object(3)\n",
      "memory usage: 1.7+ KB\n"
     ]
    }
   ],
   "source": [
    "musical_rank.info()"
   ]
  },
  {
   "cell_type": "markdown",
   "metadata": {
    "id": "lfq86Ty8wMk0"
   },
   "source": [
    "## 데이터 정제하기"
   ]
  },
  {
   "cell_type": "code",
   "execution_count": 11,
   "metadata": {
    "id": "0EhIzm4vwMk1"
   },
   "outputs": [],
   "source": [
    "#순위로 인덱스 변경\n",
    "musical_rank.set_index('순위', inplace=True) "
   ]
  },
  {
   "cell_type": "code",
   "execution_count": 12,
   "metadata": {
    "colab": {
     "base_uri": "https://localhost:8080/",
     "height": 237
    },
    "id": "CNwuB5CdwMk1",
    "outputId": "686e407a-fb6d-4453-c90a-6ea6fa283f1d"
   },
   "outputs": [
    {
     "data": {
      "text/html": [
       "<div>\n",
       "<style scoped>\n",
       "    .dataframe tbody tr th:only-of-type {\n",
       "        vertical-align: middle;\n",
       "    }\n",
       "\n",
       "    .dataframe tbody tr th {\n",
       "        vertical-align: top;\n",
       "    }\n",
       "\n",
       "    .dataframe thead th {\n",
       "        text-align: right;\n",
       "    }\n",
       "</style>\n",
       "<table border=\"1\" class=\"dataframe\">\n",
       "  <thead>\n",
       "    <tr style=\"text-align: right;\">\n",
       "      <th></th>\n",
       "      <th>서비스업체</th>\n",
       "      <th>제목</th>\n",
       "      <th>장소</th>\n",
       "    </tr>\n",
       "    <tr>\n",
       "      <th>순위</th>\n",
       "      <th></th>\n",
       "      <th></th>\n",
       "      <th></th>\n",
       "    </tr>\n",
       "  </thead>\n",
       "  <tbody>\n",
       "    <tr>\n",
       "      <th>1</th>\n",
       "      <td>Interpark</td>\n",
       "      <td>태양의서커스〈뉴 알레그리아〉</td>\n",
       "      <td>잠실종합운동장 내 빅탑</td>\n",
       "    </tr>\n",
       "    <tr>\n",
       "      <th>2</th>\n",
       "      <td>Interpark</td>\n",
       "      <td>뮤지컬 〈킹키부츠〉</td>\n",
       "      <td>충무아트센터 대극장</td>\n",
       "    </tr>\n",
       "    <tr>\n",
       "      <th>3</th>\n",
       "      <td>Interpark</td>\n",
       "      <td>뮤지컬 〈엘리자벳〉 10주년 기념공연</td>\n",
       "      <td>블루스퀘어 신한카드홀</td>\n",
       "    </tr>\n",
       "    <tr>\n",
       "      <th>4</th>\n",
       "      <td>Interpark</td>\n",
       "      <td>뮤지컬 〈아이다〉</td>\n",
       "      <td>블루스퀘어 신한카드홀</td>\n",
       "    </tr>\n",
       "    <tr>\n",
       "      <th>5</th>\n",
       "      <td>Interpark</td>\n",
       "      <td>뮤지컬 〈마틸다〉</td>\n",
       "      <td>대성 디큐브아트센터</td>\n",
       "    </tr>\n",
       "  </tbody>\n",
       "</table>\n",
       "</div>"
      ],
      "text/plain": [
       "        서비스업체                    제목            장소\n",
       "순위                                               \n",
       "1   Interpark       태양의서커스〈뉴 알레그리아〉  잠실종합운동장 내 빅탑\n",
       "2   Interpark            뮤지컬 〈킹키부츠〉    충무아트센터 대극장\n",
       "3   Interpark  뮤지컬 〈엘리자벳〉 10주년 기념공연   블루스퀘어 신한카드홀\n",
       "4   Interpark             뮤지컬 〈아이다〉   블루스퀘어 신한카드홀\n",
       "5   Interpark             뮤지컬 〈마틸다〉    대성 디큐브아트센터"
      ]
     },
     "execution_count": 12,
     "metadata": {},
     "output_type": "execute_result"
    }
   ],
   "source": [
    "musical_rank.head()"
   ]
  },
  {
   "cell_type": "code",
   "execution_count": 13,
   "metadata": {
    "id": "TPLAcj-EwMk1"
   },
   "outputs": [],
   "source": [
    "#인터파크로 동일하니 서비스업체 삭제\n",
    "del musical_rank['서비스업체'] "
   ]
  },
  {
   "cell_type": "code",
   "execution_count": 14,
   "metadata": {
    "colab": {
     "base_uri": "https://localhost:8080/",
     "height": 237
    },
    "id": "vFgkBuRTwMk2",
    "outputId": "8739d1ac-a7b4-41aa-814e-a4f827d86463"
   },
   "outputs": [
    {
     "data": {
      "text/html": [
       "<div>\n",
       "<style scoped>\n",
       "    .dataframe tbody tr th:only-of-type {\n",
       "        vertical-align: middle;\n",
       "    }\n",
       "\n",
       "    .dataframe tbody tr th {\n",
       "        vertical-align: top;\n",
       "    }\n",
       "\n",
       "    .dataframe thead th {\n",
       "        text-align: right;\n",
       "    }\n",
       "</style>\n",
       "<table border=\"1\" class=\"dataframe\">\n",
       "  <thead>\n",
       "    <tr style=\"text-align: right;\">\n",
       "      <th></th>\n",
       "      <th>제목</th>\n",
       "      <th>장소</th>\n",
       "    </tr>\n",
       "    <tr>\n",
       "      <th>순위</th>\n",
       "      <th></th>\n",
       "      <th></th>\n",
       "    </tr>\n",
       "  </thead>\n",
       "  <tbody>\n",
       "    <tr>\n",
       "      <th>1</th>\n",
       "      <td>태양의서커스〈뉴 알레그리아〉</td>\n",
       "      <td>잠실종합운동장 내 빅탑</td>\n",
       "    </tr>\n",
       "    <tr>\n",
       "      <th>2</th>\n",
       "      <td>뮤지컬 〈킹키부츠〉</td>\n",
       "      <td>충무아트센터 대극장</td>\n",
       "    </tr>\n",
       "    <tr>\n",
       "      <th>3</th>\n",
       "      <td>뮤지컬 〈엘리자벳〉 10주년 기념공연</td>\n",
       "      <td>블루스퀘어 신한카드홀</td>\n",
       "    </tr>\n",
       "    <tr>\n",
       "      <th>4</th>\n",
       "      <td>뮤지컬 〈아이다〉</td>\n",
       "      <td>블루스퀘어 신한카드홀</td>\n",
       "    </tr>\n",
       "    <tr>\n",
       "      <th>5</th>\n",
       "      <td>뮤지컬 〈마틸다〉</td>\n",
       "      <td>대성 디큐브아트센터</td>\n",
       "    </tr>\n",
       "  </tbody>\n",
       "</table>\n",
       "</div>"
      ],
      "text/plain": [
       "                      제목            장소\n",
       "순위                                    \n",
       "1        태양의서커스〈뉴 알레그리아〉  잠실종합운동장 내 빅탑\n",
       "2             뮤지컬 〈킹키부츠〉    충무아트센터 대극장\n",
       "3   뮤지컬 〈엘리자벳〉 10주년 기념공연   블루스퀘어 신한카드홀\n",
       "4              뮤지컬 〈아이다〉   블루스퀘어 신한카드홀\n",
       "5              뮤지컬 〈마틸다〉    대성 디큐브아트센터"
      ]
     },
     "execution_count": 14,
     "metadata": {},
     "output_type": "execute_result"
    }
   ],
   "source": [
    "musical_rank.head()"
   ]
  },
  {
   "cell_type": "code",
   "execution_count": 15,
   "metadata": {
    "colab": {
     "base_uri": "https://localhost:8080/"
    },
    "id": "k_tp5xfjwMk2",
    "outputId": "ae9c75bb-2e05-412a-b3ea-1b39319c3d2c"
   },
   "outputs": [
    {
     "name": "stdout",
     "output_type": "stream",
     "text": [
      "<class 'pandas.core.frame.DataFrame'>\n",
      "Int64Index: 50 entries, 1 to 50\n",
      "Data columns (total 2 columns):\n",
      " #   Column  Non-Null Count  Dtype \n",
      "---  ------  --------------  ----- \n",
      " 0   제목      50 non-null     object\n",
      " 1   장소      50 non-null     object\n",
      "dtypes: object(2)\n",
      "memory usage: 1.2+ KB\n"
     ]
    }
   ],
   "source": [
    "musical_rank.info()"
   ]
  },
  {
   "cell_type": "markdown",
   "metadata": {
    "id": "0CGvMyFOyer7"
   },
   "source": [
    "### 공연이 가장 많이 열린 공연장"
   ]
  },
  {
   "cell_type": "code",
   "execution_count": 16,
   "metadata": {
    "colab": {
     "base_uri": "https://localhost:8080/"
    },
    "id": "YvYXhxoQwMk2",
    "outputId": "8d512e13-44ac-46ea-f3f8-ff7a4207a418"
   },
   "outputs": [
    {
     "data": {
      "text/plain": [
       "array(['잠실종합운동장 내 빅탑', '충무아트센터 대극장', '블루스퀘어 신한카드홀', '대성 디큐브아트센터',\n",
       "       '세종문화회관 대극장', '예술의전당 오페라극장', '샤롯데씨어터', '대학로 TOM(티오엠) 1관',\n",
       "       '대학로 유니플렉스 1관', '예술의전당 CJ 토월극장', '광림아트센터 BBCH홀', '대학로 유니플렉스 2관',\n",
       "       'LG아트센터 서울 LG SIGNATURE 홀', '두산아트센터 연강홀', 'coex 신한카드 artium',\n",
       "       '대학로 아트원씨어터 1관', '드림아트센터 1관', '대학로 자유극장', '부산 드림씨어터', 'LG아트센터',\n",
       "       '홍익대 대학로 아트센터 대극장', '예스24스테이지 2관', '와일드 와일드 전용관 (명보아트홀)'],\n",
       "      dtype=object)"
      ]
     },
     "execution_count": 16,
     "metadata": {},
     "output_type": "execute_result"
    }
   ],
   "source": [
    "musical_rank['장소'].unique()"
   ]
  },
  {
   "cell_type": "code",
   "execution_count": 17,
   "metadata": {
    "colab": {
     "base_uri": "https://localhost:8080/"
    },
    "id": "Xg2n5c6CO1Xa",
    "outputId": "67717da6-4db4-4d11-d050-50dc5d52ce2b"
   },
   "outputs": [
    {
     "data": {
      "text/plain": [
       "23"
      ]
     },
     "execution_count": 17,
     "metadata": {},
     "output_type": "execute_result"
    }
   ],
   "source": [
    "len(musical_rank['장소'].unique())"
   ]
  },
  {
   "cell_type": "code",
   "execution_count": 18,
   "metadata": {
    "colab": {
     "base_uri": "https://localhost:8080/"
    },
    "id": "5-erYoF9wMk2",
    "outputId": "a2b9dcb6-0f02-4463-a258-d8cbe6ca2cd9"
   },
   "outputs": [
    {
     "data": {
      "text/plain": [
       "array(['LG아트센터 서울 LG SIGNATURE 홀', 'LG아트센터'], dtype=object)"
      ]
     },
     "execution_count": 18,
     "metadata": {},
     "output_type": "execute_result"
    }
   ],
   "source": [
    "#LG아트센터가 다른 이름 이름으로 두 개 들어가있음\n",
    "musical_rank.loc[musical_rank['장소'].str.contains('LG'), '장소'].unique()"
   ]
  },
  {
   "cell_type": "code",
   "execution_count": 19,
   "metadata": {
    "id": "zCQKS0HC8tsb"
   },
   "outputs": [],
   "source": [
    "#LG아트센터로 변경\n",
    "musical_rank.loc[musical_rank['장소'].str.contains('LG'), '장소']='LG아트센터'"
   ]
  },
  {
   "cell_type": "code",
   "execution_count": 20,
   "metadata": {
    "colab": {
     "base_uri": "https://localhost:8080/"
    },
    "id": "7M85hh6b835i",
    "outputId": "ab5a624a-e5e4-401b-af8f-92429bb94419"
   },
   "outputs": [
    {
     "data": {
      "text/plain": [
       "array(['LG아트센터'], dtype=object)"
      ]
     },
     "execution_count": 20,
     "metadata": {},
     "output_type": "execute_result"
    }
   ],
   "source": [
    "musical_rank.loc[musical_rank['장소'].str.contains('LG'), '장소'].unique()"
   ]
  },
  {
   "cell_type": "code",
   "execution_count": 21,
   "metadata": {
    "colab": {
     "base_uri": "https://localhost:8080/"
    },
    "id": "Y5NzRT_jwMk3",
    "outputId": "4445ba43-481c-40c9-83a2-52afee91aece"
   },
   "outputs": [
    {
     "data": {
      "text/plain": [
       "22"
      ]
     },
     "execution_count": 21,
     "metadata": {},
     "output_type": "execute_result"
    }
   ],
   "source": [
    "len(musical_rank['장소'].unique())"
   ]
  },
  {
   "cell_type": "code",
   "execution_count": 22,
   "metadata": {
    "colab": {
     "base_uri": "https://localhost:8080/"
    },
    "id": "xzbJqtezwMk3",
    "outputId": "1dcb30e8-4180-45e1-a8f4-f1c82ac67527"
   },
   "outputs": [
    {
     "data": {
      "text/plain": [
       "블루스퀘어 신한카드홀            5\n",
       "충무아트센터 대극장             4\n",
       "샤롯데씨어터                 4\n",
       "홍익대 대학로 아트센터 대극장       3\n",
       "대성 디큐브아트센터             3\n",
       "예술의전당 오페라극장            3\n",
       "대학로 아트원씨어터 1관          3\n",
       "coex 신한카드 artium       3\n",
       "드림아트센터 1관              2\n",
       "두산아트센터 연강홀             2\n",
       "LG아트센터                 2\n",
       "대학로 유니플렉스 2관           2\n",
       "광림아트센터 BBCH홀           2\n",
       "대학로 유니플렉스 1관           2\n",
       "대학로 TOM(티오엠) 1관        2\n",
       "세종문화회관 대극장             2\n",
       "부산 드림씨어터               1\n",
       "예스24스테이지 2관            1\n",
       "잠실종합운동장 내 빅탑           1\n",
       "대학로 자유극장               1\n",
       "예술의전당 CJ 토월극장          1\n",
       "와일드 와일드 전용관 (명보아트홀)    1\n",
       "Name: 장소, dtype: int64"
      ]
     },
     "execution_count": 22,
     "metadata": {},
     "output_type": "execute_result"
    }
   ],
   "source": [
    "musical_rank['장소'].value_counts()"
   ]
  },
  {
   "cell_type": "code",
   "execution_count": 23,
   "metadata": {
    "colab": {
     "base_uri": "https://localhost:8080/"
    },
    "id": "0LwzoZ3rwMk3",
    "outputId": "26d6c07e-979c-424c-86e3-338e97c23e85"
   },
   "outputs": [
    {
     "data": {
      "text/plain": [
       "블루스퀘어 신한카드홀    5\n",
       "Name: 장소, dtype: int64"
      ]
     },
     "execution_count": 23,
     "metadata": {},
     "output_type": "execute_result"
    }
   ],
   "source": [
    "musical_rank['장소'].value_counts().head(1)"
   ]
  },
  {
   "cell_type": "markdown",
   "metadata": {
    "id": "22yfveKVcLXw"
   },
   "source": [
    "🥇인기 있는 뮤지컬이 선택한 가장 인기 있는 공연장🥇\n",
    "\n",
    "- 2022년 인기 뮤지컬 50개 중 가장 많은 공연이 열린 공연장은 **블루스퀘어 신한카드홀**\n",
    "- 50위 내의 공연 중 총 5개의 뮤지컬이 공연되었다.\n",
    "\n"
   ]
  },
  {
   "cell_type": "markdown",
   "metadata": {
    "id": "4oxGq-VBzMYe"
   },
   "source": [
    "## 구글 맵 API 사용 주소 찾기"
   ]
  },
  {
   "cell_type": "code",
   "execution_count": 24,
   "metadata": {
    "colab": {
     "base_uri": "https://localhost:8080/"
    },
    "id": "z2sNe7WgxdgK",
    "outputId": "241724db-3e7b-4e7e-a126-95328ca827d3"
   },
   "outputs": [
    {
     "name": "stdout",
     "output_type": "stream",
     "text": [
      "Requirement already satisfied: googlemaps in c:\\users\\sbauser\\anaconda3\\lib\\site-packages (4.10.0)\n",
      "Requirement already satisfied: requests<3.0,>=2.20.0 in c:\\users\\sbauser\\anaconda3\\lib\\site-packages (from googlemaps) (2.28.1)\n",
      "Requirement already satisfied: idna<4,>=2.5 in c:\\users\\sbauser\\anaconda3\\lib\\site-packages (from requests<3.0,>=2.20.0->googlemaps) (3.3)\n",
      "Requirement already satisfied: certifi>=2017.4.17 in c:\\users\\sbauser\\anaconda3\\lib\\site-packages (from requests<3.0,>=2.20.0->googlemaps) (2022.9.14)\n",
      "Requirement already satisfied: urllib3<1.27,>=1.21.1 in c:\\users\\sbauser\\anaconda3\\lib\\site-packages (from requests<3.0,>=2.20.0->googlemaps) (1.26.11)\n",
      "Requirement already satisfied: charset-normalizer<3,>=2 in c:\\users\\sbauser\\anaconda3\\lib\\site-packages (from requests<3.0,>=2.20.0->googlemaps) (2.0.4)\n",
      "Note: you may need to restart the kernel to use updated packages.\n"
     ]
    },
    {
     "name": "stderr",
     "output_type": "stream",
     "text": [
      "WARNING: Ignoring invalid distribution -pype1 (c:\\users\\sbauser\\anaconda3\\lib\\site-packages)\n",
      "WARNING: Ignoring invalid distribution -pype1 (c:\\users\\sbauser\\anaconda3\\lib\\site-packages)\n",
      "WARNING: Ignoring invalid distribution -pype1 (c:\\users\\sbauser\\anaconda3\\lib\\site-packages)\n",
      "WARNING: Ignoring invalid distribution -pype1 (c:\\users\\sbauser\\anaconda3\\lib\\site-packages)\n",
      "WARNING: Ignoring invalid distribution -pype1 (c:\\users\\sbauser\\anaconda3\\lib\\site-packages)\n",
      "WARNING: Ignoring invalid distribution -pype1 (c:\\users\\sbauser\\anaconda3\\lib\\site-packages)\n"
     ]
    }
   ],
   "source": [
    "pip install googlemaps"
   ]
  },
  {
   "cell_type": "code",
   "execution_count": 25,
   "metadata": {
    "id": "J8Jrua2XwMk4"
   },
   "outputs": [],
   "source": [
    "import googlemaps"
   ]
  },
  {
   "cell_type": "code",
   "execution_count": 26,
   "metadata": {
    "id": "qf05jdEmxh8q"
   },
   "outputs": [],
   "source": [
    "gmaps_key = \"예빈 API 주소가 들어간 자리\"\n",
    "gmaps = googlemaps.Client(key=gmaps_key)"
   ]
  },
  {
   "cell_type": "code",
   "execution_count": 27,
   "metadata": {
    "colab": {
     "base_uri": "https://localhost:8080/"
    },
    "id": "HbaVWVWKxh1f",
    "outputId": "daa21be2-775c-4fe7-8057-22bd08edda87"
   },
   "outputs": [
    {
     "data": {
      "text/plain": [
       "[{'address_components': [{'long_name': '294',\n",
       "    'short_name': '294',\n",
       "    'types': ['premise']},\n",
       "   {'long_name': '이태원로',\n",
       "    'short_name': '이태원로',\n",
       "    'types': ['political', 'sublocality', 'sublocality_level_4']},\n",
       "   {'long_name': '한남동',\n",
       "    'short_name': '한남동',\n",
       "    'types': ['political', 'sublocality', 'sublocality_level_2']},\n",
       "   {'long_name': '용산구',\n",
       "    'short_name': '용산구',\n",
       "    'types': ['political', 'sublocality', 'sublocality_level_1']},\n",
       "   {'long_name': '서울특별시',\n",
       "    'short_name': '서울특별시',\n",
       "    'types': ['administrative_area_level_1', 'political']},\n",
       "   {'long_name': '대한민국',\n",
       "    'short_name': 'KR',\n",
       "    'types': ['country', 'political']},\n",
       "   {'long_name': '04399', 'short_name': '04399', 'types': ['postal_code']}],\n",
       "  'formatted_address': '대한민국 서울특별시 용산구 한남동 이태원로 294',\n",
       "  'geometry': {'location': {'lat': 37.5408808, 'lng': 127.0024461},\n",
       "   'location_type': 'ROOFTOP',\n",
       "   'viewport': {'northeast': {'lat': 37.54222978029149,\n",
       "     'lng': 127.0037950802915},\n",
       "    'southwest': {'lat': 37.53953181970849, 'lng': 127.0010971197085}}},\n",
       "  'partial_match': True,\n",
       "  'place_id': 'ChIJR8d8dq6jfDURcXHKocdhmvM',\n",
       "  'plus_code': {'compound_code': 'G2R2+9X 대한민국 서울특별시',\n",
       "   'global_code': '8Q99G2R2+9X'},\n",
       "  'types': ['establishment', 'point_of_interest']}]"
      ]
     },
     "execution_count": 27,
     "metadata": {},
     "output_type": "execute_result"
    }
   ],
   "source": [
    "gmaps.geocode(\"블루스퀘어 신한카드홀\", language='ko')"
   ]
  },
  {
   "cell_type": "code",
   "execution_count": 28,
   "metadata": {
    "colab": {
     "base_uri": "https://localhost:8080/"
    },
    "id": "qnPTGQ8-xhwt",
    "outputId": "3e948f51-7fe4-498e-b56d-97629fecce3d"
   },
   "outputs": [
    {
     "data": {
      "text/plain": [
       "1"
      ]
     },
     "execution_count": 28,
     "metadata": {},
     "output_type": "execute_result"
    }
   ],
   "source": [
    "tmp = gmaps.geocode(\"블루스퀘어 신한카드홀\", language='ko')\n",
    "len(tmp)"
   ]
  },
  {
   "cell_type": "code",
   "execution_count": 29,
   "metadata": {
    "colab": {
     "base_uri": "https://localhost:8080/"
    },
    "id": "Rc-go7d1xhr8",
    "outputId": "6527b37c-8111-41b2-c190-df8fae3f0272"
   },
   "outputs": [
    {
     "data": {
      "text/plain": [
       "{'address_components': [{'long_name': '294',\n",
       "   'short_name': '294',\n",
       "   'types': ['premise']},\n",
       "  {'long_name': '이태원로',\n",
       "   'short_name': '이태원로',\n",
       "   'types': ['political', 'sublocality', 'sublocality_level_4']},\n",
       "  {'long_name': '한남동',\n",
       "   'short_name': '한남동',\n",
       "   'types': ['political', 'sublocality', 'sublocality_level_2']},\n",
       "  {'long_name': '용산구',\n",
       "   'short_name': '용산구',\n",
       "   'types': ['political', 'sublocality', 'sublocality_level_1']},\n",
       "  {'long_name': '서울특별시',\n",
       "   'short_name': '서울특별시',\n",
       "   'types': ['administrative_area_level_1', 'political']},\n",
       "  {'long_name': '대한민국', 'short_name': 'KR', 'types': ['country', 'political']},\n",
       "  {'long_name': '04399', 'short_name': '04399', 'types': ['postal_code']}],\n",
       " 'formatted_address': '대한민국 서울특별시 용산구 한남동 이태원로 294',\n",
       " 'geometry': {'location': {'lat': 37.5408808, 'lng': 127.0024461},\n",
       "  'location_type': 'ROOFTOP',\n",
       "  'viewport': {'northeast': {'lat': 37.54222978029149,\n",
       "    'lng': 127.0037950802915},\n",
       "   'southwest': {'lat': 37.53953181970849, 'lng': 127.0010971197085}}},\n",
       " 'partial_match': True,\n",
       " 'place_id': 'ChIJR8d8dq6jfDURcXHKocdhmvM',\n",
       " 'plus_code': {'compound_code': 'G2R2+9X 대한민국 서울특별시',\n",
       "  'global_code': '8Q99G2R2+9X'},\n",
       " 'types': ['establishment', 'point_of_interest']}"
      ]
     },
     "execution_count": 29,
     "metadata": {},
     "output_type": "execute_result"
    }
   ],
   "source": [
    "tmp[0]"
   ]
  },
  {
   "cell_type": "code",
   "execution_count": 30,
   "metadata": {
    "colab": {
     "base_uri": "https://localhost:8080/"
    },
    "id": "uVziTpdXxhi6",
    "outputId": "7823e380-aa19-477e-93e6-4022814f826c"
   },
   "outputs": [
    {
     "data": {
      "text/plain": [
       "{'location': {'lat': 37.5408808, 'lng': 127.0024461},\n",
       " 'location_type': 'ROOFTOP',\n",
       " 'viewport': {'northeast': {'lat': 37.54222978029149,\n",
       "   'lng': 127.0037950802915},\n",
       "  'southwest': {'lat': 37.53953181970849, 'lng': 127.0010971197085}}}"
      ]
     },
     "execution_count": 30,
     "metadata": {},
     "output_type": "execute_result"
    }
   ],
   "source": [
    "tmp[0].get('geometry')"
   ]
  },
  {
   "cell_type": "code",
   "execution_count": 31,
   "metadata": {
    "colab": {
     "base_uri": "https://localhost:8080/"
    },
    "id": "P9Q1ueWvxhVS",
    "outputId": "91187fa3-cf4c-41a6-f311-7cfe0567de9c"
   },
   "outputs": [
    {
     "data": {
      "text/plain": [
       "dict"
      ]
     },
     "execution_count": 31,
     "metadata": {},
     "output_type": "execute_result"
    }
   ],
   "source": [
    "type(tmp[0].get('geometry'))"
   ]
  },
  {
   "cell_type": "code",
   "execution_count": 32,
   "metadata": {
    "colab": {
     "base_uri": "https://localhost:8080/"
    },
    "id": "kzLwxS47x05T",
    "outputId": "f797c6ec-09e6-4670-e774-8e96399999e8"
   },
   "outputs": [
    {
     "data": {
      "text/plain": [
       "{'lat': 37.5408808, 'lng': 127.0024461}"
      ]
     },
     "execution_count": 32,
     "metadata": {},
     "output_type": "execute_result"
    }
   ],
   "source": [
    "tmp[0].get('geometry')['location']"
   ]
  },
  {
   "cell_type": "code",
   "execution_count": 33,
   "metadata": {
    "colab": {
     "base_uri": "https://localhost:8080/"
    },
    "id": "_2uISoREx003",
    "outputId": "79a7b284-e2f2-4e7e-c04a-2a549d94e004"
   },
   "outputs": [
    {
     "data": {
      "text/plain": [
       "37.5408808"
      ]
     },
     "execution_count": 33,
     "metadata": {},
     "output_type": "execute_result"
    }
   ],
   "source": [
    "#위도\n",
    "tmp[0].get('geometry')['location']['lat']"
   ]
  },
  {
   "cell_type": "code",
   "execution_count": 34,
   "metadata": {
    "colab": {
     "base_uri": "https://localhost:8080/"
    },
    "id": "1Qkc449Xx0yg",
    "outputId": "508d71c9-1f43-46b5-958c-ed215052feeb"
   },
   "outputs": [
    {
     "data": {
      "text/plain": [
       "127.0024461"
      ]
     },
     "execution_count": 34,
     "metadata": {},
     "output_type": "execute_result"
    }
   ],
   "source": [
    "#경도\n",
    "tmp[0].get('geometry')['location']['lng']"
   ]
  },
  {
   "cell_type": "code",
   "execution_count": 35,
   "metadata": {
    "colab": {
     "base_uri": "https://localhost:8080/",
     "height": 35
    },
    "id": "NS8SQYC6x0wG",
    "outputId": "006cf5d2-dac9-4fad-caa2-58003a501482"
   },
   "outputs": [
    {
     "data": {
      "text/plain": [
       "'대한민국 서울특별시 용산구 한남동 이태원로 294'"
      ]
     },
     "execution_count": 35,
     "metadata": {},
     "output_type": "execute_result"
    }
   ],
   "source": [
    "tmp[0].get('formatted_address')"
   ]
  },
  {
   "cell_type": "code",
   "execution_count": 36,
   "metadata": {
    "colab": {
     "base_uri": "https://localhost:8080/"
    },
    "id": "4FKnDdcqx0tr",
    "outputId": "9c3a8986-dbff-4445-fc32-d3a314dc2643"
   },
   "outputs": [
    {
     "data": {
      "text/plain": [
       "['대한민국', '서울특별시', '용산구', '한남동', '이태원로', '294']"
      ]
     },
     "execution_count": 36,
     "metadata": {},
     "output_type": "execute_result"
    }
   ],
   "source": [
    "tmp[0].get('formatted_address').split()"
   ]
  },
  {
   "cell_type": "code",
   "execution_count": 37,
   "metadata": {
    "colab": {
     "base_uri": "https://localhost:8080/",
     "height": 35
    },
    "id": "CANNxc_cx0oQ",
    "outputId": "63d141e6-1dac-497a-ee7f-24137f2c7345"
   },
   "outputs": [
    {
     "data": {
      "text/plain": [
       "'용산구'"
      ]
     },
     "execution_count": 37,
     "metadata": {},
     "output_type": "execute_result"
    }
   ],
   "source": [
    "tmp[0].get('formatted_address').split()[2]"
   ]
  },
  {
   "cell_type": "markdown",
   "metadata": {
    "id": "7deYby0tzZfS"
   },
   "source": [
    "## folium 지도 시각화"
   ]
  },
  {
   "cell_type": "code",
   "execution_count": 38,
   "metadata": {
    "colab": {
     "base_uri": "https://localhost:8080/"
    },
    "id": "twb0_hg_wMk4",
    "outputId": "09be23a6-9454-4d37-d197-eae540879a26"
   },
   "outputs": [
    {
     "name": "stdout",
     "output_type": "stream",
     "text": [
      "Requirement already satisfied: folium in c:\\users\\sbauser\\anaconda3\\lib\\site-packages (0.14.0)\n",
      "Requirement already satisfied: branca>=0.6.0 in c:\\users\\sbauser\\anaconda3\\lib\\site-packages (from folium) (0.6.0)\n",
      "Requirement already satisfied: numpy in c:\\users\\sbauser\\anaconda3\\lib\\site-packages (from folium) (1.21.5)\n",
      "Requirement already satisfied: requests in c:\\users\\sbauser\\anaconda3\\lib\\site-packages (from folium) (2.28.1)\n",
      "Requirement already satisfied: jinja2>=2.9 in c:\\users\\sbauser\\anaconda3\\lib\\site-packages (from folium) (2.11.3)\n",
      "Requirement already satisfied: MarkupSafe>=0.23 in c:\\users\\sbauser\\anaconda3\\lib\\site-packages (from jinja2>=2.9->folium) (2.0.1)\n",
      "Requirement already satisfied: urllib3<1.27,>=1.21.1 in c:\\users\\sbauser\\anaconda3\\lib\\site-packages (from requests->folium) (1.26.11)\n",
      "Requirement already satisfied: charset-normalizer<3,>=2 in c:\\users\\sbauser\\anaconda3\\lib\\site-packages (from requests->folium) (2.0.4)\n",
      "Requirement already satisfied: idna<4,>=2.5 in c:\\users\\sbauser\\anaconda3\\lib\\site-packages (from requests->folium) (3.3)\n",
      "Requirement already satisfied: certifi>=2017.4.17 in c:\\users\\sbauser\\anaconda3\\lib\\site-packages (from requests->folium) (2022.9.14)\n"
     ]
    },
    {
     "name": "stderr",
     "output_type": "stream",
     "text": [
      "WARNING: Ignoring invalid distribution -pype1 (c:\\users\\sbauser\\anaconda3\\lib\\site-packages)\n",
      "WARNING: Ignoring invalid distribution -pype1 (c:\\users\\sbauser\\anaconda3\\lib\\site-packages)\n",
      "WARNING: Ignoring invalid distribution -pype1 (c:\\users\\sbauser\\anaconda3\\lib\\site-packages)\n",
      "WARNING: Ignoring invalid distribution -pype1 (c:\\users\\sbauser\\anaconda3\\lib\\site-packages)\n",
      "WARNING: Ignoring invalid distribution -pype1 (c:\\users\\sbauser\\anaconda3\\lib\\site-packages)\n",
      "WARNING: Ignoring invalid distribution -pype1 (c:\\users\\sbauser\\anaconda3\\lib\\site-packages)\n"
     ]
    }
   ],
   "source": [
    "!pip install folium"
   ]
  },
  {
   "cell_type": "code",
   "execution_count": 39,
   "metadata": {
    "id": "GkYKJevBwMk4"
   },
   "outputs": [],
   "source": [
    "import folium"
   ]
  },
  {
   "cell_type": "code",
   "execution_count": 40,
   "metadata": {
    "colab": {
     "base_uri": "https://localhost:8080/",
     "height": 394
    },
    "id": "jJtPPp2Kx0fD",
    "outputId": "0462ac84-985f-46c6-d34c-aabb56de3ff2"
   },
   "outputs": [
    {
     "data": {
      "text/html": [
       "<div style=\"width:100%;\"><div style=\"position:relative;width:100%;height:0;padding-bottom:60%;\"><span style=\"color:#565656\">Make this Notebook Trusted to load map: File -> Trust Notebook</span><iframe srcdoc=\"&lt;!DOCTYPE html&gt;\n",
       "&lt;html&gt;\n",
       "&lt;head&gt;\n",
       "    \n",
       "    &lt;meta http-equiv=&quot;content-type&quot; content=&quot;text/html; charset=UTF-8&quot; /&gt;\n",
       "    \n",
       "        &lt;script&gt;\n",
       "            L_NO_TOUCH = false;\n",
       "            L_DISABLE_3D = false;\n",
       "        &lt;/script&gt;\n",
       "    \n",
       "    &lt;style&gt;html, body {width: 100%;height: 100%;margin: 0;padding: 0;}&lt;/style&gt;\n",
       "    &lt;style&gt;#map {position:absolute;top:0;bottom:0;right:0;left:0;}&lt;/style&gt;\n",
       "    &lt;script src=&quot;https://cdn.jsdelivr.net/npm/leaflet@1.9.3/dist/leaflet.js&quot;&gt;&lt;/script&gt;\n",
       "    &lt;script src=&quot;https://code.jquery.com/jquery-1.12.4.min.js&quot;&gt;&lt;/script&gt;\n",
       "    &lt;script src=&quot;https://cdn.jsdelivr.net/npm/bootstrap@5.2.2/dist/js/bootstrap.bundle.min.js&quot;&gt;&lt;/script&gt;\n",
       "    &lt;script src=&quot;https://cdnjs.cloudflare.com/ajax/libs/Leaflet.awesome-markers/2.0.2/leaflet.awesome-markers.js&quot;&gt;&lt;/script&gt;\n",
       "    &lt;link rel=&quot;stylesheet&quot; href=&quot;https://cdn.jsdelivr.net/npm/leaflet@1.9.3/dist/leaflet.css&quot;/&gt;\n",
       "    &lt;link rel=&quot;stylesheet&quot; href=&quot;https://cdn.jsdelivr.net/npm/bootstrap@5.2.2/dist/css/bootstrap.min.css&quot;/&gt;\n",
       "    &lt;link rel=&quot;stylesheet&quot; href=&quot;https://netdna.bootstrapcdn.com/bootstrap/3.0.0/css/bootstrap.min.css&quot;/&gt;\n",
       "    &lt;link rel=&quot;stylesheet&quot; href=&quot;https://cdn.jsdelivr.net/npm/@fortawesome/fontawesome-free@6.2.0/css/all.min.css&quot;/&gt;\n",
       "    &lt;link rel=&quot;stylesheet&quot; href=&quot;https://cdnjs.cloudflare.com/ajax/libs/Leaflet.awesome-markers/2.0.2/leaflet.awesome-markers.css&quot;/&gt;\n",
       "    &lt;link rel=&quot;stylesheet&quot; href=&quot;https://cdn.jsdelivr.net/gh/python-visualization/folium/folium/templates/leaflet.awesome.rotate.min.css&quot;/&gt;\n",
       "    \n",
       "            &lt;meta name=&quot;viewport&quot; content=&quot;width=device-width,\n",
       "                initial-scale=1.0, maximum-scale=1.0, user-scalable=no&quot; /&gt;\n",
       "            &lt;style&gt;\n",
       "                #map_c72a17e0f128ed4f45f9089ad5d9ac96 {\n",
       "                    position: relative;\n",
       "                    width: 750.0px;\n",
       "                    height: 500.0px;\n",
       "                    left: 0.0%;\n",
       "                    top: 0.0%;\n",
       "                }\n",
       "                .leaflet-container { font-size: 1rem; }\n",
       "            &lt;/style&gt;\n",
       "        \n",
       "&lt;/head&gt;\n",
       "&lt;body&gt;\n",
       "    \n",
       "    \n",
       "            &lt;div class=&quot;folium-map&quot; id=&quot;map_c72a17e0f128ed4f45f9089ad5d9ac96&quot; &gt;&lt;/div&gt;\n",
       "        \n",
       "&lt;/body&gt;\n",
       "&lt;script&gt;\n",
       "    \n",
       "    \n",
       "            var map_c72a17e0f128ed4f45f9089ad5d9ac96 = L.map(\n",
       "                &quot;map_c72a17e0f128ed4f45f9089ad5d9ac96&quot;,\n",
       "                {\n",
       "                    center: [37.5408808, 127.0024461],\n",
       "                    crs: L.CRS.EPSG3857,\n",
       "                    zoom: 17,\n",
       "                    zoomControl: true,\n",
       "                    preferCanvas: false,\n",
       "                }\n",
       "            );\n",
       "\n",
       "            \n",
       "\n",
       "        \n",
       "    \n",
       "            var tile_layer_9fcfaab0bbdee7be0336a0fe4b254548 = L.tileLayer(\n",
       "                &quot;https://{s}.tile.openstreetmap.org/{z}/{x}/{y}.png&quot;,\n",
       "                {&quot;attribution&quot;: &quot;Data by \\u0026copy; \\u003ca target=\\&quot;_blank\\&quot; href=\\&quot;http://openstreetmap.org\\&quot;\\u003eOpenStreetMap\\u003c/a\\u003e, under \\u003ca target=\\&quot;_blank\\&quot; href=\\&quot;http://www.openstreetmap.org/copyright\\&quot;\\u003eODbL\\u003c/a\\u003e.&quot;, &quot;detectRetina&quot;: false, &quot;maxNativeZoom&quot;: 18, &quot;maxZoom&quot;: 18, &quot;minZoom&quot;: 0, &quot;noWrap&quot;: false, &quot;opacity&quot;: 1, &quot;subdomains&quot;: &quot;abc&quot;, &quot;tms&quot;: false}\n",
       "            ).addTo(map_c72a17e0f128ed4f45f9089ad5d9ac96);\n",
       "        \n",
       "&lt;/script&gt;\n",
       "&lt;/html&gt;\" style=\"position:absolute;width:100%;height:100%;left:0;top:0;border:none !important;\" allowfullscreen webkitallowfullscreen mozallowfullscreen></iframe></div></div>"
      ],
      "text/plain": [
       "<folium.folium.Map at 0x2e6dc48eeb0>"
      ]
     },
     "execution_count": 40,
     "metadata": {},
     "output_type": "execute_result"
    }
   ],
   "source": [
    "rank1_loc = folium.Map(location=[37.5408808, 127.0024461],\n",
    "               zoom_start=17, \n",
    "               width=750, \n",
    "               height=500\n",
    "              )\n",
    "rank1_loc"
   ]
  },
  {
   "cell_type": "code",
   "execution_count": 41,
   "metadata": {
    "colab": {
     "base_uri": "https://localhost:8080/",
     "height": 394
    },
    "id": "6StoYBbfzomL",
    "outputId": "78099906-c02a-4e11-b548-5bbfe709c6cb",
    "scrolled": false
   },
   "outputs": [
    {
     "data": {
      "text/html": [
       "<div style=\"width:100%;\"><div style=\"position:relative;width:100%;height:0;padding-bottom:60%;\"><span style=\"color:#565656\">Make this Notebook Trusted to load map: File -> Trust Notebook</span><iframe srcdoc=\"&lt;!DOCTYPE html&gt;\n",
       "&lt;html&gt;\n",
       "&lt;head&gt;\n",
       "    \n",
       "    &lt;meta http-equiv=&quot;content-type&quot; content=&quot;text/html; charset=UTF-8&quot; /&gt;\n",
       "    \n",
       "        &lt;script&gt;\n",
       "            L_NO_TOUCH = false;\n",
       "            L_DISABLE_3D = false;\n",
       "        &lt;/script&gt;\n",
       "    \n",
       "    &lt;style&gt;html, body {width: 100%;height: 100%;margin: 0;padding: 0;}&lt;/style&gt;\n",
       "    &lt;style&gt;#map {position:absolute;top:0;bottom:0;right:0;left:0;}&lt;/style&gt;\n",
       "    &lt;script src=&quot;https://cdn.jsdelivr.net/npm/leaflet@1.9.3/dist/leaflet.js&quot;&gt;&lt;/script&gt;\n",
       "    &lt;script src=&quot;https://code.jquery.com/jquery-1.12.4.min.js&quot;&gt;&lt;/script&gt;\n",
       "    &lt;script src=&quot;https://cdn.jsdelivr.net/npm/bootstrap@5.2.2/dist/js/bootstrap.bundle.min.js&quot;&gt;&lt;/script&gt;\n",
       "    &lt;script src=&quot;https://cdnjs.cloudflare.com/ajax/libs/Leaflet.awesome-markers/2.0.2/leaflet.awesome-markers.js&quot;&gt;&lt;/script&gt;\n",
       "    &lt;link rel=&quot;stylesheet&quot; href=&quot;https://cdn.jsdelivr.net/npm/leaflet@1.9.3/dist/leaflet.css&quot;/&gt;\n",
       "    &lt;link rel=&quot;stylesheet&quot; href=&quot;https://cdn.jsdelivr.net/npm/bootstrap@5.2.2/dist/css/bootstrap.min.css&quot;/&gt;\n",
       "    &lt;link rel=&quot;stylesheet&quot; href=&quot;https://netdna.bootstrapcdn.com/bootstrap/3.0.0/css/bootstrap.min.css&quot;/&gt;\n",
       "    &lt;link rel=&quot;stylesheet&quot; href=&quot;https://cdn.jsdelivr.net/npm/@fortawesome/fontawesome-free@6.2.0/css/all.min.css&quot;/&gt;\n",
       "    &lt;link rel=&quot;stylesheet&quot; href=&quot;https://cdnjs.cloudflare.com/ajax/libs/Leaflet.awesome-markers/2.0.2/leaflet.awesome-markers.css&quot;/&gt;\n",
       "    &lt;link rel=&quot;stylesheet&quot; href=&quot;https://cdn.jsdelivr.net/gh/python-visualization/folium/folium/templates/leaflet.awesome.rotate.min.css&quot;/&gt;\n",
       "    \n",
       "            &lt;meta name=&quot;viewport&quot; content=&quot;width=device-width,\n",
       "                initial-scale=1.0, maximum-scale=1.0, user-scalable=no&quot; /&gt;\n",
       "            &lt;style&gt;\n",
       "                #map_c72a17e0f128ed4f45f9089ad5d9ac96 {\n",
       "                    position: relative;\n",
       "                    width: 750.0px;\n",
       "                    height: 500.0px;\n",
       "                    left: 0.0%;\n",
       "                    top: 0.0%;\n",
       "                }\n",
       "                .leaflet-container { font-size: 1rem; }\n",
       "            &lt;/style&gt;\n",
       "        \n",
       "&lt;/head&gt;\n",
       "&lt;body&gt;\n",
       "    \n",
       "    \n",
       "            &lt;div class=&quot;folium-map&quot; id=&quot;map_c72a17e0f128ed4f45f9089ad5d9ac96&quot; &gt;&lt;/div&gt;\n",
       "        \n",
       "&lt;/body&gt;\n",
       "&lt;script&gt;\n",
       "    \n",
       "    \n",
       "            var map_c72a17e0f128ed4f45f9089ad5d9ac96 = L.map(\n",
       "                &quot;map_c72a17e0f128ed4f45f9089ad5d9ac96&quot;,\n",
       "                {\n",
       "                    center: [37.5408808, 127.0024461],\n",
       "                    crs: L.CRS.EPSG3857,\n",
       "                    zoom: 17,\n",
       "                    zoomControl: true,\n",
       "                    preferCanvas: false,\n",
       "                }\n",
       "            );\n",
       "\n",
       "            \n",
       "\n",
       "        \n",
       "    \n",
       "            var tile_layer_9fcfaab0bbdee7be0336a0fe4b254548 = L.tileLayer(\n",
       "                &quot;https://{s}.tile.openstreetmap.org/{z}/{x}/{y}.png&quot;,\n",
       "                {&quot;attribution&quot;: &quot;Data by \\u0026copy; \\u003ca target=\\&quot;_blank\\&quot; href=\\&quot;http://openstreetmap.org\\&quot;\\u003eOpenStreetMap\\u003c/a\\u003e, under \\u003ca target=\\&quot;_blank\\&quot; href=\\&quot;http://www.openstreetmap.org/copyright\\&quot;\\u003eODbL\\u003c/a\\u003e.&quot;, &quot;detectRetina&quot;: false, &quot;maxNativeZoom&quot;: 18, &quot;maxZoom&quot;: 18, &quot;minZoom&quot;: 0, &quot;noWrap&quot;: false, &quot;opacity&quot;: 1, &quot;subdomains&quot;: &quot;abc&quot;, &quot;tms&quot;: false}\n",
       "            ).addTo(map_c72a17e0f128ed4f45f9089ad5d9ac96);\n",
       "        \n",
       "    \n",
       "            var marker_70a64c6171c8de276e5047951b412bcb = L.marker(\n",
       "                [37.5408808, 127.0024461],\n",
       "                {}\n",
       "            ).addTo(map_c72a17e0f128ed4f45f9089ad5d9ac96);\n",
       "        \n",
       "    \n",
       "        var popup_1bea27111e3ecb086fde180fac71e0a7 = L.popup({&quot;maxWidth&quot;: &quot;100%&quot;});\n",
       "\n",
       "        \n",
       "            \n",
       "                var html_fc8d1b8c06c128df6b421ae86bc5e7bb = $(`&lt;div id=&quot;html_fc8d1b8c06c128df6b421ae86bc5e7bb&quot; style=&quot;width: 100.0%; height: 100.0%;&quot;&gt;블루스퀘어&lt;/div&gt;`)[0];\n",
       "                popup_1bea27111e3ecb086fde180fac71e0a7.setContent(html_fc8d1b8c06c128df6b421ae86bc5e7bb);\n",
       "            \n",
       "        \n",
       "\n",
       "        marker_70a64c6171c8de276e5047951b412bcb.bindPopup(popup_1bea27111e3ecb086fde180fac71e0a7)\n",
       "        ;\n",
       "\n",
       "        \n",
       "    \n",
       "    \n",
       "            marker_70a64c6171c8de276e5047951b412bcb.bindTooltip(\n",
       "                `&lt;div&gt;\n",
       "                     블루스퀘어 신한카드홀\n",
       "                 &lt;/div&gt;`,\n",
       "                {&quot;sticky&quot;: true}\n",
       "            );\n",
       "        \n",
       "&lt;/script&gt;\n",
       "&lt;/html&gt;\" style=\"position:absolute;width:100%;height:100%;left:0;top:0;border:none !important;\" allowfullscreen webkitallowfullscreen mozallowfullscreen></iframe></div></div>"
      ],
      "text/plain": [
       "<folium.folium.Map at 0x2e6dc48eeb0>"
      ]
     },
     "execution_count": 41,
     "metadata": {},
     "output_type": "execute_result"
    }
   ],
   "source": [
    "#마커 추가\n",
    "folium.Marker([37.5408808, 127.0024461],\n",
    "              popup=\"블루스퀘어\",\n",
    "              tooltip=\"블루스퀘어 신한카드홀\").add_to(rank1_loc)\n",
    "rank1_loc"
   ]
  },
  {
   "cell_type": "markdown",
   "metadata": {
    "id": "s3uDGk9rwMlA"
   },
   "source": [
    "## 데이터에 주소 컬럼 추가하기\n",
    "주소 시도 구별 컬럼"
   ]
  },
  {
   "cell_type": "code",
   "execution_count": 42,
   "metadata": {
    "colab": {
     "base_uri": "https://localhost:8080/",
     "height": 237
    },
    "id": "RhG8IExnwMlA",
    "outputId": "bc996263-fc5f-405b-8ffc-7d69e36e6929"
   },
   "outputs": [
    {
     "data": {
      "text/html": [
       "<div>\n",
       "<style scoped>\n",
       "    .dataframe tbody tr th:only-of-type {\n",
       "        vertical-align: middle;\n",
       "    }\n",
       "\n",
       "    .dataframe tbody tr th {\n",
       "        vertical-align: top;\n",
       "    }\n",
       "\n",
       "    .dataframe thead th {\n",
       "        text-align: right;\n",
       "    }\n",
       "</style>\n",
       "<table border=\"1\" class=\"dataframe\">\n",
       "  <thead>\n",
       "    <tr style=\"text-align: right;\">\n",
       "      <th></th>\n",
       "      <th>제목</th>\n",
       "      <th>장소</th>\n",
       "    </tr>\n",
       "    <tr>\n",
       "      <th>순위</th>\n",
       "      <th></th>\n",
       "      <th></th>\n",
       "    </tr>\n",
       "  </thead>\n",
       "  <tbody>\n",
       "    <tr>\n",
       "      <th>1</th>\n",
       "      <td>태양의서커스〈뉴 알레그리아〉</td>\n",
       "      <td>잠실종합운동장 내 빅탑</td>\n",
       "    </tr>\n",
       "    <tr>\n",
       "      <th>2</th>\n",
       "      <td>뮤지컬 〈킹키부츠〉</td>\n",
       "      <td>충무아트센터 대극장</td>\n",
       "    </tr>\n",
       "    <tr>\n",
       "      <th>3</th>\n",
       "      <td>뮤지컬 〈엘리자벳〉 10주년 기념공연</td>\n",
       "      <td>블루스퀘어 신한카드홀</td>\n",
       "    </tr>\n",
       "    <tr>\n",
       "      <th>4</th>\n",
       "      <td>뮤지컬 〈아이다〉</td>\n",
       "      <td>블루스퀘어 신한카드홀</td>\n",
       "    </tr>\n",
       "    <tr>\n",
       "      <th>5</th>\n",
       "      <td>뮤지컬 〈마틸다〉</td>\n",
       "      <td>대성 디큐브아트센터</td>\n",
       "    </tr>\n",
       "  </tbody>\n",
       "</table>\n",
       "</div>"
      ],
      "text/plain": [
       "                      제목            장소\n",
       "순위                                    \n",
       "1        태양의서커스〈뉴 알레그리아〉  잠실종합운동장 내 빅탑\n",
       "2             뮤지컬 〈킹키부츠〉    충무아트센터 대극장\n",
       "3   뮤지컬 〈엘리자벳〉 10주년 기념공연   블루스퀘어 신한카드홀\n",
       "4              뮤지컬 〈아이다〉   블루스퀘어 신한카드홀\n",
       "5              뮤지컬 〈마틸다〉    대성 디큐브아트센터"
      ]
     },
     "execution_count": 42,
     "metadata": {},
     "output_type": "execute_result"
    }
   ],
   "source": [
    "musical_rank.head()"
   ]
  },
  {
   "cell_type": "code",
   "execution_count": 43,
   "metadata": {
    "id": "V3MvUKwcwMlB"
   },
   "outputs": [],
   "source": [
    "#주소가 들어갈 nan값 넣은 컬럼 추가\n",
    "musical_rank['주소'] = np.nan\n",
    "musical_rank['시도'] = np.nan\n",
    "musical_rank['구별'] = np.nan"
   ]
  },
  {
   "cell_type": "code",
   "execution_count": 44,
   "metadata": {
    "colab": {
     "base_uri": "https://localhost:8080/",
     "height": 175
    },
    "id": "gzEkW3nUwMlB",
    "outputId": "699ccaf6-6a1b-458d-9358-4caaef5fd271"
   },
   "outputs": [
    {
     "data": {
      "text/html": [
       "<div>\n",
       "<style scoped>\n",
       "    .dataframe tbody tr th:only-of-type {\n",
       "        vertical-align: middle;\n",
       "    }\n",
       "\n",
       "    .dataframe tbody tr th {\n",
       "        vertical-align: top;\n",
       "    }\n",
       "\n",
       "    .dataframe thead th {\n",
       "        text-align: right;\n",
       "    }\n",
       "</style>\n",
       "<table border=\"1\" class=\"dataframe\">\n",
       "  <thead>\n",
       "    <tr style=\"text-align: right;\">\n",
       "      <th></th>\n",
       "      <th>제목</th>\n",
       "      <th>장소</th>\n",
       "      <th>주소</th>\n",
       "      <th>시도</th>\n",
       "      <th>구별</th>\n",
       "    </tr>\n",
       "    <tr>\n",
       "      <th>순위</th>\n",
       "      <th></th>\n",
       "      <th></th>\n",
       "      <th></th>\n",
       "      <th></th>\n",
       "      <th></th>\n",
       "    </tr>\n",
       "  </thead>\n",
       "  <tbody>\n",
       "    <tr>\n",
       "      <th>1</th>\n",
       "      <td>태양의서커스〈뉴 알레그리아〉</td>\n",
       "      <td>잠실종합운동장 내 빅탑</td>\n",
       "      <td>NaN</td>\n",
       "      <td>NaN</td>\n",
       "      <td>NaN</td>\n",
       "    </tr>\n",
       "    <tr>\n",
       "      <th>2</th>\n",
       "      <td>뮤지컬 〈킹키부츠〉</td>\n",
       "      <td>충무아트센터 대극장</td>\n",
       "      <td>NaN</td>\n",
       "      <td>NaN</td>\n",
       "      <td>NaN</td>\n",
       "    </tr>\n",
       "    <tr>\n",
       "      <th>3</th>\n",
       "      <td>뮤지컬 〈엘리자벳〉 10주년 기념공연</td>\n",
       "      <td>블루스퀘어 신한카드홀</td>\n",
       "      <td>NaN</td>\n",
       "      <td>NaN</td>\n",
       "      <td>NaN</td>\n",
       "    </tr>\n",
       "  </tbody>\n",
       "</table>\n",
       "</div>"
      ],
      "text/plain": [
       "                      제목            장소  주소  시도  구별\n",
       "순위                                                \n",
       "1        태양의서커스〈뉴 알레그리아〉  잠실종합운동장 내 빅탑 NaN NaN NaN\n",
       "2             뮤지컬 〈킹키부츠〉    충무아트센터 대극장 NaN NaN NaN\n",
       "3   뮤지컬 〈엘리자벳〉 10주년 기념공연   블루스퀘어 신한카드홀 NaN NaN NaN"
      ]
     },
     "execution_count": 44,
     "metadata": {},
     "output_type": "execute_result"
    }
   ],
   "source": [
    "musical_rank.head(3)"
   ]
  },
  {
   "cell_type": "code",
   "execution_count": 45,
   "metadata": {
    "colab": {
     "base_uri": "https://localhost:8080/"
    },
    "id": "KpCQx7YjwMlB",
    "outputId": "0a5cfe9b-cb1e-4b51-ac86-0f57805a925d"
   },
   "outputs": [
    {
     "data": {
      "text/plain": [
       "[{'address_components': [{'long_name': '294',\n",
       "    'short_name': '294',\n",
       "    'types': ['premise']},\n",
       "   {'long_name': '이태원로',\n",
       "    'short_name': '이태원로',\n",
       "    'types': ['political', 'sublocality', 'sublocality_level_4']},\n",
       "   {'long_name': '한남동',\n",
       "    'short_name': '한남동',\n",
       "    'types': ['political', 'sublocality', 'sublocality_level_2']},\n",
       "   {'long_name': '용산구',\n",
       "    'short_name': '용산구',\n",
       "    'types': ['political', 'sublocality', 'sublocality_level_1']},\n",
       "   {'long_name': '서울특별시',\n",
       "    'short_name': '서울특별시',\n",
       "    'types': ['administrative_area_level_1', 'political']},\n",
       "   {'long_name': '대한민국',\n",
       "    'short_name': 'KR',\n",
       "    'types': ['country', 'political']},\n",
       "   {'long_name': '04399', 'short_name': '04399', 'types': ['postal_code']}],\n",
       "  'formatted_address': '대한민국 서울특별시 용산구 한남동 이태원로 294',\n",
       "  'geometry': {'location': {'lat': 37.5408808, 'lng': 127.0024461},\n",
       "   'location_type': 'ROOFTOP',\n",
       "   'viewport': {'northeast': {'lat': 37.54222978029149,\n",
       "     'lng': 127.0037950802915},\n",
       "    'southwest': {'lat': 37.53953181970849, 'lng': 127.0010971197085}}},\n",
       "  'partial_match': True,\n",
       "  'place_id': 'ChIJR8d8dq6jfDURcXHKocdhmvM',\n",
       "  'plus_code': {'compound_code': 'G2R2+9X 대한민국 서울특별시',\n",
       "   'global_code': '8Q99G2R2+9X'},\n",
       "  'types': ['establishment', 'point_of_interest']}]"
      ]
     },
     "execution_count": 45,
     "metadata": {},
     "output_type": "execute_result"
    }
   ],
   "source": [
    "tmp"
   ]
  },
  {
   "cell_type": "code",
   "execution_count": 46,
   "metadata": {
    "colab": {
     "base_uri": "https://localhost:8080/"
    },
    "id": "gjh6k7MxwMlC",
    "outputId": "704b64b7-b8d4-479e-af70-6eafb01e8ade"
   },
   "outputs": [
    {
     "name": "stdout",
     "output_type": "stream",
     "text": [
      "0\n",
      "1\n",
      "2\n",
      "3\n",
      "4\n",
      "5\n",
      "6\n",
      "7\n",
      "8\n",
      "9\n",
      "10\n",
      "11\n",
      "12\n",
      "13\n",
      "14\n",
      "15\n",
      "16\n",
      "17\n",
      "18\n",
      "19\n",
      "20\n",
      "21\n",
      "22\n",
      "23\n",
      "24\n",
      "25\n",
      "26\n",
      "27\n",
      "28\n",
      "29\n",
      "30\n",
      "31\n",
      "32\n",
      "33\n",
      "34\n",
      "35\n",
      "36\n",
      "37\n",
      "38\n",
      "39\n",
      "40\n",
      "41\n",
      "42\n",
      "43\n",
      "44\n",
      "45\n",
      "46\n"
     ]
    }
   ],
   "source": [
    "# iterrows() 반복해서 주소 불러오기\n",
    "\n",
    "count = 0\n",
    "\n",
    "for idx, rows in musical_rank.iterrows():\n",
    "    #지도에서 한 곳의 주소를 불러오지 못해 오류가 발생. \n",
    "    #오류를 무시하고 계속 반복할 수 있게 함.\n",
    "    try:\n",
    "        #특정 칼럼만 반복하고 싶을 땐 rows['00']\n",
    "        tmp = gmaps.geocode(rows['장소'], language='ko')\n",
    "    \n",
    "    \n",
    "        # 구 정보 가져오기 \n",
    "        tmp[0].get ('formatted_address')\n",
    "        tmp_gu = tmp[0].get ('formatted_address')\n",
    "\n",
    "        # 위경도 좌표 가져오기 \n",
    "        lat = tmp[0].get('geometry')['location']['lat']\n",
    "        lng = tmp[0].get('geometry')['location']['lng']\n",
    "    \n",
    "    \n",
    "        # 만들어 놓은 열의 NaN값 채우기 \n",
    "        musical_rank.loc[idx,'주소'] = tmp_gu\n",
    "        musical_rank.loc[idx,'시도'] = tmp_gu.split()[1]\n",
    "        musical_rank.loc[idx,'구별'] = tmp_gu.split()[2]\n",
    "\n",
    "\n",
    "        print(count)\n",
    "        count += 1\n",
    "    except:\n",
    "        pass      "
   ]
  },
  {
   "cell_type": "code",
   "execution_count": 47,
   "metadata": {
    "colab": {
     "base_uri": "https://localhost:8080/",
     "height": 35
    },
    "id": "g51Mgfw8wMlD",
    "outputId": "f6c90067-781a-4fb8-fc48-64aec97f958b"
   },
   "outputs": [
    {
     "data": {
      "text/plain": [
       "'대한민국 서울특별시 중구 을지로동 마른내로 47'"
      ]
     },
     "execution_count": 47,
     "metadata": {},
     "output_type": "execute_result"
    }
   ],
   "source": [
    "tmp_gu"
   ]
  },
  {
   "cell_type": "code",
   "execution_count": 48,
   "metadata": {
    "colab": {
     "base_uri": "https://localhost:8080/",
     "height": 35
    },
    "id": "QWRPg_w4wMlD",
    "outputId": "ff3293da-e526-422a-9424-2562badcbcc2"
   },
   "outputs": [
    {
     "data": {
      "text/plain": [
       "'중구'"
      ]
     },
     "execution_count": 48,
     "metadata": {},
     "output_type": "execute_result"
    }
   ],
   "source": [
    "tmp_gu.split()[2]"
   ]
  },
  {
   "cell_type": "code",
   "execution_count": 49,
   "metadata": {
    "colab": {
     "base_uri": "https://localhost:8080/",
     "height": 385
    },
    "id": "h4e874oPwMlE",
    "outputId": "4aac08a8-46f1-4e9c-803d-dedfb6fcba4a"
   },
   "outputs": [
    {
     "data": {
      "text/html": [
       "<div>\n",
       "<style scoped>\n",
       "    .dataframe tbody tr th:only-of-type {\n",
       "        vertical-align: middle;\n",
       "    }\n",
       "\n",
       "    .dataframe tbody tr th {\n",
       "        vertical-align: top;\n",
       "    }\n",
       "\n",
       "    .dataframe thead th {\n",
       "        text-align: right;\n",
       "    }\n",
       "</style>\n",
       "<table border=\"1\" class=\"dataframe\">\n",
       "  <thead>\n",
       "    <tr style=\"text-align: right;\">\n",
       "      <th></th>\n",
       "      <th>제목</th>\n",
       "      <th>장소</th>\n",
       "      <th>주소</th>\n",
       "      <th>시도</th>\n",
       "      <th>구별</th>\n",
       "    </tr>\n",
       "    <tr>\n",
       "      <th>순위</th>\n",
       "      <th></th>\n",
       "      <th></th>\n",
       "      <th></th>\n",
       "      <th></th>\n",
       "      <th></th>\n",
       "    </tr>\n",
       "  </thead>\n",
       "  <tbody>\n",
       "    <tr>\n",
       "      <th>1</th>\n",
       "      <td>태양의서커스〈뉴 알레그리아〉</td>\n",
       "      <td>잠실종합운동장 내 빅탑</td>\n",
       "      <td>대한민국 서울특별시 송파구 올림픽로 25</td>\n",
       "      <td>서울특별시</td>\n",
       "      <td>송파구</td>\n",
       "    </tr>\n",
       "    <tr>\n",
       "      <th>2</th>\n",
       "      <td>뮤지컬 〈킹키부츠〉</td>\n",
       "      <td>충무아트센터 대극장</td>\n",
       "      <td>대한민국 서울특별시 중구 퇴계로 387 6층</td>\n",
       "      <td>서울특별시</td>\n",
       "      <td>중구</td>\n",
       "    </tr>\n",
       "    <tr>\n",
       "      <th>3</th>\n",
       "      <td>뮤지컬 〈엘리자벳〉 10주년 기념공연</td>\n",
       "      <td>블루스퀘어 신한카드홀</td>\n",
       "      <td>대한민국 서울특별시 용산구 한남동 이태원로 294</td>\n",
       "      <td>서울특별시</td>\n",
       "      <td>용산구</td>\n",
       "    </tr>\n",
       "    <tr>\n",
       "      <th>4</th>\n",
       "      <td>뮤지컬 〈아이다〉</td>\n",
       "      <td>블루스퀘어 신한카드홀</td>\n",
       "      <td>대한민국 서울특별시 용산구 한남동 이태원로 294</td>\n",
       "      <td>서울특별시</td>\n",
       "      <td>용산구</td>\n",
       "    </tr>\n",
       "    <tr>\n",
       "      <th>5</th>\n",
       "      <td>뮤지컬 〈마틸다〉</td>\n",
       "      <td>대성 디큐브아트센터</td>\n",
       "      <td>대한민국 서울특별시 구로구 경인로 662</td>\n",
       "      <td>서울특별시</td>\n",
       "      <td>구로구</td>\n",
       "    </tr>\n",
       "  </tbody>\n",
       "</table>\n",
       "</div>"
      ],
      "text/plain": [
       "                      제목            장소                           주소     시도  \\\n",
       "순위                                                                           \n",
       "1        태양의서커스〈뉴 알레그리아〉  잠실종합운동장 내 빅탑       대한민국 서울특별시 송파구 올림픽로 25  서울특별시   \n",
       "2             뮤지컬 〈킹키부츠〉    충무아트센터 대극장     대한민국 서울특별시 중구 퇴계로 387 6층  서울특별시   \n",
       "3   뮤지컬 〈엘리자벳〉 10주년 기념공연   블루스퀘어 신한카드홀  대한민국 서울특별시 용산구 한남동 이태원로 294  서울특별시   \n",
       "4              뮤지컬 〈아이다〉   블루스퀘어 신한카드홀  대한민국 서울특별시 용산구 한남동 이태원로 294  서울특별시   \n",
       "5              뮤지컬 〈마틸다〉    대성 디큐브아트센터       대한민국 서울특별시 구로구 경인로 662  서울특별시   \n",
       "\n",
       "     구별  \n",
       "순위       \n",
       "1   송파구  \n",
       "2    중구  \n",
       "3   용산구  \n",
       "4   용산구  \n",
       "5   구로구  "
      ]
     },
     "execution_count": 49,
     "metadata": {},
     "output_type": "execute_result"
    }
   ],
   "source": [
    "musical_rank.head(5)"
   ]
  },
  {
   "cell_type": "code",
   "execution_count": 50,
   "metadata": {
    "colab": {
     "base_uri": "https://localhost:8080/",
     "height": 1000
    },
    "id": "-xeY36WGWeen",
    "outputId": "729dd71e-415c-44d3-dde2-6279204d3bbe"
   },
   "outputs": [
    {
     "data": {
      "text/html": [
       "<div>\n",
       "<style scoped>\n",
       "    .dataframe tbody tr th:only-of-type {\n",
       "        vertical-align: middle;\n",
       "    }\n",
       "\n",
       "    .dataframe tbody tr th {\n",
       "        vertical-align: top;\n",
       "    }\n",
       "\n",
       "    .dataframe thead th {\n",
       "        text-align: right;\n",
       "    }\n",
       "</style>\n",
       "<table border=\"1\" class=\"dataframe\">\n",
       "  <thead>\n",
       "    <tr style=\"text-align: right;\">\n",
       "      <th></th>\n",
       "      <th>제목</th>\n",
       "      <th>장소</th>\n",
       "      <th>주소</th>\n",
       "      <th>시도</th>\n",
       "      <th>구별</th>\n",
       "    </tr>\n",
       "    <tr>\n",
       "      <th>순위</th>\n",
       "      <th></th>\n",
       "      <th></th>\n",
       "      <th></th>\n",
       "      <th></th>\n",
       "      <th></th>\n",
       "    </tr>\n",
       "  </thead>\n",
       "  <tbody>\n",
       "    <tr>\n",
       "      <th>1</th>\n",
       "      <td>False</td>\n",
       "      <td>False</td>\n",
       "      <td>False</td>\n",
       "      <td>False</td>\n",
       "      <td>False</td>\n",
       "    </tr>\n",
       "    <tr>\n",
       "      <th>2</th>\n",
       "      <td>False</td>\n",
       "      <td>False</td>\n",
       "      <td>False</td>\n",
       "      <td>False</td>\n",
       "      <td>False</td>\n",
       "    </tr>\n",
       "    <tr>\n",
       "      <th>3</th>\n",
       "      <td>False</td>\n",
       "      <td>False</td>\n",
       "      <td>False</td>\n",
       "      <td>False</td>\n",
       "      <td>False</td>\n",
       "    </tr>\n",
       "    <tr>\n",
       "      <th>4</th>\n",
       "      <td>False</td>\n",
       "      <td>False</td>\n",
       "      <td>False</td>\n",
       "      <td>False</td>\n",
       "      <td>False</td>\n",
       "    </tr>\n",
       "    <tr>\n",
       "      <th>5</th>\n",
       "      <td>False</td>\n",
       "      <td>False</td>\n",
       "      <td>False</td>\n",
       "      <td>False</td>\n",
       "      <td>False</td>\n",
       "    </tr>\n",
       "    <tr>\n",
       "      <th>6</th>\n",
       "      <td>False</td>\n",
       "      <td>False</td>\n",
       "      <td>False</td>\n",
       "      <td>False</td>\n",
       "      <td>False</td>\n",
       "    </tr>\n",
       "    <tr>\n",
       "      <th>7</th>\n",
       "      <td>False</td>\n",
       "      <td>False</td>\n",
       "      <td>False</td>\n",
       "      <td>False</td>\n",
       "      <td>False</td>\n",
       "    </tr>\n",
       "    <tr>\n",
       "      <th>8</th>\n",
       "      <td>False</td>\n",
       "      <td>False</td>\n",
       "      <td>False</td>\n",
       "      <td>False</td>\n",
       "      <td>False</td>\n",
       "    </tr>\n",
       "    <tr>\n",
       "      <th>9</th>\n",
       "      <td>False</td>\n",
       "      <td>False</td>\n",
       "      <td>False</td>\n",
       "      <td>False</td>\n",
       "      <td>False</td>\n",
       "    </tr>\n",
       "    <tr>\n",
       "      <th>10</th>\n",
       "      <td>False</td>\n",
       "      <td>False</td>\n",
       "      <td>False</td>\n",
       "      <td>False</td>\n",
       "      <td>False</td>\n",
       "    </tr>\n",
       "    <tr>\n",
       "      <th>11</th>\n",
       "      <td>False</td>\n",
       "      <td>False</td>\n",
       "      <td>False</td>\n",
       "      <td>False</td>\n",
       "      <td>False</td>\n",
       "    </tr>\n",
       "    <tr>\n",
       "      <th>12</th>\n",
       "      <td>False</td>\n",
       "      <td>False</td>\n",
       "      <td>False</td>\n",
       "      <td>False</td>\n",
       "      <td>False</td>\n",
       "    </tr>\n",
       "    <tr>\n",
       "      <th>13</th>\n",
       "      <td>False</td>\n",
       "      <td>False</td>\n",
       "      <td>False</td>\n",
       "      <td>False</td>\n",
       "      <td>False</td>\n",
       "    </tr>\n",
       "    <tr>\n",
       "      <th>14</th>\n",
       "      <td>False</td>\n",
       "      <td>False</td>\n",
       "      <td>False</td>\n",
       "      <td>False</td>\n",
       "      <td>False</td>\n",
       "    </tr>\n",
       "    <tr>\n",
       "      <th>15</th>\n",
       "      <td>False</td>\n",
       "      <td>False</td>\n",
       "      <td>False</td>\n",
       "      <td>False</td>\n",
       "      <td>False</td>\n",
       "    </tr>\n",
       "    <tr>\n",
       "      <th>16</th>\n",
       "      <td>False</td>\n",
       "      <td>False</td>\n",
       "      <td>False</td>\n",
       "      <td>False</td>\n",
       "      <td>False</td>\n",
       "    </tr>\n",
       "    <tr>\n",
       "      <th>17</th>\n",
       "      <td>False</td>\n",
       "      <td>False</td>\n",
       "      <td>False</td>\n",
       "      <td>False</td>\n",
       "      <td>False</td>\n",
       "    </tr>\n",
       "    <tr>\n",
       "      <th>18</th>\n",
       "      <td>False</td>\n",
       "      <td>False</td>\n",
       "      <td>False</td>\n",
       "      <td>False</td>\n",
       "      <td>False</td>\n",
       "    </tr>\n",
       "    <tr>\n",
       "      <th>19</th>\n",
       "      <td>False</td>\n",
       "      <td>False</td>\n",
       "      <td>False</td>\n",
       "      <td>False</td>\n",
       "      <td>False</td>\n",
       "    </tr>\n",
       "    <tr>\n",
       "      <th>20</th>\n",
       "      <td>False</td>\n",
       "      <td>False</td>\n",
       "      <td>False</td>\n",
       "      <td>False</td>\n",
       "      <td>False</td>\n",
       "    </tr>\n",
       "    <tr>\n",
       "      <th>21</th>\n",
       "      <td>False</td>\n",
       "      <td>False</td>\n",
       "      <td>False</td>\n",
       "      <td>False</td>\n",
       "      <td>False</td>\n",
       "    </tr>\n",
       "    <tr>\n",
       "      <th>22</th>\n",
       "      <td>False</td>\n",
       "      <td>False</td>\n",
       "      <td>False</td>\n",
       "      <td>False</td>\n",
       "      <td>False</td>\n",
       "    </tr>\n",
       "    <tr>\n",
       "      <th>23</th>\n",
       "      <td>False</td>\n",
       "      <td>False</td>\n",
       "      <td>False</td>\n",
       "      <td>False</td>\n",
       "      <td>False</td>\n",
       "    </tr>\n",
       "    <tr>\n",
       "      <th>24</th>\n",
       "      <td>False</td>\n",
       "      <td>False</td>\n",
       "      <td>False</td>\n",
       "      <td>False</td>\n",
       "      <td>False</td>\n",
       "    </tr>\n",
       "    <tr>\n",
       "      <th>25</th>\n",
       "      <td>False</td>\n",
       "      <td>False</td>\n",
       "      <td>False</td>\n",
       "      <td>False</td>\n",
       "      <td>False</td>\n",
       "    </tr>\n",
       "    <tr>\n",
       "      <th>26</th>\n",
       "      <td>False</td>\n",
       "      <td>False</td>\n",
       "      <td>False</td>\n",
       "      <td>False</td>\n",
       "      <td>False</td>\n",
       "    </tr>\n",
       "    <tr>\n",
       "      <th>27</th>\n",
       "      <td>False</td>\n",
       "      <td>False</td>\n",
       "      <td>False</td>\n",
       "      <td>False</td>\n",
       "      <td>False</td>\n",
       "    </tr>\n",
       "    <tr>\n",
       "      <th>28</th>\n",
       "      <td>False</td>\n",
       "      <td>False</td>\n",
       "      <td>False</td>\n",
       "      <td>False</td>\n",
       "      <td>False</td>\n",
       "    </tr>\n",
       "    <tr>\n",
       "      <th>29</th>\n",
       "      <td>False</td>\n",
       "      <td>False</td>\n",
       "      <td>False</td>\n",
       "      <td>False</td>\n",
       "      <td>False</td>\n",
       "    </tr>\n",
       "    <tr>\n",
       "      <th>30</th>\n",
       "      <td>False</td>\n",
       "      <td>False</td>\n",
       "      <td>False</td>\n",
       "      <td>False</td>\n",
       "      <td>False</td>\n",
       "    </tr>\n",
       "    <tr>\n",
       "      <th>31</th>\n",
       "      <td>False</td>\n",
       "      <td>False</td>\n",
       "      <td>False</td>\n",
       "      <td>False</td>\n",
       "      <td>False</td>\n",
       "    </tr>\n",
       "    <tr>\n",
       "      <th>32</th>\n",
       "      <td>False</td>\n",
       "      <td>False</td>\n",
       "      <td>False</td>\n",
       "      <td>False</td>\n",
       "      <td>False</td>\n",
       "    </tr>\n",
       "    <tr>\n",
       "      <th>33</th>\n",
       "      <td>False</td>\n",
       "      <td>False</td>\n",
       "      <td>False</td>\n",
       "      <td>False</td>\n",
       "      <td>False</td>\n",
       "    </tr>\n",
       "    <tr>\n",
       "      <th>34</th>\n",
       "      <td>False</td>\n",
       "      <td>False</td>\n",
       "      <td>False</td>\n",
       "      <td>False</td>\n",
       "      <td>False</td>\n",
       "    </tr>\n",
       "    <tr>\n",
       "      <th>35</th>\n",
       "      <td>False</td>\n",
       "      <td>False</td>\n",
       "      <td>False</td>\n",
       "      <td>False</td>\n",
       "      <td>False</td>\n",
       "    </tr>\n",
       "    <tr>\n",
       "      <th>36</th>\n",
       "      <td>False</td>\n",
       "      <td>False</td>\n",
       "      <td>False</td>\n",
       "      <td>False</td>\n",
       "      <td>False</td>\n",
       "    </tr>\n",
       "    <tr>\n",
       "      <th>37</th>\n",
       "      <td>False</td>\n",
       "      <td>False</td>\n",
       "      <td>False</td>\n",
       "      <td>False</td>\n",
       "      <td>False</td>\n",
       "    </tr>\n",
       "    <tr>\n",
       "      <th>38</th>\n",
       "      <td>False</td>\n",
       "      <td>False</td>\n",
       "      <td>False</td>\n",
       "      <td>False</td>\n",
       "      <td>False</td>\n",
       "    </tr>\n",
       "    <tr>\n",
       "      <th>39</th>\n",
       "      <td>False</td>\n",
       "      <td>False</td>\n",
       "      <td>False</td>\n",
       "      <td>False</td>\n",
       "      <td>False</td>\n",
       "    </tr>\n",
       "    <tr>\n",
       "      <th>40</th>\n",
       "      <td>False</td>\n",
       "      <td>False</td>\n",
       "      <td>False</td>\n",
       "      <td>False</td>\n",
       "      <td>False</td>\n",
       "    </tr>\n",
       "    <tr>\n",
       "      <th>41</th>\n",
       "      <td>False</td>\n",
       "      <td>False</td>\n",
       "      <td>False</td>\n",
       "      <td>False</td>\n",
       "      <td>False</td>\n",
       "    </tr>\n",
       "    <tr>\n",
       "      <th>42</th>\n",
       "      <td>False</td>\n",
       "      <td>False</td>\n",
       "      <td>False</td>\n",
       "      <td>False</td>\n",
       "      <td>False</td>\n",
       "    </tr>\n",
       "    <tr>\n",
       "      <th>43</th>\n",
       "      <td>False</td>\n",
       "      <td>False</td>\n",
       "      <td>False</td>\n",
       "      <td>False</td>\n",
       "      <td>False</td>\n",
       "    </tr>\n",
       "    <tr>\n",
       "      <th>44</th>\n",
       "      <td>False</td>\n",
       "      <td>False</td>\n",
       "      <td>True</td>\n",
       "      <td>True</td>\n",
       "      <td>True</td>\n",
       "    </tr>\n",
       "    <tr>\n",
       "      <th>45</th>\n",
       "      <td>False</td>\n",
       "      <td>False</td>\n",
       "      <td>False</td>\n",
       "      <td>False</td>\n",
       "      <td>False</td>\n",
       "    </tr>\n",
       "    <tr>\n",
       "      <th>46</th>\n",
       "      <td>False</td>\n",
       "      <td>False</td>\n",
       "      <td>False</td>\n",
       "      <td>False</td>\n",
       "      <td>False</td>\n",
       "    </tr>\n",
       "    <tr>\n",
       "      <th>47</th>\n",
       "      <td>False</td>\n",
       "      <td>False</td>\n",
       "      <td>True</td>\n",
       "      <td>True</td>\n",
       "      <td>True</td>\n",
       "    </tr>\n",
       "    <tr>\n",
       "      <th>48</th>\n",
       "      <td>False</td>\n",
       "      <td>False</td>\n",
       "      <td>False</td>\n",
       "      <td>False</td>\n",
       "      <td>False</td>\n",
       "    </tr>\n",
       "    <tr>\n",
       "      <th>49</th>\n",
       "      <td>False</td>\n",
       "      <td>False</td>\n",
       "      <td>False</td>\n",
       "      <td>False</td>\n",
       "      <td>False</td>\n",
       "    </tr>\n",
       "    <tr>\n",
       "      <th>50</th>\n",
       "      <td>False</td>\n",
       "      <td>False</td>\n",
       "      <td>True</td>\n",
       "      <td>True</td>\n",
       "      <td>True</td>\n",
       "    </tr>\n",
       "  </tbody>\n",
       "</table>\n",
       "</div>"
      ],
      "text/plain": [
       "       제목     장소     주소     시도     구별\n",
       "순위                                   \n",
       "1   False  False  False  False  False\n",
       "2   False  False  False  False  False\n",
       "3   False  False  False  False  False\n",
       "4   False  False  False  False  False\n",
       "5   False  False  False  False  False\n",
       "6   False  False  False  False  False\n",
       "7   False  False  False  False  False\n",
       "8   False  False  False  False  False\n",
       "9   False  False  False  False  False\n",
       "10  False  False  False  False  False\n",
       "11  False  False  False  False  False\n",
       "12  False  False  False  False  False\n",
       "13  False  False  False  False  False\n",
       "14  False  False  False  False  False\n",
       "15  False  False  False  False  False\n",
       "16  False  False  False  False  False\n",
       "17  False  False  False  False  False\n",
       "18  False  False  False  False  False\n",
       "19  False  False  False  False  False\n",
       "20  False  False  False  False  False\n",
       "21  False  False  False  False  False\n",
       "22  False  False  False  False  False\n",
       "23  False  False  False  False  False\n",
       "24  False  False  False  False  False\n",
       "25  False  False  False  False  False\n",
       "26  False  False  False  False  False\n",
       "27  False  False  False  False  False\n",
       "28  False  False  False  False  False\n",
       "29  False  False  False  False  False\n",
       "30  False  False  False  False  False\n",
       "31  False  False  False  False  False\n",
       "32  False  False  False  False  False\n",
       "33  False  False  False  False  False\n",
       "34  False  False  False  False  False\n",
       "35  False  False  False  False  False\n",
       "36  False  False  False  False  False\n",
       "37  False  False  False  False  False\n",
       "38  False  False  False  False  False\n",
       "39  False  False  False  False  False\n",
       "40  False  False  False  False  False\n",
       "41  False  False  False  False  False\n",
       "42  False  False  False  False  False\n",
       "43  False  False  False  False  False\n",
       "44  False  False   True   True   True\n",
       "45  False  False  False  False  False\n",
       "46  False  False  False  False  False\n",
       "47  False  False   True   True   True\n",
       "48  False  False  False  False  False\n",
       "49  False  False  False  False  False\n",
       "50  False  False   True   True   True"
      ]
     },
     "execution_count": 50,
     "metadata": {},
     "output_type": "execute_result"
    }
   ],
   "source": [
    "#null값 찾기\n",
    "musical_rank.isnull()"
   ]
  },
  {
   "cell_type": "markdown",
   "metadata": {
    "id": "rNwZtcYBeSfQ"
   },
   "source": [
    "홍익대 대학로 아트센터 대극장 주소만 가져오지 못함\n",
    "\n",
    "홍익대 대학로 아트센터 대극장은 총 세 번 나옴"
   ]
  },
  {
   "cell_type": "code",
   "execution_count": 51,
   "metadata": {
    "id": "pgxEMdubXtkK"
   },
   "outputs": [],
   "source": [
    "#홍익대 대학로 아트센터 대극장 주소 nan값 채워주기기\n",
    "musical_rank=musical_rank.fillna({'주소': '서울특별시 종로구 대학로 57', '시도':'서울특별시' ,'구별':'종로구'})"
   ]
  },
  {
   "cell_type": "code",
   "execution_count": 81,
   "metadata": {
    "colab": {
     "base_uri": "https://localhost:8080/",
     "height": 622
    },
    "id": "QAtMmIhiZ9vR",
    "outputId": "a2e26d6d-1722-4874-9ab7-bcdaebd7552d",
    "scrolled": true
   },
   "outputs": [
    {
     "data": {
      "text/html": [
       "<div>\n",
       "<style scoped>\n",
       "    .dataframe tbody tr th:only-of-type {\n",
       "        vertical-align: middle;\n",
       "    }\n",
       "\n",
       "    .dataframe tbody tr th {\n",
       "        vertical-align: top;\n",
       "    }\n",
       "\n",
       "    .dataframe thead th {\n",
       "        text-align: right;\n",
       "    }\n",
       "</style>\n",
       "<table border=\"1\" class=\"dataframe\">\n",
       "  <thead>\n",
       "    <tr style=\"text-align: right;\">\n",
       "      <th></th>\n",
       "      <th>제목</th>\n",
       "      <th>장소</th>\n",
       "      <th>주소</th>\n",
       "      <th>시도</th>\n",
       "      <th>구별</th>\n",
       "    </tr>\n",
       "    <tr>\n",
       "      <th>순위</th>\n",
       "      <th></th>\n",
       "      <th></th>\n",
       "      <th></th>\n",
       "      <th></th>\n",
       "      <th></th>\n",
       "    </tr>\n",
       "  </thead>\n",
       "  <tbody>\n",
       "    <tr>\n",
       "      <th>1</th>\n",
       "      <td>태양의서커스〈뉴 알레그리아〉</td>\n",
       "      <td>잠실종합운동장 내 빅탑</td>\n",
       "      <td>대한민국 서울특별시 송파구 올림픽로 25</td>\n",
       "      <td>서울특별시</td>\n",
       "      <td>송파구</td>\n",
       "    </tr>\n",
       "    <tr>\n",
       "      <th>2</th>\n",
       "      <td>뮤지컬 〈킹키부츠〉</td>\n",
       "      <td>충무아트센터 대극장</td>\n",
       "      <td>대한민국 서울특별시 중구 퇴계로 387 6층</td>\n",
       "      <td>서울특별시</td>\n",
       "      <td>중구</td>\n",
       "    </tr>\n",
       "    <tr>\n",
       "      <th>3</th>\n",
       "      <td>뮤지컬 〈엘리자벳〉 10주년 기념공연</td>\n",
       "      <td>블루스퀘어 신한카드홀</td>\n",
       "      <td>대한민국 서울특별시 용산구 한남동 이태원로 294</td>\n",
       "      <td>서울특별시</td>\n",
       "      <td>용산구</td>\n",
       "    </tr>\n",
       "    <tr>\n",
       "      <th>4</th>\n",
       "      <td>뮤지컬 〈아이다〉</td>\n",
       "      <td>블루스퀘어 신한카드홀</td>\n",
       "      <td>대한민국 서울특별시 용산구 한남동 이태원로 294</td>\n",
       "      <td>서울특별시</td>\n",
       "      <td>용산구</td>\n",
       "    </tr>\n",
       "    <tr>\n",
       "      <th>5</th>\n",
       "      <td>뮤지컬 〈마틸다〉</td>\n",
       "      <td>대성 디큐브아트센터</td>\n",
       "      <td>대한민국 서울특별시 구로구 경인로 662</td>\n",
       "      <td>서울특별시</td>\n",
       "      <td>구로구</td>\n",
       "    </tr>\n",
       "    <tr>\n",
       "      <th>6</th>\n",
       "      <td>뮤지컬 〈웃는 남자〉</td>\n",
       "      <td>세종문화회관 대극장</td>\n",
       "      <td>대한민국 서울특별시 종로구 세종대로 175</td>\n",
       "      <td>서울특별시</td>\n",
       "      <td>종로구</td>\n",
       "    </tr>\n",
       "    <tr>\n",
       "      <th>7</th>\n",
       "      <td>뮤지컬 〈물랑루즈!〉 아시아 초연 (Moulin Rouge! The Musical)</td>\n",
       "      <td>블루스퀘어 신한카드홀</td>\n",
       "      <td>대한민국 서울특별시 용산구 한남동 이태원로 294</td>\n",
       "      <td>서울특별시</td>\n",
       "      <td>용산구</td>\n",
       "    </tr>\n",
       "    <tr>\n",
       "      <th>8</th>\n",
       "      <td>뮤지컬 데스노트 (The Musical Death Note)</td>\n",
       "      <td>충무아트센터 대극장</td>\n",
       "      <td>대한민국 서울특별시 중구 퇴계로 387 6층</td>\n",
       "      <td>서울특별시</td>\n",
       "      <td>중구</td>\n",
       "    </tr>\n",
       "    <tr>\n",
       "      <th>9</th>\n",
       "      <td>뮤지컬 데스노트 (The Musical Death Note)</td>\n",
       "      <td>예술의전당 오페라극장</td>\n",
       "      <td>대한민국 서울특별시 서초구 서초3동 남부순환로 2406</td>\n",
       "      <td>서울특별시</td>\n",
       "      <td>서초구</td>\n",
       "    </tr>\n",
       "    <tr>\n",
       "      <th>10</th>\n",
       "      <td>뮤지컬 지킬앤하이드 (Jekyll＆Hyde)</td>\n",
       "      <td>샤롯데씨어터</td>\n",
       "      <td>대한민국 서울특별시 송파구 올림픽로 240</td>\n",
       "      <td>서울특별시</td>\n",
       "      <td>송파구</td>\n",
       "    </tr>\n",
       "    <tr>\n",
       "      <th>11</th>\n",
       "      <td>뮤지컬 〈사의찬미〉</td>\n",
       "      <td>대학로 TOM(티오엠) 1관</td>\n",
       "      <td>대한민국 서울특별시 종로구 대학로8가길 85</td>\n",
       "      <td>서울특별시</td>\n",
       "      <td>종로구</td>\n",
       "    </tr>\n",
       "    <tr>\n",
       "      <th>12</th>\n",
       "      <td>뮤지컬 〈미세스 다웃파이어〉</td>\n",
       "      <td>샤롯데씨어터</td>\n",
       "      <td>대한민국 서울특별시 송파구 올림픽로 240</td>\n",
       "      <td>서울특별시</td>\n",
       "      <td>송파구</td>\n",
       "    </tr>\n",
       "    <tr>\n",
       "      <th>13</th>\n",
       "      <td>뮤지컬 라이온 킹 인터내셔널 투어 - 서울 (Musical The Lion King)</td>\n",
       "      <td>예술의전당 오페라극장</td>\n",
       "      <td>대한민국 서울특별시 서초구 서초3동 남부순환로 2406</td>\n",
       "      <td>서울특별시</td>\n",
       "      <td>서초구</td>\n",
       "    </tr>\n",
       "    <tr>\n",
       "      <th>14</th>\n",
       "      <td>뮤지컬 〈여신님이 보고 계셔〉 10th Anniversary</td>\n",
       "      <td>대학로 유니플렉스 1관</td>\n",
       "      <td>대한민국 서울특별시 종로구 대학로12길 64</td>\n",
       "      <td>서울특별시</td>\n",
       "      <td>종로구</td>\n",
       "    </tr>\n",
       "    <tr>\n",
       "      <th>15</th>\n",
       "      <td>뮤지컬 〈마타하리〉</td>\n",
       "      <td>샤롯데씨어터</td>\n",
       "      <td>대한민국 서울특별시 송파구 올림픽로 240</td>\n",
       "      <td>서울특별시</td>\n",
       "      <td>송파구</td>\n",
       "    </tr>\n",
       "    <tr>\n",
       "      <th>16</th>\n",
       "      <td>뮤지컬 〈브로드웨이 42번가〉</td>\n",
       "      <td>예술의전당 CJ 토월극장</td>\n",
       "      <td>대한민국 서울특별시 서초구 남부순환로 2406</td>\n",
       "      <td>서울특별시</td>\n",
       "      <td>서초구</td>\n",
       "    </tr>\n",
       "    <tr>\n",
       "      <th>17</th>\n",
       "      <td>뮤지컬 〈지저스 크라이스트 수퍼스타〉 50주년 기념 한국 공연</td>\n",
       "      <td>광림아트센터 BBCH홀</td>\n",
       "      <td>대한민국 서울특별시 강남구 논현로163길 33</td>\n",
       "      <td>서울특별시</td>\n",
       "      <td>강남구</td>\n",
       "    </tr>\n",
       "    <tr>\n",
       "      <th>18</th>\n",
       "      <td>뮤지컬 〈빨래〉</td>\n",
       "      <td>대학로 유니플렉스 2관</td>\n",
       "      <td>대한민국 서울특별시 종로구 대학로12길 64</td>\n",
       "      <td>서울특별시</td>\n",
       "      <td>종로구</td>\n",
       "    </tr>\n",
       "    <tr>\n",
       "      <th>19</th>\n",
       "      <td>뮤지컬 〈베토벤; Beethoven Secret〉</td>\n",
       "      <td>예술의전당 오페라극장</td>\n",
       "      <td>대한민국 서울특별시 서초구 서초3동 남부순환로 2406</td>\n",
       "      <td>서울특별시</td>\n",
       "      <td>서초구</td>\n",
       "    </tr>\n",
       "    <tr>\n",
       "      <th>20</th>\n",
       "      <td>뮤지컬 ＇영웅＇</td>\n",
       "      <td>LG아트센터</td>\n",
       "      <td>대한민국 서울특별시 강서구 마곡동 중앙로 136</td>\n",
       "      <td>서울특별시</td>\n",
       "      <td>강서구</td>\n",
       "    </tr>\n",
       "    <tr>\n",
       "      <th>21</th>\n",
       "      <td>뮤지컬 〈웨스트 사이드 스토리〉</td>\n",
       "      <td>충무아트센터 대극장</td>\n",
       "      <td>대한민국 서울특별시 중구 퇴계로 387 6층</td>\n",
       "      <td>서울특별시</td>\n",
       "      <td>중구</td>\n",
       "    </tr>\n",
       "    <tr>\n",
       "      <th>22</th>\n",
       "      <td>뮤지컬 〈프랑켄슈타인〉</td>\n",
       "      <td>블루스퀘어 신한카드홀</td>\n",
       "      <td>대한민국 서울특별시 용산구 한남동 이태원로 294</td>\n",
       "      <td>서울특별시</td>\n",
       "      <td>용산구</td>\n",
       "    </tr>\n",
       "    <tr>\n",
       "      <th>23</th>\n",
       "      <td>뮤지컬 〈서편제〉</td>\n",
       "      <td>광림아트센터 BBCH홀</td>\n",
       "      <td>대한민국 서울특별시 강남구 논현로163길 33</td>\n",
       "      <td>서울특별시</td>\n",
       "      <td>강남구</td>\n",
       "    </tr>\n",
       "    <tr>\n",
       "      <th>24</th>\n",
       "      <td>베어 더 뮤지컬(bare the musical)</td>\n",
       "      <td>두산아트센터 연강홀</td>\n",
       "      <td>대한민국 서울특별시 종로구 종로33길 15</td>\n",
       "      <td>서울특별시</td>\n",
       "      <td>종로구</td>\n",
       "    </tr>\n",
       "    <tr>\n",
       "      <th>25</th>\n",
       "      <td>뮤지컬 〈스위니토드〉</td>\n",
       "      <td>샤롯데씨어터</td>\n",
       "      <td>대한민국 서울특별시 송파구 올림픽로 240</td>\n",
       "      <td>서울특별시</td>\n",
       "      <td>송파구</td>\n",
       "    </tr>\n",
       "    <tr>\n",
       "      <th>26</th>\n",
       "      <td>뮤지컬 〈웨스턴 스토리〉</td>\n",
       "      <td>대학로 유니플렉스 1관</td>\n",
       "      <td>대한민국 서울특별시 종로구 대학로12길 64</td>\n",
       "      <td>서울특별시</td>\n",
       "      <td>종로구</td>\n",
       "    </tr>\n",
       "    <tr>\n",
       "      <th>27</th>\n",
       "      <td>뮤지컬 〈팬레터〉</td>\n",
       "      <td>coex 신한카드 artium</td>\n",
       "      <td>대한민국 서울특별시 강남구 삼성동 영동대로 513 코엑스아티움</td>\n",
       "      <td>서울특별시</td>\n",
       "      <td>강남구</td>\n",
       "    </tr>\n",
       "    <tr>\n",
       "      <th>28</th>\n",
       "      <td>뮤지컬 〈배니싱〉</td>\n",
       "      <td>대학로 아트원씨어터 1관</td>\n",
       "      <td>대한민국 서울특별시 종로구 대학로12길 83</td>\n",
       "      <td>서울특별시</td>\n",
       "      <td>종로구</td>\n",
       "    </tr>\n",
       "    <tr>\n",
       "      <th>29</th>\n",
       "      <td>뮤지컬 〈캣츠〉 오리지널 내한－서울（Musical CATS）</td>\n",
       "      <td>세종문화회관 대극장</td>\n",
       "      <td>대한민국 서울특별시 종로구 세종대로 175</td>\n",
       "      <td>서울특별시</td>\n",
       "      <td>종로구</td>\n",
       "    </tr>\n",
       "    <tr>\n",
       "      <th>30</th>\n",
       "      <td>뮤지컬 〈미오 프라텔로〉</td>\n",
       "      <td>드림아트센터 1관</td>\n",
       "      <td>대한민국 서울특별시 종로구 동숭2길 123</td>\n",
       "      <td>서울특별시</td>\n",
       "      <td>종로구</td>\n",
       "    </tr>\n",
       "    <tr>\n",
       "      <th>31</th>\n",
       "      <td>뮤지컬 〈빌리 엘리어트〉</td>\n",
       "      <td>대성 디큐브아트센터</td>\n",
       "      <td>대한민국 서울특별시 구로구 경인로 662</td>\n",
       "      <td>서울특별시</td>\n",
       "      <td>구로구</td>\n",
       "    </tr>\n",
       "    <tr>\n",
       "      <th>32</th>\n",
       "      <td>뮤지컬 〈니진스키〉</td>\n",
       "      <td>대학로 아트원씨어터 1관</td>\n",
       "      <td>대한민국 서울특별시 종로구 대학로12길 83</td>\n",
       "      <td>서울특별시</td>\n",
       "      <td>종로구</td>\n",
       "    </tr>\n",
       "    <tr>\n",
       "      <th>33</th>\n",
       "      <td>뮤지컬 〈빨래〉</td>\n",
       "      <td>대학로 유니플렉스 2관</td>\n",
       "      <td>대한민국 서울특별시 종로구 대학로12길 64</td>\n",
       "      <td>서울특별시</td>\n",
       "      <td>종로구</td>\n",
       "    </tr>\n",
       "    <tr>\n",
       "      <th>34</th>\n",
       "      <td>뮤지컬 〈사랑의 불시착〉</td>\n",
       "      <td>coex 신한카드 artium</td>\n",
       "      <td>대한민국 서울특별시 강남구 삼성동 영동대로 513 코엑스아티움</td>\n",
       "      <td>서울특별시</td>\n",
       "      <td>강남구</td>\n",
       "    </tr>\n",
       "    <tr>\n",
       "      <th>35</th>\n",
       "      <td>육군 창작 뮤지컬 〈블루헬멧 : 메이사의 노래〉</td>\n",
       "      <td>대성 디큐브아트센터</td>\n",
       "      <td>대한민국 서울특별시 구로구 경인로 662</td>\n",
       "      <td>서울특별시</td>\n",
       "      <td>구로구</td>\n",
       "    </tr>\n",
       "    <tr>\n",
       "      <th>36</th>\n",
       "      <td>뮤지컬 〈브론테〉</td>\n",
       "      <td>대학로 자유극장</td>\n",
       "      <td>대한민국 서울특별시 종로구 대학로12길 31</td>\n",
       "      <td>서울특별시</td>\n",
       "      <td>종로구</td>\n",
       "    </tr>\n",
       "    <tr>\n",
       "      <th>37</th>\n",
       "      <td>블루맨그룹 월드투어</td>\n",
       "      <td>coex 신한카드 artium</td>\n",
       "      <td>대한민국 서울특별시 강남구 삼성동 영동대로 513 코엑스아티움</td>\n",
       "      <td>서울특별시</td>\n",
       "      <td>강남구</td>\n",
       "    </tr>\n",
       "    <tr>\n",
       "      <th>38</th>\n",
       "      <td>뮤지컬 라이온 킹 인터내셔널 투어 - 부산(Musical The Lion King)</td>\n",
       "      <td>부산 드림씨어터</td>\n",
       "      <td>대한민국 부산광역시 남구 전포대로 133</td>\n",
       "      <td>부산광역시</td>\n",
       "      <td>남구</td>\n",
       "    </tr>\n",
       "    <tr>\n",
       "      <th>39</th>\n",
       "      <td>뮤지컬 〈리지〉</td>\n",
       "      <td>두산아트센터 연강홀</td>\n",
       "      <td>대한민국 서울특별시 종로구 종로33길 15</td>\n",
       "      <td>서울특별시</td>\n",
       "      <td>종로구</td>\n",
       "    </tr>\n",
       "    <tr>\n",
       "      <th>40</th>\n",
       "      <td>뮤지컬 〈랭보〉</td>\n",
       "      <td>대학로 TOM(티오엠) 1관</td>\n",
       "      <td>대한민국 서울특별시 종로구 대학로8가길 85</td>\n",
       "      <td>서울특별시</td>\n",
       "      <td>종로구</td>\n",
       "    </tr>\n",
       "    <tr>\n",
       "      <th>41</th>\n",
       "      <td>뮤지컬 〈레베카〉</td>\n",
       "      <td>충무아트센터 대극장</td>\n",
       "      <td>대한민국 서울특별시 중구 퇴계로 387 6층</td>\n",
       "      <td>서울특별시</td>\n",
       "      <td>중구</td>\n",
       "    </tr>\n",
       "    <tr>\n",
       "      <th>42</th>\n",
       "      <td>뮤지컬 〈디아길레프〉</td>\n",
       "      <td>대학로 아트원씨어터 1관</td>\n",
       "      <td>대한민국 서울특별시 종로구 대학로12길 83</td>\n",
       "      <td>서울특별시</td>\n",
       "      <td>종로구</td>\n",
       "    </tr>\n",
       "    <tr>\n",
       "      <th>43</th>\n",
       "      <td>뮤지컬〈하데스타운〉 최초 한국 공연 (MUSICAL HADESTOWN)</td>\n",
       "      <td>LG아트센터</td>\n",
       "      <td>대한민국 서울특별시 강서구 마곡동 중앙로 136</td>\n",
       "      <td>서울특별시</td>\n",
       "      <td>강서구</td>\n",
       "    </tr>\n",
       "    <tr>\n",
       "      <th>44</th>\n",
       "      <td>뮤지컬 〈곤 투모로우〉</td>\n",
       "      <td>홍익대 대학로 아트센터 대극장</td>\n",
       "      <td>서울특별시 종로구 대학로 57</td>\n",
       "      <td>서울특별시</td>\n",
       "      <td>종로구</td>\n",
       "    </tr>\n",
       "    <tr>\n",
       "      <th>45</th>\n",
       "      <td>뮤지컬 〈V 에버 애프터〉</td>\n",
       "      <td>드림아트센터 1관</td>\n",
       "      <td>대한민국 서울특별시 종로구 동숭2길 123</td>\n",
       "      <td>서울특별시</td>\n",
       "      <td>종로구</td>\n",
       "    </tr>\n",
       "    <tr>\n",
       "      <th>46</th>\n",
       "      <td>뮤지컬 〈미아 파밀리아〉</td>\n",
       "      <td>예스24스테이지 2관</td>\n",
       "      <td>대한민국 서울특별시 종로구 대학로12길 21</td>\n",
       "      <td>서울특별시</td>\n",
       "      <td>종로구</td>\n",
       "    </tr>\n",
       "    <tr>\n",
       "      <th>47</th>\n",
       "      <td>뮤지컬 킹아더 (Musical King Arthur)</td>\n",
       "      <td>홍익대 대학로 아트센터 대극장</td>\n",
       "      <td>서울특별시 종로구 대학로 57</td>\n",
       "      <td>서울특별시</td>\n",
       "      <td>종로구</td>\n",
       "    </tr>\n",
       "    <tr>\n",
       "      <th>48</th>\n",
       "      <td>뮤지컬 〈노트르담 드 파리〉 프렌치 오리지널 내한공연 - 앙코르</td>\n",
       "      <td>블루스퀘어 신한카드홀</td>\n",
       "      <td>대한민국 서울특별시 용산구 한남동 이태원로 294</td>\n",
       "      <td>서울특별시</td>\n",
       "      <td>용산구</td>\n",
       "    </tr>\n",
       "    <tr>\n",
       "      <th>49</th>\n",
       "      <td>와일드 와일드 〈드림〉</td>\n",
       "      <td>와일드 와일드 전용관 (명보아트홀)</td>\n",
       "      <td>대한민국 서울특별시 중구 을지로동 마른내로 47</td>\n",
       "      <td>서울특별시</td>\n",
       "      <td>중구</td>\n",
       "    </tr>\n",
       "    <tr>\n",
       "      <th>50</th>\n",
       "      <td>뮤지컬 〈이프덴〉</td>\n",
       "      <td>홍익대 대학로 아트센터 대극장</td>\n",
       "      <td>서울특별시 종로구 대학로 57</td>\n",
       "      <td>서울특별시</td>\n",
       "      <td>종로구</td>\n",
       "    </tr>\n",
       "  </tbody>\n",
       "</table>\n",
       "</div>"
      ],
      "text/plain": [
       "                                                 제목                   장소  \\\n",
       "순위                                                                         \n",
       "1                                   태양의서커스〈뉴 알레그리아〉         잠실종합운동장 내 빅탑   \n",
       "2                                        뮤지컬 〈킹키부츠〉           충무아트센터 대극장   \n",
       "3                              뮤지컬 〈엘리자벳〉 10주년 기념공연          블루스퀘어 신한카드홀   \n",
       "4                                         뮤지컬 〈아이다〉          블루스퀘어 신한카드홀   \n",
       "5                                         뮤지컬 〈마틸다〉           대성 디큐브아트센터   \n",
       "6                                       뮤지컬 〈웃는 남자〉           세종문화회관 대극장   \n",
       "7    뮤지컬 〈물랑루즈!〉 아시아 초연 (Moulin Rouge! The Musical)          블루스퀘어 신한카드홀   \n",
       "8                 뮤지컬 데스노트 (The Musical Death Note)           충무아트센터 대극장   \n",
       "9                 뮤지컬 데스노트 (The Musical Death Note)          예술의전당 오페라극장   \n",
       "10                         뮤지컬 지킬앤하이드 (Jekyll＆Hyde)               샤롯데씨어터   \n",
       "11                                       뮤지컬 〈사의찬미〉      대학로 TOM(티오엠) 1관   \n",
       "12                                  뮤지컬 〈미세스 다웃파이어〉               샤롯데씨어터   \n",
       "13  뮤지컬 라이온 킹 인터내셔널 투어 - 서울 (Musical The Lion King)          예술의전당 오페라극장   \n",
       "14                뮤지컬 〈여신님이 보고 계셔〉 10th Anniversary         대학로 유니플렉스 1관   \n",
       "15                                       뮤지컬 〈마타하리〉               샤롯데씨어터   \n",
       "16                                 뮤지컬 〈브로드웨이 42번가〉        예술의전당 CJ 토월극장   \n",
       "17               뮤지컬 〈지저스 크라이스트 수퍼스타〉 50주년 기념 한국 공연         광림아트센터 BBCH홀   \n",
       "18                                         뮤지컬 〈빨래〉         대학로 유니플렉스 2관   \n",
       "19                      뮤지컬 〈베토벤; Beethoven Secret〉          예술의전당 오페라극장   \n",
       "20                                         뮤지컬 ＇영웅＇               LG아트센터   \n",
       "21                                뮤지컬 〈웨스트 사이드 스토리〉           충무아트센터 대극장   \n",
       "22                                     뮤지컬 〈프랑켄슈타인〉          블루스퀘어 신한카드홀   \n",
       "23                                        뮤지컬 〈서편제〉         광림아트센터 BBCH홀   \n",
       "24                       베어 더 뮤지컬(bare the musical)           두산아트센터 연강홀   \n",
       "25                                      뮤지컬 〈스위니토드〉               샤롯데씨어터   \n",
       "26                                    뮤지컬 〈웨스턴 스토리〉         대학로 유니플렉스 1관   \n",
       "27                                        뮤지컬 〈팬레터〉     coex 신한카드 artium   \n",
       "28                                        뮤지컬 〈배니싱〉        대학로 아트원씨어터 1관   \n",
       "29                뮤지컬 〈캣츠〉 오리지널 내한－서울（Musical CATS）           세종문화회관 대극장   \n",
       "30                                    뮤지컬 〈미오 프라텔로〉            드림아트센터 1관   \n",
       "31                                    뮤지컬 〈빌리 엘리어트〉           대성 디큐브아트센터   \n",
       "32                                       뮤지컬 〈니진스키〉        대학로 아트원씨어터 1관   \n",
       "33                                         뮤지컬 〈빨래〉         대학로 유니플렉스 2관   \n",
       "34                                    뮤지컬 〈사랑의 불시착〉     coex 신한카드 artium   \n",
       "35                       육군 창작 뮤지컬 〈블루헬멧 : 메이사의 노래〉           대성 디큐브아트센터   \n",
       "36                                        뮤지컬 〈브론테〉             대학로 자유극장   \n",
       "37                                       블루맨그룹 월드투어     coex 신한카드 artium   \n",
       "38   뮤지컬 라이온 킹 인터내셔널 투어 - 부산(Musical The Lion King)             부산 드림씨어터   \n",
       "39                                         뮤지컬 〈리지〉           두산아트센터 연강홀   \n",
       "40                                         뮤지컬 〈랭보〉      대학로 TOM(티오엠) 1관   \n",
       "41                                        뮤지컬 〈레베카〉           충무아트센터 대극장   \n",
       "42                                      뮤지컬 〈디아길레프〉        대학로 아트원씨어터 1관   \n",
       "43          뮤지컬〈하데스타운〉 최초 한국 공연 (MUSICAL HADESTOWN)               LG아트센터   \n",
       "44                                     뮤지컬 〈곤 투모로우〉     홍익대 대학로 아트센터 대극장   \n",
       "45                                   뮤지컬 〈V 에버 애프터〉            드림아트센터 1관   \n",
       "46                                    뮤지컬 〈미아 파밀리아〉          예스24스테이지 2관   \n",
       "47                    뮤지컬 킹아더 (Musical King Arthur)     홍익대 대학로 아트센터 대극장   \n",
       "48              뮤지컬 〈노트르담 드 파리〉 프렌치 오리지널 내한공연 - 앙코르          블루스퀘어 신한카드홀   \n",
       "49                                     와일드 와일드 〈드림〉  와일드 와일드 전용관 (명보아트홀)   \n",
       "50                                        뮤지컬 〈이프덴〉     홍익대 대학로 아트센터 대극장   \n",
       "\n",
       "                                    주소     시도   구별  \n",
       "순위                                                  \n",
       "1               대한민국 서울특별시 송파구 올림픽로 25  서울특별시  송파구  \n",
       "2             대한민국 서울특별시 중구 퇴계로 387 6층  서울특별시   중구  \n",
       "3          대한민국 서울특별시 용산구 한남동 이태원로 294  서울특별시  용산구  \n",
       "4          대한민국 서울특별시 용산구 한남동 이태원로 294  서울특별시  용산구  \n",
       "5               대한민국 서울특별시 구로구 경인로 662  서울특별시  구로구  \n",
       "6              대한민국 서울특별시 종로구 세종대로 175  서울특별시  종로구  \n",
       "7          대한민국 서울특별시 용산구 한남동 이태원로 294  서울특별시  용산구  \n",
       "8             대한민국 서울특별시 중구 퇴계로 387 6층  서울특별시   중구  \n",
       "9       대한민국 서울특별시 서초구 서초3동 남부순환로 2406  서울특별시  서초구  \n",
       "10             대한민국 서울특별시 송파구 올림픽로 240  서울특별시  송파구  \n",
       "11            대한민국 서울특별시 종로구 대학로8가길 85  서울특별시  종로구  \n",
       "12             대한민국 서울특별시 송파구 올림픽로 240  서울특별시  송파구  \n",
       "13      대한민국 서울특별시 서초구 서초3동 남부순환로 2406  서울특별시  서초구  \n",
       "14            대한민국 서울특별시 종로구 대학로12길 64  서울특별시  종로구  \n",
       "15             대한민국 서울특별시 송파구 올림픽로 240  서울특별시  송파구  \n",
       "16           대한민국 서울특별시 서초구 남부순환로 2406  서울특별시  서초구  \n",
       "17           대한민국 서울특별시 강남구 논현로163길 33  서울특별시  강남구  \n",
       "18            대한민국 서울특별시 종로구 대학로12길 64  서울특별시  종로구  \n",
       "19      대한민국 서울특별시 서초구 서초3동 남부순환로 2406  서울특별시  서초구  \n",
       "20          대한민국 서울특별시 강서구 마곡동 중앙로 136  서울특별시  강서구  \n",
       "21            대한민국 서울특별시 중구 퇴계로 387 6층  서울특별시   중구  \n",
       "22         대한민국 서울특별시 용산구 한남동 이태원로 294  서울특별시  용산구  \n",
       "23           대한민국 서울특별시 강남구 논현로163길 33  서울특별시  강남구  \n",
       "24             대한민국 서울특별시 종로구 종로33길 15  서울특별시  종로구  \n",
       "25             대한민국 서울특별시 송파구 올림픽로 240  서울특별시  송파구  \n",
       "26            대한민국 서울특별시 종로구 대학로12길 64  서울특별시  종로구  \n",
       "27  대한민국 서울특별시 강남구 삼성동 영동대로 513 코엑스아티움  서울특별시  강남구  \n",
       "28            대한민국 서울특별시 종로구 대학로12길 83  서울특별시  종로구  \n",
       "29             대한민국 서울특별시 종로구 세종대로 175  서울특별시  종로구  \n",
       "30             대한민국 서울특별시 종로구 동숭2길 123  서울특별시  종로구  \n",
       "31              대한민국 서울특별시 구로구 경인로 662  서울특별시  구로구  \n",
       "32            대한민국 서울특별시 종로구 대학로12길 83  서울특별시  종로구  \n",
       "33            대한민국 서울특별시 종로구 대학로12길 64  서울특별시  종로구  \n",
       "34  대한민국 서울특별시 강남구 삼성동 영동대로 513 코엑스아티움  서울특별시  강남구  \n",
       "35              대한민국 서울특별시 구로구 경인로 662  서울특별시  구로구  \n",
       "36            대한민국 서울특별시 종로구 대학로12길 31  서울특별시  종로구  \n",
       "37  대한민국 서울특별시 강남구 삼성동 영동대로 513 코엑스아티움  서울특별시  강남구  \n",
       "38              대한민국 부산광역시 남구 전포대로 133  부산광역시   남구  \n",
       "39             대한민국 서울특별시 종로구 종로33길 15  서울특별시  종로구  \n",
       "40            대한민국 서울특별시 종로구 대학로8가길 85  서울특별시  종로구  \n",
       "41            대한민국 서울특별시 중구 퇴계로 387 6층  서울특별시   중구  \n",
       "42            대한민국 서울특별시 종로구 대학로12길 83  서울특별시  종로구  \n",
       "43          대한민국 서울특별시 강서구 마곡동 중앙로 136  서울특별시  강서구  \n",
       "44                    서울특별시 종로구 대학로 57  서울특별시  종로구  \n",
       "45             대한민국 서울특별시 종로구 동숭2길 123  서울특별시  종로구  \n",
       "46            대한민국 서울특별시 종로구 대학로12길 21  서울특별시  종로구  \n",
       "47                    서울특별시 종로구 대학로 57  서울특별시  종로구  \n",
       "48         대한민국 서울특별시 용산구 한남동 이태원로 294  서울특별시  용산구  \n",
       "49          대한민국 서울특별시 중구 을지로동 마른내로 47  서울특별시   중구  \n",
       "50                    서울특별시 종로구 대학로 57  서울특별시  종로구  "
      ]
     },
     "execution_count": 81,
     "metadata": {},
     "output_type": "execute_result"
    }
   ],
   "source": [
    "#nan값 잘 채워짐!\n",
    "musical_rank"
   ]
  },
  {
   "cell_type": "code",
   "execution_count": 85,
   "metadata": {},
   "outputs": [
    {
     "name": "stdout",
     "output_type": "stream",
     "text": [
      "<class 'pandas.core.frame.DataFrame'>\n",
      "Int64Index: 50 entries, 1 to 50\n",
      "Data columns (total 5 columns):\n",
      " #   Column  Non-Null Count  Dtype \n",
      "---  ------  --------------  ----- \n",
      " 0   제목      50 non-null     object\n",
      " 1   장소      50 non-null     object\n",
      " 2   주소      50 non-null     object\n",
      " 3   시도      50 non-null     object\n",
      " 4   구별      50 non-null     object\n",
      "dtypes: object(5)\n",
      "memory usage: 4.4+ KB\n"
     ]
    }
   ],
   "source": [
    "musical_rank.info()"
   ]
  },
  {
   "cell_type": "markdown",
   "metadata": {},
   "source": [
    "### 가장 많은 공연장이 있는 구"
   ]
  },
  {
   "cell_type": "code",
   "execution_count": 88,
   "metadata": {},
   "outputs": [
    {
     "data": {
      "text/plain": [
       "서울특별시    49\n",
       "부산광역시     1\n",
       "Name: 시도, dtype: int64"
      ]
     },
     "execution_count": 88,
     "metadata": {},
     "output_type": "execute_result"
    }
   ],
   "source": [
    "#공연장 시도 알아보기\n",
    "musical_rank['시도'].value_counts()"
   ]
  },
  {
   "cell_type": "code",
   "execution_count": 89,
   "metadata": {
    "colab": {
     "base_uri": "https://localhost:8080/"
    },
    "id": "qn359JjWaGrB",
    "outputId": "0f7341c3-de33-4d64-f6e7-256766f23e60"
   },
   "outputs": [
    {
     "data": {
      "text/plain": [
       "종로구    20\n",
       "송파구     5\n",
       "중구      5\n",
       "용산구     5\n",
       "강남구     5\n",
       "서초구     4\n",
       "구로구     3\n",
       "강서구     2\n",
       "남구      1\n",
       "Name: 구별, dtype: int64"
      ]
     },
     "execution_count": 89,
     "metadata": {},
     "output_type": "execute_result"
    }
   ],
   "source": [
    "#공연장 구 알아보기\n",
    "musical_rank['구별'].value_counts()"
   ]
  },
  {
   "cell_type": "markdown",
   "metadata": {},
   "source": [
    "🔺 순위에 든 뮤지컬의 공연장 중, 종로구에 가장 많은 공연장이 있다.\n",
    "- 공연으로 유명한 대학로의 영향\n",
    "\n",
    "🔺순위에 든 뮤지컬 중, 단 한 곳의 공연장만 비수도권에 위치해있다.\n",
    "- 지역 간 문화 생활의 편차가 존재한다. (수도권과 비수도권)\n"
   ]
  },
  {
   "cell_type": "markdown",
   "metadata": {},
   "source": [
    "## 데이터 시각화"
   ]
  },
  {
   "cell_type": "code",
   "execution_count": 54,
   "metadata": {
    "id": "4udVRUa0nE7N"
   },
   "outputs": [],
   "source": [
    "import matplotlib.pyplot as plt"
   ]
  },
  {
   "cell_type": "code",
   "execution_count": 66,
   "metadata": {
    "colab": {
     "base_uri": "https://localhost:8080/",
     "height": 218
    },
    "id": "nxwVh508zq9P",
    "outputId": "9069c1a3-a63c-4a68-97f0-9dabb620cd49"
   },
   "outputs": [
    {
     "data": {
      "text/plain": [
       "<AxesSubplot:>"
      ]
     },
     "execution_count": 66,
     "metadata": {},
     "output_type": "execute_result"
    },
    {
     "data": {
      "image/png": "[encoded data removed]",
      "text/plain": [
       "<Figure size 1500x400 with 1 Axes>"
      ]
     },
     "metadata": {},
     "output_type": "display_data"
    }
   ],
   "source": [
    "musical_ba=musical_rank['구별'].value_counts()\n",
    "musical_ba.plot.bar(figsize=(15,4), rot=0, color='gold')"
   ]
  },
  {
   "cell_type": "markdown",
   "metadata": {},
   "source": [
    "## seaborn을 이용한 상관 분석"
   ]
  },
  {
   "cell_type": "code",
   "execution_count": 56,
   "metadata": {
    "colab": {
     "base_uri": "https://localhost:8080/",
     "height": 257
    },
    "id": "iEZoMWcMschH",
    "outputId": "0467e2ec-9508-401d-c6f0-87139ea44003"
   },
   "outputs": [
    {
     "data": {
      "text/html": [
       "<div>\n",
       "<style scoped>\n",
       "    .dataframe tbody tr th:only-of-type {\n",
       "        vertical-align: middle;\n",
       "    }\n",
       "\n",
       "    .dataframe tbody tr th {\n",
       "        vertical-align: top;\n",
       "    }\n",
       "\n",
       "    .dataframe thead th {\n",
       "        text-align: right;\n",
       "    }\n",
       "</style>\n",
       "<table border=\"1\" class=\"dataframe\">\n",
       "  <thead>\n",
       "    <tr style=\"text-align: right;\">\n",
       "      <th></th>\n",
       "      <th>순위</th>\n",
       "      <th>제목</th>\n",
       "      <th>장소</th>\n",
       "      <th>주소</th>\n",
       "      <th>시도</th>\n",
       "      <th>구별</th>\n",
       "    </tr>\n",
       "  </thead>\n",
       "  <tbody>\n",
       "    <tr>\n",
       "      <th>0</th>\n",
       "      <td>1</td>\n",
       "      <td>태양의서커스〈뉴 알레그리아〉</td>\n",
       "      <td>잠실종합운동장 내 빅탑</td>\n",
       "      <td>대한민국 서울특별시 송파구 올림픽로 25</td>\n",
       "      <td>서울특별시</td>\n",
       "      <td>송파구</td>\n",
       "    </tr>\n",
       "    <tr>\n",
       "      <th>1</th>\n",
       "      <td>2</td>\n",
       "      <td>뮤지컬 〈킹키부츠〉</td>\n",
       "      <td>충무아트센터 대극장</td>\n",
       "      <td>대한민국 서울특별시 중구 퇴계로 387 6층</td>\n",
       "      <td>서울특별시</td>\n",
       "      <td>중구</td>\n",
       "    </tr>\n",
       "    <tr>\n",
       "      <th>2</th>\n",
       "      <td>3</td>\n",
       "      <td>뮤지컬 〈엘리자벳〉 10주년 기념공연</td>\n",
       "      <td>블루스퀘어 신한카드홀</td>\n",
       "      <td>대한민국 서울특별시 용산구 한남동 이태원로 294</td>\n",
       "      <td>서울특별시</td>\n",
       "      <td>용산구</td>\n",
       "    </tr>\n",
       "  </tbody>\n",
       "</table>\n",
       "</div>"
      ],
      "text/plain": [
       "   순위                    제목            장소                           주소     시도  \\\n",
       "0   1       태양의서커스〈뉴 알레그리아〉  잠실종합운동장 내 빅탑       대한민국 서울특별시 송파구 올림픽로 25  서울특별시   \n",
       "1   2            뮤지컬 〈킹키부츠〉    충무아트센터 대극장     대한민국 서울특별시 중구 퇴계로 387 6층  서울특별시   \n",
       "2   3  뮤지컬 〈엘리자벳〉 10주년 기념공연   블루스퀘어 신한카드홀  대한민국 서울특별시 용산구 한남동 이태원로 294  서울특별시   \n",
       "\n",
       "    구별  \n",
       "0  송파구  \n",
       "1   중구  \n",
       "2  용산구  "
      ]
     },
     "execution_count": 56,
     "metadata": {},
     "output_type": "execute_result"
    }
   ],
   "source": [
    "#reset함수를 통해서 인덱스 값 다시 설정\n",
    "musical_rank_index=musical_rank.reset_index()\n",
    "musical_rank_index.head(3)"
   ]
  },
  {
   "cell_type": "code",
   "execution_count": 83,
   "metadata": {},
   "outputs": [
    {
     "data": {
      "image/png": "[encoded data removed]",
      "text/plain": [
       "<Figure size 640x480 with 1 Axes>"
      ]
     },
     "metadata": {},
     "output_type": "display_data"
    }
   ],
   "source": [
    "import seaborn as sns\n",
    "musical_rank_gu = sns.scatterplot(x='순위', y='구별', data=musical_rank_index)"
   ]
  },
  {
   "cell_type": "markdown",
   "metadata": {},
   "source": [
    "#### 분석 결과\n",
    "\n",
    "- 공연장이 가장 많은 종로에는 높은 순위의 뮤지컬만 공연하는 것이 아니라 고르게 분포해있다.\n",
    "\n",
    "\n",
    "- 인기가 높은 뮤지컬일수록 공연장이 많은 장소에서 공연하는 것은 아니다.\n",
    "\n",
    "\n",
    "- 인기 상위권의 뮤지컬 공연이 많은 구는 평균적으로 송파구이다. #샤롯데시어터\n",
    "\n",
    "\n",
    "- 뮤지컬의 인기도와 공연장의 밀집도는 상관 관계가 없다."
   ]
  },
  {
   "cell_type": "markdown",
   "metadata": {},
   "source": [
    "## 시사점"
   ]
  },
  {
   "cell_type": "markdown",
   "metadata": {},
   "source": [
    "이 분석을 통해 뮤지컬의 인기도와 공연장의 밀집도는 관계가 없음을 알 수 있다.\n",
    "- 뮤지컬의 흥행을 위해 무작정 공연장이 많이 있는 곳에서 공연하는 것은 좋은 결과를 낼 수 없을 것이다.\n",
    "\n",
    "이 분석을 통해 인기 있는 뮤지컬들은 수도권에 공연장이 몰려있음을 알 수 있다.\n",
    "- 지역 간의 문화 생활 편차를 줄이기 위한 노력이 필요하다.\n"
   ]
  }
 ],
 "metadata": {
  "colab": {
   "provenance": [],
   "toc_visible": true
  },
  "kernelspec": {
   "display_name": "Python 3 (ipykernel)",
   "language": "python",
   "name": "python3"
  },
  "language_info": {
   "codemirror_mode": {
    "name": "ipython",
    "version": 3
   },
   "file_extension": ".py",
   "mimetype": "text/x-python",
   "name": "python",
   "nbconvert_exporter": "python",
   "pygments_lexer": "ipython3",
   "version": "3.9.13"
  },
  "vscode": {
   "interpreter": {
    "hash": "26de051ba29f2982a8de78e945f0abaf191376122a1563185a90213a26c5da77"
   }
  }
 },
 "nbformat": 4,
 "nbformat_minor": 1
}
