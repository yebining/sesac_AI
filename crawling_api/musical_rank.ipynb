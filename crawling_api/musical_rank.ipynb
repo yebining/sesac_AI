{
 "cells": [
  {
   "cell_type": "code",
   "execution_count": 1,
   "id": "438fbb7d",
   "metadata": {},
   "outputs": [
    {
     "name": "stdout",
     "output_type": "stream",
     "text": [
      "Requirement already satisfied: selenium in c:\\users\\sbauser\\anaconda3\\lib\\site-packages (4.7.2)\n",
      "Requirement already satisfied: urllib3[socks]~=1.26 in c:\\users\\sbauser\\anaconda3\\lib\\site-packages (from selenium) (1.26.11)\n",
      "Requirement already satisfied: certifi>=2021.10.8 in c:\\users\\sbauser\\anaconda3\\lib\\site-packages (from selenium) (2022.9.14)\n",
      "Requirement already satisfied: trio~=0.17 in c:\\users\\sbauser\\anaconda3\\lib\\site-packages (from selenium) (0.22.0)\n",
      "Requirement already satisfied: trio-websocket~=0.9 in c:\\users\\sbauser\\anaconda3\\lib\\site-packages (from selenium) (0.9.2)\n",
      "Requirement already satisfied: sniffio in c:\\users\\sbauser\\anaconda3\\lib\\site-packages (from trio~=0.17->selenium) (1.2.0)\n",
      "Requirement already satisfied: exceptiongroup>=1.0.0rc9 in c:\\users\\sbauser\\anaconda3\\lib\\site-packages (from trio~=0.17->selenium) (1.0.4)\n",
      "Requirement already satisfied: attrs>=19.2.0 in c:\\users\\sbauser\\anaconda3\\lib\\site-packages (from trio~=0.17->selenium) (21.4.0)\n",
      "Requirement already satisfied: outcome in c:\\users\\sbauser\\anaconda3\\lib\\site-packages (from trio~=0.17->selenium) (1.2.0)\n",
      "Requirement already satisfied: async-generator>=1.9 in c:\\users\\sbauser\\anaconda3\\lib\\site-packages (from trio~=0.17->selenium) (1.10)\n",
      "Requirement already satisfied: idna in c:\\users\\sbauser\\anaconda3\\lib\\site-packages (from trio~=0.17->selenium) (3.3)\n",
      "Requirement already satisfied: cffi>=1.14 in c:\\users\\sbauser\\anaconda3\\lib\\site-packages (from trio~=0.17->selenium) (1.15.1)\n",
      "Requirement already satisfied: sortedcontainers in c:\\users\\sbauser\\anaconda3\\lib\\site-packages (from trio~=0.17->selenium) (2.4.0)\n",
      "Requirement already satisfied: wsproto>=0.14 in c:\\users\\sbauser\\anaconda3\\lib\\site-packages (from trio-websocket~=0.9->selenium) (1.2.0)\n",
      "Requirement already satisfied: PySocks!=1.5.7,<2.0,>=1.5.6 in c:\\users\\sbauser\\anaconda3\\lib\\site-packages (from urllib3[socks]~=1.26->selenium) (1.7.1)\n",
      "Requirement already satisfied: pycparser in c:\\users\\sbauser\\anaconda3\\lib\\site-packages (from cffi>=1.14->trio~=0.17->selenium) (2.21)\n",
      "Requirement already satisfied: h11<1,>=0.9.0 in c:\\users\\sbauser\\anaconda3\\lib\\site-packages (from wsproto>=0.14->trio-websocket~=0.9->selenium) (0.14.0)\n",
      "Note: you may need to restart the kernel to use updated packages.\n"
     ]
    }
   ],
   "source": [
    "pip install selenium"
   ]
  },
  {
   "cell_type": "code",
   "execution_count": 3,
   "id": "cdc45950",
   "metadata": {},
   "outputs": [
    {
     "name": "stderr",
     "output_type": "stream",
     "text": [
      "C:\\Users\\SBAUser\\AppData\\Local\\Temp\\ipykernel_15868\\4159799797.py:5: DeprecationWarning: executable_path has been deprecated, please pass in a Service object\n",
      "  driver=webdriver.Chrome('chromedriver.exe') #새 창이 a뜸\n"
     ]
    }
   ],
   "source": [
    "from selenium import webdriver\n",
    "from bs4 import BeautifulSoup\n",
    "\n",
    "\n",
    "driver=webdriver.Chrome('chromedriver.exe') #새 창이 a뜸\n",
    "\n",
    "url = 'http://ticket.interpark.com/contents/Ranking/RankList?pKind=01011&pCate=01011&pType=Y&pDate=20230130'\n",
    "driver.get(url)\n",
    "\n",
    "html=driver.page_source \n",
    "soup=BeautifulSoup(html, 'html.parser')"
   ]
  },
  {
   "cell_type": "code",
   "execution_count": 4,
   "id": "fcf0cc87",
   "metadata": {},
   "outputs": [
    {
     "name": "stdout",
     "output_type": "stream",
     "text": [
      "50\n"
     ]
    }
   ],
   "source": [
    "musicals=soup.select('tr>td.prds')\n",
    "musicals\n",
    "\n",
    "print(len(musicals))"
   ]
  },
  {
   "cell_type": "code",
   "execution_count": 5,
   "id": "b70c29db",
   "metadata": {},
   "outputs": [
    {
     "data": {
      "text/plain": [
       "[<b>뮤지컬 〈물랑루즈!〉 아시아 초연 (Moulin Rouge! The Musical)</b>]"
      ]
     },
     "execution_count": 5,
     "metadata": {},
     "output_type": "execute_result"
    }
   ],
   "source": [
    "musical=musicals[0]\n",
    "\n",
    "title=musical.select('b')\n",
    "title"
   ]
  },
  {
   "cell_type": "code",
   "execution_count": 6,
   "id": "e7b05399",
   "metadata": {},
   "outputs": [
    {
     "data": {
      "text/plain": [
       "'뮤지컬 〈물랑루즈!〉 아시아 초연 (Moulin Rouge! The Musical)'"
      ]
     },
     "execution_count": 6,
     "metadata": {},
     "output_type": "execute_result"
    }
   ],
   "source": [
    "title[0].text"
   ]
  },
  {
   "cell_type": "code",
   "execution_count": 33,
   "id": "8fcdafef",
   "metadata": {},
   "outputs": [
    {
     "data": {
      "text/plain": [
       "'뮤지컬 〈물랑루즈!〉 아시아 초연 (Moulin Rouge! The Musical),블루스퀘어 신한카드홀'"
      ]
     },
     "execution_count": 33,
     "metadata": {},
     "output_type": "execute_result"
    }
   ],
   "source": [
    "loc=musical.select('body > div.rankingDetailBody > div:nth-child(2) > table > tbody > tr > td.prds > div.prdInfo > a')[0].text.strip().replace('\\n\\t                                    ',',')    \n",
    "loc"
   ]
  },
  {
   "cell_type": "code",
   "execution_count": 29,
   "id": "06308fd6",
   "metadata": {},
   "outputs": [
    {
     "data": {
      "text/plain": [
       "'뮤지컬 〈여신님이 보고 계셔〉 10th Anniversary\\n\\t대학로 유니플렉스 1관'"
      ]
     },
     "execution_count": 29,
     "metadata": {},
     "output_type": "execute_result"
    }
   ],
   "source": [
    "soup.select('div.prdInfo > a')[3].text.strip().replace('  ','')"
   ]
  },
  {
   "cell_type": "code",
   "execution_count": 24,
   "id": "9d97ac41",
   "metadata": {},
   "outputs": [
    {
     "data": {
      "text/plain": [
       "'뮤지컬〈여신님이보고계셔〉10thAnniversary,대학로유니플렉스1관'"
      ]
     },
     "execution_count": 24,
     "metadata": {},
     "output_type": "execute_result"
    }
   ],
   "source": [
    "soup.select('div.prdInfo > a')[3].text.strip().replace(' ','').replace('\\n\\t',',')"
   ]
  },
  {
   "cell_type": "code",
   "execution_count": 21,
   "id": "99f23813",
   "metadata": {},
   "outputs": [
    {
     "data": {
      "text/plain": [
       "'뮤지컬〈베토벤;BeethovenSecret〉,예술의전당오페라극장'"
      ]
     },
     "execution_count": 21,
     "metadata": {},
     "output_type": "execute_result"
    }
   ],
   "source": [
    "soup.select('div.prdInfo > a')[1].text.strip().replace(' ','').replace('\\n\\t',',')"
   ]
  },
  {
   "cell_type": "code",
   "execution_count": null,
   "id": "220649e6",
   "metadata": {},
   "outputs": [],
   "source": []
  },
  {
   "cell_type": "code",
   "execution_count": 31,
   "id": "a733703c",
   "metadata": {},
   "outputs": [
    {
     "data": {
      "text/plain": [
       "'뮤지컬 〈물랑루즈!〉 아시아 초연 (Moulin Rouge! The Musical)'"
      ]
     },
     "execution_count": 31,
     "metadata": {},
     "output_type": "execute_result"
    }
   ],
   "source": [
    "location=loc.split(',')[0] \n",
    "location"
   ]
  },
  {
   "cell_type": "code",
   "execution_count": 112,
   "id": "8d21f08b",
   "metadata": {},
   "outputs": [
    {
     "data": {
      "text/plain": [
       "'지'"
      ]
     },
     "execution_count": 112,
     "metadata": {},
     "output_type": "execute_result"
    }
   ],
   "source": [
    "musical=soup.select('div.prdInfo > a')[1].text.strip().replace('  ','').replace('\\n\\t',',')[1]\n",
    "musical"
   ]
  },
  {
   "cell_type": "code",
   "execution_count": 120,
   "id": "9331ee93",
   "metadata": {},
   "outputs": [
    {
     "ename": "AttributeError",
     "evalue": "ResultSet object has no attribute 'select'. You're probably treating a list of elements like a single element. Did you call find_all() when you meant to call find()?",
     "output_type": "error",
     "traceback": [
      "\u001b[1;31m---------------------------------------------------------------------------\u001b[0m",
      "\u001b[1;31mAttributeError\u001b[0m                            Traceback (most recent call last)",
      "Cell \u001b[1;32mIn[120], line 3\u001b[0m\n\u001b[0;32m      1\u001b[0m \u001b[39m# musical=soup.select('div.prdInfo > a')\u001b[39;00m\n\u001b[0;32m      2\u001b[0m \u001b[39m# musical\u001b[39;00m\n\u001b[1;32m----> 3\u001b[0m title\u001b[39m=\u001b[39mmusical\u001b[39m.\u001b[39;49mselect(\u001b[39m'\u001b[39m\u001b[39mdiv.prdInfo > a\u001b[39m\u001b[39m'\u001b[39m)[\u001b[39m0\u001b[39m]\u001b[39m.\u001b[39mtext\u001b[39m.\u001b[39mstrip()\u001b[39m.\u001b[39mreplace(\u001b[39m'\u001b[39m\u001b[39m \u001b[39m\u001b[39m'\u001b[39m,\u001b[39m'\u001b[39m\u001b[39m'\u001b[39m)\u001b[39m.\u001b[39mreplace(\u001b[39m'\u001b[39m\u001b[39m\\n\u001b[39;00m\u001b[39m\\t\u001b[39;00m\u001b[39m'\u001b[39m,\u001b[39m'\u001b[39m\u001b[39m,\u001b[39m\u001b[39m'\u001b[39m)\n\u001b[0;32m      4\u001b[0m title\n",
      "File \u001b[1;32m~\\AppData\\Local\\Packages\\PythonSoftwareFoundation.Python.3.10_qbz5n2kfra8p0\\LocalCache\\local-packages\\Python310\\site-packages\\bs4\\element.py:2289\u001b[0m, in \u001b[0;36mResultSet.__getattr__\u001b[1;34m(self, key)\u001b[0m\n\u001b[0;32m   2287\u001b[0m \u001b[39mdef\u001b[39;00m \u001b[39m__getattr__\u001b[39m(\u001b[39mself\u001b[39m, key):\n\u001b[0;32m   2288\u001b[0m     \u001b[39m\"\"\"Raise a helpful exception to explain a common code fix.\"\"\"\u001b[39;00m\n\u001b[1;32m-> 2289\u001b[0m     \u001b[39mraise\u001b[39;00m \u001b[39mAttributeError\u001b[39;00m(\n\u001b[0;32m   2290\u001b[0m         \u001b[39m\"\u001b[39m\u001b[39mResultSet object has no attribute \u001b[39m\u001b[39m'\u001b[39m\u001b[39m%s\u001b[39;00m\u001b[39m'\u001b[39m\u001b[39m. You\u001b[39m\u001b[39m'\u001b[39m\u001b[39mre probably treating a list of elements like a single element. Did you call find_all() when you meant to call find()?\u001b[39m\u001b[39m\"\u001b[39m \u001b[39m%\u001b[39m key\n\u001b[0;32m   2291\u001b[0m     )\n",
      "\u001b[1;31mAttributeError\u001b[0m: ResultSet object has no attribute 'select'. You're probably treating a list of elements like a single element. Did you call find_all() when you meant to call find()?"
     ]
    }
   ],
   "source": [
    "# musical=soup.select('div.prdInfo > a')\n",
    "# musical\n",
    "title=musical.select('div.prdInfo > a')[0].text.strip().replace(' ','').replace('\\n\\t',',')\n",
    "title"
   ]
  },
  {
   "cell_type": "code",
   "execution_count": 118,
   "id": "724de861",
   "metadata": {},
   "outputs": [
    {
     "ename": "IndexError",
     "evalue": "list index out of range",
     "output_type": "error",
     "traceback": [
      "\u001b[1;31m---------------------------------------------------------------------------\u001b[0m",
      "\u001b[1;31mIndexError\u001b[0m                                Traceback (most recent call last)",
      "Cell \u001b[1;32mIn[118], line 9\u001b[0m\n\u001b[0;32m      5\u001b[0m musical\u001b[39m=\u001b[39msoup\u001b[39m.\u001b[39mselect(\u001b[39m'\u001b[39m\u001b[39mdiv.prdInfo > a\u001b[39m\u001b[39m'\u001b[39m)\n\u001b[0;32m      8\u001b[0m \u001b[39mfor\u001b[39;00m i \u001b[39min\u001b[39;00m musical:\n\u001b[1;32m----> 9\u001b[0m     title\u001b[39m=\u001b[39mi\u001b[39m.\u001b[39;49mselect(\u001b[39m'\u001b[39;49m\u001b[39mdiv.prdInfo > a\u001b[39;49m\u001b[39m'\u001b[39;49m)[\u001b[39m1\u001b[39;49m]\u001b[39m.\u001b[39mtext\u001b[39m.\u001b[39mstrip()\u001b[39m.\u001b[39mreplace(\u001b[39m'\u001b[39m\u001b[39m  \u001b[39m\u001b[39m'\u001b[39m,\u001b[39m'\u001b[39m\u001b[39m'\u001b[39m)\u001b[39m.\u001b[39mreplace(\u001b[39m'\u001b[39m\u001b[39m\\n\u001b[39;00m\u001b[39m\\t\u001b[39;00m\u001b[39m'\u001b[39m,\u001b[39m'\u001b[39m\u001b[39m,\u001b[39m\u001b[39m'\u001b[39m)\n\u001b[0;32m     10\u001b[0m     \u001b[39m# loc=i.select('div.prdInfo > a')[0].text.strip().replace('      ','').replace('\\n\\t',',')[1]\u001b[39;00m\n\u001b[0;32m     13\u001b[0m     \u001b[39mprint\u001b[39m(title, loc, sep\u001b[39m=\u001b[39m\u001b[39m'\u001b[39m\u001b[39m , \u001b[39m\u001b[39m'\u001b[39m)\n",
      "\u001b[1;31mIndexError\u001b[0m: list index out of range"
     ]
    }
   ],
   "source": [
    "musical_data=[]\n",
    "rank=1 #초기화\n",
    "\n",
    "musicals = soup.select(\"body > div.rankingDetailBody\")\n",
    "musical=soup.select('div.prdInfo > a')\n",
    "\n",
    "\n",
    "for i in musical:\n",
    "    title=i.select('div.prdInfo > a')[0].text.strip().replace('  ','').replace('\\n\\t',',')\n",
    "    # loc=i.select('div.prdInfo > a')[0].text.strip().replace('      ','').replace('\\n\\t',',')[1]\n",
    "\n",
    "    \n",
    "    print(title, loc, sep=' , ')\n",
    "    mylist = ['interpark', rank, title, loc]\n",
    "    musical_data.append(mylist)\n",
    "    rank += 1"
   ]
  },
  {
   "cell_type": "code",
   "execution_count": 22,
   "id": "3862fb9a",
   "metadata": {
    "scrolled": true
   },
   "outputs": [
    {
     "data": {
      "text/plain": [
       "[]"
      ]
     },
     "execution_count": 22,
     "metadata": {},
     "output_type": "execute_result"
    }
   ],
   "source": [
    "voice_data"
   ]
  },
  {
   "cell_type": "code",
   "execution_count": 15,
   "id": "7ba085a3",
   "metadata": {
    "scrolled": true
   },
   "outputs": [
    {
     "data": {
      "text/html": [
       "<div>\n",
       "<style scoped>\n",
       "    .dataframe tbody tr th:only-of-type {\n",
       "        vertical-align: middle;\n",
       "    }\n",
       "\n",
       "    .dataframe tbody tr th {\n",
       "        vertical-align: top;\n",
       "    }\n",
       "\n",
       "    .dataframe thead th {\n",
       "        text-align: right;\n",
       "    }\n",
       "</style>\n",
       "<table border=\"1\" class=\"dataframe\">\n",
       "  <thead>\n",
       "    <tr style=\"text-align: right;\">\n",
       "      <th></th>\n",
       "      <th>서비스업체</th>\n",
       "      <th>이름</th>\n",
       "    </tr>\n",
       "  </thead>\n",
       "  <tbody>\n",
       "  </tbody>\n",
       "</table>\n",
       "</div>"
      ],
      "text/plain": [
       "Empty DataFrame\n",
       "Columns: [서비스업체, 이름]\n",
       "Index: []"
      ]
     },
     "execution_count": 15,
     "metadata": {},
     "output_type": "execute_result"
    }
   ],
   "source": [
    "import pandas as pd\n",
    "\n",
    "df=pd.DataFrame(voice_data, columns=['서비스업체', '이름'])\n",
    "df"
   ]
  },
  {
   "cell_type": "code",
   "execution_count": 27,
   "id": "6d167ae0",
   "metadata": {},
   "outputs": [],
   "source": [
    "df.to_excel('./gn_rank.xlsx', index=False)"
   ]
  },
  {
   "cell_type": "code",
   "execution_count": 7,
   "id": "b960c858",
   "metadata": {},
   "outputs": [
    {
     "data": {
      "text/plain": [
       "pandas.core.frame.DataFrame"
      ]
     },
     "execution_count": 7,
     "metadata": {},
     "output_type": "execute_result"
    }
   ],
   "source": [
    "type(df)"
   ]
  },
  {
   "cell_type": "code",
   "execution_count": null,
   "id": "f82e4ad0",
   "metadata": {},
   "outputs": [],
   "source": [
    "voice=songs[0]\n",
    "song.select"
   ]
  },
  {
   "cell_type": "code",
   "execution_count": null,
   "id": "903ee34a",
   "metadata": {},
   "outputs": [],
   "source": [
    "voice_data=[]\n",
    "list=0\n",
    "\n",
    "voices=soup.select('상위 경로')\n",
    "\n",
    "for voice in voices:\n",
    "    name= 하위경로\n",
    "    print('성별', '이름', sep=',')\n",
    "    \n",
    "mylist=['clova', '성별', '이름']\n",
    "voice_data.append(mylist)\n",
    "list += 1"
   ]
  },
  {
   "cell_type": "code",
   "execution_count": null,
   "id": "17a09a23",
   "metadata": {},
   "outputs": [],
   "source": []
  }
 ],
 "metadata": {
  "kernelspec": {
   "display_name": "Python 3 (ipykernel)",
   "language": "python",
   "name": "python3"
  },
  "language_info": {
   "codemirror_mode": {
    "name": "ipython",
    "version": 3
   },
   "file_extension": ".py",
   "mimetype": "text/x-python",
   "name": "python",
   "nbconvert_exporter": "python",
   "pygments_lexer": "ipython3",
   "version": "3.9.13"
  },
  "vscode": {
   "interpreter": {
    "hash": "f7ab967e1a4117bef1a5a2855afb9e2ce1afd53ca40d0e6689981301cfd39ae0"
   }
  }
 },
 "nbformat": 4,
 "nbformat_minor": 5
}
