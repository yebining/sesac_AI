{
  "nbformat": 4,
  "nbformat_minor": 0,
  "metadata": {
    "colab": {
      "private_outputs": true,
      "provenance": []
    },
    "kernelspec": {
      "name": "python3",
      "display_name": "Python 3"
    },
    "language_info": {
      "name": "python"
    }
  },
  "cells": [
    {
      "cell_type": "markdown",
      "source": [
        "예제 1. 거스름돈\n",
        "\n",
        "동전 : 500원 100원, 50원, 10원\n",
        "가장 적은 동전 갯수로 거스름돈 주기기\n",
        "\n",
        "- 거스름돈 금액 확인\n",
        "- 동전 금액 확인 ( 동전 종류에 따라 Greedy 적용 여부 결정된다.)\n",
        "===> Greedy 적용용\n",
        "- 가장 큰 금액 동전으로 줄 수 있는 금액을 준다\n",
        "- 다음 큰 금액 동전으로 줄 수 있는 만큼 금액을 준다\n",
        "- 이 과정을 반복한다.\n"
      ],
      "metadata": {
        "id": "ssR6DqzIjldW"
      }
    },
    {
      "cell_type": "code",
      "source": [
        "# 초기 조건\n",
        "n_coins = 0\n",
        "\n",
        "# 금액 확인\n",
        "change = 1260\n",
        "\n",
        "# 동전 금액 리스트\n",
        "l_coins = [ 500, 100, 50, 10]\n"
      ],
      "metadata": {
        "id": "qAXyxfE-i3Jv"
      },
      "execution_count": null,
      "outputs": []
    },
    {
      "cell_type": "code",
      "source": [
        "\n",
        "# 로직 구현\n",
        "\n",
        "# 큰 동전 부터 작은 동전까지\n",
        "for coin in l_coins :\n",
        "  # 줄수 있는 갯수 만큼 ( ==> 해당 금액을 나눈 몫 )\n",
        "  n_coins = n_coins + change // coin   # 몫\n",
        "\n",
        "  # 주고 남음 금액\n",
        "  change = change%coin      # 나머지\n",
        "  print(\"change == \", change)\n",
        "\n",
        "  # 나머지는 나누어 떨어질까?  ( 예 : 1255 원 ~~ ^^)\n",
        "\n",
        "print(\"Num. of Coins == \", n_coins)"
      ],
      "metadata": {
        "id": "y03CH3mvk6xg"
      },
      "execution_count": null,
      "outputs": []
    },
    {
      "cell_type": "markdown",
      "source": [
        "예제 2. 큰 수의 법칙"
      ],
      "metadata": {
        "id": "rclcDyx2i8LW"
      }
    },
    {
      "cell_type": "code",
      "execution_count": null,
      "metadata": {
        "id": "IOTcK17oi5IZ"
      },
      "outputs": [],
      "source": [
        "# Algorithm 1\n",
        "\n",
        "# N 개의 수,  M 개의 연속된 수, 동일 수 최대 K 연속\n",
        "# 합이 최대가 되도록 한다 ==> 가능한 동안 큰 값을 더한다.\n",
        "\n",
        "n, m, k = map(int, input().split())\n",
        "print(\"n = \", n, \" m = \", m, \" k = \",k)"
      ]
    },
    {
      "cell_type": "code",
      "source": [
        "# 주어진 N 의 수 \n",
        "in_data = list(map(int, input().split()))"
      ],
      "metadata": {
        "id": "pOEAPh6rcoVq"
      },
      "execution_count": null,
      "outputs": []
    },
    {
      "cell_type": "code",
      "source": [
        "print(\"in_data == \", in_data)\n",
        "\n",
        "# N 개의 수 중, 최대값, 다음 값 확인\n",
        "# in_data.sort(reverse=True)\n",
        "in_data.sort()\n",
        "print(\"in_data == \", in_data)\n",
        "\n",
        "first_data = in_data[-1]\n",
        "second_data = in_data[-2]\n",
        "\n",
        "# first_data = in_data[0]\n",
        "# second_data = in_data[1]\n",
        "\n",
        "print(\"first data == \", first_data, \",  second_data == \", second_data)"
      ],
      "metadata": {
        "id": "4wcGXGJtdJks"
      },
      "execution_count": null,
      "outputs": []
    },
    {
      "cell_type": "code",
      "source": [
        "\n",
        "# first, second 값으로 주어진 조건에 맞게 더하기\n",
        "\n",
        "conti_count = 0 \n",
        "sum_value = 0 \n",
        "for i in range(m) :\n",
        "\n",
        "  # k 횟수에 도달하면 두번째 값을 한번 더해준다.\n",
        "  if conti_count < k :\n",
        "    sum_value += first_data\n",
        "    conti_count += 1\n",
        "  else :\n",
        "    sum_value += second_data\n",
        "    conti_count = 0\n",
        "\n",
        "print(\" Sum == \", sum_value)\n",
        "\n",
        "\n"
      ],
      "metadata": {
        "id": "PWcyXevHfpMB"
      },
      "execution_count": null,
      "outputs": []
    },
    {
      "cell_type": "code",
      "source": [
        "# 알고리즘 2\n",
        "\n",
        "# 최대 수의 가능한 횟수를 구한다.\n",
        "# (최대 수) x (최대 가능 수) + (두번째 수) x (남은 횟수)\n",
        "\n",
        "m_count = (m//k) * k\n",
        "r_count = m%k\n",
        "\n",
        "print(\"max_count == \", m_count, \" r_count == \", r_count)"
      ],
      "metadata": {
        "id": "DgHD_U8LhIBP"
      },
      "execution_count": null,
      "outputs": []
    },
    {
      "cell_type": "code",
      "source": [
        "sum_value = m_count * first_data + r_count * second_data\n",
        "print(\"sum == \", sum_value)"
      ],
      "metadata": {
        "id": "LO20x0WUjuwC"
      },
      "execution_count": null,
      "outputs": []
    },
    {
      "cell_type": "markdown",
      "source": [
        "예제 3. 숫자 카드 게임\n",
        " M 행 , N 열에서 행 선택 후, \n",
        "  행에서 최대값 구하기....\n",
        "\n",
        "가능한 최대값이 되어야 함."
      ],
      "metadata": {
        "id": "DSRgwrwckwKb"
      }
    },
    {
      "cell_type": "code",
      "source": [
        "# N : 행의 수 ,  M : 열의 수\n",
        "n, m = map(int, input().split())\n",
        "\n",
        "print(\"n == \", n , \" , m == \", m)"
      ],
      "metadata": {
        "id": "xB53xXlkj_Hw"
      },
      "execution_count": null,
      "outputs": []
    },
    {
      "cell_type": "code",
      "source": [
        "# 행 마다 최소를 구하고,\n",
        "# 그 중에서 최대를 구한다.\n",
        "# 가능한 입력의 최소값은???\n",
        "\n",
        "# max_value = -99999\n",
        "l_col_min = []\n",
        "for i in range(n) :\n",
        "  row_data = list(map(int, input().split()))\n",
        "  row_min = min(row_data)\n",
        "  l_col_min.append(row_min)\n",
        "  # max_value = max(row_min, max_value)\n",
        "\n",
        "print(\"l_col_min == \", l_col_min)\n",
        "\n",
        "max_value = max(l_col_min)\n",
        "\n",
        "print(\"max value == \", max_value)\n",
        "\n"
      ],
      "metadata": {
        "id": "R39MIVrZm3ZG"
      },
      "execution_count": null,
      "outputs": []
    },
    {
      "cell_type": "markdown",
      "source": [
        "예제 4. 1이 될때까지\n",
        " 연산 반복\n",
        " 단, 조건 2(나누기)는 나누어 떨어질 경우에만 \n",
        " \n",
        "\n",
        " 조건 1, N 에서 1 빼기\n",
        "\n",
        " 조건 2. N을 K로 나눈다\n",
        "\n",
        "\n",
        " 1이 될때까지, 조건 2가 수행되는 횟수는?\n"
      ],
      "metadata": {
        "id": "IwDHkq-9kzwr"
      }
    },
    {
      "cell_type": "code",
      "source": [
        "n, k = map(int, input().split())\n",
        "\n",
        "print(\"n == \", n, \" k ==\", k)"
      ],
      "metadata": {
        "id": "RqWLQTo1oOTw"
      },
      "execution_count": null,
      "outputs": []
    },
    {
      "cell_type": "code",
      "source": [
        "# 알고리즘 1 \n",
        "# 그냥 수행한다다\n",
        "\n",
        "# d_count\n",
        "\n",
        "d_count = 0 \n",
        "r_number = n\n",
        "l_count = 0\n",
        "for i in range(n) :\n",
        "  if r_number%k == 0 :\n",
        "    d_count += 1\n",
        "    r_number = r_number//k\n",
        "  else :\n",
        "    r_number -= 1\n",
        "  \n",
        "  l_count += 1\n",
        "  if r_number == 1 :\n",
        "    break\n",
        "\n",
        "print(\"d_count == \", d_count)\n",
        "print(\"l_count == \", l_count)"
      ],
      "metadata": {
        "id": "D2-xaYJnoTk-"
      },
      "execution_count": null,
      "outputs": []
    },
    {
      "cell_type": "code",
      "source": [
        "# 알고리즘 2 : 수학적 능력 필요\n",
        "\n",
        "# n 이 k의 몇 승보다 큰지를 생각한다.\n",
        "\n",
        "d_count = 0\n",
        "print(\"n == \", n, \" k == \", k)\n",
        "for i in range(n) :\n",
        "  if n < k**i :\n",
        "    d_count = i-1\n",
        "    break\n",
        "\n",
        "print(\"d_count == \", d_count)\n"
      ],
      "metadata": {
        "id": "0S5NRzwQphrH"
      },
      "execution_count": null,
      "outputs": []
    },
    {
      "cell_type": "code",
      "source": [],
      "metadata": {
        "id": "c2Qcao88qceU"
      },
      "execution_count": null,
      "outputs": []
    }
  ]
}