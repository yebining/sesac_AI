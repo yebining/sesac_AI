{
 "cells": [
  {
   "cell_type": "code",
   "execution_count": 2,
   "metadata": {},
   "outputs": [],
   "source": [
    "with open(\"train_416.txt\", \"r\") as f:\n",
    "    # 파일 내용 읽어오기\n",
    "    text = f.read()\n",
    "\n",
    "# 문자열 교체\n",
    "new_text = text.replace( \"E:/SeSAC_Semi_Project/Detection/helmet_img_608\" ,\n",
    " \"C:/Users/SBAUser/Desktop/code/directory/size_416/helmet_img_416\")\n",
    "\n",
    "# 변경된 문자열을 파일에 쓰기\n",
    "with open(\"train_416.txt\", \"w\") as f:\n",
    "    f.write(new_text)\n",
    "    \n",
    "    "
   ]
  },
  {
   "cell_type": "code",
   "execution_count": 3,
   "metadata": {},
   "outputs": [],
   "source": [
    "with open(\"val_416.txt\", \"r\") as f:\n",
    "    # 파일 내용 읽어오기\n",
    "    text = f.read()\n",
    "\n",
    "# 문자열 교체\n",
    "new_text = text.replace( \"E:/SeSAC_Semi_Project/Detection/helmet_img_608\" ,\n",
    " \"C:/Users/SBAUser/Desktop/code/directory/size_416/helmet_img_416\")\n",
    "\n",
    "# 변경된 문자열을 파일에 쓰기\n",
    "with open(\"val_416.txt\", \"w\") as f:\n",
    "    f.write(new_text)"
   ]
  },
  {
   "cell_type": "code",
   "execution_count": 1,
   "metadata": {},
   "outputs": [],
   "source": [
    "file_path='C:/Users/SBAUser/Desktop/code/directory/416_data/416_xml/'\n",
    "label_save_path_xml='C:/Users/SBAUser/Desktop/code/directory/416_data/helmet_xml/'"
   ]
  },
  {
   "cell_type": "code",
   "execution_count": 2,
   "metadata": {},
   "outputs": [],
   "source": [
    "import os"
   ]
  },
  {
   "cell_type": "code",
   "execution_count": 3,
   "metadata": {},
   "outputs": [],
   "source": [
    "def save_data_1(file_path, label_save_path_xml) :\n",
    "    # file path에 있는 파일들 리스트로 담기\n",
    "    file_list = os.listdir(file_path)\n",
    "    \n",
    "    for label in file_list : \n",
    "        \n",
    "        try :\n",
    "            with open(file_path + label,'r',encoding='UTF8') as f:\n",
    "                xmlString = f.read()\n",
    "        \n",
    "        except :\n",
    "            with open(file_path + label,'r') as f:\n",
    "                xmlString = f.read()\n",
    "        \n",
    "        xmlString = xmlString.replace('<width>608', '<width>416').replace('<height>608', '<height>416')\n",
    "        \n",
    "        with open(label_save_path_xml + label, 'w', encoding='UTF8') as f:\n",
    "            f.write(xmlString)\n",
    "            \n",
    "save_data_1(file_path, label_save_path_xml)"
   ]
  },
  {
   "cell_type": "code",
   "execution_count": 4,
   "metadata": {},
   "outputs": [],
   "source": [
    "import random\n",
    "import xml.etree.ElementTree as ET"
   ]
  },
  {
   "cell_type": "code",
   "execution_count": 14,
   "metadata": {},
   "outputs": [],
   "source": [
    "range_list = list(range(6290))\n",
    "random.shuffle(range_list)\n",
    "val_list = range_list[:1500]\n",
    "train_list = range_list[1500:]\n",
    "\n",
    "classes = ['Without Helmet', 'With Helmet']\n",
    "\n",
    "def convert_annotation(file, list_file) :\n",
    "    try : \n",
    "        in_file = open(f'C:/Users/SBAUser/Desktop/code/directory/416_data/helmet_xml/{file}',encoding='cp949')\n",
    "        tree = ET.parse(in_file)\n",
    "        root = tree.getroot()\n",
    "        for obj in root.iter('object') :\n",
    "            difficult = obj.find('difficult').text\n",
    "            label = obj.find('name').text\n",
    "            if label not in classes or int(difficult) == 1:\n",
    "                continue\n",
    "            cls_id = classes.index(label)\n",
    "            xmlbox = obj.find('bndbox')\n",
    "            b = (int(xmlbox.find('xmin').text), int(xmlbox.find('ymin').text), int(xmlbox.find('xmax').text), int(xmlbox.find('ymax').text))\n",
    "            list_file.write(' '+','.join([str(a) for a in b]) + ',' + str(cls_id))\n",
    "        \n",
    "    except :\n",
    "        in_file = open(f'C:/Users/SBAUser/Desktop/code/directory/416_data/helmet_xml/{file}',encoding='UTF8')\n",
    "        tree = ET.parse(in_file)\n",
    "        root = tree.getroot()\n",
    "        for obj in root.iter('object') :\n",
    "            difficult = obj.find('difficult').text\n",
    "            label = obj.find('name').text\n",
    "            if label not in classes or int(difficult) == 1:\n",
    "                continue\n",
    "            cls_id = classes.index(label)\n",
    "            xmlbox = obj.find('bndbox')\n",
    "            b = (int(xmlbox.find('xmin').text), int(xmlbox.find('ymin').text), int(xmlbox.find('xmax').text), int(xmlbox.find('ymax').text))\n",
    "            list_file.write(' '+','.join([str(a) for a in b]) + ',' + str(cls_id))\n",
    "    \n",
    "\n",
    "file_list = os.listdir('C:/Users/SBAUser/Desktop/code/directory/416_data/helmet_xml/')\n",
    "img_list = os.listdir('C:/Users/SBAUser/Desktop/code/directory/416_data/416_img/')\n",
    "\n",
    "list_file = open('train_real.txt', 'w')\n",
    "for i in train_list :\n",
    "    list_file.write('C:/Users/SBAUser/Desktop/code/directory/416_data/416_img/'+img_list[i])\n",
    "    convert_annotation(file_list[i], list_file)\n",
    "    list_file.write('\\n')\n",
    "list_file.close()\n",
    "\n",
    "list_file = open('val_real.txt', 'w')\n",
    "for i in val_list :\n",
    "    list_file.write('C:/Users/SBAUser/Desktop/code/directory/416_data/416_img/'+img_list[i])\n",
    "    convert_annotation(file_list[i], list_file)\n",
    "    list_file.write('\\n')\n",
    "list_file.close()"
   ]
  },
  {
   "cell_type": "code",
   "execution_count": null,
   "metadata": {},
   "outputs": [],
   "source": []
  }
 ],
 "metadata": {
  "kernelspec": {
   "display_name": "base",
   "language": "python",
   "name": "python3"
  },
  "language_info": {
   "codemirror_mode": {
    "name": "ipython",
    "version": 3
   },
   "file_extension": ".py",
   "mimetype": "text/x-python",
   "name": "python",
   "nbconvert_exporter": "python",
   "pygments_lexer": "ipython3",
   "version": "3.9.13"
  },
  "orig_nbformat": 4
 },
 "nbformat": 4,
 "nbformat_minor": 2
}
