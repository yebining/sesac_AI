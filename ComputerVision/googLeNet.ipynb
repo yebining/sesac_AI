{
  "cells": [
    {
      "cell_type": "code",
      "execution_count": 1,
      "metadata": {
        "colab": {
          "base_uri": "https://localhost:8080/"
        },
        "id": "5ZiAVJEcNVe1",
        "outputId": "e8d41b58-a29b-46cc-eff4-66afc597c828"
      },
      "outputs": [
        {
          "output_type": "stream",
          "name": "stdout",
          "text": [
            "Downloading data from https://www.cs.toronto.edu/~kriz/cifar-10-python.tar.gz\n",
            "170498071/170498071 [==============================] - 4s 0us/step\n"
          ]
        }
      ],
      "source": [
        "from keras.layers import Input, Conv2D, MaxPooling2D, Dropout, BatchNormalization, Dense, Activation, add, Flatten, AveragePooling2D, concatenate\n",
        "from keras.models import Model\n",
        "\n",
        "from keras.preprocessing.image import ImageDataGenerator\n",
        "import numpy as np\n",
        "import tensorflow as tf\n",
        "from keras.utils import np_utils\n",
        "\n",
        "width = 32\n",
        "height = 32\n",
        "\n",
        "(x_train, y_train), (x_test, y_test) = tf.keras.datasets.cifar10.load_data()"
      ]
    },
    {
      "cell_type": "markdown",
      "metadata": {
        "id": "F1PIxfu-FJTd"
      },
      "source": [
        "https://www.tensorflow.org/api_docs/python/tf/keras/applications/InceptionV3"
      ]
    },
    {
      "cell_type": "code",
      "execution_count": 2,
      "metadata": {
        "id": "8w4-9oE4Ngaj"
      },
      "outputs": [],
      "source": [
        "num_classes = 10\n",
        "y_train = np_utils.to_categorical(y_train)\n",
        "y_test = np_utils.to_categorical(y_test)"
      ]
    },
    {
      "cell_type": "code",
      "execution_count": 3,
      "metadata": {
        "id": "E-GhJpHuW02A"
      },
      "outputs": [],
      "source": [
        "validation_images, validation_labels = x_train[:500], y_train[:500]\n",
        "train_images, train_labels = x_train[500:], y_train[500:]"
      ]
    },
    {
      "cell_type": "code",
      "execution_count": 4,
      "metadata": {
        "colab": {
          "base_uri": "https://localhost:8080/"
        },
        "id": "qCGvbXliD5Au",
        "outputId": "0cb82814-86fe-4563-ec46-804c599d4efe"
      },
      "outputs": [
        {
          "output_type": "execute_result",
          "data": {
            "text/plain": [
              "(49500, 32, 32, 3)"
            ]
          },
          "metadata": {},
          "execution_count": 4
        }
      ],
      "source": [
        "train_images.shape"
      ]
    },
    {
      "cell_type": "code",
      "source": [
        "validation_images.shape"
      ],
      "metadata": {
        "id": "cBDs6F0YBY5-",
        "outputId": "1c997ddf-aca6-495c-e5f0-cefce8da316d",
        "colab": {
          "base_uri": "https://localhost:8080/"
        }
      },
      "execution_count": 7,
      "outputs": [
        {
          "output_type": "execute_result",
          "data": {
            "text/plain": [
              "(500, 32, 32, 3)"
            ]
          },
          "metadata": {},
          "execution_count": 7
        }
      ]
    },
    {
      "cell_type": "code",
      "execution_count": 5,
      "metadata": {
        "id": "gWFlCh3bHU2p"
      },
      "outputs": [],
      "source": [
        "def inception(x, filters): \n",
        "    pre_layer = x\n",
        "    \n",
        "    f1,f2,f3,f4 = filters #filter 수의 숫자\n",
        "\n",
        "    # 1x1\n",
        "    conv1 = Conv2D(f1, kernel_size=(1,1), padding='same', activation='relu')(pre_layer)  #f1=64\n",
        "    \n",
        "    # 1x1 & 3x3  (functional API)\n",
        "    conv2 = Conv2D(f4  , kernel_size=(1,1), padding='same', activation='relu')(pre_layer)\n",
        "    conv2 = Conv2D(f2, kernel_size=(3,3), padding='same', activation='relu')(conv2)  #f2=128\n",
        "\n",
        "    # 1x1 & 5x5\n",
        "    conv3 = Conv2D(f4, kernel_size=(1,1), padding='same', activation='relu')(pre_layer)\n",
        "    conv3 = Conv2D(f3, kernel_size=(5,5), padding='same', activation='relu')(conv3)  #f3=32\n",
        "    \n",
        "    # pooling & 1x1\n",
        "    max_pool = MaxPooling2D(pool_size=(3,3), strides=1, padding='same')(pre_layer)\n",
        "    max_pool = Conv2D(f4, kernel_size=(1,1), padding='same')(max_pool)\n",
        "\n",
        "    # output = [None(batch_size), w(width),h(height),c(channel)], c 기준 concatenate (axis = -1 )\n",
        "    # concatenate() >>  적층, axis=-1 >> channel 기준으로 적층하겠다는 의미 \n",
        "    \n",
        "    concat = concatenate([conv1, conv2, conv3, max_pool], axis=-1)\n",
        "    \n",
        "    return concat\n",
        "    "
      ]
    },
    {
      "cell_type": "code",
      "execution_count": 6,
      "metadata": {
        "id": "_BQRbgfkHbCV"
      },
      "outputs": [],
      "source": [
        "input_shape = x_train[0].shape    \n",
        "inputs = Input(shape=input_shape)\n",
        "\n",
        "# conv랑 batch 사이에 max pooling 들어가야 하나, cifar 데이터에선 크기 너무 줄어들어서 뺐음\n",
        "x = Conv2D(64, kernel_size=(7,7), strides=2, padding='same', activation='relu')(inputs)\n",
        "x = BatchNormalization()(x)\n",
        "x = Conv2D(192, kernel_size=(3,3), padding='same', activation='relu')(x)\n",
        "x = BatchNormalization()(x) \n",
        "\n",
        "#inception (input, [#1x1conv, #3x3conv, #5x5conv, #1x1reduction] )\n",
        "\n",
        "\n",
        "# inception 3a\n",
        "x = inception(x,[64,128,32,32])\n",
        "# inception 3b\n",
        "x = inception(x,[128,192,96,64])\n",
        "x = MaxPooling2D(pool_size=(3,3), strides=2, padding='same')(x)\n",
        "\n",
        "# inception 4a\n",
        "x = inception(x,[192,208,48,64])\n",
        "aux1 = AveragePooling2D(pool_size=(5,5),strides = 3, padding='valid')(x)\n",
        "aux1 = Conv2D(128, kernel_size=(1,1), padding='same', activation='relu')(aux1)\n",
        "aux1 = Flatten()(aux1)\n",
        "aux1 = Dense(512, activation='relu')(aux1)  #512개 vector \n",
        "aux1 = Dense(10, activation='softmax')(aux1) #cifar 10 data 10개 분류 \n",
        "\n",
        "# inception 4b\n",
        "x = inception(x,[160,224,64,64])\n",
        "\n",
        "\n",
        "# inception 4c\n",
        "x = inception(x,[128,256,64,64])\n",
        "# inception 4d\n",
        "x = inception(x,[112,288,64,64])\n",
        "aux2 = AveragePooling2D(pool_size=(5,5),strides = 3, padding='valid')(x)\n",
        "aux2 = Conv2D(128, kernel_size=(1,1), padding='same', activation='relu')(aux2)\n",
        "aux2 = Flatten()(aux2)\n",
        "aux2 = Dense(832, activation='relu')(aux2)\n",
        "aux2 = Dense(10, activation='softmax')(aux2)\n",
        "\n",
        "\n",
        "# inception 4e\n",
        "x = inception(x,[256,320,128,128])\n",
        "\n",
        "\n",
        "# inception 5a\n",
        "x = inception(x,[256,320,128,128])\n",
        "# inception 5b\n",
        "x = inception(x,[384,384,128,128])\n",
        "x = AveragePooling2D(pool_size=(4,4), padding='valid')(x)\n",
        "x = Dropout(0.4)(x)\n",
        "x = Flatten()(x)\n",
        "\n",
        "outputs = Dense(10, activation='softmax')(x)\n",
        "\n"
      ]
    },
    {
      "cell_type": "code",
      "execution_count": 8,
      "metadata": {
        "id": "nx3JQsDnBose"
      },
      "outputs": [],
      "source": [
        "model = Model(inputs=inputs, outputs=[aux1, aux2, outputs])\n",
        "\n",
        "model.compile(optimizer='adam', loss='categorical_crossentropy', loss_weights=[0.3,0.3,1.0], metrics=['accuracy']) \n"
      ]
    },
    {
      "cell_type": "code",
      "execution_count": 9,
      "metadata": {
        "colab": {
          "base_uri": "https://localhost:8080/"
        },
        "id": "uLio7DUSOqPi",
        "outputId": "04749d53-3796-4083-d0a1-f311c1e4852d"
      },
      "outputs": [
        {
          "output_type": "stream",
          "name": "stdout",
          "text": [
            "Model: \"model\"\n",
            "__________________________________________________________________________________________________\n",
            " Layer (type)                   Output Shape         Param #     Connected to                     \n",
            "==================================================================================================\n",
            " input_1 (InputLayer)           [(None, 32, 32, 3)]  0           []                               \n",
            "                                                                                                  \n",
            " conv2d (Conv2D)                (None, 16, 16, 64)   9472        ['input_1[0][0]']                \n",
            "                                                                                                  \n",
            " batch_normalization (BatchNorm  (None, 16, 16, 64)  256         ['conv2d[0][0]']                 \n",
            " alization)                                                                                       \n",
            "                                                                                                  \n",
            " conv2d_1 (Conv2D)              (None, 16, 16, 192)  110784      ['batch_normalization[0][0]']    \n",
            "                                                                                                  \n",
            " batch_normalization_1 (BatchNo  (None, 16, 16, 192)  768        ['conv2d_1[0][0]']               \n",
            " rmalization)                                                                                     \n",
            "                                                                                                  \n",
            " conv2d_3 (Conv2D)              (None, 16, 16, 32)   6176        ['batch_normalization_1[0][0]']  \n",
            "                                                                                                  \n",
            " conv2d_5 (Conv2D)              (None, 16, 16, 32)   6176        ['batch_normalization_1[0][0]']  \n",
            "                                                                                                  \n",
            " max_pooling2d (MaxPooling2D)   (None, 16, 16, 192)  0           ['batch_normalization_1[0][0]']  \n",
            "                                                                                                  \n",
            " conv2d_2 (Conv2D)              (None, 16, 16, 64)   12352       ['batch_normalization_1[0][0]']  \n",
            "                                                                                                  \n",
            " conv2d_4 (Conv2D)              (None, 16, 16, 128)  36992       ['conv2d_3[0][0]']               \n",
            "                                                                                                  \n",
            " conv2d_6 (Conv2D)              (None, 16, 16, 32)   25632       ['conv2d_5[0][0]']               \n",
            "                                                                                                  \n",
            " conv2d_7 (Conv2D)              (None, 16, 16, 32)   6176        ['max_pooling2d[0][0]']          \n",
            "                                                                                                  \n",
            " concatenate (Concatenate)      (None, 16, 16, 256)  0           ['conv2d_2[0][0]',               \n",
            "                                                                  'conv2d_4[0][0]',               \n",
            "                                                                  'conv2d_6[0][0]',               \n",
            "                                                                  'conv2d_7[0][0]']               \n",
            "                                                                                                  \n",
            " conv2d_9 (Conv2D)              (None, 16, 16, 64)   16448       ['concatenate[0][0]']            \n",
            "                                                                                                  \n",
            " conv2d_11 (Conv2D)             (None, 16, 16, 64)   16448       ['concatenate[0][0]']            \n",
            "                                                                                                  \n",
            " max_pooling2d_1 (MaxPooling2D)  (None, 16, 16, 256)  0          ['concatenate[0][0]']            \n",
            "                                                                                                  \n",
            " conv2d_8 (Conv2D)              (None, 16, 16, 128)  32896       ['concatenate[0][0]']            \n",
            "                                                                                                  \n",
            " conv2d_10 (Conv2D)             (None, 16, 16, 192)  110784      ['conv2d_9[0][0]']               \n",
            "                                                                                                  \n",
            " conv2d_12 (Conv2D)             (None, 16, 16, 96)   153696      ['conv2d_11[0][0]']              \n",
            "                                                                                                  \n",
            " conv2d_13 (Conv2D)             (None, 16, 16, 64)   16448       ['max_pooling2d_1[0][0]']        \n",
            "                                                                                                  \n",
            " concatenate_1 (Concatenate)    (None, 16, 16, 480)  0           ['conv2d_8[0][0]',               \n",
            "                                                                  'conv2d_10[0][0]',              \n",
            "                                                                  'conv2d_12[0][0]',              \n",
            "                                                                  'conv2d_13[0][0]']              \n",
            "                                                                                                  \n",
            " max_pooling2d_2 (MaxPooling2D)  (None, 8, 8, 480)   0           ['concatenate_1[0][0]']          \n",
            "                                                                                                  \n",
            " conv2d_15 (Conv2D)             (None, 8, 8, 64)     30784       ['max_pooling2d_2[0][0]']        \n",
            "                                                                                                  \n",
            " conv2d_17 (Conv2D)             (None, 8, 8, 64)     30784       ['max_pooling2d_2[0][0]']        \n",
            "                                                                                                  \n",
            " max_pooling2d_3 (MaxPooling2D)  (None, 8, 8, 480)   0           ['max_pooling2d_2[0][0]']        \n",
            "                                                                                                  \n",
            " conv2d_14 (Conv2D)             (None, 8, 8, 192)    92352       ['max_pooling2d_2[0][0]']        \n",
            "                                                                                                  \n",
            " conv2d_16 (Conv2D)             (None, 8, 8, 208)    120016      ['conv2d_15[0][0]']              \n",
            "                                                                                                  \n",
            " conv2d_18 (Conv2D)             (None, 8, 8, 48)     76848       ['conv2d_17[0][0]']              \n",
            "                                                                                                  \n",
            " conv2d_19 (Conv2D)             (None, 8, 8, 64)     30784       ['max_pooling2d_3[0][0]']        \n",
            "                                                                                                  \n",
            " concatenate_2 (Concatenate)    (None, 8, 8, 512)    0           ['conv2d_14[0][0]',              \n",
            "                                                                  'conv2d_16[0][0]',              \n",
            "                                                                  'conv2d_18[0][0]',              \n",
            "                                                                  'conv2d_19[0][0]']              \n",
            "                                                                                                  \n",
            " conv2d_22 (Conv2D)             (None, 8, 8, 64)     32832       ['concatenate_2[0][0]']          \n",
            "                                                                                                  \n",
            " conv2d_24 (Conv2D)             (None, 8, 8, 64)     32832       ['concatenate_2[0][0]']          \n",
            "                                                                                                  \n",
            " max_pooling2d_4 (MaxPooling2D)  (None, 8, 8, 512)   0           ['concatenate_2[0][0]']          \n",
            "                                                                                                  \n",
            " conv2d_21 (Conv2D)             (None, 8, 8, 160)    82080       ['concatenate_2[0][0]']          \n",
            "                                                                                                  \n",
            " conv2d_23 (Conv2D)             (None, 8, 8, 224)    129248      ['conv2d_22[0][0]']              \n",
            "                                                                                                  \n",
            " conv2d_25 (Conv2D)             (None, 8, 8, 64)     102464      ['conv2d_24[0][0]']              \n",
            "                                                                                                  \n",
            " conv2d_26 (Conv2D)             (None, 8, 8, 64)     32832       ['max_pooling2d_4[0][0]']        \n",
            "                                                                                                  \n",
            " concatenate_3 (Concatenate)    (None, 8, 8, 512)    0           ['conv2d_21[0][0]',              \n",
            "                                                                  'conv2d_23[0][0]',              \n",
            "                                                                  'conv2d_25[0][0]',              \n",
            "                                                                  'conv2d_26[0][0]']              \n",
            "                                                                                                  \n",
            " conv2d_28 (Conv2D)             (None, 8, 8, 64)     32832       ['concatenate_3[0][0]']          \n",
            "                                                                                                  \n",
            " conv2d_30 (Conv2D)             (None, 8, 8, 64)     32832       ['concatenate_3[0][0]']          \n",
            "                                                                                                  \n",
            " max_pooling2d_5 (MaxPooling2D)  (None, 8, 8, 512)   0           ['concatenate_3[0][0]']          \n",
            "                                                                                                  \n",
            " conv2d_27 (Conv2D)             (None, 8, 8, 128)    65664       ['concatenate_3[0][0]']          \n",
            "                                                                                                  \n",
            " conv2d_29 (Conv2D)             (None, 8, 8, 256)    147712      ['conv2d_28[0][0]']              \n",
            "                                                                                                  \n",
            " conv2d_31 (Conv2D)             (None, 8, 8, 64)     102464      ['conv2d_30[0][0]']              \n",
            "                                                                                                  \n",
            " conv2d_32 (Conv2D)             (None, 8, 8, 64)     32832       ['max_pooling2d_5[0][0]']        \n",
            "                                                                                                  \n",
            " concatenate_4 (Concatenate)    (None, 8, 8, 512)    0           ['conv2d_27[0][0]',              \n",
            "                                                                  'conv2d_29[0][0]',              \n",
            "                                                                  'conv2d_31[0][0]',              \n",
            "                                                                  'conv2d_32[0][0]']              \n",
            "                                                                                                  \n",
            " conv2d_34 (Conv2D)             (None, 8, 8, 64)     32832       ['concatenate_4[0][0]']          \n",
            "                                                                                                  \n",
            " conv2d_36 (Conv2D)             (None, 8, 8, 64)     32832       ['concatenate_4[0][0]']          \n",
            "                                                                                                  \n",
            " max_pooling2d_6 (MaxPooling2D)  (None, 8, 8, 512)   0           ['concatenate_4[0][0]']          \n",
            "                                                                                                  \n",
            " conv2d_33 (Conv2D)             (None, 8, 8, 112)    57456       ['concatenate_4[0][0]']          \n",
            "                                                                                                  \n",
            " conv2d_35 (Conv2D)             (None, 8, 8, 288)    166176      ['conv2d_34[0][0]']              \n",
            "                                                                                                  \n",
            " conv2d_37 (Conv2D)             (None, 8, 8, 64)     102464      ['conv2d_36[0][0]']              \n",
            "                                                                                                  \n",
            " conv2d_38 (Conv2D)             (None, 8, 8, 64)     32832       ['max_pooling2d_6[0][0]']        \n",
            "                                                                                                  \n",
            " concatenate_5 (Concatenate)    (None, 8, 8, 528)    0           ['conv2d_33[0][0]',              \n",
            "                                                                  'conv2d_35[0][0]',              \n",
            "                                                                  'conv2d_37[0][0]',              \n",
            "                                                                  'conv2d_38[0][0]']              \n",
            "                                                                                                  \n",
            " conv2d_41 (Conv2D)             (None, 8, 8, 128)    67712       ['concatenate_5[0][0]']          \n",
            "                                                                                                  \n",
            " conv2d_43 (Conv2D)             (None, 8, 8, 128)    67712       ['concatenate_5[0][0]']          \n",
            "                                                                                                  \n",
            " max_pooling2d_7 (MaxPooling2D)  (None, 8, 8, 528)   0           ['concatenate_5[0][0]']          \n",
            "                                                                                                  \n",
            " conv2d_40 (Conv2D)             (None, 8, 8, 256)    135424      ['concatenate_5[0][0]']          \n",
            "                                                                                                  \n",
            " conv2d_42 (Conv2D)             (None, 8, 8, 320)    368960      ['conv2d_41[0][0]']              \n",
            "                                                                                                  \n",
            " conv2d_44 (Conv2D)             (None, 8, 8, 128)    409728      ['conv2d_43[0][0]']              \n",
            "                                                                                                  \n",
            " conv2d_45 (Conv2D)             (None, 8, 8, 128)    67712       ['max_pooling2d_7[0][0]']        \n",
            "                                                                                                  \n",
            " concatenate_6 (Concatenate)    (None, 8, 8, 832)    0           ['conv2d_40[0][0]',              \n",
            "                                                                  'conv2d_42[0][0]',              \n",
            "                                                                  'conv2d_44[0][0]',              \n",
            "                                                                  'conv2d_45[0][0]']              \n",
            "                                                                                                  \n",
            " conv2d_47 (Conv2D)             (None, 8, 8, 128)    106624      ['concatenate_6[0][0]']          \n",
            "                                                                                                  \n",
            " conv2d_49 (Conv2D)             (None, 8, 8, 128)    106624      ['concatenate_6[0][0]']          \n",
            "                                                                                                  \n",
            " max_pooling2d_8 (MaxPooling2D)  (None, 8, 8, 832)   0           ['concatenate_6[0][0]']          \n",
            "                                                                                                  \n",
            " conv2d_46 (Conv2D)             (None, 8, 8, 256)    213248      ['concatenate_6[0][0]']          \n",
            "                                                                                                  \n",
            " conv2d_48 (Conv2D)             (None, 8, 8, 320)    368960      ['conv2d_47[0][0]']              \n",
            "                                                                                                  \n",
            " conv2d_50 (Conv2D)             (None, 8, 8, 128)    409728      ['conv2d_49[0][0]']              \n",
            "                                                                                                  \n",
            " conv2d_51 (Conv2D)             (None, 8, 8, 128)    106624      ['max_pooling2d_8[0][0]']        \n",
            "                                                                                                  \n",
            " concatenate_7 (Concatenate)    (None, 8, 8, 832)    0           ['conv2d_46[0][0]',              \n",
            "                                                                  'conv2d_48[0][0]',              \n",
            "                                                                  'conv2d_50[0][0]',              \n",
            "                                                                  'conv2d_51[0][0]']              \n",
            "                                                                                                  \n",
            " conv2d_53 (Conv2D)             (None, 8, 8, 128)    106624      ['concatenate_7[0][0]']          \n",
            "                                                                                                  \n",
            " conv2d_55 (Conv2D)             (None, 8, 8, 128)    106624      ['concatenate_7[0][0]']          \n",
            "                                                                                                  \n",
            " max_pooling2d_9 (MaxPooling2D)  (None, 8, 8, 832)   0           ['concatenate_7[0][0]']          \n",
            "                                                                                                  \n",
            " conv2d_52 (Conv2D)             (None, 8, 8, 384)    319872      ['concatenate_7[0][0]']          \n",
            "                                                                                                  \n",
            " conv2d_54 (Conv2D)             (None, 8, 8, 384)    442752      ['conv2d_53[0][0]']              \n",
            "                                                                                                  \n",
            " conv2d_56 (Conv2D)             (None, 8, 8, 128)    409728      ['conv2d_55[0][0]']              \n",
            "                                                                                                  \n",
            " conv2d_57 (Conv2D)             (None, 8, 8, 128)    106624      ['max_pooling2d_9[0][0]']        \n",
            "                                                                                                  \n",
            " average_pooling2d (AveragePool  (None, 2, 2, 512)   0           ['concatenate_2[0][0]']          \n",
            " ing2D)                                                                                           \n",
            "                                                                                                  \n",
            " average_pooling2d_1 (AveragePo  (None, 2, 2, 528)   0           ['concatenate_5[0][0]']          \n",
            " oling2D)                                                                                         \n",
            "                                                                                                  \n",
            " concatenate_8 (Concatenate)    (None, 8, 8, 1024)   0           ['conv2d_52[0][0]',              \n",
            "                                                                  'conv2d_54[0][0]',              \n",
            "                                                                  'conv2d_56[0][0]',              \n",
            "                                                                  'conv2d_57[0][0]']              \n",
            "                                                                                                  \n",
            " conv2d_20 (Conv2D)             (None, 2, 2, 128)    65664       ['average_pooling2d[0][0]']      \n",
            "                                                                                                  \n",
            " conv2d_39 (Conv2D)             (None, 2, 2, 128)    67712       ['average_pooling2d_1[0][0]']    \n",
            "                                                                                                  \n",
            " average_pooling2d_2 (AveragePo  (None, 2, 2, 1024)  0           ['concatenate_8[0][0]']          \n",
            " oling2D)                                                                                         \n",
            "                                                                                                  \n",
            " flatten (Flatten)              (None, 512)          0           ['conv2d_20[0][0]']              \n",
            "                                                                                                  \n",
            " flatten_1 (Flatten)            (None, 512)          0           ['conv2d_39[0][0]']              \n",
            "                                                                                                  \n",
            " dropout (Dropout)              (None, 2, 2, 1024)   0           ['average_pooling2d_2[0][0]']    \n",
            "                                                                                                  \n",
            " dense (Dense)                  (None, 512)          262656      ['flatten[0][0]']                \n",
            "                                                                                                  \n",
            " dense_2 (Dense)                (None, 832)          426816      ['flatten_1[0][0]']              \n",
            "                                                                                                  \n",
            " flatten_2 (Flatten)            (None, 4096)         0           ['dropout[0][0]']                \n",
            "                                                                                                  \n",
            " dense_1 (Dense)                (None, 10)           5130        ['dense[0][0]']                  \n",
            "                                                                                                  \n",
            " dense_3 (Dense)                (None, 10)           8330        ['dense_2[0][0]']                \n",
            "                                                                                                  \n",
            " dense_4 (Dense)                (None, 10)           40970       ['flatten_2[0][0]']              \n",
            "                                                                                                  \n",
            "==================================================================================================\n",
            "Total params: 6,992,846\n",
            "Trainable params: 6,992,334\n",
            "Non-trainable params: 512\n",
            "__________________________________________________________________________________________________\n"
          ]
        }
      ],
      "source": [
        "model.summary()"
      ]
    },
    {
      "cell_type": "code",
      "execution_count": 10,
      "metadata": {
        "id": "hKIGz5YMWrKr"
      },
      "outputs": [],
      "source": [
        "train_datagen = ImageDataGenerator(rescale = 1./255,\n",
        "                                   shear_range = 0.2,\n",
        "                                   zoom_range = 0.2,\n",
        "                                   horizontal_flip = True)\n",
        "\n",
        "validation_datagen = ImageDataGenerator(rescale = 1./255,\n",
        "                                   shear_range = 0.2,\n",
        "                                   zoom_range = 0.2,\n",
        "                                   horizontal_flip = True)"
      ]
    },
    {
      "cell_type": "code",
      "execution_count": 11,
      "metadata": {
        "colab": {
          "base_uri": "https://localhost:8080/"
        },
        "id": "o73IuB0RXFoe",
        "outputId": "f8fe7d40-de70-497b-b6ac-54d4a464372d"
      },
      "outputs": [
        {
          "output_type": "stream",
          "name": "stderr",
          "text": [
            "<ipython-input-11-2a75ee7e08c3>:1: UserWarning: `Model.fit_generator` is deprecated and will be removed in a future version. Please use `Model.fit`, which supports generators.\n",
            "  history = model.fit_generator(train_datagen.flow(train_images,train_labels, batch_size = 32),\n"
          ]
        },
        {
          "output_type": "stream",
          "name": "stdout",
          "text": [
            "Epoch 1/10\n",
            "1547/1547 [==============================] - 109s 50ms/step - loss: 2.6164 - dense_1_loss: 1.5791 - dense_3_loss: 1.6211 - dense_4_loss: 1.6564 - dense_1_accuracy: 0.4165 - dense_3_accuracy: 0.3961 - dense_4_accuracy: 0.3861 - val_loss: 2.5215 - val_dense_1_loss: 1.5913 - val_dense_3_loss: 1.5928 - val_dense_4_loss: 1.5662 - val_dense_1_accuracy: 0.4420 - val_dense_3_accuracy: 0.4140 - val_dense_4_accuracy: 0.4240\n",
            "Epoch 2/10\n",
            "1547/1547 [==============================] - 76s 49ms/step - loss: 1.9945 - dense_1_loss: 1.2162 - dense_3_loss: 1.2279 - dense_4_loss: 1.2613 - dense_1_accuracy: 0.5634 - dense_3_accuracy: 0.5591 - dense_4_accuracy: 0.5481 - val_loss: 1.6710 - val_dense_1_loss: 1.1068 - val_dense_3_loss: 1.0205 - val_dense_4_loss: 1.0328 - val_dense_1_accuracy: 0.5760 - val_dense_3_accuracy: 0.6280 - val_dense_4_accuracy: 0.6240\n",
            "Epoch 3/10\n",
            "1547/1547 [==============================] - 74s 48ms/step - loss: 1.6435 - dense_1_loss: 1.0111 - dense_3_loss: 1.0056 - dense_4_loss: 1.0385 - dense_1_accuracy: 0.6427 - dense_3_accuracy: 0.6435 - dense_4_accuracy: 0.6337 - val_loss: 1.4597 - val_dense_1_loss: 0.8763 - val_dense_3_loss: 0.9180 - val_dense_4_loss: 0.9214 - val_dense_1_accuracy: 0.6700 - val_dense_3_accuracy: 0.6860 - val_dense_4_accuracy: 0.6740\n",
            "Epoch 4/10\n",
            "1547/1547 [==============================] - 75s 48ms/step - loss: 1.4556 - dense_1_loss: 0.8946 - dense_3_loss: 0.8892 - dense_4_loss: 0.9205 - dense_1_accuracy: 0.6847 - dense_3_accuracy: 0.6908 - dense_4_accuracy: 0.6803 - val_loss: 1.5152 - val_dense_1_loss: 0.9142 - val_dense_3_loss: 0.9476 - val_dense_4_loss: 0.9567 - val_dense_1_accuracy: 0.7100 - val_dense_3_accuracy: 0.6820 - val_dense_4_accuracy: 0.6680\n",
            "Epoch 5/10\n",
            "1547/1547 [==============================] - 74s 48ms/step - loss: 1.3124 - dense_1_loss: 0.8137 - dense_3_loss: 0.7984 - dense_4_loss: 0.8288 - dense_1_accuracy: 0.7138 - dense_3_accuracy: 0.7233 - dense_4_accuracy: 0.7144 - val_loss: 1.1587 - val_dense_1_loss: 0.7200 - val_dense_3_loss: 0.7257 - val_dense_4_loss: 0.7250 - val_dense_1_accuracy: 0.7420 - val_dense_3_accuracy: 0.7480 - val_dense_4_accuracy: 0.7380\n",
            "Epoch 6/10\n",
            "1547/1547 [==============================] - 74s 48ms/step - loss: 1.2182 - dense_1_loss: 0.7545 - dense_3_loss: 0.7402 - dense_4_loss: 0.7698 - dense_1_accuracy: 0.7364 - dense_3_accuracy: 0.7427 - dense_4_accuracy: 0.7337 - val_loss: 1.1119 - val_dense_1_loss: 0.6976 - val_dense_3_loss: 0.6971 - val_dense_4_loss: 0.6935 - val_dense_1_accuracy: 0.7620 - val_dense_3_accuracy: 0.7480 - val_dense_4_accuracy: 0.7420\n",
            "Epoch 7/10\n",
            "1547/1547 [==============================] - 74s 48ms/step - loss: 1.1400 - dense_1_loss: 0.7040 - dense_3_loss: 0.6904 - dense_4_loss: 0.7217 - dense_1_accuracy: 0.7543 - dense_3_accuracy: 0.7629 - dense_4_accuracy: 0.7548 - val_loss: 1.2860 - val_dense_1_loss: 0.8062 - val_dense_3_loss: 0.7869 - val_dense_4_loss: 0.8081 - val_dense_1_accuracy: 0.7320 - val_dense_3_accuracy: 0.7420 - val_dense_4_accuracy: 0.7540\n",
            "Epoch 8/10\n",
            "1547/1547 [==============================] - 75s 48ms/step - loss: 1.0820 - dense_1_loss: 0.6691 - dense_3_loss: 0.6546 - dense_4_loss: 0.6849 - dense_1_accuracy: 0.7684 - dense_3_accuracy: 0.7758 - dense_4_accuracy: 0.7666 - val_loss: 1.3377 - val_dense_1_loss: 0.8415 - val_dense_3_loss: 0.8244 - val_dense_4_loss: 0.8379 - val_dense_1_accuracy: 0.7160 - val_dense_3_accuracy: 0.7120 - val_dense_4_accuracy: 0.7020\n",
            "Epoch 9/10\n",
            "1547/1547 [==============================] - 74s 48ms/step - loss: 1.0279 - dense_1_loss: 0.6361 - dense_3_loss: 0.6206 - dense_4_loss: 0.6509 - dense_1_accuracy: 0.7805 - dense_3_accuracy: 0.7875 - dense_4_accuracy: 0.7782 - val_loss: 1.0711 - val_dense_1_loss: 0.6698 - val_dense_3_loss: 0.6771 - val_dense_4_loss: 0.6670 - val_dense_1_accuracy: 0.7660 - val_dense_3_accuracy: 0.7700 - val_dense_4_accuracy: 0.7900\n",
            "Epoch 10/10\n",
            "1547/1547 [==============================] - 76s 49ms/step - loss: 0.9787 - dense_1_loss: 0.6090 - dense_3_loss: 0.5905 - dense_4_loss: 0.6188 - dense_1_accuracy: 0.7897 - dense_3_accuracy: 0.7969 - dense_4_accuracy: 0.7877 - val_loss: 1.3053 - val_dense_1_loss: 0.8684 - val_dense_3_loss: 0.8120 - val_dense_4_loss: 0.8012 - val_dense_1_accuracy: 0.7000 - val_dense_3_accuracy: 0.7220 - val_dense_4_accuracy: 0.7360\n"
          ]
        }
      ],
      "source": [
        "history = model.fit_generator(train_datagen.flow(train_images,train_labels, batch_size = 32), \n",
        "                    validation_data = validation_datagen.flow(validation_images, validation_labels, batch_size = 32),\n",
        "                    epochs = 10)"
      ]
    },
    {
      "cell_type": "code",
      "execution_count": 12,
      "metadata": {
        "colab": {
          "base_uri": "https://localhost:8080/",
          "height": 499
        },
        "id": "nouTQsGTOR9i",
        "outputId": "72c42f41-cd5f-4492-a9e7-a82878bc9117"
      },
      "outputs": [
        {
          "output_type": "display_data",
          "data": {
            "text/plain": [
              "<Figure size 576x576 with 2 Axes>"
            ],
            "image/png": "[encoded data removed]"
          },
          "metadata": {
            "needs_background": "light"
          }
        }
      ],
      "source": [
        "import matplotlib.pyplot as plt\n",
        "\n",
        "acc = history.history['dense_4_accuracy']\n",
        "val_acc = history.history['val_dense_4_accuracy']\n",
        "\n",
        "loss = history.history['dense_4_loss']\n",
        "val_loss = history.history['val_dense_4_loss']\n",
        "\n",
        "epochs_range = range(10)\n",
        "\n",
        "plt.figure(figsize=(8, 8))\n",
        "plt.subplot(1, 2, 1)\n",
        "plt.plot(epochs_range, acc, label='Training Accuracy')\n",
        "plt.plot(epochs_range, val_acc, label='Validation Accuracy')\n",
        "plt.legend(loc='lower right')\n",
        "plt.title('Training and Validation Accuracy')\n",
        "\n",
        "plt.subplot(1, 2, 2)\n",
        "plt.plot(epochs_range, loss, label='Training Loss')\n",
        "plt.plot(epochs_range, val_loss, label='Validation Loss')\n",
        "plt.legend(loc='upper right')\n",
        "plt.title('Training and Validation Loss')\n",
        "plt.show()"
      ]
    },
    {
      "cell_type": "code",
      "execution_count": null,
      "metadata": {
        "id": "jkED6qC3hqWN"
      },
      "outputs": [],
      "source": [
        "model.save('googLeNet.h5')"
      ]
    },
    {
      "cell_type": "code",
      "source": [],
      "metadata": {
        "id": "QVx58cYqH3li"
      },
      "execution_count": null,
      "outputs": []
    }
  ],
  "metadata": {
    "accelerator": "GPU",
    "colab": {
      "provenance": []
    },
    "kernelspec": {
      "display_name": "Python 3",
      "name": "python3"
    },
    "gpuClass": "standard"
  },
  "nbformat": 4,
  "nbformat_minor": 0
}