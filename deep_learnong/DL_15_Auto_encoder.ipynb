{
  "nbformat": 4,
  "nbformat_minor": 0,
  "metadata": {
    "colab": {
      "provenance": []
    },
    "kernelspec": {
      "name": "python3",
      "display_name": "Python 3"
    },
    "language_info": {
      "name": "python"
    },
    "accelerator": "GPU",
    "gpuClass": "standard"
  },
  "cells": [
    {
      "cell_type": "code",
      "execution_count": 2,
      "metadata": {
        "id": "ngjvP23wT2IK"
      },
      "outputs": [],
      "source": [
        "from tensorflow.keras.datasets import mnist\n",
        "from tensorflow.keras.layers import Input, Dense, Reshape, Flatten, Dropout\n",
        "from tensorflow.keras.layers import BatchNormalization, Activation, LeakyReLU, UpSampling2D, Conv2D, MaxPooling2D\n",
        "from tensorflow.keras.models import Sequential, Model\n",
        "\n",
        "import numpy as np\n",
        "import pandas as pd\n",
        "import matplotlib.pyplot as plt"
      ]
    },
    {
      "cell_type": "code",
      "source": [
        "#mnist 데이터 불러오기\n",
        "(x_train, _), (x_test,_) = mnist.load_data()\n",
        "x_train=x_train.reshape(x_train.shape[0], 28, 28, 1).astype('float32')/255\n",
        "x_test=x_test.reshape(x_test.shape[0], 28, 28, 1).astype('float32')/255"
      ],
      "metadata": {
        "colab": {
          "base_uri": "https://localhost:8080/"
        },
        "id": "4JehX908UJOh",
        "outputId": "0a29b4ad-331c-426b-9308-d6fbba27ea6f"
      },
      "execution_count": 3,
      "outputs": [
        {
          "output_type": "stream",
          "name": "stdout",
          "text": [
            "Downloading data from https://storage.googleapis.com/tensorflow/tf-keras-datasets/mnist.npz\n",
            "11490434/11490434 [==============================] - 0s 0us/step\n"
          ]
        }
      ]
    },
    {
      "cell_type": "code",
      "source": [
        "#생성자 모델 만들기\n",
        "autoencoder = Sequential()\n",
        "\n",
        "#인코딩 부분 (차원을 축소하는 부분)\n",
        "autoencoder.add(Conv2D(16, kernel_size=3, padding='same', input_shape=(28,28,1), activation='relu'))\n",
        "autoencoder.add(MaxPooling2D(pool_size=2, padding='same'))\n",
        "#입력을 줄이기 위한 방법 : MaxPooling 사용\n",
        "autoencoder.add(Conv2D(8, kernel_size=3, padding='same', activation='relu'))\n",
        "autoencoder.add(MaxPooling2D(pool_size=2, padding='same'))\n",
        "autoencoder.add(Conv2D(8, kernel_size=3, strides=2, padding='same', activation='relu'))\n",
        "\n",
        "#디코딩 부분 (차원을 늘리는 부분)\n",
        "autoencoder.add(Conv2D(8, kernel_size=3, padding='same', activation='relu'))\n",
        "autoencoder.add(UpSampling2D())\n",
        "autoencoder.add(Conv2D(8, kernel_size=3, padding='same', activation='relu'))\n",
        "autoencoder.add(UpSampling2D())\n",
        "autoencoder.add(Conv2D(8, kernel_size=3, activation='relu'))\n",
        "#padding 과정 없음 > 크기 축소, kernel_size 3*3 > 차원 축소\n",
        "autoencoder.add(UpSampling2D())\n",
        "autoencoder.add(Conv2D(1, kernel_size=3, padding='same', activation='sigmoid'))\n",
        "\n",
        "#전체 구조 확인\n",
        "autoencoder.summary()"
      ],
      "metadata": {
        "colab": {
          "base_uri": "https://localhost:8080/"
        },
        "id": "8kDxMhi9U94x",
        "outputId": "e9e9d84c-1ec4-4e25-cf92-6a17ebd835c0"
      },
      "execution_count": 6,
      "outputs": [
        {
          "output_type": "stream",
          "name": "stdout",
          "text": [
            "Model: \"sequential_1\"\n",
            "_________________________________________________________________\n",
            " Layer (type)                Output Shape              Param #   \n",
            "=================================================================\n",
            " conv2d_6 (Conv2D)           (None, 28, 28, 16)        160       \n",
            "                                                                 \n",
            " max_pooling2d_2 (MaxPooling  (None, 14, 14, 16)       0         \n",
            " 2D)                                                             \n",
            "                                                                 \n",
            " conv2d_7 (Conv2D)           (None, 14, 14, 8)         1160      \n",
            "                                                                 \n",
            " max_pooling2d_3 (MaxPooling  (None, 7, 7, 8)          0         \n",
            " 2D)                                                             \n",
            "                                                                 \n",
            " conv2d_8 (Conv2D)           (None, 4, 4, 8)           584       \n",
            "                                                                 \n",
            " conv2d_9 (Conv2D)           (None, 4, 4, 8)           584       \n",
            "                                                                 \n",
            " up_sampling2d_2 (UpSampling  (None, 8, 8, 8)          0         \n",
            " 2D)                                                             \n",
            "                                                                 \n",
            " conv2d_10 (Conv2D)          (None, 8, 8, 8)           584       \n",
            "                                                                 \n",
            " up_sampling2d_3 (UpSampling  (None, 16, 16, 8)        0         \n",
            " 2D)                                                             \n",
            "                                                                 \n",
            " conv2d_11 (Conv2D)          (None, 14, 14, 8)         584       \n",
            "                                                                 \n",
            " up_sampling2d_4 (UpSampling  (None, 28, 28, 8)        0         \n",
            " 2D)                                                             \n",
            "                                                                 \n",
            " conv2d_12 (Conv2D)          (None, 28, 28, 1)         73        \n",
            "                                                                 \n",
            "=================================================================\n",
            "Total params: 3,729\n",
            "Trainable params: 3,729\n",
            "Non-trainable params: 0\n",
            "_________________________________________________________________\n"
          ]
        }
      ]
    },
    {
      "cell_type": "code",
      "source": [
        "#컴파일 및 학습\n",
        "\n",
        "autoencoder.compile(loss='binary_crossentropy', optimizer='adam')\n",
        "autoencoder.fit(x_train, x_train, epochs=50, batch_size=128, validation_data=(x_test, x_test))\n",
        "\n",
        "#학습된 결과 출력\n",
        "random_test = np.random.randint(x_test.shape[0], size=5)\n",
        "\n",
        "#테스트 할 이미지 랜덤 호출\n",
        "ae_imgs=autoencoder.predict(x_test) #만든 오토인코더 모델에 넣음\n"
      ],
      "metadata": {
        "colab": {
          "base_uri": "https://localhost:8080/",
          "height": 1000
        },
        "id": "ZidXCTtYWUuB",
        "outputId": "b7d8de7b-a379-49d8-ded3-071d268c633a"
      },
      "execution_count": 7,
      "outputs": [
        {
          "output_type": "stream",
          "name": "stdout",
          "text": [
            "Epoch 1/50\n",
            "469/469 [==============================] - 18s 11ms/step - loss: 0.2032 - val_loss: 0.1391\n",
            "Epoch 2/50\n",
            "469/469 [==============================] - 4s 8ms/step - loss: 0.1260 - val_loss: 0.1154\n",
            "Epoch 3/50\n",
            "469/469 [==============================] - 4s 9ms/step - loss: 0.1124 - val_loss: 0.1077\n",
            "Epoch 4/50\n",
            "469/469 [==============================] - 5s 10ms/step - loss: 0.1070 - val_loss: 0.1043\n",
            "Epoch 5/50\n",
            "469/469 [==============================] - 4s 8ms/step - loss: 0.1038 - val_loss: 0.1013\n",
            "Epoch 6/50\n",
            "469/469 [==============================] - 4s 8ms/step - loss: 0.1016 - val_loss: 0.0993\n",
            "Epoch 7/50\n",
            "469/469 [==============================] - 4s 9ms/step - loss: 0.0998 - val_loss: 0.0980\n",
            "Epoch 8/50\n",
            "469/469 [==============================] - 4s 8ms/step - loss: 0.0984 - val_loss: 0.0967\n",
            "Epoch 9/50\n",
            "469/469 [==============================] - 4s 8ms/step - loss: 0.0972 - val_loss: 0.0954\n",
            "Epoch 10/50\n",
            "469/469 [==============================] - 4s 9ms/step - loss: 0.0961 - val_loss: 0.0947\n",
            "Epoch 11/50\n",
            "469/469 [==============================] - 4s 8ms/step - loss: 0.0952 - val_loss: 0.0937\n",
            "Epoch 12/50\n",
            "469/469 [==============================] - 4s 8ms/step - loss: 0.0944 - val_loss: 0.0931\n",
            "Epoch 13/50\n",
            "469/469 [==============================] - 4s 8ms/step - loss: 0.0937 - val_loss: 0.0924\n",
            "Epoch 14/50\n",
            "469/469 [==============================] - 4s 9ms/step - loss: 0.0930 - val_loss: 0.0915\n",
            "Epoch 15/50\n",
            "469/469 [==============================] - 3s 7ms/step - loss: 0.0924 - val_loss: 0.0912\n",
            "Epoch 16/50\n",
            "469/469 [==============================] - 4s 8ms/step - loss: 0.0918 - val_loss: 0.0903\n",
            "Epoch 17/50\n",
            "469/469 [==============================] - 4s 9ms/step - loss: 0.0913 - val_loss: 0.0900\n",
            "Epoch 18/50\n",
            "469/469 [==============================] - 4s 7ms/step - loss: 0.0907 - val_loss: 0.0895\n",
            "Epoch 19/50\n",
            "469/469 [==============================] - 4s 8ms/step - loss: 0.0902 - val_loss: 0.0893\n",
            "Epoch 20/50\n",
            "469/469 [==============================] - 4s 9ms/step - loss: 0.0898 - val_loss: 0.0887\n",
            "Epoch 21/50\n",
            "469/469 [==============================] - 4s 7ms/step - loss: 0.0894 - val_loss: 0.0880\n",
            "Epoch 22/50\n",
            "469/469 [==============================] - 3s 7ms/step - loss: 0.0890 - val_loss: 0.0878\n",
            "Epoch 23/50\n",
            "469/469 [==============================] - 4s 8ms/step - loss: 0.0886 - val_loss: 0.0874\n",
            "Epoch 24/50\n",
            "469/469 [==============================] - 4s 8ms/step - loss: 0.0883 - val_loss: 0.0872\n",
            "Epoch 25/50\n",
            "469/469 [==============================] - 4s 7ms/step - loss: 0.0880 - val_loss: 0.0868\n",
            "Epoch 26/50\n",
            "469/469 [==============================] - 4s 8ms/step - loss: 0.0877 - val_loss: 0.0865\n",
            "Epoch 27/50\n",
            "469/469 [==============================] - 4s 9ms/step - loss: 0.0875 - val_loss: 0.0862\n",
            "Epoch 28/50\n",
            "469/469 [==============================] - 3s 7ms/step - loss: 0.0873 - val_loss: 0.0860\n",
            "Epoch 29/50\n",
            "469/469 [==============================] - 4s 8ms/step - loss: 0.0870 - val_loss: 0.0858\n",
            "Epoch 30/50\n",
            "469/469 [==============================] - 4s 9ms/step - loss: 0.0868 - val_loss: 0.0859\n",
            "Epoch 31/50\n",
            "469/469 [==============================] - 3s 7ms/step - loss: 0.0866 - val_loss: 0.0856\n",
            "Epoch 32/50\n",
            "469/469 [==============================] - 4s 8ms/step - loss: 0.0864 - val_loss: 0.0852\n",
            "Epoch 33/50\n",
            "469/469 [==============================] - 4s 8ms/step - loss: 0.0862 - val_loss: 0.0851\n",
            "Epoch 34/50\n",
            "469/469 [==============================] - 4s 8ms/step - loss: 0.0861 - val_loss: 0.0850\n",
            "Epoch 35/50\n",
            "469/469 [==============================] - 4s 8ms/step - loss: 0.0859 - val_loss: 0.0848\n",
            "Epoch 36/50\n",
            "469/469 [==============================] - 4s 7ms/step - loss: 0.0858 - val_loss: 0.0852\n",
            "Epoch 37/50\n",
            "469/469 [==============================] - 4s 9ms/step - loss: 0.0856 - val_loss: 0.0845\n",
            "Epoch 38/50\n",
            "469/469 [==============================] - 4s 8ms/step - loss: 0.0855 - val_loss: 0.0849\n",
            "Epoch 39/50\n",
            "469/469 [==============================] - 3s 7ms/step - loss: 0.0854 - val_loss: 0.0841\n",
            "Epoch 40/50\n",
            "469/469 [==============================] - 4s 9ms/step - loss: 0.0852 - val_loss: 0.0841\n",
            "Epoch 41/50\n",
            "469/469 [==============================] - 4s 7ms/step - loss: 0.0851 - val_loss: 0.0843\n",
            "Epoch 42/50\n",
            "469/469 [==============================] - 4s 7ms/step - loss: 0.0849 - val_loss: 0.0843\n",
            "Epoch 43/50\n",
            "469/469 [==============================] - 4s 9ms/step - loss: 0.0848 - val_loss: 0.0836\n",
            "Epoch 44/50\n",
            "469/469 [==============================] - 4s 8ms/step - loss: 0.0847 - val_loss: 0.0835\n",
            "Epoch 45/50\n",
            "469/469 [==============================] - 4s 8ms/step - loss: 0.0846 - val_loss: 0.0833\n",
            "Epoch 46/50\n",
            "469/469 [==============================] - 4s 8ms/step - loss: 0.0844 - val_loss: 0.0835\n",
            "Epoch 47/50\n",
            "469/469 [==============================] - 4s 9ms/step - loss: 0.0843 - val_loss: 0.0833\n",
            "Epoch 48/50\n",
            "469/469 [==============================] - 4s 8ms/step - loss: 0.0842 - val_loss: 0.0831\n",
            "Epoch 49/50\n",
            "469/469 [==============================] - 3s 7ms/step - loss: 0.0841 - val_loss: 0.0831\n",
            "Epoch 50/50\n",
            "469/469 [==============================] - 4s 9ms/step - loss: 0.0840 - val_loss: 0.0830\n",
            "313/313 [==============================] - 1s 2ms/step\n"
          ]
        },
        {
          "output_type": "execute_result",
          "data": {
            "text/plain": [
              "<Figure size 504x144 with 0 Axes>"
            ]
          },
          "metadata": {},
          "execution_count": 7
        },
        {
          "output_type": "display_data",
          "data": {
            "text/plain": [
              "<Figure size 504x144 with 0 Axes>"
            ]
          },
          "metadata": {}
        }
      ]
    },
    {
      "cell_type": "code",
      "source": [
        "#데이터 시각화\n",
        "\n",
        "plt.figure(figsize=(7,2))\n",
        "\n",
        "for i, image_idx in enumerate(random_test):\n",
        "    #랜덤하게 추출한 이미지를 차례로 나열\n",
        "    ax=plt.subplot(2,7,i+1)\n",
        "    plt.imshow(x_test[image_idx].reshape(28,28))\n",
        "    #테스트할 이미지를 먼저 그대로 보여줌\n",
        "    ax.axis('off')\n",
        "    ax=plt.subplot(2,7,7+i+1)\n",
        "    plt.imshow(ae_imgs[image_idx].reshape(28,28))\n",
        "    #오토인코딩 결과를 다음 열에 출력함\n",
        "    ax.axis('off')\n",
        "\n",
        "plt.show()"
      ],
      "metadata": {
        "colab": {
          "base_uri": "https://localhost:8080/",
          "height": 138
        },
        "id": "sbtknoahYDPR",
        "outputId": "6b45fcbf-19f7-4b5f-f8d8-3ac336b2c8cb"
      },
      "execution_count": 20,
      "outputs": [
        {
          "output_type": "display_data",
          "data": {
            "text/plain": [
              "<Figure size 504x144 with 10 Axes>"
            ],
            "image/png": "[encoded data removed]"
          },
          "metadata": {
            "needs_background": "light"
          }
        }
      ]
    },
    {
      "cell_type": "code",
      "source": [],
      "metadata": {
        "id": "uLT3YdjbZ5GP"
      },
      "execution_count": null,
      "outputs": []
    }
  ]
}