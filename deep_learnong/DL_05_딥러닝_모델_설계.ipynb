{
  "nbformat": 4,
  "nbformat_minor": 0,
  "metadata": {
    "colab": {
      "provenance": []
    },
    "kernelspec": {
      "name": "python3",
      "display_name": "Python 3"
    },
    "language_info": {
      "name": "python"
    },
    "accelerator": "GPU",
    "gpuClass": "standard"
  },
  "cells": [
    {
      "cell_type": "code",
      "execution_count": null,
      "metadata": {
        "id": "hHbIXNrFba5h"
      },
      "outputs": [],
      "source": [
        "import numpy as np\n",
        "import pandas as pd\n",
        "import matplotlib.pyplot as plt"
      ]
    },
    {
      "cell_type": "code",
      "source": [
        "from tensorflow.keras.models import Sequential\n",
        "from tensorflow.keras.layers import Dense"
      ],
      "metadata": {
        "id": "4hTKXnjkbwPu"
      },
      "execution_count": null,
      "outputs": []
    },
    {
      "cell_type": "code",
      "source": [
        "Data_set=np.loadtxt('/content/drive/MyDrive/sesac_ai/code/deeplearning/data/ThoraricSurgery3.csv', delimiter=',')\n",
        "Data_set\n",
        "#delimiter 구분자자"
      ],
      "metadata": {
        "colab": {
          "base_uri": "https://localhost:8080/"
        },
        "id": "CdxH2q8Dbyh0",
        "outputId": "8139194a-af5a-41ba-b9f3-0aa8d3d31131"
      },
      "execution_count": null,
      "outputs": [
        {
          "output_type": "execute_result",
          "data": {
            "text/plain": [
              "array([[ 1.  ,  2.88,  2.16, ...,  0.  , 60.  ,  0.  ],\n",
              "       [ 2.  ,  3.4 ,  1.88, ...,  0.  , 51.  ,  0.  ],\n",
              "       [ 2.  ,  2.76,  2.08, ...,  0.  , 59.  ,  0.  ],\n",
              "       ...,\n",
              "       [ 2.  ,  3.04,  2.08, ...,  0.  , 52.  ,  0.  ],\n",
              "       [ 2.  ,  1.96,  1.68, ...,  0.  , 79.  ,  0.  ],\n",
              "       [ 2.  ,  4.72,  3.56, ...,  0.  , 51.  ,  0.  ]])"
            ]
          },
          "metadata": {},
          "execution_count": 4
        }
      ]
    },
    {
      "cell_type": "code",
      "source": [
        "X=Data_set[:, :-1] #환자의 진찰 기록을 지정정\n",
        "y=Data_set[:, -1] #수술 1년 후 사망 생존 여부 지정\n",
        "\n",
        "#X=Data_set[:, 0:16] \n",
        "#y=Data_set[:, 16]"
      ],
      "metadata": {
        "id": "_JlV4U3Dc16V"
      },
      "execution_count": null,
      "outputs": []
    },
    {
      "cell_type": "code",
      "source": [
        "#딥러닝 모델의 구조를 결정\n",
        "\n",
        "model=Sequential()\n",
        "model.add(Dense(30, input_dim=16, activation='relu')) #은닉충/ 반드시 input_dim 포함함\n",
        "model.add(Dense(1, activation='sigmoid')) #출력층 /이진 분류 : sigmoid (0,1 분류류)"
      ],
      "metadata": {
        "id": "jqE-VFJYfOgN"
      },
      "execution_count": null,
      "outputs": []
    },
    {
      "cell_type": "code",
      "source": [
        "model.compile(loss='binary_crossentropy', optimizer='adam', metrics=['accuracy'])\n",
        "history=model.fit(X,y, epochs=10, batch_size=16)"
      ],
      "metadata": {
        "colab": {
          "base_uri": "https://localhost:8080/"
        },
        "id": "MvOfZuhMfjnk",
        "outputId": "01553448-ff42-489d-a8f2-694343ab0d47"
      },
      "execution_count": null,
      "outputs": [
        {
          "output_type": "stream",
          "name": "stdout",
          "text": [
            "Epoch 1/10\n",
            "30/30 [==============================] - 1s 3ms/step - loss: 0.4398 - accuracy: 0.8511\n",
            "Epoch 2/10\n",
            "30/30 [==============================] - 0s 3ms/step - loss: 0.4306 - accuracy: 0.8511\n",
            "Epoch 3/10\n",
            "30/30 [==============================] - 0s 3ms/step - loss: 0.4186 - accuracy: 0.8511\n",
            "Epoch 4/10\n",
            "30/30 [==============================] - 0s 3ms/step - loss: 0.4295 - accuracy: 0.8511\n",
            "Epoch 5/10\n",
            "30/30 [==============================] - 0s 3ms/step - loss: 0.4225 - accuracy: 0.8511\n",
            "Epoch 6/10\n",
            "30/30 [==============================] - 0s 3ms/step - loss: 0.4226 - accuracy: 0.8511\n",
            "Epoch 7/10\n",
            "30/30 [==============================] - 0s 3ms/step - loss: 0.4209 - accuracy: 0.8511\n",
            "Epoch 8/10\n",
            "30/30 [==============================] - 0s 3ms/step - loss: 0.4192 - accuracy: 0.8511\n",
            "Epoch 9/10\n",
            "30/30 [==============================] - 0s 3ms/step - loss: 0.4134 - accuracy: 0.8511\n",
            "Epoch 10/10\n",
            "30/30 [==============================] - 0s 3ms/step - loss: 0.4156 - accuracy: 0.8511\n"
          ]
        }
      ]
    },
    {
      "cell_type": "code",
      "source": [],
      "metadata": {
        "id": "cd4BD_izgcoS"
      },
      "execution_count": null,
      "outputs": []
    }
  ]
}