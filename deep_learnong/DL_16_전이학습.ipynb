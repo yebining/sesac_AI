{
  "nbformat": 4,
  "nbformat_minor": 0,
  "metadata": {
    "colab": {
      "provenance": []
    },
    "kernelspec": {
      "name": "python3",
      "display_name": "Python 3"
    },
    "language_info": {
      "name": "python"
    },
    "accelerator": "GPU",
    "gpuClass": "standard"
  },
  "cells": [
    {
      "cell_type": "code",
      "source": [
        "from google.colab import drive\n",
        "drive.mount('/content/drive')"
      ],
      "metadata": {
        "colab": {
          "base_uri": "https://localhost:8080/"
        },
        "id": "n060GlbbjwHW",
        "outputId": "6d42b5b2-5645-4a13-ebde-3e11c8630140"
      },
      "execution_count": null,
      "outputs": [
        {
          "output_type": "stream",
          "name": "stdout",
          "text": [
            "Drive already mounted at /content/drive; to attempt to forcibly remount, call drive.mount(\"/content/drive\", force_remount=True).\n"
          ]
        }
      ]
    },
    {
      "cell_type": "code",
      "source": [
        "from tensorflow.keras.models import Sequential\n",
        "from tensorflow.keras.layers import Dense, Activation, Dropout, Flatten, Conv2D, MaxPooling2D\n",
        "from tensorflow.keras.preprocessing.image import ImageDataGenerator\n",
        "from tensorflow.keras.callbacks import EarlyStopping\n",
        "from tensorflow.keras import optimizers, Input, models, layers, optimizers, metrics\n",
        "\n",
        "import numpy as np \n",
        "import pandas as pd \n",
        "import matplotlib.pyplot as plt "
      ],
      "metadata": {
        "id": "lFHEqF0VkaGF"
      },
      "execution_count": null,
      "outputs": []
    },
    {
      "cell_type": "code",
      "source": [
        "# /content/drive/MyDrive/data/train\n",
        "\n",
        "# 학습 데이터 셋을 이미지 증식 설정 하는 부분 \n",
        "train_datagen = ImageDataGenerator(rescale = 1./255,\n",
        "                                  # 주어진 이미지 크기 설정(0~1 설정)\n",
        "                                  horizontal_flip = True,\n",
        "                                  # 수평 대칭 이미지를 50% 확률로 만들어 추가 \n",
        "                                  # 주어진 이미지 수평, 수직으로 뒤집어줌 \n",
        "                                  width_shift_range = 0.1, \n",
        "                                  # 전체 크기의 10% 범위 내에서 좌우로 이동 \n",
        "                                  height_shift_range = 0.1,\n",
        "                                  # 전체 크기의 10% 범위 내에서 상하로 이동 \n",
        "                                  #rotation_range = 5,\n",
        "                                  # 정해진 각도(5도) 만큼 회전 \n",
        "                                  #shear_range =0.7,\n",
        "                                  # 좌표 하나를 고정, 나머지 이동 \n",
        "                                  #zoom_range = 1.2,\n",
        "                                  # 확대, 축소 \n",
        "                                  #vertical_flip =True,\n",
        "                                  # 수직 대칭 이미지 \n",
        "                                  #fill_mode='nearest' \n",
        "                                  # 빈 공간을 채움, nearest 옵션: 가장 비슷한 색으로 채움 \n",
        "                                  )\n",
        "\n",
        "# 학습 데이터 셋이 있는 폴더 위치 지정 \n",
        "train_generator = train_datagen.flow_from_directory(\n",
        "                  '/content/drive/MyDrive/data/train', \n",
        "                  target_size=(150,150), \n",
        "                  batch_size = 5, \n",
        "                  class_mode='binary'\n",
        "                  )\n"
      ],
      "metadata": {
        "colab": {
          "base_uri": "https://localhost:8080/"
        },
        "id": "eMOQm3YnkQTi",
        "outputId": "e8fcf052-6a23-44c2-9f57-ac4151399dcc"
      },
      "execution_count": null,
      "outputs": [
        {
          "output_type": "stream",
          "name": "stdout",
          "text": [
            "Found 160 images belonging to 2 classes.\n"
          ]
        }
      ]
    },
    {
      "cell_type": "code",
      "source": [
        "# 테스트 데이터 셋을 이미지 증식 설정 하는 부분 \n",
        "# 테스트 데이터 셋은 이미지 증식 안함 \n",
        "test_datagen = ImageDataGenerator(rescale = 1./255)\n",
        "\n",
        "\n",
        "# 테스트 데이터 셋이 있는 폴더 위치 지정 \n",
        "test_generator = test_datagen.flow_from_directory(\n",
        "                  '/content/drive/MyDrive/data/test', \n",
        "                  target_size=(150,150), \n",
        "                  batch_size = 5, \n",
        "                  class_mode='binary'\n",
        "                  )"
      ],
      "metadata": {
        "colab": {
          "base_uri": "https://localhost:8080/"
        },
        "id": "3WI5EyfqkQWJ",
        "outputId": "7c7a94fc-1b64-46ae-82ec-f54087c7ce7d"
      },
      "execution_count": null,
      "outputs": [
        {
          "output_type": "stream",
          "name": "stdout",
          "text": [
            "Found 120 images belonging to 2 classes.\n"
          ]
        }
      ]
    },
    {
      "cell_type": "code",
      "source": [
        "# 모델링 (CNN)\n",
        "\n",
        "model = Sequential()\n",
        "model.add(Conv2D(32, (3,3), input_shape=(150,150,3))) \n",
        "# 1 : 흑백, 3 : 컬러(R,G,B)\n",
        "model.add(Activation('relu'))\n",
        "model.add(MaxPooling2D(pool_size=(2,2)))\n",
        "\n",
        "model.add(Conv2D(32,(3,3)))\n",
        "model.add(Activation('relu'))\n",
        "model.add(MaxPooling2D(pool_size=(2,2)))\n",
        "\n",
        "model.add(Conv2D(64,(3,3)))\n",
        "model.add(Activation('relu'))\n",
        "model.add(MaxPooling2D(pool_size=(2,2)))\n",
        "\n",
        "model.add(Flatten()) \n",
        "model.add(Dense(64, activation='relu'))\n",
        "model.add(Dropout(0.5))\n",
        "model.add(Dense(1, activation='sigmoid'))\n",
        "\n",
        "model.summary()\n"
      ],
      "metadata": {
        "colab": {
          "base_uri": "https://localhost:8080/"
        },
        "id": "LtR8ZuVzkQZK",
        "outputId": "2d1fe383-9042-427b-c888-fc67834c72b8"
      },
      "execution_count": null,
      "outputs": [
        {
          "output_type": "stream",
          "name": "stdout",
          "text": [
            "Model: \"sequential_6\"\n",
            "_________________________________________________________________\n",
            " Layer (type)                Output Shape              Param #   \n",
            "=================================================================\n",
            " conv2d_9 (Conv2D)           (None, 148, 148, 32)      896       \n",
            "                                                                 \n",
            " activation_9 (Activation)   (None, 148, 148, 32)      0         \n",
            "                                                                 \n",
            " max_pooling2d_9 (MaxPooling  (None, 74, 74, 32)       0         \n",
            " 2D)                                                             \n",
            "                                                                 \n",
            " conv2d_10 (Conv2D)          (None, 72, 72, 32)        9248      \n",
            "                                                                 \n",
            " activation_10 (Activation)  (None, 72, 72, 32)        0         \n",
            "                                                                 \n",
            " max_pooling2d_10 (MaxPoolin  (None, 36, 36, 32)       0         \n",
            " g2D)                                                            \n",
            "                                                                 \n",
            " conv2d_11 (Conv2D)          (None, 34, 34, 64)        18496     \n",
            "                                                                 \n",
            " activation_11 (Activation)  (None, 34, 34, 64)        0         \n",
            "                                                                 \n",
            " max_pooling2d_11 (MaxPoolin  (None, 17, 17, 64)       0         \n",
            " g2D)                                                            \n",
            "                                                                 \n",
            " flatten_6 (Flatten)         (None, 18496)             0         \n",
            "                                                                 \n",
            " dense_12 (Dense)            (None, 64)                1183808   \n",
            "                                                                 \n",
            " dropout_6 (Dropout)         (None, 64)                0         \n",
            "                                                                 \n",
            " dense_13 (Dense)            (None, 1)                 65        \n",
            "                                                                 \n",
            "=================================================================\n",
            "Total params: 1,212,513\n",
            "Trainable params: 1,212,513\n",
            "Non-trainable params: 0\n",
            "_________________________________________________________________\n"
          ]
        }
      ]
    },
    {
      "cell_type": "code",
      "source": [
        "# 모델 실행 \n",
        "\n",
        "model.compile(loss ='binary_crossentropy',\n",
        "              optimizer=optimizers.Adam(learning_rate=0.0002), \n",
        "              metrics=['accuracy'])\n",
        "\n",
        "# 학습 조기 중단 \n",
        "early_stopping_callback = EarlyStopping(monitor='val_loss', patience=5)\n",
        "\n",
        "# 모델 실행 \n",
        "history = model.fit(\n",
        "          train_generator, \n",
        "          epochs=100,\n",
        "          validation_data = test_generator,\n",
        "          validation_steps = 10, \n",
        "          callbacks=[early_stopping_callback]\n",
        "      )\n"
      ],
      "metadata": {
        "colab": {
          "base_uri": "https://localhost:8080/"
        },
        "id": "GJJgtZ2pkQa1",
        "outputId": "2c1c7acc-2883-4dde-96e3-db9e1a0f9cff"
      },
      "execution_count": null,
      "outputs": [
        {
          "output_type": "stream",
          "name": "stdout",
          "text": [
            "Epoch 1/100\n",
            "32/32 [==============================] - 4s 53ms/step - loss: 0.7032 - accuracy: 0.5250 - val_loss: 0.7259 - val_accuracy: 0.4200\n",
            "Epoch 2/100\n",
            "32/32 [==============================] - 2s 49ms/step - loss: 0.6930 - accuracy: 0.5312 - val_loss: 0.6842 - val_accuracy: 0.5200\n",
            "Epoch 3/100\n",
            "32/32 [==============================] - 1s 42ms/step - loss: 0.6938 - accuracy: 0.5250 - val_loss: 0.6897 - val_accuracy: 0.4400\n",
            "Epoch 4/100\n",
            "32/32 [==============================] - 1s 43ms/step - loss: 0.6869 - accuracy: 0.5750 - val_loss: 0.6837 - val_accuracy: 0.5000\n",
            "Epoch 5/100\n",
            "32/32 [==============================] - 2s 60ms/step - loss: 0.6797 - accuracy: 0.5938 - val_loss: 0.6699 - val_accuracy: 0.5800\n",
            "Epoch 6/100\n",
            "32/32 [==============================] - 2s 68ms/step - loss: 0.6809 - accuracy: 0.5437 - val_loss: 0.6479 - val_accuracy: 0.6000\n",
            "Epoch 7/100\n",
            "32/32 [==============================] - 1s 43ms/step - loss: 0.6626 - accuracy: 0.6562 - val_loss: 0.6298 - val_accuracy: 0.6000\n",
            "Epoch 8/100\n",
            "32/32 [==============================] - 2s 48ms/step - loss: 0.6511 - accuracy: 0.6250 - val_loss: 0.6165 - val_accuracy: 0.5800\n",
            "Epoch 9/100\n",
            "32/32 [==============================] - 1s 43ms/step - loss: 0.6016 - accuracy: 0.6875 - val_loss: 0.6192 - val_accuracy: 0.5800\n",
            "Epoch 10/100\n",
            "32/32 [==============================] - 1s 43ms/step - loss: 0.5560 - accuracy: 0.7437 - val_loss: 0.4498 - val_accuracy: 0.8400\n",
            "Epoch 11/100\n",
            "32/32 [==============================] - 1s 44ms/step - loss: 0.5653 - accuracy: 0.7500 - val_loss: 0.4911 - val_accuracy: 0.8600\n",
            "Epoch 12/100\n",
            "32/32 [==============================] - 1s 43ms/step - loss: 0.5043 - accuracy: 0.8062 - val_loss: 0.5376 - val_accuracy: 0.6400\n",
            "Epoch 13/100\n",
            "32/32 [==============================] - 1s 44ms/step - loss: 0.4786 - accuracy: 0.8000 - val_loss: 0.3863 - val_accuracy: 0.8000\n",
            "Epoch 14/100\n",
            "32/32 [==============================] - 2s 65ms/step - loss: 0.4175 - accuracy: 0.8313 - val_loss: 0.3022 - val_accuracy: 0.9000\n",
            "Epoch 15/100\n",
            "32/32 [==============================] - 1s 43ms/step - loss: 0.3871 - accuracy: 0.8687 - val_loss: 0.3283 - val_accuracy: 0.8800\n",
            "Epoch 16/100\n",
            "32/32 [==============================] - 1s 42ms/step - loss: 0.3570 - accuracy: 0.8625 - val_loss: 0.5045 - val_accuracy: 0.7200\n",
            "Epoch 17/100\n",
            "32/32 [==============================] - 1s 43ms/step - loss: 0.3359 - accuracy: 0.8687 - val_loss: 0.1651 - val_accuracy: 1.0000\n",
            "Epoch 18/100\n",
            "32/32 [==============================] - 1s 44ms/step - loss: 0.2828 - accuracy: 0.9187 - val_loss: 0.2355 - val_accuracy: 0.9000\n",
            "Epoch 19/100\n",
            "32/32 [==============================] - 1s 42ms/step - loss: 0.2539 - accuracy: 0.9187 - val_loss: 0.2001 - val_accuracy: 0.9200\n",
            "Epoch 20/100\n",
            "32/32 [==============================] - 1s 43ms/step - loss: 0.2314 - accuracy: 0.9062 - val_loss: 0.1457 - val_accuracy: 0.9600\n",
            "Epoch 21/100\n",
            "32/32 [==============================] - 4s 123ms/step - loss: 0.2258 - accuracy: 0.9062 - val_loss: 0.1429 - val_accuracy: 0.9600\n",
            "Epoch 22/100\n",
            "32/32 [==============================] - 3s 77ms/step - loss: 0.1546 - accuracy: 0.9500 - val_loss: 0.1466 - val_accuracy: 0.9400\n",
            "Epoch 23/100\n",
            "32/32 [==============================] - 1s 44ms/step - loss: 0.2207 - accuracy: 0.9312 - val_loss: 0.1065 - val_accuracy: 0.9800\n",
            "Epoch 24/100\n",
            "32/32 [==============================] - 1s 43ms/step - loss: 0.1906 - accuracy: 0.9312 - val_loss: 0.1668 - val_accuracy: 0.9000\n",
            "Epoch 25/100\n",
            "32/32 [==============================] - 2s 51ms/step - loss: 0.1650 - accuracy: 0.9500 - val_loss: 0.1529 - val_accuracy: 0.9200\n",
            "Epoch 26/100\n",
            "32/32 [==============================] - 2s 67ms/step - loss: 0.1744 - accuracy: 0.9563 - val_loss: 0.0673 - val_accuracy: 1.0000\n",
            "Epoch 27/100\n",
            "32/32 [==============================] - 2s 51ms/step - loss: 0.1389 - accuracy: 0.9563 - val_loss: 0.1101 - val_accuracy: 0.9600\n",
            "Epoch 28/100\n",
            "32/32 [==============================] - 1s 43ms/step - loss: 0.1143 - accuracy: 0.9563 - val_loss: 0.1107 - val_accuracy: 0.9800\n",
            "Epoch 29/100\n",
            "32/32 [==============================] - 1s 44ms/step - loss: 0.1404 - accuracy: 0.9500 - val_loss: 0.1021 - val_accuracy: 0.9400\n",
            "Epoch 30/100\n",
            "32/32 [==============================] - 1s 44ms/step - loss: 0.1044 - accuracy: 0.9625 - val_loss: 0.0972 - val_accuracy: 0.9600\n",
            "Epoch 31/100\n",
            "32/32 [==============================] - 1s 42ms/step - loss: 0.1180 - accuracy: 0.9750 - val_loss: 0.1415 - val_accuracy: 0.9400\n"
          ]
        }
      ]
    },
    {
      "cell_type": "code",
      "execution_count": null,
      "metadata": {
        "colab": {
          "base_uri": "https://localhost:8080/",
          "height": 279
        },
        "id": "nOYJict9jf46",
        "outputId": "d71c43e4-9f91-4943-99c9-26aae4bf202f"
      },
      "outputs": [
        {
          "output_type": "display_data",
          "data": {
            "text/plain": [
              "<Figure size 432x288 with 1 Axes>"
            ],
            "image/png": "[encoded data removed]"
          },
          "metadata": {
            "needs_background": "light"
          }
        }
      ],
      "source": [
        "# 검증셋과 학습셋의 오차 저장 \n",
        "\n",
        "y_vloss = history.history['val_loss']\n",
        "y_loss = history.history['loss']\n",
        "\n",
        "# 그래프로 표현 \n",
        "x_len = np.arange(len(y_loss))\n",
        "plt.plot(x_len, y_vloss, marker='.', c='red', label='Testset_loss')\n",
        "plt.plot(x_len, y_loss, marker='.', c='blue', label='Trainset_loss')\n",
        "\n",
        "plt.legend(loc='best')\n",
        "plt.grid()\n",
        "plt.xlabel('epoch')\n",
        "plt.ylabel('loss')\n",
        "plt.show()"
      ]
    },
    {
      "cell_type": "code",
      "source": [
        "# 전이 학습(Transfer Learning)\n",
        "\n",
        "from tensorflow.keras.applications import VGG16"
      ],
      "metadata": {
        "id": "jyDslzvvv7PT"
      },
      "execution_count": null,
      "outputs": []
    },
    {
      "cell_type": "code",
      "source": [
        "# 모델링 \n",
        "\n",
        "# VGG16 불러오김\n",
        "\n",
        "transfer_model = VGG16(weights= 'imagenet', include_top=False, input_shape=(150,150,3))\n",
        "transfer_model.trainable = False \n",
        "transfer_model.summary()"
      ],
      "metadata": {
        "colab": {
          "base_uri": "https://localhost:8080/"
        },
        "id": "V5P1rvbdwNwJ",
        "outputId": "c9382f8a-83a0-4b92-d148-934566b223c1"
      },
      "execution_count": null,
      "outputs": [
        {
          "output_type": "stream",
          "name": "stdout",
          "text": [
            "Model: \"vgg16\"\n",
            "_________________________________________________________________\n",
            " Layer (type)                Output Shape              Param #   \n",
            "=================================================================\n",
            " input_5 (InputLayer)        [(None, 150, 150, 3)]     0         \n",
            "                                                                 \n",
            " block1_conv1 (Conv2D)       (None, 150, 150, 64)      1792      \n",
            "                                                                 \n",
            " block1_conv2 (Conv2D)       (None, 150, 150, 64)      36928     \n",
            "                                                                 \n",
            " block1_pool (MaxPooling2D)  (None, 75, 75, 64)        0         \n",
            "                                                                 \n",
            " block2_conv1 (Conv2D)       (None, 75, 75, 128)       73856     \n",
            "                                                                 \n",
            " block2_conv2 (Conv2D)       (None, 75, 75, 128)       147584    \n",
            "                                                                 \n",
            " block2_pool (MaxPooling2D)  (None, 37, 37, 128)       0         \n",
            "                                                                 \n",
            " block3_conv1 (Conv2D)       (None, 37, 37, 256)       295168    \n",
            "                                                                 \n",
            " block3_conv2 (Conv2D)       (None, 37, 37, 256)       590080    \n",
            "                                                                 \n",
            " block3_conv3 (Conv2D)       (None, 37, 37, 256)       590080    \n",
            "                                                                 \n",
            " block3_pool (MaxPooling2D)  (None, 18, 18, 256)       0         \n",
            "                                                                 \n",
            " block4_conv1 (Conv2D)       (None, 18, 18, 512)       1180160   \n",
            "                                                                 \n",
            " block4_conv2 (Conv2D)       (None, 18, 18, 512)       2359808   \n",
            "                                                                 \n",
            " block4_conv3 (Conv2D)       (None, 18, 18, 512)       2359808   \n",
            "                                                                 \n",
            " block4_pool (MaxPooling2D)  (None, 9, 9, 512)         0         \n",
            "                                                                 \n",
            " block5_conv1 (Conv2D)       (None, 9, 9, 512)         2359808   \n",
            "                                                                 \n",
            " block5_conv2 (Conv2D)       (None, 9, 9, 512)         2359808   \n",
            "                                                                 \n",
            " block5_conv3 (Conv2D)       (None, 9, 9, 512)         2359808   \n",
            "                                                                 \n",
            " block5_pool (MaxPooling2D)  (None, 4, 4, 512)         0         \n",
            "                                                                 \n",
            "=================================================================\n",
            "Total params: 14,714,688\n",
            "Trainable params: 0\n",
            "Non-trainable params: 14,714,688\n",
            "_________________________________________________________________\n"
          ]
        }
      ]
    },
    {
      "cell_type": "code",
      "source": [
        "finetune_model = models.Sequential()\n",
        "finetune_model.add(transfer_model)\n",
        "finetune_model.add(Flatten())\n",
        "finetune_model.add(Dense(64, activation='relu'))\n",
        "finetune_model.add(Dropout(0.5))\n",
        "finetune_model.add(Dense(1, activation='sigmoid'))\n",
        "\n",
        "finetune_model.summary()"
      ],
      "metadata": {
        "colab": {
          "base_uri": "https://localhost:8080/"
        },
        "id": "6MdUYyFwwnKB",
        "outputId": "cb0f8384-13a8-41a0-a89f-09a975c980be"
      },
      "execution_count": null,
      "outputs": [
        {
          "output_type": "stream",
          "name": "stdout",
          "text": [
            "Model: \"sequential_7\"\n",
            "_________________________________________________________________\n",
            " Layer (type)                Output Shape              Param #   \n",
            "=================================================================\n",
            " vgg16 (Functional)          (None, 4, 4, 512)         14714688  \n",
            "                                                                 \n",
            " flatten_7 (Flatten)         (None, 8192)              0         \n",
            "                                                                 \n",
            " dense_14 (Dense)            (None, 64)                524352    \n",
            "                                                                 \n",
            " dropout_7 (Dropout)         (None, 64)                0         \n",
            "                                                                 \n",
            " dense_15 (Dense)            (None, 1)                 65        \n",
            "                                                                 \n",
            "=================================================================\n",
            "Total params: 15,239,105\n",
            "Trainable params: 524,417\n",
            "Non-trainable params: 14,714,688\n",
            "_________________________________________________________________\n"
          ]
        }
      ]
    },
    {
      "cell_type": "code",
      "source": [
        "# 모델 실행 \n",
        "finetune_model.compile(loss='binary_crossentropy', \n",
        "              optimizer=optimizers.Adam(learning_rate=0.0002),\n",
        "              metrics=['accuracy'])\n",
        "\n",
        "# 학습 조기 중단 \n",
        "early_stopping_callback = EarlyStopping(monitor='val_loss', patience=5)\n",
        "\n",
        "# 모델 실행 \n",
        "history = finetune_model.fit(\n",
        "          train_generator, \n",
        "          epochs=100,\n",
        "          validation_data = test_generator,\n",
        "          validation_steps = 10, \n",
        "          callbacks=[early_stopping_callback]\n",
        "      )\n"
      ],
      "metadata": {
        "colab": {
          "base_uri": "https://localhost:8080/"
        },
        "id": "2AVozANrxjAP",
        "outputId": "027bb780-a927-480b-ddee-3f9cfb2d1c7a"
      },
      "execution_count": null,
      "outputs": [
        {
          "output_type": "stream",
          "name": "stdout",
          "text": [
            "Epoch 1/100\n",
            "32/32 [==============================] - 3s 62ms/step - loss: 0.6939 - accuracy: 0.6000 - val_loss: 0.5710 - val_accuracy: 0.6400\n",
            "Epoch 2/100\n",
            "32/32 [==============================] - 2s 48ms/step - loss: 0.6206 - accuracy: 0.7125 - val_loss: 0.5022 - val_accuracy: 0.8400\n",
            "Epoch 3/100\n",
            "32/32 [==============================] - 2s 51ms/step - loss: 0.5431 - accuracy: 0.7063 - val_loss: 0.4390 - val_accuracy: 0.8600\n",
            "Epoch 4/100\n",
            "32/32 [==============================] - 2s 48ms/step - loss: 0.4262 - accuracy: 0.8188 - val_loss: 0.4147 - val_accuracy: 0.8600\n",
            "Epoch 5/100\n",
            "32/32 [==============================] - 3s 92ms/step - loss: 0.3698 - accuracy: 0.8938 - val_loss: 0.3136 - val_accuracy: 0.9600\n",
            "Epoch 6/100\n",
            "32/32 [==============================] - 2s 60ms/step - loss: 0.3712 - accuracy: 0.8750 - val_loss: 0.3570 - val_accuracy: 0.8800\n",
            "Epoch 7/100\n",
            "32/32 [==============================] - 2s 48ms/step - loss: 0.3184 - accuracy: 0.9125 - val_loss: 0.2673 - val_accuracy: 0.9200\n",
            "Epoch 8/100\n",
            "32/32 [==============================] - 2s 50ms/step - loss: 0.2916 - accuracy: 0.9125 - val_loss: 0.2135 - val_accuracy: 0.9400\n",
            "Epoch 9/100\n",
            "32/32 [==============================] - 2s 52ms/step - loss: 0.2613 - accuracy: 0.9250 - val_loss: 0.2376 - val_accuracy: 0.9000\n",
            "Epoch 10/100\n",
            "32/32 [==============================] - 2s 48ms/step - loss: 0.2193 - accuracy: 0.9500 - val_loss: 0.2024 - val_accuracy: 0.9600\n",
            "Epoch 11/100\n",
            "32/32 [==============================] - 2s 55ms/step - loss: 0.2017 - accuracy: 0.9438 - val_loss: 0.2360 - val_accuracy: 0.9000\n",
            "Epoch 12/100\n",
            "32/32 [==============================] - 3s 84ms/step - loss: 0.2282 - accuracy: 0.9187 - val_loss: 0.2092 - val_accuracy: 0.9800\n",
            "Epoch 13/100\n",
            "32/32 [==============================] - 2s 51ms/step - loss: 0.2083 - accuracy: 0.9375 - val_loss: 0.1431 - val_accuracy: 0.9800\n",
            "Epoch 14/100\n",
            "32/32 [==============================] - 2s 51ms/step - loss: 0.2277 - accuracy: 0.9312 - val_loss: 0.2344 - val_accuracy: 0.9400\n",
            "Epoch 15/100\n",
            "32/32 [==============================] - 2s 53ms/step - loss: 0.1862 - accuracy: 0.9438 - val_loss: 0.1541 - val_accuracy: 0.9800\n",
            "Epoch 16/100\n",
            "32/32 [==============================] - 2s 52ms/step - loss: 0.2107 - accuracy: 0.9000 - val_loss: 0.2184 - val_accuracy: 0.9400\n",
            "Epoch 17/100\n",
            "32/32 [==============================] - 2s 52ms/step - loss: 0.1808 - accuracy: 0.9312 - val_loss: 0.2138 - val_accuracy: 0.9000\n",
            "Epoch 18/100\n",
            "32/32 [==============================] - 2s 66ms/step - loss: 0.1733 - accuracy: 0.9500 - val_loss: 0.1747 - val_accuracy: 0.9400\n"
          ]
        }
      ]
    },
    {
      "cell_type": "code",
      "source": [
        "# 검증셋과 학습셋의 오차 저장 \n",
        "\n",
        "y_vloss = history.history['val_loss']\n",
        "y_loss = history.history['loss']\n",
        "\n",
        "# 그래프로 표현 \n",
        "x_len = np.arange(len(y_loss))\n",
        "plt.plot(x_len, y_vloss, marker='.', c='red', label='Testset_loss')\n",
        "plt.plot(x_len, y_loss, marker='.', c='blue', label='Trainset_loss')\n",
        "\n",
        "plt.legend(loc='best')\n",
        "plt.grid()\n",
        "plt.xlabel('epoch')\n",
        "plt.ylabel('loss')\n",
        "plt.show()"
      ],
      "metadata": {
        "colab": {
          "base_uri": "https://localhost:8080/",
          "height": 279
        },
        "id": "vwytC6XDyt-X",
        "outputId": "00ac7eaa-1db3-4646-e059-3955902b6bad"
      },
      "execution_count": null,
      "outputs": [
        {
          "output_type": "display_data",
          "data": {
            "text/plain": [
              "<Figure size 432x288 with 1 Axes>"
            ],
            "image/png": "[encoded data removed]"
          },
          "metadata": {
            "needs_background": "light"
          }
        }
      ]
    }
  ]
}