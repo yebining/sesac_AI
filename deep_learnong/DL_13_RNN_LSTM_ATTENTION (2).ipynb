{
  "nbformat": 4,
  "nbformat_minor": 0,
  "metadata": {
    "colab": {
      "provenance": []
    },
    "kernelspec": {
      "name": "python3",
      "display_name": "Python 3"
    },
    "language_info": {
      "name": "python"
    },
    "accelerator": "GPU",
    "gpuClass": "standard"
  },
  "cells": [
    {
      "cell_type": "code",
      "execution_count": 1,
      "metadata": {
        "id": "ctWBz2q05kML"
      },
      "outputs": [],
      "source": [
        "import numpy as np\n",
        "import pandas as pd\n",
        "import matplotlib.pyplot as plt\n",
        "import seaborn as sns\n",
        "import os\n",
        "import sys"
      ]
    },
    {
      "cell_type": "code",
      "source": [
        "from tensorflow.keras.preprocessing.text import Tokenizer\n",
        "from tensorflow.keras.preprocessing.text import text_to_word_sequence\n",
        "from tensorflow.keras.preprocessing import sequence\n",
        "\n",
        "from tensorflow.keras.datasets import reuters\n",
        "from tensorflow.keras.models import Sequential\n",
        "from tensorflow.keras.layers import Dense, Dropout, Flatten, Conv2D, MaxPooling2D, Activation, Embedding, LSTM, Conv1D, MaxPooling1D\n",
        "from tensorflow.keras.callbacks import ModelCheckpoint, EarlyStopping\n",
        "from tensorflow.keras.utils import to_categorical\n",
        "from tensorflow.keras.utils import plot_model"
      ],
      "metadata": {
        "id": "wsad92h-5oBZ"
      },
      "execution_count": 33,
      "outputs": []
    },
    {
      "cell_type": "code",
      "source": [
        "#순환 신경망\n",
        "#LSTM 이용 로이터 뉴스 카테고리 분류\n",
        "\n",
        "(x_train, y_train), (x_test, y_test) = reuters.load_data(num_words=1000, test_split=0.2)\n",
        "#num_words 빈도수가 큰 순으로 상위 1000개"
      ],
      "metadata": {
        "id": "GmQbwbuq51UB"
      },
      "execution_count": 5,
      "outputs": []
    },
    {
      "cell_type": "code",
      "source": [
        "#데이터 확인\n",
        "category = np.max(y_train) +1\n",
        "print(category, '종류(카테고리)')\n",
        "print(len(x_train), '학습용 뉴스 기사')\n",
        "print(len(x_test), '테스트용 뉴스 기사')"
      ],
      "metadata": {
        "colab": {
          "base_uri": "https://localhost:8080/"
        },
        "id": "A4t_hzQA65BS",
        "outputId": "d5837c9a-20f4-4802-a4f5-fd3a85974b52"
      },
      "execution_count": 11,
      "outputs": [
        {
          "output_type": "stream",
          "name": "stdout",
          "text": [
            "46 종류(카테고리)\n",
            "8982 학습용 뉴스 기사\n",
            "2246 테스트용 뉴스 기사\n"
          ]
        }
      ]
    },
    {
      "cell_type": "code",
      "source": [
        "print(x_train[0])"
      ],
      "metadata": {
        "colab": {
          "base_uri": "https://localhost:8080/"
        },
        "id": "_3-fs9zr7Ibx",
        "outputId": "0451ac6a-6b00-4275-a34a-40db7e9a046c"
      },
      "execution_count": 12,
      "outputs": [
        {
          "output_type": "stream",
          "name": "stdout",
          "text": [
            "[1, 2, 2, 8, 43, 10, 447, 5, 25, 207, 270, 5, 2, 111, 16, 369, 186, 90, 67, 7, 89, 5, 19, 102, 6, 19, 124, 15, 90, 67, 84, 22, 482, 26, 7, 48, 4, 49, 8, 864, 39, 209, 154, 6, 151, 6, 83, 11, 15, 22, 155, 11, 15, 7, 48, 9, 2, 2, 504, 6, 258, 6, 272, 11, 15, 22, 134, 44, 11, 15, 16, 8, 197, 2, 90, 67, 52, 29, 209, 30, 32, 132, 6, 109, 15, 17, 12]\n"
          ]
        }
      ]
    },
    {
      "cell_type": "code",
      "source": [
        "#단어의 수 맞춰주기기기\n",
        "\n",
        "x_train = sequence.pad_sequences(x_train, maxlen=100)\n",
        "x_test = sequence.pad_sequences(x_test, maxlen=100)"
      ],
      "metadata": {
        "id": "PzRrLnFC7x55"
      },
      "execution_count": 14,
      "outputs": []
    },
    {
      "cell_type": "code",
      "source": [
        "#원핫 인코딩\n",
        "\n",
        "y_train = to_categorical(y_train)\n",
        "y_test = to_categorical(y_test)"
      ],
      "metadata": {
        "id": "4SbGwpaG7-Wp"
      },
      "execution_count": 17,
      "outputs": []
    },
    {
      "cell_type": "code",
      "source": [
        "#모델의 구조를 설정합니다. \n",
        "\n",
        "model=Sequential()\n",
        "model.add(Embedding(1000,100))\n",
        "model.add(LSTM(100, activation='tanh')) #LSTM은 tanh를 좋아행~! /// *0* /// 시퀀스 데이터라!\n",
        "model.add(Dense(46, activation='softmax')) #46개 카테고리별 출력력\n",
        "\n",
        "#모델 컴파일\n",
        "model.compile(loss='categorical_crossentropy', optimizer='adam', metrics=['accuracy'])\n",
        "\n",
        "#학습의 조기 중단 설정\n",
        "early_stopping_callback = EarlyStopping(monitor='val_loss', patience=5)\n",
        "\n",
        "#모델 실행\n",
        "history=model.fit(x_train, y_train, batch_size=20, epochs=200, validation_data=(x_test, y_test),\n",
        "          callbacks=[early_stopping_callback])\n",
        "\n",
        "#테스트 정확도 출력\n",
        "print('\\n 테스트 정확도 : %.4f'%(model.evaluate(x_test, y_test)[1]))"
      ],
      "metadata": {
        "colab": {
          "base_uri": "https://localhost:8080/"
        },
        "id": "lZILITa48Q1w",
        "outputId": "6f03e8db-e0f7-4f44-9679-a5d1e6dd8bc0"
      },
      "execution_count": 21,
      "outputs": [
        {
          "output_type": "stream",
          "name": "stdout",
          "text": [
            "Epoch 1/200\n",
            "450/450 [==============================] - 25s 49ms/step - loss: 2.1743 - accuracy: 0.4423 - val_loss: 1.8187 - val_accuracy: 0.5232\n",
            "Epoch 2/200\n",
            "450/450 [==============================] - 7s 15ms/step - loss: 1.7690 - accuracy: 0.5423 - val_loss: 1.7567 - val_accuracy: 0.5534\n",
            "Epoch 3/200\n",
            "450/450 [==============================] - 6s 13ms/step - loss: 1.6411 - accuracy: 0.5788 - val_loss: 1.7920 - val_accuracy: 0.5681\n",
            "Epoch 4/200\n",
            "450/450 [==============================] - 8s 17ms/step - loss: 1.5183 - accuracy: 0.6138 - val_loss: 1.5450 - val_accuracy: 0.6033\n",
            "Epoch 5/200\n",
            "450/450 [==============================] - 6s 14ms/step - loss: 1.3666 - accuracy: 0.6516 - val_loss: 1.3993 - val_accuracy: 0.6545\n",
            "Epoch 6/200\n",
            "450/450 [==============================] - 6s 14ms/step - loss: 1.2634 - accuracy: 0.6774 - val_loss: 1.3469 - val_accuracy: 0.6647\n",
            "Epoch 7/200\n",
            "450/450 [==============================] - 5s 10ms/step - loss: 1.1598 - accuracy: 0.7051 - val_loss: 1.2638 - val_accuracy: 0.6790\n",
            "Epoch 8/200\n",
            "450/450 [==============================] - 5s 11ms/step - loss: 1.0800 - accuracy: 0.7244 - val_loss: 1.2482 - val_accuracy: 0.6799\n",
            "Epoch 9/200\n",
            "450/450 [==============================] - 6s 13ms/step - loss: 1.0101 - accuracy: 0.7422 - val_loss: 1.2444 - val_accuracy: 0.6821\n",
            "Epoch 10/200\n",
            "450/450 [==============================] - 4s 9ms/step - loss: 0.9485 - accuracy: 0.7535 - val_loss: 1.1909 - val_accuracy: 0.7075\n",
            "Epoch 11/200\n",
            "450/450 [==============================] - 5s 11ms/step - loss: 0.8755 - accuracy: 0.7794 - val_loss: 1.1863 - val_accuracy: 0.7008\n",
            "Epoch 12/200\n",
            "450/450 [==============================] - 4s 9ms/step - loss: 0.8085 - accuracy: 0.7971 - val_loss: 1.1912 - val_accuracy: 0.7191\n",
            "Epoch 13/200\n",
            "450/450 [==============================] - 4s 9ms/step - loss: 0.7545 - accuracy: 0.8066 - val_loss: 1.1944 - val_accuracy: 0.7102\n",
            "Epoch 14/200\n",
            "450/450 [==============================] - 5s 11ms/step - loss: 0.6948 - accuracy: 0.8252 - val_loss: 1.2084 - val_accuracy: 0.7195\n",
            "Epoch 15/200\n",
            "450/450 [==============================] - 4s 8ms/step - loss: 0.6459 - accuracy: 0.8356 - val_loss: 1.2126 - val_accuracy: 0.7168\n",
            "Epoch 16/200\n",
            "450/450 [==============================] - 4s 9ms/step - loss: 0.5930 - accuracy: 0.8540 - val_loss: 1.2390 - val_accuracy: 0.7173\n",
            "71/71 [==============================] - 1s 8ms/step - loss: 1.2390 - accuracy: 0.7173\n",
            "\n",
            " 테스트 정확도 : 0.7173\n"
          ]
        }
      ]
    },
    {
      "cell_type": "code",
      "source": [
        "#데이터 시각화\n",
        "\n",
        "y_vloss=history.history['val_loss']\n",
        "y_loss=history.history['loss']\n",
        "\n",
        "#그래프로 표현\n",
        "x_len=np.arange(len(y_loss))\n",
        "plt.plot(x_len, y_vloss, marker='.', c='red', label='test_loss')\n",
        "plt.plot(x_len, y_loss, marker='.', c='blue', label='train_loss')\n",
        "\n",
        "plt.legend(loc='upper right')\n",
        "plt.grid()\n",
        "plt.xlabel('epoch')\n",
        "plt.ylabel('loss')\n",
        "plt.show()"
      ],
      "metadata": {
        "colab": {
          "base_uri": "https://localhost:8080/",
          "height": 279
        },
        "id": "_6NYlK-v8_uq",
        "outputId": "81d1005f-917d-49c6-e123-2ac3a9f04281"
      },
      "execution_count": 22,
      "outputs": [
        {
          "output_type": "display_data",
          "data": {
            "text/plain": [
              "<Figure size 432x288 with 1 Axes>"
            ],
            "image/png": "[encoded data removed]"
          },
          "metadata": {
            "needs_background": "light"
          }
        }
      ]
    },
    {
      "cell_type": "code",
      "source": [
        "#LSTM / CNN 조합 > 영화 리뷰 분류하기기\n",
        "#데이터 불러오기\n",
        "from tensorflow.keras.datasets import imdb\n",
        "\n",
        "(x_train, y_train), (x_test, y_test) = imdb.load_data(num_words=5000)"
      ],
      "metadata": {
        "colab": {
          "base_uri": "https://localhost:8080/"
        },
        "id": "sGGV0EY1_5u5",
        "outputId": "042298af-7005-47f4-c078-bfde9202b6f0"
      },
      "execution_count": 24,
      "outputs": [
        {
          "output_type": "stream",
          "name": "stdout",
          "text": [
            "Downloading data from https://storage.googleapis.com/tensorflow/tf-keras-datasets/imdb.npz\n",
            "17464789/17464789 [==============================] - 2s 0us/step\n"
          ]
        }
      ]
    },
    {
      "cell_type": "code",
      "source": [
        "#단어 수를 맞춰주기\n",
        "\n",
        "x_train = sequence.pad_sequences(x_train, maxlen=500)\n",
        "x_test = sequence.pad_sequences(x_test, maxlen=500)"
      ],
      "metadata": {
        "id": "XMrW-mHmEf-S"
      },
      "execution_count": 25,
      "outputs": []
    },
    {
      "cell_type": "code",
      "source": [
        "#모델 구조 설정 \n",
        "\n",
        "model = Sequential()\n",
        "model.add(Embedding(5000,100))\n",
        "model.add(Dropout(0.5))\n",
        "model.add(Conv1D(64, 5, padding='valid', activation='relu', strides=1)) #strides 보폭\n",
        "model.add(MaxPooling1D(pool_size=4))\n",
        "model.add(LSTM(55))\n",
        "model.add(Dense(1))\n",
        "model.add(Activation('sigmoid'))\n",
        "model.summary()            "
      ],
      "metadata": {
        "colab": {
          "base_uri": "https://localhost:8080/"
        },
        "id": "6zlktg9jE1qv",
        "outputId": "8dd34b00-3fb3-49bb-a4d3-c841e8d7086b"
      },
      "execution_count": 26,
      "outputs": [
        {
          "output_type": "stream",
          "name": "stdout",
          "text": [
            "Model: \"sequential_4\"\n",
            "_________________________________________________________________\n",
            " Layer (type)                Output Shape              Param #   \n",
            "=================================================================\n",
            " embedding_4 (Embedding)     (None, None, 100)         500000    \n",
            "                                                                 \n",
            " dropout (Dropout)           (None, None, 100)         0         \n",
            "                                                                 \n",
            " conv1d (Conv1D)             (None, None, 64)          32064     \n",
            "                                                                 \n",
            " max_pooling1d (MaxPooling1D  (None, None, 64)         0         \n",
            " )                                                               \n",
            "                                                                 \n",
            " lstm_4 (LSTM)               (None, 55)                26400     \n",
            "                                                                 \n",
            " dense_4 (Dense)             (None, 1)                 56        \n",
            "                                                                 \n",
            " activation (Activation)     (None, 1)                 0         \n",
            "                                                                 \n",
            "=================================================================\n",
            "Total params: 558,520\n",
            "Trainable params: 558,520\n",
            "Non-trainable params: 0\n",
            "_________________________________________________________________\n"
          ]
        }
      ]
    },
    {
      "cell_type": "code",
      "source": [
        "#모델 실행\n",
        "\n",
        "model.compile(loss='binary_crossentropy', optimizer='adam', metrics=['accuracy'])\n",
        "\n",
        "#조기 중단 설정\n",
        "early_stopping_callback=EarlyStopping(monitor='val_loss', patience=5)\n",
        "\n",
        "history=model.fit(x_train, y_train, batch_size=40, epochs=200, validation_split=0.25, callbacks=[early_stopping_callback])\n",
        "\n",
        "#테스트 정확도 출력\n",
        "print('\\n 테스트 정확도: %.4f' %(model.evaluate(x_test, y_test)[1]))"
      ],
      "metadata": {
        "colab": {
          "base_uri": "https://localhost:8080/"
        },
        "id": "w2ZEKDFQFwB3",
        "outputId": "6f378ef8-ec9c-4f6f-f9bc-cf066e8bcf15"
      },
      "execution_count": 30,
      "outputs": [
        {
          "output_type": "stream",
          "name": "stdout",
          "text": [
            "Epoch 1/200\n",
            "469/469 [==============================] - 47s 93ms/step - loss: 0.0696 - accuracy: 0.9770 - val_loss: 0.4006 - val_accuracy: 0.8782\n",
            "Epoch 2/200\n",
            "469/469 [==============================] - 18s 39ms/step - loss: 0.0520 - accuracy: 0.9832 - val_loss: 0.3807 - val_accuracy: 0.8850\n",
            "Epoch 3/200\n",
            "469/469 [==============================] - 13s 27ms/step - loss: 0.0486 - accuracy: 0.9843 - val_loss: 0.4254 - val_accuracy: 0.8838\n",
            "Epoch 4/200\n",
            "469/469 [==============================] - 10s 22ms/step - loss: 0.0361 - accuracy: 0.9890 - val_loss: 0.4925 - val_accuracy: 0.8766\n",
            "Epoch 5/200\n",
            "469/469 [==============================] - 9s 18ms/step - loss: 0.0369 - accuracy: 0.9883 - val_loss: 0.4707 - val_accuracy: 0.8846\n",
            "Epoch 6/200\n",
            "469/469 [==============================] - 9s 20ms/step - loss: 0.0322 - accuracy: 0.9894 - val_loss: 0.4669 - val_accuracy: 0.8832\n",
            "Epoch 7/200\n",
            "469/469 [==============================] - 8s 17ms/step - loss: 0.0332 - accuracy: 0.9894 - val_loss: 0.4823 - val_accuracy: 0.8827\n",
            "782/782 [==============================] - 5s 6ms/step - loss: 0.5168 - accuracy: 0.8758\n",
            "\n",
            " 테스트 정확도: 0.8758\n"
          ]
        }
      ]
    },
    {
      "cell_type": "code",
      "source": [
        "#데이터 시각화\n",
        "\n",
        "y_vloss=history.history['val_loss']\n",
        "y_loss=history.history['loss']\n",
        "\n",
        "#그래프로 표현\n",
        "x_len=np.arange(len(y_loss))\n",
        "plt.plot(x_len, y_vloss, marker='.', c='red', label='test_loss')\n",
        "plt.plot(x_len, y_loss, marker='.', c='blue', label='train_loss')\n",
        "\n",
        "plt.legend(loc='upper right')\n",
        "plt.grid()\n",
        "plt.xlabel('epoch')\n",
        "plt.ylabel('loss')\n",
        "plt.show()"
      ],
      "metadata": {
        "colab": {
          "base_uri": "https://localhost:8080/",
          "height": 279
        },
        "id": "8YdKCGl8IDbQ",
        "outputId": "beb67d8a-2cd0-4eec-ba15-2a0dffa079be"
      },
      "execution_count": 31,
      "outputs": [
        {
          "output_type": "display_data",
          "data": {
            "text/plain": [
              "<Figure size 432x288 with 1 Axes>"
            ],
            "image/png": "[encoded data removed]"
          },
          "metadata": {
            "needs_background": "light"
          }
        }
      ]
    },
    {
      "cell_type": "code",
      "source": [
        "#어텐션 (attention) 신경망\n",
        "!pip install attention\n",
        "from attention import Attention"
      ],
      "metadata": {
        "colab": {
          "base_uri": "https://localhost:8080/"
        },
        "id": "oTstw_OOIkwg",
        "outputId": "2dcffcfb-ac1a-4d69-c836-01f349b456d6"
      },
      "execution_count": 32,
      "outputs": [
        {
          "output_type": "stream",
          "name": "stdout",
          "text": [
            "Looking in indexes: https://pypi.org/simple, https://us-python.pkg.dev/colab-wheels/public/simple/\n",
            "Collecting attention\n",
            "  Downloading attention-4.1-py3-none-any.whl (8.6 kB)\n",
            "Requirement already satisfied: tensorflow>=2.1 in /usr/local/lib/python3.8/dist-packages (from attention) (2.11.0)\n",
            "Requirement already satisfied: numpy>=1.18.1 in /usr/local/lib/python3.8/dist-packages (from attention) (1.22.4)\n",
            "Requirement already satisfied: grpcio<2.0,>=1.24.3 in /usr/local/lib/python3.8/dist-packages (from tensorflow>=2.1->attention) (1.51.3)\n",
            "Requirement already satisfied: wrapt>=1.11.0 in /usr/local/lib/python3.8/dist-packages (from tensorflow>=2.1->attention) (1.15.0)\n",
            "Requirement already satisfied: flatbuffers>=2.0 in /usr/local/lib/python3.8/dist-packages (from tensorflow>=2.1->attention) (23.1.21)\n",
            "Requirement already satisfied: absl-py>=1.0.0 in /usr/local/lib/python3.8/dist-packages (from tensorflow>=2.1->attention) (1.4.0)\n",
            "Requirement already satisfied: google-pasta>=0.1.1 in /usr/local/lib/python3.8/dist-packages (from tensorflow>=2.1->attention) (0.2.0)\n",
            "Requirement already satisfied: six>=1.12.0 in /usr/local/lib/python3.8/dist-packages (from tensorflow>=2.1->attention) (1.15.0)\n",
            "Requirement already satisfied: opt-einsum>=2.3.2 in /usr/local/lib/python3.8/dist-packages (from tensorflow>=2.1->attention) (3.3.0)\n",
            "Requirement already satisfied: tensorboard<2.12,>=2.11 in /usr/local/lib/python3.8/dist-packages (from tensorflow>=2.1->attention) (2.11.2)\n",
            "Requirement already satisfied: astunparse>=1.6.0 in /usr/local/lib/python3.8/dist-packages (from tensorflow>=2.1->attention) (1.6.3)\n",
            "Requirement already satisfied: gast<=0.4.0,>=0.2.1 in /usr/local/lib/python3.8/dist-packages (from tensorflow>=2.1->attention) (0.4.0)\n",
            "Requirement already satisfied: protobuf<3.20,>=3.9.2 in /usr/local/lib/python3.8/dist-packages (from tensorflow>=2.1->attention) (3.19.6)\n",
            "Requirement already satisfied: termcolor>=1.1.0 in /usr/local/lib/python3.8/dist-packages (from tensorflow>=2.1->attention) (2.2.0)\n",
            "Requirement already satisfied: tensorflow-io-gcs-filesystem>=0.23.1 in /usr/local/lib/python3.8/dist-packages (from tensorflow>=2.1->attention) (0.31.0)\n",
            "Requirement already satisfied: packaging in /usr/local/lib/python3.8/dist-packages (from tensorflow>=2.1->attention) (23.0)\n",
            "Requirement already satisfied: setuptools in /usr/local/lib/python3.8/dist-packages (from tensorflow>=2.1->attention) (57.4.0)\n",
            "Requirement already satisfied: libclang>=13.0.0 in /usr/local/lib/python3.8/dist-packages (from tensorflow>=2.1->attention) (15.0.6.1)\n",
            "Requirement already satisfied: typing-extensions>=3.6.6 in /usr/local/lib/python3.8/dist-packages (from tensorflow>=2.1->attention) (4.5.0)\n",
            "Requirement already satisfied: tensorflow-estimator<2.12,>=2.11.0 in /usr/local/lib/python3.8/dist-packages (from tensorflow>=2.1->attention) (2.11.0)\n",
            "Requirement already satisfied: h5py>=2.9.0 in /usr/local/lib/python3.8/dist-packages (from tensorflow>=2.1->attention) (3.1.0)\n",
            "Requirement already satisfied: keras<2.12,>=2.11.0 in /usr/local/lib/python3.8/dist-packages (from tensorflow>=2.1->attention) (2.11.0)\n",
            "Requirement already satisfied: wheel<1.0,>=0.23.0 in /usr/local/lib/python3.8/dist-packages (from astunparse>=1.6.0->tensorflow>=2.1->attention) (0.38.4)\n",
            "Requirement already satisfied: requests<3,>=2.21.0 in /usr/local/lib/python3.8/dist-packages (from tensorboard<2.12,>=2.11->tensorflow>=2.1->attention) (2.25.1)\n",
            "Requirement already satisfied: markdown>=2.6.8 in /usr/local/lib/python3.8/dist-packages (from tensorboard<2.12,>=2.11->tensorflow>=2.1->attention) (3.4.1)\n",
            "Requirement already satisfied: google-auth-oauthlib<0.5,>=0.4.1 in /usr/local/lib/python3.8/dist-packages (from tensorboard<2.12,>=2.11->tensorflow>=2.1->attention) (0.4.6)\n",
            "Requirement already satisfied: tensorboard-data-server<0.7.0,>=0.6.0 in /usr/local/lib/python3.8/dist-packages (from tensorboard<2.12,>=2.11->tensorflow>=2.1->attention) (0.6.1)\n",
            "Requirement already satisfied: tensorboard-plugin-wit>=1.6.0 in /usr/local/lib/python3.8/dist-packages (from tensorboard<2.12,>=2.11->tensorflow>=2.1->attention) (1.8.1)\n",
            "Requirement already satisfied: werkzeug>=1.0.1 in /usr/local/lib/python3.8/dist-packages (from tensorboard<2.12,>=2.11->tensorflow>=2.1->attention) (2.2.3)\n",
            "Requirement already satisfied: google-auth<3,>=1.6.3 in /usr/local/lib/python3.8/dist-packages (from tensorboard<2.12,>=2.11->tensorflow>=2.1->attention) (2.16.1)\n",
            "Requirement already satisfied: pyasn1-modules>=0.2.1 in /usr/local/lib/python3.8/dist-packages (from google-auth<3,>=1.6.3->tensorboard<2.12,>=2.11->tensorflow>=2.1->attention) (0.2.8)\n",
            "Requirement already satisfied: rsa<5,>=3.1.4 in /usr/local/lib/python3.8/dist-packages (from google-auth<3,>=1.6.3->tensorboard<2.12,>=2.11->tensorflow>=2.1->attention) (4.9)\n",
            "Requirement already satisfied: cachetools<6.0,>=2.0.0 in /usr/local/lib/python3.8/dist-packages (from google-auth<3,>=1.6.3->tensorboard<2.12,>=2.11->tensorflow>=2.1->attention) (5.3.0)\n",
            "Requirement already satisfied: requests-oauthlib>=0.7.0 in /usr/local/lib/python3.8/dist-packages (from google-auth-oauthlib<0.5,>=0.4.1->tensorboard<2.12,>=2.11->tensorflow>=2.1->attention) (1.3.1)\n",
            "Requirement already satisfied: importlib-metadata>=4.4 in /usr/local/lib/python3.8/dist-packages (from markdown>=2.6.8->tensorboard<2.12,>=2.11->tensorflow>=2.1->attention) (6.0.0)\n",
            "Requirement already satisfied: urllib3<1.27,>=1.21.1 in /usr/local/lib/python3.8/dist-packages (from requests<3,>=2.21.0->tensorboard<2.12,>=2.11->tensorflow>=2.1->attention) (1.26.14)\n",
            "Requirement already satisfied: certifi>=2017.4.17 in /usr/local/lib/python3.8/dist-packages (from requests<3,>=2.21.0->tensorboard<2.12,>=2.11->tensorflow>=2.1->attention) (2022.12.7)\n",
            "Requirement already satisfied: chardet<5,>=3.0.2 in /usr/local/lib/python3.8/dist-packages (from requests<3,>=2.21.0->tensorboard<2.12,>=2.11->tensorflow>=2.1->attention) (4.0.0)\n",
            "Requirement already satisfied: idna<3,>=2.5 in /usr/local/lib/python3.8/dist-packages (from requests<3,>=2.21.0->tensorboard<2.12,>=2.11->tensorflow>=2.1->attention) (2.10)\n",
            "Requirement already satisfied: MarkupSafe>=2.1.1 in /usr/local/lib/python3.8/dist-packages (from werkzeug>=1.0.1->tensorboard<2.12,>=2.11->tensorflow>=2.1->attention) (2.1.2)\n",
            "Requirement already satisfied: zipp>=0.5 in /usr/local/lib/python3.8/dist-packages (from importlib-metadata>=4.4->markdown>=2.6.8->tensorboard<2.12,>=2.11->tensorflow>=2.1->attention) (3.15.0)\n",
            "Requirement already satisfied: pyasn1<0.5.0,>=0.4.6 in /usr/local/lib/python3.8/dist-packages (from pyasn1-modules>=0.2.1->google-auth<3,>=1.6.3->tensorboard<2.12,>=2.11->tensorflow>=2.1->attention) (0.4.8)\n",
            "Requirement already satisfied: oauthlib>=3.0.0 in /usr/local/lib/python3.8/dist-packages (from requests-oauthlib>=0.7.0->google-auth-oauthlib<0.5,>=0.4.1->tensorboard<2.12,>=2.11->tensorflow>=2.1->attention) (3.2.2)\n",
            "Installing collected packages: attention\n",
            "Successfully installed attention-4.1\n"
          ]
        }
      ]
    },
    {
      "cell_type": "code",
      "source": [
        "from attention import Attention"
      ],
      "metadata": {
        "id": "uJdtNLlqJ_NV"
      },
      "execution_count": 35,
      "outputs": []
    },
    {
      "cell_type": "code",
      "source": [
        "#모델 구조 설정 \n",
        "\n",
        "model = Sequential()\n",
        "model.add(Embedding(5000,500))\n",
        "model.add(Dropout(0.5))\n",
        "model.add(LSTM(64, return_sequences=True))\n",
        "#return_sequences=True >>> 각 시퀀스에서 출력을 해달라는 의미미\n",
        "#https://tykimos.github.io/2017/04/09/RNN_Getting_Started/\n",
        "model.add(Attention())\n",
        "model.add(Dropout(0.5))\n",
        "model.add(Dense(1))\n",
        "model.add(Activation('sigmoid'))\n",
        "model.summary() "
      ],
      "metadata": {
        "colab": {
          "base_uri": "https://localhost:8080/"
        },
        "id": "auGKwSpzJEhH",
        "outputId": "8ff9ee92-3b86-45b3-fea7-c3dc577eca0e"
      },
      "execution_count": 40,
      "outputs": [
        {
          "output_type": "stream",
          "name": "stdout",
          "text": [
            "Model: \"sequential_8\"\n",
            "_________________________________________________________________\n",
            " Layer (type)                Output Shape              Param #   \n",
            "=================================================================\n",
            " embedding_8 (Embedding)     (None, None, 500)         2500000   \n",
            "                                                                 \n",
            " dropout_6 (Dropout)         (None, None, 500)         0         \n",
            "                                                                 \n",
            " lstm_8 (LSTM)               (None, None, 64)          144640    \n",
            "                                                                 \n",
            " attention_2 (Attention)     (None, 128)               20480     \n",
            "                                                                 \n",
            " dropout_7 (Dropout)         (None, 128)               0         \n",
            "                                                                 \n",
            " dense_7 (Dense)             (None, 1)                 129       \n",
            "                                                                 \n",
            " activation_3 (Activation)   (None, 1)                 0         \n",
            "                                                                 \n",
            "=================================================================\n",
            "Total params: 2,665,249\n",
            "Trainable params: 2,665,249\n",
            "Non-trainable params: 0\n",
            "_________________________________________________________________\n"
          ]
        }
      ]
    },
    {
      "cell_type": "code",
      "source": [
        "model.add(LSTM(64, return_sequences=True))\n",
        "#모델 실행\n",
        "\n",
        "model.compile(loss='binary_crossentropy', optimizer='adam', metrics=['accuracy'])\n",
        "\n",
        "#조기 중단 설정\n",
        "early_stopping_callback=EarlyStopping(monitor='val_loss', patience=5)\n",
        "\n",
        "history=model.fit(x_train, y_train, batch_size=40, epochs=200, validation_data=(x_test, y_test), callbacks=[early_stopping_callback])\n",
        "\n",
        "#테스트 정확도 출력\n",
        "print('\\n 테스트 정확도: %.4f' %(model.evaluate(x_test, y_test)[1]))"
      ],
      "metadata": {
        "colab": {
          "base_uri": "https://localhost:8080/"
        },
        "id": "vd3YRlK8J8RH",
        "outputId": "f0951990-00d5-499d-b9f7-cf6fe16678bb"
      },
      "execution_count": 38,
      "outputs": [
        {
          "output_type": "stream",
          "name": "stdout",
          "text": [
            "Epoch 1/200\n",
            "625/625 [==============================] - 72s 111ms/step - loss: 0.3669 - accuracy: 0.8339 - val_loss: 0.2774 - val_accuracy: 0.8852\n",
            "Epoch 2/200\n",
            "625/625 [==============================] - 39s 63ms/step - loss: 0.2212 - accuracy: 0.9137 - val_loss: 0.2735 - val_accuracy: 0.8870\n",
            "Epoch 3/200\n",
            "625/625 [==============================] - 26s 42ms/step - loss: 0.1669 - accuracy: 0.9375 - val_loss: 0.2893 - val_accuracy: 0.8845\n",
            "Epoch 4/200\n",
            "625/625 [==============================] - 22s 36ms/step - loss: 0.1222 - accuracy: 0.9554 - val_loss: 0.3634 - val_accuracy: 0.8739\n",
            "Epoch 5/200\n",
            "625/625 [==============================] - 23s 37ms/step - loss: 0.0810 - accuracy: 0.9710 - val_loss: 0.3681 - val_accuracy: 0.8772\n",
            "Epoch 6/200\n",
            "625/625 [==============================] - 22s 35ms/step - loss: 0.0622 - accuracy: 0.9777 - val_loss: 0.5045 - val_accuracy: 0.8690\n",
            "Epoch 7/200\n",
            "625/625 [==============================] - 21s 33ms/step - loss: 0.0447 - accuracy: 0.9836 - val_loss: 0.5820 - val_accuracy: 0.8674\n",
            "782/782 [==============================] - 8s 9ms/step - loss: 0.5820 - accuracy: 0.8674\n",
            "\n",
            " 테스트 정확도: 0.8674\n"
          ]
        }
      ]
    },
    {
      "cell_type": "code",
      "source": [
        "#데이터 시각화\n",
        "\n",
        "y_vloss=history.history['val_loss']\n",
        "y_loss=history.history['loss']\n",
        "\n",
        "#그래프로 표현\n",
        "x_len=np.arange(len(y_loss))\n",
        "plt.plot(x_len, y_vloss, marker='.', c='red', label='test_loss')\n",
        "plt.plot(x_len, y_loss, marker='.', c='blue', label='train_loss')\n",
        "\n",
        "plt.legend(loc='upper right')\n",
        "plt.grid()\n",
        "plt.xlabel('epoch')\n",
        "plt.ylabel('loss')\n",
        "plt.show()"
      ],
      "metadata": {
        "colab": {
          "base_uri": "https://localhost:8080/",
          "height": 280
        },
        "id": "pEBnEBYYK2Q4",
        "outputId": "ebead493-abba-4213-c534-1da4b4aab529"
      },
      "execution_count": 39,
      "outputs": [
        {
          "output_type": "display_data",
          "data": {
            "text/plain": [
              "<Figure size 432x288 with 1 Axes>"
            ],
            "image/png": "[encoded data removed]"
          },
          "metadata": {
            "needs_background": "light"
          }
        }
      ]
    },
    {
      "cell_type": "code",
      "source": [],
      "metadata": {
        "id": "jKu48WJTLxFf"
      },
      "execution_count": null,
      "outputs": []
    }
  ]
}