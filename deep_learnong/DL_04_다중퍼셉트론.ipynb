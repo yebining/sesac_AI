{
  "nbformat": 4,
  "nbformat_minor": 0,
  "metadata": {
    "colab": {
      "provenance": []
    },
    "kernelspec": {
      "name": "python3",
      "display_name": "Python 3"
    },
    "language_info": {
      "name": "python"
    },
    "accelerator": "GPU",
    "gpuClass": "standard"
  },
  "cells": [
    {
      "cell_type": "code",
      "execution_count": 1,
      "metadata": {
        "id": "EQ3ILZ2llMOA"
      },
      "outputs": [],
      "source": [
        "import numpy as np\n",
        "import pandas as pd\n",
        "import matplotlib.pyplot as plt"
      ]
    },
    {
      "cell_type": "code",
      "source": [
        "from tensorflow.keras.models import Sequential\n",
        "from tensorflow.keras.layers import Dense"
      ],
      "metadata": {
        "id": "VJ4wCnW_y_72"
      },
      "execution_count": 2,
      "outputs": []
    },
    {
      "cell_type": "code",
      "source": [
        "w11 = np.array([-2,-2])\n",
        "w12 = np.array([2,2])\n",
        "w2 = np.array([1,1])\n",
        "\n",
        "b1=3\n",
        "b2=-1\n",
        "b3=-1"
      ],
      "metadata": {
        "id": "egmbxDHYzB0-"
      },
      "execution_count": 15,
      "outputs": []
    },
    {
      "cell_type": "code",
      "source": [
        "def MLP(x,w,b):\n",
        "    y=np.sum(w*x)+b\n",
        "    if y <= 0:\n",
        "        return 0\n",
        "    else:\n",
        "        return 1"
      ],
      "metadata": {
        "id": "UPN7sPTZzPGt"
      },
      "execution_count": 16,
      "outputs": []
    },
    {
      "cell_type": "code",
      "source": [
        "#nand\n",
        "def NAND(x1, x2):\n",
        "    return MLP(np.array([x1, x2]), w11, b1)\n",
        "\n",
        "def OR(x1, x2):\n",
        "    return MLP(np.array([x1, x2]), w12, b2)\n",
        "\n",
        "def AND(x1, x2):\n",
        "    return MLP(np.array([x1, x2]), w2, b3)\n",
        "\n",
        "def XOR(x1, x2):\n",
        "    return AND(NAND(x1, x2), OR(x1, x2))"
      ],
      "metadata": {
        "id": "IiwZRcaSzoAF"
      },
      "execution_count": 17,
      "outputs": []
    },
    {
      "cell_type": "code",
      "source": [
        "#x1, x2 값을 번갈아 대입 > 최종 값 출력\n",
        "\n",
        "for x in [(0,0), (1,0), (0,1), (1,1)]:\n",
        "    y=XOR(x[0], x[1])\n",
        "    print('입력 값: ' + str(x) + ' 출력 값: ' + str(y))"
      ],
      "metadata": {
        "colab": {
          "base_uri": "https://localhost:8080/"
        },
        "id": "_M-Cjvovz-Fu",
        "outputId": "f466422a-caee-4bfb-aad2-e18b9eef551b"
      },
      "execution_count": 18,
      "outputs": [
        {
          "output_type": "stream",
          "name": "stdout",
          "text": [
            "입력 값: (0, 0) 출력 값: 0\n",
            "입력 값: (1, 0) 출력 값: 1\n",
            "입력 값: (0, 1) 출력 값: 1\n",
            "입력 값: (1, 1) 출력 값: 0\n"
          ]
        }
      ]
    },
    {
      "cell_type": "code",
      "source": [],
      "metadata": {
        "id": "ujg9_ofc0rPe"
      },
      "execution_count": 14,
      "outputs": []
    }
  ]
}