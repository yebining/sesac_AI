{
 "cells": [
  {
   "cell_type": "code",
   "execution_count": 6,
   "metadata": {},
   "outputs": [],
   "source": [
    "import numpy as np\n",
    "import pandas as pd\n",
    "import matplotlib.pyplot as plt\n",
    "import seaborn as sns\n",
    "import os\n",
    "import sys"
   ]
  },
  {
   "cell_type": "code",
   "execution_count": 16,
   "metadata": {},
   "outputs": [],
   "source": [
    "import os\n",
    "import numpy as np\n",
    "from sklearn.model_selection import train_test_split\n",
    "from keras_preprocessing import image\n",
    "from keras_preprocessing.image import img_to_array\n",
    "\n",
    "\n",
    "\n",
    "img_dir = 'helmet_generation'  # 이미지가 들어있는 폴더 경로\n",
    "img_width = 64  # 이미지 가로 길이\n",
    "img_height = 64  # 이미지 세로 길이\n",
    "\n",
    "# 이미지를 numpy array로 변환\n",
    "def img_to_np_array(img_path):\n",
    "    img = image.load_img(img_path, target_size=(img_width, img_height))\n",
    "    x = img_to_array(img)\n",
    "    return x\n",
    "\n",
    "# 이미지 경로와 라벨을 읽어들임\n",
    "image_paths = []\n",
    "labels = []\n",
    "for subdir, _, files in os.walk(img_dir):\n",
    "    for file in files:\n",
    "        img_path = os.path.join(subdir, file)\n",
    "        if img_path.endswith(\".png\"):\n",
    "            label = img_path.split(\"/\")[-1]  # 폴더 이름을 라벨로 사용\n",
    "            image_paths.append(img_path)\n",
    "            labels.append(label)\n",
    "\n",
    "# 이미지를 numpy array로 변환\n",
    "X = np.array([img_to_np_array(img_path) for img_path in image_paths])\n",
    "y = np.array(labels)\n",
    "\n",
    "# train/test set으로 나눔\n",
    "X_train, X_test, y_train, y_test = train_test_split(X, y, test_size=0.2, random_state=42)"
   ]
  },
  {
   "cell_type": "code",
   "execution_count": 18,
   "metadata": {},
   "outputs": [
    {
     "data": {
      "text/plain": [
       "array(['helmet_generation\\\\Without_Helmet\\\\withoutnoiseAdded_7776.png',\n",
       "       'helmet_generation\\\\Without_Helmet\\\\withoutnoiseAdded_1785.png',\n",
       "       'helmet_generation\\\\Without_Helmet\\\\withoutrotated_7174.png', ...,\n",
       "       'helmet_generation\\\\Without_Helmet\\\\withoutnoiseAdded_6442.png',\n",
       "       'helmet_generation\\\\Without_Helmet\\\\withoutinverted_3287.png',\n",
       "       'helmet_generation\\\\With_Helmet\\\\withnoiseAdded_7811.png'],\n",
       "      dtype='<U59')"
      ]
     },
     "execution_count": 18,
     "metadata": {},
     "output_type": "execute_result"
    }
   ],
   "source": [
    "y_train"
   ]
  },
  {
   "cell_type": "code",
   "execution_count": 20,
   "metadata": {},
   "outputs": [],
   "source": [
    "# Without_Helmet에 해당하는 파일은 0, With_Helmet에 해당하는 파일은 1로 바꿔줌\n",
    "y_train = np.array([0 if 'Without_Helmet' in label else 1 for label in y_train])\n",
    "y_test = np.array([0 if 'Without_Helmet' in label else 1 for label in y_test])"
   ]
  },
  {
   "cell_type": "code",
   "execution_count": 21,
   "metadata": {},
   "outputs": [
    {
     "name": "stdout",
     "output_type": "stream",
     "text": [
      "Epoch 1/10\n",
      "375/375 [==============================] - 7s 10ms/step - loss: 15.5168 - accuracy: 0.7607 - val_loss: 0.3545 - val_accuracy: 0.8457\n",
      "Epoch 2/10\n",
      "375/375 [==============================] - 4s 10ms/step - loss: 0.2533 - accuracy: 0.8964 - val_loss: 0.2372 - val_accuracy: 0.9097\n",
      "Epoch 3/10\n",
      "375/375 [==============================] - 4s 10ms/step - loss: 0.1175 - accuracy: 0.9564 - val_loss: 0.2192 - val_accuracy: 0.9240\n",
      "Epoch 4/10\n",
      "375/375 [==============================] - 4s 10ms/step - loss: 0.0563 - accuracy: 0.9804 - val_loss: 0.2523 - val_accuracy: 0.9388\n",
      "Epoch 5/10\n",
      "375/375 [==============================] - 4s 10ms/step - loss: 0.0349 - accuracy: 0.9892 - val_loss: 0.2739 - val_accuracy: 0.9348\n",
      "Epoch 6/10\n",
      "375/375 [==============================] - 4s 10ms/step - loss: 0.0508 - accuracy: 0.9852 - val_loss: 0.2920 - val_accuracy: 0.9388\n",
      "Epoch 7/10\n",
      "375/375 [==============================] - 4s 10ms/step - loss: 0.0245 - accuracy: 0.9923 - val_loss: 0.3364 - val_accuracy: 0.9335\n",
      "Epoch 8/10\n",
      "375/375 [==============================] - 4s 10ms/step - loss: 0.0405 - accuracy: 0.9878 - val_loss: 0.3429 - val_accuracy: 0.9467\n",
      "Epoch 9/10\n",
      "375/375 [==============================] - 4s 10ms/step - loss: 0.0151 - accuracy: 0.9960 - val_loss: 0.3076 - val_accuracy: 0.9442\n",
      "Epoch 10/10\n",
      "375/375 [==============================] - 4s 10ms/step - loss: 0.0301 - accuracy: 0.9911 - val_loss: 0.3049 - val_accuracy: 0.9442\n"
     ]
    },
    {
     "data": {
      "text/plain": [
       "<keras.callbacks.History at 0x251bb598dc0>"
      ]
     },
     "execution_count": 21,
     "metadata": {},
     "output_type": "execute_result"
    }
   ],
   "source": [
    "from keras.models import Sequential\n",
    "from keras.layers import Conv2D, MaxPooling2D, Flatten, Dense\n",
    "\n",
    "model = Sequential()\n",
    "model.add(Conv2D(32, kernel_size=(3,3), input_shape=(64, 64, 3), activation='relu' ))\n",
    "model.add(Conv2D(128,(3,3), activation='relu'))\n",
    "model.add(MaxPooling2D(pool_size=(2,2)))\n",
    "model.add(Flatten())\n",
    "model.add(Dense(128, activation='relu'))  \n",
    "model.add(Dense(1, activation='sigmoid'))\n",
    "\n",
    "model.compile(loss='binary_crossentropy', optimizer='adam', metrics=['accuracy'])\n",
    "model.fit(X_train, y_train, validation_split=0.25, batch_size=32, epochs=10)"
   ]
  },
  {
   "cell_type": "code",
   "execution_count": 23,
   "metadata": {},
   "outputs": [
    {
     "name": "stdout",
     "output_type": "stream",
     "text": [
      "Epoch 1/10\n",
      "375/375 [==============================] - 4s 10ms/step - loss: 0.0298 - accuracy: 0.9919 - val_loss: 0.3373 - val_accuracy: 0.9457\n",
      "Epoch 2/10\n",
      "375/375 [==============================] - 4s 10ms/step - loss: 0.0179 - accuracy: 0.9948 - val_loss: 0.3108 - val_accuracy: 0.9490\n",
      "Epoch 3/10\n",
      "375/375 [==============================] - 4s 10ms/step - loss: 0.0191 - accuracy: 0.9944 - val_loss: 0.3207 - val_accuracy: 0.9440\n",
      "Epoch 4/10\n",
      "375/375 [==============================] - 4s 10ms/step - loss: 0.0070 - accuracy: 0.9977 - val_loss: 0.4483 - val_accuracy: 0.9445\n",
      "Epoch 5/10\n",
      "375/375 [==============================] - 4s 10ms/step - loss: 0.0183 - accuracy: 0.9947 - val_loss: 0.3555 - val_accuracy: 0.9530\n",
      "Epoch 6/10\n",
      "375/375 [==============================] - 4s 10ms/step - loss: 0.0024 - accuracy: 0.9993 - val_loss: 0.3224 - val_accuracy: 0.9580\n",
      "Epoch 7/10\n",
      "375/375 [==============================] - 4s 10ms/step - loss: 2.8086e-04 - accuracy: 1.0000 - val_loss: 0.3442 - val_accuracy: 0.9592\n",
      "Epoch 8/10\n",
      "375/375 [==============================] - 4s 10ms/step - loss: 8.4104e-05 - accuracy: 1.0000 - val_loss: 0.3528 - val_accuracy: 0.9592\n",
      "Epoch 9/10\n",
      "375/375 [==============================] - 4s 10ms/step - loss: 4.8949e-05 - accuracy: 1.0000 - val_loss: 0.3605 - val_accuracy: 0.9590\n",
      "Epoch 10/10\n",
      "375/375 [==============================] - 4s 10ms/step - loss: 3.3361e-05 - accuracy: 1.0000 - val_loss: 0.3686 - val_accuracy: 0.9585\n",
      "125/125 [==============================] - 0s 3ms/step - loss: 0.3368 - accuracy: 0.9555\n",
      "\n",
      " test acc: 0.9555\n"
     ]
    }
   ],
   "source": [
    "history = model.fit(X_train, y_train, validation_split=0.25, batch_size=32, epochs=10)\n",
    "\n",
    "#테스트 정확도 출력\n",
    "print('\\n test acc: %.4f' %(model.evaluate(X_test, y_test)[1])) "
   ]
  },
  {
   "cell_type": "code",
   "execution_count": 25,
   "metadata": {},
   "outputs": [
    {
     "data": {
      "image/png": "[encoded data removed]",
      "text/plain": [
       "<Figure size 640x480 with 1 Axes>"
      ]
     },
     "metadata": {},
     "output_type": "display_data"
    }
   ],
   "source": [
    "#학습용 데이터 셋/검증 셋 오차 저장\n",
    "\n",
    "y_vloss=history.history['val_loss']\n",
    "y_loss=history.history['loss']\n",
    "\n",
    "#그래프로 표현\n",
    "x_len=np.arange(len(y_loss))\n",
    "\n",
    "plt.plot(x_len, y_vloss, marker='o', c='red', label='Validation Dataset loss')\n",
    "plt.plot(x_len, y_loss, marker='o', c='blue', label='Train Dataset loss')\n",
    "\n",
    "plt.legend(loc='best')\n",
    "plt.grid()\n",
    "plt.xlabel('epoch')\n",
    "plt.ylabel('loss')\n",
    "plt.show()"
   ]
  },
  {
   "cell_type": "code",
   "execution_count": null,
   "metadata": {},
   "outputs": [],
   "source": []
  }
 ],
 "metadata": {
  "kernelspec": {
   "display_name": "base",
   "language": "python",
   "name": "python3"
  },
  "language_info": {
   "codemirror_mode": {
    "name": "ipython",
    "version": 3
   },
   "file_extension": ".py",
   "mimetype": "text/x-python",
   "name": "python",
   "nbconvert_exporter": "python",
   "pygments_lexer": "ipython3",
   "version": "3.9.13"
  },
  "orig_nbformat": 4
 },
 "nbformat": 4,
 "nbformat_minor": 2
}
