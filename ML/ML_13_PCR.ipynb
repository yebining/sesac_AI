{
  "nbformat": 4,
  "nbformat_minor": 0,
  "metadata": {
    "colab": {
      "provenance": []
    },
    "kernelspec": {
      "name": "python3",
      "display_name": "Python 3"
    },
    "language_info": {
      "name": "python"
    }
  },
  "cells": [
    {
      "cell_type": "code",
      "execution_count": null,
      "metadata": {
        "id": "bNYHJV485L7b"
      },
      "outputs": [],
      "source": [
        "# PCR (Principal Components Regression)\n",
        "\n",
        "import numpy as np\n",
        "import pandas as pd \n",
        "import matplotlib.pyplot as plt \n",
        "\n",
        "# PCA 라이브러리 불러오기 \n",
        "from sklearn.decomposition import PCA \n",
        "\n",
        "# 선형회귀 \n",
        "from sklearn import datasets, linear_model\n",
        "from sklearn.metrics import mean_squared_error, r2_score "
      ]
    },
    {
      "cell_type": "code",
      "source": [
        "path = '/content/drive/MyDrive/data/Advertising.csv'\n",
        "\n",
        "ad = pd.read_csv(path, index_col = 0)\n",
        "ad"
      ],
      "metadata": {
        "colab": {
          "base_uri": "https://localhost:8080/",
          "height": 424
        },
        "id": "FM4fbUmm5wqn",
        "outputId": "8c45e653-654f-41f7-8af8-4d04f120794c"
      },
      "execution_count": null,
      "outputs": [
        {
          "output_type": "execute_result",
          "data": {
            "text/plain": [
              "        TV  Radio  Newspaper  Sales\n",
              "1    230.1   37.8       69.2   22.1\n",
              "2     44.5   39.3       45.1   10.4\n",
              "3     17.2   45.9       69.3    9.3\n",
              "4    151.5   41.3       58.5   18.5\n",
              "5    180.8   10.8       58.4   12.9\n",
              "..     ...    ...        ...    ...\n",
              "196   38.2    3.7       13.8    7.6\n",
              "197   94.2    4.9        8.1    9.7\n",
              "198  177.0    9.3        6.4   12.8\n",
              "199  283.6   42.0       66.2   25.5\n",
              "200  232.1    8.6        8.7   13.4\n",
              "\n",
              "[200 rows x 4 columns]"
            ],
            "text/html": [
              "\n",
              "  <div id=\"df-483f316d-0781-49e1-873e-c46f7aed1562\">\n",
              "    <div class=\"colab-df-container\">\n",
              "      <div>\n",
              "<style scoped>\n",
              "    .dataframe tbody tr th:only-of-type {\n",
              "        vertical-align: middle;\n",
              "    }\n",
              "\n",
              "    .dataframe tbody tr th {\n",
              "        vertical-align: top;\n",
              "    }\n",
              "\n",
              "    .dataframe thead th {\n",
              "        text-align: right;\n",
              "    }\n",
              "</style>\n",
              "<table border=\"1\" class=\"dataframe\">\n",
              "  <thead>\n",
              "    <tr style=\"text-align: right;\">\n",
              "      <th></th>\n",
              "      <th>TV</th>\n",
              "      <th>Radio</th>\n",
              "      <th>Newspaper</th>\n",
              "      <th>Sales</th>\n",
              "    </tr>\n",
              "  </thead>\n",
              "  <tbody>\n",
              "    <tr>\n",
              "      <th>1</th>\n",
              "      <td>230.1</td>\n",
              "      <td>37.8</td>\n",
              "      <td>69.2</td>\n",
              "      <td>22.1</td>\n",
              "    </tr>\n",
              "    <tr>\n",
              "      <th>2</th>\n",
              "      <td>44.5</td>\n",
              "      <td>39.3</td>\n",
              "      <td>45.1</td>\n",
              "      <td>10.4</td>\n",
              "    </tr>\n",
              "    <tr>\n",
              "      <th>3</th>\n",
              "      <td>17.2</td>\n",
              "      <td>45.9</td>\n",
              "      <td>69.3</td>\n",
              "      <td>9.3</td>\n",
              "    </tr>\n",
              "    <tr>\n",
              "      <th>4</th>\n",
              "      <td>151.5</td>\n",
              "      <td>41.3</td>\n",
              "      <td>58.5</td>\n",
              "      <td>18.5</td>\n",
              "    </tr>\n",
              "    <tr>\n",
              "      <th>5</th>\n",
              "      <td>180.8</td>\n",
              "      <td>10.8</td>\n",
              "      <td>58.4</td>\n",
              "      <td>12.9</td>\n",
              "    </tr>\n",
              "    <tr>\n",
              "      <th>...</th>\n",
              "      <td>...</td>\n",
              "      <td>...</td>\n",
              "      <td>...</td>\n",
              "      <td>...</td>\n",
              "    </tr>\n",
              "    <tr>\n",
              "      <th>196</th>\n",
              "      <td>38.2</td>\n",
              "      <td>3.7</td>\n",
              "      <td>13.8</td>\n",
              "      <td>7.6</td>\n",
              "    </tr>\n",
              "    <tr>\n",
              "      <th>197</th>\n",
              "      <td>94.2</td>\n",
              "      <td>4.9</td>\n",
              "      <td>8.1</td>\n",
              "      <td>9.7</td>\n",
              "    </tr>\n",
              "    <tr>\n",
              "      <th>198</th>\n",
              "      <td>177.0</td>\n",
              "      <td>9.3</td>\n",
              "      <td>6.4</td>\n",
              "      <td>12.8</td>\n",
              "    </tr>\n",
              "    <tr>\n",
              "      <th>199</th>\n",
              "      <td>283.6</td>\n",
              "      <td>42.0</td>\n",
              "      <td>66.2</td>\n",
              "      <td>25.5</td>\n",
              "    </tr>\n",
              "    <tr>\n",
              "      <th>200</th>\n",
              "      <td>232.1</td>\n",
              "      <td>8.6</td>\n",
              "      <td>8.7</td>\n",
              "      <td>13.4</td>\n",
              "    </tr>\n",
              "  </tbody>\n",
              "</table>\n",
              "<p>200 rows × 4 columns</p>\n",
              "</div>\n",
              "      <button class=\"colab-df-convert\" onclick=\"convertToInteractive('df-483f316d-0781-49e1-873e-c46f7aed1562')\"\n",
              "              title=\"Convert this dataframe to an interactive table.\"\n",
              "              style=\"display:none;\">\n",
              "        \n",
              "  <svg xmlns=\"http://www.w3.org/2000/svg\" height=\"24px\"viewBox=\"0 0 24 24\"\n",
              "       width=\"24px\">\n",
              "    <path d=\"M0 0h24v24H0V0z\" fill=\"none\"/>\n",
              "    <path d=\"M18.56 5.44l.94 2.06.94-2.06 2.06-.94-2.06-.94-.94-2.06-.94 2.06-2.06.94zm-11 1L8.5 8.5l.94-2.06 2.06-.94-2.06-.94L8.5 2.5l-.94 2.06-2.06.94zm10 10l.94 2.06.94-2.06 2.06-.94-2.06-.94-.94-2.06-.94 2.06-2.06.94z\"/><path d=\"M17.41 7.96l-1.37-1.37c-.4-.4-.92-.59-1.43-.59-.52 0-1.04.2-1.43.59L10.3 9.45l-7.72 7.72c-.78.78-.78 2.05 0 2.83L4 21.41c.39.39.9.59 1.41.59.51 0 1.02-.2 1.41-.59l7.78-7.78 2.81-2.81c.8-.78.8-2.07 0-2.86zM5.41 20L4 18.59l7.72-7.72 1.47 1.35L5.41 20z\"/>\n",
              "  </svg>\n",
              "      </button>\n",
              "      \n",
              "  <style>\n",
              "    .colab-df-container {\n",
              "      display:flex;\n",
              "      flex-wrap:wrap;\n",
              "      gap: 12px;\n",
              "    }\n",
              "\n",
              "    .colab-df-convert {\n",
              "      background-color: #E8F0FE;\n",
              "      border: none;\n",
              "      border-radius: 50%;\n",
              "      cursor: pointer;\n",
              "      display: none;\n",
              "      fill: #1967D2;\n",
              "      height: 32px;\n",
              "      padding: 0 0 0 0;\n",
              "      width: 32px;\n",
              "    }\n",
              "\n",
              "    .colab-df-convert:hover {\n",
              "      background-color: #E2EBFA;\n",
              "      box-shadow: 0px 1px 2px rgba(60, 64, 67, 0.3), 0px 1px 3px 1px rgba(60, 64, 67, 0.15);\n",
              "      fill: #174EA6;\n",
              "    }\n",
              "\n",
              "    [theme=dark] .colab-df-convert {\n",
              "      background-color: #3B4455;\n",
              "      fill: #D2E3FC;\n",
              "    }\n",
              "\n",
              "    [theme=dark] .colab-df-convert:hover {\n",
              "      background-color: #434B5C;\n",
              "      box-shadow: 0px 1px 3px 1px rgba(0, 0, 0, 0.15);\n",
              "      filter: drop-shadow(0px 1px 2px rgba(0, 0, 0, 0.3));\n",
              "      fill: #FFFFFF;\n",
              "    }\n",
              "  </style>\n",
              "\n",
              "      <script>\n",
              "        const buttonEl =\n",
              "          document.querySelector('#df-483f316d-0781-49e1-873e-c46f7aed1562 button.colab-df-convert');\n",
              "        buttonEl.style.display =\n",
              "          google.colab.kernel.accessAllowed ? 'block' : 'none';\n",
              "\n",
              "        async function convertToInteractive(key) {\n",
              "          const element = document.querySelector('#df-483f316d-0781-49e1-873e-c46f7aed1562');\n",
              "          const dataTable =\n",
              "            await google.colab.kernel.invokeFunction('convertToInteractive',\n",
              "                                                     [key], {});\n",
              "          if (!dataTable) return;\n",
              "\n",
              "          const docLinkHtml = 'Like what you see? Visit the ' +\n",
              "            '<a target=\"_blank\" href=https://colab.research.google.com/notebooks/data_table.ipynb>data table notebook</a>'\n",
              "            + ' to learn more about interactive tables.';\n",
              "          element.innerHTML = '';\n",
              "          dataTable['output_type'] = 'display_data';\n",
              "          await google.colab.output.renderOutput(dataTable, element);\n",
              "          const docLink = document.createElement('div');\n",
              "          docLink.innerHTML = docLinkHtml;\n",
              "          element.appendChild(docLink);\n",
              "        }\n",
              "      </script>\n",
              "    </div>\n",
              "  </div>\n",
              "  "
            ]
          },
          "metadata": {},
          "execution_count": 4
        }
      ]
    },
    {
      "cell_type": "code",
      "source": [
        "# PCR with advertising data \n",
        "\n",
        "# feature와 response 분리 \n",
        "\n",
        "ad.columns"
      ],
      "metadata": {
        "colab": {
          "base_uri": "https://localhost:8080/"
        },
        "id": "IinB6Axg6GcC",
        "outputId": "549b6a90-adbb-464e-8a0b-7811229303dd"
      },
      "execution_count": null,
      "outputs": [
        {
          "output_type": "execute_result",
          "data": {
            "text/plain": [
              "Index(['TV', 'Radio', 'Newspaper', 'Sales'], dtype='object')"
            ]
          },
          "metadata": {},
          "execution_count": 5
        }
      ]
    },
    {
      "cell_type": "code",
      "source": [
        "x = ad[['TV', 'Radio', 'Newspaper']]\n",
        "y = ad[['Sales']]\n",
        "\n",
        "print(x)\n",
        "print(y)\n",
        "print(y)"
      ],
      "metadata": {
        "colab": {
          "base_uri": "https://localhost:8080/"
        },
        "id": "lAWsEaQk6Roj",
        "outputId": "0fc5c94e-1834-4ed4-d42f-829bef4f2fac"
      },
      "execution_count": null,
      "outputs": [
        {
          "output_type": "stream",
          "name": "stdout",
          "text": [
            "        TV  Radio  Newspaper\n",
            "1    230.1   37.8       69.2\n",
            "2     44.5   39.3       45.1\n",
            "3     17.2   45.9       69.3\n",
            "4    151.5   41.3       58.5\n",
            "5    180.8   10.8       58.4\n",
            "..     ...    ...        ...\n",
            "196   38.2    3.7       13.8\n",
            "197   94.2    4.9        8.1\n",
            "198  177.0    9.3        6.4\n",
            "199  283.6   42.0       66.2\n",
            "200  232.1    8.6        8.7\n",
            "\n",
            "[200 rows x 3 columns]\n",
            "     Sales\n",
            "1     22.1\n",
            "2     10.4\n",
            "3      9.3\n",
            "4     18.5\n",
            "5     12.9\n",
            "..     ...\n",
            "196    7.6\n",
            "197    9.7\n",
            "198   12.8\n",
            "199   25.5\n",
            "200   13.4\n",
            "\n",
            "[200 rows x 1 columns]\n",
            "     Sales\n",
            "1     22.1\n",
            "2     10.4\n",
            "3      9.3\n",
            "4     18.5\n",
            "5     12.9\n",
            "..     ...\n",
            "196    7.6\n",
            "197    9.7\n",
            "198   12.8\n",
            "199   25.5\n",
            "200   13.4\n",
            "\n",
            "[200 rows x 1 columns]\n"
          ]
        }
      ]
    },
    {
      "cell_type": "code",
      "source": [
        "# 차원 축소 (2개 변수 사용 >> 2차원 축소) PCA\n",
        "\n",
        "pca = PCA(n_components=2)"
      ],
      "metadata": {
        "id": "vX2ePMGo6coa"
      },
      "execution_count": null,
      "outputs": []
    },
    {
      "cell_type": "code",
      "source": [
        "# 적합 (fitting)\n",
        "pca.fit(x)"
      ],
      "metadata": {
        "colab": {
          "base_uri": "https://localhost:8080/",
          "height": 75
        },
        "id": "EzgQYssi659y",
        "outputId": "e85c5bb5-8952-4633-c29b-d9a67a6d6178"
      },
      "execution_count": null,
      "outputs": [
        {
          "output_type": "execute_result",
          "data": {
            "text/plain": [
              "PCA(n_components=2)"
            ],
            "text/html": [
              "<style>#sk-container-id-1 {color: black;background-color: white;}#sk-container-id-1 pre{padding: 0;}#sk-container-id-1 div.sk-toggleable {background-color: white;}#sk-container-id-1 label.sk-toggleable__label {cursor: pointer;display: block;width: 100%;margin-bottom: 0;padding: 0.3em;box-sizing: border-box;text-align: center;}#sk-container-id-1 label.sk-toggleable__label-arrow:before {content: \"▸\";float: left;margin-right: 0.25em;color: #696969;}#sk-container-id-1 label.sk-toggleable__label-arrow:hover:before {color: black;}#sk-container-id-1 div.sk-estimator:hover label.sk-toggleable__label-arrow:before {color: black;}#sk-container-id-1 div.sk-toggleable__content {max-height: 0;max-width: 0;overflow: hidden;text-align: left;background-color: #f0f8ff;}#sk-container-id-1 div.sk-toggleable__content pre {margin: 0.2em;color: black;border-radius: 0.25em;background-color: #f0f8ff;}#sk-container-id-1 input.sk-toggleable__control:checked~div.sk-toggleable__content {max-height: 200px;max-width: 100%;overflow: auto;}#sk-container-id-1 input.sk-toggleable__control:checked~label.sk-toggleable__label-arrow:before {content: \"▾\";}#sk-container-id-1 div.sk-estimator input.sk-toggleable__control:checked~label.sk-toggleable__label {background-color: #d4ebff;}#sk-container-id-1 div.sk-label input.sk-toggleable__control:checked~label.sk-toggleable__label {background-color: #d4ebff;}#sk-container-id-1 input.sk-hidden--visually {border: 0;clip: rect(1px 1px 1px 1px);clip: rect(1px, 1px, 1px, 1px);height: 1px;margin: -1px;overflow: hidden;padding: 0;position: absolute;width: 1px;}#sk-container-id-1 div.sk-estimator {font-family: monospace;background-color: #f0f8ff;border: 1px dotted black;border-radius: 0.25em;box-sizing: border-box;margin-bottom: 0.5em;}#sk-container-id-1 div.sk-estimator:hover {background-color: #d4ebff;}#sk-container-id-1 div.sk-parallel-item::after {content: \"\";width: 100%;border-bottom: 1px solid gray;flex-grow: 1;}#sk-container-id-1 div.sk-label:hover label.sk-toggleable__label {background-color: #d4ebff;}#sk-container-id-1 div.sk-serial::before {content: \"\";position: absolute;border-left: 1px solid gray;box-sizing: border-box;top: 0;bottom: 0;left: 50%;z-index: 0;}#sk-container-id-1 div.sk-serial {display: flex;flex-direction: column;align-items: center;background-color: white;padding-right: 0.2em;padding-left: 0.2em;position: relative;}#sk-container-id-1 div.sk-item {position: relative;z-index: 1;}#sk-container-id-1 div.sk-parallel {display: flex;align-items: stretch;justify-content: center;background-color: white;position: relative;}#sk-container-id-1 div.sk-item::before, #sk-container-id-1 div.sk-parallel-item::before {content: \"\";position: absolute;border-left: 1px solid gray;box-sizing: border-box;top: 0;bottom: 0;left: 50%;z-index: -1;}#sk-container-id-1 div.sk-parallel-item {display: flex;flex-direction: column;z-index: 1;position: relative;background-color: white;}#sk-container-id-1 div.sk-parallel-item:first-child::after {align-self: flex-end;width: 50%;}#sk-container-id-1 div.sk-parallel-item:last-child::after {align-self: flex-start;width: 50%;}#sk-container-id-1 div.sk-parallel-item:only-child::after {width: 0;}#sk-container-id-1 div.sk-dashed-wrapped {border: 1px dashed gray;margin: 0 0.4em 0.5em 0.4em;box-sizing: border-box;padding-bottom: 0.4em;background-color: white;}#sk-container-id-1 div.sk-label label {font-family: monospace;font-weight: bold;display: inline-block;line-height: 1.2em;}#sk-container-id-1 div.sk-label-container {text-align: center;}#sk-container-id-1 div.sk-container {/* jupyter's `normalize.less` sets `[hidden] { display: none; }` but bootstrap.min.css set `[hidden] { display: none !important; }` so we also need the `!important` here to be able to override the default hidden behavior on the sphinx rendered scikit-learn.org. See: https://github.com/scikit-learn/scikit-learn/issues/21755 */display: inline-block !important;position: relative;}#sk-container-id-1 div.sk-text-repr-fallback {display: none;}</style><div id=\"sk-container-id-1\" class=\"sk-top-container\"><div class=\"sk-text-repr-fallback\"><pre>PCA(n_components=2)</pre><b>In a Jupyter environment, please rerun this cell to show the HTML representation or trust the notebook. <br />On GitHub, the HTML representation is unable to render, please try loading this page with nbviewer.org.</b></div><div class=\"sk-container\" hidden><div class=\"sk-item\"><div class=\"sk-estimator sk-toggleable\"><input class=\"sk-toggleable__control sk-hidden--visually\" id=\"sk-estimator-id-1\" type=\"checkbox\" checked><label for=\"sk-estimator-id-1\" class=\"sk-toggleable__label sk-toggleable__label-arrow\">PCA</label><div class=\"sk-toggleable__content\"><pre>PCA(n_components=2)</pre></div></div></div></div></div>"
            ]
          },
          "metadata": {},
          "execution_count": 9
        }
      ]
    },
    {
      "cell_type": "code",
      "source": [
        "# 2개의 PC 의 분산설명력\n",
        "pca.explained_variance_"
      ],
      "metadata": {
        "colab": {
          "base_uri": "https://localhost:8080/"
        },
        "id": "FRcJDuwI6_yD",
        "outputId": "60b67e06-e656-4a23-9fd1-ed58e2abd140"
      },
      "execution_count": null,
      "outputs": [
        {
          "output_type": "execute_result",
          "data": {
            "text/plain": [
              "array([7373.2933766 ,  516.07662595])"
            ]
          },
          "metadata": {},
          "execution_count": 10
        }
      ]
    },
    {
      "cell_type": "code",
      "source": [
        "# 분산설명력 비율\n",
        "pca.explained_variance_ratio_\n",
        "# PC1 : 91.41% PC2: 6% >> 97.41% "
      ],
      "metadata": {
        "colab": {
          "base_uri": "https://localhost:8080/"
        },
        "id": "geYyeNbA7CC6",
        "outputId": "91d195e7-2999-4aa4-fd00-5863c5043028"
      },
      "execution_count": null,
      "outputs": [
        {
          "output_type": "execute_result",
          "data": {
            "text/plain": [
              "array([0.91415577, 0.06398422])"
            ]
          },
          "metadata": {},
          "execution_count": 12
        }
      ]
    },
    {
      "cell_type": "code",
      "source": [
        "# PC score \n",
        "\n",
        "z = pca.fit_transform(x)\n",
        "z"
      ],
      "metadata": {
        "colab": {
          "base_uri": "https://localhost:8080/"
        },
        "id": "aOTlV-o67FYA",
        "outputId": "495afc97-7d0d-4d3b-cac0-737287f3333f"
      },
      "execution_count": null,
      "outputs": [
        {
          "output_type": "execute_result",
          "data": {
            "text/plain": [
              "array([[ 8.37885459e+01,  3.97809922e+01],\n",
              "       [-1.02138730e+02,  2.11666084e+01],\n",
              "       [-1.28992484e+02,  4.66162737e+01],\n",
              "       [ 5.07097169e+00,  3.24605596e+01],\n",
              "       [ 3.40590034e+01,  2.09381554e+01],\n",
              "       [-1.37372550e+02,  5.31645709e+01],\n",
              "       [-8.95411919e+01, -1.56105218e+00],\n",
              "       [-2.71687122e+01, -1.85233852e+01],\n",
              "       [-1.39089396e+02, -3.26587125e+01],\n",
              "       [ 5.23964374e+01, -1.70725851e+01],\n",
              "       [-8.12021689e+01, -1.07115904e+01],\n",
              "       [ 6.72413078e+01, -2.57554904e+01],\n",
              "       [-1.22554515e+02,  3.94626040e+01],\n",
              "       [-5.00532789e+01, -2.65102072e+01],\n",
              "       [ 5.73839300e+01,  1.68358060e+01],\n",
              "       [ 4.89406812e+01,  2.87251422e+01],\n",
              "       [-7.78006550e+01,  8.41188799e+01],\n",
              "       [ 1.34889902e+02,  2.69844146e+01],\n",
              "       [-7.80470423e+01, -1.10237502e+01],\n",
              "       [ 8.60991305e-02, -1.04730127e+01],\n",
              "       [ 7.17442417e+01,  2.16291631e+01],\n",
              "       [ 9.00507477e+01, -1.47109210e+01],\n",
              "       [-1.33597890e+02,  1.75720041e+01],\n",
              "       [ 8.11123565e+01, -7.80836567e+00],\n",
              "       [-8.50249744e+01, -1.37222243e+01],\n",
              "       [ 1.15468311e+02, -1.94786694e+01],\n",
              "       [-4.35993325e+00, -1.45333861e+01],\n",
              "       [ 9.28571371e+01, -1.11745835e+01],\n",
              "       [ 1.01659797e+02, -7.61523086e+00],\n",
              "       [-7.63432223e+01,  8.35311738e+00],\n",
              "       [ 1.46079277e+02,  1.09726399e+01],\n",
              "       [-3.40705528e+01,  6.03469083e+00],\n",
              "       [-5.00605361e+01, -7.39426176e+00],\n",
              "       [ 1.18035162e+02, -3.15597687e+01],\n",
              "       [-5.19119540e+01, -2.85065681e+01],\n",
              "       [ 1.43098897e+02, -3.00383203e+01],\n",
              "       [ 1.19646195e+02, -1.86892193e+01],\n",
              "       [-7.18334307e+01,  2.47905053e+01],\n",
              "       [-1.03819829e+02,  7.35123207e+00],\n",
              "       [ 8.11106897e+01,  5.04618000e+00],\n",
              "       [ 5.54546196e+01, -3.69911780e-01],\n",
              "       [ 3.01802881e+01,  1.06875309e+01],\n",
              "       [ 1.46130767e+02, -2.79133738e+01],\n",
              "       [ 5.96339922e+01, -1.02724729e+01],\n",
              "       [-1.21699538e+02,  1.49762297e+01],\n",
              "       [ 2.80597433e+01,  1.03320750e-01],\n",
              "       [-5.73866975e+01,  1.06572132e+00],\n",
              "       [ 9.28372403e+01, -6.41706359e+00],\n",
              "       [ 8.03692695e+01,  1.39492599e+01],\n",
              "       [-8.01477164e+01,  3.14815723e+00],\n",
              "       [ 5.26093651e+01, -4.38110472e+00],\n",
              "       [-4.71896052e+01, -2.92095353e+01],\n",
              "       [ 6.96706482e+01,  1.37820618e+01],\n",
              "       [ 3.62178389e+01,  3.38363923e+01],\n",
              "       [ 1.15465834e+02, -1.37954355e+01],\n",
              "       [ 5.25672747e+01,  3.58993265e+01],\n",
              "       [-1.39501951e+02,  1.43813562e+01],\n",
              "       [-1.10978639e+01, -1.42865076e+01],\n",
              "       [ 6.41212307e+01,  1.49322178e+01],\n",
              "       [ 6.33793030e+01, -1.87686222e+01],\n",
              "       [-9.38815186e+01, -1.44564903e+01],\n",
              "       [ 1.14807304e+02,  2.74282903e+01],\n",
              "       [ 9.21135295e+01, -7.48028136e+00],\n",
              "       [-4.46152429e+01, -1.76216545e+01],\n",
              "       [-1.57698165e+01,  5.72503372e+00],\n",
              "       [-7.86291491e+01, -3.12705574e+01],\n",
              "       [-1.15949372e+02, -2.39113313e+01],\n",
              "       [-8.14476270e+00, -2.19983923e+01],\n",
              "       [ 9.00811002e+01, -1.83783918e+01],\n",
              "       [ 6.99002060e+01,  2.98202244e+00],\n",
              "       [ 5.22484807e+01,  9.28755228e+00],\n",
              "       [-3.73081305e+01, -1.46027083e+00],\n",
              "       [-1.20299123e+02, -4.85672914e+00],\n",
              "       [-1.78037980e+01, -5.26129051e+00],\n",
              "       [ 6.60887377e+01, -1.70200830e+01],\n",
              "       [-1.29002582e+02,  6.46046966e+01],\n",
              "       [-1.19891952e+02, -1.47832489e+01],\n",
              "       [-2.67392980e+01, -1.29204251e+01],\n",
              "       [-1.41880129e+02, -1.48223686e+01],\n",
              "       [-3.13087204e+01, -1.19615036e+01],\n",
              "       [-7.07241188e+01, -5.20304925e+00],\n",
              "       [ 9.26482454e+01, -2.59885400e+00],\n",
              "       [-7.17297513e+01,  2.05437765e+00],\n",
              "       [-7.83381403e+01,  1.37219867e+01],\n",
              "       [ 6.66941651e+01,  8.88305038e+00],\n",
              "       [ 4.66462637e+01,  3.02467058e+01],\n",
              "       [-7.09138445e+01, -1.07982355e+01],\n",
              "       [-3.56561528e+01,  3.73365111e+01],\n",
              "       [-5.80452727e+01,  4.18697931e+01],\n",
              "       [-3.66669946e+01,  2.89070500e+01],\n",
              "       [-1.32540071e+01, -2.61791288e+01],\n",
              "       [-1.18602288e+02, -3.35323383e+00],\n",
              "       [ 7.11893332e+01,  2.89437437e+01],\n",
              "       [ 1.04620082e+02,  4.18353012e+01],\n",
              "       [-4.00334681e+01, -2.09469622e+01],\n",
              "       [ 1.66849335e+01,  2.35516803e+01],\n",
              "       [ 4.99684229e+01, -3.09982053e+01],\n",
              "       [ 3.76956449e+01, -9.48083069e+00],\n",
              "       [ 1.43144148e+02,  2.35038670e+01],\n",
              "       [-1.14177507e+01,  2.11322917e+01],\n",
              "       [ 7.54533780e+01,  9.83295361e+00],\n",
              "       [ 1.50554091e+02,  6.76480307e+01],\n",
              "       [ 1.32860933e+02, -1.56584994e+01],\n",
              "       [ 4.05934634e+01, -1.47215629e+01],\n",
              "       [ 9.08606136e+01, -2.12853931e+01],\n",
              "       [-8.46788059e+00,  3.49957655e+01],\n",
              "       [-1.22157748e+02, -2.97474705e+00],\n",
              "       [-5.69769050e+01, -1.40499940e+01],\n",
              "       [-1.34225482e+02, -1.03762887e+01],\n",
              "       [ 1.07986682e+02, -2.40539336e+01],\n",
              "       [ 7.89958123e+01,  1.74216257e+01],\n",
              "       [ 9.46748126e+01, -3.31154155e+00],\n",
              "       [ 2.81370138e+01, -2.96181120e+01],\n",
              "       [ 6.22120911e+01, -2.06219618e+01],\n",
              "       [-6.85338479e+01,  1.33396565e+01],\n",
              "       [-7.14690819e+01,  2.61737961e+01],\n",
              "       [-8.00779467e+00, -7.68767655e+00],\n",
              "       [-7.10998491e+01, -2.14621663e+01],\n",
              "       [-2.04474981e+01,  5.06838646e+01],\n",
              "       [-1.27821546e+02, -7.99679230e+00],\n",
              "       [-5.46334123e+00,  1.59774984e+01],\n",
              "       [-1.27928352e+02,  2.02905422e+01],\n",
              "       [ 7.65034155e+01, -2.28105998e+01],\n",
              "       [-2.41065870e+01, -1.24683226e+01],\n",
              "       [ 8.32111548e+01,  4.24952967e+01],\n",
              "       [-6.00193065e+01, -7.36126495e+00],\n",
              "       [-1.38751136e+02,  2.68227112e+01],\n",
              "       [-6.73954004e+01, -2.70459546e+01],\n",
              "       [ 7.30782839e+01, -1.76696609e+01],\n",
              "       [-8.73457136e+01,  9.27016577e+00],\n",
              "       [-1.46493056e+02, -1.19246750e+01],\n",
              "       [ 1.18126548e+02,  2.20943858e+00],\n",
              "       [-1.39020948e+02, -2.26581335e+01],\n",
              "       [ 7.30732961e+01,  1.59261004e+01],\n",
              "       [-1.09426355e+02,  4.01965078e+01],\n",
              "       [-9.88301746e+01, -1.03271206e+01],\n",
              "       [-1.21594001e+02, -1.20287800e+01],\n",
              "       [ 1.27144582e+02,  2.69415674e+01],\n",
              "       [-1.04154364e+02, -6.56619910e+00],\n",
              "       [ 3.76099759e+01, -2.02531900e+01],\n",
              "       [-7.39665957e+01, -1.73928869e+01],\n",
              "       [ 4.74700257e+01,  4.55573610e+01],\n",
              "       [ 7.36584540e+01,  9.08294706e+00],\n",
              "       [-4.25514677e+01, -1.91838331e+00],\n",
              "       [-5.07890857e+01,  5.68746793e+00],\n",
              "       [-7.28972654e+00, -2.76397778e+01],\n",
              "       [ 9.25426737e+01, -2.77936215e+01],\n",
              "       [ 9.66121059e+01,  2.02953278e+01],\n",
              "       [-1.09142754e+02, -9.36042998e+00],\n",
              "       [-1.02454103e+02, -6.53927655e+00],\n",
              "       [ 1.33640957e+02,  2.57581471e-01],\n",
              "       [-2.59053416e+01,  1.21033454e+01],\n",
              "       [ 5.02954823e+01, -1.61719658e+01],\n",
              "       [ 2.45288304e+01,  1.21081261e+01],\n",
              "       [ 4.04021958e+01, -2.11698870e+01],\n",
              "       [-1.43420571e+02, -2.47936341e+01],\n",
              "       [-5.26213071e+01,  2.68173054e+01],\n",
              "       [ 2.44004722e+00, -1.37388655e+01],\n",
              "       [-1.34955618e+02,  2.09950392e+01],\n",
              "       [-1.53258109e+01,  2.31715871e+00],\n",
              "       [ 2.54037129e+01, -2.16912234e+00],\n",
              "       [-6.09156346e+01,  2.30932465e+01],\n",
              "       [ 4.12218674e+01, -7.21878164e+00],\n",
              "       [ 1.62309714e+01, -1.70811395e+01],\n",
              "       [-3.03134703e+01, -2.60097525e+01],\n",
              "       [ 8.80853788e+01,  4.19753556e+01],\n",
              "       [-1.29115854e+02, -9.04313230e-01],\n",
              "       [ 5.93933498e+01, -1.79507622e+01],\n",
              "       [ 6.87688660e+01,  2.41401119e+01],\n",
              "       [ 1.36732494e+02, -2.95607732e+01],\n",
              "       [-9.73313390e+01, -1.37639371e+01],\n",
              "       [ 1.76922409e+01,  1.45703678e+01],\n",
              "       [-1.27662761e+02, -1.14843131e+01],\n",
              "       [ 2.09165157e+01, -2.27408766e+01],\n",
              "       [ 7.48749109e+01, -2.47588016e+01],\n",
              "       [ 1.30266566e+02,  1.73161291e+01],\n",
              "       [ 1.01250565e+02, -8.92803585e+00],\n",
              "       [ 2.30707875e+01, -1.60633226e+00],\n",
              "       [ 1.29319110e+02, -1.62349587e+01],\n",
              "       [ 1.82205122e+01, -1.71717309e+01],\n",
              "       [ 9.00364188e+00, -2.83378314e+01],\n",
              "       [ 7.12174892e+01, -1.06203899e+01],\n",
              "       [-9.10161413e+01, -5.43257556e+00],\n",
              "       [ 1.41371155e+02,  4.30280636e+01],\n",
              "       [ 1.06711031e+02, -3.14837031e+00],\n",
              "       [ 5.79963096e+01, -3.47271912e+00],\n",
              "       [-7.81449738e+00, -1.11191274e+01],\n",
              "       [ 4.39127311e+01, -1.03895852e+01],\n",
              "       [ 1.38423355e+02, -3.09334334e+01],\n",
              "       [-1.28543412e+02, -8.35068581e+00],\n",
              "       [-1.07729650e+02, -1.47977713e+01],\n",
              "       [-7.20361029e+01, -2.60896399e+01],\n",
              "       [-1.29996031e+02, -3.52539232e+00],\n",
              "       [ 1.95235176e+01, -1.88308946e+01],\n",
              "       [ 2.39958515e+00, -1.85679051e+01],\n",
              "       [-1.09279811e+02, -2.06693030e+01],\n",
              "       [-5.33657885e+01, -2.65750400e+01],\n",
              "       [ 2.94377740e+01, -2.80863504e+01],\n",
              "       [ 1.37274931e+02,  3.75137548e+01],\n",
              "       [ 8.45570559e+01, -2.71844843e+01]])"
            ]
          },
          "metadata": {},
          "execution_count": 13
        }
      ]
    },
    {
      "cell_type": "code",
      "source": [
        "# PCA를 한 후, scailing 된 값을 활용\n",
        "# 훈련용 셋, 테스트 셋 구분 \n",
        "\n",
        "train_z = z[:-20]\n",
        "test_z = z[-20:]\n",
        "\n",
        "train_y = y[:-20]\n",
        "test_y = y[-20:]"
      ],
      "metadata": {
        "id": "B1gyVsSr7lK_"
      },
      "execution_count": null,
      "outputs": []
    },
    {
      "cell_type": "code",
      "source": [
        "# 선형회귀 객체 생성 \n",
        "regr  = linear_model.LinearRegression()\n",
        "\n",
        "# training data를 이용, 적합 \n",
        "regr.fit(train_z, train_y)\n",
        "\n",
        "# training data를 이용, 예측 \n",
        "train_y_pred  = regr.predict(train_z)\n",
        "# (**)test data 이용, 예측\n",
        "test_y_pred = regr.predict(test_z)"
      ],
      "metadata": {
        "id": "PjZSqnxT8Ux3"
      },
      "execution_count": null,
      "outputs": []
    },
    {
      "cell_type": "code",
      "source": [
        "# 회귀 계수(coefficients)\n",
        "print('coefficients: \\n', regr.coef_)"
      ],
      "metadata": {
        "colab": {
          "base_uri": "https://localhost:8080/"
        },
        "id": "_AYqsG3D8z4M",
        "outputId": "279a3df2-8326-4f9f-9578-fea6296a0c64"
      },
      "execution_count": null,
      "outputs": [
        {
          "output_type": "stream",
          "name": "stdout",
          "text": [
            "coefficients: \n",
            " [[0.04749783 0.06306131]]\n"
          ]
        }
      ]
    },
    {
      "cell_type": "code",
      "source": [
        "# training MSE \n",
        "print(\"Training_MSE: %0.4f\"% mean_squared_error(train_y, train_y_pred) )"
      ],
      "metadata": {
        "colab": {
          "base_uri": "https://localhost:8080/"
        },
        "id": "pgyG39PL9Agz",
        "outputId": "b16ace3d-504e-4076-f1ea-d35fe0364794"
      },
      "execution_count": null,
      "outputs": [
        {
          "output_type": "stream",
          "name": "stdout",
          "text": [
            "Training_MSE: 8.2043\n"
          ]
        }
      ]
    },
    {
      "cell_type": "code",
      "source": [
        "# test MSE \n",
        "print(\"Test_MSE: %0.4f\"% mean_squared_error(test_y, test_y_pred) )"
      ],
      "metadata": {
        "colab": {
          "base_uri": "https://localhost:8080/"
        },
        "id": "8qlTDMfU9VoX",
        "outputId": "d881969f-49e2-4a62-f5d6-abbf5fb5e95a"
      },
      "execution_count": null,
      "outputs": [
        {
          "output_type": "stream",
          "name": "stdout",
          "text": [
            "Test_MSE: 8.5583\n"
          ]
        }
      ]
    },
    {
      "cell_type": "code",
      "source": [
        "# training R^2\n",
        "print(\"R^2: %.4f\"% r2_score(train_y, train_y_pred))"
      ],
      "metadata": {
        "colab": {
          "base_uri": "https://localhost:8080/"
        },
        "id": "X1MU3oME9bg0",
        "outputId": "cfd72ced-7a5b-4f50-d564-bbc5971c0ed7"
      },
      "execution_count": null,
      "outputs": [
        {
          "output_type": "stream",
          "name": "stdout",
          "text": [
            "R^2: 0.6876\n"
          ]
        }
      ]
    },
    {
      "cell_type": "code",
      "source": [
        "# test R^2\n",
        "print(\"R^2: %.4f\"% r2_score(test_y, test_y_pred))"
      ],
      "metadata": {
        "colab": {
          "base_uri": "https://localhost:8080/"
        },
        "id": "sMUeKYSH9oHs",
        "outputId": "2554165c-82a4-4389-ef49-7498953cdf6b"
      },
      "execution_count": null,
      "outputs": [
        {
          "output_type": "stream",
          "name": "stdout",
          "text": [
            "R^2: 0.7517\n"
          ]
        }
      ]
    },
    {
      "cell_type": "code",
      "source": [],
      "metadata": {
        "id": "iB0Y5DgN9r4i"
      },
      "execution_count": null,
      "outputs": []
    }
  ]
}