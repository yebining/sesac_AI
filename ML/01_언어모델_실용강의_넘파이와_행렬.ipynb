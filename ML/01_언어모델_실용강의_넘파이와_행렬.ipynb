{
  "nbformat": 4,
  "nbformat_minor": 0,
  "metadata": {
    "colab": {
      "provenance": []
    },
    "kernelspec": {
      "name": "python3",
      "display_name": "Python 3"
    },
    "language_info": {
      "name": "python"
    }
  },
  "cells": [
    {
      "cell_type": "markdown",
      "source": [
        "# 1차원 배열"
      ],
      "metadata": {
        "id": "IPGGm6Et4f4W"
      }
    },
    {
      "cell_type": "code",
      "execution_count": null,
      "metadata": {
        "id": "1VfFFN2E3VEF",
        "colab": {
          "base_uri": "https://localhost:8080/"
        },
        "outputId": "6edc978b-3fb9-4bb4-9481-1c606a9c55a2"
      },
      "outputs": [
        {
          "output_type": "stream",
          "name": "stdout",
          "text": [
            "1\n",
            "(2,)\n"
          ]
        }
      ],
      "source": [
        "import numpy as np\n",
        "a = np.array( [30, 10] )\n",
        "\n",
        "print( a.ndim )         \n",
        "print( a.shape )    \n",
        "\n",
        "\n"
      ]
    },
    {
      "cell_type": "code",
      "source": [
        "import numpy as np\n",
        "a = np.array( [90, 70, 80] )\n",
        "\n",
        "print( a.ndim )         \n",
        "print( a.shape )    \n",
        "\n",
        "\n",
        "\n"
      ],
      "metadata": {
        "id": "JTKC56gB3ith",
        "colab": {
          "base_uri": "https://localhost:8080/"
        },
        "outputId": "6381d45a-9fbd-4731-bdf1-4a245050f646"
      },
      "execution_count": null,
      "outputs": [
        {
          "output_type": "stream",
          "name": "stdout",
          "text": [
            "1\n",
            "(3,)\n"
          ]
        }
      ]
    },
    {
      "cell_type": "markdown",
      "source": [
        "# 2차원 배열"
      ],
      "metadata": {
        "id": "lS9VpkXl4lOp"
      }
    },
    {
      "cell_type": "code",
      "source": [
        "import numpy as np\n",
        "\n",
        "a = np.array( [[30, 10], [80, 30], [80, 30], [80, 30]] )\n",
        "\n",
        "\n",
        "print( a.ndim )         \n",
        "print( a.shape )    \n",
        "\n",
        "\n",
        "\n"
      ],
      "metadata": {
        "id": "FUYF7sC74Bp6",
        "colab": {
          "base_uri": "https://localhost:8080/"
        },
        "outputId": "40245b7e-71f1-4cbf-a8f2-6ec440e5fdc4"
      },
      "execution_count": null,
      "outputs": [
        {
          "output_type": "stream",
          "name": "stdout",
          "text": [
            "2\n",
            "(3, 2)\n"
          ]
        }
      ]
    },
    {
      "cell_type": "code",
      "source": [
        "import numpy as np\n",
        "\n",
        "a = np.array( [[90, 70, 80], [80, 100, 40],\n",
        "               [70, 50, 100], [80, 100, 40],\n",
        "               [80, 100, 40],])\n",
        "\n",
        "\n",
        "print( a.ndim )         \n",
        "print( a.shape )    \n",
        "\n",
        "\n",
        "\n"
      ],
      "metadata": {
        "id": "qMvgMsUF4IHA"
      },
      "execution_count": null,
      "outputs": []
    },
    {
      "cell_type": "markdown",
      "source": [
        "# 3차원 배열"
      ],
      "metadata": {
        "id": "cj2PJ_vn4mvM"
      }
    },
    {
      "cell_type": "code",
      "source": [
        "import numpy as np\n",
        "\n",
        "a = np.array( [[[30, 10], \n",
        "                [80, 30]],\n",
        "               [[40, 20], \n",
        "                [60, 10]]])\n",
        "\n",
        "print( a.ndim )         \n",
        "print( a.shape )    \n",
        "\n",
        "\n"
      ],
      "metadata": {
        "id": "zeDE4Brs4N9Q"
      },
      "execution_count": null,
      "outputs": []
    },
    {
      "cell_type": "code",
      "source": [
        "import numpy as np\n",
        "\n",
        "a = np.array( [[[30, 10, 10], \n",
        "                [80, 30, 10]],\n",
        "               [[40, 20, 20], \n",
        "                [60, 10, 30]]])\n",
        "\n"
      ],
      "metadata": {
        "id": "OTSya8Haugo0"
      },
      "execution_count": null,
      "outputs": []
    },
    {
      "cell_type": "code",
      "source": [
        "print( a.ndim )         \n",
        "print( a.shape )    "
      ],
      "metadata": {
        "id": "Y_u1hDHvuo2c"
      },
      "execution_count": null,
      "outputs": []
    }
  ]
}